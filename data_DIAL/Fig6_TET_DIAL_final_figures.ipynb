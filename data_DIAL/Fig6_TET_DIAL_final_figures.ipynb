{
 "cells": [
  {
   "cell_type": "markdown",
   "metadata": {},
   "source": [
    "# Final Figures for TET DIAL"
   ]
  },
  {
   "cell_type": "markdown",
   "metadata": {},
   "source": [
    "## Import Functions and Set up Directories"
   ]
  },
  {
   "cell_type": "code",
   "execution_count": 1,
   "metadata": {},
   "outputs": [],
   "source": [
    "import rushd as rd\n",
    "import pandas as pd\n",
    "import numpy as np\n",
    "import scipy.stats\n",
    "import seaborn as sns\n",
    "import statannotations \n",
    "import matplotlib\n",
    "import matplotlib.pyplot as plt\n",
    "from textwrap import wrap\n",
    "from statannotations.Annotator import Annotator\n",
    "from statannot import add_stat_annotation\n",
    "from pathlib import Path\n",
    "import os\n",
    "#import statsmodels\n",
    "\n",
    "import warnings\n",
    "warnings.filterwarnings(\"ignore\",category=UserWarning)\n",
    "warnings.filterwarnings(\"ignore\",category=FutureWarning)\n",
    "\n",
    "#datadir = Path(Path('../../datadir_srk.txt').read_text())"
   ]
  },
  {
   "cell_type": "code",
   "execution_count": 36,
   "metadata": {},
   "outputs": [],
   "source": [
    "basepath_CTFR = rd.datadir/'instruments'/'data'/'attune'/'Mary'/'2025.03.30_TET-hRAS_reprogramming'\n",
    "experimentdir_1 = basepath_CTFR/'MEF1'/'5dpi_CTFR'\n",
    "experimentdir_2 = basepath_CTFR/'MEF2'/'5dpi_CTFR'\n",
    "experimentdir_3 = basepath_CTFR/'MEF3'/'5dpi_CTFR'\n",
    "experimentdir_4 = basepath_CTFR/'controls'/'5dpi_CTFR'\n",
    "\n",
    "\n",
    "basepath_380_CTFR = rd.datadir/'instruments'/'data'/'attune'/'Mary'/'2025.04.27_5dpi_TET-DIAL_3rep_380' # 5 dpi data for 380bp\n",
    "experimentdir_5 = basepath_380_CTFR/'Plate1'\n",
    "\n",
    "basepath_14dpi = rd.datadir/'instruments'/'data'/'attune'/'Mary'/'2025.04.27_14dpi_TET-DIAL_hRAS' # 14 dpi data for all spacers\n",
    "experimentdir_6 = basepath_14dpi/'Controls'\n",
    "experimentdir_7 = basepath_14dpi/'MEF1-5DOX'\n",
    "experimentdir_8 = basepath_14dpi/'MEF1-7DOX'\n",
    "experimentdir_9 = basepath_14dpi/'MEF1-14DOX'\n",
    "experimentdir_10 = basepath_14dpi/'MEF2-5DOX'\n",
    "experimentdir_11 = basepath_14dpi/'MEF2-7DOX'\n",
    "experimentdir_12 = basepath_14dpi/'MEF2-14DOX'\n",
    "experimentdir_13 = basepath_14dpi/'MEF3-5DOX'\n",
    "experimentdir_14 = basepath_14dpi/'MEF3-7DOX'\n",
    "experimentdir_15 = basepath_14dpi/'MEF3-14DOX'\n",
    "\n",
    "outputdir = rd.rootdir/'flow_analysis_scripts'/'2025_DIAL_paper_upload'/'figs_2024_promoter_editing_paper'/'TETDIALFinalFig6'"
   ]
  },
  {
   "cell_type": "code",
   "execution_count": null,
   "metadata": {},
   "outputs": [],
   "source": [
    "experimentdirs = [\n",
    "                  experimentdir_1, experimentdir_2, experimentdir_3,experimentdir_4, experimentdir_5, \n",
    "                  experimentdir_6, experimentdir_7, experimentdir_8,experimentdir_9, experimentdir_10, \n",
    "                  experimentdir_11, experimentdir_12, experimentdir_13,experimentdir_14, experimentdir_15, \n",
    "                  ]\n",
    "\n",
    "for experimentdir in experimentdirs:\n",
    "    rd.plot.plot_well_metadata(experimentdir/'metadata.yaml')"
   ]
  },
  {
   "cell_type": "markdown",
   "metadata": {},
   "source": [
    "## Load and Arrange Data"
   ]
  },
  {
   "cell_type": "code",
   "execution_count": null,
   "metadata": {},
   "outputs": [
    {
     "name": "stdout",
     "output_type": "stream",
     "text": [
      "Using data from: C:\\Users\\ChemeGrad2020\\OneDrive - Massachusetts Institute of Technology\\Documents - GallowayLab\\instruments\\data\\attune\\Mary\\2025.03.30_TET-hRAS_reprogramming\\MEF1\\5dpi_CTFR\\CSV\n",
      "['export_A10_Single Cells.csv', 'export_A11_Single Cells.csv', 'export_A12_Single Cells.csv', 'export_A1_Single Cells.csv', 'export_A2_Single Cells.csv', 'export_A3_Single Cells.csv', 'export_A4_Single Cells.csv', 'export_A5_Single Cells.csv', 'export_A6_Single Cells.csv', 'export_A7_Single Cells.csv', 'export_A8_Single Cells.csv', 'export_A9_Single Cells.csv', 'export_B10_Single Cells.csv', 'export_B11_Single Cells.csv', 'export_B12_Single Cells.csv', 'export_B1_Single Cells.csv', 'export_B2_Single Cells.csv', 'export_B3_Single Cells.csv', 'export_B4_Single Cells.csv', 'export_B5_Single Cells.csv', 'export_B6_Single Cells.csv', 'export_B7_Single Cells.csv', 'export_B8_Single Cells.csv', 'export_B9_Single Cells.csv', 'export_C10_Single Cells.csv', 'export_C11_Single Cells.csv', 'export_C12_Single Cells.csv', 'export_C1_Single Cells.csv', 'export_C2_Single Cells.csv', 'export_C3_Single Cells.csv', 'export_C4_Single Cells.csv', 'export_C5_Single Cells.csv', 'export_C6_Single Cells.csv', 'export_C7_Single Cells.csv', 'export_C8_Single Cells.csv', 'export_C9_Single Cells.csv', 'export_D10_Single Cells.csv', 'export_D11_Single Cells.csv', 'export_D12_Single Cells.csv', 'export_D1_Single Cells.csv', 'export_D2_Single Cells.csv', 'export_D3_Single Cells.csv', 'export_D4_Single Cells.csv', 'export_D5_Single Cells.csv', 'export_D6_Single Cells.csv', 'export_D7_Single Cells.csv', 'export_D8_Single Cells.csv', 'export_D9_Single Cells.csv', 'export_E10_Single Cells.csv', 'export_E11_Single Cells.csv', 'export_E12_Single Cells.csv', 'export_E1_Single Cells.csv', 'export_E2_Single Cells.csv', 'export_E3_Single Cells.csv', 'export_E4_Single Cells.csv', 'export_E5_Single Cells.csv', 'export_E6_Single Cells.csv', 'export_E7_Single Cells.csv', 'export_E8_Single Cells.csv', 'export_E9_Single Cells.csv', 'export_F10_Single Cells.csv', 'export_F11_Single Cells.csv', 'export_F12_Single Cells.csv', 'export_F1_Single Cells.csv', 'export_F2_Single Cells.csv', 'export_F3_Single Cells.csv', 'export_F4_Single Cells.csv', 'export_F5_Single Cells.csv', 'export_F6_Single Cells.csv', 'export_F7_Single Cells.csv', 'export_F8_Single Cells.csv', 'export_F9_Single Cells.csv', 'export_G10_Single Cells.csv', 'export_G11_Single Cells.csv', 'export_G12_Single Cells.csv', 'export_G1_Single Cells.csv', 'export_G2_Single Cells.csv', 'export_G3_Single Cells.csv', 'export_G4_Single Cells.csv', 'export_G5_Single Cells.csv', 'export_G6_Single Cells.csv', 'export_G7_Single Cells.csv', 'export_G8_Single Cells.csv', 'export_G9_Single Cells.csv', 'export_H10_Single Cells.csv', 'export_H11_Single Cells.csv', 'export_H12_Single Cells.csv', 'export_H1_Single Cells.csv', 'export_H2_Single Cells.csv', 'export_H3_Single Cells.csv', 'export_H4_Single Cells.csv', 'export_H5_Single Cells.csv', 'export_H6_Single Cells.csv', 'export_H7_Single Cells.csv', 'export_H8_Single Cells.csv', 'export_H9_Single Cells.csv']\n",
      "Using data from: C:\\Users\\ChemeGrad2020\\OneDrive - Massachusetts Institute of Technology\\Documents - GallowayLab\\instruments\\data\\attune\\Mary\\2025.03.30_TET-hRAS_reprogramming\\MEF2\\5dpi_CTFR\\CSV\n",
      "['export_A10_Single Cells.csv', 'export_A11_Single Cells.csv', 'export_A12_Single Cells.csv', 'export_A1_Single Cells.csv', 'export_A2_Single Cells.csv', 'export_A3_Single Cells.csv', 'export_A4_Single Cells.csv', 'export_A5_Single Cells.csv', 'export_A6_Single Cells.csv', 'export_A7_Single Cells.csv', 'export_A8_Single Cells.csv', 'export_A9_Single Cells.csv', 'export_B10_Single Cells.csv', 'export_B11_Single Cells.csv', 'export_B12_Single Cells.csv', 'export_B1_Single Cells.csv', 'export_B2_Single Cells.csv', 'export_B3_Single Cells.csv', 'export_B4_Single Cells.csv', 'export_B5_Single Cells.csv', 'export_B6_Single Cells.csv', 'export_B7_Single Cells.csv', 'export_B8_Single Cells.csv', 'export_B9_Single Cells.csv', 'export_C10_Single Cells.csv', 'export_C11_Single Cells.csv', 'export_C12_Single Cells.csv', 'export_C1_Single Cells.csv', 'export_C2_Single Cells.csv', 'export_C3_Single Cells.csv', 'export_C4_Single Cells.csv', 'export_C5_Single Cells.csv', 'export_C6_Single Cells.csv', 'export_C7_Single Cells.csv', 'export_C8_Single Cells.csv', 'export_C9_Single Cells.csv', 'export_D10_Single Cells.csv', 'export_D11_Single Cells.csv', 'export_D12_Single Cells.csv', 'export_D1_Single Cells.csv', 'export_D2_Single Cells.csv', 'export_D3_Single Cells.csv', 'export_D4_Single Cells.csv', 'export_D5_Single Cells.csv', 'export_D6_Single Cells.csv', 'export_D7_Single Cells.csv', 'export_D8_Single Cells.csv', 'export_D9_Single Cells.csv', 'export_E10_Single Cells.csv', 'export_E11_Single Cells.csv', 'export_E12_Single Cells.csv', 'export_E1_Single Cells.csv', 'export_E2_Single Cells.csv', 'export_E3_Single Cells.csv', 'export_E4_Single Cells.csv', 'export_E5_Single Cells.csv', 'export_E6_Single Cells.csv', 'export_E7_Single Cells.csv', 'export_E8_Single Cells.csv', 'export_E9_Single Cells.csv', 'export_F10_Single Cells.csv', 'export_F11_Single Cells.csv', 'export_F12_Single Cells.csv', 'export_F1_Single Cells.csv', 'export_F2_Single Cells.csv', 'export_F3_Single Cells.csv', 'export_F4_Single Cells.csv', 'export_F5_Single Cells.csv', 'export_F6_Single Cells.csv', 'export_F7_Single Cells.csv', 'export_F8_Single Cells.csv', 'export_F9_Single Cells.csv', 'export_G10_Single Cells.csv', 'export_G11_Single Cells.csv', 'export_G12_Single Cells.csv', 'export_G1_Single Cells.csv', 'export_G2_Single Cells.csv', 'export_G3_Single Cells.csv', 'export_G4_Single Cells.csv', 'export_G5_Single Cells.csv', 'export_G6_Single Cells.csv', 'export_G7_Single Cells.csv', 'export_G8_Single Cells.csv', 'export_G9_Single Cells.csv', 'export_H10_Single Cells.csv', 'export_H11_Single Cells.csv', 'export_H12_Single Cells.csv', 'export_H1_Single Cells.csv', 'export_H2_Single Cells.csv', 'export_H3_Single Cells.csv', 'export_H4_Single Cells.csv', 'export_H5_Single Cells.csv', 'export_H6_Single Cells.csv', 'export_H7_Single Cells.csv', 'export_H8_Single Cells.csv', 'export_H9_Single Cells.csv']\n",
      "Using data from: C:\\Users\\ChemeGrad2020\\OneDrive - Massachusetts Institute of Technology\\Documents - GallowayLab\\instruments\\data\\attune\\Mary\\2025.03.30_TET-hRAS_reprogramming\\MEF3\\5dpi_CTFR\\CSV\n",
      "['export_A10_Single Cells.csv', 'export_A11_Single Cells.csv', 'export_A12_Single Cells.csv', 'export_A1_Single Cells.csv', 'export_A2_Single Cells.csv', 'export_A3_Single Cells.csv', 'export_A4_Single Cells.csv', 'export_A5_Single Cells.csv', 'export_A6_Single Cells.csv', 'export_A7_Single Cells.csv', 'export_A8_Single Cells.csv', 'export_A9_Single Cells.csv', 'export_B10_Single Cells.csv', 'export_B11_Single Cells.csv', 'export_B12_Single Cells.csv', 'export_B1_Single Cells.csv', 'export_B2_Single Cells.csv', 'export_B3_Single Cells.csv', 'export_B4_Single Cells.csv', 'export_B5_Single Cells.csv', 'export_B6_Single Cells.csv', 'export_B7_Single Cells.csv', 'export_B8_Single Cells.csv', 'export_B9_Single Cells.csv', 'export_C10_Single Cells.csv', 'export_C11_Single Cells.csv', 'export_C12_Single Cells.csv', 'export_C1_Single Cells.csv', 'export_C2_Single Cells.csv', 'export_C3_Single Cells.csv', 'export_C4_Single Cells.csv', 'export_C5_Single Cells.csv', 'export_C6_Single Cells.csv', 'export_C7_Single Cells.csv', 'export_C8_Single Cells.csv', 'export_C9_Single Cells.csv', 'export_D10_Single Cells.csv', 'export_D11_Single Cells.csv', 'export_D12_Single Cells.csv', 'export_D1_Single Cells.csv', 'export_D2_Single Cells.csv', 'export_D3_Single Cells.csv', 'export_D4_Single Cells.csv', 'export_D5_Single Cells.csv', 'export_D6_Single Cells.csv', 'export_D7_Single Cells.csv', 'export_D8_Single Cells.csv', 'export_D9_Single Cells.csv', 'export_E10_Single Cells.csv', 'export_E11_Single Cells.csv', 'export_E12_Single Cells.csv', 'export_E1_Single Cells.csv', 'export_E2_Single Cells.csv', 'export_E3_Single Cells.csv', 'export_E4_Single Cells.csv', 'export_E5_Single Cells.csv', 'export_E6_Single Cells.csv', 'export_E7_Single Cells.csv', 'export_E8_Single Cells.csv', 'export_E9_Single Cells.csv', 'export_F10_Single Cells.csv', 'export_F11_Single Cells.csv', 'export_F12_Single Cells.csv', 'export_F1_Single Cells.csv', 'export_F2_Single Cells.csv', 'export_F3_Single Cells.csv', 'export_F4_Single Cells.csv', 'export_F5_Single Cells.csv', 'export_F6_Single Cells.csv', 'export_F7_Single Cells.csv', 'export_F8_Single Cells.csv', 'export_F9_Single Cells.csv', 'export_G10_Single Cells.csv', 'export_G11_Single Cells.csv', 'export_G12_Single Cells.csv', 'export_G1_Single Cells.csv', 'export_G2_Single Cells.csv', 'export_G3_Single Cells.csv', 'export_G4_Single Cells.csv', 'export_G5_Single Cells.csv', 'export_G6_Single Cells.csv', 'export_G7_Single Cells.csv', 'export_G8_Single Cells.csv', 'export_G9_Single Cells.csv', 'export_H10_Single Cells.csv', 'export_H11_Single Cells.csv', 'export_H12_Single Cells.csv', 'export_H1_Single Cells.csv', 'export_H2_Single Cells.csv', 'export_H3_Single Cells.csv', 'export_H4_Single Cells.csv', 'export_H5_Single Cells.csv', 'export_H6_Single Cells.csv', 'export_H7_Single Cells.csv', 'export_H8_Single Cells.csv', 'export_H9_Single Cells.csv']\n",
      "Using data from: C:\\Users\\ChemeGrad2020\\OneDrive - Massachusetts Institute of Technology\\Documents - GallowayLab\\instruments\\data\\attune\\Mary\\2025.03.30_TET-hRAS_reprogramming\\controls\\5dpi_CTFR\\CSV\n",
      "['export_B1_Single Cells.csv', 'export_B2_Single Cells.csv', 'export_B3_Single Cells.csv', 'export_B4_Single Cells.csv', 'export_B5_Single Cells.csv', 'export_B6_Single Cells.csv', 'export_B7_Single Cells.csv', 'export_B8_Single Cells.csv', 'export_B9_Single Cells.csv', 'export_C1_Single Cells.csv', 'export_C2_Single Cells.csv', 'export_C3_Single Cells.csv', 'export_C4_Single Cells.csv', 'export_C5_Single Cells.csv', 'export_C6_Single Cells.csv', 'export_C7_Single Cells.csv', 'export_C8_Single Cells.csv', 'export_C9_Single Cells.csv', 'export_D1_Single Cells.csv', 'export_D2_Single Cells.csv', 'export_D3_Single Cells.csv', 'export_D4_Single Cells.csv', 'export_D5_Single Cells.csv', 'export_D6_Single Cells.csv', 'export_D7_Single Cells.csv', 'export_D8_Single Cells.csv', 'export_D9_Single Cells.csv', 'export_E1_Single Cells.csv', 'export_E2_Single Cells.csv', 'export_E3_Single Cells.csv', 'export_E4_Single Cells.csv', 'export_E5_Single Cells.csv', 'export_E6_Single Cells.csv', 'export_E7_Single Cells.csv', 'export_E8_Single Cells.csv', 'export_E9_Single Cells.csv', 'export_F1_Single Cells.csv', 'export_F2_Single Cells.csv', 'export_F3_Single Cells.csv', 'export_F4_Single Cells.csv', 'export_F5_Single Cells.csv', 'export_F6_Single Cells.csv', 'export_F7_Single Cells.csv', 'export_F8_Single Cells.csv', 'export_F9_Single Cells.csv', 'export_G1_Single Cells.csv', 'export_G2_Single Cells.csv', 'export_G3_Single Cells.csv', 'export_G4_Single Cells.csv', 'export_G5_Single Cells.csv', 'export_G6_Single Cells.csv', 'export_G7_Single Cells.csv', 'export_G8_Single Cells.csv', 'export_G9_Single Cells.csv', 'export_H1_Single Cells.csv', 'export_H2_Single Cells.csv', 'export_H3_Single Cells.csv', 'export_H4_Single Cells.csv', 'export_H5_Single Cells.csv', 'export_H6_Single Cells.csv', 'export_H7_Single Cells.csv', 'export_H8_Single Cells.csv', 'export_H9_Single Cells.csv']\n",
      "Using data from: C:\\Users\\ChemeGrad2020\\OneDrive - Massachusetts Institute of Technology\\Documents - GallowayLab\\instruments\\data\\attune\\Mary\\2025.04.27_5dpi_TET-DIAL_3rep_380\\Plate1\\export_singlets\n",
      "['export_A10_Single Cells.csv', 'export_A11_Single Cells.csv', 'export_A12_Single Cells.csv', 'export_A1_Single Cells.csv', 'export_A2_Single Cells.csv', 'export_A3_Single Cells.csv', 'export_A4_Single Cells.csv', 'export_A5_Single Cells.csv', 'export_A6_Single Cells.csv', 'export_A7_Single Cells.csv', 'export_A8_Single Cells.csv', 'export_A9_Single Cells.csv', 'export_B10_Single Cells.csv', 'export_B11_Single Cells.csv', 'export_B12_Single Cells.csv', 'export_B1_Single Cells.csv', 'export_B2_Single Cells.csv', 'export_B3_Single Cells.csv', 'export_B4_Single Cells.csv', 'export_B5_Single Cells.csv', 'export_B6_Single Cells.csv', 'export_B7_Single Cells.csv', 'export_B8_Single Cells.csv', 'export_B9_Single Cells.csv', 'export_C10_Single Cells.csv', 'export_C11_Single Cells.csv', 'export_C12_Single Cells.csv', 'export_C1_Single Cells.csv', 'export_C2_Single Cells.csv', 'export_C3_Single Cells.csv', 'export_C4_Single Cells.csv', 'export_C5_Single Cells.csv', 'export_C6_Single Cells.csv', 'export_C7_Single Cells.csv', 'export_C8_Single Cells.csv', 'export_C9_Single Cells.csv', 'export_D10_Single Cells.csv', 'export_D11_Single Cells.csv', 'export_D1_Single Cells.csv', 'export_D2_Single Cells.csv', 'export_D3_Single Cells.csv', 'export_D5_Single Cells.csv', 'export_D6_Single Cells.csv', 'export_D7_Single Cells.csv', 'export_D9_Single Cells.csv', 'export_E10_Single Cells.csv', 'export_E11_Single Cells.csv', 'export_E1_Single Cells.csv', 'export_E2_Single Cells.csv', 'export_E3_Single Cells.csv', 'export_E5_Single Cells.csv', 'export_E6_Single Cells.csv', 'export_E7_Single Cells.csv', 'export_E9_Single Cells.csv', 'export_F10_Single Cells.csv', 'export_F11_Single Cells.csv', 'export_F1_Single Cells.csv', 'export_F2_Single Cells.csv', 'export_F3_Single Cells.csv', 'export_F5_Single Cells.csv', 'export_F6_Single Cells.csv', 'export_F7_Single Cells.csv', 'export_F9_Single Cells.csv', 'export_G10_Single Cells.csv', 'export_G11_Single Cells.csv', 'export_G1_Single Cells.csv', 'export_G2_Single Cells.csv', 'export_G3_Single Cells.csv', 'export_G5_Single Cells.csv', 'export_G6_Single Cells.csv', 'export_G7_Single Cells.csv', 'export_G9_Single Cells.csv', 'export_H10_Single Cells.csv', 'export_H11_Single Cells.csv', 'export_H1_Single Cells.csv', 'export_H2_Single Cells.csv', 'export_H3_Single Cells.csv', 'export_H5_Single Cells.csv', 'export_H6_Single Cells.csv', 'export_H7_Single Cells.csv', 'export_H9_Single Cells.csv', 'well_metadata.yaml']\n",
      "Using data from: C:\\Users\\ChemeGrad2020\\OneDrive - Massachusetts Institute of Technology\\Documents - GallowayLab\\instruments\\data\\attune\\Mary\\2025.04.27_14dpi_TET-DIAL_hRAS\\Controls\\export_singlets\n",
      "['export_B1_Single Cells.csv', 'export_B2_Single Cells.csv', 'export_B3_Single Cells.csv', 'export_B4_Single Cells.csv', 'export_B5_Single Cells.csv', 'export_B6_Single Cells.csv', 'export_B7_Single Cells.csv', 'export_B8_Single Cells.csv', 'export_B9_Single Cells.csv', 'export_C1_Single Cells.csv', 'export_C2_Single Cells.csv', 'export_C3_Single Cells.csv', 'export_C4_Single Cells.csv', 'export_C5_Single Cells.csv', 'export_C6_Single Cells.csv', 'export_C7_Single Cells.csv', 'export_C8_Single Cells.csv', 'export_C9_Single Cells.csv', 'export_D1_Single Cells.csv', 'export_D2_Single Cells.csv', 'export_D3_Single Cells.csv', 'export_D4_Single Cells.csv', 'export_D5_Single Cells.csv', 'export_D6_Single Cells.csv', 'export_D7_Single Cells.csv', 'export_D8_Single Cells.csv', 'export_D9_Single Cells.csv', 'export_E1_Single Cells.csv', 'export_E2_Single Cells.csv', 'export_E3_Single Cells.csv', 'export_E4_Single Cells.csv', 'export_E5_Single Cells.csv', 'export_E6_Single Cells.csv', 'export_E7_Single Cells.csv', 'export_E8_Single Cells.csv', 'export_E9_Single Cells.csv', 'export_F1_Single Cells.csv', 'export_F2_Single Cells.csv', 'export_F3_Single Cells.csv', 'export_F4_Single Cells.csv', 'export_F5_Single Cells.csv', 'export_F6_Single Cells.csv', 'export_F7_Single Cells.csv', 'export_F8_Single Cells.csv', 'export_F9_Single Cells.csv']\n",
      "Using data from: C:\\Users\\ChemeGrad2020\\OneDrive - Massachusetts Institute of Technology\\Documents - GallowayLab\\instruments\\data\\attune\\Mary\\2025.04.27_14dpi_TET-DIAL_hRAS\\MEF1-5DOX\\export_singlets\n",
      "['export_A10_Single Cells.csv', 'export_A11_Single Cells.csv', 'export_A12_Single Cells.csv', 'export_A1_Single Cells.csv', 'export_A2_Single Cells.csv', 'export_A3_Single Cells.csv', 'export_A4_Single Cells.csv', 'export_A5_Single Cells.csv', 'export_A6_Single Cells.csv', 'export_A7_Single Cells.csv', 'export_A8_Single Cells.csv', 'export_A9_Single Cells.csv', 'export_B10_Single Cells.csv', 'export_B11_Single Cells.csv', 'export_B12_Single Cells.csv', 'export_B1_Single Cells.csv', 'export_B2_Single Cells.csv', 'export_B3_Single Cells.csv', 'export_B4_Single Cells.csv', 'export_B5_Single Cells.csv', 'export_B6_Single Cells.csv', 'export_B7_Single Cells.csv', 'export_B8_Single Cells.csv', 'export_B9_Single Cells.csv', 'export_C10_Single Cells.csv', 'export_C11_Single Cells.csv', 'export_C12_Single Cells.csv', 'export_C1_Single Cells.csv', 'export_C2_Single Cells.csv', 'export_C3_Single Cells.csv', 'export_C4_Single Cells.csv', 'export_C5_Single Cells.csv', 'export_C6_Single Cells.csv', 'export_C7_Single Cells.csv', 'export_C8_Single Cells.csv', 'export_C9_Single Cells.csv', 'export_D10_Single Cells.csv', 'export_D11_Single Cells.csv', 'export_D12_Single Cells.csv', 'export_D1_Single Cells.csv', 'export_D2_Single Cells.csv', 'export_D3_Single Cells.csv', 'export_D4_Single Cells.csv', 'export_D5_Single Cells.csv', 'export_D6_Single Cells.csv', 'export_D7_Single Cells.csv', 'export_D8_Single Cells.csv', 'export_D9_Single Cells.csv', 'export_E10_Single Cells.csv', 'export_E11_Single Cells.csv', 'export_E12_Single Cells.csv', 'export_E1_Single Cells.csv', 'export_E2_Single Cells.csv', 'export_E3_Single Cells.csv', 'export_E4_Single Cells.csv', 'export_E5_Single Cells.csv', 'export_E6_Single Cells.csv', 'export_E7_Single Cells.csv', 'export_E8_Single Cells.csv', 'export_E9_Single Cells.csv', 'export_F10_Single Cells.csv', 'export_F11_Single Cells.csv', 'export_F12_Single Cells.csv', 'export_F1_Single Cells.csv', 'export_F2_Single Cells.csv', 'export_F3_Single Cells.csv', 'export_F4_Single Cells.csv', 'export_F5_Single Cells.csv', 'export_F6_Single Cells.csv', 'export_F7_Single Cells.csv', 'export_F8_Single Cells.csv', 'export_F9_Single Cells.csv', 'export_G10_Single Cells.csv', 'export_G11_Single Cells.csv', 'export_G12_Single Cells.csv', 'export_G1_Single Cells.csv', 'export_G2_Single Cells.csv', 'export_G3_Single Cells.csv', 'export_G4_Single Cells.csv', 'export_G5_Single Cells.csv', 'export_G6_Single Cells.csv', 'export_G7_Single Cells.csv', 'export_G8_Single Cells.csv', 'export_G9_Single Cells.csv', 'export_H10_Single Cells.csv', 'export_H11_Single Cells.csv', 'export_H12_Single Cells.csv', 'export_H1_Single Cells.csv', 'export_H2_Single Cells.csv', 'export_H3_Single Cells.csv', 'export_H4_Single Cells.csv', 'export_H5_Single Cells.csv', 'export_H6_Single Cells.csv', 'export_H7_Single Cells.csv', 'export_H8_Single Cells.csv', 'export_H9_Single Cells.csv']\n",
      "Using data from: C:\\Users\\ChemeGrad2020\\OneDrive - Massachusetts Institute of Technology\\Documents - GallowayLab\\instruments\\data\\attune\\Mary\\2025.04.27_14dpi_TET-DIAL_hRAS\\MEF1-7DOX\\export_singlets\n",
      "['export_A10_Single Cells.csv', 'export_A11_Single Cells.csv', 'export_A12_Single Cells.csv', 'export_A1_Single Cells.csv', 'export_A2_Single Cells.csv', 'export_A3_Single Cells.csv', 'export_A4_Single Cells.csv', 'export_A5_Single Cells.csv', 'export_A6_Single Cells.csv', 'export_A7_Single Cells.csv', 'export_A8_Single Cells.csv', 'export_A9_Single Cells.csv', 'export_B10_Single Cells.csv', 'export_B11_Single Cells.csv', 'export_B12_Single Cells.csv', 'export_B1_Single Cells.csv', 'export_B2_Single Cells.csv', 'export_B3_Single Cells.csv', 'export_B4_Single Cells.csv', 'export_B5_Single Cells.csv', 'export_B6_Single Cells.csv', 'export_B7_Single Cells.csv', 'export_B8_Single Cells.csv', 'export_B9_Single Cells.csv', 'export_C10_Single Cells.csv', 'export_C11_Single Cells.csv', 'export_C12_Single Cells.csv', 'export_C1_Single Cells.csv', 'export_C2_Single Cells.csv', 'export_C3_Single Cells.csv', 'export_C4_Single Cells.csv', 'export_C5_Single Cells.csv', 'export_C6_Single Cells.csv', 'export_C7_Single Cells.csv', 'export_C8_Single Cells.csv', 'export_C9_Single Cells.csv', 'export_D10_Single Cells.csv', 'export_D11_Single Cells.csv', 'export_D12_Single Cells.csv', 'export_D1_Single Cells.csv', 'export_D2_Single Cells.csv', 'export_D3_Single Cells.csv', 'export_D4_Single Cells.csv', 'export_D5_Single Cells.csv', 'export_D6_Single Cells.csv', 'export_D7_Single Cells.csv', 'export_D8_Single Cells.csv', 'export_D9_Single Cells.csv', 'export_E10_Single Cells.csv', 'export_E11_Single Cells.csv', 'export_E12_Single Cells.csv', 'export_E1_Single Cells.csv', 'export_E2_Single Cells.csv', 'export_E3_Single Cells.csv', 'export_E4_Single Cells.csv', 'export_E5_Single Cells.csv', 'export_E6_Single Cells.csv', 'export_E7_Single Cells.csv', 'export_E8_Single Cells.csv', 'export_E9_Single Cells.csv', 'export_F10_Single Cells.csv', 'export_F11_Single Cells.csv', 'export_F12_Single Cells.csv', 'export_F1_Single Cells.csv', 'export_F2_Single Cells.csv', 'export_F3_Single Cells.csv', 'export_F4_Single Cells.csv', 'export_F5_Single Cells.csv', 'export_F6_Single Cells.csv', 'export_F7_Single Cells.csv', 'export_F8_Single Cells.csv', 'export_F9_Single Cells.csv', 'export_G10_Single Cells.csv', 'export_G11_Single Cells.csv', 'export_G12_Single Cells.csv', 'export_G1_Single Cells.csv', 'export_G2_Single Cells.csv', 'export_G3_Single Cells.csv', 'export_G4_Single Cells.csv', 'export_G5_Single Cells.csv', 'export_G6_Single Cells.csv', 'export_G7_Single Cells.csv', 'export_G8_Single Cells.csv', 'export_G9_Single Cells.csv', 'export_H10_Single Cells.csv', 'export_H11_Single Cells.csv', 'export_H12_Single Cells.csv', 'export_H1_Single Cells.csv', 'export_H2_Single Cells.csv', 'export_H3_Single Cells.csv', 'export_H4_Single Cells.csv', 'export_H5_Single Cells.csv', 'export_H6_Single Cells.csv', 'export_H7_Single Cells.csv', 'export_H8_Single Cells.csv', 'export_H9_Single Cells.csv']\n",
      "Using data from: C:\\Users\\ChemeGrad2020\\OneDrive - Massachusetts Institute of Technology\\Documents - GallowayLab\\instruments\\data\\attune\\Mary\\2025.04.27_14dpi_TET-DIAL_hRAS\\MEF1-14DOX\\export_singlets\n",
      "['export_A10_Single Cells.csv', 'export_A11_Single Cells.csv', 'export_A12_Single Cells.csv', 'export_A1_Single Cells.csv', 'export_A2_Single Cells.csv', 'export_A3_Single Cells.csv', 'export_A4_Single Cells.csv', 'export_A5_Single Cells.csv', 'export_A6_Single Cells.csv', 'export_A7_Single Cells.csv', 'export_A8_Single Cells.csv', 'export_A9_Single Cells.csv', 'export_B10_Single Cells.csv', 'export_B11_Single Cells.csv', 'export_B12_Single Cells.csv', 'export_B1_Single Cells.csv', 'export_B2_Single Cells.csv', 'export_B3_Single Cells.csv', 'export_B4_Single Cells.csv', 'export_B5_Single Cells.csv', 'export_B6_Single Cells.csv', 'export_B7_Single Cells.csv', 'export_B8_Single Cells.csv', 'export_B9_Single Cells.csv', 'export_C10_Single Cells.csv', 'export_C11_Single Cells.csv', 'export_C12_Single Cells.csv', 'export_C1_Single Cells.csv', 'export_C2_Single Cells.csv', 'export_C3_Single Cells.csv', 'export_C4_Single Cells.csv', 'export_C5_Single Cells.csv', 'export_C6_Single Cells.csv', 'export_C7_Single Cells.csv', 'export_C8_Single Cells.csv', 'export_C9_Single Cells.csv', 'export_D10_Single Cells.csv', 'export_D11_Single Cells.csv', 'export_D12_Single Cells.csv', 'export_D1_Single Cells.csv', 'export_D2_Single Cells.csv', 'export_D3_Single Cells.csv', 'export_D4_Single Cells.csv', 'export_D5_Single Cells.csv', 'export_D6_Single Cells.csv', 'export_D7_Single Cells.csv', 'export_D8_Single Cells.csv', 'export_D9_Single Cells.csv', 'export_E10_Single Cells.csv', 'export_E11_Single Cells.csv', 'export_E12_Single Cells.csv', 'export_E1_Single Cells.csv', 'export_E2_Single Cells.csv', 'export_E3_Single Cells.csv', 'export_E4_Single Cells.csv', 'export_E5_Single Cells.csv', 'export_E6_Single Cells.csv', 'export_E7_Single Cells.csv', 'export_E8_Single Cells.csv', 'export_E9_Single Cells.csv', 'export_F10_Single Cells.csv', 'export_F11_Single Cells.csv', 'export_F12_Single Cells.csv', 'export_F1_Single Cells.csv', 'export_F2_Single Cells.csv', 'export_F3_Single Cells.csv', 'export_F4_Single Cells.csv', 'export_F5_Single Cells.csv', 'export_F6_Single Cells.csv', 'export_F7_Single Cells.csv', 'export_F8_Single Cells.csv', 'export_F9_Single Cells.csv', 'export_G10_Single Cells.csv', 'export_G11_Single Cells.csv', 'export_G12_Single Cells.csv', 'export_G1_Single Cells.csv', 'export_G2_Single Cells.csv', 'export_G3_Single Cells.csv', 'export_G4_Single Cells.csv', 'export_G5_Single Cells.csv', 'export_G6_Single Cells.csv', 'export_G7_Single Cells.csv', 'export_G8_Single Cells.csv', 'export_G9_Single Cells.csv', 'export_H10_Single Cells.csv', 'export_H11_Single Cells.csv', 'export_H12_Single Cells.csv', 'export_H1_Single Cells.csv', 'export_H2_Single Cells.csv', 'export_H3_Single Cells.csv', 'export_H4_Single Cells.csv', 'export_H5_Single Cells.csv', 'export_H6_Single Cells.csv', 'export_H7_Single Cells.csv', 'export_H8_Single Cells.csv', 'export_H9_Single Cells.csv']\n",
      "Using data from: C:\\Users\\ChemeGrad2020\\OneDrive - Massachusetts Institute of Technology\\Documents - GallowayLab\\instruments\\data\\attune\\Mary\\2025.04.27_14dpi_TET-DIAL_hRAS\\MEF2-5DOX\\export_singlets\n",
      "['export_A10_Single Cells.csv', 'export_A11_Single Cells.csv', 'export_A12_Single Cells.csv', 'export_A1_Single Cells.csv', 'export_A2_Single Cells.csv', 'export_A3_Single Cells.csv', 'export_A4_Single Cells.csv', 'export_A5_Single Cells.csv', 'export_A6_Single Cells.csv', 'export_A7_Single Cells.csv', 'export_A8_Single Cells.csv', 'export_A9_Single Cells.csv', 'export_B10_Single Cells.csv', 'export_B11_Single Cells.csv', 'export_B12_Single Cells.csv', 'export_B1_Single Cells.csv', 'export_B2_Single Cells.csv', 'export_B3_Single Cells.csv', 'export_B4_Single Cells.csv', 'export_B5_Single Cells.csv', 'export_B6_Single Cells.csv', 'export_B7_Single Cells.csv', 'export_B8_Single Cells.csv', 'export_B9_Single Cells.csv', 'export_C10_Single Cells.csv', 'export_C11_Single Cells.csv', 'export_C12_Single Cells.csv', 'export_C1_Single Cells.csv', 'export_C2_Single Cells.csv', 'export_C3_Single Cells.csv', 'export_C4_Single Cells.csv', 'export_C5_Single Cells.csv', 'export_C6_Single Cells.csv', 'export_C7_Single Cells.csv', 'export_C8_Single Cells.csv', 'export_C9_Single Cells.csv', 'export_D10_Single Cells.csv', 'export_D11_Single Cells.csv', 'export_D12_Single Cells.csv', 'export_D1_Single Cells.csv', 'export_D2_Single Cells.csv', 'export_D3_Single Cells.csv', 'export_D4_Single Cells.csv', 'export_D5_Single Cells.csv', 'export_D6_Single Cells.csv', 'export_D7_Single Cells.csv', 'export_D8_Single Cells.csv', 'export_D9_Single Cells.csv', 'export_E10_Single Cells.csv', 'export_E11_Single Cells.csv', 'export_E12_Single Cells.csv', 'export_E1_Single Cells.csv', 'export_E2_Single Cells.csv', 'export_E3_Single Cells.csv', 'export_E4_Single Cells.csv', 'export_E5_Single Cells.csv', 'export_E6_Single Cells.csv', 'export_E7_Single Cells.csv', 'export_E8_Single Cells.csv', 'export_E9_Single Cells.csv', 'export_F10_Single Cells.csv', 'export_F11_Single Cells.csv', 'export_F12_Single Cells.csv', 'export_F1_Single Cells.csv', 'export_F2_Single Cells.csv', 'export_F3_Single Cells.csv', 'export_F4_Single Cells.csv', 'export_F5_Single Cells.csv', 'export_F6_Single Cells.csv', 'export_F7_Single Cells.csv', 'export_F8_Single Cells.csv', 'export_F9_Single Cells.csv', 'export_G10_Single Cells.csv', 'export_G11_Single Cells.csv', 'export_G12_Single Cells.csv', 'export_G1_Single Cells.csv', 'export_G2_Single Cells.csv', 'export_G3_Single Cells.csv', 'export_G4_Single Cells.csv', 'export_G5_Single Cells.csv', 'export_G6_Single Cells.csv', 'export_G7_Single Cells.csv', 'export_G8_Single Cells.csv', 'export_G9_Single Cells.csv', 'export_H10_Single Cells.csv', 'export_H11_Single Cells.csv', 'export_H12_Single Cells.csv', 'export_H1_Single Cells.csv', 'export_H2_Single Cells.csv', 'export_H3_Single Cells.csv', 'export_H4_Single Cells.csv', 'export_H5_Single Cells.csv', 'export_H6_Single Cells.csv', 'export_H7_Single Cells.csv', 'export_H8_Single Cells.csv', 'export_H9_Single Cells.csv']\n",
      "Using data from: C:\\Users\\ChemeGrad2020\\OneDrive - Massachusetts Institute of Technology\\Documents - GallowayLab\\instruments\\data\\attune\\Mary\\2025.04.27_14dpi_TET-DIAL_hRAS\\MEF2-7DOX\\export_singlets\n",
      "['export_A10_Single Cells.csv', 'export_A11_Single Cells.csv', 'export_A12_Single Cells.csv', 'export_A1_Single Cells.csv', 'export_A2_Single Cells.csv', 'export_A3_Single Cells.csv', 'export_A4_Single Cells.csv', 'export_A5_Single Cells.csv', 'export_A6_Single Cells.csv', 'export_A7_Single Cells.csv', 'export_A8_Single Cells.csv', 'export_A9_Single Cells.csv', 'export_B10_Single Cells.csv', 'export_B11_Single Cells.csv', 'export_B12_Single Cells.csv', 'export_B1_Single Cells.csv', 'export_B2_Single Cells.csv', 'export_B3_Single Cells.csv', 'export_B4_Single Cells.csv', 'export_B5_Single Cells.csv', 'export_B6_Single Cells.csv', 'export_B7_Single Cells.csv', 'export_B8_Single Cells.csv', 'export_B9_Single Cells.csv', 'export_C10_Single Cells.csv', 'export_C11_Single Cells.csv', 'export_C12_Single Cells.csv', 'export_C1_Single Cells.csv', 'export_C2_Single Cells.csv', 'export_C3_Single Cells.csv', 'export_C4_Single Cells.csv', 'export_C5_Single Cells.csv', 'export_C6_Single Cells.csv', 'export_C7_Single Cells.csv', 'export_C8_Single Cells.csv', 'export_C9_Single Cells.csv', 'export_D10_Single Cells.csv', 'export_D11_Single Cells.csv', 'export_D12_Single Cells.csv', 'export_D1_Single Cells.csv', 'export_D2_Single Cells.csv', 'export_D3_Single Cells.csv', 'export_D4_Single Cells.csv', 'export_D5_Single Cells.csv', 'export_D6_Single Cells.csv', 'export_D7_Single Cells.csv', 'export_D8_Single Cells.csv', 'export_D9_Single Cells.csv', 'export_E10_Single Cells.csv', 'export_E11_Single Cells.csv', 'export_E12_Single Cells.csv', 'export_E1_Single Cells.csv', 'export_E2_Single Cells.csv', 'export_E3_Single Cells.csv', 'export_E4_Single Cells.csv', 'export_E5_Single Cells.csv', 'export_E6_Single Cells.csv', 'export_E7_Single Cells.csv', 'export_E8_Single Cells.csv', 'export_E9_Single Cells.csv', 'export_F10_Single Cells.csv', 'export_F11_Single Cells.csv', 'export_F12_Single Cells.csv', 'export_F1_Single Cells.csv', 'export_F2_Single Cells.csv', 'export_F3_Single Cells.csv', 'export_F4_Single Cells.csv', 'export_F5_Single Cells.csv', 'export_F6_Single Cells.csv', 'export_F7_Single Cells.csv', 'export_F8_Single Cells.csv', 'export_F9_Single Cells.csv', 'export_G10_Single Cells.csv', 'export_G11_Single Cells.csv', 'export_G12_Single Cells.csv', 'export_G1_Single Cells.csv', 'export_G2_Single Cells.csv', 'export_G3_Single Cells.csv', 'export_G4_Single Cells.csv', 'export_G5_Single Cells.csv', 'export_G6_Single Cells.csv', 'export_G7_Single Cells.csv', 'export_G8_Single Cells.csv', 'export_G9_Single Cells.csv', 'export_H10_Single Cells.csv', 'export_H11_Single Cells.csv', 'export_H12_Single Cells.csv', 'export_H1_Single Cells.csv', 'export_H2_Single Cells.csv', 'export_H3_Single Cells.csv', 'export_H4_Single Cells.csv', 'export_H5_Single Cells.csv', 'export_H6_Single Cells.csv', 'export_H7_Single Cells.csv', 'export_H8_Single Cells.csv', 'export_H9_Single Cells.csv']\n",
      "Using data from: C:\\Users\\ChemeGrad2020\\OneDrive - Massachusetts Institute of Technology\\Documents - GallowayLab\\instruments\\data\\attune\\Mary\\2025.04.27_14dpi_TET-DIAL_hRAS\\MEF2-14DOX\\export_singlets\n",
      "['export_A10_Single Cells.csv', 'export_A11_Single Cells.csv', 'export_A12_Single Cells.csv', 'export_A1_Single Cells.csv', 'export_A2_Single Cells.csv', 'export_A3_Single Cells.csv', 'export_A4_Single Cells.csv', 'export_A5_Single Cells.csv', 'export_A6_Single Cells.csv', 'export_A7_Single Cells.csv', 'export_A8_Single Cells.csv', 'export_A9_Single Cells.csv', 'export_B10_Single Cells.csv', 'export_B11_Single Cells.csv', 'export_B12_Single Cells.csv', 'export_B1_Single Cells.csv', 'export_B2_Single Cells.csv', 'export_B3_Single Cells.csv', 'export_B4_Single Cells.csv', 'export_B5_Single Cells.csv', 'export_B6_Single Cells.csv', 'export_B7_Single Cells.csv', 'export_B8_Single Cells.csv', 'export_B9_Single Cells.csv', 'export_C10_Single Cells.csv', 'export_C11_Single Cells.csv', 'export_C12_Single Cells.csv', 'export_C1_Single Cells.csv', 'export_C2_Single Cells.csv', 'export_C3_Single Cells.csv', 'export_C4_Single Cells.csv', 'export_C5_Single Cells.csv', 'export_C6_Single Cells.csv', 'export_C7_Single Cells.csv', 'export_C8_Single Cells.csv', 'export_C9_Single Cells.csv', 'export_D10_Single Cells.csv', 'export_D11_Single Cells.csv', 'export_D12_Single Cells.csv', 'export_D1_Single Cells.csv', 'export_D2_Single Cells.csv', 'export_D3_Single Cells.csv', 'export_D4_Single Cells.csv', 'export_D5_Single Cells.csv', 'export_D6_Single Cells.csv', 'export_D7_Single Cells.csv', 'export_D8_Single Cells.csv', 'export_D9_Single Cells.csv', 'export_E10_Single Cells.csv', 'export_E11_Single Cells.csv', 'export_E12_Single Cells.csv', 'export_E1_Single Cells.csv', 'export_E2_Single Cells.csv', 'export_E3_Single Cells.csv', 'export_E4_Single Cells.csv', 'export_E5_Single Cells.csv', 'export_E6_Single Cells.csv', 'export_E7_Single Cells.csv', 'export_E8_Single Cells.csv', 'export_E9_Single Cells.csv', 'export_F10_Single Cells.csv', 'export_F11_Single Cells.csv', 'export_F12_Single Cells.csv', 'export_F1_Single Cells.csv', 'export_F2_Single Cells.csv', 'export_F3_Single Cells.csv', 'export_F4_Single Cells.csv', 'export_F5_Single Cells.csv', 'export_F6_Single Cells.csv', 'export_F7_Single Cells.csv', 'export_F8_Single Cells.csv', 'export_F9_Single Cells.csv', 'export_G10_Single Cells.csv', 'export_G11_Single Cells.csv', 'export_G12_Single Cells.csv', 'export_G1_Single Cells.csv', 'export_G2_Single Cells.csv', 'export_G3_Single Cells.csv', 'export_G4_Single Cells.csv', 'export_G5_Single Cells.csv', 'export_G6_Single Cells.csv', 'export_G7_Single Cells.csv', 'export_G8_Single Cells.csv', 'export_G9_Single Cells.csv', 'export_H10_Single Cells.csv', 'export_H11_Single Cells.csv', 'export_H12_Single Cells.csv', 'export_H1_Single Cells.csv', 'export_H2_Single Cells.csv', 'export_H3_Single Cells.csv', 'export_H4_Single Cells.csv', 'export_H5_Single Cells.csv', 'export_H6_Single Cells.csv', 'export_H7_Single Cells.csv', 'export_H8_Single Cells.csv', 'export_H9_Single Cells.csv']\n",
      "Using data from: C:\\Users\\ChemeGrad2020\\OneDrive - Massachusetts Institute of Technology\\Documents - GallowayLab\\instruments\\data\\attune\\Mary\\2025.04.27_14dpi_TET-DIAL_hRAS\\MEF3-5DOX\\export_singlets\n",
      "['export_A10_Single Cells.csv', 'export_A11_Single Cells.csv', 'export_A12_Single Cells.csv', 'export_A1_Single Cells.csv', 'export_A2_Single Cells.csv', 'export_A3_Single Cells.csv', 'export_A4_Single Cells.csv', 'export_A5_Single Cells.csv', 'export_A6_Single Cells.csv', 'export_A7_Single Cells.csv', 'export_A8_Single Cells.csv', 'export_A9_Single Cells.csv', 'export_B10_Single Cells.csv', 'export_B11_Single Cells.csv', 'export_B12_Single Cells.csv', 'export_B1_Single Cells.csv', 'export_B2_Single Cells.csv', 'export_B3_Single Cells.csv', 'export_B4_Single Cells.csv', 'export_B5_Single Cells.csv', 'export_B6_Single Cells.csv', 'export_B7_Single Cells.csv', 'export_B8_Single Cells.csv', 'export_B9_Single Cells.csv', 'export_C10_Single Cells.csv', 'export_C11_Single Cells.csv', 'export_C12_Single Cells.csv', 'export_C1_Single Cells.csv', 'export_C2_Single Cells.csv', 'export_C3_Single Cells.csv', 'export_C4_Single Cells.csv', 'export_C5_Single Cells.csv', 'export_C6_Single Cells.csv', 'export_C7_Single Cells.csv', 'export_C8_Single Cells.csv', 'export_C9_Single Cells.csv', 'export_D10_Single Cells.csv', 'export_D11_Single Cells.csv', 'export_D12_Single Cells.csv', 'export_D1_Single Cells.csv', 'export_D2_Single Cells.csv', 'export_D3_Single Cells.csv', 'export_D4_Single Cells.csv', 'export_D5_Single Cells.csv', 'export_D6_Single Cells.csv', 'export_D7_Single Cells.csv', 'export_D8_Single Cells.csv', 'export_D9_Single Cells.csv', 'export_E10_Single Cells.csv', 'export_E11_Single Cells.csv', 'export_E12_Single Cells.csv', 'export_E1_Single Cells.csv', 'export_E2_Single Cells.csv', 'export_E3_Single Cells.csv', 'export_E4_Single Cells.csv', 'export_E5_Single Cells.csv', 'export_E6_Single Cells.csv', 'export_E7_Single Cells.csv', 'export_E8_Single Cells.csv', 'export_E9_Single Cells.csv', 'export_F10_Single Cells.csv', 'export_F11_Single Cells.csv', 'export_F12_Single Cells.csv', 'export_F1_Single Cells.csv', 'export_F2_Single Cells.csv', 'export_F3_Single Cells.csv', 'export_F4_Single Cells.csv', 'export_F5_Single Cells.csv', 'export_F6_Single Cells.csv', 'export_F7_Single Cells.csv', 'export_F8_Single Cells.csv', 'export_F9_Single Cells.csv', 'export_G10_Single Cells.csv', 'export_G11_Single Cells.csv', 'export_G12_Single Cells.csv', 'export_G1_Single Cells.csv', 'export_G2_Single Cells.csv', 'export_G3_Single Cells.csv', 'export_G4_Single Cells.csv', 'export_G5_Single Cells.csv', 'export_G6_Single Cells.csv', 'export_G7_Single Cells.csv', 'export_G8_Single Cells.csv', 'export_G9_Single Cells.csv', 'export_H10_Single Cells.csv', 'export_H11_Single Cells.csv', 'export_H12_Single Cells.csv', 'export_H1_Single Cells.csv', 'export_H2_Single Cells.csv', 'export_H3_Single Cells.csv', 'export_H4_Single Cells.csv', 'export_H5_Single Cells.csv', 'export_H6_Single Cells.csv', 'export_H7_Single Cells.csv', 'export_H8_Single Cells.csv', 'export_H9_Single Cells.csv']\n",
      "Using data from: C:\\Users\\ChemeGrad2020\\OneDrive - Massachusetts Institute of Technology\\Documents - GallowayLab\\instruments\\data\\attune\\Mary\\2025.04.27_14dpi_TET-DIAL_hRAS\\MEF3-7DOX\\export_singlets\n",
      "['export_A10_Single Cells.csv', 'export_A11_Single Cells.csv', 'export_A12_Single Cells.csv', 'export_A1_Single Cells.csv', 'export_A2_Single Cells.csv', 'export_A3_Single Cells.csv', 'export_A4_Single Cells.csv', 'export_A5_Single Cells.csv', 'export_A6_Single Cells.csv', 'export_A7_Single Cells.csv', 'export_A8_Single Cells.csv', 'export_A9_Single Cells.csv', 'export_B10_Single Cells.csv', 'export_B11_Single Cells.csv', 'export_B12_Single Cells.csv', 'export_B1_Single Cells.csv', 'export_B2_Single Cells.csv', 'export_B3_Single Cells.csv', 'export_B4_Single Cells.csv', 'export_B5_Single Cells.csv', 'export_B6_Single Cells.csv', 'export_B7_Single Cells.csv', 'export_B8_Single Cells.csv', 'export_B9_Single Cells.csv', 'export_C10_Single Cells.csv', 'export_C11_Single Cells.csv', 'export_C12_Single Cells.csv', 'export_C1_Single Cells.csv', 'export_C2_Single Cells.csv', 'export_C3_Single Cells.csv', 'export_C4_Single Cells.csv', 'export_C5_Single Cells.csv', 'export_C6_Single Cells.csv', 'export_C7_Single Cells.csv', 'export_C8_Single Cells.csv', 'export_C9_Single Cells.csv', 'export_D10_Single Cells.csv', 'export_D11_Single Cells.csv', 'export_D12_Single Cells.csv', 'export_D1_Single Cells.csv', 'export_D2_Single Cells.csv', 'export_D3_Single Cells.csv', 'export_D4_Single Cells.csv', 'export_D5_Single Cells.csv', 'export_D6_Single Cells.csv', 'export_D7_Single Cells.csv', 'export_D8_Single Cells.csv', 'export_D9_Single Cells.csv', 'export_E10_Single Cells.csv', 'export_E11_Single Cells.csv', 'export_E12_Single Cells.csv', 'export_E1_Single Cells.csv', 'export_E2_Single Cells.csv', 'export_E3_Single Cells.csv', 'export_E4_Single Cells.csv', 'export_E5_Single Cells.csv', 'export_E6_Single Cells.csv', 'export_E7_Single Cells.csv', 'export_E8_Single Cells.csv', 'export_E9_Single Cells.csv', 'export_F10_Single Cells.csv', 'export_F11_Single Cells.csv', 'export_F12_Single Cells.csv', 'export_F1_Single Cells.csv', 'export_F2_Single Cells.csv', 'export_F3_Single Cells.csv', 'export_F4_Single Cells.csv', 'export_F5_Single Cells.csv', 'export_F6_Single Cells.csv', 'export_F7_Single Cells.csv', 'export_F8_Single Cells.csv', 'export_F9_Single Cells.csv', 'export_G10_Single Cells.csv', 'export_G11_Single Cells.csv', 'export_G12_Single Cells.csv', 'export_G1_Single Cells.csv', 'export_G2_Single Cells.csv', 'export_G3_Single Cells.csv', 'export_G4_Single Cells.csv', 'export_G5_Single Cells.csv', 'export_G6_Single Cells.csv', 'export_G7_Single Cells.csv', 'export_G8_Single Cells.csv', 'export_G9_Single Cells.csv', 'export_H10_Single Cells.csv', 'export_H11_Single Cells.csv', 'export_H12_Single Cells.csv', 'export_H1_Single Cells.csv', 'export_H2_Single Cells.csv', 'export_H3_Single Cells.csv', 'export_H4_Single Cells.csv', 'export_H5_Single Cells.csv', 'export_H6_Single Cells.csv', 'export_H7_Single Cells.csv', 'export_H8_Single Cells.csv', 'export_H9_Single Cells.csv']\n",
      "Using data from: C:\\Users\\ChemeGrad2020\\OneDrive - Massachusetts Institute of Technology\\Documents - GallowayLab\\instruments\\data\\attune\\Mary\\2025.04.27_14dpi_TET-DIAL_hRAS\\MEF3-14DOX\\export_singlets\n",
      "['export_A10_Single Cells.csv', 'export_A11_Single Cells.csv', 'export_A12_Single Cells.csv', 'export_A1_Single Cells.csv', 'export_A2_Single Cells.csv', 'export_A3_Single Cells.csv', 'export_A4_Single Cells.csv', 'export_A5_Single Cells.csv', 'export_A6_Single Cells.csv', 'export_A7_Single Cells.csv', 'export_A8_Single Cells.csv', 'export_A9_Single Cells.csv', 'export_B10_Single Cells.csv', 'export_B11_Single Cells.csv', 'export_B12_Single Cells.csv', 'export_B1_Single Cells.csv', 'export_B2_Single Cells.csv', 'export_B3_Single Cells.csv', 'export_B4_Single Cells.csv', 'export_B5_Single Cells.csv', 'export_B6_Single Cells.csv', 'export_B7_Single Cells.csv', 'export_B8_Single Cells.csv', 'export_B9_Single Cells.csv', 'export_C10_Single Cells.csv', 'export_C11_Single Cells.csv', 'export_C12_Single Cells.csv', 'export_C1_Single Cells.csv', 'export_C2_Single Cells.csv', 'export_C3_Single Cells.csv', 'export_C4_Single Cells.csv', 'export_C5_Single Cells.csv', 'export_C6_Single Cells.csv', 'export_C7_Single Cells.csv', 'export_C8_Single Cells.csv', 'export_C9_Single Cells.csv', 'export_D10_Single Cells.csv', 'export_D11_Single Cells.csv', 'export_D12_Single Cells.csv', 'export_D1_Single Cells.csv', 'export_D2_Single Cells.csv', 'export_D3_Single Cells.csv', 'export_D4_Single Cells.csv', 'export_D5_Single Cells.csv', 'export_D6_Single Cells.csv', 'export_D7_Single Cells.csv', 'export_D8_Single Cells.csv', 'export_D9_Single Cells.csv', 'export_E10_Single Cells.csv', 'export_E11_Single Cells.csv', 'export_E12_Single Cells.csv', 'export_E1_Single Cells.csv', 'export_E2_Single Cells.csv', 'export_E3_Single Cells.csv', 'export_E4_Single Cells.csv', 'export_E5_Single Cells.csv', 'export_E6_Single Cells.csv', 'export_E7_Single Cells.csv', 'export_E8_Single Cells.csv', 'export_E9_Single Cells.csv', 'export_F10_Single Cells.csv', 'export_F11_Single Cells.csv', 'export_F12_Single Cells.csv', 'export_F1_Single Cells.csv', 'export_F2_Single Cells.csv', 'export_F3_Single Cells.csv', 'export_F4_Single Cells.csv', 'export_F5_Single Cells.csv', 'export_F6_Single Cells.csv', 'export_F7_Single Cells.csv', 'export_F8_Single Cells.csv', 'export_F9_Single Cells.csv', 'export_G10_Single Cells.csv', 'export_G11_Single Cells.csv', 'export_G12_Single Cells.csv', 'export_G1_Single Cells.csv', 'export_G2_Single Cells.csv', 'export_G3_Single Cells.csv', 'export_G4_Single Cells.csv', 'export_G5_Single Cells.csv', 'export_G6_Single Cells.csv', 'export_G7_Single Cells.csv', 'export_G8_Single Cells.csv', 'export_G9_Single Cells.csv', 'export_H10_Single Cells.csv', 'export_H11_Single Cells.csv', 'export_H12_Single Cells.csv', 'export_H1_Single Cells.csv', 'export_H2_Single Cells.csv', 'export_H3_Single Cells.csv', 'export_H4_Single Cells.csv', 'export_H5_Single Cells.csv', 'export_H6_Single Cells.csv', 'export_H7_Single Cells.csv', 'export_H8_Single Cells.csv', 'export_H9_Single Cells.csv']\n"
     ]
    }
   ],
   "source": [
    "experimentdirs = [experimentdir_1,\n",
    "                  experimentdir_2,\n",
    "                  experimentdir_3,\n",
    "                  experimentdir_4,\n",
    "                  experimentdir_5,\n",
    "                  experimentdir_6,\n",
    "                  experimentdir_7,\n",
    "                  experimentdir_8,\n",
    "                  experimentdir_9,\n",
    "                  experimentdir_10,\n",
    "                  experimentdir_11,\n",
    "                  experimentdir_12,\n",
    "                  experimentdir_13,\n",
    "                  experimentdir_14,\n",
    "                  experimentdir_15\n",
    "                  ]\n",
    "# import and store data\n",
    "cache_files = [outputdir / f\"cache{i+1}.gzip\" for i in range(len(experimentdirs))]\n",
    "\n",
    "dfs = {}  # Dictionary to store DataFrames\n",
    "\n",
    "# Loop through cache files and corresponding directories\n",
    "for cache_file, experimentdir in zip(cache_files, experimentdirs):\n",
    "    if cache_file.exists():\n",
    "        # If the cache file exists, load the data\n",
    "        dfs[cache_file.name] = pd.read_parquet(cache_file)\n",
    "    else:\n",
    "        # Determine which folder exists: 'CSV' or 'export_singlets'\n",
    "        csv_path = experimentdir / 'CSV'\n",
    "        singlets_path = experimentdir / 'export_singlets'\n",
    "\n",
    "        if csv_path.exists():\n",
    "            data_path = csv_path\n",
    "        elif singlets_path.exists():\n",
    "            data_path = singlets_path\n",
    "        else:\n",
    "            print(f\"⚠️ No valid data folder found in: {experimentdir}\")\n",
    "            continue  # Skip to next experimentdir\n",
    "\n",
    "        # Debug: List files in the selected directory\n",
    "        print(f\"Using data from: {data_path}\")\n",
    "        print(os.listdir(data_path))\n",
    "\n",
    "        # Load the data\n",
    "        dfs[cache_file.name] = rd.flow.load_csv_with_metadata(\n",
    "            data_path=data_path,\n",
    "            yaml_path=experimentdir / 'metadata.yaml'\n",
    "        )\n",
    "#         dfs[cache_file.name].to_parquet(rd.outfile(cache_file))\n",
    "\n"
   ]
  },
  {
   "cell_type": "code",
   "execution_count": 8,
   "metadata": {},
   "outputs": [
    {
     "name": "stdout",
     "output_type": "stream",
     "text": [
      "Unique column names across all DataFrames:\n",
      "['CRE', 'CTFR-A', 'CTFR-H', 'CTFR-W', 'DOX', 'DOX-Day', 'Date', 'FSC-A', 'FSC-H', 'FSC-W', 'GFP-A', 'GFP-H', 'GFP-W', 'SSC-A', 'SSC-H', 'SSC-W', 'TagBFP-A', 'TagBFP-H', 'TagBFP-W', 'Time', 'co-inf_TagBFP-A', 'co-inf_TagBFP-H', 'co-inf_TagBFP-W', 'eGFP-A', 'eGFP-H', 'eGFP-W', 'hRAS_mCherry-A', 'hRAS_mCherry-H', 'hRAS_mCherry-W', 'infection', 'mCherry-A', 'mCherry-H', 'mCherry-W', 'modRNA', 'population', 'replicate', 'reporter', 'well']\n"
     ]
    }
   ],
   "source": [
    "# create variables df1, df2, df3, etc.\n",
    "for i, (cache_file_name, df) in enumerate(dfs.items(), 1):\n",
    "    globals()[f'df{i}'] = df\n",
    "\n",
    "# Get column names from df1 to df15 using globals()\n",
    "all_columns = set()\n",
    "for i in range(1, 16):\n",
    "    df = globals()[f'df{i}']\n",
    "    all_columns.update(df.columns)\n",
    "\n",
    "print(\"Unique column names across all DataFrames:\")\n",
    "print(sorted(all_columns))\n"
   ]
  },
  {
   "cell_type": "code",
   "execution_count": 9,
   "metadata": {},
   "outputs": [],
   "source": [
    "r1 = 'MEF1'\n",
    "r2 = 'MEF2'\n",
    "r3 = 'MEF3'\n",
    "\n",
    "df1['replicate']= r1\n",
    "df2['replicate']= r2\n",
    "df3['replicate']= r3\n",
    "\n",
    "for df in [df7, df8, df9]:\n",
    "    df['replicate'] = 'MEF1'\n",
    "    \n",
    "for df in [df10, df11, df12]:\n",
    "    df['replicate'] = 'MEF2'\n",
    "\n",
    "for df in [df13, df14, df15]:\n",
    "    df['replicate'] = 'MEF3'"
   ]
  },
  {
   "cell_type": "code",
   "execution_count": 10,
   "metadata": {},
   "outputs": [],
   "source": [
    "# Merge all DataFrames from df1 to df15 using pd.concat\n",
    "df_CTFR_all = pd.concat([df1,df2,df3,df4], ignore_index=True)\n",
    "\n",
    "df_CTFR_380 = df5\n",
    "\n",
    "df_14dpi = pd.concat([df6, df7, df8, df9, df10, df11, df12, df13, df14, df15], ignore_index=True)"
   ]
  },
  {
   "cell_type": "code",
   "execution_count": 11,
   "metadata": {},
   "outputs": [],
   "source": [
    "columns_to_keep = [\n",
    "    'CTFR-A', 'DOX', 'DOX-Day', 'FSC-A',\n",
    "    'eGFP-A', 'TagBFP-A', 'mCherry-A',\n",
    "    'reporter', 'modRNA', 'well','replicate'\n",
    "]"
   ]
  },
  {
   "cell_type": "code",
   "execution_count": 12,
   "metadata": {},
   "outputs": [
    {
     "data": {
      "text/plain": [
       "Index(['infection', 'DOX', 'modRNA', 'well', 'population', 'FSC-A', 'FSC-H',\n",
       "       'FSC-W', 'SSC-A', 'SSC-H', 'SSC-W', 'eGFP-A', 'eGFP-H', 'eGFP-W',\n",
       "       'CTFR-A', 'CTFR-H', 'CTFR-W', 'TagBFP-A', 'TagBFP-H', 'TagBFP-W',\n",
       "       'mCherry-A', 'mCherry-H', 'mCherry-W', 'Time', 'replicate', 'reporter'],\n",
       "      dtype='object')"
      ]
     },
     "execution_count": 12,
     "metadata": {},
     "output_type": "execute_result"
    }
   ],
   "source": [
    "df_CTFR_all.columns.unique()"
   ]
  },
  {
   "cell_type": "code",
   "execution_count": 13,
   "metadata": {},
   "outputs": [],
   "source": [
    "df_CTFR_all['reporter'] = df_CTFR_all.get('reporter').fillna(df_CTFR_all.get('infection'))"
   ]
  },
  {
   "cell_type": "code",
   "execution_count": 14,
   "metadata": {},
   "outputs": [
    {
     "data": {
      "text/plain": [
       "Index(['reporter', 'DOX', 'CRE', 'replicate', 'well', 'population', 'FSC-A',\n",
       "       'FSC-H', 'FSC-W', 'SSC-A', 'SSC-H', 'SSC-W', 'eGFP-A', 'eGFP-H',\n",
       "       'eGFP-W', 'CTFR-A', 'CTFR-H', 'CTFR-W', 'TagBFP-A', 'TagBFP-H',\n",
       "       'TagBFP-W', 'mCherry-A', 'mCherry-H', 'mCherry-W', 'Time'],\n",
       "      dtype='object')"
      ]
     },
     "execution_count": 14,
     "metadata": {},
     "output_type": "execute_result"
    }
   ],
   "source": [
    "df_CTFR_380.columns.unique()"
   ]
  },
  {
   "cell_type": "code",
   "execution_count": 15,
   "metadata": {},
   "outputs": [],
   "source": [
    "df_CTFR_380.rename(columns={'CRE': 'modRNA'}, inplace=True)"
   ]
  },
  {
   "cell_type": "code",
   "execution_count": 16,
   "metadata": {},
   "outputs": [
    {
     "data": {
      "text/plain": [
       "Index(['reporter', 'DOX', 'DOX-Day', 'CRE', 'Date', 'well', 'population',\n",
       "       'FSC-A', 'FSC-H', 'FSC-W', 'SSC-A', 'SSC-H', 'SSC-W', 'GFP-A', 'GFP-H',\n",
       "       'GFP-W', 'co-inf_TagBFP-A', 'co-inf_TagBFP-H', 'co-inf_TagBFP-W',\n",
       "       'hRAS_mCherry-A', 'hRAS_mCherry-H', 'hRAS_mCherry-W', 'Time',\n",
       "       'replicate'],\n",
       "      dtype='object')"
      ]
     },
     "execution_count": 16,
     "metadata": {},
     "output_type": "execute_result"
    }
   ],
   "source": [
    "df_14dpi.columns.unique()"
   ]
  },
  {
   "cell_type": "code",
   "execution_count": 17,
   "metadata": {},
   "outputs": [],
   "source": [
    "df_14dpi.rename(columns={'CRE': 'modRNA'}, inplace=True)\n",
    "df_14dpi.rename(columns={'co-inf_TagBFP-A': 'TagBFP-A'}, inplace=True)\n",
    "df_14dpi.rename(columns={'hRAS_mCherry-A': 'mCherry-A'}, inplace=True)\n",
    "df_14dpi.rename(columns={'GFP-A': 'eGFP-A'}, inplace=True)"
   ]
  },
  {
   "cell_type": "code",
   "execution_count": 18,
   "metadata": {},
   "outputs": [],
   "source": [
    "for name in ['df_CTFR_all', 'df_CTFR_380', 'df_14dpi']:\n",
    "    df = globals()[name]\n",
    "    filtered = df.loc[:, [col for col in columns_to_keep if col in df.columns]]\n",
    "    globals()[name] = filtered"
   ]
  },
  {
   "cell_type": "markdown",
   "metadata": {},
   "source": [
    "Get rid of negative values"
   ]
  },
  {
   "cell_type": "code",
   "execution_count": 19,
   "metadata": {},
   "outputs": [],
   "source": [
    "columns_to_gate = [\n",
    "    'CTFR-A', 'FSC-A',\n",
    "    'eGFP-A', 'TagBFP-A', 'mCherry-A'\n",
    "]"
   ]
  },
  {
   "cell_type": "code",
   "execution_count": 20,
   "metadata": {},
   "outputs": [],
   "source": [
    "for name in ['df_CTFR_all', 'df_CTFR_380', 'df_14dpi']:\n",
    "    df = globals()[name]\n",
    "\n",
    "    # For each column in columns_to_keep that exists in df,\n",
    "    # keep only rows where the value is > 0\n",
    "    for col in columns_to_gate:\n",
    "        if col in df.columns:\n",
    "            df = df[df[col] > 0]\n",
    "\n",
    "    # Update the variable with the filtered df\n",
    "    globals()[name] = df"
   ]
  },
  {
   "cell_type": "markdown",
   "metadata": {},
   "source": [
    "## CTFR gate"
   ]
  },
  {
   "cell_type": "code",
   "execution_count": 21,
   "metadata": {},
   "outputs": [
    {
     "data": {
      "text/plain": [
       "array(['203bp-hR', '380bp-hR', '610bp-hR', 'loxPcon-hR', 'Puro', 'retro',\n",
       "       'None', 'loxPrept'], dtype=object)"
      ]
     },
     "execution_count": 21,
     "metadata": {},
     "output_type": "execute_result"
    }
   ],
   "source": [
    "df_CTFR_all.reporter.unique()"
   ]
  },
  {
   "cell_type": "code",
   "execution_count": 22,
   "metadata": {},
   "outputs": [
    {
     "data": {
      "text/plain": [
       "array(['None', 'Puro', '380 bp', 'loxPrept'], dtype=object)"
      ]
     },
     "execution_count": 22,
     "metadata": {},
     "output_type": "execute_result"
    }
   ],
   "source": [
    "df_CTFR_380.reporter.unique()"
   ]
  },
  {
   "cell_type": "code",
   "execution_count": 23,
   "metadata": {},
   "outputs": [
    {
     "data": {
      "text/plain": [
       "array(['LNI.SDD.hRAS', 'None', 'loxPrept', '203 bp', '380 bp', '610 bp',\n",
       "       'loxP control'], dtype=object)"
      ]
     },
     "execution_count": 23,
     "metadata": {},
     "output_type": "execute_result"
    }
   ],
   "source": [
    "df_14dpi.reporter.unique()"
   ]
  },
  {
   "cell_type": "markdown",
   "metadata": {},
   "source": [
    "### CTFR_all from 2025.03.30"
   ]
  },
  {
   "cell_type": "code",
   "execution_count": 24,
   "metadata": {},
   "outputs": [
    {
     "data": {
      "text/html": [
       "<div>\n",
       "<style scoped>\n",
       "    .dataframe tbody tr th:only-of-type {\n",
       "        vertical-align: middle;\n",
       "    }\n",
       "\n",
       "    .dataframe tbody tr th {\n",
       "        vertical-align: top;\n",
       "    }\n",
       "\n",
       "    .dataframe thead th {\n",
       "        text-align: right;\n",
       "    }\n",
       "</style>\n",
       "<table border=\"1\" class=\"dataframe\">\n",
       "  <thead>\n",
       "    <tr style=\"text-align: right;\">\n",
       "      <th></th>\n",
       "      <th>CTFR-A</th>\n",
       "      <th>DOX</th>\n",
       "      <th>FSC-A</th>\n",
       "      <th>eGFP-A</th>\n",
       "      <th>TagBFP-A</th>\n",
       "      <th>mCherry-A</th>\n",
       "      <th>reporter</th>\n",
       "      <th>modRNA</th>\n",
       "      <th>well</th>\n",
       "      <th>replicate</th>\n",
       "    </tr>\n",
       "  </thead>\n",
       "  <tbody>\n",
       "    <tr>\n",
       "      <th>16919432</th>\n",
       "      <td>33787.0</td>\n",
       "      <td>NO DOX</td>\n",
       "      <td>448142.0</td>\n",
       "      <td>226</td>\n",
       "      <td>539.0</td>\n",
       "      <td>192</td>\n",
       "      <td>Puro</td>\n",
       "      <td>&lt;NA&gt;</td>\n",
       "      <td>B1</td>\n",
       "      <td>MEF1</td>\n",
       "    </tr>\n",
       "    <tr>\n",
       "      <th>16919434</th>\n",
       "      <td>2159.0</td>\n",
       "      <td>NO DOX</td>\n",
       "      <td>496451.0</td>\n",
       "      <td>80</td>\n",
       "      <td>101.0</td>\n",
       "      <td>26</td>\n",
       "      <td>Puro</td>\n",
       "      <td>&lt;NA&gt;</td>\n",
       "      <td>B1</td>\n",
       "      <td>MEF1</td>\n",
       "    </tr>\n",
       "    <tr>\n",
       "      <th>16919437</th>\n",
       "      <td>12037.0</td>\n",
       "      <td>NO DOX</td>\n",
       "      <td>467655.0</td>\n",
       "      <td>166</td>\n",
       "      <td>158.0</td>\n",
       "      <td>27</td>\n",
       "      <td>Puro</td>\n",
       "      <td>&lt;NA&gt;</td>\n",
       "      <td>B1</td>\n",
       "      <td>MEF1</td>\n",
       "    </tr>\n",
       "    <tr>\n",
       "      <th>16919438</th>\n",
       "      <td>6940.0</td>\n",
       "      <td>NO DOX</td>\n",
       "      <td>367439.0</td>\n",
       "      <td>74</td>\n",
       "      <td>77.0</td>\n",
       "      <td>39</td>\n",
       "      <td>Puro</td>\n",
       "      <td>&lt;NA&gt;</td>\n",
       "      <td>B1</td>\n",
       "      <td>MEF1</td>\n",
       "    </tr>\n",
       "    <tr>\n",
       "      <th>16919440</th>\n",
       "      <td>17320.0</td>\n",
       "      <td>NO DOX</td>\n",
       "      <td>730845.0</td>\n",
       "      <td>88</td>\n",
       "      <td>361.0</td>\n",
       "      <td>106</td>\n",
       "      <td>Puro</td>\n",
       "      <td>&lt;NA&gt;</td>\n",
       "      <td>B1</td>\n",
       "      <td>MEF1</td>\n",
       "    </tr>\n",
       "    <tr>\n",
       "      <th>...</th>\n",
       "      <td>...</td>\n",
       "      <td>...</td>\n",
       "      <td>...</td>\n",
       "      <td>...</td>\n",
       "      <td>...</td>\n",
       "      <td>...</td>\n",
       "      <td>...</td>\n",
       "      <td>...</td>\n",
       "      <td>...</td>\n",
       "      <td>...</td>\n",
       "    </tr>\n",
       "    <tr>\n",
       "      <th>17099484</th>\n",
       "      <td>10640.0</td>\n",
       "      <td>NO DOX</td>\n",
       "      <td>329738.0</td>\n",
       "      <td>59</td>\n",
       "      <td>83.0</td>\n",
       "      <td>51</td>\n",
       "      <td>Puro</td>\n",
       "      <td>&lt;NA&gt;</td>\n",
       "      <td>C9</td>\n",
       "      <td>MEF3</td>\n",
       "    </tr>\n",
       "    <tr>\n",
       "      <th>17099485</th>\n",
       "      <td>68544.0</td>\n",
       "      <td>NO DOX</td>\n",
       "      <td>276569.0</td>\n",
       "      <td>335</td>\n",
       "      <td>2780.0</td>\n",
       "      <td>412</td>\n",
       "      <td>Puro</td>\n",
       "      <td>&lt;NA&gt;</td>\n",
       "      <td>C9</td>\n",
       "      <td>MEF3</td>\n",
       "    </tr>\n",
       "    <tr>\n",
       "      <th>17099486</th>\n",
       "      <td>42972.0</td>\n",
       "      <td>NO DOX</td>\n",
       "      <td>306967.0</td>\n",
       "      <td>103</td>\n",
       "      <td>1947.0</td>\n",
       "      <td>300</td>\n",
       "      <td>Puro</td>\n",
       "      <td>&lt;NA&gt;</td>\n",
       "      <td>C9</td>\n",
       "      <td>MEF3</td>\n",
       "    </tr>\n",
       "    <tr>\n",
       "      <th>17099487</th>\n",
       "      <td>37702.0</td>\n",
       "      <td>NO DOX</td>\n",
       "      <td>617096.0</td>\n",
       "      <td>38</td>\n",
       "      <td>667.0</td>\n",
       "      <td>69</td>\n",
       "      <td>Puro</td>\n",
       "      <td>&lt;NA&gt;</td>\n",
       "      <td>C9</td>\n",
       "      <td>MEF3</td>\n",
       "    </tr>\n",
       "    <tr>\n",
       "      <th>17099492</th>\n",
       "      <td>8314.0</td>\n",
       "      <td>NO DOX</td>\n",
       "      <td>348992.0</td>\n",
       "      <td>76</td>\n",
       "      <td>361.0</td>\n",
       "      <td>86</td>\n",
       "      <td>Puro</td>\n",
       "      <td>&lt;NA&gt;</td>\n",
       "      <td>C9</td>\n",
       "      <td>MEF3</td>\n",
       "    </tr>\n",
       "  </tbody>\n",
       "</table>\n",
       "<p>96023 rows × 10 columns</p>\n",
       "</div>"
      ],
      "text/plain": [
       "           CTFR-A     DOX     FSC-A eGFP-A  TagBFP-A mCherry-A reporter  \\\n",
       "16919432  33787.0  NO DOX  448142.0    226     539.0       192     Puro   \n",
       "16919434   2159.0  NO DOX  496451.0     80     101.0        26     Puro   \n",
       "16919437  12037.0  NO DOX  467655.0    166     158.0        27     Puro   \n",
       "16919438   6940.0  NO DOX  367439.0     74      77.0        39     Puro   \n",
       "16919440  17320.0  NO DOX  730845.0     88     361.0       106     Puro   \n",
       "...           ...     ...       ...    ...       ...       ...      ...   \n",
       "17099484  10640.0  NO DOX  329738.0     59      83.0        51     Puro   \n",
       "17099485  68544.0  NO DOX  276569.0    335    2780.0       412     Puro   \n",
       "17099486  42972.0  NO DOX  306967.0    103    1947.0       300     Puro   \n",
       "17099487  37702.0  NO DOX  617096.0     38     667.0        69     Puro   \n",
       "17099492   8314.0  NO DOX  348992.0     76     361.0        86     Puro   \n",
       "\n",
       "         modRNA well replicate  \n",
       "16919432   <NA>   B1      MEF1  \n",
       "16919434   <NA>   B1      MEF1  \n",
       "16919437   <NA>   B1      MEF1  \n",
       "16919438   <NA>   B1      MEF1  \n",
       "16919440   <NA>   B1      MEF1  \n",
       "...         ...  ...       ...  \n",
       "17099484   <NA>   C9      MEF3  \n",
       "17099485   <NA>   C9      MEF3  \n",
       "17099486   <NA>   C9      MEF3  \n",
       "17099487   <NA>   C9      MEF3  \n",
       "17099492   <NA>   C9      MEF3  \n",
       "\n",
       "[96023 rows x 10 columns]"
      ]
     },
     "execution_count": 24,
     "metadata": {},
     "output_type": "execute_result"
    }
   ],
   "source": [
    "df_CTFR_all[df_CTFR_all['reporter'] == 'Puro']"
   ]
  },
  {
   "cell_type": "code",
   "execution_count": 25,
   "metadata": {},
   "outputs": [
    {
     "name": "stdout",
     "output_type": "stream",
     "text": [
      "MEF1 CTFR_gate: 3719.0\n",
      "MEF2 CTFR_gate: 5447.6\n",
      "MEF3 CTFR_gate: 7304.400000000001\n"
     ]
    }
   ],
   "source": [
    "# Initialize an empty dictionary to store the results for each repetition\n",
    "CTFR_all_gate_dict = {}\n",
    "\n",
    "# Loop through each repetition\n",
    "reps = [r1, r2, r3]\n",
    "for rep in reps:\n",
    "    # Create CTFR_gate_Cre for each rep\n",
    "    CTFR_all_gate_dict[rep] = df_CTFR_all[(df_CTFR_all['reporter'] == 'Puro') &\n",
    "                        (df_CTFR_all['replicate'] == rep)]['CTFR-A'].quantile(0.2)\n",
    "# Optionally, you can print the results\n",
    "\n",
    "for rep, gate in CTFR_all_gate_dict.items():\n",
    "    print(f\"{rep} CTFR_gate: {gate}\")"
   ]
  },
  {
   "cell_type": "markdown",
   "metadata": {},
   "source": [
    "### CTFR_380 from 2025.04.27"
   ]
  },
  {
   "cell_type": "code",
   "execution_count": 26,
   "metadata": {},
   "outputs": [
    {
     "data": {
      "text/html": [
       "<div>\n",
       "<style scoped>\n",
       "    .dataframe tbody tr th:only-of-type {\n",
       "        vertical-align: middle;\n",
       "    }\n",
       "\n",
       "    .dataframe tbody tr th {\n",
       "        vertical-align: top;\n",
       "    }\n",
       "\n",
       "    .dataframe thead th {\n",
       "        text-align: right;\n",
       "    }\n",
       "</style>\n",
       "<table border=\"1\" class=\"dataframe\">\n",
       "  <thead>\n",
       "    <tr style=\"text-align: right;\">\n",
       "      <th></th>\n",
       "      <th>CTFR-A</th>\n",
       "      <th>DOX</th>\n",
       "      <th>FSC-A</th>\n",
       "      <th>eGFP-A</th>\n",
       "      <th>TagBFP-A</th>\n",
       "      <th>mCherry-A</th>\n",
       "      <th>reporter</th>\n",
       "      <th>modRNA</th>\n",
       "      <th>well</th>\n",
       "      <th>replicate</th>\n",
       "    </tr>\n",
       "  </thead>\n",
       "  <tbody>\n",
       "    <tr>\n",
       "      <th>103102</th>\n",
       "      <td>12156.0</td>\n",
       "      <td>NO DOX</td>\n",
       "      <td>272522.0</td>\n",
       "      <td>56</td>\n",
       "      <td>1639.0</td>\n",
       "      <td>191</td>\n",
       "      <td>Puro</td>\n",
       "      <td>None</td>\n",
       "      <td>B10</td>\n",
       "      <td>MEF3</td>\n",
       "    </tr>\n",
       "    <tr>\n",
       "      <th>103103</th>\n",
       "      <td>4327.0</td>\n",
       "      <td>NO DOX</td>\n",
       "      <td>226799.0</td>\n",
       "      <td>82</td>\n",
       "      <td>183.0</td>\n",
       "      <td>22</td>\n",
       "      <td>Puro</td>\n",
       "      <td>None</td>\n",
       "      <td>B10</td>\n",
       "      <td>MEF3</td>\n",
       "    </tr>\n",
       "    <tr>\n",
       "      <th>103104</th>\n",
       "      <td>9014.0</td>\n",
       "      <td>NO DOX</td>\n",
       "      <td>506966.0</td>\n",
       "      <td>20</td>\n",
       "      <td>648.0</td>\n",
       "      <td>247</td>\n",
       "      <td>Puro</td>\n",
       "      <td>None</td>\n",
       "      <td>B10</td>\n",
       "      <td>MEF3</td>\n",
       "    </tr>\n",
       "    <tr>\n",
       "      <th>103105</th>\n",
       "      <td>11995.0</td>\n",
       "      <td>NO DOX</td>\n",
       "      <td>351065.0</td>\n",
       "      <td>165</td>\n",
       "      <td>953.0</td>\n",
       "      <td>217</td>\n",
       "      <td>Puro</td>\n",
       "      <td>None</td>\n",
       "      <td>B10</td>\n",
       "      <td>MEF3</td>\n",
       "    </tr>\n",
       "    <tr>\n",
       "      <th>103106</th>\n",
       "      <td>4767.0</td>\n",
       "      <td>NO DOX</td>\n",
       "      <td>213693.0</td>\n",
       "      <td>65</td>\n",
       "      <td>570.0</td>\n",
       "      <td>13</td>\n",
       "      <td>Puro</td>\n",
       "      <td>None</td>\n",
       "      <td>B10</td>\n",
       "      <td>MEF3</td>\n",
       "    </tr>\n",
       "    <tr>\n",
       "      <th>...</th>\n",
       "      <td>...</td>\n",
       "      <td>...</td>\n",
       "      <td>...</td>\n",
       "      <td>...</td>\n",
       "      <td>...</td>\n",
       "      <td>...</td>\n",
       "      <td>...</td>\n",
       "      <td>...</td>\n",
       "      <td>...</td>\n",
       "      <td>...</td>\n",
       "    </tr>\n",
       "    <tr>\n",
       "      <th>157923</th>\n",
       "      <td>85112.0</td>\n",
       "      <td>NO DOX</td>\n",
       "      <td>293535.0</td>\n",
       "      <td>223</td>\n",
       "      <td>1092.0</td>\n",
       "      <td>256</td>\n",
       "      <td>Puro</td>\n",
       "      <td>None</td>\n",
       "      <td>B9</td>\n",
       "      <td>MEF3</td>\n",
       "    </tr>\n",
       "    <tr>\n",
       "      <th>157926</th>\n",
       "      <td>8370.0</td>\n",
       "      <td>NO DOX</td>\n",
       "      <td>370006.0</td>\n",
       "      <td>11</td>\n",
       "      <td>316.0</td>\n",
       "      <td>68</td>\n",
       "      <td>Puro</td>\n",
       "      <td>None</td>\n",
       "      <td>B9</td>\n",
       "      <td>MEF3</td>\n",
       "    </tr>\n",
       "    <tr>\n",
       "      <th>157928</th>\n",
       "      <td>12695.0</td>\n",
       "      <td>NO DOX</td>\n",
       "      <td>423220.0</td>\n",
       "      <td>8</td>\n",
       "      <td>246.0</td>\n",
       "      <td>151</td>\n",
       "      <td>Puro</td>\n",
       "      <td>None</td>\n",
       "      <td>B9</td>\n",
       "      <td>MEF3</td>\n",
       "    </tr>\n",
       "    <tr>\n",
       "      <th>157929</th>\n",
       "      <td>22925.0</td>\n",
       "      <td>NO DOX</td>\n",
       "      <td>430008.0</td>\n",
       "      <td>114</td>\n",
       "      <td>434.0</td>\n",
       "      <td>94</td>\n",
       "      <td>Puro</td>\n",
       "      <td>None</td>\n",
       "      <td>B9</td>\n",
       "      <td>MEF3</td>\n",
       "    </tr>\n",
       "    <tr>\n",
       "      <th>157932</th>\n",
       "      <td>8459.0</td>\n",
       "      <td>NO DOX</td>\n",
       "      <td>407786.0</td>\n",
       "      <td>98</td>\n",
       "      <td>303.0</td>\n",
       "      <td>78</td>\n",
       "      <td>Puro</td>\n",
       "      <td>None</td>\n",
       "      <td>B9</td>\n",
       "      <td>MEF3</td>\n",
       "    </tr>\n",
       "  </tbody>\n",
       "</table>\n",
       "<p>35270 rows × 10 columns</p>\n",
       "</div>"
      ],
      "text/plain": [
       "         CTFR-A     DOX     FSC-A  eGFP-A  TagBFP-A  mCherry-A reporter  \\\n",
       "103102  12156.0  NO DOX  272522.0      56    1639.0        191     Puro   \n",
       "103103   4327.0  NO DOX  226799.0      82     183.0         22     Puro   \n",
       "103104   9014.0  NO DOX  506966.0      20     648.0        247     Puro   \n",
       "103105  11995.0  NO DOX  351065.0     165     953.0        217     Puro   \n",
       "103106   4767.0  NO DOX  213693.0      65     570.0         13     Puro   \n",
       "...         ...     ...       ...     ...       ...        ...      ...   \n",
       "157923  85112.0  NO DOX  293535.0     223    1092.0        256     Puro   \n",
       "157926   8370.0  NO DOX  370006.0      11     316.0         68     Puro   \n",
       "157928  12695.0  NO DOX  423220.0       8     246.0        151     Puro   \n",
       "157929  22925.0  NO DOX  430008.0     114     434.0         94     Puro   \n",
       "157932   8459.0  NO DOX  407786.0      98     303.0         78     Puro   \n",
       "\n",
       "       modRNA well replicate  \n",
       "103102   None  B10      MEF3  \n",
       "103103   None  B10      MEF3  \n",
       "103104   None  B10      MEF3  \n",
       "103105   None  B10      MEF3  \n",
       "103106   None  B10      MEF3  \n",
       "...       ...  ...       ...  \n",
       "157923   None   B9      MEF3  \n",
       "157926   None   B9      MEF3  \n",
       "157928   None   B9      MEF3  \n",
       "157929   None   B9      MEF3  \n",
       "157932   None   B9      MEF3  \n",
       "\n",
       "[35270 rows x 10 columns]"
      ]
     },
     "execution_count": 26,
     "metadata": {},
     "output_type": "execute_result"
    }
   ],
   "source": [
    "df_CTFR_380[df_CTFR_380['reporter']== 'Puro']"
   ]
  },
  {
   "cell_type": "code",
   "execution_count": 27,
   "metadata": {},
   "outputs": [
    {
     "name": "stdout",
     "output_type": "stream",
     "text": [
      "MEF1 CTFR_gate: 7074.6\n",
      "MEF2 CTFR_gate: 6347.6\n",
      "MEF3 CTFR_gate: 6529.0\n"
     ]
    }
   ],
   "source": [
    "# Initialize an empty dictionary to store the results for each repetition\n",
    "CTFR_380_gate_dict = {}\n",
    "\n",
    "# Loop through each repetition\n",
    "reps = [r1, r2, r3]\n",
    "for rep in reps:\n",
    "    # Create CTFR_gate_Cre for each rep\n",
    "    CTFR_380_gate_dict[rep] = df_CTFR_380[(df_CTFR_380['reporter'] == 'Puro') &\n",
    "                        (df_CTFR_380['replicate'] == rep)]['CTFR-A'].quantile(0.2)\n",
    "# Optionally, you can print the results\n",
    "\n",
    "for rep, gate in CTFR_380_gate_dict.items():\n",
    "    print(f\"{rep} CTFR_gate: {gate}\")"
   ]
  },
  {
   "cell_type": "markdown",
   "metadata": {},
   "source": [
    "## Plotting Functions"
   ]
  },
  {
   "cell_type": "code",
   "execution_count": 28,
   "metadata": {},
   "outputs": [],
   "source": [
    "sns.set_theme(style=\"ticks\",font='Arial',font_scale=1)\n",
    "plt.rcParams['font.family'] = 'Arial'\n",
    "\n",
    "def custom_barplot(x,y,data,filename,height=4,width=8,hue=None,xlabel_rot=90,xlabel='',plottitle='',palette='viridis',order=None,hue_order=None,pairs=None,alpha=0.8,reps=None,subfolder=None):\n",
    "    aspect = width / height\n",
    "    g = sns.catplot(x=x,y=y,data=data,height=height,aspect=aspect,palette=palette,kind='bar',hue=hue,order=order,hue_order=hue_order,alpha=alpha,errorbar='ci',legend=None)\n",
    "    ax = plt.gca()\n",
    "    \n",
    "    if order != None:\n",
    "        labels = [ '\\n('.join(l.split('(')) for l in order]\n",
    "        labels = [ '\\n'.join(l.split(' ')) for l in labels]\n",
    "    else:\n",
    "        labels = None\n",
    "\n",
    "    if hue == None:\n",
    "        dodge = False\n",
    "    elif hue != None:\n",
    "        dodge = True\n",
    "\n",
    "    if reps is None:\n",
    "        g.map_dataframe(sns.stripplot, x=x,y=y, \n",
    "                    hue=hue, palette=[\"#404040\"], \n",
    "                    alpha=0.8, dodge=dodge,order=order,hue_order=hue_order)\n",
    "    \n",
    "    marker_list = ['o', '^', 's', 'D', 'P', 'X']\n",
    "\n",
    "    if reps is not None:\n",
    "        for (j, rep) in enumerate(data[reps].unique()):\n",
    "            sns.stripplot(\n",
    "                ax=ax, data=data[data[reps] == rep],\n",
    "                x=x, y=y,\n",
    "                order=order,\n",
    "                hue=hue,\n",
    "                hue_order=hue_order,\n",
    "                dodge=dodge, marker=marker_list[j],\n",
    "                palette=['white'], size=5,\n",
    "                edgecolor='black', linewidth=0.4,\n",
    "                legend=None)\n",
    "\n",
    "    if pairs != None:\n",
    "        annotator = Annotator(ax,pairs,data=data,x=x,y=y,order=order,hue=hue,hue_order=hue_order)\n",
    "        annotator.configure(test='t-test_ind',text_format='star',loc='inside', verbose=2)\n",
    "        annotator.apply_and_annotate()\n",
    "        #add_stat_annotation(ax, data=data, x=xcat, y=ycat, order=order,\n",
    "        #            box_pairs=pairs,\n",
    "        #            test='t-test_ind', text_format='star', verbose=2)\n",
    "\n",
    "    ymin, ymax = ax.get_ylim()\n",
    "    if ymax > 1000:\n",
    "        k_formatter = matplotlib.ticker.FuncFormatter(lambda x, _: f'{x:.0f}' if abs(x) < 1000 else f'{x/1000:.0f}k')\n",
    "        ax.yaxis.set_major_formatter(k_formatter)\n",
    "\n",
    "    #sns.despine(fig=None, ax=None, top=False, right=False, left=False, bottom=False, offset=None, trim=False) # make plot bounded on all sides\n",
    "    \n",
    "    g.set_xticklabels(labels,rotation=xlabel_rot, horizontalalignment='center' if xlabel_rot==0 else 'right')\n",
    "    plt.xlabel(xlabel)\n",
    "    plt.ylabel(y)\n",
    "    plt.title(plottitle)\n",
    "\n",
    "    if hue is not None:\n",
    "        ax.legend(bbox_to_anchor=(1.05, 1), loc='upper left', borderaxespad=0.0, frameon=False)  # Adjust bbox_to_anchor as needed\n",
    "\n",
    "    plt.subplots_adjust(left=0.2, right=0.95, top=0.9, bottom=0.25) # make all plots have the same area\n",
    "    #g.tight_layout()\n",
    "    if subfolder == False:\n",
    "        g.savefig(outputdir/str(filename + '.svg'),dpi=300)\n",
    "    else:\n",
    "        g.savefig(outputdir/subfolder/str(filename + '.svg'),dpi=300)\n",
    "\n",
    "\n",
    "def custom_catplot(xcat,ycat,data,savetitle,hue=None,hue_order=None,height=3,width=6,\n",
    "                   xlabel_rot=0,xlabel='',plottitle='',order=None,palette=None,pairs=None,color=None,log=False,sci=False,reps=None,errorbar=True):\n",
    "\n",
    "    if hue == None:\n",
    "        dodge = False\n",
    "    elif hue != None:\n",
    "        dodge = 0.4\n",
    "\n",
    "    if errorbar == True:\n",
    "        plt.figure(figsize=(width,height))\n",
    "        g = sns.pointplot(x=xcat,y=ycat,data=data,errorbar='se',join=False,capsize=0.05, hue_order=hue_order,\n",
    "                        palette=palette,markers='_',scale=.7,errwidth=1.5,order=order,hue=hue,color=color,dodge=0.7)\n",
    "        ax = plt.gca()\n",
    "\n",
    "        marker_list = ['o', '^', 's', 'D', 'P', 'X']\n",
    "        if reps is not None:\n",
    "            for (j, rep) in enumerate(data[reps].unique()):\n",
    "                sns.stripplot(\n",
    "                    ax=ax, data=data[data[reps] == rep],\n",
    "                    x=xcat, y=ycat,\n",
    "                    order=order,\n",
    "                    hue=hue,\n",
    "                    hue_order=hue_order,\n",
    "                    dodge=dodge, marker=marker_list[j],\n",
    "                    #color='white',\n",
    "                    palette=palette,\n",
    "                    size=5,\n",
    "                    edgecolor='white', linewidth=0.4,\n",
    "                    legend=None)\n",
    "                \n",
    "        #g.set_xticklabels(labels,rotation=xlabel_rot, horizontalalignment='center' if xlabel_rot==0 else 'right')\n",
    "\n",
    "    if errorbar == False:\n",
    "        g = plt.figure(figsize=(width,height))\n",
    "        ax = plt.gca()\n",
    "        marker_list = ['o', '^', 's', 'D', 'P', 'X']\n",
    "        if reps is not None:\n",
    "            for (j, rep) in enumerate(data[reps].unique()):\n",
    "                sns.stripplot(\n",
    "                    #ax=ax,\n",
    "                    data=data[data[reps] == rep],\n",
    "                    x=xcat, y=ycat,\n",
    "                    order=order,\n",
    "                    hue=hue,\n",
    "                    hue_order=hue_order,\n",
    "                    dodge=dodge, marker=marker_list[j],\n",
    "                    #color='white',\n",
    "                    palette=palette,\n",
    "                    size=10,\n",
    "                    edgecolor='white', linewidth=0.4,\n",
    "                    )\n",
    "    \n",
    "\n",
    "    handles, labels = ax.get_legend_handles_labels()\n",
    "    plt.legend(handles[0:len(hue_order)], labels[0:len(hue_order)], bbox_to_anchor=(1.05, 1), loc='upper left', borderaxespad=0., frameon=False)\n",
    "    \n",
    "    if order != None:\n",
    "        #labels = [ '\\n'.join(wrap(l, 7)) for l in order]\n",
    "        #labels = [ '\\n'.join(l.split(' ')) for l in order]\n",
    "        labels = [ '\\n('.join(l.split('(')) for l in order]\n",
    "    else:\n",
    "        labels = None\n",
    "    ax.set_xticklabels(labels,rotation=xlabel_rot, horizontalalignment='center' if xlabel_rot==0 else 'right')\n",
    "\n",
    "    ymin, ymax = ax.get_ylim()\n",
    "    if log == True:\n",
    "        ax.set_yscale('log')\n",
    "    elif ymax > 1000:\n",
    "        if sci == True:\n",
    "            plt.ticklabel_format(axis='y',style='sci',scilimits=(0,0))\n",
    "        elif sci == False:\n",
    "            k_formatter = matplotlib.ticker.FuncFormatter(lambda x, _: f'{x:.0f}' if abs(x) < 1000 else f'{x/1000:.0f}k')\n",
    "            ax.yaxis.set_major_formatter(k_formatter)\n",
    "    \n",
    "    if pairs != None:\n",
    "        annotator = Annotator(ax,pairs,data=data,x=xcat,y=ycat,order=order,hue=hue,hue_order=hue_order)\n",
    "        annotator.configure(test='t-test_ind',text_format='star',loc='inside')\n",
    "        annotator.apply_and_annotate()\n",
    "\n",
    "    sns.despine(fig=None, ax=None, top=False, right=False, left=False, bottom=False, offset=None, trim=False)\n",
    "    \n",
    "    if hue == None:\n",
    "        plt.margins(x=0.3, y=0.3) # for some reason the plot is being weird and this makes it look better\n",
    "\n",
    "    #plt.legend([],[], frameon=False)\n",
    "    plt.xlabel(xlabel)\n",
    "    plt.ylabel(ycat)\n",
    "    plt.title(plottitle)\n",
    "    plt.subplots_adjust(left=0.2, right=0.95, top=0.9, bottom=0.25) # make all plots have the same area\n",
    "    #plt.tight_layout()\n",
    "    plt.savefig(outputdir/str(savetitle + '.svg'),dpi=600)\n",
    "    plt.show()\n",
    "\n",
    "def SK_dotplot( x, y, hue, data,pairs=[], palette = 'muted', order=None, hue_order =None, plottitle=\"\",savetitle = '',\n",
    "                 save_fig=False, dodge=True,x_rot=0, scientific=True,yscale=\"linear\", stat_text = 'star', \n",
    "                 ylim=False,aspect=None, plot_reps=True, join=False, foldchange=False,\n",
    "                 xlabel = 'Default', ylabel = 'Default', legend=True, xticklabels=True,\n",
    "                 type = 'pointplot', figsize = None, markers='o', pointplot_settings='old',\n",
    "                 fontsize=False, axis_lines={'top': False, 'bottom': True, 'left': True, 'right': False},capsize=True,subfolder=False):\n",
    "\n",
    "\n",
    "        if aspect != None:\n",
    "            g, ax = plt.subplots()\n",
    "            ax.set_box_aspect(aspect)\n",
    "            #plt.rc('ytick', labelsize=15) \n",
    "        if figsize != None:\n",
    "            plt.figure(figsize=figsize)\n",
    "\n",
    "        #plot all of the replicates of each condtion\n",
    "        if plot_reps == True:\n",
    "            g = sns.stripplot(data=data, x=x, y=y,hue=hue, dodge = dodge, alpha=0.2, palette=palette,size=4,hue_order=hue_order, order=order)\n",
    "\n",
    "        #Add in the means \n",
    "        #sns.barplot(x=\"reporter\", y=\"eGFP-A_gmean\",hue='rec', data=s, estimator=np.mean,capsize=.1,alpha=0.2,errwidth=2,errcolor='gray')\n",
    "        if dodge == True and hue is not None:\n",
    "            n_hue_levels = len(data[hue].unique())\n",
    "            if n_hue_levels > 1:\n",
    "                dodge_amt = 0.5\n",
    "            else:\n",
    "                dodge_amt = False\n",
    "        elif dodge == True and hue is None:\n",
    "            dodge_amt = 0.5\n",
    "        else:\n",
    "            dodge_amt = False\n",
    "\n",
    "        if type == 'pointplot':\n",
    "            if pointplot_settings == 'new':\n",
    "                g = sns.pointplot(x=x, y=y,hue=hue, data=data, estimator=np.mean, \n",
    "                            errorbar='se', capsize=0,errwidth=0.75, join=join,scale=0.75, dodge = dodge_amt , \n",
    "                            palette=palette,hue_order=hue_order, order=order, markers=markers)\n",
    "            #Old pointpolt settings\n",
    "            if pointplot_settings == 'old':\n",
    "                g = sns.pointplot(x=x, y=y,hue=hue, data=data, estimator=np.mean, \n",
    "                    errorbar='se', capsize=.18,errwidth=.75, join=join, markers=markers,scale=.75, dodge = dodge_amt , \n",
    "                    palette=palette,hue_order=hue_order, order=order)\n",
    "                \n",
    "            if pointplot_settings == 'fig6':\n",
    "                g = sns.pointplot(x=x, y=y,hue=hue, data=data, estimator=np.mean, \n",
    "                    errorbar='se', capsize=.42,errwidth=.75, join=join, markers=markers,scale=.75, dodge = dodge_amt , \n",
    "                    palette=palette,hue_order=hue_order, order=order)\n",
    "            if pointplot_settings == 'fig6_2':\n",
    "                g = sns.pointplot(x=x, y=y,hue=hue, data=data, estimator=np.mean, \n",
    "                    errorbar='se', capsize=.9,errwidth=.75, join=join, markers=markers,scale=.75, dodge = dodge_amt , \n",
    "                    palette=palette,hue_order=hue_order, order=order)\n",
    "            \n",
    "            if legend==False:\n",
    "                g.get_legend().remove()\n",
    "             \n",
    "\n",
    "        if type == 'barplot':\n",
    "            g = sns.barplot(x=x, y=y, hue=hue, data=data, estimator=np.mean,\n",
    "                            errorbar='se', capsize=.1,errwidth=1, dodge = dodge_amt , \n",
    "                    palette=palette, hue_order=hue_order, order=order, alpha = 0.7,markers=markers)\n",
    "        \n",
    "        \n",
    "        if (legend==True and hue != None):\n",
    "            # g is an Axes\n",
    "            handles, labels = g.get_legend_handles_labels()\n",
    "            g.legend(handles=handles, labels=labels, title='Condition', loc='upper left', bbox_to_anchor=(1, 1), frameon=False)\n",
    "\n",
    "    \n",
    "        \n",
    "        #rotate the x-labels\n",
    "        # labels = g.get_xticklabels()\n",
    "        # if xticklabels == False:\n",
    "        #     labels = []\n",
    "        if order != None:\n",
    "            labels = [ '\\n('.join(l.split('(')) for l in order]\n",
    "            labels = [ '\\n'.join(l.split(' ')) for l in labels]\n",
    "        g.set_xticklabels(labels=labels, rotation=x_rot, horizontalalignment='center' if x_rot==0 else 'right')\n",
    "\n",
    "\n",
    "\n",
    "        #set the y-scale\n",
    "        plt.yscale(yscale)\n",
    "\n",
    "        #Set ylim\n",
    "        if ylim != False:\n",
    "            g.set_ylim(ymin=ylim[0], ymax=ylim[1])\n",
    "\n",
    "        #make scientific axes \n",
    "        if scientific != False:\n",
    "            if yscale == \"linear\":\n",
    "                plt.ticklabel_format(axis='y',style='sci',scilimits=(0,0))\n",
    "\n",
    "        #Add in the T-tests\n",
    "        if len(pairs)>0:\n",
    "            add_stat_annotation(g, data=data, x=x, y=y,hue=hue,\n",
    "                        box_pairs=pairs, order=order, hue_order=hue_order,\n",
    "                        test='t-test_ind', text_format=stat_text, loc='inside', verbose=2, \n",
    "                        comparisons_correction= None)\n",
    "            if foldchange and len(pairs) > 0:\n",
    "                ylim_min, ylim_max = g.get_ylim()\n",
    "                y_range = ylim_max - ylim_min\n",
    "\n",
    "                n_hues = len(hue_order)\n",
    "                dodge_width = 0.4  # tweak this if needed\n",
    "\n",
    "                def get_dodge_offset(hue_idx):\n",
    "                    return dodge_width * (hue_idx - (n_hues - 1) / 2)\n",
    "\n",
    "                for i, pair in enumerate(pairs):\n",
    "                    # Parse tuple of tuples like: (('5 dpi', '5 dpi'), ('5 dpi + Cre', '5 dpi + Cre'))\n",
    "                    try:\n",
    "                        (x1, hue1), (x2, hue2) = pair\n",
    "                    except ValueError:\n",
    "                        print(f\"Skipping invalid pair format: {pair}\")\n",
    "                        continue\n",
    "\n",
    "                    # Must be same x group for fold change\n",
    "                    if x1 != x2:\n",
    "                        continue\n",
    "\n",
    "                    # Get data for each group\n",
    "                    data1 = data.loc[(data[x] == x1) & (data[hue] == hue1), y]\n",
    "                    data2 = data.loc[(data[x] == x2) & (data[hue] == hue2), y]\n",
    "\n",
    "                    if data1.empty or data2.empty or data1.isnull().all() or data2.isnull().all():\n",
    "                        continue\n",
    "\n",
    "                    mean1 = data1.mean()\n",
    "                    mean2 = data2.mean()\n",
    "\n",
    "                    if mean1 == 0 or np.isnan(mean1) or np.isnan(mean2):\n",
    "                        continue\n",
    "\n",
    "                    fc = mean2 / mean1\n",
    "\n",
    "                    # Position the annotation\n",
    "                    try:\n",
    "                        hue_pos1 = hue_order.index(hue1)\n",
    "                        hue_pos2 = hue_order.index(hue2)\n",
    "                        x_pos = order.index(x1)\n",
    "                    except ValueError:\n",
    "                        continue\n",
    "\n",
    "                    x_offset = (get_dodge_offset(hue_pos1) + get_dodge_offset(hue_pos2)) / 2\n",
    "                    x_text = x_pos + x_offset\n",
    "                    y_text = ylim_max + (0.05 + 0.05 * i) * y_range\n",
    "\n",
    "                    g.text(x_text, y_text, f'{fc:.2f}x', ha='center', va='bottom',\n",
    "                        fontsize=fontsize if fontsize else 10, color='black')\n",
    "\n",
    "\n",
    "        #set x-label and y-label \n",
    "        xl = xlabel; yl = ylabel; \n",
    "        if xlabel == 'Default': \n",
    "             xl = x\n",
    "        if ylabel == 'Default': \n",
    "             yl = y\n",
    "        plt.xlabel(xl)  # Adjust x-axis label\n",
    "        plt.ylabel(yl)  # Adjust y-axis label\n",
    "\n",
    "        if fontsize != False: \n",
    "            g.set_xlabel(xl, fontsize=fontsize)  # Adjust the font size of x-axis label\n",
    "            g.set_ylabel(yl, fontsize=fontsize)  # Adjust the font size of y-axis label\n",
    "            #set ticks \n",
    "            g.tick_params(axis='both', labelsize=fontsize,length=5)  # Adjust the font size of tick labels and tick lengths\n",
    "\n",
    "        plt.subplots_adjust(left=0.2, right=0.95, top=0.9, bottom=0.25) # make all plots have the same area\n",
    "\n",
    "        plt.title(plottitle)\n",
    "        g.spines['top'].set_visible(True)\n",
    "        g.spines['right'].set_visible(True)\n",
    "        g.spines['bottom'].set_visible(True)\n",
    "        g.spines['left'].set_visible(True)\n",
    "\n",
    "        if not axis_lines['top']:\n",
    "            g.spines['top'].set_visible(False)\n",
    "        if not axis_lines['right']:\n",
    "            g.spines['right'].set_visible(False)\n",
    "        if not axis_lines['bottom']:\n",
    "            g.spines['bottom'].set_visible(False)\n",
    "        if not axis_lines['left']:\n",
    "            g.spines['left'].set_visible(False)\n",
    "        \n",
    "        \n",
    "\n",
    "        # adjust figure size to accommodate all axes decorations\n",
    "        # plt.tight_layout()\n",
    "\n",
    "        if ylim:\n",
    "            plt.ylim(ylim[0], ylim[1])\n",
    "        \n",
    "        plt.show(g)\n",
    "        #save figure\n",
    "       \n",
    "        h = g.get_figure()\n",
    "        if save_fig==True:\n",
    "                if subfolder == False:\n",
    "                    h.savefig(outputdir/str(savetitle + '.svg'),dpi=300)\n",
    "                else:\n",
    "                    h.savefig(outputdir/subfolder/str(savetitle + '.svg'),dpi=300)\n",
    "        return g\n"
   ]
  },
  {
   "cell_type": "markdown",
   "metadata": {},
   "source": [
    "## 5 dpi plots"
   ]
  },
  {
   "cell_type": "markdown",
   "metadata": {},
   "source": [
    "### Compute summary stats"
   ]
  },
  {
   "cell_type": "code",
   "execution_count": 29,
   "metadata": {},
   "outputs": [],
   "source": [
    "df_CTFR_all['mCherry-A'] = pd.to_numeric(df_CTFR_all['mCherry-A'], errors='coerce')"
   ]
  },
  {
   "cell_type": "code",
   "execution_count": 30,
   "metadata": {},
   "outputs": [],
   "source": [
    "groups = ['replicate','reporter','DOX','modRNA','well'] # 'rep' must be first group!!!!\n",
    "\n",
    "def percent_hyperP(x):\n",
    "    rep = x.name[0]  # Assuming 'rep' is the first group\n",
    "    #gate_value = CTV_gates[rep]\n",
    "    gate_value = CTFR_all_gate_dict.get(rep)\n",
    "    return np.mean(x < gate_value) * 100\n",
    "\n",
    "def total_hyperP(x):\n",
    "    rep = x.name[0]  # Assuming 'rep' is the first group\n",
    "    gate_value = CTFR_all_gate_dict.get(rep)\n",
    "    return np.sum(x < gate_value)\n",
    "\n",
    "# Create the summary dataframe\n",
    "summary_df_CTFR_all = pd.concat([\n",
    "    df_CTFR_all.groupby(groups)['CTFR-A'].apply(total_hyperP).rename('(#) Total HyperP'),\n",
    "    df_CTFR_all.groupby(groups)['mCherry-A'].apply(scipy.stats.gmean).rename('Output gmean (mCherry)')\n",
    "], axis=1)\n",
    "summary_df_CTFR_all = summary_df_CTFR_all.reset_index()\n",
    "\n",
    "dot2plot = ['(#) Total HyperP', 'Normalized\\n# HyperP cells','Output gmean (mCherry)']"
   ]
  },
  {
   "cell_type": "code",
   "execution_count": 31,
   "metadata": {},
   "outputs": [],
   "source": [
    "def set_cond(row):\n",
    "    if row['DOX'] == 'NO DOX' and row['modRNA'] == 'None':\n",
    "        return 'None'\n",
    "    elif row['DOX'] == 'DOX' and row['modRNA'] == 'None':\n",
    "        return 'DOX'\n",
    "    elif row['DOX'] == 'DOX' and row['modRNA'] == 'eeBxb1':\n",
    "        return 'DOX+eeBxb1'\n",
    "    elif row['DOX'] == 'DOX' and row['modRNA'] == 'Puro-Cre':\n",
    "        return 'DOX+Cre'\n",
    "    else:\n",
    "        return None\n",
    "\n",
    "# Apply the function to create the 'cond' column\n",
    "summary_df_CTFR_all['cond'] = summary_df_CTFR_all.apply(set_cond, axis=1)"
   ]
  },
  {
   "cell_type": "code",
   "execution_count": 32,
   "metadata": {},
   "outputs": [],
   "source": [
    "summary_df_CTFR_all['reporter'] = summary_df_CTFR_all['reporter'].replace('380bp-hR', '380 bp')\n",
    "summary_df_CTFR_all['reporter'] = summary_df_CTFR_all['reporter'].replace('loxPcon-hR', 'loxP control')"
   ]
  },
  {
   "cell_type": "code",
   "execution_count": 33,
   "metadata": {},
   "outputs": [],
   "source": [
    "# Step 1: Compute average for each replicate+reporter group where cond == 'DOX+eeBxb1'\n",
    "averages = (\n",
    "    summary_df_CTFR_all[summary_df_CTFR_all['cond'] == 'DOX+eeBxb1']\n",
    "    .groupby(['replicate', 'reporter'])['(#) Total HyperP']\n",
    "    .mean()\n",
    ")\n",
    "\n",
    "# Step 2: Map the group average to each row based on its replicate and reporter\n",
    "summary_df_CTFR_all['DOX+eeBxb1 Avg per Rep_Reporter'] = summary_df_CTFR_all.set_index(['replicate', 'reporter']).index.map(averages)\n",
    "\n",
    "# Step 3: Normalize using the group average\n",
    "summary_df_CTFR_all['Normalized\\n# HyperP cells'] = (\n",
    "    summary_df_CTFR_all['(#) Total HyperP'] / summary_df_CTFR_all['DOX+eeBxb1 Avg per Rep_Reporter']\n",
    ")"
   ]
  },
  {
   "cell_type": "code",
   "execution_count": 53,
   "metadata": {},
   "outputs": [],
   "source": [
    "#save summary dataframe\n",
    "summary_df_CTFR_all.to_excel('Fig6_5dpiHyperP_reprogramming_TETDIAL_and_supps.xlsx',index=False)"
   ]
  },
  {
   "cell_type": "markdown",
   "metadata": {},
   "source": [
    "### per rep"
   ]
  },
  {
   "cell_type": "code",
   "execution_count": 38,
   "metadata": {},
   "outputs": [
    {
     "name": "stdout",
     "output_type": "stream",
     "text": [
      "p-value annotation legend:\n",
      "ns: 5.00e-02 < p <= 1.00e+00\n",
      "*: 1.00e-02 < p <= 5.00e-02\n",
      "**: 1.00e-03 < p <= 1.00e-02\n",
      "***: 1.00e-04 < p <= 1.00e-03\n",
      "****: p <= 1.00e-04\n",
      "\n",
      "380 bp_None v.s. 380 bp_DOX+eeBxb1: t-test independent samples, P_val=1.999e-05 stat=-7.527e+00\n",
      "380 bp_DOX+eeBxb1 v.s. 380 bp_DOX+Cre: t-test independent samples, P_val=3.074e-04 stat=-5.386e+00\n"
     ]
    },
    {
     "data": {
      "image/png": "[encoded data removed]",
      "text/plain": [
       "<Figure size 108x180 with 1 Axes>"
      ]
     },
     "metadata": {
      "needs_background": "light"
     },
     "output_type": "display_data"
    },
    {
     "name": "stdout",
     "output_type": "stream",
     "text": [
      "p-value annotation legend:\n",
      "ns: 5.00e-02 < p <= 1.00e+00\n",
      "*: 1.00e-02 < p <= 5.00e-02\n",
      "**: 1.00e-03 < p <= 1.00e-02\n",
      "***: 1.00e-04 < p <= 1.00e-03\n",
      "****: p <= 1.00e-04\n",
      "\n",
      "380 bp_None v.s. 380 bp_DOX+eeBxb1: t-test independent samples, P_val=1.999e-05 stat=-7.527e+00\n",
      "380 bp_DOX+eeBxb1 v.s. 380 bp_DOX+Cre: t-test independent samples, P_val=3.074e-04 stat=-5.386e+00\n"
     ]
    },
    {
     "data": {
      "image/png": "[encoded data removed]",
      "text/plain": [
       "<Figure size 108x180 with 1 Axes>"
      ]
     },
     "metadata": {
      "needs_background": "light"
     },
     "output_type": "display_data"
    },
    {
     "name": "stdout",
     "output_type": "stream",
     "text": [
      "p-value annotation legend:\n",
      "ns: 5.00e-02 < p <= 1.00e+00\n",
      "*: 1.00e-02 < p <= 5.00e-02\n",
      "**: 1.00e-03 < p <= 1.00e-02\n",
      "***: 1.00e-04 < p <= 1.00e-03\n",
      "****: p <= 1.00e-04\n",
      "\n",
      "380 bp_None v.s. 380 bp_DOX+eeBxb1: t-test independent samples, P_val=2.808e-11 stat=-3.106e+01\n",
      "380 bp_DOX+eeBxb1 v.s. 380 bp_DOX+Cre: t-test independent samples, P_val=1.782e-08 stat=-1.609e+01\n"
     ]
    },
    {
     "data": {
      "image/png": "[encoded data removed]",
      "text/plain": [
       "<Figure size 108x180 with 1 Axes>"
      ]
     },
     "metadata": {
      "needs_background": "light"
     },
     "output_type": "display_data"
    },
    {
     "name": "stdout",
     "output_type": "stream",
     "text": [
      "p-value annotation legend:\n",
      "ns: 5.00e-02 < p <= 1.00e+00\n",
      "*: 1.00e-02 < p <= 5.00e-02\n",
      "**: 1.00e-03 < p <= 1.00e-02\n",
      "***: 1.00e-04 < p <= 1.00e-03\n",
      "****: p <= 1.00e-04\n",
      "\n",
      "loxP control_None v.s. loxP control_DOX+eeBxb1: t-test independent samples, P_val=2.890e-11 stat=-3.097e+01\n",
      "loxP control_DOX+eeBxb1 v.s. loxP control_DOX+Cre: t-test independent samples, P_val=7.241e-04 stat=4.800e+00\n"
     ]
    },
    {
     "data": {
      "image/png": "[encoded data removed]",
      "text/plain": [
       "<Figure size 108x180 with 1 Axes>"
      ]
     },
     "metadata": {
      "needs_background": "light"
     },
     "output_type": "display_data"
    },
    {
     "name": "stdout",
     "output_type": "stream",
     "text": [
      "p-value annotation legend:\n",
      "ns: 5.00e-02 < p <= 1.00e+00\n",
      "*: 1.00e-02 < p <= 5.00e-02\n",
      "**: 1.00e-03 < p <= 1.00e-02\n",
      "***: 1.00e-04 < p <= 1.00e-03\n",
      "****: p <= 1.00e-04\n",
      "\n",
      "loxP control_None v.s. loxP control_DOX+eeBxb1: t-test independent samples, P_val=2.890e-11 stat=-3.097e+01\n",
      "loxP control_DOX+eeBxb1 v.s. loxP control_DOX+Cre: t-test independent samples, P_val=7.241e-04 stat=4.800e+00\n"
     ]
    },
    {
     "data": {
      "image/png": "[encoded data removed]",
      "text/plain": [
       "<Figure size 108x180 with 1 Axes>"
      ]
     },
     "metadata": {
      "needs_background": "light"
     },
     "output_type": "display_data"
    },
    {
     "name": "stdout",
     "output_type": "stream",
     "text": [
      "p-value annotation legend:\n",
      "ns: 5.00e-02 < p <= 1.00e+00\n",
      "*: 1.00e-02 < p <= 5.00e-02\n",
      "**: 1.00e-03 < p <= 1.00e-02\n",
      "***: 1.00e-04 < p <= 1.00e-03\n",
      "****: p <= 1.00e-04\n",
      "\n",
      "loxP control_None v.s. loxP control_DOX+eeBxb1: t-test independent samples, P_val=1.266e-12 stat=-4.244e+01\n",
      "loxP control_DOX+eeBxb1 v.s. loxP control_DOX+Cre: t-test independent samples, P_val=5.429e-03 stat=-3.532e+00\n"
     ]
    },
    {
     "data": {
      "image/png": "[encoded data removed]",
      "text/plain": [
       "<Figure size 108x180 with 1 Axes>"
      ]
     },
     "metadata": {
      "needs_background": "light"
     },
     "output_type": "display_data"
    },
    {
     "name": "stdout",
     "output_type": "stream",
     "text": [
      "p-value annotation legend:\n",
      "ns: 5.00e-02 < p <= 1.00e+00\n",
      "*: 1.00e-02 < p <= 5.00e-02\n",
      "**: 1.00e-03 < p <= 1.00e-02\n",
      "***: 1.00e-04 < p <= 1.00e-03\n",
      "****: p <= 1.00e-04\n",
      "\n",
      "380 bp_None v.s. 380 bp_DOX+eeBxb1: t-test independent samples, P_val=3.632e-08 stat=-1.494e+01\n",
      "380 bp_DOX+eeBxb1 v.s. 380 bp_DOX+Cre: t-test independent samples, P_val=4.892e-05 stat=-6.774e+00\n"
     ]
    },
    {
     "data": {
      "image/png": "[encoded data removed]",
      "text/plain": [
       "<Figure size 108x180 with 1 Axes>"
      ]
     },
     "metadata": {
      "needs_background": "light"
     },
     "output_type": "display_data"
    },
    {
     "name": "stdout",
     "output_type": "stream",
     "text": [
      "p-value annotation legend:\n",
      "ns: 5.00e-02 < p <= 1.00e+00\n",
      "*: 1.00e-02 < p <= 5.00e-02\n",
      "**: 1.00e-03 < p <= 1.00e-02\n",
      "***: 1.00e-04 < p <= 1.00e-03\n",
      "****: p <= 1.00e-04\n",
      "\n",
      "380 bp_None v.s. 380 bp_DOX+eeBxb1: t-test independent samples, P_val=3.632e-08 stat=-1.494e+01\n",
      "380 bp_DOX+eeBxb1 v.s. 380 bp_DOX+Cre: t-test independent samples, P_val=4.892e-05 stat=-6.774e+00\n"
     ]
    },
    {
     "data": {
      "image/png": "[encoded data removed]",
      "text/plain": [
       "<Figure size 108x180 with 1 Axes>"
      ]
     },
     "metadata": {
      "needs_background": "light"
     },
     "output_type": "display_data"
    },
    {
     "name": "stdout",
     "output_type": "stream",
     "text": [
      "p-value annotation legend:\n",
      "ns: 5.00e-02 < p <= 1.00e+00\n",
      "*: 1.00e-02 < p <= 5.00e-02\n",
      "**: 1.00e-03 < p <= 1.00e-02\n",
      "***: 1.00e-04 < p <= 1.00e-03\n",
      "****: p <= 1.00e-04\n",
      "\n",
      "380 bp_None v.s. 380 bp_DOX+eeBxb1: t-test independent samples, P_val=5.400e-10 stat=-2.302e+01\n",
      "380 bp_DOX+eeBxb1 v.s. 380 bp_DOX+Cre: t-test independent samples, P_val=6.685e-06 stat=-8.530e+00\n"
     ]
    },
    {
     "data": {
      "image/png": "[encoded data removed]",
      "text/plain": [
       "<Figure size 108x180 with 1 Axes>"
      ]
     },
     "metadata": {
      "needs_background": "light"
     },
     "output_type": "display_data"
    },
    {
     "name": "stdout",
     "output_type": "stream",
     "text": [
      "p-value annotation legend:\n",
      "ns: 5.00e-02 < p <= 1.00e+00\n",
      "*: 1.00e-02 < p <= 5.00e-02\n",
      "**: 1.00e-03 < p <= 1.00e-02\n",
      "***: 1.00e-04 < p <= 1.00e-03\n",
      "****: p <= 1.00e-04\n",
      "\n",
      "loxP control_None v.s. loxP control_DOX+eeBxb1: t-test independent samples, P_val=5.225e-12 stat=-3.680e+01\n",
      "loxP control_DOX+eeBxb1 v.s. loxP control_DOX+Cre: t-test independent samples, P_val=5.060e-01 stat=6.899e-01\n"
     ]
    },
    {
     "data": {
      "image/png": "[encoded data removed]",
      "text/plain": [
       "<Figure size 108x180 with 1 Axes>"
      ]
     },
     "metadata": {
      "needs_background": "light"
     },
     "output_type": "display_data"
    },
    {
     "name": "stdout",
     "output_type": "stream",
     "text": [
      "p-value annotation legend:\n",
      "ns: 5.00e-02 < p <= 1.00e+00\n",
      "*: 1.00e-02 < p <= 5.00e-02\n",
      "**: 1.00e-03 < p <= 1.00e-02\n",
      "***: 1.00e-04 < p <= 1.00e-03\n",
      "****: p <= 1.00e-04\n",
      "\n",
      "loxP control_None v.s. loxP control_DOX+eeBxb1: t-test independent samples, P_val=5.225e-12 stat=-3.680e+01\n",
      "loxP control_DOX+eeBxb1 v.s. loxP control_DOX+Cre: t-test independent samples, P_val=5.060e-01 stat=6.899e-01\n"
     ]
    },
    {
     "data": {
      "image/png": "[encoded data removed]",
      "text/plain": [
       "<Figure size 108x180 with 1 Axes>"
      ]
     },
     "metadata": {
      "needs_background": "light"
     },
     "output_type": "display_data"
    },
    {
     "name": "stdout",
     "output_type": "stream",
     "text": [
      "p-value annotation legend:\n",
      "ns: 5.00e-02 < p <= 1.00e+00\n",
      "*: 1.00e-02 < p <= 5.00e-02\n",
      "**: 1.00e-03 < p <= 1.00e-02\n",
      "***: 1.00e-04 < p <= 1.00e-03\n",
      "****: p <= 1.00e-04\n",
      "\n",
      "loxP control_None v.s. loxP control_DOX+eeBxb1: t-test independent samples, P_val=3.052e-08 stat=-1.521e+01\n",
      "loxP control_DOX+eeBxb1 v.s. loxP control_DOX+Cre: t-test independent samples, P_val=6.330e-03 stat=-3.440e+00\n"
     ]
    },
    {
     "data": {
      "image/png": "[encoded data removed]",
      "text/plain": [
       "<Figure size 108x180 with 1 Axes>"
      ]
     },
     "metadata": {
      "needs_background": "light"
     },
     "output_type": "display_data"
    },
    {
     "name": "stdout",
     "output_type": "stream",
     "text": [
      "p-value annotation legend:\n",
      "ns: 5.00e-02 < p <= 1.00e+00\n",
      "*: 1.00e-02 < p <= 5.00e-02\n",
      "**: 1.00e-03 < p <= 1.00e-02\n",
      "***: 1.00e-04 < p <= 1.00e-03\n",
      "****: p <= 1.00e-04\n",
      "\n",
      "380 bp_None v.s. 380 bp_DOX+eeBxb1: t-test independent samples, P_val=1.437e-05 stat=-7.820e+00\n",
      "380 bp_DOX+eeBxb1 v.s. 380 bp_DOX+Cre: t-test independent samples, P_val=3.638e-02 stat=-2.415e+00\n"
     ]
    },
    {
     "data": {
      "image/png": "[encoded data removed]",
      "text/plain": [
       "<Figure size 108x180 with 1 Axes>"
      ]
     },
     "metadata": {
      "needs_background": "light"
     },
     "output_type": "display_data"
    },
    {
     "name": "stdout",
     "output_type": "stream",
     "text": [
      "p-value annotation legend:\n",
      "ns: 5.00e-02 < p <= 1.00e+00\n",
      "*: 1.00e-02 < p <= 5.00e-02\n",
      "**: 1.00e-03 < p <= 1.00e-02\n",
      "***: 1.00e-04 < p <= 1.00e-03\n",
      "****: p <= 1.00e-04\n",
      "\n",
      "380 bp_None v.s. 380 bp_DOX+eeBxb1: t-test independent samples, P_val=1.437e-05 stat=-7.820e+00\n",
      "380 bp_DOX+eeBxb1 v.s. 380 bp_DOX+Cre: t-test independent samples, P_val=3.638e-02 stat=-2.415e+00\n"
     ]
    },
    {
     "data": {
      "image/png": "[encoded data removed]",
      "text/plain": [
       "<Figure size 108x180 with 1 Axes>"
      ]
     },
     "metadata": {
      "needs_background": "light"
     },
     "output_type": "display_data"
    },
    {
     "name": "stdout",
     "output_type": "stream",
     "text": [
      "p-value annotation legend:\n",
      "ns: 5.00e-02 < p <= 1.00e+00\n",
      "*: 1.00e-02 < p <= 5.00e-02\n",
      "**: 1.00e-03 < p <= 1.00e-02\n",
      "***: 1.00e-04 < p <= 1.00e-03\n",
      "****: p <= 1.00e-04\n",
      "\n",
      "380 bp_None v.s. 380 bp_DOX+eeBxb1: t-test independent samples, P_val=7.927e-08 stat=-1.377e+01\n",
      "380 bp_DOX+eeBxb1 v.s. 380 bp_DOX+Cre: t-test independent samples, P_val=3.311e-04 stat=-5.334e+00\n"
     ]
    },
    {
     "data": {
      "image/png": "[encoded data removed]",
      "text/plain": [
       "<Figure size 108x180 with 1 Axes>"
      ]
     },
     "metadata": {
      "needs_background": "light"
     },
     "output_type": "display_data"
    },
    {
     "name": "stdout",
     "output_type": "stream",
     "text": [
      "p-value annotation legend:\n",
      "ns: 5.00e-02 < p <= 1.00e+00\n",
      "*: 1.00e-02 < p <= 5.00e-02\n",
      "**: 1.00e-03 < p <= 1.00e-02\n",
      "***: 1.00e-04 < p <= 1.00e-03\n",
      "****: p <= 1.00e-04\n",
      "\n",
      "loxP control_None v.s. loxP control_DOX+eeBxb1: t-test independent samples, P_val=1.056e-09 stat=-2.150e+01\n",
      "loxP control_DOX+eeBxb1 v.s. loxP control_DOX+Cre: t-test independent samples, P_val=4.533e-02 stat=2.286e+00\n"
     ]
    },
    {
     "data": {
      "image/png": "[encoded data removed]",
      "text/plain": [
       "<Figure size 108x180 with 1 Axes>"
      ]
     },
     "metadata": {
      "needs_background": "light"
     },
     "output_type": "display_data"
    },
    {
     "name": "stdout",
     "output_type": "stream",
     "text": [
      "p-value annotation legend:\n",
      "ns: 5.00e-02 < p <= 1.00e+00\n",
      "*: 1.00e-02 < p <= 5.00e-02\n",
      "**: 1.00e-03 < p <= 1.00e-02\n",
      "***: 1.00e-04 < p <= 1.00e-03\n",
      "****: p <= 1.00e-04\n",
      "\n",
      "loxP control_None v.s. loxP control_DOX+eeBxb1: t-test independent samples, P_val=1.056e-09 stat=-2.150e+01\n",
      "loxP control_DOX+eeBxb1 v.s. loxP control_DOX+Cre: t-test independent samples, P_val=4.533e-02 stat=2.286e+00\n"
     ]
    },
    {
     "data": {
      "image/png": "[encoded data removed]",
      "text/plain": [
       "<Figure size 108x180 with 1 Axes>"
      ]
     },
     "metadata": {
      "needs_background": "light"
     },
     "output_type": "display_data"
    },
    {
     "name": "stdout",
     "output_type": "stream",
     "text": [
      "p-value annotation legend:\n",
      "ns: 5.00e-02 < p <= 1.00e+00\n",
      "*: 1.00e-02 < p <= 5.00e-02\n",
      "**: 1.00e-03 < p <= 1.00e-02\n",
      "***: 1.00e-04 < p <= 1.00e-03\n",
      "****: p <= 1.00e-04\n",
      "\n",
      "loxP control_None v.s. loxP control_DOX+eeBxb1: t-test independent samples, P_val=1.546e-13 stat=-5.242e+01\n",
      "loxP control_DOX+eeBxb1 v.s. loxP control_DOX+Cre: t-test independent samples, P_val=3.096e-02 stat=2.509e+00\n"
     ]
    },
    {
     "data": {
      "image/png": "[encoded data removed]",
      "text/plain": [
       "<Figure size 108x180 with 1 Axes>"
      ]
     },
     "metadata": {
      "needs_background": "light"
     },
     "output_type": "display_data"
    }
   ],
   "source": [
    "palette = { 'None':'#b3b3b3', 'DOX+eeBxb1':'#E397BA', 'DOX+Cre':'#9C1C26'}\n",
    "\n",
    "reps = [r1, r2, r3]\n",
    "order = ['380 bp', 'loxP control']\n",
    "cond_order = ['None','DOX+eeBxb1','DOX+Cre']\n",
    "\n",
    "for rep in reps:\n",
    "\n",
    "    slice_rep = summary_df_CTFR_all[summary_df_CTFR_all['replicate']==rep]\n",
    "\n",
    "    for rept in order:\n",
    "\n",
    "        slice = slice_rep[(slice_rep['reporter']==rept)]\n",
    "\n",
    "        pairs = [((rept, 'None'), (rept, 'DOX+eeBxb1')),\n",
    "                ((rept, 'DOX+eeBxb1'), (rept, 'DOX+Cre'))]\n",
    "        \n",
    "        rep_order=[rept]\n",
    "\n",
    "        for y in dot2plot:\n",
    "            \n",
    "            savetitle = (f'TET-DIAL 5 dpi {rept} rep {rep} {y}')\n",
    "            plottitle = savetitle\n",
    "            SK_dotplot('reporter', y, 'cond', slice, pairs=pairs, palette=palette, order=rep_order, save_fig=False,\n",
    "            hue_order=cond_order, savetitle=savetitle,figsize=[1.5,2.5],xlabel='',xticklabels=False,legend=False,plottitle='')\n"
   ]
  },
  {
   "cell_type": "markdown",
   "metadata": {},
   "source": [
    "### all reps"
   ]
  },
  {
   "cell_type": "code",
   "execution_count": 39,
   "metadata": {},
   "outputs": [
    {
     "name": "stdout",
     "output_type": "stream",
     "text": [
      "p-value annotation legend:\n",
      "ns: 5.00e-02 < p <= 1.00e+00\n",
      "*: 1.00e-02 < p <= 5.00e-02\n",
      "**: 1.00e-03 < p <= 1.00e-02\n",
      "***: 1.00e-04 < p <= 1.00e-03\n",
      "****: p <= 1.00e-04\n",
      "\n",
      "380 bp_None v.s. 380 bp_DOX+eeBxb1: t-test independent samples, P_val=5.354e-09 stat=-7.736e+00\n",
      "380 bp_DOX+eeBxb1 v.s. 380 bp_DOX+Cre: t-test independent samples, P_val=9.723e-03 stat=-2.740e+00\n"
     ]
    },
    {
     "data": {
      "image/png": "[encoded data removed]",
      "text/plain": [
       "<Figure size 108x180 with 1 Axes>"
      ]
     },
     "metadata": {
      "needs_background": "light"
     },
     "output_type": "display_data"
    },
    {
     "name": "stdout",
     "output_type": "stream",
     "text": [
      "p-value annotation legend:\n",
      "ns: 5.00e-02 < p <= 1.00e+00\n",
      "*: 1.00e-02 < p <= 5.00e-02\n",
      "**: 1.00e-03 < p <= 1.00e-02\n",
      "***: 1.00e-04 < p <= 1.00e-03\n",
      "****: p <= 1.00e-04\n",
      "\n",
      "380 bp_None v.s. 380 bp_DOX+eeBxb1: t-test independent samples, P_val=5.211e-16 stat=-1.437e+01\n",
      "380 bp_DOX+eeBxb1 v.s. 380 bp_DOX+Cre: t-test independent samples, P_val=1.367e-08 stat=-7.408e+00\n"
     ]
    },
    {
     "data": {
      "image/png": "[encoded data removed]",
      "text/plain": [
       "<Figure size 108x180 with 1 Axes>"
      ]
     },
     "metadata": {
      "needs_background": "light"
     },
     "output_type": "display_data"
    },
    {
     "name": "stdout",
     "output_type": "stream",
     "text": [
      "p-value annotation legend:\n",
      "ns: 5.00e-02 < p <= 1.00e+00\n",
      "*: 1.00e-02 < p <= 5.00e-02\n",
      "**: 1.00e-03 < p <= 1.00e-02\n",
      "***: 1.00e-04 < p <= 1.00e-03\n",
      "****: p <= 1.00e-04\n",
      "\n",
      "380 bp_None v.s. 380 bp_DOX+eeBxb1: t-test independent samples, P_val=4.266e-25 stat=-2.806e+01\n",
      "380 bp_DOX+eeBxb1 v.s. 380 bp_DOX+Cre: t-test independent samples, P_val=5.604e-15 stat=-1.324e+01\n"
     ]
    },
    {
     "data": {
      "image/png": "[encoded data removed]",
      "text/plain": [
       "<Figure size 108x180 with 1 Axes>"
      ]
     },
     "metadata": {
      "needs_background": "light"
     },
     "output_type": "display_data"
    },
    {
     "name": "stdout",
     "output_type": "stream",
     "text": [
      "p-value annotation legend:\n",
      "ns: 5.00e-02 < p <= 1.00e+00\n",
      "*: 1.00e-02 < p <= 5.00e-02\n",
      "**: 1.00e-03 < p <= 1.00e-02\n",
      "***: 1.00e-04 < p <= 1.00e-03\n",
      "****: p <= 1.00e-04\n",
      "\n",
      "loxP control_None v.s. loxP control_DOX+eeBxb1: t-test independent samples, P_val=1.291e-19 stat=-1.891e+01\n",
      "loxP control_DOX+eeBxb1 v.s. loxP control_DOX+Cre: t-test independent samples, P_val=1.627e-01 stat=1.427e+00\n"
     ]
    },
    {
     "data": {
      "image/png": "[encoded data removed]",
      "text/plain": [
       "<Figure size 108x180 with 1 Axes>"
      ]
     },
     "metadata": {
      "needs_background": "light"
     },
     "output_type": "display_data"
    },
    {
     "name": "stdout",
     "output_type": "stream",
     "text": [
      "p-value annotation legend:\n",
      "ns: 5.00e-02 < p <= 1.00e+00\n",
      "*: 1.00e-02 < p <= 5.00e-02\n",
      "**: 1.00e-03 < p <= 1.00e-02\n",
      "***: 1.00e-04 < p <= 1.00e-03\n",
      "****: p <= 1.00e-04\n",
      "\n",
      "loxP control_None v.s. loxP control_DOX+eeBxb1: t-test independent samples, P_val=1.769e-33 stat=-5.020e+01\n",
      "loxP control_DOX+eeBxb1 v.s. loxP control_DOX+Cre: t-test independent samples, P_val=9.171e-04 stat=3.632e+00\n"
     ]
    },
    {
     "data": {
      "image/png": "[encoded data removed]",
      "text/plain": [
       "<Figure size 108x180 with 1 Axes>"
      ]
     },
     "metadata": {
      "needs_background": "light"
     },
     "output_type": "display_data"
    },
    {
     "name": "stdout",
     "output_type": "stream",
     "text": [
      "p-value annotation legend:\n",
      "ns: 5.00e-02 < p <= 1.00e+00\n",
      "*: 1.00e-02 < p <= 5.00e-02\n",
      "**: 1.00e-03 < p <= 1.00e-02\n",
      "***: 1.00e-04 < p <= 1.00e-03\n",
      "****: p <= 1.00e-04\n",
      "\n",
      "loxP control_None v.s. loxP control_DOX+eeBxb1: t-test independent samples, P_val=7.843e-25 stat=-2.754e+01\n",
      "loxP control_DOX+eeBxb1 v.s. loxP control_DOX+Cre: t-test independent samples, P_val=5.699e-02 stat=-1.970e+00\n"
     ]
    },
    {
     "data": {
      "image/png": "[encoded data removed]",
      "text/plain": [
       "<Figure size 108x180 with 1 Axes>"
      ]
     },
     "metadata": {
      "needs_background": "light"
     },
     "output_type": "display_data"
    }
   ],
   "source": [
    "palette = { 'None':'#b3b3b3', 'DOX+eeBxb1':'#E397BA', 'DOX+Cre':'#9C1C26'}\n",
    "\n",
    "order = ['380 bp', 'loxP control']\n",
    "cond_order = ['None','DOX+eeBxb1','DOX+Cre']\n",
    "\n",
    "for rept in order:\n",
    "\n",
    "        slice = summary_df_CTFR_all[(summary_df_CTFR_all['reporter']==rept)]\n",
    "\n",
    "        pairs = [((rept, 'None'), (rept, 'DOX+eeBxb1')),\n",
    "                ((rept, 'DOX+eeBxb1'), (rept, 'DOX+Cre'))]\n",
    "        \n",
    "        rep_order=[rept]\n",
    "\n",
    "        for y in dot2plot:\n",
    "            \n",
    "            savetitle = (f'TET-DIAL 5 dpi {rept} all reps {y}')\n",
    "            plottitle = savetitle\n",
    "            SK_dotplot('reporter', y, 'cond', slice, pairs=pairs, palette=palette, order=rep_order, save_fig=False, foldchange=True,\n",
    "            hue_order=cond_order, savetitle=savetitle,figsize=[1.5,2.5],xlabel='',xticklabels=False,legend=False,plottitle='')\n"
   ]
  },
  {
   "cell_type": "markdown",
   "metadata": {},
   "source": [
    "## 14 dpi plots"
   ]
  },
  {
   "cell_type": "markdown",
   "metadata": {},
   "source": [
    "### iMN gate"
   ]
  },
  {
   "cell_type": "code",
   "execution_count": 55,
   "metadata": {},
   "outputs": [
    {
     "data": {
      "image/png": "[encoded data removed]",
      "text/plain": [
       "<Figure size 720x216 with 1 Axes>"
      ]
     },
     "metadata": {},
     "output_type": "display_data"
    }
   ],
   "source": [
    "iMN_gate = 8 * 10**3 # Set gate\n",
    "\n",
    "sns.set_theme(style=\"ticks\",font_scale=1)\n",
    "\n",
    "condition_list = ['203 bp','380 bp', '610 bp', 'loxP control']\n",
    "slice = df_14dpi[df_14dpi['reporter'].isin(condition_list)]\n",
    "\n",
    "# Plot gate\n",
    "plt.figure(figsize=(10,3))\n",
    "g = sns.kdeplot(data=slice.sample(10000),x='eGFP-A',hue='reporter',log_scale=True,common_norm=False,linewidth=3,hue_order=condition_list)\n",
    "plt.axvline(x=iMN_gate,linestyle='--',color='black',linewidth=2)\n",
    "\n",
    "#sns.move_legend(g, loc='upper left', bbox_to_anchor=(1,1), frameon=False)\n",
    "plt.tight_layout()\n",
    "plt.show()"
   ]
  },
  {
   "cell_type": "markdown",
   "metadata": {},
   "source": [
    "### Summary statistics iMN yield"
   ]
  },
  {
   "cell_type": "code",
   "execution_count": 56,
   "metadata": {},
   "outputs": [],
   "source": [
    "groups = ['replicate','reporter','DOX','DOX-Day','modRNA','well'] # 'rep' must be first group!!!!\n",
    "\n",
    "summary_df_14dpi = pd.concat([\n",
    "    df_14dpi.groupby(groups)['mCherry-A'].apply(scipy.stats.gmean).rename('Output gmean (mCherry)'),\n",
    "    df_14dpi.groupby(groups)['eGFP-A'].apply(lambda x: np.sum(x > iMN_gate)/5000 * 100).rename('(%) iMN yield\\nper MEF plated')\n",
    "], axis=1)\n",
    "summary_df_14dpi = summary_df_14dpi.reset_index()\n",
    "#save summary dataframe\n",
    "summary_df_14dpi.to_excel('Fig6_14dpiiMNyield_reprogramming_TETDIAL_and_supps.xlsx',index=False)\n",
    "\n",
    "dot2plot_14dpi = ['Output gmean (mCherry)', '(%) iMN yield\\nper MEF plated']"
   ]
  },
  {
   "cell_type": "code",
   "execution_count": 57,
   "metadata": {},
   "outputs": [
    {
     "data": {
      "text/html": [
       "<div>\n",
       "<style scoped>\n",
       "    .dataframe tbody tr th:only-of-type {\n",
       "        vertical-align: middle;\n",
       "    }\n",
       "\n",
       "    .dataframe tbody tr th {\n",
       "        vertical-align: top;\n",
       "    }\n",
       "\n",
       "    .dataframe thead th {\n",
       "        text-align: right;\n",
       "    }\n",
       "</style>\n",
       "<table border=\"1\" class=\"dataframe\">\n",
       "  <thead>\n",
       "    <tr style=\"text-align: right;\">\n",
       "      <th></th>\n",
       "      <th>replicate</th>\n",
       "      <th>reporter</th>\n",
       "      <th>DOX</th>\n",
       "      <th>DOX-Day</th>\n",
       "      <th>modRNA</th>\n",
       "      <th>well</th>\n",
       "      <th>Output gmean (mCherry)</th>\n",
       "      <th>(%) iMN yield\\nper MEF plated</th>\n",
       "    </tr>\n",
       "  </thead>\n",
       "  <tbody>\n",
       "    <tr>\n",
       "      <th>0</th>\n",
       "      <td>MEF1</td>\n",
       "      <td>203 bp</td>\n",
       "      <td>DOX</td>\n",
       "      <td>14 dpi</td>\n",
       "      <td>None</td>\n",
       "      <td>A1</td>\n",
       "      <td>3543.600131</td>\n",
       "      <td>27.88</td>\n",
       "    </tr>\n",
       "    <tr>\n",
       "      <th>1</th>\n",
       "      <td>MEF1</td>\n",
       "      <td>203 bp</td>\n",
       "      <td>DOX</td>\n",
       "      <td>14 dpi</td>\n",
       "      <td>None</td>\n",
       "      <td>A2</td>\n",
       "      <td>2987.014936</td>\n",
       "      <td>21.90</td>\n",
       "    </tr>\n",
       "    <tr>\n",
       "      <th>2</th>\n",
       "      <td>MEF1</td>\n",
       "      <td>203 bp</td>\n",
       "      <td>DOX</td>\n",
       "      <td>14 dpi</td>\n",
       "      <td>None</td>\n",
       "      <td>A3</td>\n",
       "      <td>3498.442673</td>\n",
       "      <td>17.42</td>\n",
       "    </tr>\n",
       "    <tr>\n",
       "      <th>3</th>\n",
       "      <td>MEF1</td>\n",
       "      <td>203 bp</td>\n",
       "      <td>DOX</td>\n",
       "      <td>14 dpi</td>\n",
       "      <td>None</td>\n",
       "      <td>A4</td>\n",
       "      <td>3267.563490</td>\n",
       "      <td>13.70</td>\n",
       "    </tr>\n",
       "    <tr>\n",
       "      <th>4</th>\n",
       "      <td>MEF1</td>\n",
       "      <td>203 bp</td>\n",
       "      <td>DOX</td>\n",
       "      <td>14 dpi</td>\n",
       "      <td>None</td>\n",
       "      <td>B1</td>\n",
       "      <td>2421.657874</td>\n",
       "      <td>13.94</td>\n",
       "    </tr>\n",
       "    <tr>\n",
       "      <th>...</th>\n",
       "      <td>...</td>\n",
       "      <td>...</td>\n",
       "      <td>...</td>\n",
       "      <td>...</td>\n",
       "      <td>...</td>\n",
       "      <td>...</td>\n",
       "      <td>...</td>\n",
       "      <td>...</td>\n",
       "    </tr>\n",
       "    <tr>\n",
       "      <th>859</th>\n",
       "      <td>MEF3</td>\n",
       "      <td>loxP control</td>\n",
       "      <td>NO DOX</td>\n",
       "      <td>None</td>\n",
       "      <td>None</td>\n",
       "      <td>G2</td>\n",
       "      <td>289.117775</td>\n",
       "      <td>1.20</td>\n",
       "    </tr>\n",
       "    <tr>\n",
       "      <th>860</th>\n",
       "      <td>MEF3</td>\n",
       "      <td>loxP control</td>\n",
       "      <td>NO DOX</td>\n",
       "      <td>None</td>\n",
       "      <td>None</td>\n",
       "      <td>G3</td>\n",
       "      <td>335.102154</td>\n",
       "      <td>2.68</td>\n",
       "    </tr>\n",
       "    <tr>\n",
       "      <th>861</th>\n",
       "      <td>MEF3</td>\n",
       "      <td>loxP control</td>\n",
       "      <td>NO DOX</td>\n",
       "      <td>None</td>\n",
       "      <td>None</td>\n",
       "      <td>H1</td>\n",
       "      <td>349.236530</td>\n",
       "      <td>2.00</td>\n",
       "    </tr>\n",
       "    <tr>\n",
       "      <th>862</th>\n",
       "      <td>MEF3</td>\n",
       "      <td>loxP control</td>\n",
       "      <td>NO DOX</td>\n",
       "      <td>None</td>\n",
       "      <td>None</td>\n",
       "      <td>H2</td>\n",
       "      <td>373.289182</td>\n",
       "      <td>2.78</td>\n",
       "    </tr>\n",
       "    <tr>\n",
       "      <th>863</th>\n",
       "      <td>MEF3</td>\n",
       "      <td>loxP control</td>\n",
       "      <td>NO DOX</td>\n",
       "      <td>None</td>\n",
       "      <td>None</td>\n",
       "      <td>H3</td>\n",
       "      <td>334.377852</td>\n",
       "      <td>2.46</td>\n",
       "    </tr>\n",
       "  </tbody>\n",
       "</table>\n",
       "<p>864 rows × 8 columns</p>\n",
       "</div>"
      ],
      "text/plain": [
       "    replicate      reporter     DOX DOX-Day modRNA well  \\\n",
       "0        MEF1        203 bp     DOX  14 dpi   None   A1   \n",
       "1        MEF1        203 bp     DOX  14 dpi   None   A2   \n",
       "2        MEF1        203 bp     DOX  14 dpi   None   A3   \n",
       "3        MEF1        203 bp     DOX  14 dpi   None   A4   \n",
       "4        MEF1        203 bp     DOX  14 dpi   None   B1   \n",
       "..        ...           ...     ...     ...    ...  ...   \n",
       "859      MEF3  loxP control  NO DOX    None   None   G2   \n",
       "860      MEF3  loxP control  NO DOX    None   None   G3   \n",
       "861      MEF3  loxP control  NO DOX    None   None   H1   \n",
       "862      MEF3  loxP control  NO DOX    None   None   H2   \n",
       "863      MEF3  loxP control  NO DOX    None   None   H3   \n",
       "\n",
       "     Output gmean (mCherry)  (%) iMN yield\\nper MEF plated  \n",
       "0               3543.600131                          27.88  \n",
       "1               2987.014936                          21.90  \n",
       "2               3498.442673                          17.42  \n",
       "3               3267.563490                          13.70  \n",
       "4               2421.657874                          13.94  \n",
       "..                      ...                            ...  \n",
       "859              289.117775                           1.20  \n",
       "860              335.102154                           2.68  \n",
       "861              349.236530                           2.00  \n",
       "862              373.289182                           2.78  \n",
       "863              334.377852                           2.46  \n",
       "\n",
       "[864 rows x 8 columns]"
      ]
     },
     "execution_count": 57,
     "metadata": {},
     "output_type": "execute_result"
    }
   ],
   "source": [
    "summary_df_14dpi"
   ]
  },
  {
   "cell_type": "code",
   "execution_count": 58,
   "metadata": {},
   "outputs": [
    {
     "data": {
      "text/plain": [
       "array(['14 dpi', '5 dpi', '7 dpi', 'None'], dtype=object)"
      ]
     },
     "execution_count": 58,
     "metadata": {},
     "output_type": "execute_result"
    }
   ],
   "source": [
    "summary_df_14dpi['DOX-Day'].unique()"
   ]
  },
  {
   "cell_type": "code",
   "execution_count": 59,
   "metadata": {},
   "outputs": [],
   "source": [
    "def set_cond(row):\n",
    "    if row['DOX-Day'] == 'None' and row['modRNA'] == 'None':\n",
    "        return 'None'\n",
    "    elif row['DOX-Day'] == '5 dpi' and row['modRNA'] == 'eeBxb1':\n",
    "        return '5 dpi'\n",
    "    elif row['DOX-Day'] == '5 dpi' and row['modRNA'] == 'Puro-Cre':\n",
    "        return '5 dpi + Cre'\n",
    "    elif row['DOX-Day'] == '7 dpi' and row['modRNA'] == 'eeBxb1':\n",
    "        return '7 dpi'\n",
    "    elif row['DOX-Day'] == '7 dpi' and row['modRNA'] == 'Puro-Cre':\n",
    "        return '7 dpi + Cre'\n",
    "    elif row['DOX-Day'] == '14 dpi' and row['modRNA'] == 'eeBxb1':\n",
    "        return '14 dpi'\n",
    "    elif row['DOX-Day'] == '14 dpi' and row['modRNA'] == 'Puro-Cre':\n",
    "        return '14 dpi + Cre'\n",
    "    else:\n",
    "        return None\n",
    "\n",
    "# Apply the function to create the 'cond' column\n",
    "summary_df_14dpi['cond'] = summary_df_14dpi.apply(set_cond, axis=1)"
   ]
  },
  {
   "cell_type": "code",
   "execution_count": 60,
   "metadata": {},
   "outputs": [
    {
     "data": {
      "text/plain": [
       "replicate                               MEF1\n",
       "reporter                              380 bp\n",
       "DOX                                      DOX\n",
       "DOX-Day                               14 dpi\n",
       "modRNA                                eeBxb1\n",
       "well                                      C7\n",
       "Output gmean (mCherry)           1697.629095\n",
       "(%) iMN yield\\nper MEF plated          77.06\n",
       "cond                                  14 dpi\n",
       "Name: 90, dtype: object"
      ]
     },
     "execution_count": 60,
     "metadata": {},
     "output_type": "execute_result"
    }
   ],
   "source": [
    "subset_380bp = summary_df_14dpi[summary_df_14dpi['reporter']=='380 bp']\n",
    "subset_380bp.loc[subset_380bp[\"(%) iMN yield\\nper MEF plated\"].idxmax()]"
   ]
  },
  {
   "cell_type": "code",
   "execution_count": 61,
   "metadata": {},
   "outputs": [],
   "source": [
    "summary_df_14dpi = summary_df_14dpi[summary_df_14dpi[\"(%) iMN yield\\nper MEF plated\"] != 77.06]"
   ]
  },
  {
   "cell_type": "markdown",
   "metadata": {},
   "source": [
    "### 14 dpi mCherry MFI Rep 2025.04.27"
   ]
  },
  {
   "cell_type": "code",
   "execution_count": 62,
   "metadata": {},
   "outputs": [
    {
     "data": {
      "text/plain": [
       "array([None, '14 dpi + Cre', '14 dpi', '5 dpi + Cre', '5 dpi',\n",
       "       '7 dpi + Cre', '7 dpi', 'None'], dtype=object)"
      ]
     },
     "execution_count": 62,
     "metadata": {},
     "output_type": "execute_result"
    }
   ],
   "source": [
    "summary_df_14dpi.cond.unique()"
   ]
  },
  {
   "cell_type": "code",
   "execution_count": 63,
   "metadata": {},
   "outputs": [
    {
     "data": {
      "text/html": [
       "<div>\n",
       "<style scoped>\n",
       "    .dataframe tbody tr th:only-of-type {\n",
       "        vertical-align: middle;\n",
       "    }\n",
       "\n",
       "    .dataframe tbody tr th {\n",
       "        vertical-align: top;\n",
       "    }\n",
       "\n",
       "    .dataframe thead th {\n",
       "        text-align: right;\n",
       "    }\n",
       "</style>\n",
       "<table border=\"1\" class=\"dataframe\">\n",
       "  <thead>\n",
       "    <tr style=\"text-align: right;\">\n",
       "      <th></th>\n",
       "      <th>replicate</th>\n",
       "      <th>reporter</th>\n",
       "      <th>DOX</th>\n",
       "      <th>DOX-Day</th>\n",
       "      <th>modRNA</th>\n",
       "      <th>well</th>\n",
       "      <th>Output gmean (mCherry)</th>\n",
       "      <th>(%) iMN yield\\nper MEF plated</th>\n",
       "      <th>cond</th>\n",
       "    </tr>\n",
       "  </thead>\n",
       "  <tbody>\n",
       "    <tr>\n",
       "      <th>0</th>\n",
       "      <td>MEF1</td>\n",
       "      <td>203 bp</td>\n",
       "      <td>DOX</td>\n",
       "      <td>14 dpi</td>\n",
       "      <td>None</td>\n",
       "      <td>A1</td>\n",
       "      <td>3543.600131</td>\n",
       "      <td>27.88</td>\n",
       "      <td>None</td>\n",
       "    </tr>\n",
       "    <tr>\n",
       "      <th>1</th>\n",
       "      <td>MEF1</td>\n",
       "      <td>203 bp</td>\n",
       "      <td>DOX</td>\n",
       "      <td>14 dpi</td>\n",
       "      <td>None</td>\n",
       "      <td>A2</td>\n",
       "      <td>2987.014936</td>\n",
       "      <td>21.90</td>\n",
       "      <td>None</td>\n",
       "    </tr>\n",
       "    <tr>\n",
       "      <th>2</th>\n",
       "      <td>MEF1</td>\n",
       "      <td>203 bp</td>\n",
       "      <td>DOX</td>\n",
       "      <td>14 dpi</td>\n",
       "      <td>None</td>\n",
       "      <td>A3</td>\n",
       "      <td>3498.442673</td>\n",
       "      <td>17.42</td>\n",
       "      <td>None</td>\n",
       "    </tr>\n",
       "    <tr>\n",
       "      <th>3</th>\n",
       "      <td>MEF1</td>\n",
       "      <td>203 bp</td>\n",
       "      <td>DOX</td>\n",
       "      <td>14 dpi</td>\n",
       "      <td>None</td>\n",
       "      <td>A4</td>\n",
       "      <td>3267.563490</td>\n",
       "      <td>13.70</td>\n",
       "      <td>None</td>\n",
       "    </tr>\n",
       "    <tr>\n",
       "      <th>4</th>\n",
       "      <td>MEF1</td>\n",
       "      <td>203 bp</td>\n",
       "      <td>DOX</td>\n",
       "      <td>14 dpi</td>\n",
       "      <td>None</td>\n",
       "      <td>B1</td>\n",
       "      <td>2421.657874</td>\n",
       "      <td>13.94</td>\n",
       "      <td>None</td>\n",
       "    </tr>\n",
       "    <tr>\n",
       "      <th>...</th>\n",
       "      <td>...</td>\n",
       "      <td>...</td>\n",
       "      <td>...</td>\n",
       "      <td>...</td>\n",
       "      <td>...</td>\n",
       "      <td>...</td>\n",
       "      <td>...</td>\n",
       "      <td>...</td>\n",
       "      <td>...</td>\n",
       "    </tr>\n",
       "    <tr>\n",
       "      <th>859</th>\n",
       "      <td>MEF3</td>\n",
       "      <td>loxP control</td>\n",
       "      <td>NO DOX</td>\n",
       "      <td>None</td>\n",
       "      <td>None</td>\n",
       "      <td>G2</td>\n",
       "      <td>289.117775</td>\n",
       "      <td>1.20</td>\n",
       "      <td>None</td>\n",
       "    </tr>\n",
       "    <tr>\n",
       "      <th>860</th>\n",
       "      <td>MEF3</td>\n",
       "      <td>loxP control</td>\n",
       "      <td>NO DOX</td>\n",
       "      <td>None</td>\n",
       "      <td>None</td>\n",
       "      <td>G3</td>\n",
       "      <td>335.102154</td>\n",
       "      <td>2.68</td>\n",
       "      <td>None</td>\n",
       "    </tr>\n",
       "    <tr>\n",
       "      <th>861</th>\n",
       "      <td>MEF3</td>\n",
       "      <td>loxP control</td>\n",
       "      <td>NO DOX</td>\n",
       "      <td>None</td>\n",
       "      <td>None</td>\n",
       "      <td>H1</td>\n",
       "      <td>349.236530</td>\n",
       "      <td>2.00</td>\n",
       "      <td>None</td>\n",
       "    </tr>\n",
       "    <tr>\n",
       "      <th>862</th>\n",
       "      <td>MEF3</td>\n",
       "      <td>loxP control</td>\n",
       "      <td>NO DOX</td>\n",
       "      <td>None</td>\n",
       "      <td>None</td>\n",
       "      <td>H2</td>\n",
       "      <td>373.289182</td>\n",
       "      <td>2.78</td>\n",
       "      <td>None</td>\n",
       "    </tr>\n",
       "    <tr>\n",
       "      <th>863</th>\n",
       "      <td>MEF3</td>\n",
       "      <td>loxP control</td>\n",
       "      <td>NO DOX</td>\n",
       "      <td>None</td>\n",
       "      <td>None</td>\n",
       "      <td>H3</td>\n",
       "      <td>334.377852</td>\n",
       "      <td>2.46</td>\n",
       "      <td>None</td>\n",
       "    </tr>\n",
       "  </tbody>\n",
       "</table>\n",
       "<p>863 rows × 9 columns</p>\n",
       "</div>"
      ],
      "text/plain": [
       "    replicate      reporter     DOX DOX-Day modRNA well  \\\n",
       "0        MEF1        203 bp     DOX  14 dpi   None   A1   \n",
       "1        MEF1        203 bp     DOX  14 dpi   None   A2   \n",
       "2        MEF1        203 bp     DOX  14 dpi   None   A3   \n",
       "3        MEF1        203 bp     DOX  14 dpi   None   A4   \n",
       "4        MEF1        203 bp     DOX  14 dpi   None   B1   \n",
       "..        ...           ...     ...     ...    ...  ...   \n",
       "859      MEF3  loxP control  NO DOX    None   None   G2   \n",
       "860      MEF3  loxP control  NO DOX    None   None   G3   \n",
       "861      MEF3  loxP control  NO DOX    None   None   H1   \n",
       "862      MEF3  loxP control  NO DOX    None   None   H2   \n",
       "863      MEF3  loxP control  NO DOX    None   None   H3   \n",
       "\n",
       "     Output gmean (mCherry)  (%) iMN yield\\nper MEF plated  cond  \n",
       "0               3543.600131                          27.88  None  \n",
       "1               2987.014936                          21.90  None  \n",
       "2               3498.442673                          17.42  None  \n",
       "3               3267.563490                          13.70  None  \n",
       "4               2421.657874                          13.94  None  \n",
       "..                      ...                            ...   ...  \n",
       "859              289.117775                           1.20  None  \n",
       "860              335.102154                           2.68  None  \n",
       "861              349.236530                           2.00  None  \n",
       "862              373.289182                           2.78  None  \n",
       "863              334.377852                           2.46  None  \n",
       "\n",
       "[863 rows x 9 columns]"
      ]
     },
     "execution_count": 63,
     "metadata": {},
     "output_type": "execute_result"
    }
   ],
   "source": [
    "summary_df_14dpi"
   ]
  },
  {
   "cell_type": "code",
   "execution_count": 64,
   "metadata": {},
   "outputs": [
    {
     "data": {
      "text/html": [
       "<div>\n",
       "<style scoped>\n",
       "    .dataframe tbody tr th:only-of-type {\n",
       "        vertical-align: middle;\n",
       "    }\n",
       "\n",
       "    .dataframe tbody tr th {\n",
       "        vertical-align: top;\n",
       "    }\n",
       "\n",
       "    .dataframe thead th {\n",
       "        text-align: right;\n",
       "    }\n",
       "</style>\n",
       "<table border=\"1\" class=\"dataframe\">\n",
       "  <thead>\n",
       "    <tr style=\"text-align: right;\">\n",
       "      <th></th>\n",
       "      <th>replicate</th>\n",
       "      <th>reporter</th>\n",
       "      <th>DOX</th>\n",
       "      <th>DOX-Day</th>\n",
       "      <th>modRNA</th>\n",
       "      <th>well</th>\n",
       "      <th>Output gmean (mCherry)</th>\n",
       "      <th>(%) iMN yield\\nper MEF plated</th>\n",
       "      <th>cond</th>\n",
       "    </tr>\n",
       "  </thead>\n",
       "  <tbody>\n",
       "  </tbody>\n",
       "</table>\n",
       "</div>"
      ],
      "text/plain": [
       "Empty DataFrame\n",
       "Columns: [replicate, reporter, DOX, DOX-Day, modRNA, well, Output gmean (mCherry), (%) iMN yield\n",
       "per MEF plated, cond]\n",
       "Index: []"
      ]
     },
     "execution_count": 64,
     "metadata": {},
     "output_type": "execute_result"
    }
   ],
   "source": [
    "summary_df_14dpi[summary_df_14dpi['cond']==None]"
   ]
  },
  {
   "cell_type": "code",
   "execution_count": 65,
   "metadata": {},
   "outputs": [
    {
     "name": "stdout",
     "output_type": "stream",
     "text": [
      "p-value annotation legend:\n",
      "ns: 5.00e-02 < p <= 1.00e+00\n",
      "*: 1.00e-02 < p <= 5.00e-02\n",
      "**: 1.00e-03 < p <= 1.00e-02\n",
      "***: 1.00e-04 < p <= 1.00e-03\n",
      "****: p <= 1.00e-04\n",
      "\n",
      "7 dpi_7 dpi v.s. 7 dpi + Cre_7 dpi + Cre: t-test independent samples, P_val=1.397e-03 stat=-3.401e+00\n",
      "14 dpi_14 dpi v.s. 14 dpi + Cre_14 dpi + Cre: t-test independent samples, P_val=1.120e-07 stat=-6.300e+00\n",
      "5 dpi_5 dpi v.s. 5 dpi + Cre_5 dpi + Cre: t-test independent samples, P_val=5.520e-01 stat=-5.999e-01\n"
     ]
    },
    {
     "data": {
      "image/png": "[encoded data removed]",
      "text/plain": [
       "<Figure size 252x180 with 1 Axes>"
      ]
     },
     "metadata": {},
     "output_type": "display_data"
    },
    {
     "name": "stdout",
     "output_type": "stream",
     "text": [
      "p-value annotation legend:\n",
      "ns: 5.00e-02 < p <= 1.00e+00\n",
      "*: 1.00e-02 < p <= 5.00e-02\n",
      "**: 1.00e-03 < p <= 1.00e-02\n",
      "***: 1.00e-04 < p <= 1.00e-03\n",
      "****: p <= 1.00e-04\n",
      "\n",
      "7 dpi_7 dpi v.s. 7 dpi + Cre_7 dpi + Cre: t-test independent samples, P_val=9.725e-03 stat=-2.698e+00\n",
      "14 dpi_14 dpi v.s. 14 dpi + Cre_14 dpi + Cre: t-test independent samples, P_val=1.044e-01 stat=-1.657e+00\n",
      "5 dpi_5 dpi v.s. 5 dpi + Cre_5 dpi + Cre: t-test independent samples, P_val=4.000e-01 stat=-8.507e-01\n"
     ]
    },
    {
     "data": {
      "image/png": "[encoded data removed]",
      "text/plain": [
       "<Figure size 252x180 with 1 Axes>"
      ]
     },
     "metadata": {},
     "output_type": "display_data"
    },
    {
     "name": "stdout",
     "output_type": "stream",
     "text": [
      "p-value annotation legend:\n",
      "ns: 5.00e-02 < p <= 1.00e+00\n",
      "*: 1.00e-02 < p <= 5.00e-02\n",
      "**: 1.00e-03 < p <= 1.00e-02\n",
      "***: 1.00e-04 < p <= 1.00e-03\n",
      "****: p <= 1.00e-04\n",
      "\n",
      "7 dpi_7 dpi v.s. 7 dpi + Cre_7 dpi + Cre: t-test independent samples, P_val=1.130e-01 stat=1.616e+00\n",
      "14 dpi_14 dpi v.s. 14 dpi + Cre_14 dpi + Cre: t-test independent samples, P_val=7.284e-01 stat=-3.493e-01\n",
      "5 dpi_5 dpi v.s. 5 dpi + Cre_5 dpi + Cre: t-test independent samples, P_val=3.761e-01 stat=8.950e-01\n"
     ]
    },
    {
     "data": {
      "image/png": "[encoded data removed]",
      "text/plain": [
       "<Figure size 252x180 with 1 Axes>"
      ]
     },
     "metadata": {},
     "output_type": "display_data"
    },
    {
     "name": "stdout",
     "output_type": "stream",
     "text": [
      "p-value annotation legend:\n",
      "ns: 5.00e-02 < p <= 1.00e+00\n",
      "*: 1.00e-02 < p <= 5.00e-02\n",
      "**: 1.00e-03 < p <= 1.00e-02\n",
      "***: 1.00e-04 < p <= 1.00e-03\n",
      "****: p <= 1.00e-04\n",
      "\n",
      "7 dpi_7 dpi v.s. 7 dpi + Cre_7 dpi + Cre: t-test independent samples, P_val=3.479e-01 stat=-9.484e-01\n",
      "14 dpi_14 dpi v.s. 14 dpi + Cre_14 dpi + Cre: t-test independent samples, P_val=8.927e-01 stat=-1.357e-01\n",
      "5 dpi_5 dpi v.s. 5 dpi + Cre_5 dpi + Cre: t-test independent samples, P_val=9.802e-01 stat=2.503e-02\n"
     ]
    },
    {
     "data": {
      "image/png": "[encoded data removed]",
      "text/plain": [
       "<Figure size 252x180 with 1 Axes>"
      ]
     },
     "metadata": {},
     "output_type": "display_data"
    }
   ],
   "source": [
    "pairs = [\n",
    "\n",
    "    (('5 dpi', '5 dpi'),('5 dpi + Cre', '5 dpi + Cre')),\n",
    "    (('7 dpi', '7 dpi'),('7 dpi + Cre', '7 dpi + Cre')),\n",
    "    (('14 dpi', '14 dpi'),('14 dpi + Cre', '14 dpi + Cre'))\n",
    "\n",
    "]\n",
    "\n",
    "palette = { 'None':'#b3b3b3',\n",
    "           '5 dpi':'#E397BA', '5 dpi + Cre':'#9C1C26',\n",
    "           '7 dpi':'#E397BA', '7 dpi + Cre':'#9C1C26',\n",
    "           '14 dpi':'#E397BA', '14 dpi + Cre':'#9C1C26',}\n",
    "\n",
    "order = ['380 bp', 'loxP control']\n",
    "cond_order = ['None','5 dpi','5 dpi + Cre',\n",
    "              '7 dpi','7 dpi + Cre',\n",
    "              '14 dpi','14 dpi + Cre']\n",
    "\n",
    "for rept in order:\n",
    "\n",
    "    slice = summary_df_14dpi[summary_df_14dpi['reporter']==rept]\n",
    "\n",
    "    rep_order=[rept]\n",
    "\n",
    "    for y in dot2plot_14dpi:\n",
    "        \n",
    "        savetitle = (f'TET-DIAL 14 dpi {rept} all reps {y}')\n",
    "        plottitle = savetitle\n",
    "        \n",
    "        if y == '(%) iMN yield\\nper MEF plated':\n",
    "            scientific = False\n",
    "        else:\n",
    "            scientific = True\n",
    "\n",
    "        SK_dotplot('cond', y, 'cond', slice,\n",
    "                pairs=pairs, \n",
    "                palette=palette, scientific=scientific, hue_order=cond_order,\n",
    "                    order=cond_order, save_fig=False, pointplot_settings='fig6',\n",
    "                    savetitle=savetitle,figsize=[3.5,2.5],\n",
    "                    xlabel='',xticklabels=False,legend=False,plottitle='')\n",
    "\n"
   ]
  },
  {
   "cell_type": "code",
   "execution_count": 66,
   "metadata": {},
   "outputs": [
    {
     "name": "stdout",
     "output_type": "stream",
     "text": [
      "380 bp:\n",
      "                             Output gmean (mCherry)  \\\n",
      "14 dpi + Cre / 14 dpi                     1.426226   \n",
      "5 dpi + Cre / 5 dpi                       1.056206   \n",
      "7 dpi + Cre / 14 dpi                           NaN   \n",
      "7 dpi + Cre / 14 dpi + Cre                     NaN   \n",
      "7 dpi + Cre / 7 dpi                       1.264172   \n",
      "7 dpi / 14 dpi                                 NaN   \n",
      "\n",
      "                            (%) iMN yield\\nper MEF plated  \n",
      "14 dpi + Cre / 14 dpi                            1.279912  \n",
      "5 dpi + Cre / 5 dpi                              1.177562  \n",
      "7 dpi + Cre / 14 dpi                             1.313687  \n",
      "7 dpi + Cre / 14 dpi + Cre                       1.026388  \n",
      "7 dpi + Cre / 7 dpi                              2.070906  \n",
      "7 dpi / 14 dpi                                   0.634354  \n",
      "\n",
      "loxP control:\n",
      "                        Output gmean (mCherry)  (%) iMN yield\\nper MEF plated\n",
      "5 dpi + Cre / 5 dpi                  0.894360                       0.991204\n",
      "7 dpi + Cre / 7 dpi                  0.833425                       1.338048\n",
      "14 dpi + Cre / 14 dpi                1.037711                       1.050847\n"
     ]
    }
   ],
   "source": [
    "reporters = ['380 bp', 'loxP control']\n",
    "columns = ['Output gmean (mCherry)', '(%) iMN yield\\nper MEF plated']\n",
    "\n",
    "# Store the results\n",
    "fold_changes_by_reporter = {}\n",
    "\n",
    "for reporter in reporters:\n",
    "    subset = summary_df_14dpi[summary_df_14dpi['reporter'] == reporter]\n",
    "    means = subset.groupby('cond')[columns].mean()\n",
    "\n",
    "    fold_changes = {}\n",
    "\n",
    "    for col in columns:\n",
    "        comparisons = []\n",
    "\n",
    "        # For 380 bp iMN yield, include extra comparisons\n",
    "        if col == '(%) iMN yield\\nper MEF plated' and reporter == '380 bp':\n",
    "            pairs_to_check = [\n",
    "                ('5 dpi', '5 dpi + Cre'),\n",
    "                ('7 dpi', '7 dpi + Cre'),\n",
    "                ('14 dpi', '14 dpi + Cre'),\n",
    "                ('14 dpi + Cre', '7 dpi + Cre'),\n",
    "                ('14 dpi', '7 dpi'),\n",
    "                ('14 dpi', '7 dpi + Cre')\n",
    "            ]\n",
    "        else:\n",
    "            pairs_to_check = [\n",
    "                ('5 dpi', '5 dpi + Cre'),\n",
    "                ('7 dpi', '7 dpi + Cre'),\n",
    "                ('14 dpi', '14 dpi + Cre')\n",
    "            ]\n",
    "\n",
    "        for cond_base, cond_cre in pairs_to_check:\n",
    "            if cond_base in means.index and cond_cre in means.index:\n",
    "                base_val = means.loc[cond_base, col]\n",
    "                cre_val = means.loc[cond_cre, col]\n",
    "                if pd.notna(base_val) and base_val != 0:\n",
    "                    fc = cre_val / base_val\n",
    "                else:\n",
    "                    fc = float('inf')\n",
    "                comparisons.append((f'{cond_cre} / {cond_base}', fc))\n",
    "        \n",
    "        fold_changes[col] = pd.Series(dict(comparisons))\n",
    "\n",
    "    fold_changes_by_reporter[reporter] = pd.DataFrame(fold_changes)\n",
    "\n",
    "# View results\n",
    "print(\"380 bp:\\n\", fold_changes_by_reporter['380 bp'])\n",
    "print(\"\\nloxP control:\\n\", fold_changes_by_reporter['loxP control'])"
   ]
  },
  {
   "cell_type": "code",
   "execution_count": 67,
   "metadata": {},
   "outputs": [
    {
     "name": "stdout",
     "output_type": "stream",
     "text": [
      "p-value annotation legend:\n",
      "ns: 5.00e-02 < p <= 1.00e+00\n",
      "*: 1.00e-02 < p <= 5.00e-02\n",
      "**: 1.00e-03 < p <= 1.00e-02\n",
      "***: 1.00e-04 < p <= 1.00e-03\n",
      "****: p <= 1.00e-04\n",
      "\n",
      "7 dpi + Cre_7 dpi + Cre v.s. 14 dpi_14 dpi: t-test independent samples, P_val=2.312e-01 stat=1.214e+00\n",
      "7 dpi_7 dpi v.s. 7 dpi + Cre_7 dpi + Cre: t-test independent samples, P_val=9.725e-03 stat=-2.698e+00\n",
      "5 dpi_5 dpi v.s. 5 dpi + Cre_5 dpi + Cre: t-test independent samples, P_val=4.000e-01 stat=-8.507e-01\n",
      "14 dpi_14 dpi v.s. 14 dpi + Cre_14 dpi + Cre: t-test independent samples, P_val=1.044e-01 stat=-1.657e+00\n",
      "7 dpi_7 dpi v.s. 14 dpi_14 dpi: t-test independent samples, P_val=6.950e-04 stat=-3.643e+00\n",
      "7 dpi + Cre_7 dpi + Cre v.s. 14 dpi + Cre_14 dpi + Cre: t-test independent samples, P_val=9.061e-01 stat=1.186e-01\n"
     ]
    },
    {
     "data": {
      "image/png": "[encoded data removed]",
      "text/plain": [
       "<Figure size 252x180 with 1 Axes>"
      ]
     },
     "metadata": {},
     "output_type": "display_data"
    },
    {
     "name": "stdout",
     "output_type": "stream",
     "text": [
      "p-value annotation legend:\n",
      "ns: 5.00e-02 < p <= 1.00e+00\n",
      "*: 1.00e-02 < p <= 5.00e-02\n",
      "**: 1.00e-03 < p <= 1.00e-02\n",
      "***: 1.00e-04 < p <= 1.00e-03\n",
      "****: p <= 1.00e-04\n",
      "\n",
      "7 dpi + Cre_7 dpi + Cre v.s. 14 dpi_14 dpi: t-test independent samples, P_val=2.312e-01 stat=1.214e+00\n",
      "7 dpi_7 dpi v.s. 7 dpi + Cre_7 dpi + Cre: t-test independent samples, P_val=9.725e-03 stat=-2.698e+00\n",
      "5 dpi_5 dpi v.s. 5 dpi + Cre_5 dpi + Cre: t-test independent samples, P_val=4.000e-01 stat=-8.507e-01\n",
      "14 dpi_14 dpi v.s. 14 dpi + Cre_14 dpi + Cre: t-test independent samples, P_val=1.044e-01 stat=-1.657e+00\n",
      "7 dpi_7 dpi v.s. 14 dpi_14 dpi: t-test independent samples, P_val=6.950e-04 stat=-3.643e+00\n",
      "7 dpi + Cre_7 dpi + Cre v.s. 14 dpi + Cre_14 dpi + Cre: t-test independent samples, P_val=9.061e-01 stat=1.186e-01\n"
     ]
    },
    {
     "data": {
      "image/png": "[encoded data removed]",
      "text/plain": [
       "<Figure size 252x180 with 1 Axes>"
      ]
     },
     "metadata": {},
     "output_type": "display_data"
    },
    {
     "name": "stdout",
     "output_type": "stream",
     "text": [
      "p-value annotation legend:\n",
      "ns: 5.00e-02 < p <= 1.00e+00\n",
      "*: 1.00e-02 < p <= 5.00e-02\n",
      "**: 1.00e-03 < p <= 1.00e-02\n",
      "***: 1.00e-04 < p <= 1.00e-03\n",
      "****: p <= 1.00e-04\n",
      "\n",
      "7 dpi + Cre_7 dpi + Cre v.s. 14 dpi_14 dpi: t-test independent samples, P_val=1.032e-01 stat=1.663e+00\n",
      "7 dpi_7 dpi v.s. 7 dpi + Cre_7 dpi + Cre: t-test independent samples, P_val=3.479e-01 stat=-9.484e-01\n",
      "5 dpi_5 dpi v.s. 5 dpi + Cre_5 dpi + Cre: t-test independent samples, P_val=9.802e-01 stat=2.503e-02\n",
      "14 dpi_14 dpi v.s. 14 dpi + Cre_14 dpi + Cre: t-test independent samples, P_val=8.927e-01 stat=-1.357e-01\n",
      "7 dpi_7 dpi v.s. 14 dpi_14 dpi: t-test independent samples, P_val=3.111e-01 stat=1.024e+00\n",
      "7 dpi + Cre_7 dpi + Cre v.s. 14 dpi + Cre_14 dpi + Cre: t-test independent samples, P_val=1.603e-01 stat=1.427e+00\n"
     ]
    },
    {
     "data": {
      "image/png": "[encoded data removed]",
      "text/plain": [
       "<Figure size 252x180 with 1 Axes>"
      ]
     },
     "metadata": {},
     "output_type": "display_data"
    },
    {
     "data": {
      "text/plain": [
       "<AxesSubplot:ylabel='(%) iMN yield\\nper MEF plated'>"
      ]
     },
     "execution_count": 67,
     "metadata": {},
     "output_type": "execute_result"
    }
   ],
   "source": [
    "pairs = [\n",
    "\n",
    "    (('5 dpi', '5 dpi'),('5 dpi + Cre', '5 dpi + Cre')),\n",
    "    (('7 dpi', '7 dpi'),('7 dpi + Cre', '7 dpi + Cre')),\n",
    "    (('14 dpi', '14 dpi'),('14 dpi + Cre', '14 dpi + Cre')),\n",
    "    (('14 dpi + Cre', '14 dpi + Cre'),('7 dpi + Cre', '7 dpi + Cre')),\n",
    "    (('14 dpi', '14 dpi'),('7 dpi', '7 dpi')),\n",
    "    (('14 dpi', '14 dpi'),('7 dpi + Cre', '7 dpi + Cre')),\n",
    "\n",
    "]\n",
    "\n",
    "palette = { 'None':'#b3b3b3',\n",
    "           '5 dpi':'#E397BA', '5 dpi + Cre':'#9C1C26',\n",
    "           '7 dpi':'#E397BA', '7 dpi + Cre':'#9C1C26',\n",
    "           '14 dpi':'#E397BA', '14 dpi + Cre':'#9C1C26',}\n",
    "\n",
    "order = ['None', '5 dpi', '5 dpi + Cre', '7 dpi', '7 dpi + Cre', '14 dpi', '14 dpi + Cre']\n",
    "hue_order = ['None','eeBxb1','Puro-Cre']\n",
    "\n",
    "# slice = summary_df_14dpi[(summary_df_14dpi['reporter']=='380 bp')]\n",
    "# savetitle = (f'TET-DIAL 14 dpi mCherry MFI all reps no wells')\n",
    "# plottitle = savetitle\n",
    "\n",
    "# SK_dotplot('cond', 'mCherry MFI', 'cond', slice,\n",
    "#             pairs=pairs, \n",
    "#             palette=palette, plot_reps=False,\n",
    "#             order=palette, save_fig=True,\n",
    "#             #hue_order=hue_order,\n",
    "#             plottitle=plottitle,\n",
    "#             savetitle=savetitle,figsize=[2,2.5],xlabel=None)\n",
    "\n",
    "slice = summary_df_14dpi[summary_df_14dpi['reporter']=='380 bp']\n",
    "\n",
    "savetitle = (f'TET-DIAL 14 dpi 380 bp iMN yield all reps for sig')\n",
    "plottitle = savetitle\n",
    "\n",
    "SK_dotplot('cond', y, 'cond', slice,\n",
    "            pairs=pairs, scientific=False,\n",
    "            palette=palette, plot_reps=False,\n",
    "            order=palette, save_fig=False,\n",
    "            savetitle=savetitle,figsize=[3.5,2.5],\n",
    "            xlabel='',xticklabels=False,legend=False,plottitle='')\n",
    "\n",
    "savetitle = (f'TET-DIAL 14 dpi 380 bp iMN yield all reps no wells')\n",
    "plottitle = savetitle\n",
    "\n",
    "SK_dotplot('cond', y, 'cond', slice,\n",
    "            pairs=pairs, scientific=False,\n",
    "            palette=palette, ylim=[0,10], plot_reps=False,\n",
    "            order=palette, save_fig=False,\n",
    "            savetitle=savetitle,figsize=[3.5,2.5], pointplot_settings='fig6',\n",
    "            xlabel='',xticklabels=False,legend=False,plottitle='')\n",
    "\n",
    "slice = summary_df_14dpi[summary_df_14dpi['reporter']=='loxP control']\n",
    "\n",
    "savetitle = (f'TET-DIAL 14 dpi loxP control iMN yield all reps no wells')\n",
    "plottitle = savetitle\n",
    "\n",
    "SK_dotplot('cond', y, 'cond', slice,\n",
    "            pairs=pairs, scientific=False,\n",
    "            palette=palette, ylim=[0,110], plot_reps=False,\n",
    "            order=palette, save_fig=False,\n",
    "            savetitle=savetitle,figsize=[3.5,2.5], pointplot_settings='fig6',\n",
    "            xlabel='',xticklabels=False,legend=False,plottitle='')\n"
   ]
  },
  {
   "cell_type": "code",
   "execution_count": 68,
   "metadata": {},
   "outputs": [
    {
     "name": "stdout",
     "output_type": "stream",
     "text": [
      "p-value annotation legend:\n",
      "ns: 5.00e-02 < p <= 1.00e+00\n",
      "*: 1.00e-02 < p <= 5.00e-02\n",
      "**: 1.00e-03 < p <= 1.00e-02\n",
      "***: 1.00e-04 < p <= 1.00e-03\n",
      "****: p <= 1.00e-04\n",
      "\n",
      "7 dpi_7 dpi v.s. 7 dpi + Cre_7 dpi + Cre: t-test independent samples, P_val=5.354e-04 stat=-4.463e+00\n",
      "5 dpi_5 dpi v.s. 5 dpi + Cre_5 dpi + Cre: t-test independent samples, P_val=9.935e-01 stat=-8.310e-03\n",
      "14 dpi_14 dpi v.s. 14 dpi + Cre_14 dpi + Cre: t-test independent samples, P_val=6.541e-05 stat=-5.765e+00\n"
     ]
    },
    {
     "data": {
      "image/png": "[encoded data removed]",
      "text/plain": [
       "<Figure size 252x180 with 1 Axes>"
      ]
     },
     "metadata": {},
     "output_type": "display_data"
    },
    {
     "name": "stdout",
     "output_type": "stream",
     "text": [
      "p-value annotation legend:\n",
      "ns: 5.00e-02 < p <= 1.00e+00\n",
      "*: 1.00e-02 < p <= 5.00e-02\n",
      "**: 1.00e-03 < p <= 1.00e-02\n",
      "***: 1.00e-04 < p <= 1.00e-03\n",
      "****: p <= 1.00e-04\n",
      "\n",
      "7 dpi_7 dpi v.s. 7 dpi + Cre_7 dpi + Cre: t-test independent samples, P_val=2.709e-01 stat=-1.146e+00\n",
      "5 dpi_5 dpi v.s. 5 dpi + Cre_5 dpi + Cre: t-test independent samples, P_val=6.766e-01 stat=-4.274e-01\n",
      "14 dpi_14 dpi v.s. 14 dpi + Cre_14 dpi + Cre: t-test independent samples, P_val=3.124e-01 stat=-1.051e+00\n"
     ]
    },
    {
     "data": {
      "image/png": "[encoded data removed]",
      "text/plain": [
       "<Figure size 252x180 with 1 Axes>"
      ]
     },
     "metadata": {},
     "output_type": "display_data"
    },
    {
     "name": "stdout",
     "output_type": "stream",
     "text": [
      "p-value annotation legend:\n",
      "ns: 5.00e-02 < p <= 1.00e+00\n",
      "*: 1.00e-02 < p <= 5.00e-02\n",
      "**: 1.00e-03 < p <= 1.00e-02\n",
      "***: 1.00e-04 < p <= 1.00e-03\n",
      "****: p <= 1.00e-04\n",
      "\n",
      "7 dpi_7 dpi v.s. 7 dpi + Cre_7 dpi + Cre: t-test independent samples, P_val=5.125e-01 stat=-6.720e-01\n",
      "5 dpi_5 dpi v.s. 5 dpi + Cre_5 dpi + Cre: t-test independent samples, P_val=7.889e-01 stat=2.738e-01\n",
      "14 dpi_14 dpi v.s. 14 dpi + Cre_14 dpi + Cre: t-test independent samples, P_val=6.969e-01 stat=-3.976e-01\n"
     ]
    },
    {
     "data": {
      "image/png": "[encoded data removed]",
      "text/plain": [
       "<Figure size 252x180 with 1 Axes>"
      ]
     },
     "metadata": {},
     "output_type": "display_data"
    },
    {
     "name": "stdout",
     "output_type": "stream",
     "text": [
      "p-value annotation legend:\n",
      "ns: 5.00e-02 < p <= 1.00e+00\n",
      "*: 1.00e-02 < p <= 5.00e-02\n",
      "**: 1.00e-03 < p <= 1.00e-02\n",
      "***: 1.00e-04 < p <= 1.00e-03\n",
      "****: p <= 1.00e-04\n",
      "\n",
      "7 dpi_7 dpi v.s. 7 dpi + Cre_7 dpi + Cre: t-test independent samples, P_val=6.314e-01 stat=-4.904e-01\n",
      "5 dpi_5 dpi v.s. 5 dpi + Cre_5 dpi + Cre: t-test independent samples, P_val=9.352e-01 stat=8.301e-02\n",
      "14 dpi_14 dpi v.s. 14 dpi + Cre_14 dpi + Cre: t-test independent samples, P_val=6.850e-01 stat=4.143e-01\n"
     ]
    },
    {
     "data": {
      "image/png": "[encoded data removed]",
      "text/plain": [
       "<Figure size 252x180 with 1 Axes>"
      ]
     },
     "metadata": {},
     "output_type": "display_data"
    },
    {
     "name": "stdout",
     "output_type": "stream",
     "text": [
      "p-value annotation legend:\n",
      "ns: 5.00e-02 < p <= 1.00e+00\n",
      "*: 1.00e-02 < p <= 5.00e-02\n",
      "**: 1.00e-03 < p <= 1.00e-02\n",
      "***: 1.00e-04 < p <= 1.00e-03\n",
      "****: p <= 1.00e-04\n",
      "\n",
      "7 dpi_7 dpi v.s. 7 dpi + Cre_7 dpi + Cre: t-test independent samples, P_val=1.075e-01 stat=-1.720e+00\n",
      "5 dpi_5 dpi v.s. 5 dpi + Cre_5 dpi + Cre: t-test independent samples, P_val=2.184e-01 stat=-1.299e+00\n",
      "14 dpi_14 dpi v.s. 14 dpi + Cre_14 dpi + Cre: t-test independent samples, P_val=6.484e-03 stat=-3.195e+00\n"
     ]
    },
    {
     "data": {
      "image/png": "[encoded data removed]",
      "text/plain": [
       "<Figure size 252x180 with 1 Axes>"
      ]
     },
     "metadata": {},
     "output_type": "display_data"
    },
    {
     "name": "stdout",
     "output_type": "stream",
     "text": [
      "p-value annotation legend:\n",
      "ns: 5.00e-02 < p <= 1.00e+00\n",
      "*: 1.00e-02 < p <= 5.00e-02\n",
      "**: 1.00e-03 < p <= 1.00e-02\n",
      "***: 1.00e-04 < p <= 1.00e-03\n",
      "****: p <= 1.00e-04\n",
      "\n",
      "7 dpi_7 dpi v.s. 7 dpi + Cre_7 dpi + Cre: t-test independent samples, P_val=1.135e-02 stat=-2.913e+00\n",
      "5 dpi_5 dpi v.s. 5 dpi + Cre_5 dpi + Cre: t-test independent samples, P_val=2.908e-01 stat=-1.105e+00\n",
      "14 dpi_14 dpi v.s. 14 dpi + Cre_14 dpi + Cre: t-test independent samples, P_val=6.096e-01 stat=-5.223e-01\n"
     ]
    },
    {
     "data": {
      "image/png": "[encoded data removed]",
      "text/plain": [
       "<Figure size 252x180 with 1 Axes>"
      ]
     },
     "metadata": {},
     "output_type": "display_data"
    },
    {
     "name": "stdout",
     "output_type": "stream",
     "text": [
      "p-value annotation legend:\n",
      "ns: 5.00e-02 < p <= 1.00e+00\n",
      "*: 1.00e-02 < p <= 5.00e-02\n",
      "**: 1.00e-03 < p <= 1.00e-02\n",
      "***: 1.00e-04 < p <= 1.00e-03\n",
      "****: p <= 1.00e-04\n",
      "\n",
      "7 dpi_7 dpi v.s. 7 dpi + Cre_7 dpi + Cre: t-test independent samples, P_val=5.173e-03 stat=3.309e+00\n",
      "5 dpi_5 dpi v.s. 5 dpi + Cre_5 dpi + Cre: t-test independent samples, P_val=3.614e-01 stat=-9.488e-01\n",
      "14 dpi_14 dpi v.s. 14 dpi + Cre_14 dpi + Cre: t-test independent samples, P_val=6.509e-01 stat=4.624e-01\n"
     ]
    },
    {
     "data": {
      "image/png": "[encoded data removed]",
      "text/plain": [
       "<Figure size 252x180 with 1 Axes>"
      ]
     },
     "metadata": {},
     "output_type": "display_data"
    },
    {
     "name": "stdout",
     "output_type": "stream",
     "text": [
      "p-value annotation legend:\n",
      "ns: 5.00e-02 < p <= 1.00e+00\n",
      "*: 1.00e-02 < p <= 5.00e-02\n",
      "**: 1.00e-03 < p <= 1.00e-02\n",
      "***: 1.00e-04 < p <= 1.00e-03\n",
      "****: p <= 1.00e-04\n",
      "\n",
      "7 dpi_7 dpi v.s. 7 dpi + Cre_7 dpi + Cre: t-test independent samples, P_val=6.940e-01 stat=4.017e-01\n",
      "5 dpi_5 dpi v.s. 5 dpi + Cre_5 dpi + Cre: t-test independent samples, P_val=8.731e-01 stat=1.631e-01\n",
      "14 dpi_14 dpi v.s. 14 dpi + Cre_14 dpi + Cre: t-test independent samples, P_val=7.068e-01 stat=3.840e-01\n"
     ]
    },
    {
     "data": {
      "image/png": "[encoded data removed]",
      "text/plain": [
       "<Figure size 252x180 with 1 Axes>"
      ]
     },
     "metadata": {},
     "output_type": "display_data"
    },
    {
     "name": "stdout",
     "output_type": "stream",
     "text": [
      "p-value annotation legend:\n",
      "ns: 5.00e-02 < p <= 1.00e+00\n",
      "*: 1.00e-02 < p <= 5.00e-02\n",
      "**: 1.00e-03 < p <= 1.00e-02\n",
      "***: 1.00e-04 < p <= 1.00e-03\n",
      "****: p <= 1.00e-04\n",
      "\n",
      "7 dpi_7 dpi v.s. 7 dpi + Cre_7 dpi + Cre: t-test independent samples, P_val=6.508e-02 stat=-2.002e+00\n",
      "5 dpi_5 dpi v.s. 5 dpi + Cre_5 dpi + Cre: t-test independent samples, P_val=5.810e-01 stat=-5.673e-01\n",
      "14 dpi_14 dpi v.s. 14 dpi + Cre_14 dpi + Cre: t-test independent samples, P_val=4.235e-04 stat=-4.586e+00\n"
     ]
    },
    {
     "data": {
      "image/png": "[encoded data removed]",
      "text/plain": [
       "<Figure size 252x180 with 1 Axes>"
      ]
     },
     "metadata": {},
     "output_type": "display_data"
    },
    {
     "name": "stdout",
     "output_type": "stream",
     "text": [
      "p-value annotation legend:\n",
      "ns: 5.00e-02 < p <= 1.00e+00\n",
      "*: 1.00e-02 < p <= 5.00e-02\n",
      "**: 1.00e-03 < p <= 1.00e-02\n",
      "***: 1.00e-04 < p <= 1.00e-03\n",
      "****: p <= 1.00e-04\n",
      "\n",
      "7 dpi_7 dpi v.s. 7 dpi + Cre_7 dpi + Cre: t-test independent samples, P_val=4.795e-02 stat=-2.167e+00\n",
      "5 dpi_5 dpi v.s. 5 dpi + Cre_5 dpi + Cre: t-test independent samples, P_val=6.543e-01 stat=-4.592e-01\n",
      "14 dpi_14 dpi v.s. 14 dpi + Cre_14 dpi + Cre: t-test independent samples, P_val=2.131e-01 stat=-1.304e+00\n"
     ]
    },
    {
     "data": {
      "image/png": "[encoded data removed]",
      "text/plain": [
       "<Figure size 252x180 with 1 Axes>"
      ]
     },
     "metadata": {},
     "output_type": "display_data"
    },
    {
     "name": "stdout",
     "output_type": "stream",
     "text": [
      "p-value annotation legend:\n",
      "ns: 5.00e-02 < p <= 1.00e+00\n",
      "*: 1.00e-02 < p <= 5.00e-02\n",
      "**: 1.00e-03 < p <= 1.00e-02\n",
      "***: 1.00e-04 < p <= 1.00e-03\n",
      "****: p <= 1.00e-04\n",
      "\n",
      "7 dpi_7 dpi v.s. 7 dpi + Cre_7 dpi + Cre: t-test independent samples, P_val=2.950e-01 stat=1.088e+00\n",
      "5 dpi_5 dpi v.s. 5 dpi + Cre_5 dpi + Cre: t-test independent samples, P_val=1.802e-01 stat=1.423e+00\n",
      "14 dpi_14 dpi v.s. 14 dpi + Cre_14 dpi + Cre: t-test independent samples, P_val=4.542e-01 stat=-7.699e-01\n"
     ]
    },
    {
     "data": {
      "image/png": "[encoded data removed]",
      "text/plain": [
       "<Figure size 252x180 with 1 Axes>"
      ]
     },
     "metadata": {},
     "output_type": "display_data"
    },
    {
     "name": "stdout",
     "output_type": "stream",
     "text": [
      "p-value annotation legend:\n",
      "ns: 5.00e-02 < p <= 1.00e+00\n",
      "*: 1.00e-02 < p <= 5.00e-02\n",
      "**: 1.00e-03 < p <= 1.00e-02\n",
      "***: 1.00e-04 < p <= 1.00e-03\n",
      "****: p <= 1.00e-04\n",
      "\n",
      "7 dpi_7 dpi v.s. 7 dpi + Cre_7 dpi + Cre: t-test independent samples, P_val=3.053e-01 stat=-1.064e+00\n",
      "5 dpi_5 dpi v.s. 5 dpi + Cre_5 dpi + Cre: t-test independent samples, P_val=6.167e-01 stat=-5.138e-01\n",
      "14 dpi_14 dpi v.s. 14 dpi + Cre_14 dpi + Cre: t-test independent samples, P_val=3.559e-01 stat=-9.548e-01\n"
     ]
    },
    {
     "data": {
      "image/png": "[encoded data removed]",
      "text/plain": [
       "<Figure size 252x180 with 1 Axes>"
      ]
     },
     "metadata": {},
     "output_type": "display_data"
    }
   ],
   "source": [
    "pairs = [\n",
    "\n",
    "    (('5 dpi', '5 dpi'),('5 dpi + Cre', '5 dpi + Cre')),\n",
    "    (('7 dpi', '7 dpi'),('7 dpi + Cre', '7 dpi + Cre')),\n",
    "    (('14 dpi', '14 dpi'),('14 dpi + Cre', '14 dpi + Cre'))  \n",
    "]\n",
    "\n",
    "palette = { 'None':'#b3b3b3',\n",
    "           '5 dpi':'#E397BA', '5 dpi + Cre':'#9C1C26',\n",
    "           '7 dpi':'#E397BA', '7 dpi + Cre':'#9C1C26',\n",
    "           '14 dpi':'#E397BA', '14 dpi + Cre':'#9C1C26',}\n",
    "reps = [r1, r2, r3]\n",
    "order = ['380 bp', 'loxP control']\n",
    "\n",
    "for rep in reps:\n",
    "\n",
    "    slice_rep = summary_df_14dpi[summary_df_14dpi['replicate']==rep]\n",
    "\n",
    "    for rept in order:\n",
    "        slice = slice_rep[(slice_rep['reporter']==rept)]\n",
    "\n",
    "        rep_order=[rept]\n",
    "\n",
    "        # For each y in dot2plot_14dpi, plot the data\n",
    "\n",
    "        for y in dot2plot_14dpi:\n",
    "        \n",
    "            savetitle = (f'TET-DIAL 14 dpi {rept} rep {rep} {y}')\n",
    "            plottitle = savetitle\n",
    "\n",
    "            if y == '(%) iMN yield\\nper MEF plated':\n",
    "                scientific = False\n",
    "            else:\n",
    "                scientific = True\n",
    "\n",
    "            SK_dotplot('cond', y, 'cond', slice,\n",
    "                pairs=pairs, \n",
    "                palette=palette, scientific=scientific,\n",
    "                    order=palette, save_fig=False, pointplot_settings='fig6',\n",
    "                    savetitle=savetitle,figsize=[3.5,2.5],\n",
    "                    xlabel='',xticklabels=False,legend=False,plottitle='')\n"
   ]
  },
  {
   "cell_type": "code",
   "execution_count": 69,
   "metadata": {},
   "outputs": [
    {
     "data": {
      "text/html": [
       "<div>\n",
       "<style scoped>\n",
       "    .dataframe tbody tr th:only-of-type {\n",
       "        vertical-align: middle;\n",
       "    }\n",
       "\n",
       "    .dataframe tbody tr th {\n",
       "        vertical-align: top;\n",
       "    }\n",
       "\n",
       "    .dataframe thead th {\n",
       "        text-align: right;\n",
       "    }\n",
       "</style>\n",
       "<table border=\"1\" class=\"dataframe\">\n",
       "  <thead>\n",
       "    <tr style=\"text-align: right;\">\n",
       "      <th></th>\n",
       "      <th>replicate</th>\n",
       "      <th>reporter</th>\n",
       "      <th>DOX</th>\n",
       "      <th>DOX-Day</th>\n",
       "      <th>modRNA</th>\n",
       "      <th>well</th>\n",
       "      <th>Output gmean (mCherry)</th>\n",
       "    </tr>\n",
       "  </thead>\n",
       "  <tbody>\n",
       "    <tr>\n",
       "      <th>0</th>\n",
       "      <td>MEF1</td>\n",
       "      <td>203 bp</td>\n",
       "      <td>DOX</td>\n",
       "      <td>14 dpi</td>\n",
       "      <td>None</td>\n",
       "      <td>A1</td>\n",
       "      <td>6395.961451</td>\n",
       "    </tr>\n",
       "    <tr>\n",
       "      <th>1</th>\n",
       "      <td>MEF1</td>\n",
       "      <td>203 bp</td>\n",
       "      <td>DOX</td>\n",
       "      <td>14 dpi</td>\n",
       "      <td>None</td>\n",
       "      <td>A2</td>\n",
       "      <td>6610.008402</td>\n",
       "    </tr>\n",
       "    <tr>\n",
       "      <th>2</th>\n",
       "      <td>MEF1</td>\n",
       "      <td>203 bp</td>\n",
       "      <td>DOX</td>\n",
       "      <td>14 dpi</td>\n",
       "      <td>None</td>\n",
       "      <td>A3</td>\n",
       "      <td>6449.347881</td>\n",
       "    </tr>\n",
       "    <tr>\n",
       "      <th>3</th>\n",
       "      <td>MEF1</td>\n",
       "      <td>203 bp</td>\n",
       "      <td>DOX</td>\n",
       "      <td>14 dpi</td>\n",
       "      <td>None</td>\n",
       "      <td>A4</td>\n",
       "      <td>5991.145861</td>\n",
       "    </tr>\n",
       "    <tr>\n",
       "      <th>4</th>\n",
       "      <td>MEF1</td>\n",
       "      <td>203 bp</td>\n",
       "      <td>DOX</td>\n",
       "      <td>14 dpi</td>\n",
       "      <td>None</td>\n",
       "      <td>B1</td>\n",
       "      <td>6177.548841</td>\n",
       "    </tr>\n",
       "    <tr>\n",
       "      <th>...</th>\n",
       "      <td>...</td>\n",
       "      <td>...</td>\n",
       "      <td>...</td>\n",
       "      <td>...</td>\n",
       "      <td>...</td>\n",
       "      <td>...</td>\n",
       "      <td>...</td>\n",
       "    </tr>\n",
       "    <tr>\n",
       "      <th>859</th>\n",
       "      <td>MEF3</td>\n",
       "      <td>loxP control</td>\n",
       "      <td>NO DOX</td>\n",
       "      <td>None</td>\n",
       "      <td>None</td>\n",
       "      <td>G2</td>\n",
       "      <td>287.592727</td>\n",
       "    </tr>\n",
       "    <tr>\n",
       "      <th>860</th>\n",
       "      <td>MEF3</td>\n",
       "      <td>loxP control</td>\n",
       "      <td>NO DOX</td>\n",
       "      <td>None</td>\n",
       "      <td>None</td>\n",
       "      <td>G3</td>\n",
       "      <td>254.338292</td>\n",
       "    </tr>\n",
       "    <tr>\n",
       "      <th>861</th>\n",
       "      <td>MEF3</td>\n",
       "      <td>loxP control</td>\n",
       "      <td>NO DOX</td>\n",
       "      <td>None</td>\n",
       "      <td>None</td>\n",
       "      <td>H1</td>\n",
       "      <td>268.182376</td>\n",
       "    </tr>\n",
       "    <tr>\n",
       "      <th>862</th>\n",
       "      <td>MEF3</td>\n",
       "      <td>loxP control</td>\n",
       "      <td>NO DOX</td>\n",
       "      <td>None</td>\n",
       "      <td>None</td>\n",
       "      <td>H2</td>\n",
       "      <td>294.524991</td>\n",
       "    </tr>\n",
       "    <tr>\n",
       "      <th>863</th>\n",
       "      <td>MEF3</td>\n",
       "      <td>loxP control</td>\n",
       "      <td>NO DOX</td>\n",
       "      <td>None</td>\n",
       "      <td>None</td>\n",
       "      <td>H3</td>\n",
       "      <td>302.563307</td>\n",
       "    </tr>\n",
       "  </tbody>\n",
       "</table>\n",
       "<p>864 rows × 7 columns</p>\n",
       "</div>"
      ],
      "text/plain": [
       "    replicate      reporter     DOX DOX-Day modRNA well  \\\n",
       "0        MEF1        203 bp     DOX  14 dpi   None   A1   \n",
       "1        MEF1        203 bp     DOX  14 dpi   None   A2   \n",
       "2        MEF1        203 bp     DOX  14 dpi   None   A3   \n",
       "3        MEF1        203 bp     DOX  14 dpi   None   A4   \n",
       "4        MEF1        203 bp     DOX  14 dpi   None   B1   \n",
       "..        ...           ...     ...     ...    ...  ...   \n",
       "859      MEF3  loxP control  NO DOX    None   None   G2   \n",
       "860      MEF3  loxP control  NO DOX    None   None   G3   \n",
       "861      MEF3  loxP control  NO DOX    None   None   H1   \n",
       "862      MEF3  loxP control  NO DOX    None   None   H2   \n",
       "863      MEF3  loxP control  NO DOX    None   None   H3   \n",
       "\n",
       "     Output gmean (mCherry)  \n",
       "0               6395.961451  \n",
       "1               6610.008402  \n",
       "2               6449.347881  \n",
       "3               5991.145861  \n",
       "4               6177.548841  \n",
       "..                      ...  \n",
       "859              287.592727  \n",
       "860              254.338292  \n",
       "861              268.182376  \n",
       "862              294.524991  \n",
       "863              302.563307  \n",
       "\n",
       "[864 rows x 7 columns]"
      ]
     },
     "execution_count": 69,
     "metadata": {},
     "output_type": "execute_result"
    }
   ],
   "source": [
    "df_14dpi_Hb9 = df_14dpi[df_14dpi['eGFP-A']> iMN_gate]\n",
    "\n",
    "summary_Hb9 = df_14dpi_Hb9.groupby(groups)['mCherry-A'].apply(scipy.stats.gmean).rename('Output gmean (mCherry)').reset_index()\n",
    "\n",
    "summary_Hb9"
   ]
  },
  {
   "cell_type": "code",
   "execution_count": 70,
   "metadata": {},
   "outputs": [],
   "source": [
    "summary_Hb9['cond'] = summary_Hb9.apply(set_cond, axis=1)"
   ]
  },
  {
   "cell_type": "code",
   "execution_count": 71,
   "metadata": {},
   "outputs": [
    {
     "name": "stdout",
     "output_type": "stream",
     "text": [
      "p-value annotation legend:\n",
      "ns: 5.00e-02 < p <= 1.00e+00\n",
      "*: 1.00e-02 < p <= 5.00e-02\n",
      "**: 1.00e-03 < p <= 1.00e-02\n",
      "***: 1.00e-04 < p <= 1.00e-03\n",
      "****: p <= 1.00e-04\n",
      "\n",
      "14 dpi_14 dpi v.s. 14 dpi + Cre_14 dpi + Cre: t-test independent samples, P_val=3.609e-04 stat=-3.852e+00\n"
     ]
    },
    {
     "data": {
      "image/png": "[encoded data removed]",
      "text/plain": [
       "<Figure size 108x180 with 1 Axes>"
      ]
     },
     "metadata": {},
     "output_type": "display_data"
    },
    {
     "name": "stdout",
     "output_type": "stream",
     "text": [
      "p-value annotation legend:\n",
      "ns: 5.00e-02 < p <= 1.00e+00\n",
      "*: 1.00e-02 < p <= 5.00e-02\n",
      "**: 1.00e-03 < p <= 1.00e-02\n",
      "***: 1.00e-04 < p <= 1.00e-03\n",
      "****: p <= 1.00e-04\n",
      "\n",
      "14 dpi_14 dpi v.s. 14 dpi + Cre_14 dpi + Cre: t-test independent samples, P_val=2.993e-01 stat=-1.050e+00\n"
     ]
    },
    {
     "data": {
      "image/png": "[encoded data removed]",
      "text/plain": [
       "<Figure size 108x180 with 1 Axes>"
      ]
     },
     "metadata": {},
     "output_type": "display_data"
    }
   ],
   "source": [
    "pairs = [\n",
    "    (('14 dpi','14 dpi'), ('14 dpi + Cre','14 dpi + Cre'))\n",
    "]\n",
    "\n",
    "palette = { 'None':'#b3b3b3',\n",
    "           '14 dpi':'#E397BA', '14 dpi + Cre':'#9C1C26',}\n",
    "\n",
    "order = ['380 bp', 'loxP control']\n",
    "cond_order = ['None',\n",
    "              '14 dpi','14 dpi + Cre']\n",
    "\n",
    "for rept in order:\n",
    "\n",
    "    slice = summary_Hb9[summary_Hb9['reporter']==rept]\n",
    "\n",
    "    rep_order=[rept]\n",
    "        \n",
    "    savetitle = (f'TET-DIAL 14 dpi {rept} Hb9+ mCherry MFI')\n",
    "    plottitle = savetitle\n",
    "\n",
    "    SK_dotplot('cond', 'Output gmean (mCherry)', 'cond', slice,\n",
    "            pairs=pairs, \n",
    "            palette=palette, hue_order=cond_order,\n",
    "                order=cond_order, save_fig=False, pointplot_settings='fig6_2',\n",
    "                savetitle=savetitle,figsize=[1.5,2.5],\n",
    "                xlabel='',xticklabels=False,legend=False,plottitle='')"
   ]
  },
  {
   "cell_type": "code",
   "execution_count": 72,
   "metadata": {},
   "outputs": [],
   "source": [
    "summary_Hb9_replot = summary_Hb9[(summary_Hb9['cond'].isin(cond_order)) & (summary_Hb9['reporter'].isin(order))]"
   ]
  },
  {
   "cell_type": "code",
   "execution_count": 73,
   "metadata": {},
   "outputs": [
    {
     "data": {
      "text/html": [
       "<div>\n",
       "<style scoped>\n",
       "    .dataframe tbody tr th:only-of-type {\n",
       "        vertical-align: middle;\n",
       "    }\n",
       "\n",
       "    .dataframe tbody tr th {\n",
       "        vertical-align: top;\n",
       "    }\n",
       "\n",
       "    .dataframe thead th {\n",
       "        text-align: right;\n",
       "    }\n",
       "</style>\n",
       "<table border=\"1\" class=\"dataframe\">\n",
       "  <thead>\n",
       "    <tr style=\"text-align: right;\">\n",
       "      <th></th>\n",
       "      <th>replicate</th>\n",
       "      <th>reporter</th>\n",
       "      <th>DOX</th>\n",
       "      <th>DOX-Day</th>\n",
       "      <th>modRNA</th>\n",
       "      <th>well</th>\n",
       "      <th>Output gmean (mCherry)</th>\n",
       "      <th>cond</th>\n",
       "    </tr>\n",
       "  </thead>\n",
       "  <tbody>\n",
       "    <tr>\n",
       "      <th>80</th>\n",
       "      <td>MEF1</td>\n",
       "      <td>380 bp</td>\n",
       "      <td>DOX</td>\n",
       "      <td>14 dpi</td>\n",
       "      <td>Puro-Cre</td>\n",
       "      <td>C10</td>\n",
       "      <td>4935.844056</td>\n",
       "      <td>14 dpi + Cre</td>\n",
       "    </tr>\n",
       "    <tr>\n",
       "      <th>81</th>\n",
       "      <td>MEF1</td>\n",
       "      <td>380 bp</td>\n",
       "      <td>DOX</td>\n",
       "      <td>14 dpi</td>\n",
       "      <td>Puro-Cre</td>\n",
       "      <td>C11</td>\n",
       "      <td>5592.017162</td>\n",
       "      <td>14 dpi + Cre</td>\n",
       "    </tr>\n",
       "    <tr>\n",
       "      <th>82</th>\n",
       "      <td>MEF1</td>\n",
       "      <td>380 bp</td>\n",
       "      <td>DOX</td>\n",
       "      <td>14 dpi</td>\n",
       "      <td>Puro-Cre</td>\n",
       "      <td>C12</td>\n",
       "      <td>5515.132071</td>\n",
       "      <td>14 dpi + Cre</td>\n",
       "    </tr>\n",
       "    <tr>\n",
       "      <th>83</th>\n",
       "      <td>MEF1</td>\n",
       "      <td>380 bp</td>\n",
       "      <td>DOX</td>\n",
       "      <td>14 dpi</td>\n",
       "      <td>Puro-Cre</td>\n",
       "      <td>C9</td>\n",
       "      <td>5875.772977</td>\n",
       "      <td>14 dpi + Cre</td>\n",
       "    </tr>\n",
       "    <tr>\n",
       "      <th>84</th>\n",
       "      <td>MEF1</td>\n",
       "      <td>380 bp</td>\n",
       "      <td>DOX</td>\n",
       "      <td>14 dpi</td>\n",
       "      <td>Puro-Cre</td>\n",
       "      <td>D10</td>\n",
       "      <td>3128.449674</td>\n",
       "      <td>14 dpi + Cre</td>\n",
       "    </tr>\n",
       "    <tr>\n",
       "      <th>...</th>\n",
       "      <td>...</td>\n",
       "      <td>...</td>\n",
       "      <td>...</td>\n",
       "      <td>...</td>\n",
       "      <td>...</td>\n",
       "      <td>...</td>\n",
       "      <td>...</td>\n",
       "      <td>...</td>\n",
       "    </tr>\n",
       "    <tr>\n",
       "      <th>859</th>\n",
       "      <td>MEF3</td>\n",
       "      <td>loxP control</td>\n",
       "      <td>NO DOX</td>\n",
       "      <td>None</td>\n",
       "      <td>None</td>\n",
       "      <td>G2</td>\n",
       "      <td>287.592727</td>\n",
       "      <td>None</td>\n",
       "    </tr>\n",
       "    <tr>\n",
       "      <th>860</th>\n",
       "      <td>MEF3</td>\n",
       "      <td>loxP control</td>\n",
       "      <td>NO DOX</td>\n",
       "      <td>None</td>\n",
       "      <td>None</td>\n",
       "      <td>G3</td>\n",
       "      <td>254.338292</td>\n",
       "      <td>None</td>\n",
       "    </tr>\n",
       "    <tr>\n",
       "      <th>861</th>\n",
       "      <td>MEF3</td>\n",
       "      <td>loxP control</td>\n",
       "      <td>NO DOX</td>\n",
       "      <td>None</td>\n",
       "      <td>None</td>\n",
       "      <td>H1</td>\n",
       "      <td>268.182376</td>\n",
       "      <td>None</td>\n",
       "    </tr>\n",
       "    <tr>\n",
       "      <th>862</th>\n",
       "      <td>MEF3</td>\n",
       "      <td>loxP control</td>\n",
       "      <td>NO DOX</td>\n",
       "      <td>None</td>\n",
       "      <td>None</td>\n",
       "      <td>H2</td>\n",
       "      <td>294.524991</td>\n",
       "      <td>None</td>\n",
       "    </tr>\n",
       "    <tr>\n",
       "      <th>863</th>\n",
       "      <td>MEF3</td>\n",
       "      <td>loxP control</td>\n",
       "      <td>NO DOX</td>\n",
       "      <td>None</td>\n",
       "      <td>None</td>\n",
       "      <td>H3</td>\n",
       "      <td>302.563307</td>\n",
       "      <td>None</td>\n",
       "    </tr>\n",
       "  </tbody>\n",
       "</table>\n",
       "<p>132 rows × 8 columns</p>\n",
       "</div>"
      ],
      "text/plain": [
       "    replicate      reporter     DOX DOX-Day    modRNA well  \\\n",
       "80       MEF1        380 bp     DOX  14 dpi  Puro-Cre  C10   \n",
       "81       MEF1        380 bp     DOX  14 dpi  Puro-Cre  C11   \n",
       "82       MEF1        380 bp     DOX  14 dpi  Puro-Cre  C12   \n",
       "83       MEF1        380 bp     DOX  14 dpi  Puro-Cre   C9   \n",
       "84       MEF1        380 bp     DOX  14 dpi  Puro-Cre  D10   \n",
       "..        ...           ...     ...     ...       ...  ...   \n",
       "859      MEF3  loxP control  NO DOX    None      None   G2   \n",
       "860      MEF3  loxP control  NO DOX    None      None   G3   \n",
       "861      MEF3  loxP control  NO DOX    None      None   H1   \n",
       "862      MEF3  loxP control  NO DOX    None      None   H2   \n",
       "863      MEF3  loxP control  NO DOX    None      None   H3   \n",
       "\n",
       "     Output gmean (mCherry)          cond  \n",
       "80              4935.844056  14 dpi + Cre  \n",
       "81              5592.017162  14 dpi + Cre  \n",
       "82              5515.132071  14 dpi + Cre  \n",
       "83              5875.772977  14 dpi + Cre  \n",
       "84              3128.449674  14 dpi + Cre  \n",
       "..                      ...           ...  \n",
       "859              287.592727          None  \n",
       "860              254.338292          None  \n",
       "861              268.182376          None  \n",
       "862              294.524991          None  \n",
       "863              302.563307          None  \n",
       "\n",
       "[132 rows x 8 columns]"
      ]
     },
     "execution_count": 73,
     "metadata": {},
     "output_type": "execute_result"
    }
   ],
   "source": [
    "summary_Hb9_replot"
   ]
  },
  {
   "cell_type": "code",
   "execution_count": 74,
   "metadata": {},
   "outputs": [
    {
     "name": "stdout",
     "output_type": "stream",
     "text": [
      "p-value annotation legend:\n",
      "ns: 5.00e-02 < p <= 1.00e+00\n",
      "*: 1.00e-02 < p <= 5.00e-02\n",
      "**: 1.00e-03 < p <= 1.00e-02\n",
      "***: 1.00e-04 < p <= 1.00e-03\n",
      "****: p <= 1.00e-04\n",
      "\n",
      "380 bp_None v.s. 380 bp_14 dpi: t-test independent samples, P_val=4.603e-17 stat=-1.405e+01\n",
      "380 bp_14 dpi v.s. 380 bp_14 dpi + Cre: t-test independent samples, P_val=3.609e-04 stat=-3.852e+00\n"
     ]
    },
    {
     "data": {
      "image/png": "[encoded data removed]",
      "text/plain": [
       "<Figure size 108x180 with 1 Axes>"
      ]
     },
     "metadata": {},
     "output_type": "display_data"
    },
    {
     "name": "stdout",
     "output_type": "stream",
     "text": [
      "p-value annotation legend:\n",
      "ns: 5.00e-02 < p <= 1.00e+00\n",
      "*: 1.00e-02 < p <= 5.00e-02\n",
      "**: 1.00e-03 < p <= 1.00e-02\n",
      "***: 1.00e-04 < p <= 1.00e-03\n",
      "****: p <= 1.00e-04\n",
      "\n",
      "loxP control_None v.s. loxP control_14 dpi: t-test independent samples, P_val=5.554e-18 stat=-1.496e+01\n",
      "loxP control_14 dpi v.s. loxP control_14 dpi + Cre: t-test independent samples, P_val=2.993e-01 stat=-1.050e+00\n"
     ]
    },
    {
     "data": {
      "image/png": "[encoded data removed]",
      "text/plain": [
       "<Figure size 108x180 with 1 Axes>"
      ]
     },
     "metadata": {},
     "output_type": "display_data"
    }
   ],
   "source": [
    "order = ['380 bp', 'loxP control']\n",
    "cond_order = ['None',\n",
    "              '14 dpi','14 dpi + Cre']\n",
    "\n",
    "for rept in order:\n",
    "\n",
    "    slice = summary_Hb9_replot[summary_Hb9_replot['reporter']==rept]\n",
    "\n",
    "    rep_order=[rept]\n",
    "\n",
    "    pairs = [\n",
    "        ((rept,'None'), (rept,'14 dpi')),\n",
    "    ((rept,'14 dpi'), (rept,'14 dpi + Cre'))\n",
    "]\n",
    "        \n",
    "    savetitle = (f'TET-DIAL 14 dpi {rept} Hb9+ mCherry MFI replot')\n",
    "    plottitle = savetitle\n",
    "\n",
    "    SK_dotplot('reporter', 'Output gmean (mCherry)', 'cond', slice,\n",
    "            pairs=pairs, \n",
    "            palette=palette, hue_order=cond_order, pointplot_settings='old',\n",
    "                order=rep_order, save_fig=False,\n",
    "                savetitle=savetitle,figsize=[1.5,2.5],\n",
    "                xlabel='',xticklabels=False,legend=False,plottitle='')"
   ]
  },
  {
   "cell_type": "code",
   "execution_count": 75,
   "metadata": {},
   "outputs": [
    {
     "name": "stdout",
     "output_type": "stream",
     "text": [
      "380 bp:\n",
      "                        Output gmean (mCherry)\n",
      "14 dpi / None                       16.446113\n",
      "14 dpi + Cre / 14 dpi                1.319892\n",
      "\n",
      "loxP control:\n",
      "                        Output gmean (mCherry)\n",
      "14 dpi / None                       25.350928\n",
      "14 dpi + Cre / 14 dpi                1.088303\n"
     ]
    }
   ],
   "source": [
    "reporters = ['380 bp', 'loxP control']\n",
    "columns = ['Output gmean (mCherry)']\n",
    "\n",
    "# Store the results\n",
    "fold_changes_by_reporter = {}\n",
    "\n",
    "for reporter in reporters:\n",
    "    subset = summary_Hb9_replot[summary_Hb9_replot['reporter'] == reporter]\n",
    "    means = subset.groupby('cond')[columns].mean()\n",
    "\n",
    "    fold_changes = {}\n",
    "\n",
    "    for col in columns:\n",
    "        comparisons = []\n",
    "\n",
    "        pairs_to_check = [\n",
    "            ('None', '14 dpi'),\n",
    "            ('14 dpi', '14 dpi + Cre')\n",
    "        ]\n",
    "\n",
    "        for cond_base, cond_cre in pairs_to_check:\n",
    "            if cond_base in means.index and cond_cre in means.index:\n",
    "                base_val = means.loc[cond_base, col]\n",
    "                cre_val = means.loc[cond_cre, col]\n",
    "                if pd.notna(base_val) and base_val != 0:\n",
    "                    fc = cre_val / base_val\n",
    "                else:\n",
    "                    fc = float('inf')\n",
    "                comparisons.append((f'{cond_cre} / {cond_base}', fc))\n",
    "        \n",
    "        fold_changes[col] = pd.Series(dict(comparisons))\n",
    "\n",
    "    fold_changes_by_reporter[reporter] = pd.DataFrame(fold_changes)\n",
    "\n",
    "# View results\n",
    "print(\"380 bp:\\n\", fold_changes_by_reporter['380 bp'])\n",
    "print(\"\\nloxP control:\\n\", fold_changes_by_reporter['loxP control'])"
   ]
  }
 ],
 "metadata": {
  "kernelspec": {
   "display_name": "newenv",
   "language": "python",
   "name": "python3"
  },
  "language_info": {
   "codemirror_mode": {
    "name": "ipython",
    "version": 3
   },
   "file_extension": ".py",
   "mimetype": "text/x-python",
   "name": "python",
   "nbconvert_exporter": "python",
   "pygments_lexer": "ipython3",
   "version": "3.9.1"
  }
 },
 "nbformat": 4,
 "nbformat_minor": 2
}
