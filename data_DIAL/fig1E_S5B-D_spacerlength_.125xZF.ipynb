{
 "cells": [
  {
   "attachments": {},
   "cell_type": "markdown",
   "metadata": {},
   "source": [
    "Description"
   ]
  },
  {
   "cell_type": "code",
   "execution_count": null,
   "metadata": {},
   "outputs": [],
   "source": [
    "# Figure 1, 27 bp, 79 bp, 203 bp, etc. with -/+ ZF43 or ZF37, and -/+ 0.1x Cre \n",
    "# ZF = 0.125*112.5ng/well (0.125x)\n",
    "# Can also be used to draw the same conclusions as Fig 1C and S1D \n",
    "# --> unimodal low/high setpoints and spacer+Cre and control+Cre converge for all spacer lengths"
   ]
  },
  {
   "attachments": {},
   "cell_type": "markdown",
   "metadata": {},
   "source": [
    "# Import Functions and set directories"
   ]
  },
  {
   "cell_type": "code",
   "execution_count": 1,
   "metadata": {},
   "outputs": [],
   "source": [
    "import functions_paper_1\n",
    "import importlib\n",
    "from functions_paper_1 import *\n",
    "exec(open(\"functions_paper_1.py\").read())\n",
    "# Local path to Sharepoint (on your computer, change if you are a different user)\n",
    "#datadir = Path(Path('../datadir_yb.txt').read_text())\n",
    "datadir = Path(Path('../../datadir_srk.txt').read_text())\n",
    "figure_folder = './figs_2024_promoter_editing_paper/fig2/fig2_'"
   ]
  },
  {
   "attachments": {},
   "cell_type": "markdown",
   "metadata": {},
   "source": [
    "# Import Data"
   ]
  },
  {
   "cell_type": "code",
   "execution_count": 2,
   "metadata": {},
   "outputs": [],
   "source": [
    "#20240219flow_exp20240216_p2_YL2bad\n",
    "#20240219flow_exp20240216_p3_YL2bad\n",
    "#20240219flow_exp20240216_p1_YL2bad"
   ]
  },
  {
   "cell_type": "code",
   "execution_count": 3,
   "metadata": {},
   "outputs": [],
   "source": [
    "# Import Data - bioreplicate 1\n",
    "folder = '20240219flow_exp20240216_p2_YL2bad'\n",
    "file_path = datadir/'instruments'/'data'/'attune'/'Sneha'/folder/'export_singlets' #Assign file paths\n",
    "yaml_path = datadir/'instruments'/'data'/'attune'/'Sneha'/folder/'well_metadata_fig2_0.125xZF.yaml' #Assign yaml paths \n",
    "data1 = rd.flow.load_csv_with_metadata(file_path, yaml_path) #Pull data\n",
    "data1['bioreplicate'] = folder "
   ]
  },
  {
   "cell_type": "code",
   "execution_count": 4,
   "metadata": {},
   "outputs": [],
   "source": [
    "# Import Data - bioreplicate 2\n",
    "folder = '20240219flow_exp20240216_p3_YL2bad'\n",
    "file_path = datadir/'instruments'/'data'/'attune'/'Sneha'/folder/'export_singlets' #Assign file paths\n",
    "yaml_path = datadir/'instruments'/'data'/'attune'/'Sneha'/folder/'well_metadata_fig2_0.125xZF.yaml' #Assign yaml paths \n",
    "data2 = rd.flow.load_csv_with_metadata(file_path, yaml_path) #Pull data\n",
    "data2['bioreplicate'] = folder "
   ]
  },
  {
   "cell_type": "code",
   "execution_count": 5,
   "metadata": {},
   "outputs": [],
   "source": [
    "# Import Data - bioreplicate 3\n",
    "folder = '20240219flow_exp20240216_p1_YL2bad'\n",
    "file_path = datadir/'instruments'/'data'/'attune'/'Sneha'/folder/'export_singlets' #Assign file paths\n",
    "yaml_path = datadir/'instruments'/'data'/'attune'/'Sneha'/folder/'well_metadata_fig2_0.125xZF.yaml' #Assign yaml paths \n",
    "data3 = rd.flow.load_csv_with_metadata(file_path, yaml_path) #Pull data\n",
    "data3['bioreplicate'] = folder "
   ]
  },
  {
   "cell_type": "code",
   "execution_count": 6,
   "metadata": {},
   "outputs": [],
   "source": [
    "data1.rename(columns={'mRuby2-A': 'mCherry-A'}, inplace=True)\n",
    "data2.rename(columns={'mRuby2-A': 'mCherry-A'}, inplace=True)\n",
    "data3.rename(columns={'mRuby2-A': 'mCherry-A'}, inplace=True)"
   ]
  },
  {
   "attachments": {},
   "cell_type": "markdown",
   "metadata": {},
   "source": [
    "Concatenate Data and Gate on iRFP670"
   ]
  },
  {
   "cell_type": "code",
   "execution_count": 7,
   "metadata": {},
   "outputs": [],
   "source": [
    "data = pd.concat( [data1, data2, data3], ignore_index=True)"
   ]
  },
  {
   "cell_type": "code",
   "execution_count": 8,
   "metadata": {},
   "outputs": [
    {
     "data": {
      "text/plain": [
       "Index(['Rept', 'ZF', 'Cre', 'well', 'population', 'FSC-A', 'FSC-H', 'FSC-W',\n",
       "       'SSC-A', 'SSC-H', 'SSC-W', 'mGL-A', 'mGL-H', 'mGL-W', 'iRFP670-A',\n",
       "       'iRFP670-H', 'iRFP670-W', 'TagBFP-A', 'TagBFP-H', 'TagBFP-W',\n",
       "       'Janelia Fluor 549-A', 'Janelia Fluor 549-H', 'Janelia Fluor 549-W',\n",
       "       'mCherry-A', 'mRuby2-H', 'mRuby2-W', 'Time', 'bioreplicate'],\n",
       "      dtype='object')"
      ]
     },
     "execution_count": 8,
     "metadata": {},
     "output_type": "execute_result"
    }
   ],
   "source": [
    "data.columns.unique()"
   ]
  },
  {
   "cell_type": "code",
   "execution_count": 9,
   "metadata": {},
   "outputs": [
    {
     "data": {
      "text/plain": [
       "array(['20240219flow_exp20240216_p2_YL2bad',\n",
       "       '20240219flow_exp20240216_p3_YL2bad',\n",
       "       '20240219flow_exp20240216_p1_YL2bad'], dtype=object)"
      ]
     },
     "execution_count": 9,
     "metadata": {},
     "output_type": "execute_result"
    }
   ],
   "source": [
    "data['bioreplicate'].unique()"
   ]
  },
  {
   "cell_type": "code",
   "execution_count": 10,
   "metadata": {},
   "outputs": [],
   "source": [
    "data = data[ data['mCherry-A'] >0]\n",
    "data = data[ data['mGL-A'] >0]\n",
    "data = data[ data['TagBFP-A'] >0]\n",
    "#data = data[ data['Janelia Fluor 549-A'] >0]\n",
    "data = data[ data['iRFP670-A'] >0]\n",
    "data['log10 mGL-A'] = np.log10(data['mGL-A'])"
   ]
  },
  {
   "cell_type": "code",
   "execution_count": 11,
   "metadata": {},
   "outputs": [],
   "source": [
    "iRFP670_gate = 10000 \n",
    "data_iRFP670gated = data[ data['iRFP670-A'] > iRFP670_gate]"
   ]
  },
  {
   "attachments": {},
   "cell_type": "markdown",
   "metadata": {},
   "source": [
    "## New Criteria (Rept, ZF, Cre)"
   ]
  },
  {
   "cell_type": "code",
   "execution_count": 12,
   "metadata": {},
   "outputs": [
    {
     "name": "stderr",
     "output_type": "stream",
     "text": [
      "<ipython-input-12-2a9d96619102>:2: SettingWithCopyWarning: \n",
      "A value is trying to be set on a copy of a slice from a DataFrame.\n",
      "Try using .loc[row_indexer,col_indexer] = value instead\n",
      "\n",
      "See the caveats in the documentation: https://pandas.pydata.org/pandas-docs/stable/user_guide/indexing.html#returning-a-view-versus-a-copy\n",
      "  data_iRFP670gated['Rept.ZF.Cre'] = data_iRFP670gated['Rept'] + '.' +data_iRFP670gated['ZF'] + '.' + data_iRFP670gated['Cre']\n"
     ]
    }
   ],
   "source": [
    "#Combine ZF and Cre Conditions \n",
    "data_iRFP670gated['Rept.ZF.Cre'] = data_iRFP670gated['Rept'] + '.' +data_iRFP670gated['ZF'] + '.' + data_iRFP670gated['Cre']\n",
    "data['Rept.ZF.Cre'] = data['Rept'] + '.' +data['ZF'] + '.' + data['Cre']"
   ]
  },
  {
   "attachments": {},
   "cell_type": "markdown",
   "metadata": {},
   "source": [
    "New Criteria (ZF and Cre), cond_list"
   ]
  },
  {
   "cell_type": "code",
   "execution_count": 13,
   "metadata": {},
   "outputs": [
    {
     "name": "stderr",
     "output_type": "stream",
     "text": [
      "<ipython-input-13-2d076e67cfc6>:2: SettingWithCopyWarning: \n",
      "A value is trying to be set on a copy of a slice from a DataFrame.\n",
      "Try using .loc[row_indexer,col_indexer] = value instead\n",
      "\n",
      "See the caveats in the documentation: https://pandas.pydata.org/pandas-docs/stable/user_guide/indexing.html#returning-a-view-versus-a-copy\n",
      "  data_iRFP670gated['cond'] = data_iRFP670gated['ZF'] + '. ' + data_iRFP670gated['Cre']\n"
     ]
    }
   ],
   "source": [
    "#Combine ZF and Cre Conditions \n",
    "data_iRFP670gated['cond'] = data_iRFP670gated['ZF'] + '. ' + data_iRFP670gated['Cre']\n",
    "data['cond'] = data['ZF'] + '. ' + data['Cre']"
   ]
  },
  {
   "cell_type": "code",
   "execution_count": 14,
   "metadata": {},
   "outputs": [
    {
     "data": {
      "text/plain": [
       "array(['ZF37. Cre', 'ZF43. noCre', 'ZF43. Cre', 'ZF37. noCre',\n",
       "       'none. none'], dtype=object)"
      ]
     },
     "metadata": {},
     "output_type": "display_data"
    }
   ],
   "source": [
    "# Make a list of all the cond. This will be used for the order later on \n",
    "cond_list = pd.unique( data_iRFP670gated['cond'])\n",
    "display(cond_list)\n",
    "\n",
    "cond_list_nounstained = pd.array([\n",
    "    #'noZF. noCre', 'noZF. Cre',\n",
    "    'ZF43. noCre', 'ZF43. Cre',\n",
    "       'ZF37. noCre','ZF37. Cre' ] )\n",
    "\n",
    "cond_list_ZF43 = pd.array([ 'ZF43. noCre', 'ZF43. Cre'] )\n",
    "cond_list_ZF37 = pd.array([ 'ZF37. noCre', 'ZF37. Cre'] )"
   ]
  },
  {
   "attachments": {},
   "cell_type": "markdown",
   "metadata": {},
   "source": [
    "New Criteria Bioreplicate + reporter"
   ]
  },
  {
   "cell_type": "code",
   "execution_count": 15,
   "metadata": {},
   "outputs": [
    {
     "name": "stderr",
     "output_type": "stream",
     "text": [
      "<ipython-input-15-3b8fbd920392>:2: SettingWithCopyWarning: \n",
      "A value is trying to be set on a copy of a slice from a DataFrame.\n",
      "Try using .loc[row_indexer,col_indexer] = value instead\n",
      "\n",
      "See the caveats in the documentation: https://pandas.pydata.org/pandas-docs/stable/user_guide/indexing.html#returning-a-view-versus-a-copy\n",
      "  data_iRFP670gated['bioreplicate_cond_rept'] = data_iRFP670gated['bioreplicate'] + '. ' + data_iRFP670gated['Rept'] + '. ' + data_iRFP670gated['ZF'] + '. ' + data_iRFP670gated['Cre']\n"
     ]
    }
   ],
   "source": [
    "#Combine bioreplicate, ZF and Cre Conditions \n",
    "data_iRFP670gated['bioreplicate_cond_rept'] = data_iRFP670gated['bioreplicate'] + '. ' + data_iRFP670gated['Rept'] + '. ' + data_iRFP670gated['ZF'] + '. ' + data_iRFP670gated['Cre']\n",
    "data['bioreplicate_cond_rept'] = data['bioreplicate'] + '. ' + data['Rept'] + '. ' + data['ZF'] + '. ' + data['Cre']"
   ]
  },
  {
   "attachments": {},
   "cell_type": "markdown",
   "metadata": {},
   "source": [
    "---------------"
   ]
  },
  {
   "cell_type": "code",
   "execution_count": 16,
   "metadata": {},
   "outputs": [
    {
     "data": {
      "text/plain": [
       "array(['20240219flow_exp20240216_p2_YL2bad. loxPcontrol. ZF37. Cre',\n",
       "       '20240219flow_exp20240216_p2_YL2bad. loxPcontrol. ZF43. noCre',\n",
       "       '20240219flow_exp20240216_p2_YL2bad. loxPcontrol. ZF43. Cre',\n",
       "       '20240219flow_exp20240216_p2_YL2bad. loxPcontrol. ZF37. noCre',\n",
       "       '20240219flow_exp20240216_p2_YL2bad. 27bp. ZF37. Cre',\n",
       "       '20240219flow_exp20240216_p2_YL2bad. 27bp. ZF43. noCre',\n",
       "       '20240219flow_exp20240216_p2_YL2bad. 27bp. ZF43. Cre',\n",
       "       '20240219flow_exp20240216_p2_YL2bad. 27bp. ZF37. noCre',\n",
       "       '20240219flow_exp20240216_p2_YL2bad. 79bp. ZF37. Cre',\n",
       "       '20240219flow_exp20240216_p2_YL2bad. 79bp. ZF43. noCre',\n",
       "       '20240219flow_exp20240216_p2_YL2bad. 79bp. ZF43. Cre',\n",
       "       '20240219flow_exp20240216_p2_YL2bad. 79bp. ZF37. noCre',\n",
       "       '20240219flow_exp20240216_p2_YL2bad. 155bp. ZF37. Cre',\n",
       "       '20240219flow_exp20240216_p2_YL2bad. 155bp. ZF43. noCre',\n",
       "       '20240219flow_exp20240216_p2_YL2bad. 155bp. ZF43. Cre',\n",
       "       '20240219flow_exp20240216_p2_YL2bad. 155bp. ZF37. noCre',\n",
       "       '20240219flow_exp20240216_p2_YL2bad. 203bp. ZF37. Cre',\n",
       "       '20240219flow_exp20240216_p2_YL2bad. 203bp. ZF43. noCre',\n",
       "       '20240219flow_exp20240216_p2_YL2bad. 203bp. ZF43. Cre',\n",
       "       '20240219flow_exp20240216_p2_YL2bad. 203bp. ZF37. noCre',\n",
       "       '20240219flow_exp20240216_p2_YL2bad. 263bp. ZF37. Cre',\n",
       "       '20240219flow_exp20240216_p2_YL2bad. 263bp. ZF43. noCre',\n",
       "       '20240219flow_exp20240216_p2_YL2bad. 263bp. ZF43. Cre',\n",
       "       '20240219flow_exp20240216_p2_YL2bad. 263bp. ZF37. noCre',\n",
       "       '20240219flow_exp20240216_p3_YL2bad. loxPcontrol. ZF37. Cre',\n",
       "       '20240219flow_exp20240216_p3_YL2bad. loxPcontrol. ZF43. noCre',\n",
       "       '20240219flow_exp20240216_p3_YL2bad. loxPcontrol. ZF43. Cre',\n",
       "       '20240219flow_exp20240216_p3_YL2bad. loxPcontrol. ZF37. noCre',\n",
       "       '20240219flow_exp20240216_p3_YL2bad. 27bp. ZF37. Cre',\n",
       "       '20240219flow_exp20240216_p3_YL2bad. 27bp. ZF43. noCre',\n",
       "       '20240219flow_exp20240216_p3_YL2bad. 27bp. ZF43. Cre',\n",
       "       '20240219flow_exp20240216_p3_YL2bad. 27bp. ZF37. noCre',\n",
       "       '20240219flow_exp20240216_p3_YL2bad. 79bp. ZF37. Cre',\n",
       "       '20240219flow_exp20240216_p3_YL2bad. 79bp. ZF43. noCre',\n",
       "       '20240219flow_exp20240216_p3_YL2bad. 79bp. ZF43. Cre',\n",
       "       '20240219flow_exp20240216_p3_YL2bad. 79bp. ZF37. noCre',\n",
       "       '20240219flow_exp20240216_p3_YL2bad. 155bp. ZF37. Cre',\n",
       "       '20240219flow_exp20240216_p3_YL2bad. 155bp. ZF43. noCre',\n",
       "       '20240219flow_exp20240216_p3_YL2bad. 155bp. ZF43. Cre',\n",
       "       '20240219flow_exp20240216_p3_YL2bad. 155bp. ZF37. noCre',\n",
       "       '20240219flow_exp20240216_p3_YL2bad. 203bp. ZF37. Cre',\n",
       "       '20240219flow_exp20240216_p3_YL2bad. 203bp. ZF43. noCre',\n",
       "       '20240219flow_exp20240216_p3_YL2bad. 203bp. ZF43. Cre',\n",
       "       '20240219flow_exp20240216_p3_YL2bad. 203bp. ZF37. noCre',\n",
       "       '20240219flow_exp20240216_p3_YL2bad. 263bp. ZF37. Cre',\n",
       "       '20240219flow_exp20240216_p3_YL2bad. 263bp. ZF43. noCre',\n",
       "       '20240219flow_exp20240216_p3_YL2bad. 263bp. ZF43. Cre',\n",
       "       '20240219flow_exp20240216_p3_YL2bad. 263bp. ZF37. noCre',\n",
       "       '20240219flow_exp20240216_p3_YL2bad. none. none. none',\n",
       "       '20240219flow_exp20240216_p1_YL2bad. loxPcontrol. ZF37. Cre',\n",
       "       '20240219flow_exp20240216_p1_YL2bad. loxPcontrol. ZF43. noCre',\n",
       "       '20240219flow_exp20240216_p1_YL2bad. loxPcontrol. ZF43. Cre',\n",
       "       '20240219flow_exp20240216_p1_YL2bad. loxPcontrol. ZF37. noCre',\n",
       "       '20240219flow_exp20240216_p1_YL2bad. 27bp. ZF37. Cre',\n",
       "       '20240219flow_exp20240216_p1_YL2bad. 27bp. ZF43. noCre',\n",
       "       '20240219flow_exp20240216_p1_YL2bad. 27bp. ZF43. Cre',\n",
       "       '20240219flow_exp20240216_p1_YL2bad. 27bp. ZF37. noCre',\n",
       "       '20240219flow_exp20240216_p1_YL2bad. 79bp. ZF37. Cre',\n",
       "       '20240219flow_exp20240216_p1_YL2bad. 79bp. ZF43. noCre',\n",
       "       '20240219flow_exp20240216_p1_YL2bad. 79bp. ZF43. Cre',\n",
       "       '20240219flow_exp20240216_p1_YL2bad. 79bp. ZF37. noCre',\n",
       "       '20240219flow_exp20240216_p1_YL2bad. 155bp. ZF37. Cre',\n",
       "       '20240219flow_exp20240216_p1_YL2bad. 155bp. ZF43. noCre',\n",
       "       '20240219flow_exp20240216_p1_YL2bad. 155bp. ZF43. Cre',\n",
       "       '20240219flow_exp20240216_p1_YL2bad. 155bp. ZF37. noCre',\n",
       "       '20240219flow_exp20240216_p1_YL2bad. 203bp. ZF37. Cre',\n",
       "       '20240219flow_exp20240216_p1_YL2bad. 203bp. ZF43. noCre',\n",
       "       '20240219flow_exp20240216_p1_YL2bad. 203bp. ZF43. Cre',\n",
       "       '20240219flow_exp20240216_p1_YL2bad. 203bp. ZF37. noCre',\n",
       "       '20240219flow_exp20240216_p1_YL2bad. 263bp. ZF37. Cre',\n",
       "       '20240219flow_exp20240216_p1_YL2bad. 263bp. ZF43. noCre',\n",
       "       '20240219flow_exp20240216_p1_YL2bad. 263bp. ZF43. Cre',\n",
       "       '20240219flow_exp20240216_p1_YL2bad. 263bp. ZF37. noCre'],\n",
       "      dtype=object)"
      ]
     },
     "metadata": {},
     "output_type": "display_data"
    }
   ],
   "source": [
    "conditions = pd.unique(data_iRFP670gated.bioreplicate_cond_rept)\n",
    "display(conditions)"
   ]
  },
  {
   "cell_type": "markdown",
   "metadata": {},
   "source": [
    "supp gating figures"
   ]
  },
  {
   "cell_type": "code",
   "execution_count": 17,
   "metadata": {},
   "outputs": [
    {
     "name": "stdout",
     "output_type": "stream",
     "text": [
      "10000\n"
     ]
    },
    {
     "data": {
      "image/png": "[encoded data removed]",
      "text/plain": [
       "<Figure size 432x432 with 3 Axes>"
      ]
     },
     "metadata": {
      "needs_background": "light"
     },
     "output_type": "display_data"
    }
   ],
   "source": [
    "# figure S1-2 figures\n",
    "\n",
    "#set the hue, hue_order, palette \n",
    "hue = 'Rept.ZF.Cre'; palette = 'bright'\n",
    "\n",
    "order_repts = {\n",
    "     #'203bp.noZF.noCre': 'grey', \n",
    "    # '203bp.noZF.Cre': 'black', \n",
    "    '203bp.ZF37.noCre': '#C3DB9A',                                                \n",
    "#      '203bp.ZF37.Cre': '#69B645',\n",
    "    # 'loxP control.ZF37.noCre': '#C3DB9A',\n",
    "    # 'loxP control.ZF37.Cre': '#69B645',\n",
    "    # '203bp.ZF43.noCre': '#C3DB9A', \n",
    "    # '203bp.ZF43.Cre': '#69B645',\n",
    "    # 'loxP control.ZF43.noCre': '#C3DB9A',\n",
    "    # 'loxP control.ZF43.Cre': '#69B645',\n",
    "    #'none.none.none': 'black'\n",
    "                         }\n",
    "\n",
    "hue_order = order_repts; palette=order_repts\n",
    "\n",
    "data_now = data_iRFP670gated[data_iRFP670gated['Rept.ZF.Cre']=='203bp.ZF37.noCre']\n",
    "\n",
    "plottitle = '203bp mCherry v mGL ZF37 post gate'\n",
    "g = custom_density_plot(xcat='mGL-A',ycat='mCherry-A', hue=hue, data=data_now, points = 10000, hue_order =hue_order, \n",
    "                        plottitle=plottitle, legend=False,\n",
    "                        palette=palette, alpha=0, type = ['contour'])\n",
    "g.savefig(figure_folder+ plottitle + '.svg',dpi=300,bbox_inches='tight')\n",
    "\n",
    "\n",
    "# order_repts = {\n",
    "#      '203bp.noZF.noCre': 'grey', \n",
    "#     '203bp.noZF.Cre': 'black', \n",
    "#     #'203bp.ZF37.noCre': '#C3DB9A',                                                \n",
    "#     # '203bp.ZF37.Cre': '#69B645',\n",
    "#     # 'loxP control.ZF37.noCre': '#C3DB9A',\n",
    "#     # 'loxP control.ZF37.Cre': '#69B645',\n",
    "#     #'203bp.ZF43.noCre': '#C3DB9A', \n",
    "#     # '203bp.ZF43.Cre': '#69B645',\n",
    "#     # 'loxP control.ZF43.noCre': '#C3DB9A',\n",
    "#     # 'loxP control.ZF43.Cre': '#69B645',\n",
    "#     #'none.none.none': 'black'\n",
    "#                          }\n",
    "\n",
    "# hue_order = order_repts; palette=order_repts\n",
    "\n",
    "# plottitle = '203bp tagbfp v mGL noZF'\n",
    "# g = custom_density_plot(xcat='mGL-A',ycat='TagBFP-A', hue=hue, data=data_now, points = 10000, hue_order =hue_order, \n",
    "#                         plottitle=plottitle, legend=False,\n",
    "#                         palette=palette, alpha=0, type = ['contour'])\n",
    "# g.savefig(figure_folder+ plottitle + '.svg',dpi=300,bbox_inches='tight')"
   ]
  },
  {
   "attachments": {},
   "cell_type": "markdown",
   "metadata": {},
   "source": [
    "# Joint Plot"
   ]
  },
  {
   "cell_type": "code",
   "execution_count": null,
   "metadata": {},
   "outputs": [],
   "source": [
    "# tagBFP vs. mGL\n",
    "plot_name = ' tagBFP v mGL'\n",
    "\n",
    "#set the hue, hue_order, palette \n",
    "hue = 'bioreplicate_cond_rept' #########biorep, cre\n",
    "palette = 'bright'; hue_order = None\n",
    "\n",
    "cond_list_now = cond_list_ZF43\n",
    "#cond_list_now = pd.array( ['ZF37. Cre']) #used for troubleshooting trying to get all replicates \n",
    "\n",
    "#Interate through the different conditions \n",
    "for cond in cond_list_now: \n",
    "    data_now = data_iRFP670gated[ data_iRFP670gated['cond']== cond]\n",
    "    #data_now = data_now[data_now['bioreplicate'] == '20240120flow_exp20240117_p1'] #used for troubleshooting trying to get all replicates \n",
    "    #display(data_now)\n",
    "    plottitle = cond + plot_name\n",
    "    g = custom_density_plot(xcat='mGL-A',ycat='TagBFP-A', hue=hue, data=data_now, points = 10000, hue_order =hue_order, \n",
    "                            plottitle=plottitle, \n",
    "                            palette=palette, alpha=0, type = ['contour'], legend=False)\n",
    "    #g.savefig(figure_folder+ plottitle + '.svg',dpi=300,bbox_inches='tight')\n",
    "\n"
   ]
  },
  {
   "cell_type": "code",
   "execution_count": null,
   "metadata": {},
   "outputs": [],
   "source": [
    "data_iRFP670gated.columns.unique()"
   ]
  },
  {
   "cell_type": "code",
   "execution_count": null,
   "metadata": {},
   "outputs": [],
   "source": [
    "# mRuby2 vs. mGL\n",
    "plot_name = ' mRuby2 v mGL'\n",
    "\n",
    "#set the hue, hue_order, palette \n",
    "hue = 'bioreplicate_cond_rept'; palette = 'bright'; hue_order = None\n",
    "\n",
    "cond_list_now = cond_list_ZF37\n",
    "#cond_list_now = pd.array( ['ZF37. Cre']) #used for troubleshooting trying to get all replicates \n",
    "\n",
    "#Interate through the different conditions \n",
    "for cond in cond_list_now: \n",
    "    data_now = data_iRFP670gated[ data_iRFP670gated['cond']== cond]\n",
    "    #data_now = data_now[data_now['bioreplicate'] == '20240120flow_exp20240117_p1'] #used for troubleshooting trying to get all replicates \n",
    "    #display(data_now)\n",
    "    plottitle = cond + plot_name\n",
    "    g = custom_density_plot(xcat='mGL-A',ycat='mCherry-A', hue=hue, data=data_now, points = 10000, hue_order =hue_order, \n",
    "                            plottitle=plottitle, \n",
    "                            palette=palette, alpha=0, type = ['contour'],legend=False)\n",
    "    #g.savefig(figure_folder+ plottitle + '.svg',dpi=300,bbox_inches='tight')\n",
    "\n"
   ]
  },
  {
   "attachments": {},
   "cell_type": "markdown",
   "metadata": {},
   "source": [
    "# Summary plots"
   ]
  },
  {
   "cell_type": "code",
   "execution_count": 18,
   "metadata": {},
   "outputs": [
    {
     "data": {
      "text/plain": [
       "array(['ZF37. Cre', 'ZF43. noCre', 'ZF43. Cre', 'ZF37. noCre',\n",
       "       'none. none'], dtype=object)"
      ]
     },
     "metadata": {},
     "output_type": "display_data"
    }
   ],
   "source": [
    "display(cond_list)"
   ]
  },
  {
   "cell_type": "code",
   "execution_count": 19,
   "metadata": {},
   "outputs": [],
   "source": [
    "palette = {\n",
    "           'noZF. noCre': 'grey',\n",
    "           'noZF. Cre': 'black',\n",
    "           'ZF43. noCre': 'deepskyblue',\n",
    "           'ZF43. Cre': 'blue',\n",
    "           'ZF37. noCre': 'darksalmon',\n",
    "           'ZF37. Cre': 'red'\n",
    "}\n",
    "\n",
    "hue_order = pd.array([\n",
    "                      'noZF. noCre',\n",
    "                      'noZF. Cre',\n",
    "                      'ZF43. noCre',\n",
    "                      'ZF43. Cre',\n",
    "                      'ZF37. noCre',\n",
    "                      'ZF37. Cre'\n",
    "])"
   ]
  },
  {
   "cell_type": "markdown",
   "metadata": {},
   "source": [
    "## Summary Stats"
   ]
  },
  {
   "cell_type": "code",
   "execution_count": 20,
   "metadata": {},
   "outputs": [],
   "source": [
    "df = data_iRFP670gated\n",
    "\n",
    "# only 3 reps on same day\n",
    "#df = data_iRFP670gated[data_iRFP670gated['bioreplicate'] != '20240309flow_exp20240306_p3'] #choose dataframe\n",
    "\n",
    "#Decide how to group. The last parameter will be the condition that it is group by by last ('well' or 'bioreplicate')\n",
    "by = ['Rept', 'ZF', 'Cre','cond','bioreplicate_cond_rept','bioreplicate'] #how to filter results, columns \n",
    "\n",
    "\n",
    "x = ['mGL-A', 'TagBFP-A', 'mCherry-A'] #which parameter to calculate results on\n",
    "stat = [sp.stats.gmean, np.median, np.std, np.mean] #statistics to calculate\n",
    "s_bioreplicate = calc_stats(df,by,x,stat) #calculate statistics \n",
    "#display(s_bioreplicate) #display results, use for troublshooting"
   ]
  },
  {
   "cell_type": "markdown",
   "metadata": {},
   "source": [
    "## Plot summary Plots"
   ]
  },
  {
   "cell_type": "code",
   "execution_count": 21,
   "metadata": {},
   "outputs": [
    {
     "name": "stdout",
     "output_type": "stream",
     "text": [
      "p-value annotation legend:\n",
      "ns: 5.00e-02 < p <= 1.00e+00\n",
      "*: 1.00e-02 < p <= 5.00e-02\n",
      "**: 1.00e-03 < p <= 1.00e-02\n",
      "***: 1.00e-04 < p <= 1.00e-03\n",
      "****: p <= 1.00e-04\n",
      "\n",
      "203bp_ZF43. noCre v.s. 203bp_ZF43. Cre: t-test independent samples, P_val=1.490e-04 stat=-1.405e+01\n",
      "263bp_ZF43. noCre v.s. 263bp_ZF43. Cre: t-test independent samples, P_val=3.662e-04 stat=-1.117e+01\n",
      "203bp_ZF37. noCre v.s. 203bp_ZF37. Cre: t-test independent samples, P_val=3.711e-04 stat=-1.113e+01\n",
      "263bp_ZF37. noCre v.s. 263bp_ZF37. Cre: t-test independent samples, P_val=1.317e-04 stat=-1.449e+01\n",
      "155bp_ZF43. noCre v.s. 155bp_ZF43. Cre: t-test independent samples, P_val=1.067e-03 stat=-8.466e+00\n",
      "79bp_ZF37. noCre v.s. 79bp_ZF37. Cre: t-test independent samples, P_val=2.520e-02 stat=-3.486e+00\n",
      "27bp_ZF37. noCre v.s. 27bp_ZF37. Cre: t-test independent samples, P_val=5.949e-02 stat=-2.609e+00\n",
      "155bp_ZF37. noCre v.s. 155bp_ZF37. Cre: t-test independent samples, P_val=1.036e-03 stat=-8.532e+00\n",
      "loxPcontrol_ZF37. noCre v.s. loxPcontrol_ZF37. Cre: t-test independent samples, P_val=7.555e-02 stat=2.385e+00\n",
      "loxPcontrol_ZF43. noCre v.s. loxPcontrol_ZF43. Cre: t-test independent samples, P_val=1.287e-02 stat=4.277e+00\n",
      "79bp_ZF43. noCre v.s. 79bp_ZF43. Cre: t-test independent samples, P_val=2.867e-02 stat=-3.346e+00\n",
      "27bp_ZF43. noCre v.s. 27bp_ZF43. Cre: t-test independent samples, P_val=7.146e-02 stat=-2.437e+00\n",
      "loxPcontrol_ZF43. Cre v.s. 27bp_ZF43. Cre: t-test independent samples, P_val=2.067e-01 stat=-1.505e+00\n",
      "loxPcontrol_ZF37. Cre v.s. 27bp_ZF37. Cre: t-test independent samples, P_val=4.221e-01 stat=-8.934e-01\n",
      "loxPcontrol_ZF43. Cre v.s. 79bp_ZF43. Cre: t-test independent samples, P_val=2.691e-02 stat=-3.415e+00\n",
      "loxPcontrol_ZF37. Cre v.s. 79bp_ZF37. Cre: t-test independent samples, P_val=6.133e-02 stat=-2.580e+00\n",
      "loxPcontrol_ZF43. Cre v.s. 155bp_ZF43. Cre: t-test independent samples, P_val=6.461e-01 stat=-4.958e-01\n",
      "loxPcontrol_ZF37. Cre v.s. 155bp_ZF37. Cre: t-test independent samples, P_val=9.837e-01 stat=-2.173e-02\n",
      "loxPcontrol_ZF43. Cre v.s. 203bp_ZF43. Cre: t-test independent samples, P_val=3.327e-01 stat=1.101e+00\n",
      "loxPcontrol_ZF37. Cre v.s. 203bp_ZF37. Cre: t-test independent samples, P_val=1.526e-01 stat=1.763e+00\n",
      "loxPcontrol_ZF43. Cre v.s. 263bp_ZF43. Cre: t-test independent samples, P_val=9.669e-01 stat=4.415e-02\n",
      "loxPcontrol_ZF37. Cre v.s. 263bp_ZF37. Cre: t-test independent samples, P_val=3.212e-01 stat=1.131e+00\n"
     ]
    },
    {
     "data": {
      "image/png": "[encoded data removed]",
      "text/plain": [
       "<Figure size 432x288 with 1 Axes>"
      ]
     },
     "metadata": {
      "needs_background": "light"
     },
     "output_type": "display_data"
    },
    {
     "name": "stdout",
     "output_type": "stream",
     "text": [
      "p-value annotation legend:\n",
      "ns: 5.00e-02 < p <= 1.00e+00\n",
      "*: 1.00e-02 < p <= 5.00e-02\n",
      "**: 1.00e-03 < p <= 1.00e-02\n",
      "***: 1.00e-04 < p <= 1.00e-03\n",
      "****: p <= 1.00e-04\n",
      "\n",
      "203bp_ZF43. noCre v.s. 203bp_ZF43. Cre: t-test independent samples, P_val=1.372e-01 stat=-1.855e+00\n",
      "263bp_ZF43. noCre v.s. 263bp_ZF43. Cre: t-test independent samples, P_val=8.008e-01 stat=2.697e-01\n",
      "203bp_ZF37. noCre v.s. 203bp_ZF37. Cre: t-test independent samples, P_val=7.136e-03 stat=5.069e+00\n",
      "263bp_ZF37. noCre v.s. 263bp_ZF37. Cre: t-test independent samples, P_val=3.136e-02 stat=3.250e+00\n",
      "155bp_ZF43. noCre v.s. 155bp_ZF43. Cre: t-test independent samples, P_val=8.238e-01 stat=-2.377e-01\n",
      "79bp_ZF37. noCre v.s. 79bp_ZF37. Cre: t-test independent samples, P_val=3.788e-03 stat=6.040e+00\n",
      "27bp_ZF37. noCre v.s. 27bp_ZF37. Cre: t-test independent samples, P_val=4.755e-02 stat=2.826e+00\n",
      "155bp_ZF37. noCre v.s. 155bp_ZF37. Cre: t-test independent samples, P_val=8.917e-03 stat=4.758e+00\n",
      "loxPcontrol_ZF37. noCre v.s. loxPcontrol_ZF37. Cre: t-test independent samples, P_val=9.253e-03 stat=-4.708e+00\n",
      "loxPcontrol_ZF43. noCre v.s. loxPcontrol_ZF43. Cre: t-test independent samples, P_val=1.324e-01 stat=1.886e+00\n",
      "79bp_ZF43. noCre v.s. 79bp_ZF43. Cre: t-test independent samples, P_val=4.841e-01 stat=-7.703e-01\n",
      "27bp_ZF43. noCre v.s. 27bp_ZF43. Cre: t-test independent samples, P_val=7.964e-01 stat=-2.757e-01\n",
      "loxPcontrol_ZF43. Cre v.s. 27bp_ZF43. Cre: t-test independent samples, P_val=2.161e-01 stat=-1.468e+00\n",
      "loxPcontrol_ZF37. Cre v.s. 27bp_ZF37. Cre: t-test independent samples, P_val=1.555e-01 stat=1.748e+00\n",
      "loxPcontrol_ZF43. Cre v.s. 79bp_ZF43. Cre: t-test independent samples, P_val=6.677e-03 stat=-5.165e+00\n",
      "loxPcontrol_ZF37. Cre v.s. 79bp_ZF37. Cre: t-test independent samples, P_val=4.071e-02 stat=2.981e+00\n",
      "loxPcontrol_ZF43. Cre v.s. 155bp_ZF43. Cre: t-test independent samples, P_val=5.584e-02 stat=-2.669e+00\n",
      "loxPcontrol_ZF37. Cre v.s. 155bp_ZF37. Cre: t-test independent samples, P_val=1.453e-01 stat=1.805e+00\n",
      "loxPcontrol_ZF43. Cre v.s. 203bp_ZF43. Cre: t-test independent samples, P_val=2.166e-02 stat=-3.656e+00\n",
      "loxPcontrol_ZF37. Cre v.s. 203bp_ZF37. Cre: t-test independent samples, P_val=3.540e-01 stat=1.047e+00\n",
      "loxPcontrol_ZF43. Cre v.s. 263bp_ZF43. Cre: t-test independent samples, P_val=1.580e-02 stat=-4.025e+00\n",
      "loxPcontrol_ZF37. Cre v.s. 263bp_ZF37. Cre: t-test independent samples, P_val=9.929e-01 stat=-9.524e-03\n"
     ]
    },
    {
     "data": {
      "image/png": "[encoded data removed]",
      "text/plain": [
       "<Figure size 432x288 with 1 Axes>"
      ]
     },
     "metadata": {
      "needs_background": "light"
     },
     "output_type": "display_data"
    },
    {
     "name": "stdout",
     "output_type": "stream",
     "text": [
      "p-value annotation legend:\n",
      "ns: 5.00e-02 < p <= 1.00e+00\n",
      "*: 1.00e-02 < p <= 5.00e-02\n",
      "**: 1.00e-03 < p <= 1.00e-02\n",
      "***: 1.00e-04 < p <= 1.00e-03\n",
      "****: p <= 1.00e-04\n",
      "\n",
      "203bp_ZF43. noCre v.s. 203bp_ZF43. Cre: t-test independent samples, P_val=5.479e-01 stat=-6.555e-01\n",
      "263bp_ZF43. noCre v.s. 263bp_ZF43. Cre: t-test independent samples, P_val=6.797e-01 stat=-4.445e-01\n",
      "203bp_ZF37. noCre v.s. 203bp_ZF37. Cre: t-test independent samples, P_val=6.840e-01 stat=-4.380e-01\n",
      "263bp_ZF37. noCre v.s. 263bp_ZF37. Cre: t-test independent samples, P_val=8.326e-01 stat=2.255e-01\n",
      "155bp_ZF43. noCre v.s. 155bp_ZF43. Cre: t-test independent samples, P_val=3.425e-02 stat=-3.158e+00\n",
      "79bp_ZF37. noCre v.s. 79bp_ZF37. Cre: t-test independent samples, P_val=2.438e-01 stat=-1.366e+00\n",
      "27bp_ZF37. noCre v.s. 27bp_ZF37. Cre: t-test independent samples, P_val=9.458e-01 stat=-7.234e-02\n",
      "155bp_ZF37. noCre v.s. 155bp_ZF37. Cre: t-test independent samples, P_val=2.776e-01 stat=-1.256e+00\n",
      "loxPcontrol_ZF37. noCre v.s. loxPcontrol_ZF37. Cre: t-test independent samples, P_val=8.814e-01 stat=-1.589e-01\n",
      "loxPcontrol_ZF43. noCre v.s. loxPcontrol_ZF43. Cre: t-test independent samples, P_val=9.601e-01 stat=-5.318e-02\n",
      "79bp_ZF43. noCre v.s. 79bp_ZF43. Cre: t-test independent samples, P_val=1.092e-01 stat=-2.054e+00\n",
      "27bp_ZF43. noCre v.s. 27bp_ZF43. Cre: t-test independent samples, P_val=7.367e-01 stat=3.605e-01\n",
      "loxPcontrol_ZF43. Cre v.s. 27bp_ZF43. Cre: t-test independent samples, P_val=5.960e-01 stat=-5.751e-01\n",
      "loxPcontrol_ZF37. Cre v.s. 27bp_ZF37. Cre: t-test independent samples, P_val=9.969e-01 stat=4.092e-03\n",
      "loxPcontrol_ZF43. Cre v.s. 79bp_ZF43. Cre: t-test independent samples, P_val=7.636e-02 stat=-2.375e+00\n",
      "loxPcontrol_ZF37. Cre v.s. 79bp_ZF37. Cre: t-test independent samples, P_val=2.486e-01 stat=-1.349e+00\n",
      "loxPcontrol_ZF43. Cre v.s. 155bp_ZF43. Cre: t-test independent samples, P_val=8.731e-01 stat=-1.702e-01\n",
      "loxPcontrol_ZF37. Cre v.s. 155bp_ZF37. Cre: t-test independent samples, P_val=5.731e-01 stat=-6.128e-01\n",
      "loxPcontrol_ZF43. Cre v.s. 203bp_ZF43. Cre: t-test independent samples, P_val=3.799e-01 stat=9.861e-01\n",
      "loxPcontrol_ZF37. Cre v.s. 203bp_ZF37. Cre: t-test independent samples, P_val=5.335e-01 stat=-6.805e-01\n",
      "loxPcontrol_ZF43. Cre v.s. 263bp_ZF43. Cre: t-test independent samples, P_val=6.712e-01 stat=-4.572e-01\n",
      "loxPcontrol_ZF37. Cre v.s. 263bp_ZF37. Cre: t-test independent samples, P_val=3.058e-01 stat=-1.173e+00\n"
     ]
    },
    {
     "data": {
      "image/png": "[encoded data removed]",
      "text/plain": [
       "<Figure size 432x288 with 1 Axes>"
      ]
     },
     "metadata": {
      "needs_background": "light"
     },
     "output_type": "display_data"
    },
    {
     "data": {
      "text/plain": [
       "<Figure size 432x288 with 0 Axes>"
      ]
     },
     "metadata": {},
     "output_type": "display_data"
    }
   ],
   "source": [
    "#Plot summary plot for the desired statistics\n",
    "\n",
    "#List of stats to plot \n",
    "stats_plot = pd.array( ['mGL-A_gmean', 'TagBFP-A_gmean', 'mCherry-A_gmean'])\n",
    "#set plotting parameters \n",
    "order_repts = pd.array( ['loxPcontrol', '27bp', '79bp', '155bp', '203bp', '263bp'])\n",
    "order = order_repts; palette = palette; hue_order = hue_order; x = 'Rept'; hue='cond'; yscale= 'log'\n",
    "ylim = [1, 1e4]\n",
    "\n",
    "#Only plot some reporters\n",
    "data_now = s_bioreplicate[s_bioreplicate['Rept'].isin(order_repts)]\n",
    "data_now = data_now[data_now['cond'].isin(hue_order)]\n",
    "#display(data_now)\n",
    "\n",
    "#Set p-value significance comparisons \n",
    "pairs = [\n",
    "\n",
    "\n",
    "       [('203bp',  'ZF43. noCre'), ('203bp', 'ZF43. Cre')], # +ZF43, -/+ Cre\n",
    "       [('79bp',  'ZF43. noCre'), ('79bp', 'ZF43. Cre')], # +ZF43, -/+ Cre\n",
    "       [('27bp',  'ZF43. noCre'), ('27bp', 'ZF43. Cre')], # +ZF43, -/+ Cre\n",
    "       [('155bp',  'ZF43. noCre'), ('155bp', 'ZF43. Cre')], # +ZF43, -/+ Cre\n",
    "       [('263bp',  'ZF43. noCre'), ('263bp', 'ZF43. Cre')], # +ZF43, -/+ Cre\n",
    "       [('loxPcontrol',  'ZF43. noCre'), ('loxPcontrol', 'ZF43. Cre')], #compare ZF43 to noZF, +Cre\n",
    "\n",
    "\n",
    "       [('loxPcontrol', 'ZF43. Cre'), ('203bp', 'ZF43. Cre')], # +ZF43 + Cre with loxPcon\n",
    "       [('loxPcontrol', 'ZF43. Cre'), ('79bp', 'ZF43. Cre')], # +ZF43 + Cre with loxPcon\n",
    "       [('loxPcontrol', 'ZF43. Cre'), ('27bp', 'ZF43. Cre')], # +ZF43 + Cre with loxPcon\n",
    "       [('loxPcontrol', 'ZF43. Cre'), ('155bp', 'ZF43. Cre')], # +ZF43 + Cre with loxPcon\n",
    "       [('loxPcontrol', 'ZF43. Cre'), ('263bp', 'ZF43. Cre')],# +ZF43 + Cre with loxPcon\n",
    "\n",
    "\n",
    "\n",
    "       [('203bp',  'ZF37. noCre'), ('203bp', 'ZF37. Cre')], # +ZF37, -/+ Cre\n",
    "       [('79bp',  'ZF37. noCre'), ('79bp', 'ZF37. Cre')], # +ZF37, -/+ Cre\n",
    "       [('27bp',  'ZF37. noCre'), ('27bp', 'ZF37. Cre')], # +ZF37, -/+ Cre\n",
    "       [('155bp',  'ZF37. noCre'), ('155bp', 'ZF37. Cre')], # +ZF37, -/+ Cre\n",
    "       [('263bp',  'ZF37. noCre'), ('263bp', 'ZF37. Cre')], # +ZF37, -/+ Cre\n",
    "       [('loxPcontrol',  'ZF37. noCre'), ('loxPcontrol', 'ZF37. Cre')] ,# +ZF37, -/+ Cre\n",
    "\n",
    "       [('loxPcontrol', 'ZF37. Cre'), ('203bp', 'ZF37. Cre')], # +ZF37 + Cre with loxPcon\n",
    "       [('loxPcontrol', 'ZF37. Cre'), ('79bp', 'ZF37. Cre')], # +ZF37 + Cre with loxPcon\n",
    "       [('loxPcontrol', 'ZF37. Cre'), ('27bp', 'ZF37. Cre')], # +ZF37 + Cre with loxPcon\n",
    "       [('loxPcontrol', 'ZF37. Cre'), ('155bp', 'ZF37. Cre')], # +ZF37 + Cre with loxPcon\n",
    "       [('loxPcontrol', 'ZF37. Cre'), ('263bp', 'ZF37. Cre')], # +ZF37 + Cre with loxPcon\n",
    "\n",
    "      # [('203bp',  'ZF43. noCre'), ('203bp', 'ZF37. noCre')], #compare both ZF noCre\n",
    "       #[('203bp',  'ZF43. Cre'), ('203bp', 'ZF37. Cre')], #compare both ZF Cre\n",
    "]\n",
    "\n",
    "for stat in stats_plot:\n",
    "    y = stat # set the stat to plot\n",
    "    plottitle = y + ' grouped bioreplicate'\n",
    "    plt.yscale(yscale)\n",
    "    g = summary_plot( x=x, y=y, hue=hue, data=data_now, pairs=pairs, ylim=ylim, yscale =yscale,\n",
    "                    x_rot=45, palette = palette, order=order, hue_order=hue_order, plottitle=plottitle, legend=False)\n",
    "    #g.figure.savefig(figure_folder + plottitle + '.svg',dpi=300,bbox_inches='tight')"
   ]
  },
  {
   "attachments": {},
   "cell_type": "markdown",
   "metadata": {},
   "source": [
    "# Summary Stats"
   ]
  },
  {
   "cell_type": "code",
   "execution_count": 26,
   "metadata": {},
   "outputs": [
    {
     "data": {
      "text/html": [
       "<div>\n",
       "<style scoped>\n",
       "    .dataframe tbody tr th:only-of-type {\n",
       "        vertical-align: middle;\n",
       "    }\n",
       "\n",
       "    .dataframe tbody tr th {\n",
       "        vertical-align: top;\n",
       "    }\n",
       "\n",
       "    .dataframe thead th {\n",
       "        text-align: right;\n",
       "    }\n",
       "</style>\n",
       "<table border=\"1\" class=\"dataframe\">\n",
       "  <thead>\n",
       "    <tr style=\"text-align: right;\">\n",
       "      <th></th>\n",
       "      <th>Rept</th>\n",
       "      <th>ZF</th>\n",
       "      <th>Cre</th>\n",
       "      <th>cond</th>\n",
       "      <th>bioreplicate_cond_rept</th>\n",
       "      <th>bioreplicate</th>\n",
       "      <th>mGL-A_gmean</th>\n",
       "      <th>mGL-A_median</th>\n",
       "      <th>mGL-A_std</th>\n",
       "      <th>mGL-A_mean</th>\n",
       "      <th>TagBFP-A_gmean</th>\n",
       "      <th>TagBFP-A_median</th>\n",
       "      <th>TagBFP-A_std</th>\n",
       "      <th>TagBFP-A_mean</th>\n",
       "      <th>mCherry-A_gmean</th>\n",
       "      <th>mCherry-A_median</th>\n",
       "      <th>mCherry-A_std</th>\n",
       "      <th>mCherry-A_mean</th>\n",
       "      <th>Fraction</th>\n",
       "      <th>Count</th>\n",
       "    </tr>\n",
       "  </thead>\n",
       "  <tbody>\n",
       "    <tr>\n",
       "      <th>0</th>\n",
       "      <td>155bp</td>\n",
       "      <td>ZF37</td>\n",
       "      <td>Cre</td>\n",
       "      <td>ZF37. Cre</td>\n",
       "      <td>20240219flow_exp20240216_p1_YL2bad. 155bp. ZF3...</td>\n",
       "      <td>20240219flow_exp20240216_p1_YL2bad</td>\n",
       "      <td>2943.790553</td>\n",
       "      <td>3609.0</td>\n",
       "      <td>20568.984481</td>\n",
       "      <td>10056.733208</td>\n",
       "      <td>31.196049</td>\n",
       "      <td>39.0</td>\n",
       "      <td>37.861023</td>\n",
       "      <td>47.036295</td>\n",
       "      <td>475.106735</td>\n",
       "      <td>530.0</td>\n",
       "      <td>1286.769496</td>\n",
       "      <td>999.810597</td>\n",
       "      <td>1.0</td>\n",
       "      <td>4794</td>\n",
       "    </tr>\n",
       "    <tr>\n",
       "      <th>1</th>\n",
       "      <td>155bp</td>\n",
       "      <td>ZF37</td>\n",
       "      <td>Cre</td>\n",
       "      <td>ZF37. Cre</td>\n",
       "      <td>20240219flow_exp20240216_p2_YL2bad. 155bp. ZF3...</td>\n",
       "      <td>20240219flow_exp20240216_p2_YL2bad</td>\n",
       "      <td>2853.933362</td>\n",
       "      <td>3513.0</td>\n",
       "      <td>20086.256925</td>\n",
       "      <td>9878.442747</td>\n",
       "      <td>32.366605</td>\n",
       "      <td>40.0</td>\n",
       "      <td>40.585726</td>\n",
       "      <td>48.671759</td>\n",
       "      <td>468.514431</td>\n",
       "      <td>505.0</td>\n",
       "      <td>1271.069515</td>\n",
       "      <td>988.322983</td>\n",
       "      <td>1.0</td>\n",
       "      <td>6087</td>\n",
       "    </tr>\n",
       "    <tr>\n",
       "      <th>2</th>\n",
       "      <td>155bp</td>\n",
       "      <td>ZF37</td>\n",
       "      <td>Cre</td>\n",
       "      <td>ZF37. Cre</td>\n",
       "      <td>20240219flow_exp20240216_p3_YL2bad. 155bp. ZF3...</td>\n",
       "      <td>20240219flow_exp20240216_p3_YL2bad</td>\n",
       "      <td>3743.453014</td>\n",
       "      <td>4655.5</td>\n",
       "      <td>21830.007248</td>\n",
       "      <td>12020.011891</td>\n",
       "      <td>32.579292</td>\n",
       "      <td>40.0</td>\n",
       "      <td>37.391420</td>\n",
       "      <td>48.309743</td>\n",
       "      <td>553.906590</td>\n",
       "      <td>646.0</td>\n",
       "      <td>1398.158080</td>\n",
       "      <td>1136.306099</td>\n",
       "      <td>1.0</td>\n",
       "      <td>5214</td>\n",
       "    </tr>\n",
       "    <tr>\n",
       "      <th>3</th>\n",
       "      <td>155bp</td>\n",
       "      <td>ZF37</td>\n",
       "      <td>noCre</td>\n",
       "      <td>ZF37. noCre</td>\n",
       "      <td>20240219flow_exp20240216_p1_YL2bad. 155bp. ZF3...</td>\n",
       "      <td>20240219flow_exp20240216_p1_YL2bad</td>\n",
       "      <td>675.405012</td>\n",
       "      <td>799.5</td>\n",
       "      <td>5182.927715</td>\n",
       "      <td>1978.969431</td>\n",
       "      <td>33.932619</td>\n",
       "      <td>43.0</td>\n",
       "      <td>37.753580</td>\n",
       "      <td>50.216108</td>\n",
       "      <td>398.381704</td>\n",
       "      <td>430.5</td>\n",
       "      <td>1082.796517</td>\n",
       "      <td>821.073764</td>\n",
       "      <td>1.0</td>\n",
       "      <td>7524</td>\n",
       "    </tr>\n",
       "    <tr>\n",
       "      <th>4</th>\n",
       "      <td>155bp</td>\n",
       "      <td>ZF37</td>\n",
       "      <td>noCre</td>\n",
       "      <td>ZF37. noCre</td>\n",
       "      <td>20240219flow_exp20240216_p2_YL2bad. 155bp. ZF3...</td>\n",
       "      <td>20240219flow_exp20240216_p2_YL2bad</td>\n",
       "      <td>745.464802</td>\n",
       "      <td>893.0</td>\n",
       "      <td>7203.962065</td>\n",
       "      <td>2101.202097</td>\n",
       "      <td>34.269599</td>\n",
       "      <td>42.0</td>\n",
       "      <td>39.758145</td>\n",
       "      <td>50.777817</td>\n",
       "      <td>462.679617</td>\n",
       "      <td>519.5</td>\n",
       "      <td>1053.820048</td>\n",
       "      <td>898.140597</td>\n",
       "      <td>1.0</td>\n",
       "      <td>5626</td>\n",
       "    </tr>\n",
       "    <tr>\n",
       "      <th>...</th>\n",
       "      <td>...</td>\n",
       "      <td>...</td>\n",
       "      <td>...</td>\n",
       "      <td>...</td>\n",
       "      <td>...</td>\n",
       "      <td>...</td>\n",
       "      <td>...</td>\n",
       "      <td>...</td>\n",
       "      <td>...</td>\n",
       "      <td>...</td>\n",
       "      <td>...</td>\n",
       "      <td>...</td>\n",
       "      <td>...</td>\n",
       "      <td>...</td>\n",
       "      <td>...</td>\n",
       "      <td>...</td>\n",
       "      <td>...</td>\n",
       "      <td>...</td>\n",
       "      <td>...</td>\n",
       "      <td>...</td>\n",
       "    </tr>\n",
       "    <tr>\n",
       "      <th>68</th>\n",
       "      <td>loxPcontrol</td>\n",
       "      <td>ZF43</td>\n",
       "      <td>Cre</td>\n",
       "      <td>ZF43. Cre</td>\n",
       "      <td>20240219flow_exp20240216_p3_YL2bad. loxPcontro...</td>\n",
       "      <td>20240219flow_exp20240216_p3_YL2bad</td>\n",
       "      <td>1381.519504</td>\n",
       "      <td>1651.0</td>\n",
       "      <td>7782.607912</td>\n",
       "      <td>3855.825570</td>\n",
       "      <td>268.370168</td>\n",
       "      <td>295.0</td>\n",
       "      <td>753.023871</td>\n",
       "      <td>564.745262</td>\n",
       "      <td>42.087727</td>\n",
       "      <td>52.0</td>\n",
       "      <td>39.485261</td>\n",
       "      <td>58.039190</td>\n",
       "      <td>1.0</td>\n",
       "      <td>3113</td>\n",
       "    </tr>\n",
       "    <tr>\n",
       "      <th>69</th>\n",
       "      <td>loxPcontrol</td>\n",
       "      <td>ZF43</td>\n",
       "      <td>noCre</td>\n",
       "      <td>ZF43. noCre</td>\n",
       "      <td>20240219flow_exp20240216_p1_YL2bad. loxPcontro...</td>\n",
       "      <td>20240219flow_exp20240216_p1_YL2bad</td>\n",
       "      <td>4800.982137</td>\n",
       "      <td>6167.0</td>\n",
       "      <td>28654.298374</td>\n",
       "      <td>15022.562104</td>\n",
       "      <td>278.215396</td>\n",
       "      <td>297.0</td>\n",
       "      <td>865.366066</td>\n",
       "      <td>612.208233</td>\n",
       "      <td>41.362898</td>\n",
       "      <td>51.0</td>\n",
       "      <td>38.787811</td>\n",
       "      <td>57.168497</td>\n",
       "      <td>1.0</td>\n",
       "      <td>11199</td>\n",
       "    </tr>\n",
       "    <tr>\n",
       "      <th>70</th>\n",
       "      <td>loxPcontrol</td>\n",
       "      <td>ZF43</td>\n",
       "      <td>noCre</td>\n",
       "      <td>ZF43. noCre</td>\n",
       "      <td>20240219flow_exp20240216_p2_YL2bad. loxPcontro...</td>\n",
       "      <td>20240219flow_exp20240216_p2_YL2bad</td>\n",
       "      <td>3051.001570</td>\n",
       "      <td>3816.0</td>\n",
       "      <td>21399.956263</td>\n",
       "      <td>9984.116833</td>\n",
       "      <td>256.410921</td>\n",
       "      <td>265.0</td>\n",
       "      <td>813.635689</td>\n",
       "      <td>568.407379</td>\n",
       "      <td>41.829006</td>\n",
       "      <td>52.0</td>\n",
       "      <td>38.627187</td>\n",
       "      <td>57.724058</td>\n",
       "      <td>1.0</td>\n",
       "      <td>6505</td>\n",
       "    </tr>\n",
       "    <tr>\n",
       "      <th>71</th>\n",
       "      <td>loxPcontrol</td>\n",
       "      <td>ZF43</td>\n",
       "      <td>noCre</td>\n",
       "      <td>ZF43. noCre</td>\n",
       "      <td>20240219flow_exp20240216_p3_YL2bad. loxPcontro...</td>\n",
       "      <td>20240219flow_exp20240216_p3_YL2bad</td>\n",
       "      <td>3776.669077</td>\n",
       "      <td>4681.0</td>\n",
       "      <td>20282.546423</td>\n",
       "      <td>11523.504981</td>\n",
       "      <td>296.634585</td>\n",
       "      <td>322.0</td>\n",
       "      <td>831.142207</td>\n",
       "      <td>630.070066</td>\n",
       "      <td>43.489162</td>\n",
       "      <td>53.0</td>\n",
       "      <td>42.597420</td>\n",
       "      <td>59.540773</td>\n",
       "      <td>1.0</td>\n",
       "      <td>5923</td>\n",
       "    </tr>\n",
       "    <tr>\n",
       "      <th>72</th>\n",
       "      <td>none</td>\n",
       "      <td>none</td>\n",
       "      <td>none</td>\n",
       "      <td>none. none</td>\n",
       "      <td>20240219flow_exp20240216_p3_YL2bad. none. none...</td>\n",
       "      <td>20240219flow_exp20240216_p3_YL2bad</td>\n",
       "      <td>6154.000000</td>\n",
       "      <td>6154.0</td>\n",
       "      <td>NaN</td>\n",
       "      <td>6154.000000</td>\n",
       "      <td>59.000000</td>\n",
       "      <td>59.0</td>\n",
       "      <td>NaN</td>\n",
       "      <td>59.000000</td>\n",
       "      <td>486.000000</td>\n",
       "      <td>486.0</td>\n",
       "      <td>NaN</td>\n",
       "      <td>486.000000</td>\n",
       "      <td>1.0</td>\n",
       "      <td>1</td>\n",
       "    </tr>\n",
       "  </tbody>\n",
       "</table>\n",
       "<p>73 rows × 20 columns</p>\n",
       "</div>"
      ],
      "text/plain": [
       "           Rept    ZF    Cre         cond  \\\n",
       "0         155bp  ZF37    Cre    ZF37. Cre   \n",
       "1         155bp  ZF37    Cre    ZF37. Cre   \n",
       "2         155bp  ZF37    Cre    ZF37. Cre   \n",
       "3         155bp  ZF37  noCre  ZF37. noCre   \n",
       "4         155bp  ZF37  noCre  ZF37. noCre   \n",
       "..          ...   ...    ...          ...   \n",
       "68  loxPcontrol  ZF43    Cre    ZF43. Cre   \n",
       "69  loxPcontrol  ZF43  noCre  ZF43. noCre   \n",
       "70  loxPcontrol  ZF43  noCre  ZF43. noCre   \n",
       "71  loxPcontrol  ZF43  noCre  ZF43. noCre   \n",
       "72         none  none   none   none. none   \n",
       "\n",
       "                               bioreplicate_cond_rept  \\\n",
       "0   20240219flow_exp20240216_p1_YL2bad. 155bp. ZF3...   \n",
       "1   20240219flow_exp20240216_p2_YL2bad. 155bp. ZF3...   \n",
       "2   20240219flow_exp20240216_p3_YL2bad. 155bp. ZF3...   \n",
       "3   20240219flow_exp20240216_p1_YL2bad. 155bp. ZF3...   \n",
       "4   20240219flow_exp20240216_p2_YL2bad. 155bp. ZF3...   \n",
       "..                                                ...   \n",
       "68  20240219flow_exp20240216_p3_YL2bad. loxPcontro...   \n",
       "69  20240219flow_exp20240216_p1_YL2bad. loxPcontro...   \n",
       "70  20240219flow_exp20240216_p2_YL2bad. loxPcontro...   \n",
       "71  20240219flow_exp20240216_p3_YL2bad. loxPcontro...   \n",
       "72  20240219flow_exp20240216_p3_YL2bad. none. none...   \n",
       "\n",
       "                          bioreplicate  mGL-A_gmean  mGL-A_median  \\\n",
       "0   20240219flow_exp20240216_p1_YL2bad  2943.790553        3609.0   \n",
       "1   20240219flow_exp20240216_p2_YL2bad  2853.933362        3513.0   \n",
       "2   20240219flow_exp20240216_p3_YL2bad  3743.453014        4655.5   \n",
       "3   20240219flow_exp20240216_p1_YL2bad   675.405012         799.5   \n",
       "4   20240219flow_exp20240216_p2_YL2bad   745.464802         893.0   \n",
       "..                                 ...          ...           ...   \n",
       "68  20240219flow_exp20240216_p3_YL2bad  1381.519504        1651.0   \n",
       "69  20240219flow_exp20240216_p1_YL2bad  4800.982137        6167.0   \n",
       "70  20240219flow_exp20240216_p2_YL2bad  3051.001570        3816.0   \n",
       "71  20240219flow_exp20240216_p3_YL2bad  3776.669077        4681.0   \n",
       "72  20240219flow_exp20240216_p3_YL2bad  6154.000000        6154.0   \n",
       "\n",
       "       mGL-A_std    mGL-A_mean  TagBFP-A_gmean  TagBFP-A_median  TagBFP-A_std  \\\n",
       "0   20568.984481  10056.733208       31.196049             39.0     37.861023   \n",
       "1   20086.256925   9878.442747       32.366605             40.0     40.585726   \n",
       "2   21830.007248  12020.011891       32.579292             40.0     37.391420   \n",
       "3    5182.927715   1978.969431       33.932619             43.0     37.753580   \n",
       "4    7203.962065   2101.202097       34.269599             42.0     39.758145   \n",
       "..           ...           ...             ...              ...           ...   \n",
       "68   7782.607912   3855.825570      268.370168            295.0    753.023871   \n",
       "69  28654.298374  15022.562104      278.215396            297.0    865.366066   \n",
       "70  21399.956263   9984.116833      256.410921            265.0    813.635689   \n",
       "71  20282.546423  11523.504981      296.634585            322.0    831.142207   \n",
       "72           NaN   6154.000000       59.000000             59.0           NaN   \n",
       "\n",
       "    TagBFP-A_mean  mCherry-A_gmean  mCherry-A_median  mCherry-A_std  \\\n",
       "0       47.036295       475.106735             530.0    1286.769496   \n",
       "1       48.671759       468.514431             505.0    1271.069515   \n",
       "2       48.309743       553.906590             646.0    1398.158080   \n",
       "3       50.216108       398.381704             430.5    1082.796517   \n",
       "4       50.777817       462.679617             519.5    1053.820048   \n",
       "..            ...              ...               ...            ...   \n",
       "68     564.745262        42.087727              52.0      39.485261   \n",
       "69     612.208233        41.362898              51.0      38.787811   \n",
       "70     568.407379        41.829006              52.0      38.627187   \n",
       "71     630.070066        43.489162              53.0      42.597420   \n",
       "72      59.000000       486.000000             486.0            NaN   \n",
       "\n",
       "    mCherry-A_mean  Fraction  Count  \n",
       "0       999.810597       1.0   4794  \n",
       "1       988.322983       1.0   6087  \n",
       "2      1136.306099       1.0   5214  \n",
       "3       821.073764       1.0   7524  \n",
       "4       898.140597       1.0   5626  \n",
       "..             ...       ...    ...  \n",
       "68       58.039190       1.0   3113  \n",
       "69       57.168497       1.0  11199  \n",
       "70       57.724058       1.0   6505  \n",
       "71       59.540773       1.0   5923  \n",
       "72      486.000000       1.0      1  \n",
       "\n",
       "[73 rows x 20 columns]"
      ]
     },
     "metadata": {},
     "output_type": "display_data"
    },
    {
     "data": {
      "text/html": [
       "<div>\n",
       "<style scoped>\n",
       "    .dataframe tbody tr th:only-of-type {\n",
       "        vertical-align: middle;\n",
       "    }\n",
       "\n",
       "    .dataframe tbody tr th {\n",
       "        vertical-align: top;\n",
       "    }\n",
       "\n",
       "    .dataframe thead th {\n",
       "        text-align: right;\n",
       "    }\n",
       "</style>\n",
       "<table border=\"1\" class=\"dataframe\">\n",
       "  <thead>\n",
       "    <tr style=\"text-align: right;\">\n",
       "      <th></th>\n",
       "      <th>Rept</th>\n",
       "      <th>ZF</th>\n",
       "      <th>Cre</th>\n",
       "      <th>cond</th>\n",
       "      <th>mGL-A_gmean_mean</th>\n",
       "      <th>Fraction</th>\n",
       "      <th>Count</th>\n",
       "    </tr>\n",
       "  </thead>\n",
       "  <tbody>\n",
       "    <tr>\n",
       "      <th>0</th>\n",
       "      <td>155bp</td>\n",
       "      <td>ZF37</td>\n",
       "      <td>Cre</td>\n",
       "      <td>ZF37. Cre</td>\n",
       "      <td>3180.392309</td>\n",
       "      <td>1.0</td>\n",
       "      <td>3</td>\n",
       "    </tr>\n",
       "    <tr>\n",
       "      <th>1</th>\n",
       "      <td>155bp</td>\n",
       "      <td>ZF37</td>\n",
       "      <td>noCre</td>\n",
       "      <td>ZF37. noCre</td>\n",
       "      <td>744.604990</td>\n",
       "      <td>1.0</td>\n",
       "      <td>3</td>\n",
       "    </tr>\n",
       "    <tr>\n",
       "      <th>2</th>\n",
       "      <td>155bp</td>\n",
       "      <td>ZF43</td>\n",
       "      <td>Cre</td>\n",
       "      <td>ZF43. Cre</td>\n",
       "      <td>1622.731075</td>\n",
       "      <td>1.0</td>\n",
       "      <td>3</td>\n",
       "    </tr>\n",
       "    <tr>\n",
       "      <th>3</th>\n",
       "      <td>155bp</td>\n",
       "      <td>ZF43</td>\n",
       "      <td>noCre</td>\n",
       "      <td>ZF43. noCre</td>\n",
       "      <td>529.628631</td>\n",
       "      <td>1.0</td>\n",
       "      <td>3</td>\n",
       "    </tr>\n",
       "    <tr>\n",
       "      <th>4</th>\n",
       "      <td>203bp</td>\n",
       "      <td>ZF37</td>\n",
       "      <td>Cre</td>\n",
       "      <td>ZF37. Cre</td>\n",
       "      <td>2369.342077</td>\n",
       "      <td>1.0</td>\n",
       "      <td>3</td>\n",
       "    </tr>\n",
       "    <tr>\n",
       "      <th>5</th>\n",
       "      <td>203bp</td>\n",
       "      <td>ZF37</td>\n",
       "      <td>noCre</td>\n",
       "      <td>ZF37. noCre</td>\n",
       "      <td>409.806374</td>\n",
       "      <td>1.0</td>\n",
       "      <td>3</td>\n",
       "    </tr>\n",
       "    <tr>\n",
       "      <th>6</th>\n",
       "      <td>203bp</td>\n",
       "      <td>ZF43</td>\n",
       "      <td>Cre</td>\n",
       "      <td>ZF43. Cre</td>\n",
       "      <td>1240.150147</td>\n",
       "      <td>1.0</td>\n",
       "      <td>3</td>\n",
       "    </tr>\n",
       "    <tr>\n",
       "      <th>7</th>\n",
       "      <td>203bp</td>\n",
       "      <td>ZF43</td>\n",
       "      <td>noCre</td>\n",
       "      <td>ZF43. noCre</td>\n",
       "      <td>297.053014</td>\n",
       "      <td>1.0</td>\n",
       "      <td>3</td>\n",
       "    </tr>\n",
       "    <tr>\n",
       "      <th>8</th>\n",
       "      <td>263bp</td>\n",
       "      <td>ZF37</td>\n",
       "      <td>Cre</td>\n",
       "      <td>ZF37. Cre</td>\n",
       "      <td>2662.645006</td>\n",
       "      <td>1.0</td>\n",
       "      <td>3</td>\n",
       "    </tr>\n",
       "    <tr>\n",
       "      <th>9</th>\n",
       "      <td>263bp</td>\n",
       "      <td>ZF37</td>\n",
       "      <td>noCre</td>\n",
       "      <td>ZF37. noCre</td>\n",
       "      <td>368.102688</td>\n",
       "      <td>1.0</td>\n",
       "      <td>3</td>\n",
       "    </tr>\n",
       "    <tr>\n",
       "      <th>10</th>\n",
       "      <td>263bp</td>\n",
       "      <td>ZF43</td>\n",
       "      <td>Cre</td>\n",
       "      <td>ZF43. Cre</td>\n",
       "      <td>1487.836753</td>\n",
       "      <td>1.0</td>\n",
       "      <td>3</td>\n",
       "    </tr>\n",
       "    <tr>\n",
       "      <th>11</th>\n",
       "      <td>263bp</td>\n",
       "      <td>ZF43</td>\n",
       "      <td>noCre</td>\n",
       "      <td>ZF43. noCre</td>\n",
       "      <td>371.606168</td>\n",
       "      <td>1.0</td>\n",
       "      <td>3</td>\n",
       "    </tr>\n",
       "    <tr>\n",
       "      <th>12</th>\n",
       "      <td>27bp</td>\n",
       "      <td>ZF37</td>\n",
       "      <td>Cre</td>\n",
       "      <td>ZF37. Cre</td>\n",
       "      <td>3820.081662</td>\n",
       "      <td>1.0</td>\n",
       "      <td>3</td>\n",
       "    </tr>\n",
       "    <tr>\n",
       "      <th>13</th>\n",
       "      <td>27bp</td>\n",
       "      <td>ZF37</td>\n",
       "      <td>noCre</td>\n",
       "      <td>ZF37. noCre</td>\n",
       "      <td>2136.355649</td>\n",
       "      <td>1.0</td>\n",
       "      <td>3</td>\n",
       "    </tr>\n",
       "    <tr>\n",
       "      <th>14</th>\n",
       "      <td>27bp</td>\n",
       "      <td>ZF43</td>\n",
       "      <td>Cre</td>\n",
       "      <td>ZF43. Cre</td>\n",
       "      <td>2015.549394</td>\n",
       "      <td>1.0</td>\n",
       "      <td>3</td>\n",
       "    </tr>\n",
       "    <tr>\n",
       "      <th>15</th>\n",
       "      <td>27bp</td>\n",
       "      <td>ZF43</td>\n",
       "      <td>noCre</td>\n",
       "      <td>ZF43. noCre</td>\n",
       "      <td>1320.792044</td>\n",
       "      <td>1.0</td>\n",
       "      <td>3</td>\n",
       "    </tr>\n",
       "    <tr>\n",
       "      <th>16</th>\n",
       "      <td>79bp</td>\n",
       "      <td>ZF37</td>\n",
       "      <td>Cre</td>\n",
       "      <td>ZF37. Cre</td>\n",
       "      <td>5385.006332</td>\n",
       "      <td>1.0</td>\n",
       "      <td>3</td>\n",
       "    </tr>\n",
       "    <tr>\n",
       "      <th>17</th>\n",
       "      <td>79bp</td>\n",
       "      <td>ZF37</td>\n",
       "      <td>noCre</td>\n",
       "      <td>ZF37. noCre</td>\n",
       "      <td>2386.126437</td>\n",
       "      <td>1.0</td>\n",
       "      <td>3</td>\n",
       "    </tr>\n",
       "    <tr>\n",
       "      <th>18</th>\n",
       "      <td>79bp</td>\n",
       "      <td>ZF43</td>\n",
       "      <td>Cre</td>\n",
       "      <td>ZF43. Cre</td>\n",
       "      <td>3113.330480</td>\n",
       "      <td>1.0</td>\n",
       "      <td>3</td>\n",
       "    </tr>\n",
       "    <tr>\n",
       "      <th>19</th>\n",
       "      <td>79bp</td>\n",
       "      <td>ZF43</td>\n",
       "      <td>noCre</td>\n",
       "      <td>ZF43. noCre</td>\n",
       "      <td>1501.801159</td>\n",
       "      <td>1.0</td>\n",
       "      <td>3</td>\n",
       "    </tr>\n",
       "    <tr>\n",
       "      <th>20</th>\n",
       "      <td>loxPcontrol</td>\n",
       "      <td>ZF37</td>\n",
       "      <td>Cre</td>\n",
       "      <td>ZF37. Cre</td>\n",
       "      <td>3169.405074</td>\n",
       "      <td>1.0</td>\n",
       "      <td>3</td>\n",
       "    </tr>\n",
       "    <tr>\n",
       "      <th>21</th>\n",
       "      <td>loxPcontrol</td>\n",
       "      <td>ZF37</td>\n",
       "      <td>noCre</td>\n",
       "      <td>ZF37. noCre</td>\n",
       "      <td>7632.307699</td>\n",
       "      <td>1.0</td>\n",
       "      <td>3</td>\n",
       "    </tr>\n",
       "    <tr>\n",
       "      <th>22</th>\n",
       "      <td>loxPcontrol</td>\n",
       "      <td>ZF43</td>\n",
       "      <td>Cre</td>\n",
       "      <td>ZF43. Cre</td>\n",
       "      <td>1498.541160</td>\n",
       "      <td>1.0</td>\n",
       "      <td>3</td>\n",
       "    </tr>\n",
       "    <tr>\n",
       "      <th>23</th>\n",
       "      <td>loxPcontrol</td>\n",
       "      <td>ZF43</td>\n",
       "      <td>noCre</td>\n",
       "      <td>ZF43. noCre</td>\n",
       "      <td>3876.217595</td>\n",
       "      <td>1.0</td>\n",
       "      <td>3</td>\n",
       "    </tr>\n",
       "    <tr>\n",
       "      <th>24</th>\n",
       "      <td>none</td>\n",
       "      <td>none</td>\n",
       "      <td>none</td>\n",
       "      <td>none. none</td>\n",
       "      <td>6154.000000</td>\n",
       "      <td>1.0</td>\n",
       "      <td>1</td>\n",
       "    </tr>\n",
       "  </tbody>\n",
       "</table>\n",
       "</div>"
      ],
      "text/plain": [
       "           Rept    ZF    Cre         cond  mGL-A_gmean_mean  Fraction  Count\n",
       "0         155bp  ZF37    Cre    ZF37. Cre       3180.392309       1.0      3\n",
       "1         155bp  ZF37  noCre  ZF37. noCre        744.604990       1.0      3\n",
       "2         155bp  ZF43    Cre    ZF43. Cre       1622.731075       1.0      3\n",
       "3         155bp  ZF43  noCre  ZF43. noCre        529.628631       1.0      3\n",
       "4         203bp  ZF37    Cre    ZF37. Cre       2369.342077       1.0      3\n",
       "5         203bp  ZF37  noCre  ZF37. noCre        409.806374       1.0      3\n",
       "6         203bp  ZF43    Cre    ZF43. Cre       1240.150147       1.0      3\n",
       "7         203bp  ZF43  noCre  ZF43. noCre        297.053014       1.0      3\n",
       "8         263bp  ZF37    Cre    ZF37. Cre       2662.645006       1.0      3\n",
       "9         263bp  ZF37  noCre  ZF37. noCre        368.102688       1.0      3\n",
       "10        263bp  ZF43    Cre    ZF43. Cre       1487.836753       1.0      3\n",
       "11        263bp  ZF43  noCre  ZF43. noCre        371.606168       1.0      3\n",
       "12         27bp  ZF37    Cre    ZF37. Cre       3820.081662       1.0      3\n",
       "13         27bp  ZF37  noCre  ZF37. noCre       2136.355649       1.0      3\n",
       "14         27bp  ZF43    Cre    ZF43. Cre       2015.549394       1.0      3\n",
       "15         27bp  ZF43  noCre  ZF43. noCre       1320.792044       1.0      3\n",
       "16         79bp  ZF37    Cre    ZF37. Cre       5385.006332       1.0      3\n",
       "17         79bp  ZF37  noCre  ZF37. noCre       2386.126437       1.0      3\n",
       "18         79bp  ZF43    Cre    ZF43. Cre       3113.330480       1.0      3\n",
       "19         79bp  ZF43  noCre  ZF43. noCre       1501.801159       1.0      3\n",
       "20  loxPcontrol  ZF37    Cre    ZF37. Cre       3169.405074       1.0      3\n",
       "21  loxPcontrol  ZF37  noCre  ZF37. noCre       7632.307699       1.0      3\n",
       "22  loxPcontrol  ZF43    Cre    ZF43. Cre       1498.541160       1.0      3\n",
       "23  loxPcontrol  ZF43  noCre  ZF43. noCre       3876.217595       1.0      3\n",
       "24         none  none   none   none. none       6154.000000       1.0      1"
      ]
     },
     "metadata": {},
     "output_type": "display_data"
    }
   ],
   "source": [
    "df = data_iRFP670gated #choose dataframe\n",
    "\n",
    "#Decide how to group. The last parameter will be the condition that it is group by by last ('well' or 'bioreplicate')\n",
    "by = ['Rept', 'ZF', 'Cre','cond','bioreplicate_cond_rept','bioreplicate'] #how to filter results, columns \n",
    "\n",
    "\n",
    "x = ['mGL-A', 'TagBFP-A', 'mCherry-A'] #which parameter to calculate results on\n",
    "stat = [sp.stats.gmean, np.median, np.std, np.mean] #statistics to calculate\n",
    "s_bioreplicate = calc_stats(df,by,x,stat) #calculate statistics \n",
    "display(s_bioreplicate) #display results, use for troublshooting\n",
    "\n",
    "s_bioreplicate[['Rept','ZF','Cre','cond','mGL-A_gmean','TagBFP-A_gmean','mCherry-A_gmean']].to_excel('FigS5C-S5D.xlsx',index=False)\n",
    "\n",
    "#means \n",
    "df = s_bioreplicate #choose dataframe\n",
    "#Decide how to group. The last parameter will be the condition that it is group by by last ('well' or 'bioreplicate')\n",
    "by = ['Rept', 'ZF', 'Cre','cond'] #how to filter results, columns \n",
    "x = ['mGL-A_gmean'] #which parameter to calculate results on\n",
    "stat = [ np.mean] #statistics to calculate\n",
    "means = calc_stats(df,by,x,stat) #calculate statistics \n",
    "display(means) #display results, use for troublshooting"
   ]
  },
  {
   "cell_type": "markdown",
   "metadata": {},
   "source": [
    "# For Figure, mGL means"
   ]
  },
  {
   "cell_type": "code",
   "execution_count": 33,
   "metadata": {},
   "outputs": [],
   "source": [
    "# palette = {'ZF37. noCre': '#C3DB9A',\n",
    "#            'ZF37. Cre': '#69B645', \n",
    "#            'ZF43. noCre': '#C3DB9A',\n",
    "#            'ZF43. Cre': '#69B645'\n",
    "# }\n",
    "\n",
    "palette = {'ZF37. noCre': 'grey',\n",
    "           'ZF37. Cre': 'black', \n",
    "           'ZF43. noCre': 'grey',\n",
    "           'ZF43. Cre': 'black'\n",
    "}\n",
    "\n",
    "hue_order = pd.array([\n",
    "                      #'noZF. noCre',\n",
    "                      #'noZF. Cre',\n",
    "                       'ZF43. noCre',\n",
    "                       'ZF43. Cre',\n",
    "                      'ZF37. noCre',\n",
    "                      'ZF37. Cre'\n",
    "])"
   ]
  },
  {
   "cell_type": "markdown",
   "metadata": {},
   "source": [
    "## Fig S5C, ZF37 only"
   ]
  },
  {
   "cell_type": "code",
   "execution_count": 39,
   "metadata": {},
   "outputs": [
    {
     "name": "stdout",
     "output_type": "stream",
     "text": [
      "p-value annotation legend:\n",
      "ns: 5.00e-02 < p <= 1.00e+00\n",
      "*: 1.00e-02 < p <= 5.00e-02\n",
      "**: 1.00e-03 < p <= 1.00e-02\n",
      "***: 1.00e-04 < p <= 1.00e-03\n",
      "****: p <= 1.00e-04\n",
      "\n",
      "27bp_ZF37. noCre v.s. 27bp_ZF37. Cre: t-test independent samples, P_val=5.949e-02 stat=-2.609e+00\n",
      "loxPcontrol_ZF37. noCre v.s. loxPcontrol_ZF37. Cre: t-test independent samples, P_val=7.555e-02 stat=2.385e+00\n",
      "79bp_ZF37. noCre v.s. 79bp_ZF37. Cre: t-test independent samples, P_val=2.520e-02 stat=-3.486e+00\n",
      "203bp_ZF37. noCre v.s. 203bp_ZF37. Cre: t-test independent samples, P_val=3.711e-04 stat=-1.113e+01\n",
      "155bp_ZF37. noCre v.s. 155bp_ZF37. Cre: t-test independent samples, P_val=1.036e-03 stat=-8.532e+00\n",
      "263bp_ZF37. noCre v.s. 263bp_ZF37. Cre: t-test independent samples, P_val=1.317e-04 stat=-1.449e+01\n"
     ]
    },
    {
     "data": {
      "image/png": "[encoded data removed]",
      "text/plain": [
       "<Figure size 500x250 with 1 Axes>"
      ]
     },
     "metadata": {},
     "output_type": "display_data"
    },
    {
     "name": "stdout",
     "output_type": "stream",
     "text": [
      "p-value annotation legend:\n",
      "ns: 5.00e-02 < p <= 1.00e+00\n",
      "*: 1.00e-02 < p <= 5.00e-02\n",
      "**: 1.00e-03 < p <= 1.00e-02\n",
      "***: 1.00e-04 < p <= 1.00e-03\n",
      "****: p <= 1.00e-04\n",
      "\n",
      "27bp_ZF37. noCre v.s. 27bp_ZF37. Cre: t-test independent samples, P_val=9.458e-01 stat=-7.234e-02\n",
      "loxPcontrol_ZF37. noCre v.s. loxPcontrol_ZF37. Cre: t-test independent samples, P_val=8.814e-01 stat=-1.589e-01\n",
      "79bp_ZF37. noCre v.s. 79bp_ZF37. Cre: t-test independent samples, P_val=2.438e-01 stat=-1.366e+00\n",
      "203bp_ZF37. noCre v.s. 203bp_ZF37. Cre: t-test independent samples, P_val=6.840e-01 stat=-4.380e-01\n",
      "155bp_ZF37. noCre v.s. 155bp_ZF37. Cre: t-test independent samples, P_val=2.776e-01 stat=-1.256e+00\n",
      "263bp_ZF37. noCre v.s. 263bp_ZF37. Cre: t-test independent samples, P_val=8.326e-01 stat=2.255e-01\n"
     ]
    },
    {
     "data": {
      "text/plain": [
       "<Figure size 640x480 with 0 Axes>"
      ]
     },
     "metadata": {},
     "output_type": "display_data"
    },
    {
     "data": {
      "image/png": "[encoded data removed]",
      "text/plain": [
       "<Figure size 500x250 with 1 Axes>"
      ]
     },
     "metadata": {},
     "output_type": "display_data"
    },
    {
     "data": {
      "text/plain": [
       "array(['20240219flow_exp20240216_p1_YL2bad',\n",
       "       '20240219flow_exp20240216_p2_YL2bad',\n",
       "       '20240219flow_exp20240216_p3_YL2bad'], dtype=object)"
      ]
     },
     "metadata": {},
     "output_type": "display_data"
    },
    {
     "data": {
      "text/plain": [
       "<Figure size 640x480 with 0 Axes>"
      ]
     },
     "metadata": {},
     "output_type": "display_data"
    }
   ],
   "source": [
    "#Plot summary plot for the desired statistics\n",
    "\n",
    "sns.reset_defaults()\n",
    "\n",
    "#List of stats to plot \n",
    "stats_plot = pd.array( ['mGL-A_gmean', 'mCherry-A_gmean'])\n",
    "#set plotting parameters \n",
    "order_repts = pd.array( ['loxPcontrol', '27bp', '79bp', '155bp', '203bp', '263bp'])\n",
    "order = order_repts; palette = palette; hue_order = hue_order; x = 'Rept'; hue='cond'; yscale= 'log'\n",
    "# ylim = [1e2, 2*1e4]\n",
    "\n",
    "#Only plot some reporters\n",
    "data_now = s_bioreplicate[s_bioreplicate['Rept'].isin(order_repts)]\n",
    "data_now = data_now[data_now['cond'].isin(hue_order)]\n",
    "#display(data_now)\n",
    "\n",
    "hue_order = pd.array(['ZF37. noCre',\n",
    "             'ZF37. Cre'])\n",
    "\n",
    "#Set p-value significance comparisons \n",
    "pairs = [\n",
    "\n",
    "\n",
    "       [('203bp',  'ZF37. noCre'), ('203bp', 'ZF37. Cre')], # +ZF43, -/+ Cre\n",
    "\n",
    "       [('79bp',  'ZF37. noCre'), ('79bp', 'ZF37. Cre')], # +ZF43, -/+ Cre\n",
    "\n",
    "       [('27bp',  'ZF37. noCre'), ('27bp', 'ZF37. Cre')], # +ZF43, -/+ Cre\n",
    "\n",
    "       [('155bp',  'ZF37. noCre'), ('155bp', 'ZF37. Cre')], # +ZF43, -/+ Cre\n",
    "\n",
    "       [('263bp',  'ZF37. noCre'), ('263bp', 'ZF37. Cre')], # +ZF43, -/+ Cre\n",
    "\n",
    "       [('loxPcontrol',  'ZF37. noCre'), ('loxPcontrol', 'ZF37. Cre')] #compare ZF43 to noZF, +Cre\n",
    "]\n",
    "\n",
    "fontsize = 15; xsize =5; ysize=2.5\n",
    "ylims = { 'mGL-A_gmean': [2e2, 2e4], \n",
    "        'mCherry-A_gmean': [8e1, 1e3]}\n",
    "\n",
    "for stat in stats_plot:\n",
    "    y = stat # set the stat to plot\n",
    "    plottitle = y + ' grouped bioreplicate'\n",
    "    ylim = ylims[stat]\n",
    "    plt.figure(figsize=(xsize,ysize))\n",
    "    g = summary_plot( x=x, y=y, hue=hue, data=data_now, \n",
    "                     pairs=pairs,\n",
    "                     yscale =yscale, fontsize = fontsize,\n",
    "                    x_rot=45, palette = palette, order=order, hue_order=hue_order, plottitle=plottitle, type='pointplot',\n",
    "                    axis_lines = {'top': False, 'bottom': True, 'left': True, 'right': False}, legend=False, \n",
    "                    ylim = ylim, xticklabels=False, xlabel='', ylabel='')\n",
    "    g.figure.savefig(figure_folder + plottitle + '0.125xZF37' + '.svg',dpi=300,bbox_inches='tight')\n",
    "\n",
    "display(pd.unique(data_now['bioreplicate']))"
   ]
  },
  {
   "attachments": {},
   "cell_type": "markdown",
   "metadata": {},
   "source": [
    "## Fig S5D ZF43 only"
   ]
  },
  {
   "cell_type": "code",
   "execution_count": null,
   "metadata": {},
   "outputs": [
    {
     "name": "stdout",
     "output_type": "stream",
     "text": [
      "p-value annotation legend:\n",
      "ns: 5.00e-02 < p <= 1.00e+00\n",
      "*: 1.00e-02 < p <= 5.00e-02\n",
      "**: 1.00e-03 < p <= 1.00e-02\n",
      "***: 1.00e-04 < p <= 1.00e-03\n",
      "****: p <= 1.00e-04\n",
      "\n",
      "27bp_ZF43. noCre v.s. 27bp_ZF43. Cre: t-test independent samples, P_val=7.146e-02 stat=-2.437e+00\n",
      "loxPcontrol_ZF43. noCre v.s. loxPcontrol_ZF43. Cre: t-test independent samples, P_val=1.287e-02 stat=4.277e+00\n",
      "79bp_ZF43. noCre v.s. 79bp_ZF43. Cre: t-test independent samples, P_val=2.867e-02 stat=-3.346e+00\n",
      "203bp_ZF43. noCre v.s. 203bp_ZF43. Cre: t-test independent samples, P_val=1.490e-04 stat=-1.405e+01\n",
      "155bp_ZF43. noCre v.s. 155bp_ZF43. Cre: t-test independent samples, P_val=1.067e-03 stat=-8.466e+00\n",
      "263bp_ZF43. noCre v.s. 263bp_ZF43. Cre: t-test independent samples, P_val=3.662e-04 stat=-1.117e+01\n"
     ]
    },
    {
     "data": {
      "image/png": "[encoded data removed]",
      "text/plain": [
       "<Figure size 500x250 with 1 Axes>"
      ]
     },
     "metadata": {},
     "output_type": "display_data"
    },
    {
     "name": "stdout",
     "output_type": "stream",
     "text": [
      "p-value annotation legend:\n",
      "ns: 5.00e-02 < p <= 1.00e+00\n",
      "*: 1.00e-02 < p <= 5.00e-02\n",
      "**: 1.00e-03 < p <= 1.00e-02\n",
      "***: 1.00e-04 < p <= 1.00e-03\n",
      "****: p <= 1.00e-04\n",
      "\n",
      "27bp_ZF43. noCre v.s. 27bp_ZF43. Cre: t-test independent samples, P_val=7.964e-01 stat=-2.757e-01\n",
      "loxPcontrol_ZF43. noCre v.s. loxPcontrol_ZF43. Cre: t-test independent samples, P_val=1.324e-01 stat=1.886e+00\n",
      "79bp_ZF43. noCre v.s. 79bp_ZF43. Cre: t-test independent samples, P_val=4.841e-01 stat=-7.703e-01\n",
      "203bp_ZF43. noCre v.s. 203bp_ZF43. Cre: t-test independent samples, P_val=1.372e-01 stat=-1.855e+00\n",
      "155bp_ZF43. noCre v.s. 155bp_ZF43. Cre: t-test independent samples, P_val=8.238e-01 stat=-2.377e-01\n",
      "263bp_ZF43. noCre v.s. 263bp_ZF43. Cre: t-test independent samples, P_val=8.008e-01 stat=2.697e-01\n"
     ]
    },
    {
     "data": {
      "text/plain": [
       "<Figure size 640x480 with 0 Axes>"
      ]
     },
     "metadata": {},
     "output_type": "display_data"
    },
    {
     "data": {
      "image/png": "[encoded data removed]",
      "text/plain": [
       "<Figure size 500x250 with 1 Axes>"
      ]
     },
     "metadata": {},
     "output_type": "display_data"
    },
    {
     "data": {
      "text/plain": [
       "<Figure size 640x480 with 0 Axes>"
      ]
     },
     "metadata": {},
     "output_type": "display_data"
    }
   ],
   "source": [
    "#Plot summary plot for the desired statistics\n",
    "\n",
    "sns.reset_defaults()\n",
    "\n",
    "#List of stats to plot \n",
    "stats_plot = pd.array( ['mGL-A_gmean', 'TagBFP-A_gmean'])\n",
    "#set plotting parameters \n",
    "order_repts = pd.array( ['loxPcontrol', '27bp', '79bp', '155bp', '203bp', '263bp'])\n",
    "order = order_repts; palette = palette; hue_order = hue_order; x = 'Rept'; hue='cond'; yscale= 'log'\n",
    "# ylim = [1e2, 1e4]\n",
    "\n",
    "hue_order = pd.array(['ZF43. noCre',\n",
    "             'ZF43. Cre'\n",
    "])\n",
    "\n",
    "#Only plot some reporters\n",
    "data_now = s_bioreplicate[s_bioreplicate['Rept'].isin(order_repts)]\n",
    "data_now = data_now[data_now['cond'].isin(hue_order)]\n",
    "#display(data_now)\n",
    "\n",
    "#Set p-value significance comparisons \n",
    "pairs = [\n",
    "\n",
    "\n",
    "       [('203bp',  'ZF43. noCre'), ('203bp', 'ZF43. Cre')], # +ZF43, -/+ Cre\n",
    "\n",
    "       [('79bp',  'ZF43. noCre'), ('79bp', 'ZF43. Cre')], # +ZF43, -/+ Cre\n",
    "\n",
    "       [('27bp',  'ZF43. noCre'), ('27bp', 'ZF43. Cre')], # +ZF43, -/+ Cre\n",
    "\n",
    "       [('155bp',  'ZF43. noCre'), ('155bp', 'ZF43. Cre')], # +ZF43, -/+ Cre\n",
    "\n",
    "       [('263bp',  'ZF43. noCre'), ('263bp', 'ZF43. Cre')], # +ZF43, -/+ Cre\n",
    "\n",
    "       [('loxPcontrol',  'ZF43. noCre'), ('loxPcontrol', 'ZF43. Cre')] #compare ZF43 to noZF, +Cre\n",
    "\n",
    "      # [('203bp',  'ZF43. noCre'), ('203bp', 'ZF37. noCre')], #compare both ZF noCre\n",
    "       #[('203bp',  'ZF43. Cre'), ('203bp', 'ZF37. Cre')], #compare both ZF Cre\n",
    "]\n",
    "\n",
    "fontsize = 15; xsize =5; ysize=2.5\n",
    "ylims = { 'mGL-A_gmean': [2e2, 2e4], \n",
    "        'TagBFP-A_gmean': [8e1, 1e3]}\n",
    "\n",
    "for stat in stats_plot:\n",
    "    y = stat # set the stat to plot\n",
    "    plottitle = y + ' grouped bioreplicate'\n",
    "    ylim = ylims[stat]\n",
    "    plt.figure(figsize=(xsize,ysize))\n",
    "    fontsize = 15; xsize =5; ysize=2.5\n",
    "    g = summary_plot( x=x, y=y, hue=hue, data=data_now, \n",
    "                     pairs=pairs, \n",
    "                     yscale =yscale, fontsize = fontsize, ylim=ylim,\n",
    "                    x_rot=45, palette = palette, order=order, hue_order=hue_order, plottitle=plottitle, type='pointplot',\n",
    "                    axis_lines = {'top': False, 'bottom': True, 'left': True, 'right': False}, legend=False)\n",
    "    g.figure.savefig(figure_folder + plottitle + '0.125xZF43' + '.svg',dpi=300,bbox_inches='tight')"
   ]
  },
  {
   "cell_type": "markdown",
   "metadata": {},
   "source": [
    "## ZF37 only"
   ]
  },
  {
   "cell_type": "code",
   "execution_count": 34,
   "metadata": {},
   "outputs": [],
   "source": [
    "palette = {'ZF37. noCre': 'darksalmon',\n",
    "           'ZF37. Cre': 'red'\n",
    "}\n",
    "\n",
    "hue_order = pd.array(['ZF37. noCre',\n",
    "           'ZF37. Cre'\n",
    "])"
   ]
  },
  {
   "cell_type": "code",
   "execution_count": 35,
   "metadata": {},
   "outputs": [
    {
     "name": "stdout",
     "output_type": "stream",
     "text": [
      "p-value annotation legend:\n",
      "ns: 5.00e-02 < p <= 1.00e+00\n",
      "*: 1.00e-02 < p <= 5.00e-02\n",
      "**: 1.00e-03 < p <= 1.00e-02\n",
      "***: 1.00e-04 < p <= 1.00e-03\n",
      "****: p <= 1.00e-04\n",
      "\n",
      "27bp_ZF37. noCre v.s. 27bp_ZF37. Cre: t-test independent samples, P_val=5.949e-02 stat=-2.609e+00\n",
      "loxPcontrol_ZF37. noCre v.s. loxPcontrol_ZF37. Cre: t-test independent samples, P_val=7.555e-02 stat=2.385e+00\n",
      "79bp_ZF37. noCre v.s. 79bp_ZF37. Cre: t-test independent samples, P_val=2.520e-02 stat=-3.486e+00\n",
      "203bp_ZF37. noCre v.s. 203bp_ZF37. Cre: t-test independent samples, P_val=3.711e-04 stat=-1.113e+01\n",
      "155bp_ZF37. noCre v.s. 155bp_ZF37. Cre: t-test independent samples, P_val=1.036e-03 stat=-8.532e+00\n",
      "263bp_ZF37. noCre v.s. 263bp_ZF37. Cre: t-test independent samples, P_val=1.317e-04 stat=-1.449e+01\n"
     ]
    },
    {
     "data": {
      "image/png": "[encoded data removed]",
      "text/plain": [
       "<Figure size 432x288 with 1 Axes>"
      ]
     },
     "metadata": {
      "needs_background": "light"
     },
     "output_type": "display_data"
    },
    {
     "name": "stdout",
     "output_type": "stream",
     "text": [
      "p-value annotation legend:\n",
      "ns: 5.00e-02 < p <= 1.00e+00\n",
      "*: 1.00e-02 < p <= 5.00e-02\n",
      "**: 1.00e-03 < p <= 1.00e-02\n",
      "***: 1.00e-04 < p <= 1.00e-03\n",
      "****: p <= 1.00e-04\n",
      "\n",
      "27bp_ZF37. noCre v.s. 27bp_ZF37. Cre: t-test independent samples, P_val=4.755e-02 stat=2.826e+00\n",
      "loxPcontrol_ZF37. noCre v.s. loxPcontrol_ZF37. Cre: t-test independent samples, P_val=9.253e-03 stat=-4.708e+00\n",
      "79bp_ZF37. noCre v.s. 79bp_ZF37. Cre: t-test independent samples, P_val=3.788e-03 stat=6.040e+00\n",
      "203bp_ZF37. noCre v.s. 203bp_ZF37. Cre: t-test independent samples, P_val=7.136e-03 stat=5.069e+00\n",
      "155bp_ZF37. noCre v.s. 155bp_ZF37. Cre: t-test independent samples, P_val=8.917e-03 stat=4.758e+00\n",
      "263bp_ZF37. noCre v.s. 263bp_ZF37. Cre: t-test independent samples, P_val=3.136e-02 stat=3.250e+00\n"
     ]
    },
    {
     "data": {
      "image/png": "[encoded data removed]",
      "text/plain": [
       "<Figure size 432x288 with 1 Axes>"
      ]
     },
     "metadata": {
      "needs_background": "light"
     },
     "output_type": "display_data"
    },
    {
     "name": "stdout",
     "output_type": "stream",
     "text": [
      "p-value annotation legend:\n",
      "ns: 5.00e-02 < p <= 1.00e+00\n",
      "*: 1.00e-02 < p <= 5.00e-02\n",
      "**: 1.00e-03 < p <= 1.00e-02\n",
      "***: 1.00e-04 < p <= 1.00e-03\n",
      "****: p <= 1.00e-04\n",
      "\n",
      "27bp_ZF37. noCre v.s. 27bp_ZF37. Cre: t-test independent samples, P_val=9.458e-01 stat=-7.234e-02\n",
      "loxPcontrol_ZF37. noCre v.s. loxPcontrol_ZF37. Cre: t-test independent samples, P_val=8.814e-01 stat=-1.589e-01\n",
      "79bp_ZF37. noCre v.s. 79bp_ZF37. Cre: t-test independent samples, P_val=2.438e-01 stat=-1.366e+00\n",
      "203bp_ZF37. noCre v.s. 203bp_ZF37. Cre: t-test independent samples, P_val=6.840e-01 stat=-4.380e-01\n",
      "155bp_ZF37. noCre v.s. 155bp_ZF37. Cre: t-test independent samples, P_val=2.776e-01 stat=-1.256e+00\n",
      "263bp_ZF37. noCre v.s. 263bp_ZF37. Cre: t-test independent samples, P_val=8.326e-01 stat=2.255e-01\n"
     ]
    },
    {
     "data": {
      "image/png": "[encoded data removed]",
      "text/plain": [
       "<Figure size 432x288 with 1 Axes>"
      ]
     },
     "metadata": {
      "needs_background": "light"
     },
     "output_type": "display_data"
    },
    {
     "data": {
      "text/plain": [
       "<Figure size 432x288 with 0 Axes>"
      ]
     },
     "metadata": {},
     "output_type": "display_data"
    }
   ],
   "source": [
    "#Plot summary plot for the desired statistics\n",
    "\n",
    "#List of stats to plot \n",
    "stats_plot = pd.array( ['mGL-A_gmean', 'TagBFP-A_gmean', 'mCherry-A_gmean'])\n",
    "#set plotting parameters \n",
    "order_repts = pd.array( ['loxPcontrol', '27bp', '79bp', '155bp', '203bp', '263bp'])\n",
    "order = order_repts; palette = palette; hue_order = hue_order; x = 'Rept'; hue='cond'; yscale= 'log'\n",
    "ylim = [1e1, 1e5]\n",
    "\n",
    "#Only plot some reporters\n",
    "data_now = s_bioreplicate[s_bioreplicate['Rept'].isin(order_repts)]\n",
    "data_now = data_now[data_now['cond'].isin(hue_order)]\n",
    "#display(data_now)\n",
    "\n",
    "#Set p-value significance comparisons \n",
    "pairs = [\n",
    "\n",
    "\n",
    "      #  [('203bp',  'ZF43. noCre'), ('203bp', 'ZF43. Cre')], # +ZF43, -/+ Cre\n",
    "\n",
    "      #  [('79bp',  'ZF43. noCre'), ('79bp', 'ZF43. Cre')], # +ZF43, -/+ Cre\n",
    "\n",
    "      #  [('27bp',  'ZF43. noCre'), ('27bp', 'ZF43. Cre')], # +ZF43, -/+ Cre\n",
    "\n",
    "      #  [('155bp',  'ZF43. noCre'), ('155bp', 'ZF43. Cre')], # +ZF43, -/+ Cre\n",
    "\n",
    "      #  [('263bp',  'ZF43. noCre'), ('263bp', 'ZF43. Cre')], # +ZF43, -/+ Cre\n",
    "\n",
    " #      [('loxPcontrol',  'ZF43. noCre'), ('loxPcontrol', 'ZF43. Cre')] #compare ZF43 to noZF, +Cre\n",
    "\n",
    "       [('203bp',  'ZF37. noCre'), ('203bp', 'ZF37. Cre')], # +ZF43, -/+ Cre\n",
    "\n",
    "       [('79bp',  'ZF37. noCre'), ('79bp', 'ZF37. Cre')], # +ZF43, -/+ Cre\n",
    "\n",
    "       [('27bp',  'ZF37. noCre'), ('27bp', 'ZF37. Cre')], # +ZF43, -/+ Cre\n",
    "\n",
    "       [('155bp',  'ZF37. noCre'), ('155bp', 'ZF37. Cre')], # +ZF43, -/+ Cre\n",
    "\n",
    "       [('263bp',  'ZF37. noCre'), ('263bp', 'ZF37. Cre')], # +ZF43, -/+ Cre\n",
    "\n",
    "       [('loxPcontrol',  'ZF37. noCre'), ('loxPcontrol', 'ZF37. Cre')] #compare ZF43 to noZF, +Cre\n",
    "\n",
    "      # [('203bp',  'ZF43. noCre'), ('203bp', 'ZF37. noCre')], #compare both ZF noCre\n",
    "       #[('203bp',  'ZF43. Cre'), ('203bp', 'ZF37. Cre')], #compare both ZF Cre\n",
    "]\n",
    "\n",
    "for stat in stats_plot:\n",
    "    y = stat # set the stat to plot\n",
    "    plottitle = y + ' grouped bioreplicate'\n",
    "    plt.yscale(yscale)\n",
    "    g = summary_plot( x=x, y=y, hue=hue, data=data_now, pairs=pairs, ylim=ylim, yscale =yscale,\n",
    "                    x_rot=45, palette = palette, order=order, hue_order=hue_order, plottitle=plottitle,legend=False)\n",
    "    #g.figure.savefig(figure_folder + plottitle + '.svg',dpi=300,bbox_inches='tight')"
   ]
  },
  {
   "attachments": {},
   "cell_type": "markdown",
   "metadata": {},
   "source": [
    "## Normalized Plot to loxP "
   ]
  },
  {
   "cell_type": "code",
   "execution_count": 36,
   "metadata": {},
   "outputs": [],
   "source": [
    "# palette same as before \n",
    "\n",
    "hue_order = pd.array([\n",
    "            'ZF37. noCre',\n",
    "            'ZF37. Cre'\n",
    "])"
   ]
  },
  {
   "cell_type": "code",
   "execution_count": 37,
   "metadata": {},
   "outputs": [
    {
     "data": {
      "text/html": [
       "<div>\n",
       "<style scoped>\n",
       "    .dataframe tbody tr th:only-of-type {\n",
       "        vertical-align: middle;\n",
       "    }\n",
       "\n",
       "    .dataframe tbody tr th {\n",
       "        vertical-align: top;\n",
       "    }\n",
       "\n",
       "    .dataframe thead th {\n",
       "        text-align: right;\n",
       "    }\n",
       "</style>\n",
       "<table border=\"1\" class=\"dataframe\">\n",
       "  <thead>\n",
       "    <tr style=\"text-align: right;\">\n",
       "      <th></th>\n",
       "      <th>Rept</th>\n",
       "      <th>ZF</th>\n",
       "      <th>Cre</th>\n",
       "      <th>well</th>\n",
       "      <th>population</th>\n",
       "      <th>FSC-A</th>\n",
       "      <th>FSC-H</th>\n",
       "      <th>FSC-W</th>\n",
       "      <th>SSC-A</th>\n",
       "      <th>SSC-H</th>\n",
       "      <th>...</th>\n",
       "      <th>Janelia Fluor 549-W</th>\n",
       "      <th>mCherry-A</th>\n",
       "      <th>mRuby2-H</th>\n",
       "      <th>mRuby2-W</th>\n",
       "      <th>Time</th>\n",
       "      <th>bioreplicate</th>\n",
       "      <th>log10 mGL-A</th>\n",
       "      <th>Rept.ZF.Cre</th>\n",
       "      <th>cond</th>\n",
       "      <th>bioreplicate_cond_rept</th>\n",
       "    </tr>\n",
       "  </thead>\n",
       "  <tbody>\n",
       "    <tr>\n",
       "      <th>7</th>\n",
       "      <td>loxPcontrol</td>\n",
       "      <td>ZF37</td>\n",
       "      <td>Cre</td>\n",
       "      <td>A10</td>\n",
       "      <td>Single Cells</td>\n",
       "      <td>559973</td>\n",
       "      <td>273539</td>\n",
       "      <td>124</td>\n",
       "      <td>364945</td>\n",
       "      <td>218055</td>\n",
       "      <td>...</td>\n",
       "      <td>84</td>\n",
       "      <td>859</td>\n",
       "      <td>582</td>\n",
       "      <td>63</td>\n",
       "      <td>0.118417</td>\n",
       "      <td>20240219flow_exp20240216_p2_YL2bad</td>\n",
       "      <td>4.178632</td>\n",
       "      <td>loxPcontrol.ZF37.Cre</td>\n",
       "      <td>ZF37. Cre</td>\n",
       "      <td>20240219flow_exp20240216_p2_YL2bad. loxPcontro...</td>\n",
       "    </tr>\n",
       "    <tr>\n",
       "      <th>31</th>\n",
       "      <td>loxPcontrol</td>\n",
       "      <td>ZF37</td>\n",
       "      <td>Cre</td>\n",
       "      <td>A10</td>\n",
       "      <td>Single Cells</td>\n",
       "      <td>535822</td>\n",
       "      <td>279944</td>\n",
       "      <td>115</td>\n",
       "      <td>445523</td>\n",
       "      <td>277689</td>\n",
       "      <td>...</td>\n",
       "      <td>61</td>\n",
       "      <td>226</td>\n",
       "      <td>130</td>\n",
       "      <td>28</td>\n",
       "      <td>0.511440</td>\n",
       "      <td>20240219flow_exp20240216_p2_YL2bad</td>\n",
       "      <td>3.413467</td>\n",
       "      <td>loxPcontrol.ZF37.Cre</td>\n",
       "      <td>ZF37. Cre</td>\n",
       "      <td>20240219flow_exp20240216_p2_YL2bad. loxPcontro...</td>\n",
       "    </tr>\n",
       "    <tr>\n",
       "      <th>33</th>\n",
       "      <td>loxPcontrol</td>\n",
       "      <td>ZF37</td>\n",
       "      <td>Cre</td>\n",
       "      <td>A10</td>\n",
       "      <td>Single Cells</td>\n",
       "      <td>385641</td>\n",
       "      <td>265146</td>\n",
       "      <td>105</td>\n",
       "      <td>266727</td>\n",
       "      <td>196725</td>\n",
       "      <td>...</td>\n",
       "      <td>49</td>\n",
       "      <td>107</td>\n",
       "      <td>131</td>\n",
       "      <td>20</td>\n",
       "      <td>0.574732</td>\n",
       "      <td>20240219flow_exp20240216_p2_YL2bad</td>\n",
       "      <td>3.298416</td>\n",
       "      <td>loxPcontrol.ZF37.Cre</td>\n",
       "      <td>ZF37. Cre</td>\n",
       "      <td>20240219flow_exp20240216_p2_YL2bad. loxPcontro...</td>\n",
       "    </tr>\n",
       "    <tr>\n",
       "      <th>43</th>\n",
       "      <td>loxPcontrol</td>\n",
       "      <td>ZF37</td>\n",
       "      <td>Cre</td>\n",
       "      <td>A10</td>\n",
       "      <td>Single Cells</td>\n",
       "      <td>337309</td>\n",
       "      <td>187798</td>\n",
       "      <td>115</td>\n",
       "      <td>307275</td>\n",
       "      <td>187943</td>\n",
       "      <td>...</td>\n",
       "      <td>58</td>\n",
       "      <td>237</td>\n",
       "      <td>142</td>\n",
       "      <td>22</td>\n",
       "      <td>0.656399</td>\n",
       "      <td>20240219flow_exp20240216_p2_YL2bad</td>\n",
       "      <td>2.041393</td>\n",
       "      <td>loxPcontrol.ZF37.Cre</td>\n",
       "      <td>ZF37. Cre</td>\n",
       "      <td>20240219flow_exp20240216_p2_YL2bad. loxPcontro...</td>\n",
       "    </tr>\n",
       "    <tr>\n",
       "      <th>44</th>\n",
       "      <td>loxPcontrol</td>\n",
       "      <td>ZF37</td>\n",
       "      <td>Cre</td>\n",
       "      <td>A10</td>\n",
       "      <td>Single Cells</td>\n",
       "      <td>424935</td>\n",
       "      <td>206073</td>\n",
       "      <td>111</td>\n",
       "      <td>457788</td>\n",
       "      <td>299580</td>\n",
       "      <td>...</td>\n",
       "      <td>118</td>\n",
       "      <td>4777</td>\n",
       "      <td>2958</td>\n",
       "      <td>111</td>\n",
       "      <td>0.670691</td>\n",
       "      <td>20240219flow_exp20240216_p2_YL2bad</td>\n",
       "      <td>4.085754</td>\n",
       "      <td>loxPcontrol.ZF37.Cre</td>\n",
       "      <td>ZF37. Cre</td>\n",
       "      <td>20240219flow_exp20240216_p2_YL2bad. loxPcontro...</td>\n",
       "    </tr>\n",
       "    <tr>\n",
       "      <th>...</th>\n",
       "      <td>...</td>\n",
       "      <td>...</td>\n",
       "      <td>...</td>\n",
       "      <td>...</td>\n",
       "      <td>...</td>\n",
       "      <td>...</td>\n",
       "      <td>...</td>\n",
       "      <td>...</td>\n",
       "      <td>...</td>\n",
       "      <td>...</td>\n",
       "      <td>...</td>\n",
       "      <td>...</td>\n",
       "      <td>...</td>\n",
       "      <td>...</td>\n",
       "      <td>...</td>\n",
       "      <td>...</td>\n",
       "      <td>...</td>\n",
       "      <td>...</td>\n",
       "      <td>...</td>\n",
       "      <td>...</td>\n",
       "      <td>...</td>\n",
       "    </tr>\n",
       "    <tr>\n",
       "      <th>3245414</th>\n",
       "      <td>263bp</td>\n",
       "      <td>ZF37</td>\n",
       "      <td>noCre</td>\n",
       "      <td>F9</td>\n",
       "      <td>Single Cells</td>\n",
       "      <td>283800</td>\n",
       "      <td>166833</td>\n",
       "      <td>110</td>\n",
       "      <td>232778</td>\n",
       "      <td>158364</td>\n",
       "      <td>...</td>\n",
       "      <td>65</td>\n",
       "      <td>751</td>\n",
       "      <td>513</td>\n",
       "      <td>55</td>\n",
       "      <td>44.941700</td>\n",
       "      <td>20240219flow_exp20240216_p1_YL2bad</td>\n",
       "      <td>2.730782</td>\n",
       "      <td>263bp.ZF37.noCre</td>\n",
       "      <td>ZF37. noCre</td>\n",
       "      <td>20240219flow_exp20240216_p1_YL2bad. 263bp. ZF3...</td>\n",
       "    </tr>\n",
       "    <tr>\n",
       "      <th>3245416</th>\n",
       "      <td>263bp</td>\n",
       "      <td>ZF37</td>\n",
       "      <td>noCre</td>\n",
       "      <td>F9</td>\n",
       "      <td>Single Cells</td>\n",
       "      <td>325121</td>\n",
       "      <td>218954</td>\n",
       "      <td>110</td>\n",
       "      <td>177680</td>\n",
       "      <td>133178</td>\n",
       "      <td>...</td>\n",
       "      <td>70</td>\n",
       "      <td>1365</td>\n",
       "      <td>992</td>\n",
       "      <td>60</td>\n",
       "      <td>44.943700</td>\n",
       "      <td>20240219flow_exp20240216_p1_YL2bad</td>\n",
       "      <td>2.841985</td>\n",
       "      <td>263bp.ZF37.noCre</td>\n",
       "      <td>ZF37. noCre</td>\n",
       "      <td>20240219flow_exp20240216_p1_YL2bad. 263bp. ZF3...</td>\n",
       "    </tr>\n",
       "    <tr>\n",
       "      <th>3245418</th>\n",
       "      <td>263bp</td>\n",
       "      <td>ZF37</td>\n",
       "      <td>noCre</td>\n",
       "      <td>F9</td>\n",
       "      <td>Single Cells</td>\n",
       "      <td>282755</td>\n",
       "      <td>191631</td>\n",
       "      <td>107</td>\n",
       "      <td>177469</td>\n",
       "      <td>123253</td>\n",
       "      <td>...</td>\n",
       "      <td>52</td>\n",
       "      <td>362</td>\n",
       "      <td>294</td>\n",
       "      <td>29</td>\n",
       "      <td>44.944700</td>\n",
       "      <td>20240219flow_exp20240216_p1_YL2bad</td>\n",
       "      <td>2.406540</td>\n",
       "      <td>263bp.ZF37.noCre</td>\n",
       "      <td>ZF37. noCre</td>\n",
       "      <td>20240219flow_exp20240216_p1_YL2bad. 263bp. ZF3...</td>\n",
       "    </tr>\n",
       "    <tr>\n",
       "      <th>3245423</th>\n",
       "      <td>263bp</td>\n",
       "      <td>ZF37</td>\n",
       "      <td>noCre</td>\n",
       "      <td>F9</td>\n",
       "      <td>Single Cells</td>\n",
       "      <td>453729</td>\n",
       "      <td>288364</td>\n",
       "      <td>107</td>\n",
       "      <td>331682</td>\n",
       "      <td>247998</td>\n",
       "      <td>...</td>\n",
       "      <td>84</td>\n",
       "      <td>1115</td>\n",
       "      <td>783</td>\n",
       "      <td>63</td>\n",
       "      <td>44.964800</td>\n",
       "      <td>20240219flow_exp20240216_p1_YL2bad</td>\n",
       "      <td>3.107888</td>\n",
       "      <td>263bp.ZF37.noCre</td>\n",
       "      <td>ZF37. noCre</td>\n",
       "      <td>20240219flow_exp20240216_p1_YL2bad. 263bp. ZF3...</td>\n",
       "    </tr>\n",
       "    <tr>\n",
       "      <th>3245426</th>\n",
       "      <td>263bp</td>\n",
       "      <td>ZF37</td>\n",
       "      <td>noCre</td>\n",
       "      <td>F9</td>\n",
       "      <td>Single Cells</td>\n",
       "      <td>498394</td>\n",
       "      <td>258095</td>\n",
       "      <td>126</td>\n",
       "      <td>282959</td>\n",
       "      <td>184825</td>\n",
       "      <td>...</td>\n",
       "      <td>60</td>\n",
       "      <td>266</td>\n",
       "      <td>224</td>\n",
       "      <td>29</td>\n",
       "      <td>44.978900</td>\n",
       "      <td>20240219flow_exp20240216_p1_YL2bad</td>\n",
       "      <td>2.204120</td>\n",
       "      <td>263bp.ZF37.noCre</td>\n",
       "      <td>ZF37. noCre</td>\n",
       "      <td>20240219flow_exp20240216_p1_YL2bad. 263bp. ZF3...</td>\n",
       "    </tr>\n",
       "  </tbody>\n",
       "</table>\n",
       "<p>542979 rows × 32 columns</p>\n",
       "</div>"
      ],
      "text/plain": [
       "                Rept    ZF    Cre well    population   FSC-A   FSC-H  FSC-W  \\\n",
       "7        loxPcontrol  ZF37    Cre  A10  Single Cells  559973  273539    124   \n",
       "31       loxPcontrol  ZF37    Cre  A10  Single Cells  535822  279944    115   \n",
       "33       loxPcontrol  ZF37    Cre  A10  Single Cells  385641  265146    105   \n",
       "43       loxPcontrol  ZF37    Cre  A10  Single Cells  337309  187798    115   \n",
       "44       loxPcontrol  ZF37    Cre  A10  Single Cells  424935  206073    111   \n",
       "...              ...   ...    ...  ...           ...     ...     ...    ...   \n",
       "3245414        263bp  ZF37  noCre   F9  Single Cells  283800  166833    110   \n",
       "3245416        263bp  ZF37  noCre   F9  Single Cells  325121  218954    110   \n",
       "3245418        263bp  ZF37  noCre   F9  Single Cells  282755  191631    107   \n",
       "3245423        263bp  ZF37  noCre   F9  Single Cells  453729  288364    107   \n",
       "3245426        263bp  ZF37  noCre   F9  Single Cells  498394  258095    126   \n",
       "\n",
       "          SSC-A   SSC-H  ...  Janelia Fluor 549-W  mCherry-A  mRuby2-H  \\\n",
       "7        364945  218055  ...                   84        859       582   \n",
       "31       445523  277689  ...                   61        226       130   \n",
       "33       266727  196725  ...                   49        107       131   \n",
       "43       307275  187943  ...                   58        237       142   \n",
       "44       457788  299580  ...                  118       4777      2958   \n",
       "...         ...     ...  ...                  ...        ...       ...   \n",
       "3245414  232778  158364  ...                   65        751       513   \n",
       "3245416  177680  133178  ...                   70       1365       992   \n",
       "3245418  177469  123253  ...                   52        362       294   \n",
       "3245423  331682  247998  ...                   84       1115       783   \n",
       "3245426  282959  184825  ...                   60        266       224   \n",
       "\n",
       "         mRuby2-W       Time                        bioreplicate  log10 mGL-A  \\\n",
       "7              63   0.118417  20240219flow_exp20240216_p2_YL2bad     4.178632   \n",
       "31             28   0.511440  20240219flow_exp20240216_p2_YL2bad     3.413467   \n",
       "33             20   0.574732  20240219flow_exp20240216_p2_YL2bad     3.298416   \n",
       "43             22   0.656399  20240219flow_exp20240216_p2_YL2bad     2.041393   \n",
       "44            111   0.670691  20240219flow_exp20240216_p2_YL2bad     4.085754   \n",
       "...           ...        ...                                 ...          ...   \n",
       "3245414        55  44.941700  20240219flow_exp20240216_p1_YL2bad     2.730782   \n",
       "3245416        60  44.943700  20240219flow_exp20240216_p1_YL2bad     2.841985   \n",
       "3245418        29  44.944700  20240219flow_exp20240216_p1_YL2bad     2.406540   \n",
       "3245423        63  44.964800  20240219flow_exp20240216_p1_YL2bad     3.107888   \n",
       "3245426        29  44.978900  20240219flow_exp20240216_p1_YL2bad     2.204120   \n",
       "\n",
       "                  Rept.ZF.Cre         cond  \\\n",
       "7        loxPcontrol.ZF37.Cre    ZF37. Cre   \n",
       "31       loxPcontrol.ZF37.Cre    ZF37. Cre   \n",
       "33       loxPcontrol.ZF37.Cre    ZF37. Cre   \n",
       "43       loxPcontrol.ZF37.Cre    ZF37. Cre   \n",
       "44       loxPcontrol.ZF37.Cre    ZF37. Cre   \n",
       "...                       ...          ...   \n",
       "3245414      263bp.ZF37.noCre  ZF37. noCre   \n",
       "3245416      263bp.ZF37.noCre  ZF37. noCre   \n",
       "3245418      263bp.ZF37.noCre  ZF37. noCre   \n",
       "3245423      263bp.ZF37.noCre  ZF37. noCre   \n",
       "3245426      263bp.ZF37.noCre  ZF37. noCre   \n",
       "\n",
       "                                    bioreplicate_cond_rept  \n",
       "7        20240219flow_exp20240216_p2_YL2bad. loxPcontro...  \n",
       "31       20240219flow_exp20240216_p2_YL2bad. loxPcontro...  \n",
       "33       20240219flow_exp20240216_p2_YL2bad. loxPcontro...  \n",
       "43       20240219flow_exp20240216_p2_YL2bad. loxPcontro...  \n",
       "44       20240219flow_exp20240216_p2_YL2bad. loxPcontro...  \n",
       "...                                                    ...  \n",
       "3245414  20240219flow_exp20240216_p1_YL2bad. 263bp. ZF3...  \n",
       "3245416  20240219flow_exp20240216_p1_YL2bad. 263bp. ZF3...  \n",
       "3245418  20240219flow_exp20240216_p1_YL2bad. 263bp. ZF3...  \n",
       "3245423  20240219flow_exp20240216_p1_YL2bad. 263bp. ZF3...  \n",
       "3245426  20240219flow_exp20240216_p1_YL2bad. 263bp. ZF3...  \n",
       "\n",
       "[542979 rows x 32 columns]"
      ]
     },
     "execution_count": 37,
     "metadata": {},
     "output_type": "execute_result"
    }
   ],
   "source": [
    "data_iRFP670gated"
   ]
  },
  {
   "cell_type": "code",
   "execution_count": 38,
   "metadata": {},
   "outputs": [
    {
     "data": {
      "text/plain": [
       "array(['20240219flow_exp20240216_p2_YL2bad',\n",
       "       '20240219flow_exp20240216_p3_YL2bad',\n",
       "       '20240219flow_exp20240216_p1_YL2bad'], dtype=object)"
      ]
     },
     "execution_count": 38,
     "metadata": {},
     "output_type": "execute_result"
    }
   ],
   "source": [
    "data_iRFP670gated.bioreplicate.unique()"
   ]
  },
  {
   "cell_type": "code",
   "execution_count": 47,
   "metadata": {},
   "outputs": [
    {
     "data": {
      "text/plain": [
       "4396.090493639658"
      ]
     },
     "metadata": {},
     "output_type": "display_data"
    },
    {
     "data": {
      "text/plain": [
       "2358.3772990137136"
      ]
     },
     "metadata": {},
     "output_type": "display_data"
    },
    {
     "data": {
      "text/plain": [
       "3051.001569802859"
      ]
     },
     "metadata": {},
     "output_type": "display_data"
    },
    {
     "data": {
      "text/plain": [
       "1178.0033279575173"
      ]
     },
     "metadata": {},
     "output_type": "display_data"
    },
    {
     "data": {
      "text/plain": [
       "7794.543490323419"
      ]
     },
     "metadata": {},
     "output_type": "display_data"
    },
    {
     "data": {
      "text/plain": [
       "3390.2564964066146"
      ]
     },
     "metadata": {},
     "output_type": "display_data"
    },
    {
     "data": {
      "text/plain": [
       "3776.6690766151764"
      ]
     },
     "metadata": {},
     "output_type": "display_data"
    },
    {
     "data": {
      "text/plain": [
       "1381.5195037953329"
      ]
     },
     "metadata": {},
     "output_type": "display_data"
    },
    {
     "data": {
      "text/plain": [
       "10706.289112434968"
      ]
     },
     "metadata": {},
     "output_type": "display_data"
    },
    {
     "data": {
      "text/plain": [
       "3759.5814261570004"
      ]
     },
     "metadata": {},
     "output_type": "display_data"
    },
    {
     "data": {
      "text/plain": [
       "4800.982137448553"
      ]
     },
     "metadata": {},
     "output_type": "display_data"
    },
    {
     "data": {
      "text/plain": [
       "1936.100649308566"
      ]
     },
     "metadata": {},
     "output_type": "display_data"
    },
    {
     "data": {
      "text/html": [
       "<div>\n",
       "<style scoped>\n",
       "    .dataframe tbody tr th:only-of-type {\n",
       "        vertical-align: middle;\n",
       "    }\n",
       "\n",
       "    .dataframe tbody tr th {\n",
       "        vertical-align: top;\n",
       "    }\n",
       "\n",
       "    .dataframe thead th {\n",
       "        text-align: right;\n",
       "    }\n",
       "</style>\n",
       "<table border=\"1\" class=\"dataframe\">\n",
       "  <thead>\n",
       "    <tr style=\"text-align: right;\">\n",
       "      <th></th>\n",
       "      <th>Rept</th>\n",
       "      <th>ZF</th>\n",
       "      <th>Cre</th>\n",
       "      <th>cond</th>\n",
       "      <th>bioreplicate_cond_rept</th>\n",
       "      <th>Rept.ZF.Cre</th>\n",
       "      <th>bioreplicate</th>\n",
       "      <th>mGL-A_gmean</th>\n",
       "      <th>TagBFP-A_gmean</th>\n",
       "      <th>mCherry-A_gmean</th>\n",
       "      <th>Fraction</th>\n",
       "      <th>Count</th>\n",
       "      <th>Normalized_mGL-A_gmean</th>\n",
       "    </tr>\n",
       "  </thead>\n",
       "  <tbody>\n",
       "    <tr>\n",
       "      <th>0</th>\n",
       "      <td>155bp</td>\n",
       "      <td>ZF37</td>\n",
       "      <td>Cre</td>\n",
       "      <td>ZF37. Cre</td>\n",
       "      <td>20240219flow_exp20240216_p2_YL2bad. 155bp. ZF3...</td>\n",
       "      <td>155bp.ZF37.Cre</td>\n",
       "      <td>20240219flow_exp20240216_p2_YL2bad</td>\n",
       "      <td>2853.933362</td>\n",
       "      <td>32.366605</td>\n",
       "      <td>468.514431</td>\n",
       "      <td>1.0</td>\n",
       "      <td>6087</td>\n",
       "      <td>1.210126</td>\n",
       "    </tr>\n",
       "    <tr>\n",
       "      <th>1</th>\n",
       "      <td>155bp</td>\n",
       "      <td>ZF37</td>\n",
       "      <td>noCre</td>\n",
       "      <td>ZF37. noCre</td>\n",
       "      <td>20240219flow_exp20240216_p2_YL2bad. 155bp. ZF3...</td>\n",
       "      <td>155bp.ZF37.noCre</td>\n",
       "      <td>20240219flow_exp20240216_p2_YL2bad</td>\n",
       "      <td>745.464802</td>\n",
       "      <td>34.269599</td>\n",
       "      <td>462.679617</td>\n",
       "      <td>1.0</td>\n",
       "      <td>5626</td>\n",
       "      <td>0.169574</td>\n",
       "    </tr>\n",
       "    <tr>\n",
       "      <th>2</th>\n",
       "      <td>155bp</td>\n",
       "      <td>ZF43</td>\n",
       "      <td>Cre</td>\n",
       "      <td>ZF43. Cre</td>\n",
       "      <td>20240219flow_exp20240216_p2_YL2bad. 155bp. ZF4...</td>\n",
       "      <td>155bp.ZF43.Cre</td>\n",
       "      <td>20240219flow_exp20240216_p2_YL2bad</td>\n",
       "      <td>1570.988836</td>\n",
       "      <td>289.907118</td>\n",
       "      <td>42.553647</td>\n",
       "      <td>1.0</td>\n",
       "      <td>8721</td>\n",
       "      <td>1.333603</td>\n",
       "    </tr>\n",
       "    <tr>\n",
       "      <th>3</th>\n",
       "      <td>155bp</td>\n",
       "      <td>ZF43</td>\n",
       "      <td>noCre</td>\n",
       "      <td>ZF43. noCre</td>\n",
       "      <td>20240219flow_exp20240216_p2_YL2bad. 155bp. ZF4...</td>\n",
       "      <td>155bp.ZF43.noCre</td>\n",
       "      <td>20240219flow_exp20240216_p2_YL2bad</td>\n",
       "      <td>592.833290</td>\n",
       "      <td>321.839081</td>\n",
       "      <td>41.838636</td>\n",
       "      <td>1.0</td>\n",
       "      <td>6107</td>\n",
       "      <td>0.194308</td>\n",
       "    </tr>\n",
       "    <tr>\n",
       "      <th>4</th>\n",
       "      <td>203bp</td>\n",
       "      <td>ZF37</td>\n",
       "      <td>Cre</td>\n",
       "      <td>ZF37. Cre</td>\n",
       "      <td>20240219flow_exp20240216_p2_YL2bad. 203bp. ZF3...</td>\n",
       "      <td>203bp.ZF37.Cre</td>\n",
       "      <td>20240219flow_exp20240216_p2_YL2bad</td>\n",
       "      <td>2177.859128</td>\n",
       "      <td>32.862587</td>\n",
       "      <td>463.050723</td>\n",
       "      <td>1.0</td>\n",
       "      <td>6611</td>\n",
       "      <td>0.923457</td>\n",
       "    </tr>\n",
       "    <tr>\n",
       "      <th>...</th>\n",
       "      <td>...</td>\n",
       "      <td>...</td>\n",
       "      <td>...</td>\n",
       "      <td>...</td>\n",
       "      <td>...</td>\n",
       "      <td>...</td>\n",
       "      <td>...</td>\n",
       "      <td>...</td>\n",
       "      <td>...</td>\n",
       "      <td>...</td>\n",
       "      <td>...</td>\n",
       "      <td>...</td>\n",
       "      <td>...</td>\n",
       "    </tr>\n",
       "    <tr>\n",
       "      <th>68</th>\n",
       "      <td>79bp</td>\n",
       "      <td>ZF43</td>\n",
       "      <td>noCre</td>\n",
       "      <td>ZF43. noCre</td>\n",
       "      <td>20240219flow_exp20240216_p1_YL2bad. 79bp. ZF43...</td>\n",
       "      <td>79bp.ZF43.noCre</td>\n",
       "      <td>20240219flow_exp20240216_p1_YL2bad</td>\n",
       "      <td>1989.733113</td>\n",
       "      <td>370.525420</td>\n",
       "      <td>42.338942</td>\n",
       "      <td>1.0</td>\n",
       "      <td>17669</td>\n",
       "      <td>0.414443</td>\n",
       "    </tr>\n",
       "    <tr>\n",
       "      <th>69</th>\n",
       "      <td>loxPcontrol</td>\n",
       "      <td>ZF37</td>\n",
       "      <td>Cre</td>\n",
       "      <td>ZF37. Cre</td>\n",
       "      <td>20240219flow_exp20240216_p1_YL2bad. loxPcontro...</td>\n",
       "      <td>loxPcontrol.ZF37.Cre</td>\n",
       "      <td>20240219flow_exp20240216_p1_YL2bad</td>\n",
       "      <td>3759.581426</td>\n",
       "      <td>32.350867</td>\n",
       "      <td>265.210986</td>\n",
       "      <td>1.0</td>\n",
       "      <td>6857</td>\n",
       "      <td>1.000000</td>\n",
       "    </tr>\n",
       "    <tr>\n",
       "      <th>70</th>\n",
       "      <td>loxPcontrol</td>\n",
       "      <td>ZF37</td>\n",
       "      <td>noCre</td>\n",
       "      <td>ZF37. noCre</td>\n",
       "      <td>20240219flow_exp20240216_p1_YL2bad. loxPcontro...</td>\n",
       "      <td>loxPcontrol.ZF37.noCre</td>\n",
       "      <td>20240219flow_exp20240216_p1_YL2bad</td>\n",
       "      <td>10706.289112</td>\n",
       "      <td>31.105794</td>\n",
       "      <td>317.599140</td>\n",
       "      <td>1.0</td>\n",
       "      <td>6269</td>\n",
       "      <td>1.000000</td>\n",
       "    </tr>\n",
       "    <tr>\n",
       "      <th>71</th>\n",
       "      <td>loxPcontrol</td>\n",
       "      <td>ZF43</td>\n",
       "      <td>Cre</td>\n",
       "      <td>ZF43. Cre</td>\n",
       "      <td>20240219flow_exp20240216_p1_YL2bad. loxPcontro...</td>\n",
       "      <td>loxPcontrol.ZF43.Cre</td>\n",
       "      <td>20240219flow_exp20240216_p1_YL2bad</td>\n",
       "      <td>1936.100649</td>\n",
       "      <td>240.696166</td>\n",
       "      <td>41.711146</td>\n",
       "      <td>1.0</td>\n",
       "      <td>8789</td>\n",
       "      <td>1.000000</td>\n",
       "    </tr>\n",
       "    <tr>\n",
       "      <th>72</th>\n",
       "      <td>loxPcontrol</td>\n",
       "      <td>ZF43</td>\n",
       "      <td>noCre</td>\n",
       "      <td>ZF43. noCre</td>\n",
       "      <td>20240219flow_exp20240216_p1_YL2bad. loxPcontro...</td>\n",
       "      <td>loxPcontrol.ZF43.noCre</td>\n",
       "      <td>20240219flow_exp20240216_p1_YL2bad</td>\n",
       "      <td>4800.982137</td>\n",
       "      <td>278.215396</td>\n",
       "      <td>41.362898</td>\n",
       "      <td>1.0</td>\n",
       "      <td>11199</td>\n",
       "      <td>1.000000</td>\n",
       "    </tr>\n",
       "  </tbody>\n",
       "</table>\n",
       "<p>73 rows × 13 columns</p>\n",
       "</div>"
      ],
      "text/plain": [
       "           Rept    ZF    Cre         cond  \\\n",
       "0         155bp  ZF37    Cre    ZF37. Cre   \n",
       "1         155bp  ZF37  noCre  ZF37. noCre   \n",
       "2         155bp  ZF43    Cre    ZF43. Cre   \n",
       "3         155bp  ZF43  noCre  ZF43. noCre   \n",
       "4         203bp  ZF37    Cre    ZF37. Cre   \n",
       "..          ...   ...    ...          ...   \n",
       "68         79bp  ZF43  noCre  ZF43. noCre   \n",
       "69  loxPcontrol  ZF37    Cre    ZF37. Cre   \n",
       "70  loxPcontrol  ZF37  noCre  ZF37. noCre   \n",
       "71  loxPcontrol  ZF43    Cre    ZF43. Cre   \n",
       "72  loxPcontrol  ZF43  noCre  ZF43. noCre   \n",
       "\n",
       "                               bioreplicate_cond_rept             Rept.ZF.Cre  \\\n",
       "0   20240219flow_exp20240216_p2_YL2bad. 155bp. ZF3...          155bp.ZF37.Cre   \n",
       "1   20240219flow_exp20240216_p2_YL2bad. 155bp. ZF3...        155bp.ZF37.noCre   \n",
       "2   20240219flow_exp20240216_p2_YL2bad. 155bp. ZF4...          155bp.ZF43.Cre   \n",
       "3   20240219flow_exp20240216_p2_YL2bad. 155bp. ZF4...        155bp.ZF43.noCre   \n",
       "4   20240219flow_exp20240216_p2_YL2bad. 203bp. ZF3...          203bp.ZF37.Cre   \n",
       "..                                                ...                     ...   \n",
       "68  20240219flow_exp20240216_p1_YL2bad. 79bp. ZF43...         79bp.ZF43.noCre   \n",
       "69  20240219flow_exp20240216_p1_YL2bad. loxPcontro...    loxPcontrol.ZF37.Cre   \n",
       "70  20240219flow_exp20240216_p1_YL2bad. loxPcontro...  loxPcontrol.ZF37.noCre   \n",
       "71  20240219flow_exp20240216_p1_YL2bad. loxPcontro...    loxPcontrol.ZF43.Cre   \n",
       "72  20240219flow_exp20240216_p1_YL2bad. loxPcontro...  loxPcontrol.ZF43.noCre   \n",
       "\n",
       "                          bioreplicate   mGL-A_gmean  TagBFP-A_gmean  \\\n",
       "0   20240219flow_exp20240216_p2_YL2bad   2853.933362       32.366605   \n",
       "1   20240219flow_exp20240216_p2_YL2bad    745.464802       34.269599   \n",
       "2   20240219flow_exp20240216_p2_YL2bad   1570.988836      289.907118   \n",
       "3   20240219flow_exp20240216_p2_YL2bad    592.833290      321.839081   \n",
       "4   20240219flow_exp20240216_p2_YL2bad   2177.859128       32.862587   \n",
       "..                                 ...           ...             ...   \n",
       "68  20240219flow_exp20240216_p1_YL2bad   1989.733113      370.525420   \n",
       "69  20240219flow_exp20240216_p1_YL2bad   3759.581426       32.350867   \n",
       "70  20240219flow_exp20240216_p1_YL2bad  10706.289112       31.105794   \n",
       "71  20240219flow_exp20240216_p1_YL2bad   1936.100649      240.696166   \n",
       "72  20240219flow_exp20240216_p1_YL2bad   4800.982137      278.215396   \n",
       "\n",
       "    mCherry-A_gmean  Fraction  Count  Normalized_mGL-A_gmean  \n",
       "0        468.514431       1.0   6087                1.210126  \n",
       "1        462.679617       1.0   5626                0.169574  \n",
       "2         42.553647       1.0   8721                1.333603  \n",
       "3         41.838636       1.0   6107                0.194308  \n",
       "4        463.050723       1.0   6611                0.923457  \n",
       "..              ...       ...    ...                     ...  \n",
       "68        42.338942       1.0  17669                0.414443  \n",
       "69       265.210986       1.0   6857                1.000000  \n",
       "70       317.599140       1.0   6269                1.000000  \n",
       "71        41.711146       1.0   8789                1.000000  \n",
       "72        41.362898       1.0  11199                1.000000  \n",
       "\n",
       "[73 rows x 13 columns]"
      ]
     },
     "metadata": {},
     "output_type": "display_data"
    }
   ],
   "source": [
    "# Normalized summary plots with 3 bioreps to loxP -/+ Cre\n",
    "\n",
    "bioreps_plot = pd.array(['20240219flow_exp20240216_p2_YL2bad','20240219flow_exp20240216_p3_YL2bad','20240219flow_exp20240216_p1_YL2bad', \n",
    "                         #'20240309flow_exp20240306', '20240314flow_exp20240311', '20240315flow_exp20240312'\n",
    "                         ])\n",
    "\n",
    "s_normalized = pd.DataFrame()\n",
    "\n",
    "for biorep in bioreps_plot:\n",
    "    df_biorep = data_iRFP670gated[data_iRFP670gated['bioreplicate'] == biorep] #choose dataframe\n",
    "    by = ['Rept', 'ZF', 'Cre','cond','bioreplicate_cond_rept','Rept.ZF.Cre','bioreplicate'] #how to filter results, columns \n",
    "    x = ['mGL-A', 'TagBFP-A', 'mCherry-A'] #which parameter to calculate results on\n",
    "    stat = [sp.stats.gmean] #statistics to calculate\n",
    "    s_biorep = calc_stats(df_biorep,by,x,stat) #calculate statistics \n",
    "\n",
    "    loxP_ZF37_noCre = s_biorep[s_biorep['Rept.ZF.Cre'] == 'loxPcontrol.ZF37.noCre']['mGL-A_gmean'].iloc[0]\n",
    "    display(loxP_ZF37_noCre)\n",
    "\n",
    "    loxP_ZF37_Cre = s_biorep[s_biorep['Rept.ZF.Cre'] == 'loxPcontrol.ZF37.Cre']['mGL-A_gmean'].iloc[0]\n",
    "    display(loxP_ZF37_Cre)\n",
    "\n",
    "    loxP_ZF43_noCre = s_biorep[s_biorep['Rept.ZF.Cre'] == 'loxPcontrol.ZF43.noCre']['mGL-A_gmean'].iloc[0]\n",
    "    display(loxP_ZF43_noCre)\n",
    "\n",
    "    loxP_ZF43_Cre = s_biorep[s_biorep['Rept.ZF.Cre'] == 'loxPcontrol.ZF43.Cre']['mGL-A_gmean'].iloc[0]\n",
    "    display(loxP_ZF43_Cre)\n",
    "\n",
    "    def normalize_mGL_gmean(row):\n",
    "        if row['ZF'] == 'ZF37':\n",
    "            if row['Cre'] == 'noCre':\n",
    "                return row['mGL-A_gmean'] / loxP_ZF37_noCre\n",
    "            else:\n",
    "                return row['mGL-A_gmean'] / loxP_ZF37_Cre\n",
    "        else:\n",
    "            if row['Cre'] == 'noCre':\n",
    "                return row['mGL-A_gmean'] / loxP_ZF43_noCre\n",
    "            else:\n",
    "                return row['mGL-A_gmean'] / loxP_ZF43_Cre\n",
    "            \n",
    "    s_biorep['Normalized_mGL-A_gmean'] = s_biorep.apply(normalize_mGL_gmean, axis=1)\n",
    "\n",
    "    s_normalized = pd.concat([s_normalized, s_biorep], ignore_index=True)\n",
    "\n",
    "display(s_normalized)"
   ]
  },
  {
   "cell_type": "markdown",
   "metadata": {},
   "source": [
    "## Normalize to within spacer"
   ]
  },
  {
   "cell_type": "code",
   "execution_count": 30,
   "metadata": {},
   "outputs": [
    {
     "data": {
      "text/plain": [
       "4396.090493639658"
      ]
     },
     "metadata": {},
     "output_type": "display_data"
    },
    {
     "data": {
      "text/plain": [
       "3051.001569802859"
      ]
     },
     "metadata": {},
     "output_type": "display_data"
    },
    {
     "data": {
      "text/plain": [
       "1640.152994184117"
      ]
     },
     "metadata": {},
     "output_type": "display_data"
    },
    {
     "data": {
      "text/plain": [
       "1177.8166578633725"
      ]
     },
     "metadata": {},
     "output_type": "display_data"
    },
    {
     "data": {
      "text/plain": [
       "1714.0171409126363"
      ]
     },
     "metadata": {},
     "output_type": "display_data"
    },
    {
     "data": {
      "text/plain": [
       "1276.528833830948"
      ]
     },
     "metadata": {},
     "output_type": "display_data"
    },
    {
     "data": {
      "text/plain": [
       "745.4648020926066"
      ]
     },
     "metadata": {},
     "output_type": "display_data"
    },
    {
     "data": {
      "text/plain": [
       "592.833290139712"
      ]
     },
     "metadata": {},
     "output_type": "display_data"
    },
    {
     "data": {
      "text/plain": [
       "373.27282828449484"
      ]
     },
     "metadata": {},
     "output_type": "display_data"
    },
    {
     "data": {
      "text/plain": [
       "307.20655416401496"
      ]
     },
     "metadata": {},
     "output_type": "display_data"
    },
    {
     "data": {
      "text/plain": [
       "358.3233108018767"
      ]
     },
     "metadata": {},
     "output_type": "display_data"
    },
    {
     "data": {
      "text/plain": [
       "442.38405740334287"
      ]
     },
     "metadata": {},
     "output_type": "display_data"
    },
    {
     "data": {
      "text/plain": [
       "7794.543490323419"
      ]
     },
     "metadata": {},
     "output_type": "display_data"
    },
    {
     "data": {
      "text/plain": [
       "3776.6690766151764"
      ]
     },
     "metadata": {},
     "output_type": "display_data"
    },
    {
     "data": {
      "text/plain": [
       "2352.509087637776"
      ]
     },
     "metadata": {},
     "output_type": "display_data"
    },
    {
     "data": {
      "text/plain": [
       "1223.3034599889363"
      ]
     },
     "metadata": {},
     "output_type": "display_data"
    },
    {
     "data": {
      "text/plain": [
       "2279.885471266608"
      ]
     },
     "metadata": {},
     "output_type": "display_data"
    },
    {
     "data": {
      "text/plain": [
       "1239.1415302833536"
      ]
     },
     "metadata": {},
     "output_type": "display_data"
    },
    {
     "data": {
      "text/plain": [
       "812.9451548437103"
      ]
     },
     "metadata": {},
     "output_type": "display_data"
    },
    {
     "data": {
      "text/plain": [
       "610.7486319071975"
      ]
     },
     "metadata": {},
     "output_type": "display_data"
    },
    {
     "data": {
      "text/plain": [
       "472.23871530210045"
      ]
     },
     "metadata": {},
     "output_type": "display_data"
    },
    {
     "data": {
      "text/plain": [
       "338.48691985578284"
      ]
     },
     "metadata": {},
     "output_type": "display_data"
    },
    {
     "data": {
      "text/plain": [
       "396.4835648391842"
      ]
     },
     "metadata": {},
     "output_type": "display_data"
    },
    {
     "data": {
      "text/plain": [
       "397.9207040117367"
      ]
     },
     "metadata": {},
     "output_type": "display_data"
    },
    {
     "data": {
      "text/plain": [
       "10706.289112434968"
      ]
     },
     "metadata": {},
     "output_type": "display_data"
    },
    {
     "data": {
      "text/plain": [
       "4800.982137448553"
      ]
     },
     "metadata": {},
     "output_type": "display_data"
    },
    {
     "data": {
      "text/plain": [
       "2416.404866086736"
      ]
     },
     "metadata": {},
     "output_type": "display_data"
    },
    {
     "data": {
      "text/plain": [
       "1561.2560139821535"
      ]
     },
     "metadata": {},
     "output_type": "display_data"
    },
    {
     "data": {
      "text/plain": [
       "3164.4766997094703"
      ]
     },
     "metadata": {},
     "output_type": "display_data"
    },
    {
     "data": {
      "text/plain": [
       "1989.7331127369491"
      ]
     },
     "metadata": {},
     "output_type": "display_data"
    },
    {
     "data": {
      "text/plain": [
       "675.4050120712393"
      ]
     },
     "metadata": {},
     "output_type": "display_data"
    },
    {
     "data": {
      "text/plain": [
       "385.3039714261969"
      ]
     },
     "metadata": {},
     "output_type": "display_data"
    },
    {
     "data": {
      "text/plain": [
       "383.9075793295602"
      ]
     },
     "metadata": {},
     "output_type": "display_data"
    },
    {
     "data": {
      "text/plain": [
       "245.46556880333952"
      ]
     },
     "metadata": {},
     "output_type": "display_data"
    },
    {
     "data": {
      "text/plain": [
       "349.50118938566806"
      ]
     },
     "metadata": {},
     "output_type": "display_data"
    },
    {
     "data": {
      "text/plain": [
       "274.51374242278723"
      ]
     },
     "metadata": {},
     "output_type": "display_data"
    },
    {
     "data": {
      "text/html": [
       "<div>\n",
       "<style scoped>\n",
       "    .dataframe tbody tr th:only-of-type {\n",
       "        vertical-align: middle;\n",
       "    }\n",
       "\n",
       "    .dataframe tbody tr th {\n",
       "        vertical-align: top;\n",
       "    }\n",
       "\n",
       "    .dataframe thead th {\n",
       "        text-align: right;\n",
       "    }\n",
       "</style>\n",
       "<table border=\"1\" class=\"dataframe\">\n",
       "  <thead>\n",
       "    <tr style=\"text-align: right;\">\n",
       "      <th></th>\n",
       "      <th>Rept</th>\n",
       "      <th>ZF</th>\n",
       "      <th>Cre</th>\n",
       "      <th>cond</th>\n",
       "      <th>bioreplicate_cond_rept</th>\n",
       "      <th>bioreplicate</th>\n",
       "      <th>mGL-A_gmean</th>\n",
       "      <th>TagBFP-A_gmean</th>\n",
       "      <th>mCherry-A_gmean</th>\n",
       "      <th>Fraction</th>\n",
       "      <th>Count</th>\n",
       "      <th>Normalized_mGL-A_gmean</th>\n",
       "    </tr>\n",
       "  </thead>\n",
       "  <tbody>\n",
       "    <tr>\n",
       "      <th>0</th>\n",
       "      <td>155bp</td>\n",
       "      <td>ZF37</td>\n",
       "      <td>Cre</td>\n",
       "      <td>ZF37. Cre</td>\n",
       "      <td>20240219flow_exp20240216_p2_YL2bad. 155bp. ZF3...</td>\n",
       "      <td>20240219flow_exp20240216_p2_YL2bad</td>\n",
       "      <td>2853.933362</td>\n",
       "      <td>32.366605</td>\n",
       "      <td>468.514431</td>\n",
       "      <td>1.0</td>\n",
       "      <td>6087</td>\n",
       "      <td>3.828395</td>\n",
       "    </tr>\n",
       "    <tr>\n",
       "      <th>1</th>\n",
       "      <td>155bp</td>\n",
       "      <td>ZF37</td>\n",
       "      <td>noCre</td>\n",
       "      <td>ZF37. noCre</td>\n",
       "      <td>20240219flow_exp20240216_p2_YL2bad. 155bp. ZF3...</td>\n",
       "      <td>20240219flow_exp20240216_p2_YL2bad</td>\n",
       "      <td>745.464802</td>\n",
       "      <td>34.269599</td>\n",
       "      <td>462.679617</td>\n",
       "      <td>1.0</td>\n",
       "      <td>5626</td>\n",
       "      <td>1.000000</td>\n",
       "    </tr>\n",
       "    <tr>\n",
       "      <th>2</th>\n",
       "      <td>155bp</td>\n",
       "      <td>ZF43</td>\n",
       "      <td>Cre</td>\n",
       "      <td>ZF43. Cre</td>\n",
       "      <td>20240219flow_exp20240216_p2_YL2bad. 155bp. ZF4...</td>\n",
       "      <td>20240219flow_exp20240216_p2_YL2bad</td>\n",
       "      <td>1570.988836</td>\n",
       "      <td>289.907118</td>\n",
       "      <td>42.553647</td>\n",
       "      <td>1.0</td>\n",
       "      <td>8721</td>\n",
       "      <td>2.649967</td>\n",
       "    </tr>\n",
       "    <tr>\n",
       "      <th>3</th>\n",
       "      <td>155bp</td>\n",
       "      <td>ZF43</td>\n",
       "      <td>noCre</td>\n",
       "      <td>ZF43. noCre</td>\n",
       "      <td>20240219flow_exp20240216_p2_YL2bad. 155bp. ZF4...</td>\n",
       "      <td>20240219flow_exp20240216_p2_YL2bad</td>\n",
       "      <td>592.833290</td>\n",
       "      <td>321.839081</td>\n",
       "      <td>41.838636</td>\n",
       "      <td>1.0</td>\n",
       "      <td>6107</td>\n",
       "      <td>1.000000</td>\n",
       "    </tr>\n",
       "    <tr>\n",
       "      <th>4</th>\n",
       "      <td>203bp</td>\n",
       "      <td>ZF37</td>\n",
       "      <td>Cre</td>\n",
       "      <td>ZF37. Cre</td>\n",
       "      <td>20240219flow_exp20240216_p2_YL2bad. 203bp. ZF3...</td>\n",
       "      <td>20240219flow_exp20240216_p2_YL2bad</td>\n",
       "      <td>2177.859128</td>\n",
       "      <td>32.862587</td>\n",
       "      <td>463.050723</td>\n",
       "      <td>1.0</td>\n",
       "      <td>6611</td>\n",
       "      <td>5.834497</td>\n",
       "    </tr>\n",
       "    <tr>\n",
       "      <th>...</th>\n",
       "      <td>...</td>\n",
       "      <td>...</td>\n",
       "      <td>...</td>\n",
       "      <td>...</td>\n",
       "      <td>...</td>\n",
       "      <td>...</td>\n",
       "      <td>...</td>\n",
       "      <td>...</td>\n",
       "      <td>...</td>\n",
       "      <td>...</td>\n",
       "      <td>...</td>\n",
       "      <td>...</td>\n",
       "    </tr>\n",
       "    <tr>\n",
       "      <th>68</th>\n",
       "      <td>79bp</td>\n",
       "      <td>ZF43</td>\n",
       "      <td>noCre</td>\n",
       "      <td>ZF43. noCre</td>\n",
       "      <td>20240219flow_exp20240216_p1_YL2bad. 79bp. ZF43...</td>\n",
       "      <td>20240219flow_exp20240216_p1_YL2bad</td>\n",
       "      <td>1989.733113</td>\n",
       "      <td>370.525420</td>\n",
       "      <td>42.338942</td>\n",
       "      <td>1.0</td>\n",
       "      <td>17669</td>\n",
       "      <td>1.000000</td>\n",
       "    </tr>\n",
       "    <tr>\n",
       "      <th>69</th>\n",
       "      <td>loxPcontrol</td>\n",
       "      <td>ZF37</td>\n",
       "      <td>Cre</td>\n",
       "      <td>ZF37. Cre</td>\n",
       "      <td>20240219flow_exp20240216_p1_YL2bad. loxPcontro...</td>\n",
       "      <td>20240219flow_exp20240216_p1_YL2bad</td>\n",
       "      <td>3759.581426</td>\n",
       "      <td>32.350867</td>\n",
       "      <td>265.210986</td>\n",
       "      <td>1.0</td>\n",
       "      <td>6857</td>\n",
       "      <td>0.351156</td>\n",
       "    </tr>\n",
       "    <tr>\n",
       "      <th>70</th>\n",
       "      <td>loxPcontrol</td>\n",
       "      <td>ZF37</td>\n",
       "      <td>noCre</td>\n",
       "      <td>ZF37. noCre</td>\n",
       "      <td>20240219flow_exp20240216_p1_YL2bad. loxPcontro...</td>\n",
       "      <td>20240219flow_exp20240216_p1_YL2bad</td>\n",
       "      <td>10706.289112</td>\n",
       "      <td>31.105794</td>\n",
       "      <td>317.599140</td>\n",
       "      <td>1.0</td>\n",
       "      <td>6269</td>\n",
       "      <td>1.000000</td>\n",
       "    </tr>\n",
       "    <tr>\n",
       "      <th>71</th>\n",
       "      <td>loxPcontrol</td>\n",
       "      <td>ZF43</td>\n",
       "      <td>Cre</td>\n",
       "      <td>ZF43. Cre</td>\n",
       "      <td>20240219flow_exp20240216_p1_YL2bad. loxPcontro...</td>\n",
       "      <td>20240219flow_exp20240216_p1_YL2bad</td>\n",
       "      <td>1936.100649</td>\n",
       "      <td>240.696166</td>\n",
       "      <td>41.711146</td>\n",
       "      <td>1.0</td>\n",
       "      <td>8789</td>\n",
       "      <td>0.403272</td>\n",
       "    </tr>\n",
       "    <tr>\n",
       "      <th>72</th>\n",
       "      <td>loxPcontrol</td>\n",
       "      <td>ZF43</td>\n",
       "      <td>noCre</td>\n",
       "      <td>ZF43. noCre</td>\n",
       "      <td>20240219flow_exp20240216_p1_YL2bad. loxPcontro...</td>\n",
       "      <td>20240219flow_exp20240216_p1_YL2bad</td>\n",
       "      <td>4800.982137</td>\n",
       "      <td>278.215396</td>\n",
       "      <td>41.362898</td>\n",
       "      <td>1.0</td>\n",
       "      <td>11199</td>\n",
       "      <td>1.000000</td>\n",
       "    </tr>\n",
       "  </tbody>\n",
       "</table>\n",
       "<p>73 rows × 12 columns</p>\n",
       "</div>"
      ],
      "text/plain": [
       "           Rept    ZF    Cre         cond  \\\n",
       "0         155bp  ZF37    Cre    ZF37. Cre   \n",
       "1         155bp  ZF37  noCre  ZF37. noCre   \n",
       "2         155bp  ZF43    Cre    ZF43. Cre   \n",
       "3         155bp  ZF43  noCre  ZF43. noCre   \n",
       "4         203bp  ZF37    Cre    ZF37. Cre   \n",
       "..          ...   ...    ...          ...   \n",
       "68         79bp  ZF43  noCre  ZF43. noCre   \n",
       "69  loxPcontrol  ZF37    Cre    ZF37. Cre   \n",
       "70  loxPcontrol  ZF37  noCre  ZF37. noCre   \n",
       "71  loxPcontrol  ZF43    Cre    ZF43. Cre   \n",
       "72  loxPcontrol  ZF43  noCre  ZF43. noCre   \n",
       "\n",
       "                               bioreplicate_cond_rept  \\\n",
       "0   20240219flow_exp20240216_p2_YL2bad. 155bp. ZF3...   \n",
       "1   20240219flow_exp20240216_p2_YL2bad. 155bp. ZF3...   \n",
       "2   20240219flow_exp20240216_p2_YL2bad. 155bp. ZF4...   \n",
       "3   20240219flow_exp20240216_p2_YL2bad. 155bp. ZF4...   \n",
       "4   20240219flow_exp20240216_p2_YL2bad. 203bp. ZF3...   \n",
       "..                                                ...   \n",
       "68  20240219flow_exp20240216_p1_YL2bad. 79bp. ZF43...   \n",
       "69  20240219flow_exp20240216_p1_YL2bad. loxPcontro...   \n",
       "70  20240219flow_exp20240216_p1_YL2bad. loxPcontro...   \n",
       "71  20240219flow_exp20240216_p1_YL2bad. loxPcontro...   \n",
       "72  20240219flow_exp20240216_p1_YL2bad. loxPcontro...   \n",
       "\n",
       "                          bioreplicate   mGL-A_gmean  TagBFP-A_gmean  \\\n",
       "0   20240219flow_exp20240216_p2_YL2bad   2853.933362       32.366605   \n",
       "1   20240219flow_exp20240216_p2_YL2bad    745.464802       34.269599   \n",
       "2   20240219flow_exp20240216_p2_YL2bad   1570.988836      289.907118   \n",
       "3   20240219flow_exp20240216_p2_YL2bad    592.833290      321.839081   \n",
       "4   20240219flow_exp20240216_p2_YL2bad   2177.859128       32.862587   \n",
       "..                                 ...           ...             ...   \n",
       "68  20240219flow_exp20240216_p1_YL2bad   1989.733113      370.525420   \n",
       "69  20240219flow_exp20240216_p1_YL2bad   3759.581426       32.350867   \n",
       "70  20240219flow_exp20240216_p1_YL2bad  10706.289112       31.105794   \n",
       "71  20240219flow_exp20240216_p1_YL2bad   1936.100649      240.696166   \n",
       "72  20240219flow_exp20240216_p1_YL2bad   4800.982137      278.215396   \n",
       "\n",
       "    mCherry-A_gmean  Fraction  Count  Normalized_mGL-A_gmean  \n",
       "0        468.514431       1.0   6087                3.828395  \n",
       "1        462.679617       1.0   5626                1.000000  \n",
       "2         42.553647       1.0   8721                2.649967  \n",
       "3         41.838636       1.0   6107                1.000000  \n",
       "4        463.050723       1.0   6611                5.834497  \n",
       "..              ...       ...    ...                     ...  \n",
       "68        42.338942       1.0  17669                1.000000  \n",
       "69       265.210986       1.0   6857                0.351156  \n",
       "70       317.599140       1.0   6269                1.000000  \n",
       "71        41.711146       1.0   8789                0.403272  \n",
       "72        41.362898       1.0  11199                1.000000  \n",
       "\n",
       "[73 rows x 12 columns]"
      ]
     },
     "metadata": {},
     "output_type": "display_data"
    }
   ],
   "source": [
    "# Normalized summary plots with 3 bioreps to within spacer, +ZF -Cre\n",
    "\n",
    "bioreps_plot = pd.array(['20240219flow_exp20240216_p2_YL2bad','20240219flow_exp20240216_p3_YL2bad','20240219flow_exp20240216_p1_YL2bad',\n",
    "                         #'20240309flow_exp20240306', '20240314flow_exp20240311', '20240315flow_exp20240312'\n",
    "                         ])\n",
    "\n",
    "s_normalized = pd.DataFrame()\n",
    "\n",
    "for biorep in bioreps_plot:\n",
    "    df_biorep = data_iRFP670gated[data_iRFP670gated['bioreplicate'] == biorep] #choose dataframe\n",
    "    by = ['Rept', 'ZF', 'Cre','cond','bioreplicate_cond_rept','bioreplicate'] #how to filter results, columns \n",
    "    x = ['mGL-A', 'TagBFP-A', 'mCherry-A'] #which parameter to calculate results on\n",
    "    stat = [sp.stats.gmean] #statistics to calculate\n",
    "    s_biorep = calc_stats(df_biorep,by,x,stat) #calculate statistics \n",
    "\n",
    "    loxP_ZF37_noCre = s_biorep[(s_biorep['Rept'] == 'loxPcontrol') & (s_biorep['Cre'] == 'noCre') & (s_biorep['ZF'] == 'ZF37')]['mGL-A_gmean'].iloc[0]\n",
    "    display(loxP_ZF37_noCre)\n",
    "\n",
    "    loxP_ZF43_noCre = s_biorep[(s_biorep['Rept'] == 'loxPcontrol') & (s_biorep['Cre'] == 'noCre') & (s_biorep['ZF'] == 'ZF43')]['mGL-A_gmean'].iloc[0]\n",
    "    display(loxP_ZF43_noCre)\n",
    "\n",
    "    s27bp_ZF37_noCre = s_biorep[(s_biorep['Rept'] == '27bp') & (s_biorep['Cre'] == 'noCre') & (s_biorep['ZF'] == 'ZF37')]['mGL-A_gmean'].iloc[0]\n",
    "    display(s27bp_ZF37_noCre)\n",
    "\n",
    "    s27bp_ZF43_noCre = s_biorep[(s_biorep['Rept'] == '27bp') & (s_biorep['Cre'] == 'noCre') & (s_biorep['ZF'] == 'ZF43')]['mGL-A_gmean'].iloc[0]\n",
    "    display(s27bp_ZF43_noCre)\n",
    "\n",
    "    if '79bp' in s_biorep['Rept'].values:\n",
    "        s79bp_ZF37_noCre = s_biorep[(s_biorep['Rept'] == '79bp') & (s_biorep['Cre'] == 'noCre') & (s_biorep['ZF'] == 'ZF37')]['mGL-A_gmean'].iloc[0]\n",
    "        display(s79bp_ZF37_noCre)\n",
    "\n",
    "    if '79bp' in s_biorep['Rept'].values:\n",
    "        s79bp_ZF43_noCre = s_biorep[(s_biorep['Rept'] == '79bp') & (s_biorep['Cre'] == 'noCre') & (s_biorep['ZF'] == 'ZF43')]['mGL-A_gmean'].iloc[0]\n",
    "        display(s79bp_ZF43_noCre)\n",
    "\n",
    "    s155bp_ZF37_noCre = s_biorep[(s_biorep['Rept'] == '155bp') & (s_biorep['Cre'] == 'noCre') & (s_biorep['ZF'] == 'ZF37')]['mGL-A_gmean'].iloc[0]\n",
    "    display(s155bp_ZF37_noCre)\n",
    "\n",
    "    s155bp_ZF43_noCre = s_biorep[(s_biorep['Rept'] == '155bp') & (s_biorep['Cre'] == 'noCre') & (s_biorep['ZF'] == 'ZF43')]['mGL-A_gmean'].iloc[0]\n",
    "    display(s155bp_ZF43_noCre)\n",
    "\n",
    "    s203bp_ZF37_noCre = s_biorep[(s_biorep['Rept'] == '203bp') & (s_biorep['Cre'] == 'noCre') & (s_biorep['ZF'] == 'ZF37')]['mGL-A_gmean'].iloc[0]\n",
    "    display(s203bp_ZF37_noCre)\n",
    "\n",
    "    s203bp_ZF43_noCre = s_biorep[(s_biorep['Rept'] == '203bp') & (s_biorep['Cre'] == 'noCre') & (s_biorep['ZF'] == 'ZF43')]['mGL-A_gmean'].iloc[0]\n",
    "    display(s203bp_ZF43_noCre)\n",
    "\n",
    "    s263bp_ZF37_noCre = s_biorep[(s_biorep['Rept'] == '263bp') & (s_biorep['Cre'] == 'noCre') & (s_biorep['ZF'] == 'ZF37')]['mGL-A_gmean'].iloc[0]\n",
    "    display(s263bp_ZF37_noCre)\n",
    "\n",
    "    s263bp_ZF43_noCre = s_biorep[(s_biorep['Rept'] == '263bp') & (s_biorep['Cre'] == 'noCre') & (s_biorep['ZF'] == 'ZF43')]['mGL-A_gmean'].iloc[0]\n",
    "    display(s263bp_ZF43_noCre)\n",
    "\n",
    "    def normalize_mGL_gmean(row):\n",
    "        if row['Rept'] == 'loxPcontrol':\n",
    "            if row['ZF'] == 'ZF37':\n",
    "                return row['mGL-A_gmean'] / loxP_ZF37_noCre\n",
    "            else:\n",
    "                return row['mGL-A_gmean'] / loxP_ZF43_noCre\n",
    "        elif row['Rept'] == '27bp':\n",
    "            if row['ZF'] == 'ZF37':\n",
    "                return row['mGL-A_gmean'] / s27bp_ZF37_noCre\n",
    "            else:\n",
    "                return row['mGL-A_gmean'] / s27bp_ZF43_noCre\n",
    "        elif row['Rept'] == '79bp':\n",
    "            if row['ZF'] == 'ZF37':\n",
    "                return row['mGL-A_gmean'] / s79bp_ZF37_noCre\n",
    "            else:\n",
    "                return row['mGL-A_gmean'] / s79bp_ZF43_noCre\n",
    "        elif row['Rept'] == '155bp':\n",
    "            if row['ZF'] == 'ZF37':\n",
    "                return row['mGL-A_gmean'] / s155bp_ZF37_noCre\n",
    "            else:\n",
    "                return row['mGL-A_gmean'] / s155bp_ZF43_noCre\n",
    "        elif row['Rept'] == '203bp':\n",
    "            if row['ZF'] == 'ZF37':\n",
    "                return row['mGL-A_gmean'] / s203bp_ZF37_noCre\n",
    "            else:\n",
    "                return row['mGL-A_gmean'] / s203bp_ZF43_noCre\n",
    "        elif row['Rept'] == '263bp':\n",
    "            if row['ZF'] == 'ZF37':\n",
    "                return row['mGL-A_gmean'] / s263bp_ZF37_noCre\n",
    "            else:\n",
    "                return row['mGL-A_gmean'] / s263bp_ZF43_noCre\n",
    "            \n",
    "    s_biorep['Normalized_mGL-A_gmean'] = s_biorep.apply(normalize_mGL_gmean, axis=1)\n",
    "\n",
    "    s_normalized = pd.concat([s_normalized, s_biorep], ignore_index=True)\n",
    "\n",
    "display(s_normalized)\n",
    "s_normalized[['Rept','cond','mGL-A_gmean','Normalized_mGL-A_gmean']].to_excel('Fig1E_S5B_normalized spacerlength.xlsx',index=False)"
   ]
  },
  {
   "cell_type": "markdown",
   "metadata": {},
   "source": [
    "## Plot Normalized To Within Spacer (Fold Change) _Fig1E, S5B"
   ]
  },
  {
   "cell_type": "code",
   "execution_count": 50,
   "metadata": {},
   "outputs": [
    {
     "data": {
      "image/png": "[encoded data removed]",
      "text/plain": [
       "<Figure size 360x180 with 1 Axes>"
      ]
     },
     "metadata": {
      "needs_background": "light"
     },
     "output_type": "display_data"
    },
    {
     "data": {
      "text/plain": [
       "<Figure size 432x288 with 0 Axes>"
      ]
     },
     "metadata": {},
     "output_type": "display_data"
    }
   ],
   "source": [
    "#Plot Fold Change for ZF37 or ZF43 (comment out the relevant parts)\n",
    "\n",
    "#Same palette as before \n",
    "palette = {'ZF37. noCre': '#C3DB9A',\n",
    "           'ZF37. Cre': '#69B645', \n",
    "           'ZF43. noCre': '#C3DB9A',\n",
    "           'ZF43. Cre': '#69B645'\n",
    "}\n",
    "\n",
    "#Hue-order is only ZF37\n",
    "# hue_order =  ['ZF37. noCre',\n",
    "#            'ZF37. Cre']\n",
    "\n",
    "hue_order =  ['ZF43. noCre',\n",
    "           'ZF43. Cre']\n",
    "\n",
    "#List of stats to plot \n",
    "stats_plot = pd.array( ['Normalized_mGL-A_gmean'])\n",
    "#set plotting parameters \n",
    "order_repts = pd.array( ['loxPcontrol', '27bp', '79bp', '155bp', '203bp', '263bp'])\n",
    "order = order_repts; x = 'Rept'; hue='cond'; yscale= 'linear'\n",
    "ylim = []\n",
    "#Only plot some reporters\n",
    "data_now = s_normalized[s_normalized['Rept'].isin(order_repts)]\n",
    "data_now = data_now[data_now['cond'].isin(hue_order)]\n",
    "#display(data_now)\n",
    "\n",
    "ylabel = 'Fold Change'\n",
    "\n",
    "fontsize = 15; xsize =5; ysize=2.5\n",
    "\n",
    "for stat in stats_plot:\n",
    "    y = stat # set the stat to plot\n",
    "    plottitle = y + ' 0.125xZF43'\n",
    "    plt.figure(figsize=(xsize,ysize))\n",
    "    plt.axhline(y=1, ls='--', color=palette['ZF37. noCre'])\n",
    "    g = summary_plot( x=x, y=y, hue=hue, data=data_now,\n",
    "                     yscale =yscale, fontsize = fontsize,\n",
    "                    x_rot=45, palette = palette, order=order, ylabel=ylabel,\n",
    "                    hue_order=hue_order, plottitle=plottitle, type='pointplot',\n",
    "                    axis_lines = {'top': False, 'bottom': True, 'left': True, 'right': False}, \n",
    "                    legend=False)\n",
    "    g.figure.savefig(figure_folder + plottitle + '.svg',dpi=300,bbox_inches='tight')"
   ]
  },
  {
   "attachments": {},
   "cell_type": "markdown",
   "metadata": {},
   "source": [
    "## 203bp, 155bp 5 setpoints"
   ]
  },
  {
   "cell_type": "code",
   "execution_count": 42,
   "metadata": {},
   "outputs": [],
   "source": [
    "palette = {'ZF43. noCre': 'deepskyblue',\n",
    "           'ZF43. Cre': 'blue',\n",
    "           'ZF37. noCre': 'darksalmon',\n",
    "           'ZF37. Cre': 'red'\n",
    "}\n",
    "\n",
    "hue_order = pd.array(['ZF43. noCre',\n",
    "             \n",
    "             'ZF37. noCre',\n",
    "             'ZF43. Cre',\n",
    "           'ZF37. Cre'\n",
    "])"
   ]
  },
  {
   "cell_type": "code",
   "execution_count": 43,
   "metadata": {},
   "outputs": [
    {
     "name": "stdout",
     "output_type": "stream",
     "text": [
      "p-value annotation legend:\n",
      "ns: 5.00e-02 < p <= 1.00e+00\n",
      "*: 1.00e-02 < p <= 5.00e-02\n",
      "**: 1.00e-03 < p <= 1.00e-02\n",
      "***: 1.00e-04 < p <= 1.00e-03\n",
      "****: p <= 1.00e-04\n",
      "\n",
      "203bp_ZF43. Cre v.s. 203bp_ZF37. Cre: t-test independent samples, P_val=3.561e-03 stat=-6.143e+00\n",
      "203bp_ZF43. noCre v.s. 203bp_ZF37. noCre: t-test independent samples, P_val=5.352e-02 stat=-2.710e+00\n",
      "203bp_ZF37. noCre v.s. 203bp_ZF37. Cre: t-test independent samples, P_val=3.711e-04 stat=-1.113e+01\n",
      "203bp_ZF43. noCre v.s. 203bp_ZF43. Cre: t-test independent samples, P_val=1.490e-04 stat=-1.405e+01\n"
     ]
    },
    {
     "data": {
      "image/png": "[encoded data removed]",
      "text/plain": [
       "<Figure size 432x288 with 1 Axes>"
      ]
     },
     "metadata": {
      "needs_background": "light"
     },
     "output_type": "display_data"
    },
    {
     "data": {
      "image/png": "[encoded data removed]",
      "text/plain": [
       "<Figure size 432x288 with 1 Axes>"
      ]
     },
     "metadata": {
      "needs_background": "light"
     },
     "output_type": "display_data"
    },
    {
     "name": "stdout",
     "output_type": "stream",
     "text": [
      "p-value annotation legend:\n",
      "ns: 5.00e-02 < p <= 1.00e+00\n",
      "*: 1.00e-02 < p <= 5.00e-02\n",
      "**: 1.00e-03 < p <= 1.00e-02\n",
      "***: 1.00e-04 < p <= 1.00e-03\n",
      "****: p <= 1.00e-04\n",
      "\n",
      "203bp_ZF43. Cre v.s. 203bp_ZF37. Cre: t-test independent samples, P_val=8.320e-05 stat=1.629e+01\n",
      "203bp_ZF43. noCre v.s. 203bp_ZF37. noCre: t-test independent samples, P_val=1.680e-04 stat=1.363e+01\n",
      "203bp_ZF37. noCre v.s. 203bp_ZF37. Cre: t-test independent samples, P_val=7.136e-03 stat=5.069e+00\n",
      "203bp_ZF43. noCre v.s. 203bp_ZF43. Cre: t-test independent samples, P_val=1.372e-01 stat=-1.855e+00\n"
     ]
    },
    {
     "data": {
      "image/png": "[encoded data removed]",
      "text/plain": [
       "<Figure size 432x288 with 1 Axes>"
      ]
     },
     "metadata": {
      "needs_background": "light"
     },
     "output_type": "display_data"
    },
    {
     "data": {
      "image/png": "[encoded data removed]",
      "text/plain": [
       "<Figure size 432x288 with 1 Axes>"
      ]
     },
     "metadata": {
      "needs_background": "light"
     },
     "output_type": "display_data"
    },
    {
     "name": "stdout",
     "output_type": "stream",
     "text": [
      "p-value annotation legend:\n",
      "ns: 5.00e-02 < p <= 1.00e+00\n",
      "*: 1.00e-02 < p <= 5.00e-02\n",
      "**: 1.00e-03 < p <= 1.00e-02\n",
      "***: 1.00e-04 < p <= 1.00e-03\n",
      "****: p <= 1.00e-04\n",
      "\n",
      "203bp_ZF43. Cre v.s. 203bp_ZF37. Cre: t-test independent samples, P_val=1.354e-04 stat=-1.439e+01\n",
      "203bp_ZF43. noCre v.s. 203bp_ZF37. noCre: t-test independent samples, P_val=5.599e-05 stat=-1.800e+01\n",
      "203bp_ZF37. noCre v.s. 203bp_ZF37. Cre: t-test independent samples, P_val=6.840e-01 stat=-4.380e-01\n",
      "203bp_ZF43. noCre v.s. 203bp_ZF43. Cre: t-test independent samples, P_val=5.479e-01 stat=-6.555e-01\n"
     ]
    },
    {
     "data": {
      "image/png": "[encoded data removed]",
      "text/plain": [
       "<Figure size 432x288 with 1 Axes>"
      ]
     },
     "metadata": {
      "needs_background": "light"
     },
     "output_type": "display_data"
    },
    {
     "data": {
      "image/png": "[encoded data removed]",
      "text/plain": [
       "<Figure size 432x288 with 1 Axes>"
      ]
     },
     "metadata": {
      "needs_background": "light"
     },
     "output_type": "display_data"
    },
    {
     "data": {
      "text/plain": [
       "<Figure size 432x288 with 0 Axes>"
      ]
     },
     "metadata": {},
     "output_type": "display_data"
    }
   ],
   "source": [
    "#Plot summary plot for the desired statistics\n",
    "\n",
    "#List of stats to plot \n",
    "stats_plot = pd.array( ['mGL-A_gmean', 'TagBFP-A_gmean', 'mCherry-A_gmean'])\n",
    "#set plotting parameters \n",
    "order_repts = pd.array( ['203bp'])\n",
    "order = order_repts; palette = palette; hue_order = hue_order; x = 'Rept'; hue='cond'; yscale= 'log'\n",
    "ylim = [1e2, 1e4]\n",
    "\n",
    "#Only plot some reporters\n",
    "data_now = s_bioreplicate[s_bioreplicate['Rept'].isin(order_repts)]\n",
    "data_now = data_now[data_now['cond'].isin(hue_order)]\n",
    "#display(data_now)\n",
    "\n",
    "#Set p-value significance comparisons \n",
    "pairs = [\n",
    "       [('203bp',  'ZF43. noCre'), ('203bp', 'ZF43. Cre')],\n",
    "       [('203bp',  'ZF43. noCre'), ('203bp', 'ZF37. noCre')],\n",
    "       [('203bp',  'ZF43. Cre'), ('203bp', 'ZF37. Cre')],\n",
    "       [('203bp',  'ZF37. noCre'), ('203bp', 'ZF37. Cre')], # +ZF43, -/+ Cre\n",
    "\n",
    "       ]\n",
    "\n",
    "for stat in stats_plot:\n",
    "    y = stat # set the stat to plot\n",
    "    plottitle = y + ' grouped bioreplicate'\n",
    "    plt.yscale(yscale)\n",
    "    g = summary_plot( x=x, y=y, hue=hue, data=data_now, pairs=pairs, ylim=ylim, yscale =yscale,\n",
    "                    x_rot=45, aspect = 2.5, palette = palette, order=order, hue_order=hue_order, plottitle=plottitle,legend=False)\n",
    "    g.figure.savefig(figure_folder + plottitle + '0.125xZF_203bp' + '.svg',dpi=300,bbox_inches='tight')"
   ]
  },
  {
   "cell_type": "code",
   "execution_count": 44,
   "metadata": {},
   "outputs": [
    {
     "name": "stdout",
     "output_type": "stream",
     "text": [
      "p-value annotation legend:\n",
      "ns: 5.00e-02 < p <= 1.00e+00\n",
      "*: 1.00e-02 < p <= 5.00e-02\n",
      "**: 1.00e-03 < p <= 1.00e-02\n",
      "***: 1.00e-04 < p <= 1.00e-03\n",
      "****: p <= 1.00e-04\n",
      "\n",
      "203bp_ZF43. Cre v.s. 203bp_ZF37. Cre: t-test independent samples, P_val=1.681e-03 stat=-7.511e+00\n",
      "203bp_ZF37. noCre v.s. 203bp_ZF37. Cre: t-test independent samples, P_val=4.926e-09 stat=-1.868e+02\n",
      "203bp_ZF43. noCre v.s. 203bp_ZF43. Cre: t-test independent samples, P_val=1.023e-04 stat=-1.545e+01\n"
     ]
    },
    {
     "data": {
      "image/png": "[encoded data removed]",
      "text/plain": [
       "<Figure size 432x288 with 1 Axes>"
      ]
     },
     "metadata": {
      "needs_background": "light"
     },
     "output_type": "display_data"
    },
    {
     "data": {
      "image/png": "[encoded data removed]",
      "text/plain": [
       "<Figure size 432x288 with 1 Axes>"
      ]
     },
     "metadata": {
      "needs_background": "light"
     },
     "output_type": "display_data"
    },
    {
     "data": {
      "text/plain": [
       "<Figure size 432x288 with 0 Axes>"
      ]
     },
     "metadata": {},
     "output_type": "display_data"
    }
   ],
   "source": [
    "#List of stats to plot \n",
    "stats_plot = pd.array( ['Normalized_mGL-A_gmean'])\n",
    "#set plotting parameters \n",
    "order_repts = pd.array( ['203bp'])\n",
    "order = order_repts; palette = palette; hue_order = hue_order; x = 'Rept'; hue='cond'; yscale= 'linear'\n",
    "#ylim = [-1,2]\n",
    "#Only plot some reporters\n",
    "data_now = s_normalized[s_normalized['Rept'].isin(order_repts)]\n",
    "data_now = data_now[data_now['cond'].isin(hue_order)]\n",
    "#display(data_now)\n",
    "\n",
    "pairs = [\n",
    "       [('203bp',  'ZF43. noCre'), ('203bp', 'ZF43. Cre')],\n",
    "       #[('203bp',  'ZF43. noCre'), ('203bp', 'ZF37. noCre')],\n",
    "       [('203bp',  'ZF43. Cre'), ('203bp', 'ZF37. Cre')],\n",
    "       [('203bp',  'ZF37. noCre'), ('203bp', 'ZF37. Cre')], # +ZF43, -/+ Cre\n",
    "\n",
    "       ]\n",
    "\n",
    "\n",
    "for stat in stats_plot:\n",
    "    y = stat # set the stat to plot\n",
    "    plottitle = y + ' 0.125xZF'\n",
    "    plt.yscale(yscale)\n",
    "    g = summary_plot( x=x, y=y, hue=hue, data=data_now, yscale =yscale, pairs=pairs, aspect=2,\n",
    "                    x_rot=45, palette = palette, order=order, hue_order=hue_order, plottitle=plottitle,legend=False)\n",
    "    g.figure.savefig(figure_folder + plottitle + '203bp' + '.svg',dpi=300,bbox_inches='tight')"
   ]
  },
  {
   "cell_type": "code",
   "execution_count": 45,
   "metadata": {},
   "outputs": [
    {
     "name": "stdout",
     "output_type": "stream",
     "text": [
      "p-value annotation legend:\n",
      "ns: 5.00e-02 < p <= 1.00e+00\n",
      "*: 1.00e-02 < p <= 5.00e-02\n",
      "**: 1.00e-03 < p <= 1.00e-02\n",
      "***: 1.00e-04 < p <= 1.00e-03\n",
      "****: p <= 1.00e-04\n",
      "\n",
      "155bp_ZF43. Cre v.s. 155bp_ZF37. Cre: t-test independent samples, P_val=6.730e-03 stat=-5.153e+00\n",
      "155bp_ZF43. noCre v.s. 155bp_ZF37. noCre: t-test independent samples, P_val=5.974e-02 stat=-2.605e+00\n",
      "155bp_ZF37. noCre v.s. 155bp_ZF37. Cre: t-test independent samples, P_val=1.036e-03 stat=-8.532e+00\n",
      "155bp_ZF43. noCre v.s. 155bp_ZF43. Cre: t-test independent samples, P_val=1.067e-03 stat=-8.466e+00\n"
     ]
    },
    {
     "data": {
      "image/png": "[encoded data removed]",
      "text/plain": [
       "<Figure size 432x288 with 1 Axes>"
      ]
     },
     "metadata": {
      "needs_background": "light"
     },
     "output_type": "display_data"
    },
    {
     "data": {
      "image/png": "[encoded data removed]",
      "text/plain": [
       "<Figure size 432x288 with 1 Axes>"
      ]
     },
     "metadata": {
      "needs_background": "light"
     },
     "output_type": "display_data"
    },
    {
     "name": "stdout",
     "output_type": "stream",
     "text": [
      "p-value annotation legend:\n",
      "ns: 5.00e-02 < p <= 1.00e+00\n",
      "*: 1.00e-02 < p <= 5.00e-02\n",
      "**: 1.00e-03 < p <= 1.00e-02\n",
      "***: 1.00e-04 < p <= 1.00e-03\n",
      "****: p <= 1.00e-04\n",
      "\n",
      "155bp_ZF43. Cre v.s. 155bp_ZF37. Cre: t-test independent samples, P_val=5.703e-05 stat=1.792e+01\n",
      "155bp_ZF43. noCre v.s. 155bp_ZF37. noCre: t-test independent samples, P_val=1.418e-03 stat=7.856e+00\n",
      "155bp_ZF37. noCre v.s. 155bp_ZF37. Cre: t-test independent samples, P_val=8.917e-03 stat=4.758e+00\n",
      "155bp_ZF43. noCre v.s. 155bp_ZF43. Cre: t-test independent samples, P_val=8.238e-01 stat=-2.377e-01\n"
     ]
    },
    {
     "data": {
      "image/png": "[encoded data removed]",
      "text/plain": [
       "<Figure size 432x288 with 1 Axes>"
      ]
     },
     "metadata": {
      "needs_background": "light"
     },
     "output_type": "display_data"
    },
    {
     "data": {
      "image/png": "[encoded data removed]",
      "text/plain": [
       "<Figure size 432x288 with 1 Axes>"
      ]
     },
     "metadata": {
      "needs_background": "light"
     },
     "output_type": "display_data"
    },
    {
     "name": "stdout",
     "output_type": "stream",
     "text": [
      "p-value annotation legend:\n",
      "ns: 5.00e-02 < p <= 1.00e+00\n",
      "*: 1.00e-02 < p <= 5.00e-02\n",
      "**: 1.00e-03 < p <= 1.00e-02\n",
      "***: 1.00e-04 < p <= 1.00e-03\n",
      "****: p <= 1.00e-04\n",
      "\n",
      "155bp_ZF43. Cre v.s. 155bp_ZF37. Cre: t-test independent samples, P_val=7.616e-05 stat=-1.665e+01\n",
      "155bp_ZF43. noCre v.s. 155bp_ZF37. noCre: t-test independent samples, P_val=1.156e-04 stat=-1.498e+01\n",
      "155bp_ZF37. noCre v.s. 155bp_ZF37. Cre: t-test independent samples, P_val=2.776e-01 stat=-1.256e+00\n",
      "155bp_ZF43. noCre v.s. 155bp_ZF43. Cre: t-test independent samples, P_val=3.425e-02 stat=-3.158e+00\n"
     ]
    },
    {
     "data": {
      "image/png": "[encoded data removed]",
      "text/plain": [
       "<Figure size 432x288 with 1 Axes>"
      ]
     },
     "metadata": {
      "needs_background": "light"
     },
     "output_type": "display_data"
    },
    {
     "data": {
      "image/png": "[encoded data removed]",
      "text/plain": [
       "<Figure size 432x288 with 1 Axes>"
      ]
     },
     "metadata": {
      "needs_background": "light"
     },
     "output_type": "display_data"
    },
    {
     "data": {
      "text/plain": [
       "<Figure size 432x288 with 0 Axes>"
      ]
     },
     "metadata": {},
     "output_type": "display_data"
    }
   ],
   "source": [
    "#Plot summary plot for the desired statistics\n",
    "\n",
    "#List of stats to plot \n",
    "stats_plot = pd.array( ['mGL-A_gmean', 'TagBFP-A_gmean', 'mCherry-A_gmean'])\n",
    "#set plotting parameters \n",
    "order_repts = pd.array( ['155bp'])\n",
    "order = order_repts; palette = palette; hue_order = hue_order; x = 'Rept'; hue='cond'; yscale= 'log'\n",
    "ylim = [1e2, 1e4]\n",
    "\n",
    "#Only plot some reporters\n",
    "data_now = s_bioreplicate[s_bioreplicate['Rept'].isin(order_repts)]\n",
    "data_now = data_now[data_now['cond'].isin(hue_order)]\n",
    "#display(data_now)\n",
    "\n",
    "#Set p-value significance comparisons \n",
    "pairs = [\n",
    "       [('155bp',  'ZF43. noCre'), ('155bp', 'ZF43. Cre')],\n",
    "       [('155bp',  'ZF43. noCre'), ('155bp', 'ZF37. noCre')],\n",
    "       [('155bp',  'ZF43. Cre'), ('155bp', 'ZF37. Cre')],\n",
    "       [('155bp',  'ZF37. noCre'), ('155bp', 'ZF37. Cre')], # +ZF43, -/+ Cre\n",
    "\n",
    "       ]\n",
    "\n",
    "for stat in stats_plot:\n",
    "    y = stat # set the stat to plot\n",
    "    plottitle = y + ' grouped bioreplicate'\n",
    "    plt.yscale(yscale)\n",
    "    g = summary_plot( x=x, y=y, hue=hue, data=data_now, pairs=pairs, ylim=ylim, yscale =yscale,\n",
    "                    x_rot=45, aspect = 2.5, palette = palette, order=order, hue_order=hue_order, plottitle=plottitle,legend=False)\n",
    "    g.figure.savefig(figure_folder + plottitle + '0.125xZF_155bp' + '.svg',dpi=300,bbox_inches='tight')"
   ]
  },
  {
   "attachments": {},
   "cell_type": "markdown",
   "metadata": {},
   "source": [
    "-----------"
   ]
  },
  {
   "attachments": {},
   "cell_type": "markdown",
   "metadata": {},
   "source": [
    "# 1D Histograms - by the spacer length"
   ]
  },
  {
   "cell_type": "code",
   "execution_count": null,
   "metadata": {},
   "outputs": [],
   "source": [
    "palette = {\n",
    "        'loxPcontrol.noZF.noCre': 'gray',\n",
    "        '27bp.noZF.noCre': 'gray',\n",
    "        '79bp.noZF.noCre': 'gray',\n",
    "        '155bp.noZF.noCre': 'gray',\n",
    "        '203bp.noZF.noCre': 'gray',\n",
    "        '263bp.noZF.noCre': 'gray',\n",
    "        \n",
    "        'loxPcontrol.ZF43.noCre': '#C3DB9A',\n",
    "        '27bp.ZF43.noCre': '#C3DB9A',\n",
    "        '79bp.ZF43.noCre': '#C3DB9A',\n",
    "        '155bp.ZF43.noCre': '#C3DB9A',\n",
    "        '203bp.ZF43.noCre': '#C3DB9A',\n",
    "        '263bp.ZF43.noCre': '#C3DB9A',\n",
    "        \n",
    "        'loxPcontrol.ZF43.Cre': '#69B645',\n",
    "        '27bp.ZF43.Cre': '#69B645',\n",
    "        '79bp.ZF43.Cre': '#69B645',\n",
    "        '155bp.ZF43.Cre': '#69B645',\n",
    "        '203bp.ZF43.Cre': '#69B645',\n",
    "        '263bp.ZF43.Cre': '#69B645',\n",
    "\n",
    "        'loxPcontrol.ZF37.noCre': '#C3DB9A',\n",
    "        '27bp.ZF37.noCre': '#C3DB9A',\n",
    "        '79bp.ZF37.noCre': '#C3DB9A',\n",
    "        '155bp.ZF37.noCre': '#C3DB9A',\n",
    "        '203bp.ZF37.noCre': '#C3DB9A',\n",
    "        '263bp.ZF37.noCre': '#C3DB9A',\n",
    "\n",
    "        'loxPcontrol.ZF37.Cre': '#69B645',\n",
    "        '27bp.ZF37.Cre': '#69B645',\n",
    "        '79bp.ZF37.Cre': '#69B645',\n",
    "        '155bp.ZF37.Cre': '#69B645',\n",
    "        '203bp.ZF37.Cre': '#69B645',\n",
    "        '263bp.ZF37.Cre': '#69B645'\n",
    "                         }"
   ]
  },
  {
   "cell_type": "code",
   "execution_count": null,
   "metadata": {},
   "outputs": [],
   "source": [
    "conds_now = palette\n",
    "\n",
    "#Set common conditions\n",
    "parameters = pd.array(['mGL-A']) ; palette=palette; xlim = [1e0,1e6]; hue='Rept.ZF.Cre'; hueorder=None\n",
    "xsize = 2.5\n",
    "ysize = 1.5\n",
    "fontsize=30\n",
    "\n",
    "#loxPcontrol ZF43\n",
    "cond_now = pd.array( ['loxPcontrol.noZF.noCre','loxPcontrol.ZF43.noCre','loxPcontrol.ZF43.Cre'])\n",
    "data_now = data_iRFP670gated[ data_iRFP670gated['Rept.ZF.Cre'].isin(cond_now)]\n",
    "plottitle = 'loxPcontrol.ZF43' + ' Hist mGL'\n",
    "g = plt.figure(figsize=(xsize,ysize))\n",
    "g = custom_hist_plot( data_now, parameters, hue=hue, palette=palette, hueorder=hueorder, xsize=xsize, ysize=ysize, title=plottitle, \n",
    "                         alpha=0.8, fontsize=fontsize,\n",
    "                         legendtitle='Condition', xlim=xlim, axis_lines={'top': False, 'bottom': True, 'left': False, 'right': False},legend=False)\n",
    "g = g.get_figure()\n",
    "g.savefig(figure_folder+ plottitle + '.svg',dpi=300,bbox_inches='tight')\n",
    "\n",
    "#ZF37\n",
    "cond_now = pd.array( ['loxPcontrol.noZF.noCre','loxPcontrol.ZF37.noCre','loxPcontrol.ZF37.Cre'])\n",
    "data_now = data_iRFP670gated[ data_iRFP670gated['Rept.ZF.Cre'].isin(cond_now)]\n",
    "plottitle = 'loxPcontrol.ZF37' + ' Hist mGL'\n",
    "g = plt.figure(figsize=(xsize,ysize))\n",
    "g = custom_hist_plot( data_now, parameters, hue=hue, palette=palette, hueorder=hueorder, xsize=xsize, ysize=ysize, title=plottitle, \n",
    "                         alpha=0.8,\n",
    "                         legendtitle='Condition', xlim=xlim, axis_lines={'top': False, 'bottom': True, 'left': False, 'right': False}, legend=False, fontsize=30)\n",
    "g = g.get_figure()\n",
    "g.savefig(figure_folder+ plottitle + '.svg',dpi=300,bbox_inches='tight')   "
   ]
  },
  {
   "cell_type": "code",
   "execution_count": null,
   "metadata": {},
   "outputs": [],
   "source": [
    "#27bp \n",
    "\n",
    "#ZF43\n",
    "cond_now = pd.array( ['27bp.noZF.noCre','27bp.ZF43.noCre','27bp.ZF43.Cre'])\n",
    "data_now = data_iRFP670gated[ data_iRFP670gated['Rept.ZF.Cre'].isin(cond_now)]\n",
    "plottitle = '27bp.ZF43' + ' Hist mGL'\n",
    "g = plt.figure(figsize=(xsize,ysize))\n",
    "g = custom_hist_plot( data_now, parameters, hue=hue, palette=palette, hueorder=hueorder, xsize=xsize, ysize=ysize, title=plottitle, \n",
    "                         alpha=0.8, fontsize=fontsize,\n",
    "                         legendtitle='Condition', xlim=xlim, axis_lines={'top': False, 'bottom': True, 'left': False, 'right': False},legend=False)\n",
    "g = g.get_figure()\n",
    "g.savefig(figure_folder+ plottitle + '.svg',dpi=300,bbox_inches='tight')\n",
    "#ZF37\n",
    "cond_now = pd.array( ['27bp.noZF.noCre','27bp.ZF37.noCre','27bp.ZF37.Cre'])\n",
    "data_now = data_iRFP670gated[ data_iRFP670gated['Rept.ZF.Cre'].isin(cond_now)]\n",
    "plottitle = '27bp.ZF37' + ' Hist mGL'\n",
    "g = plt.figure(figsize=(xsize,ysize))\n",
    "g = custom_hist_plot( data_now, parameters, hue=hue, palette=palette, hueorder=hueorder, xsize=xsize, ysize=ysize, title=plottitle, \n",
    "                         alpha=0.8, fontsize=fontsize,\n",
    "                         legendtitle='Condition', xlim=xlim, axis_lines={'top': False, 'bottom': True, 'left': False, 'right': False},legend=False)\n",
    "g = g.get_figure()\n",
    "g.savefig(figure_folder+ plottitle + '.svg',dpi=300,bbox_inches='tight')      "
   ]
  },
  {
   "cell_type": "code",
   "execution_count": null,
   "metadata": {},
   "outputs": [],
   "source": [
    "#79bp \n",
    "\n",
    "#ZF43\n",
    "cond_now = pd.array( ['79bp.noZF.noCre','79bp.ZF43.noCre','79bp.ZF43.Cre'])\n",
    "data_now = data_iRFP670gated[ data_iRFP670gated['Rept.ZF.Cre'].isin(cond_now)]\n",
    "plottitle = '79bp.ZF43' + ' Hist mGL'\n",
    "g = plt.figure(figsize=(xsize,ysize))\n",
    "g = custom_hist_plot( data_now, parameters, hue=hue, palette=palette, hueorder=hueorder, xsize=xsize, ysize=ysize, title=plottitle, \n",
    "                         alpha=0.8, fontsize=fontsize,\n",
    "                         legendtitle='Condition', xlim=xlim, axis_lines={'top': False, 'bottom': True, 'left': False, 'right': False},legend=False)\n",
    "g = g.get_figure()\n",
    "g.savefig(figure_folder+ plottitle + '.svg',dpi=300,bbox_inches='tight')\n",
    "#ZF37\n",
    "cond_now = pd.array( ['79bp.noZF.noCre','79bp.ZF37.noCre','79bp.ZF37.Cre'])\n",
    "data_now = data_iRFP670gated[ data_iRFP670gated['Rept.ZF.Cre'].isin(cond_now)]\n",
    "plottitle = '79bp.ZF37' + ' Hist mGL'\n",
    "g = plt.figure(figsize=(xsize,ysize))\n",
    "g = custom_hist_plot( data_now, parameters, hue=hue, palette=palette, hueorder=hueorder, xsize=xsize, ysize=ysize, title=plottitle, \n",
    "                         alpha=0.8, fontsize=fontsize,\n",
    "                         legendtitle='Condition', xlim=xlim, axis_lines={'top': False, 'bottom': True, 'left': False, 'right': False},legend=False)\n",
    "g = g.get_figure()\n",
    "g.savefig(figure_folder+ plottitle + '.svg',dpi=300,bbox_inches='tight')      "
   ]
  },
  {
   "cell_type": "code",
   "execution_count": null,
   "metadata": {},
   "outputs": [],
   "source": [
    "#155bp \n",
    "\n",
    "#ZF43\n",
    "cond_now = pd.array( ['155bp.noZF.noCre','155bp.ZF43.noCre','155bp.ZF43.Cre'])\n",
    "data_now = data_iRFP670gated[ data_iRFP670gated['Rept.ZF.Cre'].isin(cond_now)]\n",
    "plottitle = '155bp.ZF43' + ' Hist mGL'\n",
    "g = plt.figure(figsize=(xsize,ysize))\n",
    "g = custom_hist_plot( data_now, parameters, hue=hue, palette=palette, hueorder=hueorder, xsize=xsize, ysize=ysize, title=plottitle, \n",
    "                         alpha=0.8, fontsize=fontsize,\n",
    "                         legendtitle='Condition', xlim=xlim, axis_lines={'top': False, 'bottom': True, 'left': False, 'right': False},legend=False)\n",
    "g = g.get_figure()\n",
    "g.savefig(figure_folder+ plottitle + '.svg',dpi=300,bbox_inches='tight')\n",
    "#ZF37\n",
    "cond_now = pd.array( ['155bp.noZF.noCre','155bp.ZF37.noCre','155bp.ZF37.Cre'])\n",
    "data_now = data_iRFP670gated[ data_iRFP670gated['Rept.ZF.Cre'].isin(cond_now)]\n",
    "plottitle = '155bp.ZF37' + ' Hist mGL'\n",
    "g = plt.figure(figsize=(xsize,ysize))\n",
    "g = custom_hist_plot( data_now, parameters, hue=hue, palette=palette, hueorder=hueorder, xsize=xsize, ysize=ysize, title=plottitle, \n",
    "                         alpha=0.8, fontsize=fontsize,\n",
    "                         legendtitle='Condition', xlim=xlim, axis_lines={'top': False, 'bottom': True, 'left': False, 'right': False},legend=False)\n",
    "g = g.get_figure()\n",
    "g.savefig(figure_folder+ plottitle + '.svg',dpi=300,bbox_inches='tight')      "
   ]
  },
  {
   "cell_type": "code",
   "execution_count": null,
   "metadata": {},
   "outputs": [],
   "source": [
    "#203bp \n",
    "\n",
    "#ZF43\n",
    "cond_now = pd.array( ['203bp.noZF.noCre','203bp.ZF43.noCre','203bp.ZF43.Cre'])\n",
    "data_now = data_iRFP670gated[ data_iRFP670gated['Rept.ZF.Cre'].isin(cond_now)]\n",
    "plottitle = '203bp.ZF43' + ' Hist mGL'\n",
    "g = plt.figure(figsize=(xsize,ysize))\n",
    "g = custom_hist_plot( data_now, parameters, hue=hue, palette=palette, hueorder=hueorder, xsize=xsize, ysize=ysize, title=plottitle, \n",
    "                         alpha=0.8, fontsize=fontsize,\n",
    "                         legendtitle='Condition', xlim=xlim, axis_lines={'top': False, 'bottom': True, 'left': False, 'right': False},legend=False)\n",
    "g = g.get_figure()\n",
    "g.savefig(figure_folder+ plottitle + '.svg',dpi=300,bbox_inches='tight')\n",
    "\n",
    "#ZF37\n",
    "cond_now = pd.array( ['203bp.noZF.noCre','203bp.ZF37.noCre','203bp.ZF37.Cre'])\n",
    "data_now = data_iRFP670gated[ data_iRFP670gated['Rept.ZF.Cre'].isin(cond_now)]\n",
    "plottitle = '203bp.ZF37' + ' Hist mGL'\n",
    "g = plt.figure(figsize=(xsize,ysize))\n",
    "g = custom_hist_plot( data_now, parameters, hue=hue, palette=palette, hueorder=hueorder, xsize=xsize, ysize=ysize, title=plottitle, \n",
    "                         alpha=0.8, fontsize=fontsize,\n",
    "                         legendtitle='Condition', xlim=xlim, axis_lines={'top': False, 'bottom': True, 'left': False, 'right': False},legend=False)\n",
    "g = g.get_figure()\n",
    "g.savefig(figure_folder+ plottitle + '.svg',dpi=300,bbox_inches='tight')   "
   ]
  },
  {
   "cell_type": "code",
   "execution_count": null,
   "metadata": {},
   "outputs": [],
   "source": [
    "#263bp \n",
    "\n",
    "#ZF43\n",
    "cond_now = pd.array( ['263bp.noZF.noCre','263bp.ZF43.noCre','263bp.ZF43.Cre'])\n",
    "data_now = data_iRFP670gated[ data_iRFP670gated['Rept.ZF.Cre'].isin(cond_now)]\n",
    "plottitle = '263bp.ZF43' + ' Hist mGL'\n",
    "g = plt.figure(figsize=(xsize,ysize))\n",
    "g = custom_hist_plot( data_now, parameters, hue=hue, palette=palette, hueorder=hueorder, xsize=xsize, ysize=ysize, title=plottitle, \n",
    "                         alpha=0.8, fontsize=fontsize,\n",
    "                         legendtitle='Condition', xlim=xlim, axis_lines={'top': False, 'bottom': True, 'left': False, 'right': False},legend=False)\n",
    "g = g.get_figure()\n",
    "g.savefig(figure_folder+ plottitle + '.svg',dpi=300,bbox_inches='tight')\n",
    "\n",
    "#ZF37\n",
    "cond_now = pd.array( ['263bp.noZF.noCre','263bp.ZF37.noCre','263bp.ZF37.Cre'])\n",
    "data_now = data_iRFP670gated[ data_iRFP670gated['Rept.ZF.Cre'].isin(cond_now)]\n",
    "plottitle = '263bp.ZF37' + ' Hist mGL'\n",
    "g = plt.figure(figsize=(xsize,ysize))\n",
    "g = custom_hist_plot( data_now, parameters, hue=hue, palette=palette, hueorder=hueorder, xsize=xsize, ysize=ysize, title=plottitle, \n",
    "                         alpha=0.8, fontsize=fontsize,\n",
    "                         legendtitle='Condition', xlim=xlim, axis_lines={'top': False, 'bottom': True, 'left': False, 'right': False},legend=False)\n",
    "g = g.get_figure()\n",
    "g.savefig(figure_folder+ plottitle + '.svg',dpi=300,bbox_inches='tight')   "
   ]
  },
  {
   "attachments": {},
   "cell_type": "markdown",
   "metadata": {},
   "source": [
    "Histograms - overlay spacer lengths, -/+ Cre"
   ]
  },
  {
   "cell_type": "code",
   "execution_count": null,
   "metadata": {},
   "outputs": [],
   "source": [
    "# by condition\n",
    "palette = {\n",
    "        'loxPcontrol.noZF.noCre': 'red',\n",
    "        '27bp.noZF.noCre': 'darksalmon',\n",
    "        '79bp.noZF.noCre': 'orange',\n",
    "        '155bp.noZF.noCre': 'green',\n",
    "        '203bp.noZF.noCre': 'blue',\n",
    "        '263bp.noZF.noCre': 'purple',\n",
    "        \n",
    "        'loxPcontrol.ZF43.noCre': 'red',\n",
    "        '27bp.ZF43.noCre': 'darksalmon',\n",
    "        '79bp.ZF43.noCre': 'orange',\n",
    "        '155bp.ZF43.noCre': 'green',\n",
    "        '203bp.ZF43.noCre': 'blue',\n",
    "        '263bp.ZF43.noCre': 'purple',\n",
    "        \n",
    "        'loxPcontrol.ZF43.Cre': 'red',\n",
    "        '27bp.ZF43.Cre': 'darksalmon',\n",
    "        '79bp.ZF43.Cre': 'orange',\n",
    "        '155bp.ZF43.Cre': 'green',\n",
    "        '203bp.ZF43.Cre': 'blue',\n",
    "        '263bp.ZF43.Cre': 'purple',\n",
    "\n",
    "        'loxPcontrol.ZF37.noCre': 'red',\n",
    "        '27bp.ZF37.noCre': 'darksalmon',\n",
    "        '79bp.ZF37.noCre': 'orange',\n",
    "        '155bp.ZF37.noCre': 'green',\n",
    "        '203bp.ZF37.noCre': 'blue',\n",
    "        '263bp.ZF37.noCre': 'purple',\n",
    "\n",
    "        'loxPcontrol.ZF37.Cre': 'red',\n",
    "        '27bp.ZF37.Cre': 'darksalmon',\n",
    "        '79bp.ZF37.Cre': 'orange',\n",
    "        '155bp.ZF37.Cre': 'green',\n",
    "        '203bp.ZF37.Cre': 'blue',\n",
    "        '263bp.ZF37.Cre': 'purple'\n",
    "                         }"
   ]
  },
  {
   "cell_type": "code",
   "execution_count": null,
   "metadata": {},
   "outputs": [],
   "source": [
    "palette = {        \n",
    "        'loxPcontrol.ZF37.noCre': 'red',\n",
    "        '27bp.ZF37.noCre': 'darksalmon',\n",
    "        '79bp.ZF37.noCre': 'orange',\n",
    "        '155bp.ZF37.noCre': 'green',\n",
    "        '203bp.ZF37.noCre': 'blue',\n",
    "        '263bp.ZF37.noCre': 'purple'}\n",
    "\n",
    "conds_now = palette\n",
    "\n",
    "#Set common conditions\n",
    "parameters = pd.array(['mGL-A']) ; palette=palette; xlim = [1e0,1e6]; hue='Rept.ZF.Cre'; hueorder=palette\n",
    "xsize = 2.5\n",
    "ysize = 1.5\n",
    "\n",
    "palette = 'gist_heat'\n",
    "\n",
    "#noZF noCre\n",
    "data_now = data_iRFP670gated[ data_iRFP670gated['Rept.ZF.Cre'].isin(conds_now)]\n",
    "plottitle = '.125xZF_allRepts.ZF37.noCre' + ' Hist mGL'\n",
    "g = plt.figure(figsize=(xsize,ysize))\n",
    "g = custom_hist_plot( data_now, parameters, hue=hue, palette=palette, hueorder=hueorder, xsize=xsize, ysize=ysize, title=plottitle, \n",
    "                         alpha=0.15,legend=False,\n",
    "                         legendtitle='Condition', xlim=xlim)\n",
    "g = g.get_figure()\n",
    "g.savefig(figure_folder+ plottitle + '.svg',dpi=300,bbox_inches='tight')"
   ]
  },
  {
   "cell_type": "code",
   "execution_count": null,
   "metadata": {},
   "outputs": [],
   "source": [
    "palette = {        \n",
    "        'loxPcontrol.ZF37.Cre': 'red',\n",
    "        '27bp.ZF37.Cre': 'darksalmon',\n",
    "        '79bp.ZF37.Cre': 'orange',\n",
    "        '155bp.ZF37.Cre': 'green',\n",
    "        '203bp.ZF37.Cre': 'blue',\n",
    "        '263bp.ZF37.Cre': 'purple'}\n",
    "\n",
    "conds_now = palette\n",
    "\n",
    "#Set common conditions\n",
    "parameters = pd.array(['mGL-A']) ; palette=palette; xlim = [1e0,1e6]; hue='Rept.ZF.Cre'; hueorder=palette\n",
    "xsize = 2.5\n",
    "ysize = 1.5\n",
    "\n",
    "palette = 'gist_heat'\n",
    "\n",
    "#noZF noCre\n",
    "data_now = data_iRFP670gated[ data_iRFP670gated['Rept.ZF.Cre'].isin(conds_now)]\n",
    "plottitle = '.125xZF_allRepts.ZF37.Cre' + ' Hist mGL'\n",
    "g = plt.figure(figsize=(xsize,ysize))\n",
    "g = custom_hist_plot( data_now, parameters, hue=hue, palette=palette, hueorder=hueorder, xsize=xsize, ysize=ysize, title=plottitle, \n",
    "                         alpha=0.15,legend=False,\n",
    "                         legendtitle='Condition', xlim=xlim)\n",
    "g = g.get_figure()\n",
    "g.savefig(figure_folder+ plottitle + '.svg',dpi=300,bbox_inches='tight')"
   ]
  },
  {
   "attachments": {},
   "cell_type": "markdown",
   "metadata": {},
   "source": [
    "Gel Analysis"
   ]
  },
  {
   "cell_type": "code",
   "execution_count": null,
   "metadata": {},
   "outputs": [],
   "source": [
    "# entering data from ImageJ analysis\n",
    "\n",
    "data = {\n",
    "    'Label': ['loxPcon',\n",
    "              '27bp_unedited', '27bp_edited',\n",
    "              '79bp_unedited', '79bp_edited',\n",
    "              '155bp_unedited', '155bp_edited',\n",
    "              '203bp_unedited', '203bp_edited',\n",
    "              '263bp_unedited', '263bp_edited'],\n",
    "    'Intensity': [1046, 830, 97, 766, 184, 834, 290, 982, 375, 909, 261]\n",
    "}\n",
    "\n",
    "df_gel=pd.DataFrame(data)\n",
    "\n",
    "df_gel.index = range(1,len(df_gel)+1)\n",
    "\n",
    "print(df_gel)"
   ]
  },
  {
   "cell_type": "code",
   "execution_count": null,
   "metadata": {},
   "outputs": [],
   "source": [
    "# Calculate ratios\n",
    "ratios = {}\n",
    "for i in range(2, len(df_gel), 2):\n",
    "    edited_col = df_gel.iloc[i]['Intensity']\n",
    "    unedited_col = df_gel.iloc[i - 1]['Intensity'] + edited_col\n",
    "    label = df_gel.iloc[i]['Label'].replace('_edited', '')\n",
    "    ratios[label] = edited_col / unedited_col\n",
    "\n",
    "# Create DataFrame for ratios\n",
    "df_ratios = pd.DataFrame(ratios.items(), columns=['Size', 'Ratio'])\n",
    "\n",
    "print(df_ratios)"
   ]
  },
  {
   "cell_type": "code",
   "execution_count": null,
   "metadata": {},
   "outputs": [],
   "source": [
    "plottitle = ' gel_analysis'\n",
    "\n",
    "g = plt.figure(figsize=(8, 6))\n",
    "plt.bar(df_ratios['Size'], df_ratios['Ratio'], color='yellowgreen')\n",
    "plt.xlabel('Size')\n",
    "plt.ylabel('Ratio')\n",
    "plt.title('Cre-based Editing Efficiency')\n",
    "plt.ylim(0, 0.5)  # Limiting y-axis from 0 to 1\n",
    "plt.grid(axis='y', linestyle='--', alpha=0.7)\n",
    "plt.xticks(rotation=45)\n",
    "plt.show()\n",
    "\n",
    "g.savefig(figure_folder+ plottitle + '.svg',dpi=300,bbox_inches='tight')"
   ]
  },
  {
   "cell_type": "markdown",
   "metadata": {},
   "source": [
    "Spacer kcat"
   ]
  },
  {
   "cell_type": "code",
   "execution_count": null,
   "metadata": {},
   "outputs": [],
   "source": [
    "display(s_bioreplicate)"
   ]
  },
  {
   "cell_type": "code",
   "execution_count": null,
   "metadata": {},
   "outputs": [],
   "source": [
    "# Normalize mGL with 3 bioreps to 203 bp spacer, +ZF -Cre\n",
    "\n",
    "bioreps_plot = pd.array(['20240219flow_exp20240216_p2_YL2bad','20240219flow_exp20240216_p3_YL2bad','20240219flow_exp20240216_p1_YL2bad'\n",
    "                         ])\n",
    "\n",
    "s_normalized_spacer = pd.DataFrame()\n",
    "\n",
    "for biorep in bioreps_plot:\n",
    "    df_biorep = data_iRFP670gated[data_iRFP670gated['bioreplicate'] == biorep] #choose dataframe\n",
    "    by = ['Rept', 'ZF', 'Cre','cond','bioreplicate_cond_rept','bioreplicate'] #how to filter results, columns \n",
    "    x = ['mGL-A', 'TagBFP-A', 'mCherry-A'] #which parameter to calculate results on\n",
    "    stat = [sp.stats.gmean] #statistics to calculate\n",
    "    s_biorep = calc_stats(df_biorep,by,x,stat) #calculate statistics \n",
    "\n",
    "    s203bp_ZF37_noCre = s_biorep[(s_biorep['Rept'] == '203bp') & (s_biorep['Cre'] == 'noCre') & (s_biorep['ZF'] == 'ZF37')]['mGL-A_gmean'].iloc[0]\n",
    "    display(s203bp_ZF37_noCre)\n",
    "\n",
    "    s203bp_ZF43_noCre = s_biorep[(s_biorep['Rept'] == '203bp') & (s_biorep['Cre'] == 'noCre') & (s_biorep['ZF'] == 'ZF43')]['mGL-A_gmean'].iloc[0]\n",
    "    display(s203bp_ZF43_noCre)\n",
    "\n",
    "    def normalize_mGL_gmean(row):\n",
    "        if row['ZF'] == 'ZF37':\n",
    "            return row['mGL-A_gmean'] / s203bp_ZF37_noCre\n",
    "        else:\n",
    "            return row['mGL-A_gmean'] / s203bp_ZF43_noCre\n",
    "            \n",
    "    s_biorep['Normalized_mGL-A_gmean'] = s_biorep.apply(normalize_mGL_gmean, axis=1)\n",
    "\n",
    "    s_normalized_spacer = pd.concat([s_normalized_spacer, s_biorep], ignore_index=True)\n",
    "\n",
    "# display(s_normalized_spacer)"
   ]
  },
  {
   "cell_type": "markdown",
   "metadata": {},
   "source": [
    "ZF37"
   ]
  },
  {
   "cell_type": "code",
   "execution_count": null,
   "metadata": {},
   "outputs": [],
   "source": [
    "# Normalize mCherry with 3 bioreps to 203 bp spacer, +ZF -Cre\n",
    "\n",
    "s_normalized_spacer_ZF37 = s_normalized_spacer[s_normalized_spacer['ZF']=='ZF37']\n",
    "\n",
    "bioreps_plot = pd.array(['20240219flow_exp20240216_p2_YL2bad','20240219flow_exp20240216_p3_YL2bad','20240219flow_exp20240216_p1_YL2bad'\n",
    "                         ])\n",
    "\n",
    "s_normalized_ZF37_both = pd.DataFrame()\n",
    "\n",
    "for biorep in bioreps_plot:\n",
    "    df_biorep = s_normalized_spacer_ZF37[s_normalized_spacer_ZF37['bioreplicate'] == biorep] #choose dataframe\n",
    "    \n",
    "    s203bp_ZF37_noCre = df_biorep[(df_biorep['Rept'] == '203bp') & (df_biorep['Cre'] == 'noCre')]['mCherry-A_gmean'].iloc[0]\n",
    "    display(s203bp_ZF37_noCre)\n",
    "\n",
    "    def normalize_mCherry_gmean(row):\n",
    "        return row['mCherry-A_gmean'] / s203bp_ZF37_noCre\n",
    "            \n",
    "    df_biorep['Normalized_mCherry-A_gmean'] = df_biorep.apply(normalize_mCherry_gmean, axis=1)\n",
    "    \n",
    "    s_normalized_ZF37_both = pd.concat([s_normalized_ZF37_both, df_biorep], ignore_index=True)\n",
    "    "
   ]
  },
  {
   "cell_type": "code",
   "execution_count": null,
   "metadata": {},
   "outputs": [],
   "source": [
    "# Calculate kcat normalized mGL and mCherry\n",
    "\n",
    "def kcat_expression(y, alpha, x, K_M):\n",
    "    return (y - alpha) / ((x ** n) / (K_M + x ** n))\n",
    "\n",
    "n = 1\n",
    "\n",
    "# parameters taken from mean of bootstrapped parameters\n",
    "K_M_noCre_ZF37 = 0.213489\n",
    "K_M_Cre_ZF37 = 0.516396\n",
    "alpha_noCre_ZF37 = 0.1397989\n",
    "alpha_Cre_ZF37 = 0.220971\n",
    "\n",
    "def kcat_calculation(row):\n",
    "    if row['Cre'] == 'noCre':\n",
    "        return kcat_expression(row['Normalized_mGL-A_gmean'], alpha_noCre_ZF37, row['Normalized_mCherry-A_gmean'], K_M_noCre_ZF37)\n",
    "    else:\n",
    "        return kcat_expression(row['Normalized_mGL-A_gmean'], alpha_noCre_ZF37, row['Normalized_mCherry-A_gmean'], K_M_noCre_ZF37)\n",
    "    \n",
    "s_normalized_ZF37_both['kcat'] = s_normalized_ZF37_both.apply(kcat_calculation, axis=1)"
   ]
  },
  {
   "cell_type": "code",
   "execution_count": null,
   "metadata": {},
   "outputs": [],
   "source": [
    "palette = {'ZF37. noCre': '#C3DB9A',\n",
    "           'ZF37. Cre': '#69B645', \n",
    "           'ZF43. noCre': '#C3DB9A',\n",
    "           'ZF43. Cre': '#69B645'\n",
    "}\n",
    "\n",
    "hue_order = pd.array(['ZF37. noCre',\n",
    "              'ZF37. Cre'\n",
    "             ])"
   ]
  },
  {
   "cell_type": "code",
   "execution_count": null,
   "metadata": {},
   "outputs": [],
   "source": [
    "#Plot summary plot for the desired statistics\n",
    "\n",
    "#List of stats to plot \n",
    "stats_plot = pd.array( ['kcat'])\n",
    "#set plotting parameters \n",
    "order_repts = pd.array( ['loxPcontrol', '27bp', '79bp', '155bp', '203bp', '263bp'])\n",
    "order = order_repts; palette = palette; hue_order = hue_order; x = 'Rept'; hue='cond'; yscale= 'log'\n",
    "# ylim = [1e2, 2*1e4]\n",
    "\n",
    "\n",
    "#Only plot some reporters\n",
    "data_now = s_normalized_ZF37_both[s_normalized_ZF37_both['Rept'].isin(order_repts)]\n",
    "data_now = data_now[data_now['cond'].isin(hue_order)]\n",
    "#display(data_now)\n",
    "\n",
    "\n",
    "\n",
    "#Set p-value significance comparisons \n",
    "# pairs = [\n",
    "#        [('203bp',  'ZF37. noCre'), ('203bp', 'ZF37. Cre')], # +ZF43, -/+ Cre\n",
    "#        [('79bp',  'ZF37. noCre'), ('79bp', 'ZF37. Cre')], # +ZF43, -/+ Cre\n",
    "#        [('27bp',  'ZF37. noCre'), ('27bp', 'ZF37. Cre')], # +ZF43, -/+ Cre\n",
    "#        [('155bp',  'ZF37. noCre'), ('155bp', 'ZF37. Cre')], # +ZF43, -/+ Cre\n",
    "#        [('263bp',  'ZF37. noCre'), ('263bp', 'ZF37. Cre')], # +ZF43, -/+ Cre\n",
    "#        [('loxPcontrol',  'ZF37. noCre'), ('loxPcontrol', 'ZF37. Cre')] #compare ZF43 to noZF, +Cre\n",
    "# ]\n",
    "\n",
    "fontsize = 15; xsize =5; ysize=2.5\n",
    "# ylims = { 'mGL-A_gmean': [2e2, 2e4], \n",
    "#         'mCherry-A_gmean': [8e1, 1e3]}\n",
    "\n",
    "for stat in stats_plot:\n",
    "    y = stat # set the stat to plot\n",
    "    plottitle = y + ' Normalized by 203 bp no Cre ZF37'\n",
    "    #ylim = ylims[stat]\n",
    "    plt.figure(figsize=(xsize,ysize))\n",
    "    g = summary_plot( x=x, y=y, hue=hue, data=data_now, \n",
    "                     # pairs=pairs,\n",
    "                     yscale =yscale, fontsize = fontsize,\n",
    "                    x_rot=45, palette = palette, order=order, hue_order=hue_order, plottitle=plottitle, type='pointplot',\n",
    "                    axis_lines = {'top': False, 'bottom': True, 'left': True, 'right': False}, legend=False, \n",
    "                    #ylim = ylim\n",
    "                    )\n",
    "    #g.figure.savefig(figure_folder + plottitle + '0.125xZF37' + '.svg',dpi=300,bbox_inches='tight')"
   ]
  },
  {
   "cell_type": "markdown",
   "metadata": {},
   "source": [
    "ZF43"
   ]
  },
  {
   "cell_type": "code",
   "execution_count": null,
   "metadata": {},
   "outputs": [],
   "source": [
    "s_normalized_spacer_ZF43 = s_normalized_spacer[s_normalized_spacer['ZF']=='ZF43']"
   ]
  },
  {
   "cell_type": "code",
   "execution_count": null,
   "metadata": {},
   "outputs": [],
   "source": [
    "bioreps_plot = pd.array(['20240219flow_exp20240216_p2_YL2bad','20240219flow_exp20240216_p3_YL2bad','20240219flow_exp20240216_p1_YL2bad'\n",
    "                         ])\n",
    "\n",
    "s_normalized_ZF43_both = pd.DataFrame()\n",
    "\n",
    "for biorep in bioreps_plot:\n",
    "    df_biorep = s_normalized_spacer_ZF43[s_normalized_spacer_ZF43['bioreplicate'] == biorep] #choose dataframe\n",
    "    \n",
    "    s203bp_ZF43_noCre = df_biorep[(df_biorep['Rept'] == '203bp') & (df_biorep['Cre'] == 'noCre')]['TagBFP-A_gmean'].iloc[0]\n",
    "    display(s203bp_ZF43_noCre)\n",
    "\n",
    "    def normalize_TagBFP_gmean(row):\n",
    "        return row['TagBFP-A_gmean'] / s203bp_ZF43_noCre\n",
    "            \n",
    "    df_biorep['Normalized_TagBFP-A_gmean'] = df_biorep.apply(normalize_TagBFP_gmean, axis=1)\n",
    "    \n",
    "    s_normalized_ZF43_both = pd.concat([s_normalized_ZF43_both, df_biorep], ignore_index=True)\n",
    "        "
   ]
  },
  {
   "cell_type": "code",
   "execution_count": null,
   "metadata": {},
   "outputs": [],
   "source": [
    "def kcat_expression(y, alpha, x, K_M):\n",
    "    return (y - alpha) / ((x ** n) / (K_M + x ** n))\n",
    "\n",
    "n = 1\n",
    "\n",
    "# parameters taken from mean of bootstrapped parameters\n",
    "K_M_noCre_ZF43 = 0.1927806\n",
    "K_M_Cre_ZF43 = 0.2032832357\n",
    "alpha_noCre_ZF43 = 0.0774\n",
    "alpha_Cre_ZF43 = 0.0764\n",
    "\n",
    "def kcat_calculation(row):\n",
    "    if row['Cre'] == 'noCre':\n",
    "        return kcat_expression(row['Normalized_mGL-A_gmean'], alpha_noCre_ZF43, row['Normalized_TagBFP-A_gmean'], K_M_noCre_ZF43)\n",
    "    else:\n",
    "        return kcat_expression(row['Normalized_mGL-A_gmean'], alpha_noCre_ZF43, row['Normalized_TagBFP-A_gmean'], K_M_noCre_ZF43)\n",
    "    \n",
    "s_normalized_ZF43_both['kcat'] = s_normalized_ZF43_both.apply(kcat_calculation, axis=1)"
   ]
  },
  {
   "cell_type": "code",
   "execution_count": null,
   "metadata": {},
   "outputs": [],
   "source": [
    "#Plot summary plot for the desired statistics\n",
    "\n",
    "hue_order = pd.array(['ZF43. noCre',\n",
    "              'ZF43. Cre'\n",
    "             ])\n",
    "\n",
    "#List of stats to plot \n",
    "stats_plot = pd.array( ['kcat'])\n",
    "#set plotting parameters \n",
    "order_repts = pd.array( ['loxPcontrol', '27bp', '79bp', '155bp', '203bp', '263bp'])\n",
    "order = order_repts; palette = palette; hue_order = hue_order; x = 'Rept'; hue='cond'; yscale= 'log'\n",
    "# ylim = [1e2, 2*1e4]\n",
    "\n",
    "\n",
    "#Only plot some reporters\n",
    "data_now = s_normalized_ZF43_both[s_normalized_ZF43_both['Rept'].isin(order_repts)]\n",
    "data_now = data_now[data_now['cond'].isin(hue_order)]\n",
    "#display(data_now)\n",
    "\n",
    "\n",
    "\n",
    "#Set p-value significance comparisons \n",
    "# pairs = [\n",
    "#        [('203bp',  'ZF37. noCre'), ('203bp', 'ZF37. Cre')], # +ZF43, -/+ Cre\n",
    "#        [('79bp',  'ZF37. noCre'), ('79bp', 'ZF37. Cre')], # +ZF43, -/+ Cre\n",
    "#        [('27bp',  'ZF37. noCre'), ('27bp', 'ZF37. Cre')], # +ZF43, -/+ Cre\n",
    "#        [('155bp',  'ZF37. noCre'), ('155bp', 'ZF37. Cre')], # +ZF43, -/+ Cre\n",
    "#        [('263bp',  'ZF37. noCre'), ('263bp', 'ZF37. Cre')], # +ZF43, -/+ Cre\n",
    "#        [('loxPcontrol',  'ZF37. noCre'), ('loxPcontrol', 'ZF37. Cre')] #compare ZF43 to noZF, +Cre\n",
    "# ]\n",
    "\n",
    "fontsize = 15; xsize =5; ysize=2.5\n",
    "# ylims = { 'mGL-A_gmean': [2e2, 2e4], \n",
    "#         'mCherry-A_gmean': [8e1, 1e3]}\n",
    "\n",
    "for stat in stats_plot:\n",
    "    y = stat # set the stat to plot\n",
    "    plottitle = y + ' Normalized by 203 bp no Cre ZF43'\n",
    "    #ylim = ylims[stat]\n",
    "    plt.figure(figsize=(xsize,ysize))\n",
    "    g = summary_plot( x=x, y=y, hue=hue, data=data_now, \n",
    "                     # pairs=pairs,\n",
    "                     yscale =yscale, fontsize = fontsize,\n",
    "                    x_rot=45, palette = palette, order=order, hue_order=hue_order, plottitle=plottitle, type='pointplot',\n",
    "                    axis_lines = {'top': False, 'bottom': True, 'left': True, 'right': False}, legend=False, \n",
    "                    #ylim = ylim\n",
    "                    )\n",
    "    #g.figure.savefig(figure_folder + plottitle + '0.125xZF37' + '.svg',dpi=300,bbox_inches='tight')"
   ]
  },
  {
   "cell_type": "code",
   "execution_count": null,
   "metadata": {},
   "outputs": [],
   "source": [
    "display(s_normalized_ZF43_both)"
   ]
  },
  {
   "cell_type": "code",
   "execution_count": null,
   "metadata": {},
   "outputs": [],
   "source": [
    "# replace spacer with floats to plot as scatter plots\n",
    "s_normalized_ZF37_both['spacer'] = np.where(s_normalized_ZF37_both['Rept'] == 'loxPcontrol', 0,\n",
    "                                   np.where(s_normalized_ZF37_both['Rept'] == '27bp', 27,\n",
    "                                   np.where(s_normalized_ZF37_both['Rept'] == '79bp', 79,\n",
    "                                   np.where(s_normalized_ZF37_both['Rept'] == '155bp', 155,\n",
    "                                   np.where(s_normalized_ZF37_both['Rept'] == '203bp', 203,\n",
    "                                   np.where(s_normalized_ZF37_both['Rept'] == '263bp', 263, None))))))\n",
    "\n",
    "s_normalized_ZF43_both['spacer'] = np.where(s_normalized_ZF43_both['Rept'] == 'loxPcontrol', 0,\n",
    "                                   np.where(s_normalized_ZF43_both['Rept'] == '27bp', 27,\n",
    "                                   np.where(s_normalized_ZF43_both['Rept'] == '79bp', 79,\n",
    "                                   np.where(s_normalized_ZF43_both['Rept'] == '155bp', 155,\n",
    "                                   np.where(s_normalized_ZF43_both['Rept'] == '203bp', 203,\n",
    "                                   np.where(s_normalized_ZF43_both['Rept'] == '263bp', 263, None))))))\n"
   ]
  },
  {
   "cell_type": "code",
   "execution_count": null,
   "metadata": {},
   "outputs": [],
   "source": [
    "s_normalized_bothzf = pd.concat([s_normalized_ZF37_both, s_normalized_ZF43_both], ignore_index=True)"
   ]
  },
  {
   "cell_type": "code",
   "execution_count": null,
   "metadata": {},
   "outputs": [],
   "source": [
    "#only get the relevant part of the s dataframe\n",
    "df = s_normalized_bothzf\n",
    "\n",
    "repts = pd.array( [ \n",
    "    #'loxPcontrol', \n",
    "    '27bp', '79bp', '155bp', '203bp', '263bp'])\n",
    "data_now = s_normalized_bothzf[ s_normalized_bothzf['Cre']=='noCre']\n",
    "data_now = data_now[ data_now['Rept'].isin(repts)]\n",
    "\n",
    "y= 'kcat'\n",
    "x = 'spacer'\n",
    "hue = 'cond'\n",
    "palette = {'ZF37. noCre': 'red',\n",
    "           'ZF43. noCre': 'blue'\n",
    "}\n",
    "\n",
    "#ylim = [1e1, 1e4]\n",
    "#xlim = ylim\n",
    "\n",
    "\n",
    "plottitle = 'kcat vs spacer length scatterplot'\n",
    "g = scatter_plot(data=data_now, x=x, y=y, hue=hue, palette = palette, \n",
    "                 plottitle=plottitle, hue_order=None, xscale='linear', yscale='linear',\n",
    "                 #ylim=ylim, xlim=xlim,\n",
    "                 s= 50, legend=False)\n",
    "#g.figure.savefig(figure_folder + plottitle + '.svg',dpi=300,bbox_inches='tight')\n"
   ]
  },
  {
   "cell_type": "markdown",
   "metadata": {},
   "source": [
    "# Binning by transfection marker"
   ]
  },
  {
   "cell_type": "markdown",
   "metadata": {},
   "source": [
    "## Joint plot 203bp and cotransfection marker"
   ]
  },
  {
   "cell_type": "code",
   "execution_count": null,
   "metadata": {},
   "outputs": [],
   "source": [
    "# tagBFP vs. mGL\n",
    "plot_name = ' iRFP670 v mGL'\n",
    "\n",
    "#set the hue, hue_order, palette \n",
    "hue = 'cond' \n",
    "hue_order = None\n",
    "#Same palette as before \n",
    "palette = {'ZF37. noCre': '#C3DB9A',\n",
    "           'ZF37. Cre': '#69B645', \n",
    "           'ZF43. noCre': '#C3DB9A',\n",
    "           'ZF43. Cre': '#69B645'\n",
    "}\n",
    "\n",
    "palette = {'ZF37. noCre': 'darksalmon',\n",
    "           'ZF37. Cre': 'red', \n",
    "           'ZF43. noCre': 'deepskyblue',\n",
    "           'ZF43. Cre': 'blue'\n",
    "}\n",
    "\n",
    "\n",
    "data_now = data_iRFP670gated[ data_iRFP670gated['Rept']== '203bp']\n",
    "plottitle = 'Joint Plot 203bp iRFP670 v mGL'\n",
    "g = custom_density_plot(ycat='mGL-A',xcat='iRFP670-A', hue=hue, data=data_now, points = 10000, hue_order =hue_order, \n",
    "                        plottitle=plottitle, xlim = [5e3, 1e6],\n",
    "                        palette=palette, alpha=0, type = ['contour'], legend=False)\n",
    "g.savefig(figure_folder+ plottitle + '.svg',dpi=300,bbox_inches='tight')\n",
    "\n",
    "\n",
    "# for ZF_now in pd.unique( data_iRFP670gated['ZF']):\n",
    "#     display(ZF_now)\n",
    "#     data_now = data_iRFP670gated[ data_iRFP670gated['Rept']== '203bp']\n",
    "#     data_now = data_now[data_now['ZF']==ZF_now]\n",
    "#     plottitle = 'Joint Plot 203bp iRFP670 v mGL ' + ZF_now\n",
    "#     g = custom_density_plot(ycat='mGL-A',xcat='iRFP670-A', hue=hue, data=data_now, points = 10000, hue_order =hue_order, \n",
    "#                         plottitle=plottitle, xlim = [5e3, 1e6],\n",
    "#                         palette=palette, alpha=0, type = ['contour'], legend=False)\n",
    "#     g.savefig(figure_folder+ plottitle + '.svg',dpi=300,bbox_inches='tight')\n"
   ]
  },
  {
   "cell_type": "markdown",
   "metadata": {},
   "source": [
    "## Make binning data"
   ]
  },
  {
   "cell_type": "code",
   "execution_count": null,
   "metadata": {},
   "outputs": [],
   "source": [
    "# Bin by marker quantiles\n",
    "by = ['bioreplicate_cond_rept']\n",
    "df = data_iRFP670gated\n",
    "marker = 'iRFP670-A'\n",
    "\n",
    "# df_quantiles is all the cells \n",
    "num_bins = 20\n",
    "df['bin_marker_quantiles'] = df.groupby(by)[marker].transform(lambda x: pd.qcut(x, q=num_bins, duplicates='drop'))\n",
    "quantiles = df.groupby(by+['bin_marker_quantiles'])[marker].median().rename('bin_marker_quantiles_median').reset_index()\n",
    "df_quantiles = df.merge(quantiles, how='left', on=by+['bin_marker_quantiles'])\n",
    "# display(df_quantiles.head())\n",
    "\n",
    "# Summary steats of binned data \n",
    "#Decide how to group. The last parameter will be the condition that it is group by by last ('well' or 'bioreplicate')\n",
    "num_bins = 10\n",
    "df['bin_marker_quantiles'] = df.groupby(by)[marker].transform(lambda x: pd.cut(x, bins=num_bins, duplicates='drop'))\n",
    "quantiles_even = df.groupby(by+['bin_marker_quantiles'])[marker].median().rename('bin_marker_quantiles_median').reset_index()\n",
    "df_quantiles_even = df.merge(quantiles_even, how='left', on=by+['bin_marker_quantiles'])\n",
    "df = df_quantiles_even\n",
    "by = ['bin_marker_quantiles_median','Rept', 'ZF', 'Cre','cond','bioreplicate_cond_rept','bioreplicate'] #how to filter results, columns \n",
    "x = ['mGL-A', 'TagBFP-A', 'mCherry-A', 'iRFP670-A'] #which parameter to calculate results on\n",
    "stat = [sp.stats.gmean, np.std, np.mean] #statistics to calculate\n",
    "s_df_quantiles = calc_stats(df,by,x,stat) #calculate statistics "
   ]
  },
  {
   "cell_type": "markdown",
   "metadata": {},
   "source": [
    "## Plot Binned Data 203bp, ZF37 / ZF43, only 1 biorep, error=within biorep"
   ]
  },
  {
   "cell_type": "code",
   "execution_count": null,
   "metadata": {},
   "outputs": [],
   "source": [
    "palette = {'ZF37. noCre': '#C3DB9A',\n",
    "           'ZF37. Cre': '#69B645', \n",
    "           'ZF43. noCre': '#C3DB9A',\n",
    "           'ZF43. Cre': '#69B645'\n",
    "}\n",
    "\n",
    "palette = {'ZF37. noCre': 'darksalmon',\n",
    "           'ZF37. Cre': 'red', \n",
    "           'ZF43. noCre': 'deepskyblue',\n",
    "           'ZF43. Cre': 'blue'\n",
    "}"
   ]
  },
  {
   "cell_type": "code",
   "execution_count": null,
   "metadata": {},
   "outputs": [],
   "source": [
    "data_now = df_quantiles\n",
    "data_now = data_now[ data_now['Rept']== '203bp']\n",
    "data_now = data_now[ data_now['bioreplicate']=='20240219flow_exp20240216_p2_YL2bad']\n",
    "#set the hue, hue_order, palette \n",
    "hue = 'cond' \n",
    "x = 'bin_marker_quantiles_median'\n",
    "\n",
    "# For both ZF at the same time \n",
    "plottitle = 'Binned 203bp'\n",
    "g = plt.figure()\n",
    "ax = g.gca()\n",
    "ax.set_xscale(\"log\")\n",
    "ax.set_yscale(\"log\")\n",
    "g = sns.lineplot(data=data_now, x=x, y='mGL-A', hue=hue, palette=palette, \n",
    "             legend=False, dashes=False, markersize=4, markeredgewidth=0.5,\n",
    "             estimator='mean', \n",
    "             ci = 'sd')\n",
    "g.figure.savefig(figure_folder + plottitle + '0.125xZF_203bp' + '.svg',dpi=300,bbox_inches='tight')\n",
    "\n",
    "# For both ZF separately\n",
    "for ZF_now in pd.unique( data_iRFP670gated['ZF']):\n",
    "    display(ZF_now)\n",
    "    plottitle = 'Binned 203bp ' + ZF_now\n",
    "    data_now = df_quantiles\n",
    "    data_now = data_now[ data_now['Rept']== '203bp']\n",
    "    data_now = data_now[data_now['ZF']==ZF_now]\n",
    "    data_now = data_now[ data_now['bioreplicate']=='20240219flow_exp20240216_p2_YL2bad']\n",
    "    g = plt.figure(figsize=[6, 3])\n",
    "    ax = g.gca()\n",
    "    ax.set_xscale(\"log\")\n",
    "    ax.set_yscale(\"log\")\n",
    "    g = sns.lineplot(data=data_now, x=x, y='mGL-A', hue=hue, palette=palette, style='Cre',\n",
    "                legend=False, dashes=False, markersize=8, markeredgewidth=0.5,\n",
    "                estimator='mean', markers={'Cre':'o','noCre': 's'},\n",
    "                ci = 'sd'\n",
    "                )\n",
    "    plt.xlabel('transfection marker: log(iRFP670-A) median')  # Adjust x-axis label\n",
    "    plt.ylabel('output: log(mGL-A) mean')  # Adjust y-axis label\n",
    "    g.figure.savefig(figure_folder + plottitle + '0.125xZF_203bp' + '.svg',dpi=300,bbox_inches='tight')\n"
   ]
  },
  {
   "cell_type": "markdown",
   "metadata": {},
   "source": [
    "## Plot Binned Data 203bp, ZF37 / ZF43, only 1 biorep, error=across bioreps"
   ]
  },
  {
   "cell_type": "code",
   "execution_count": null,
   "metadata": {},
   "outputs": [],
   "source": [
    "data_now = s_df_quantiles\n",
    "data_now = data_now[ data_now['Rept']== '203bp']\n",
    "#set the hue, hue_order, palette \n",
    "hue = 'cond' \n",
    "x = 'bin_marker_quantiles_median'\n",
    "\n",
    "# For both ZF at the same time \n",
    "plottitle = 'Binned 203bp Error-bioreps'\n",
    "g = plt.figure()\n",
    "ax = g.gca()\n",
    "g = sns.lineplot(data=data_now, x=x, y='mGL-A_gmean', hue=hue, palette=palette, \n",
    "             legend=False, dashes=False, markersize=4, markeredgewidth=0.5,\n",
    "             estimator='mean', \n",
    "             ci = 'sd')\n",
    "ax.set_xscale(\"log\")\n",
    "ax.set_yscale(\"log\")\n",
    "\n",
    "# For both ZF separately\n",
    "for ZF_now in pd.unique( data_iRFP670gated['ZF']):\n",
    "    display(ZF_now)\n",
    "    plottitle = 'Binned 203bp Error-bioreps ' + ZF_now\n",
    "    data_now = s_df_quantiles\n",
    "    data_now = data_now[ data_now['Rept']== '203bp']\n",
    "    data_now = data_now[data_now['ZF']==ZF_now]\n",
    "    g = plt.figure(figsize=[6, 3])\n",
    "    ax = g.gca()\n",
    "    g = sns.lineplot(data=data_now, x=x, y='mGL-A_gmean', hue=hue, palette=palette, style='Cre',\n",
    "                legend=False, dashes=False, markersize=8, markeredgewidth=0.5,\n",
    "                estimator='mean', markers={'Cre':'o','noCre': 's'},\n",
    "                ci = 'sd'\n",
    "                )\n",
    "    ax.set_xscale(\"log\")\n",
    "    ax.set_yscale(\"log\")\n",
    "    plt.xlabel('transfection marker (iRFP670)')  # Adjust x-axis label\n",
    "    plt.ylabel('output (mGL)')  # Adjust y-axis label"
   ]
  }
 ],
 "metadata": {
  "kernelspec": {
   "display_name": "newenv",
   "language": "python",
   "name": "python3"
  },
  "language_info": {
   "codemirror_mode": {
    "name": "ipython",
    "version": 3
   },
   "file_extension": ".py",
   "mimetype": "text/x-python",
   "name": "python",
   "nbconvert_exporter": "python",
   "pygments_lexer": "ipython3",
   "version": "3.9.1"
  }
 },
 "nbformat": 4,
 "nbformat_minor": 2
}
