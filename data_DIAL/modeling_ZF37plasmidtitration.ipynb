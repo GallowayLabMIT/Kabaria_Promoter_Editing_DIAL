{
 "cells": [
  {
   "attachments": {},
   "cell_type": "markdown",
   "metadata": {},
   "source": [
    "Adapting files for MATLAB modeling"
   ]
  },
  {
   "cell_type": "code",
   "execution_count": 1,
   "metadata": {},
   "outputs": [],
   "source": [
    "import functions_paper_1\n",
    "import importlib\n",
    "from functions_paper_1 import *\n",
    "exec(open(\"functions_paper_1.py\").read())\n",
    "# Local path to Sharepoint (on your computer, change if you are a different user)\n",
    "datadir = Path(Path('../datadir_yb.txt').read_text())\n",
    "data_folder = './datafiles/modeling_'"
   ]
  },
  {
   "cell_type": "code",
   "execution_count": 2,
   "metadata": {},
   "outputs": [],
   "source": [
    "# Bioreplicates for ZF37 plasmid titration\n",
    "# 20240304flow_exp20240301_p3_BioC\n",
    "# 20240309flow_exp20240306_p1 ('Yunbeen' attune folder)\n",
    "# 20240309flow_exp20240306_p2 ('Yunbeen' attune folder)\n",
    "# 20240316flow_exp20240313_p1_ZFtitr ('Sneha' attune folder)\n",
    "# 20240315flow_exp20240312_p3_ZFtitr"
   ]
  },
  {
   "cell_type": "code",
   "execution_count": 3,
   "metadata": {},
   "outputs": [
    {
     "name": "stderr",
     "output_type": "stream",
     "text": [
      "/Users/yunbeenbae/Documents/GitHub/Cre-loxP-ZF-promoters/env/lib/python3.12/site-packages/rushd/flow.py:166: FutureWarning: The behavior of DataFrame concatenation with empty or all-NA entries is deprecated. In a future version, this will no longer exclude empty or all-NA columns when determining the result dtypes. To retain the old behavior, exclude the relevant entries before the concat operation.\n",
      "  data = pd.concat(data_list, ignore_index=True).replace(np.NaN, pd.NA)  # type: ignore\n"
     ]
    }
   ],
   "source": [
    "# Import Data - bioreplicate 1 \n",
    "folder = '20240304flow_exp20240301_p3_BioC'\n",
    "file_path = datadir/'instruments'/'data'/'attune'/'Sneha'/folder/'export_singlets' #Assign file paths\n",
    "yaml_path = datadir/'instruments'/'data'/'attune'/'Sneha'/folder/'well_metadata.yaml' #Assign yaml paths \n",
    "data1 = rd.flow.load_csv_with_metadata(file_path, yaml_path) #Pull data\n",
    "data1['bioreplicate'] = folder\n",
    "data1['mCherry-A'] = data1['mRuby2-A']"
   ]
  },
  {
   "cell_type": "code",
   "execution_count": 4,
   "metadata": {},
   "outputs": [],
   "source": [
    "# Import Data - bioreplicate 2\n",
    "folder = '20240309flow_exp20240306_p1'\n",
    "file_path = datadir/'instruments'/'data'/'attune'/'Yunbeen'/folder/'export_singlets' #Assign file paths\n",
    "yaml_path = datadir/'instruments'/'data'/'attune'/'Yunbeen'/folder/'well_metadata.yaml' #Assign yaml paths \n",
    "data2 = rd.flow.load_csv_with_metadata(file_path, yaml_path) #Pull data\n",
    "data2['bioreplicate'] = folder "
   ]
  },
  {
   "cell_type": "code",
   "execution_count": 5,
   "metadata": {},
   "outputs": [],
   "source": [
    "# Import Data - bioreplicate 3\n",
    "folder = '20240309flow_exp20240306_p2'\n",
    "file_path = datadir/'instruments'/'data'/'attune'/'Yunbeen'/folder/'export_singlets' #Assign file paths\n",
    "yaml_path = datadir/'instruments'/'data'/'attune'/'Yunbeen'/folder/'well_metadata.yaml' #Assign yaml paths \n",
    "data3 = rd.flow.load_csv_with_metadata(file_path, yaml_path) #Pull data\n",
    "data3['bioreplicate'] = folder "
   ]
  },
  {
   "cell_type": "code",
   "execution_count": 6,
   "metadata": {},
   "outputs": [
    {
     "name": "stderr",
     "output_type": "stream",
     "text": [
      "/Users/yunbeenbae/Documents/GitHub/Cre-loxP-ZF-promoters/env/lib/python3.12/site-packages/rushd/flow.py:166: FutureWarning: The behavior of DataFrame concatenation with empty or all-NA entries is deprecated. In a future version, this will no longer exclude empty or all-NA columns when determining the result dtypes. To retain the old behavior, exclude the relevant entries before the concat operation.\n",
      "  data = pd.concat(data_list, ignore_index=True).replace(np.NaN, pd.NA)  # type: ignore\n"
     ]
    }
   ],
   "source": [
    "# Import Data - bioreplicate 4 \n",
    "folder = '20240316flow_exp20240313_p1_ZFtitr'\n",
    "file_path = datadir/'instruments'/'data'/'attune'/'Sneha'/folder/'export_singlets' #Assign file paths\n",
    "yaml_path = datadir/'instruments'/'data'/'attune'/'Sneha'/folder/'well_metadata.yaml' #Assign yaml paths \n",
    "data4 = rd.flow.load_csv_with_metadata(file_path, yaml_path) #Pull data\n",
    "data4['bioreplicate'] = folder"
   ]
  },
  {
   "cell_type": "code",
   "execution_count": 7,
   "metadata": {},
   "outputs": [
    {
     "name": "stderr",
     "output_type": "stream",
     "text": [
      "/Users/yunbeenbae/Documents/GitHub/Cre-loxP-ZF-promoters/env/lib/python3.12/site-packages/rushd/flow.py:166: FutureWarning: The behavior of DataFrame concatenation with empty or all-NA entries is deprecated. In a future version, this will no longer exclude empty or all-NA columns when determining the result dtypes. To retain the old behavior, exclude the relevant entries before the concat operation.\n",
      "  data = pd.concat(data_list, ignore_index=True).replace(np.NaN, pd.NA)  # type: ignore\n"
     ]
    }
   ],
   "source": [
    "# Import Data - bioreplicate 5 \n",
    "folder = '20240315flow_exp20240312_p3_ZFtitr'\n",
    "file_path = datadir/'instruments'/'data'/'attune'/'Sneha'/folder/'export_singlets' #Assign file paths\n",
    "yaml_path = datadir/'instruments'/'data'/'attune'/'Sneha'/folder/'well_metadata.yaml' #Assign yaml paths \n",
    "data5 = rd.flow.load_csv_with_metadata(file_path, yaml_path) #Pull data\n",
    "data5['bioreplicate'] = folder"
   ]
  },
  {
   "cell_type": "code",
   "execution_count": 8,
   "metadata": {},
   "outputs": [],
   "source": [
    "# simplify df with only necessary stats\n",
    "col_keep = ['reporter', 'ZF37', 'well', 'mGL-A', 'mCherry-A', 'iRFP670-A', 'bioreplicate']\n",
    "data1_subset = data1[col_keep]\n",
    "data2_subset = data2[col_keep]\n",
    "data3_subset = data3[col_keep]\n",
    "data4_subset = data4[col_keep]\n",
    "data5_subset = data5[col_keep]"
   ]
  },
  {
   "cell_type": "code",
   "execution_count": 9,
   "metadata": {},
   "outputs": [],
   "source": [
    "# combine all 5 bioreplicate for further trimming\n",
    "data_subset = pd.concat( [data1_subset, data2_subset, data3_subset, data4_subset, data5_subset], ignore_index=True,join='inner')"
   ]
  },
  {
   "cell_type": "code",
   "execution_count": 10,
   "metadata": {},
   "outputs": [
    {
     "data": {
      "text/plain": [
       "array([<NA>, 0.00781, 0.03125, 0.25, 0.0, 0.01563, 0.5, 0.125, 1.0,\n",
       "       0.0625], dtype=object)"
      ]
     },
     "execution_count": 10,
     "metadata": {},
     "output_type": "execute_result"
    }
   ],
   "source": [
    "data_subset['ZF37'].unique()\n"
   ]
  },
  {
   "cell_type": "code",
   "execution_count": 11,
   "metadata": {},
   "outputs": [],
   "source": [
    "data = data_subset.dropna()"
   ]
  },
  {
   "cell_type": "code",
   "execution_count": 12,
   "metadata": {},
   "outputs": [
    {
     "data": {
      "text/plain": [
       "array([0.00781, 0.03125, 0.25, 0.0, 0.01563, 0.5, 0.125, 1.0, 0.0625],\n",
       "      dtype=object)"
      ]
     },
     "execution_count": 12,
     "metadata": {},
     "output_type": "execute_result"
    }
   ],
   "source": [
    "data['ZF37'].unique()"
   ]
  },
  {
   "cell_type": "code",
   "execution_count": 13,
   "metadata": {},
   "outputs": [
    {
     "data": {
      "text/plain": [
       "array(['pTET021_203bp 0.1xCre', 'pTET021_203bp 0xCre'], dtype=object)"
      ]
     },
     "execution_count": 13,
     "metadata": {},
     "output_type": "execute_result"
    }
   ],
   "source": [
    "data['reporter'].unique()"
   ]
  },
  {
   "cell_type": "code",
   "execution_count": 14,
   "metadata": {},
   "outputs": [
    {
     "data": {
      "text/html": [
       "<div>\n",
       "<style scoped>\n",
       "    .dataframe tbody tr th:only-of-type {\n",
       "        vertical-align: middle;\n",
       "    }\n",
       "\n",
       "    .dataframe tbody tr th {\n",
       "        vertical-align: top;\n",
       "    }\n",
       "\n",
       "    .dataframe thead th {\n",
       "        text-align: right;\n",
       "    }\n",
       "</style>\n",
       "<table border=\"1\" class=\"dataframe\">\n",
       "  <thead>\n",
       "    <tr style=\"text-align: right;\">\n",
       "      <th></th>\n",
       "      <th>reporter</th>\n",
       "      <th>ZF37</th>\n",
       "      <th>well</th>\n",
       "      <th>mGL-A</th>\n",
       "      <th>mCherry-A</th>\n",
       "      <th>iRFP670-A</th>\n",
       "      <th>bioreplicate</th>\n",
       "    </tr>\n",
       "  </thead>\n",
       "  <tbody>\n",
       "    <tr>\n",
       "      <th>15989</th>\n",
       "      <td>pTET021_203bp 0.1xCre</td>\n",
       "      <td>0.00781</td>\n",
       "      <td>H7</td>\n",
       "      <td>-22</td>\n",
       "      <td>18</td>\n",
       "      <td>12</td>\n",
       "      <td>20240304flow_exp20240301_p3_BioC</td>\n",
       "    </tr>\n",
       "    <tr>\n",
       "      <th>15990</th>\n",
       "      <td>pTET021_203bp 0.1xCre</td>\n",
       "      <td>0.00781</td>\n",
       "      <td>H7</td>\n",
       "      <td>62</td>\n",
       "      <td>-7</td>\n",
       "      <td>173</td>\n",
       "      <td>20240304flow_exp20240301_p3_BioC</td>\n",
       "    </tr>\n",
       "    <tr>\n",
       "      <th>15991</th>\n",
       "      <td>pTET021_203bp 0.1xCre</td>\n",
       "      <td>0.00781</td>\n",
       "      <td>H7</td>\n",
       "      <td>18</td>\n",
       "      <td>68</td>\n",
       "      <td>61</td>\n",
       "      <td>20240304flow_exp20240301_p3_BioC</td>\n",
       "    </tr>\n",
       "    <tr>\n",
       "      <th>15992</th>\n",
       "      <td>pTET021_203bp 0.1xCre</td>\n",
       "      <td>0.00781</td>\n",
       "      <td>H7</td>\n",
       "      <td>0</td>\n",
       "      <td>119</td>\n",
       "      <td>24</td>\n",
       "      <td>20240304flow_exp20240301_p3_BioC</td>\n",
       "    </tr>\n",
       "    <tr>\n",
       "      <th>15993</th>\n",
       "      <td>pTET021_203bp 0.1xCre</td>\n",
       "      <td>0.00781</td>\n",
       "      <td>H7</td>\n",
       "      <td>79</td>\n",
       "      <td>105</td>\n",
       "      <td>61</td>\n",
       "      <td>20240304flow_exp20240301_p3_BioC</td>\n",
       "    </tr>\n",
       "  </tbody>\n",
       "</table>\n",
       "</div>"
      ],
      "text/plain": [
       "                    reporter     ZF37 well  mGL-A  mCherry-A  iRFP670-A  \\\n",
       "15989  pTET021_203bp 0.1xCre  0.00781   H7    -22         18         12   \n",
       "15990  pTET021_203bp 0.1xCre  0.00781   H7     62         -7        173   \n",
       "15991  pTET021_203bp 0.1xCre  0.00781   H7     18         68         61   \n",
       "15992  pTET021_203bp 0.1xCre  0.00781   H7      0        119         24   \n",
       "15993  pTET021_203bp 0.1xCre  0.00781   H7     79        105         61   \n",
       "\n",
       "                           bioreplicate  \n",
       "15989  20240304flow_exp20240301_p3_BioC  \n",
       "15990  20240304flow_exp20240301_p3_BioC  \n",
       "15991  20240304flow_exp20240301_p3_BioC  \n",
       "15992  20240304flow_exp20240301_p3_BioC  \n",
       "15993  20240304flow_exp20240301_p3_BioC  "
      ]
     },
     "execution_count": 14,
     "metadata": {},
     "output_type": "execute_result"
    }
   ],
   "source": [
    "data.head()"
   ]
  },
  {
   "cell_type": "code",
   "execution_count": 15,
   "metadata": {},
   "outputs": [],
   "source": [
    "# gate by positive values\n",
    "data = data[ data['mCherry-A'] >0]\n",
    "data = data[ data['mGL-A'] >0]\n",
    "data = data[ data['iRFP670-A'] >0]\n",
    "data['log10 mGL-A'] = np.log10(data['mGL-A'])"
   ]
  },
  {
   "cell_type": "code",
   "execution_count": 16,
   "metadata": {},
   "outputs": [],
   "source": [
    "# gate by iRFP670 values\n",
    "iRFP670_gate = 10000 \n",
    "data_iRFP670gated = data[ data['iRFP670-A'] > iRFP670_gate]"
   ]
  },
  {
   "cell_type": "code",
   "execution_count": 17,
   "metadata": {},
   "outputs": [],
   "source": [
    "df = data_iRFP670gated #choose dataframe\n",
    "\n",
    "#Decide how to group. The last parameter will be the condition that it is group by by last ('well' or 'bioreplicate')\n",
    "by = ['reporter', 'ZF37','bioreplicate'] #how to filter results, columns \n",
    "\n",
    "x = ['mGL-A', 'mCherry-A'] #which parameter to calculate results on\n",
    "stat = [sp.stats.gmean] #statistics to calculate\n",
    "s_bioreplicate = calc_stats(df,by,x,stat) #calculate statistics "
   ]
  },
  {
   "cell_type": "code",
   "execution_count": 18,
   "metadata": {},
   "outputs": [
    {
     "data": {
      "text/html": [
       "<div>\n",
       "<style scoped>\n",
       "    .dataframe tbody tr th:only-of-type {\n",
       "        vertical-align: middle;\n",
       "    }\n",
       "\n",
       "    .dataframe tbody tr th {\n",
       "        vertical-align: top;\n",
       "    }\n",
       "\n",
       "    .dataframe thead th {\n",
       "        text-align: right;\n",
       "    }\n",
       "</style>\n",
       "<table border=\"1\" class=\"dataframe\">\n",
       "  <thead>\n",
       "    <tr style=\"text-align: right;\">\n",
       "      <th></th>\n",
       "      <th>reporter</th>\n",
       "      <th>ZF37</th>\n",
       "      <th>bioreplicate</th>\n",
       "      <th>mGL-A_gmean</th>\n",
       "      <th>mCherry-A_gmean</th>\n",
       "      <th>Fraction</th>\n",
       "      <th>Count</th>\n",
       "    </tr>\n",
       "  </thead>\n",
       "  <tbody>\n",
       "    <tr>\n",
       "      <th>0</th>\n",
       "      <td>pTET021_203bp 0.1xCre</td>\n",
       "      <td>0.0</td>\n",
       "      <td>20240304flow_exp20240301_p3_BioC</td>\n",
       "      <td>62.851683</td>\n",
       "      <td>40.812411</td>\n",
       "      <td>0.043098</td>\n",
       "      <td>1300</td>\n",
       "    </tr>\n",
       "    <tr>\n",
       "      <th>1</th>\n",
       "      <td>pTET021_203bp 0.1xCre</td>\n",
       "      <td>0.0</td>\n",
       "      <td>20240309flow_exp20240306_p1</td>\n",
       "      <td>60.212777</td>\n",
       "      <td>37.926050</td>\n",
       "      <td>0.178988</td>\n",
       "      <td>5399</td>\n",
       "    </tr>\n",
       "    <tr>\n",
       "      <th>2</th>\n",
       "      <td>pTET021_203bp 0.1xCre</td>\n",
       "      <td>0.0</td>\n",
       "      <td>20240309flow_exp20240306_p2</td>\n",
       "      <td>59.184813</td>\n",
       "      <td>39.355992</td>\n",
       "      <td>0.399848</td>\n",
       "      <td>12061</td>\n",
       "    </tr>\n",
       "    <tr>\n",
       "      <th>3</th>\n",
       "      <td>pTET021_203bp 0.1xCre</td>\n",
       "      <td>0.0</td>\n",
       "      <td>20240315flow_exp20240312_p3_ZFtitr</td>\n",
       "      <td>99.573291</td>\n",
       "      <td>39.927361</td>\n",
       "      <td>0.106816</td>\n",
       "      <td>3222</td>\n",
       "    </tr>\n",
       "    <tr>\n",
       "      <th>4</th>\n",
       "      <td>pTET021_203bp 0.1xCre</td>\n",
       "      <td>0.0</td>\n",
       "      <td>20240316flow_exp20240313_p1_ZFtitr</td>\n",
       "      <td>66.793929</td>\n",
       "      <td>40.743150</td>\n",
       "      <td>0.271250</td>\n",
       "      <td>8182</td>\n",
       "    </tr>\n",
       "    <tr>\n",
       "      <th>...</th>\n",
       "      <td>...</td>\n",
       "      <td>...</td>\n",
       "      <td>...</td>\n",
       "      <td>...</td>\n",
       "      <td>...</td>\n",
       "      <td>...</td>\n",
       "      <td>...</td>\n",
       "    </tr>\n",
       "    <tr>\n",
       "      <th>83</th>\n",
       "      <td>pTET021_203bp 0xCre</td>\n",
       "      <td>1.0</td>\n",
       "      <td>20240304flow_exp20240301_p3_BioC</td>\n",
       "      <td>268.451003</td>\n",
       "      <td>2026.370856</td>\n",
       "      <td>0.033546</td>\n",
       "      <td>2058</td>\n",
       "    </tr>\n",
       "    <tr>\n",
       "      <th>84</th>\n",
       "      <td>pTET021_203bp 0xCre</td>\n",
       "      <td>1.0</td>\n",
       "      <td>20240309flow_exp20240306_p1</td>\n",
       "      <td>214.216743</td>\n",
       "      <td>2097.058555</td>\n",
       "      <td>0.145041</td>\n",
       "      <td>8898</td>\n",
       "    </tr>\n",
       "    <tr>\n",
       "      <th>85</th>\n",
       "      <td>pTET021_203bp 0xCre</td>\n",
       "      <td>1.0</td>\n",
       "      <td>20240309flow_exp20240306_p2</td>\n",
       "      <td>190.113120</td>\n",
       "      <td>1805.417439</td>\n",
       "      <td>0.338642</td>\n",
       "      <td>20775</td>\n",
       "    </tr>\n",
       "    <tr>\n",
       "      <th>86</th>\n",
       "      <td>pTET021_203bp 0xCre</td>\n",
       "      <td>1.0</td>\n",
       "      <td>20240315flow_exp20240312_p3_ZFtitr</td>\n",
       "      <td>553.113514</td>\n",
       "      <td>2744.031970</td>\n",
       "      <td>0.064240</td>\n",
       "      <td>3941</td>\n",
       "    </tr>\n",
       "    <tr>\n",
       "      <th>87</th>\n",
       "      <td>pTET021_203bp 0xCre</td>\n",
       "      <td>1.0</td>\n",
       "      <td>20240316flow_exp20240313_p1_ZFtitr</td>\n",
       "      <td>577.398792</td>\n",
       "      <td>1603.034954</td>\n",
       "      <td>0.418530</td>\n",
       "      <td>25676</td>\n",
       "    </tr>\n",
       "  </tbody>\n",
       "</table>\n",
       "<p>88 rows × 7 columns</p>\n",
       "</div>"
      ],
      "text/plain": [
       "                 reporter  ZF37                        bioreplicate  \\\n",
       "0   pTET021_203bp 0.1xCre   0.0    20240304flow_exp20240301_p3_BioC   \n",
       "1   pTET021_203bp 0.1xCre   0.0         20240309flow_exp20240306_p1   \n",
       "2   pTET021_203bp 0.1xCre   0.0         20240309flow_exp20240306_p2   \n",
       "3   pTET021_203bp 0.1xCre   0.0  20240315flow_exp20240312_p3_ZFtitr   \n",
       "4   pTET021_203bp 0.1xCre   0.0  20240316flow_exp20240313_p1_ZFtitr   \n",
       "..                    ...   ...                                 ...   \n",
       "83    pTET021_203bp 0xCre   1.0    20240304flow_exp20240301_p3_BioC   \n",
       "84    pTET021_203bp 0xCre   1.0         20240309flow_exp20240306_p1   \n",
       "85    pTET021_203bp 0xCre   1.0         20240309flow_exp20240306_p2   \n",
       "86    pTET021_203bp 0xCre   1.0  20240315flow_exp20240312_p3_ZFtitr   \n",
       "87    pTET021_203bp 0xCre   1.0  20240316flow_exp20240313_p1_ZFtitr   \n",
       "\n",
       "    mGL-A_gmean  mCherry-A_gmean  Fraction  Count  \n",
       "0     62.851683        40.812411  0.043098   1300  \n",
       "1     60.212777        37.926050  0.178988   5399  \n",
       "2     59.184813        39.355992  0.399848  12061  \n",
       "3     99.573291        39.927361  0.106816   3222  \n",
       "4     66.793929        40.743150  0.271250   8182  \n",
       "..          ...              ...       ...    ...  \n",
       "83   268.451003      2026.370856  0.033546   2058  \n",
       "84   214.216743      2097.058555  0.145041   8898  \n",
       "85   190.113120      1805.417439  0.338642  20775  \n",
       "86   553.113514      2744.031970  0.064240   3941  \n",
       "87   577.398792      1603.034954  0.418530  25676  \n",
       "\n",
       "[88 rows x 7 columns]"
      ]
     },
     "metadata": {},
     "output_type": "display_data"
    }
   ],
   "source": [
    "display(s_bioreplicate)"
   ]
  },
  {
   "cell_type": "code",
   "execution_count": 19,
   "metadata": {},
   "outputs": [
    {
     "data": {
      "text/html": [
       "<div>\n",
       "<style scoped>\n",
       "    .dataframe tbody tr th:only-of-type {\n",
       "        vertical-align: middle;\n",
       "    }\n",
       "\n",
       "    .dataframe tbody tr th {\n",
       "        vertical-align: top;\n",
       "    }\n",
       "\n",
       "    .dataframe thead th {\n",
       "        text-align: right;\n",
       "    }\n",
       "</style>\n",
       "<table border=\"1\" class=\"dataframe\">\n",
       "  <thead>\n",
       "    <tr style=\"text-align: right;\">\n",
       "      <th></th>\n",
       "      <th>reporter</th>\n",
       "      <th>ZF37</th>\n",
       "      <th>bioreplicate</th>\n",
       "      <th>mGL-A_gmean</th>\n",
       "      <th>mCherry-A_gmean</th>\n",
       "      <th>Fraction</th>\n",
       "      <th>Count</th>\n",
       "    </tr>\n",
       "  </thead>\n",
       "  <tbody>\n",
       "    <tr>\n",
       "      <th>68</th>\n",
       "      <td>pTET021_203bp 0xCre</td>\n",
       "      <td>0.125</td>\n",
       "      <td>20240304flow_exp20240301_p3_BioC</td>\n",
       "      <td>284.434091</td>\n",
       "      <td>392.773937</td>\n",
       "      <td>0.049121</td>\n",
       "      <td>2504</td>\n",
       "    </tr>\n",
       "    <tr>\n",
       "      <th>69</th>\n",
       "      <td>pTET021_203bp 0xCre</td>\n",
       "      <td>0.125</td>\n",
       "      <td>20240309flow_exp20240306_p1</td>\n",
       "      <td>241.568346</td>\n",
       "      <td>338.738721</td>\n",
       "      <td>0.197034</td>\n",
       "      <td>10044</td>\n",
       "    </tr>\n",
       "    <tr>\n",
       "      <th>70</th>\n",
       "      <td>pTET021_203bp 0xCre</td>\n",
       "      <td>0.125</td>\n",
       "      <td>20240309flow_exp20240306_p2</td>\n",
       "      <td>215.293458</td>\n",
       "      <td>286.955465</td>\n",
       "      <td>0.445975</td>\n",
       "      <td>22734</td>\n",
       "    </tr>\n",
       "    <tr>\n",
       "      <th>71</th>\n",
       "      <td>pTET021_203bp 0xCre</td>\n",
       "      <td>0.125</td>\n",
       "      <td>20240315flow_exp20240312_p3_ZFtitr</td>\n",
       "      <td>597.003682</td>\n",
       "      <td>457.403146</td>\n",
       "      <td>0.051377</td>\n",
       "      <td>2619</td>\n",
       "    </tr>\n",
       "    <tr>\n",
       "      <th>72</th>\n",
       "      <td>pTET021_203bp 0xCre</td>\n",
       "      <td>0.125</td>\n",
       "      <td>20240316flow_exp20240313_p1_ZFtitr</td>\n",
       "      <td>487.810182</td>\n",
       "      <td>229.954029</td>\n",
       "      <td>0.256493</td>\n",
       "      <td>13075</td>\n",
       "    </tr>\n",
       "  </tbody>\n",
       "</table>\n",
       "</div>"
      ],
      "text/plain": [
       "               reporter   ZF37                        bioreplicate  \\\n",
       "68  pTET021_203bp 0xCre  0.125    20240304flow_exp20240301_p3_BioC   \n",
       "69  pTET021_203bp 0xCre  0.125         20240309flow_exp20240306_p1   \n",
       "70  pTET021_203bp 0xCre  0.125         20240309flow_exp20240306_p2   \n",
       "71  pTET021_203bp 0xCre  0.125  20240315flow_exp20240312_p3_ZFtitr   \n",
       "72  pTET021_203bp 0xCre  0.125  20240316flow_exp20240313_p1_ZFtitr   \n",
       "\n",
       "    mGL-A_gmean  mCherry-A_gmean  Fraction  Count  \n",
       "68   284.434091       392.773937  0.049121   2504  \n",
       "69   241.568346       338.738721  0.197034  10044  \n",
       "70   215.293458       286.955465  0.445975  22734  \n",
       "71   597.003682       457.403146  0.051377   2619  \n",
       "72   487.810182       229.954029  0.256493  13075  "
      ]
     },
     "metadata": {},
     "output_type": "display_data"
    }
   ],
   "source": [
    "s_125x_noCre = s_bioreplicate[(s_bioreplicate['ZF37']==0.125)&(s_bioreplicate['reporter']=='pTET021_203bp 0xCre')]\n",
    "display(s_125x_noCre)"
   ]
  },
  {
   "cell_type": "code",
   "execution_count": 20,
   "metadata": {},
   "outputs": [
    {
     "data": {
      "text/plain": [
       "284.4340908415765"
      ]
     },
     "metadata": {},
     "output_type": "display_data"
    },
    {
     "data": {
      "text/plain": [
       "392.773936536853"
      ]
     },
     "metadata": {},
     "output_type": "display_data"
    },
    {
     "data": {
      "text/plain": [
       "241.56834561903875"
      ]
     },
     "metadata": {},
     "output_type": "display_data"
    },
    {
     "data": {
      "text/plain": [
       "338.73872144408915"
      ]
     },
     "metadata": {},
     "output_type": "display_data"
    },
    {
     "data": {
      "text/plain": [
       "215.29345828750553"
      ]
     },
     "metadata": {},
     "output_type": "display_data"
    },
    {
     "data": {
      "text/plain": [
       "286.9554646874573"
      ]
     },
     "metadata": {},
     "output_type": "display_data"
    },
    {
     "data": {
      "text/plain": [
       "487.81018171206273"
      ]
     },
     "metadata": {},
     "output_type": "display_data"
    },
    {
     "data": {
      "text/plain": [
       "229.95402873297434"
      ]
     },
     "metadata": {},
     "output_type": "display_data"
    },
    {
     "data": {
      "text/plain": [
       "597.0036822597077"
      ]
     },
     "metadata": {},
     "output_type": "display_data"
    },
    {
     "data": {
      "text/plain": [
       "457.40314580259275"
      ]
     },
     "metadata": {},
     "output_type": "display_data"
    }
   ],
   "source": [
    "bioreps_plot = pd.array(['20240304flow_exp20240301_p3_BioC',\n",
    "                         '20240309flow_exp20240306_p1',\n",
    "                         '20240309flow_exp20240306_p2', \n",
    "                         '20240316flow_exp20240313_p1_ZFtitr',\n",
    "                         '20240315flow_exp20240312_p3_ZFtitr'\n",
    "                         ])\n",
    "\n",
    "# initialization for all datapoints\n",
    "# data_iRFP670gated['Normalized_mGL-A_gmean'] = 0\n",
    "# data_iRFP670gated['Normalized_mCherry-A_gmean'] = 0\n",
    "\n",
    "for biorep in bioreps_plot:\n",
    "\n",
    "    mGL_125x = s_bioreplicate[(s_bioreplicate['bioreplicate']==biorep)&(s_bioreplicate['reporter'] == 'pTET021_203bp 0xCre') & (s_bioreplicate['ZF37'] == 0.125)]['mGL-A_gmean'].iloc[0]\n",
    "    display(mGL_125x)\n",
    "\n",
    "    mCherry_125x = s_bioreplicate[(s_bioreplicate['bioreplicate']==biorep)&(s_bioreplicate['reporter'] == 'pTET021_203bp 0xCre') & (s_bioreplicate['ZF37'] == 0.125)]['mCherry-A_gmean'].iloc[0]\n",
    "    display(mCherry_125x)\n",
    "    \n",
    "    # for every data point\n",
    "    # condition = data_iRFP670gated['bioreplicate'] == biorep\n",
    "    # data_iRFP670gated.loc[condition, 'Normalized_mGL-A_gmean'] = data_iRFP670gated.loc[condition, 'mGL-A'] / mGL_125x\n",
    "    # data_iRFP670gated.loc[condition, 'Normalized_mCherry-A_gmean'] = data_iRFP670gated.loc[condition, 'mCherry-A'] / mCherry_125x\n",
    "\n",
    "    condition = s_bioreplicate['bioreplicate'] == biorep\n",
    "    s_bioreplicate.loc[condition, 'Normalized_mGL-A_gmean'] = s_bioreplicate.loc[condition, 'mGL-A_gmean'] / mGL_125x\n",
    "    s_bioreplicate.loc[condition, 'Normalized_mCherry-A_gmean'] = s_bioreplicate.loc[condition, 'mCherry-A_gmean'] / mCherry_125x"
   ]
  },
  {
   "cell_type": "code",
   "execution_count": 21,
   "metadata": {},
   "outputs": [
    {
     "data": {
      "text/html": [
       "<div>\n",
       "<style scoped>\n",
       "    .dataframe tbody tr th:only-of-type {\n",
       "        vertical-align: middle;\n",
       "    }\n",
       "\n",
       "    .dataframe tbody tr th {\n",
       "        vertical-align: top;\n",
       "    }\n",
       "\n",
       "    .dataframe thead th {\n",
       "        text-align: right;\n",
       "    }\n",
       "</style>\n",
       "<table border=\"1\" class=\"dataframe\">\n",
       "  <thead>\n",
       "    <tr style=\"text-align: right;\">\n",
       "      <th></th>\n",
       "      <th>reporter</th>\n",
       "      <th>ZF37</th>\n",
       "      <th>bioreplicate</th>\n",
       "      <th>mGL-A_gmean</th>\n",
       "      <th>mCherry-A_gmean</th>\n",
       "      <th>Fraction</th>\n",
       "      <th>Count</th>\n",
       "      <th>Normalized_mGL-A_gmean</th>\n",
       "      <th>Normalized_mCherry-A_gmean</th>\n",
       "    </tr>\n",
       "  </thead>\n",
       "  <tbody>\n",
       "    <tr>\n",
       "      <th>0</th>\n",
       "      <td>pTET021_203bp 0.1xCre</td>\n",
       "      <td>0.0</td>\n",
       "      <td>20240304flow_exp20240301_p3_BioC</td>\n",
       "      <td>62.851683</td>\n",
       "      <td>40.812411</td>\n",
       "      <td>0.043098</td>\n",
       "      <td>1300</td>\n",
       "      <td>0.220971</td>\n",
       "      <td>0.103908</td>\n",
       "    </tr>\n",
       "    <tr>\n",
       "      <th>1</th>\n",
       "      <td>pTET021_203bp 0.1xCre</td>\n",
       "      <td>0.0</td>\n",
       "      <td>20240309flow_exp20240306_p1</td>\n",
       "      <td>60.212777</td>\n",
       "      <td>37.926050</td>\n",
       "      <td>0.178988</td>\n",
       "      <td>5399</td>\n",
       "      <td>0.249258</td>\n",
       "      <td>0.111963</td>\n",
       "    </tr>\n",
       "    <tr>\n",
       "      <th>2</th>\n",
       "      <td>pTET021_203bp 0.1xCre</td>\n",
       "      <td>0.0</td>\n",
       "      <td>20240309flow_exp20240306_p2</td>\n",
       "      <td>59.184813</td>\n",
       "      <td>39.355992</td>\n",
       "      <td>0.399848</td>\n",
       "      <td>12061</td>\n",
       "      <td>0.274903</td>\n",
       "      <td>0.137150</td>\n",
       "    </tr>\n",
       "    <tr>\n",
       "      <th>3</th>\n",
       "      <td>pTET021_203bp 0.1xCre</td>\n",
       "      <td>0.0</td>\n",
       "      <td>20240315flow_exp20240312_p3_ZFtitr</td>\n",
       "      <td>99.573291</td>\n",
       "      <td>39.927361</td>\n",
       "      <td>0.106816</td>\n",
       "      <td>3222</td>\n",
       "      <td>0.166788</td>\n",
       "      <td>0.087291</td>\n",
       "    </tr>\n",
       "    <tr>\n",
       "      <th>4</th>\n",
       "      <td>pTET021_203bp 0.1xCre</td>\n",
       "      <td>0.0</td>\n",
       "      <td>20240316flow_exp20240313_p1_ZFtitr</td>\n",
       "      <td>66.793929</td>\n",
       "      <td>40.743150</td>\n",
       "      <td>0.271250</td>\n",
       "      <td>8182</td>\n",
       "      <td>0.136926</td>\n",
       "      <td>0.177180</td>\n",
       "    </tr>\n",
       "    <tr>\n",
       "      <th>...</th>\n",
       "      <td>...</td>\n",
       "      <td>...</td>\n",
       "      <td>...</td>\n",
       "      <td>...</td>\n",
       "      <td>...</td>\n",
       "      <td>...</td>\n",
       "      <td>...</td>\n",
       "      <td>...</td>\n",
       "      <td>...</td>\n",
       "    </tr>\n",
       "    <tr>\n",
       "      <th>83</th>\n",
       "      <td>pTET021_203bp 0xCre</td>\n",
       "      <td>1.0</td>\n",
       "      <td>20240304flow_exp20240301_p3_BioC</td>\n",
       "      <td>268.451003</td>\n",
       "      <td>2026.370856</td>\n",
       "      <td>0.033546</td>\n",
       "      <td>2058</td>\n",
       "      <td>0.943807</td>\n",
       "      <td>5.159128</td>\n",
       "    </tr>\n",
       "    <tr>\n",
       "      <th>84</th>\n",
       "      <td>pTET021_203bp 0xCre</td>\n",
       "      <td>1.0</td>\n",
       "      <td>20240309flow_exp20240306_p1</td>\n",
       "      <td>214.216743</td>\n",
       "      <td>2097.058555</td>\n",
       "      <td>0.145041</td>\n",
       "      <td>8898</td>\n",
       "      <td>0.886775</td>\n",
       "      <td>6.190785</td>\n",
       "    </tr>\n",
       "    <tr>\n",
       "      <th>85</th>\n",
       "      <td>pTET021_203bp 0xCre</td>\n",
       "      <td>1.0</td>\n",
       "      <td>20240309flow_exp20240306_p2</td>\n",
       "      <td>190.113120</td>\n",
       "      <td>1805.417439</td>\n",
       "      <td>0.338642</td>\n",
       "      <td>20775</td>\n",
       "      <td>0.883042</td>\n",
       "      <td>6.291629</td>\n",
       "    </tr>\n",
       "    <tr>\n",
       "      <th>86</th>\n",
       "      <td>pTET021_203bp 0xCre</td>\n",
       "      <td>1.0</td>\n",
       "      <td>20240315flow_exp20240312_p3_ZFtitr</td>\n",
       "      <td>553.113514</td>\n",
       "      <td>2744.031970</td>\n",
       "      <td>0.064240</td>\n",
       "      <td>3941</td>\n",
       "      <td>0.926483</td>\n",
       "      <td>5.999154</td>\n",
       "    </tr>\n",
       "    <tr>\n",
       "      <th>87</th>\n",
       "      <td>pTET021_203bp 0xCre</td>\n",
       "      <td>1.0</td>\n",
       "      <td>20240316flow_exp20240313_p1_ZFtitr</td>\n",
       "      <td>577.398792</td>\n",
       "      <td>1603.034954</td>\n",
       "      <td>0.418530</td>\n",
       "      <td>25676</td>\n",
       "      <td>1.183655</td>\n",
       "      <td>6.971111</td>\n",
       "    </tr>\n",
       "  </tbody>\n",
       "</table>\n",
       "<p>88 rows × 9 columns</p>\n",
       "</div>"
      ],
      "text/plain": [
       "                 reporter  ZF37                        bioreplicate  \\\n",
       "0   pTET021_203bp 0.1xCre   0.0    20240304flow_exp20240301_p3_BioC   \n",
       "1   pTET021_203bp 0.1xCre   0.0         20240309flow_exp20240306_p1   \n",
       "2   pTET021_203bp 0.1xCre   0.0         20240309flow_exp20240306_p2   \n",
       "3   pTET021_203bp 0.1xCre   0.0  20240315flow_exp20240312_p3_ZFtitr   \n",
       "4   pTET021_203bp 0.1xCre   0.0  20240316flow_exp20240313_p1_ZFtitr   \n",
       "..                    ...   ...                                 ...   \n",
       "83    pTET021_203bp 0xCre   1.0    20240304flow_exp20240301_p3_BioC   \n",
       "84    pTET021_203bp 0xCre   1.0         20240309flow_exp20240306_p1   \n",
       "85    pTET021_203bp 0xCre   1.0         20240309flow_exp20240306_p2   \n",
       "86    pTET021_203bp 0xCre   1.0  20240315flow_exp20240312_p3_ZFtitr   \n",
       "87    pTET021_203bp 0xCre   1.0  20240316flow_exp20240313_p1_ZFtitr   \n",
       "\n",
       "    mGL-A_gmean  mCherry-A_gmean  Fraction  Count  Normalized_mGL-A_gmean  \\\n",
       "0     62.851683        40.812411  0.043098   1300                0.220971   \n",
       "1     60.212777        37.926050  0.178988   5399                0.249258   \n",
       "2     59.184813        39.355992  0.399848  12061                0.274903   \n",
       "3     99.573291        39.927361  0.106816   3222                0.166788   \n",
       "4     66.793929        40.743150  0.271250   8182                0.136926   \n",
       "..          ...              ...       ...    ...                     ...   \n",
       "83   268.451003      2026.370856  0.033546   2058                0.943807   \n",
       "84   214.216743      2097.058555  0.145041   8898                0.886775   \n",
       "85   190.113120      1805.417439  0.338642  20775                0.883042   \n",
       "86   553.113514      2744.031970  0.064240   3941                0.926483   \n",
       "87   577.398792      1603.034954  0.418530  25676                1.183655   \n",
       "\n",
       "    Normalized_mCherry-A_gmean  \n",
       "0                     0.103908  \n",
       "1                     0.111963  \n",
       "2                     0.137150  \n",
       "3                     0.087291  \n",
       "4                     0.177180  \n",
       "..                         ...  \n",
       "83                    5.159128  \n",
       "84                    6.190785  \n",
       "85                    6.291629  \n",
       "86                    5.999154  \n",
       "87                    6.971111  \n",
       "\n",
       "[88 rows x 9 columns]"
      ]
     },
     "metadata": {},
     "output_type": "display_data"
    }
   ],
   "source": [
    "display(s_bioreplicate)"
   ]
  },
  {
   "cell_type": "code",
   "execution_count": 22,
   "metadata": {},
   "outputs": [],
   "source": [
    "data_subset_noCre = s_bioreplicate[s_bioreplicate['reporter']== 'pTET021_203bp 0xCre']\n",
    "data_subset_Cre = s_bioreplicate[s_bioreplicate['reporter']== 'pTET021_203bp 0.1xCre']"
   ]
  },
  {
   "cell_type": "code",
   "execution_count": 23,
   "metadata": {},
   "outputs": [
    {
     "data": {
      "text/plain": [
       "array([0.     , 0.00781, 0.01563, 0.03125, 0.0625 , 0.125  , 0.25   ,\n",
       "       0.5    , 1.     ])"
      ]
     },
     "execution_count": 23,
     "metadata": {},
     "output_type": "execute_result"
    }
   ],
   "source": [
    "data_subset_noCre['ZF37'].unique()"
   ]
  },
  {
   "cell_type": "code",
   "execution_count": 24,
   "metadata": {},
   "outputs": [
    {
     "name": "stderr",
     "output_type": "stream",
     "text": [
      "/var/folders/sg/b0f4ms6d7nx2q59_0mk_kgxm0000gn/T/ipykernel_30098/292679326.py:1: SettingWithCopyWarning: \n",
      "A value is trying to be set on a copy of a slice from a DataFrame.\n",
      "Try using .loc[row_indexer,col_indexer] = value instead\n",
      "\n",
      "See the caveats in the documentation: https://pandas.pydata.org/pandas-docs/stable/user_guide/indexing.html#returning-a-view-versus-a-copy\n",
      "  data_subset_noCre['ZF37'] = data_subset_noCre['ZF37'].astype(str)\n",
      "/var/folders/sg/b0f4ms6d7nx2q59_0mk_kgxm0000gn/T/ipykernel_30098/292679326.py:2: SettingWithCopyWarning: \n",
      "A value is trying to be set on a copy of a slice from a DataFrame.\n",
      "Try using .loc[row_indexer,col_indexer] = value instead\n",
      "\n",
      "See the caveats in the documentation: https://pandas.pydata.org/pandas-docs/stable/user_guide/indexing.html#returning-a-view-versus-a-copy\n",
      "  data_subset_Cre['ZF37'] = data_subset_Cre['ZF37'].astype(str)\n"
     ]
    }
   ],
   "source": [
    "data_subset_noCre['ZF37'] = data_subset_noCre['ZF37'].astype(str)\n",
    "data_subset_Cre['ZF37'] = data_subset_Cre['ZF37'].astype(str)"
   ]
  },
  {
   "cell_type": "code",
   "execution_count": 25,
   "metadata": {},
   "outputs": [],
   "source": [
    "mean_mGL_noCre_0zf = data_subset_noCre[data_subset_noCre['ZF37']==0]['Normalized_mGL-A_gmean'].mean()\n",
    "mean_mCherry_noCre_0zf = data_subset_noCre[data_subset_noCre['ZF37']==0]['Normalized_mCherry-A_gmean'].mean()"
   ]
  },
  {
   "cell_type": "code",
   "execution_count": 26,
   "metadata": {},
   "outputs": [],
   "source": [
    "zf_target_conc = pd.array(['0.0', '0.00781', '0.01563', '0.03125', '0.0625', '0.125', '0.25', '0.5', '1.0'])\n",
    "\n",
    "# initialization for mean of gmeans\n",
    "noCre_mean = pd.DataFrame(columns=['zf_conc', 'mean_mGL_noCre', 'mean_mCherry_noCre'])\n",
    "Cre_mean = pd.DataFrame(columns=['zf_conc', 'mean_mGL_Cre', 'mean_mCherry_Cre'])\n",
    "\n",
    "for zf_conc in zf_target_conc:\n",
    "\n",
    "    mean_mGL_noCre = data_subset_noCre[data_subset_noCre['ZF37']==zf_conc]['Normalized_mGL-A_gmean'].mean()\n",
    "    mean_mCherry_noCre = data_subset_noCre[data_subset_noCre['ZF37']==zf_conc]['Normalized_mCherry-A_gmean'].mean()\n",
    "\n",
    "    mean_mGL_Cre = data_subset_Cre[data_subset_Cre['ZF37']==zf_conc]['Normalized_mGL-A_gmean'].mean()\n",
    "    mean_mCherry_Cre = data_subset_Cre[data_subset_Cre['ZF37']==zf_conc]['Normalized_mCherry-A_gmean'].mean()\n",
    "\n",
    "    noCre_mean.loc[len(noCre_mean)] = [zf_conc, mean_mGL_noCre, mean_mCherry_noCre]\n",
    "\n",
    "    Cre_mean.loc[len(Cre_mean)] = [zf_conc, mean_mGL_Cre, mean_mCherry_Cre]"
   ]
  },
  {
   "cell_type": "code",
   "execution_count": 27,
   "metadata": {},
   "outputs": [
    {
     "data": {
      "text/html": [
       "<div>\n",
       "<style scoped>\n",
       "    .dataframe tbody tr th:only-of-type {\n",
       "        vertical-align: middle;\n",
       "    }\n",
       "\n",
       "    .dataframe tbody tr th {\n",
       "        vertical-align: top;\n",
       "    }\n",
       "\n",
       "    .dataframe thead th {\n",
       "        text-align: right;\n",
       "    }\n",
       "</style>\n",
       "<table border=\"1\" class=\"dataframe\">\n",
       "  <thead>\n",
       "    <tr style=\"text-align: right;\">\n",
       "      <th></th>\n",
       "      <th>zf_conc</th>\n",
       "      <th>mean_mGL_noCre</th>\n",
       "      <th>mean_mCherry_noCre</th>\n",
       "    </tr>\n",
       "  </thead>\n",
       "  <tbody>\n",
       "    <tr>\n",
       "      <th>0</th>\n",
       "      <td>0.0</td>\n",
       "      <td>0.123609</td>\n",
       "      <td>0.115317</td>\n",
       "    </tr>\n",
       "    <tr>\n",
       "      <th>1</th>\n",
       "      <td>0.00781</td>\n",
       "      <td>0.423860</td>\n",
       "      <td>0.213728</td>\n",
       "    </tr>\n",
       "    <tr>\n",
       "      <th>2</th>\n",
       "      <td>0.01563</td>\n",
       "      <td>0.622388</td>\n",
       "      <td>0.297223</td>\n",
       "    </tr>\n",
       "    <tr>\n",
       "      <th>3</th>\n",
       "      <td>0.03125</td>\n",
       "      <td>0.744024</td>\n",
       "      <td>0.408911</td>\n",
       "    </tr>\n",
       "    <tr>\n",
       "      <th>4</th>\n",
       "      <td>0.0625</td>\n",
       "      <td>0.868208</td>\n",
       "      <td>0.598726</td>\n",
       "    </tr>\n",
       "    <tr>\n",
       "      <th>5</th>\n",
       "      <td>0.125</td>\n",
       "      <td>1.000000</td>\n",
       "      <td>1.000000</td>\n",
       "    </tr>\n",
       "    <tr>\n",
       "      <th>6</th>\n",
       "      <td>0.25</td>\n",
       "      <td>1.112180</td>\n",
       "      <td>1.899059</td>\n",
       "    </tr>\n",
       "    <tr>\n",
       "      <th>7</th>\n",
       "      <td>0.5</td>\n",
       "      <td>1.053172</td>\n",
       "      <td>3.486967</td>\n",
       "    </tr>\n",
       "    <tr>\n",
       "      <th>8</th>\n",
       "      <td>1.0</td>\n",
       "      <td>0.964752</td>\n",
       "      <td>6.122361</td>\n",
       "    </tr>\n",
       "  </tbody>\n",
       "</table>\n",
       "</div>"
      ],
      "text/plain": [
       "   zf_conc  mean_mGL_noCre  mean_mCherry_noCre\n",
       "0      0.0        0.123609            0.115317\n",
       "1  0.00781        0.423860            0.213728\n",
       "2  0.01563        0.622388            0.297223\n",
       "3  0.03125        0.744024            0.408911\n",
       "4   0.0625        0.868208            0.598726\n",
       "5    0.125        1.000000            1.000000\n",
       "6     0.25        1.112180            1.899059\n",
       "7      0.5        1.053172            3.486967\n",
       "8      1.0        0.964752            6.122361"
      ]
     },
     "metadata": {},
     "output_type": "display_data"
    }
   ],
   "source": [
    "display(noCre_mean)"
   ]
  },
  {
   "cell_type": "code",
   "execution_count": 29,
   "metadata": {},
   "outputs": [],
   "source": [
    "noCre_file_path = data_folder + 'noCre_ZF37titration.xlsx'\n",
    "data_subset_noCre.to_excel(noCre_file_path, index=False)\n",
    "\n",
    "Cre_file_path = data_folder + 'Cre_ZF37titration.xlsx'\n",
    "data_subset_Cre.to_excel(Cre_file_path, index=False)"
   ]
  },
  {
   "cell_type": "code",
   "execution_count": 30,
   "metadata": {},
   "outputs": [],
   "source": [
    "mean_noCre_file_path = data_folder + 'MEAN_noCre_ZF37titration.xlsx'\n",
    "noCre_mean.to_excel(mean_noCre_file_path, index=False)\n",
    "\n",
    "mean_Cre_file_path = data_folder + 'MEAN_Cre_ZF37titration.xlsx'\n",
    "Cre_mean.to_excel(mean_Cre_file_path, index=False)"
   ]
  },
  {
   "cell_type": "markdown",
   "metadata": {},
   "source": [
    "Do calculations for each biorep"
   ]
  },
  {
   "cell_type": "code",
   "execution_count": null,
   "metadata": {},
   "outputs": [],
   "source": [
    "# subset data_subset_noCre and data_subset_Cre per biorep\n",
    "# 20240304flow_exp20240301_p3_BioC\n",
    "# 20240309flow_exp20240306_p1 ('Yunbeen' attune folder) -- missing 0.0625xZF, 16 instead of 18\n",
    "# 20240309flow_exp20240306_p2 ('Yunbeen' attune folder)\n",
    "# 20240316flow_exp20240313_p1_ZFtitr ('Sneha' attune folder)\n",
    "# 20240315flow_exp20240312_p3_ZFtitr"
   ]
  },
  {
   "cell_type": "code",
   "execution_count": null,
   "metadata": {},
   "outputs": [],
   "source": [
    "bioreps = pd.array(['20240304flow_exp20240301_p3_BioC',\n",
    "                    '20240309flow_exp20240306_p1',\n",
    "                    '20240309flow_exp20240306_p2',\n",
    "                    '20240316flow_exp20240313_p1_ZFtitr',\n",
    "                    '20240315flow_exp20240312_p3_ZFtitr'])\n",
    "\n",
    "# Iterate over bioreps with index\n",
    "for i, biorep in enumerate(bioreps):\n",
    "    # Subset based on condition for noCre\n",
    "    globals()[f\"data_noCre_{i}\"] = data_subset_noCre[data_subset_noCre['bioreplicate'] == biorep].copy()\n",
    "    # Subset based on condition for Cre\n",
    "    globals()[f\"data_Cre_{i}\"] = data_subset_Cre[data_subset_Cre['bioreplicate'] == biorep].copy()"
   ]
  },
  {
   "cell_type": "code",
   "execution_count": null,
   "metadata": {},
   "outputs": [],
   "source": [
    "display(data_noCre_0)\n",
    "display(data_Cre_0)"
   ]
  },
  {
   "cell_type": "code",
   "execution_count": null,
   "metadata": {},
   "outputs": [],
   "source": [
    "biorep0_noCre_file_path = data_folder + 'noCre_ZF37tit_biorep0.xlsx'\n",
    "data_noCre_0.to_excel(biorep0_noCre_file_path, index=False)\n",
    "\n",
    "biorep0_Cre_file_path = data_folder + 'Cre_ZF37tit_biorep0.xlsx'\n",
    "data_Cre_0.to_excel(biorep0_Cre_file_path, index=False)"
   ]
  },
  {
   "cell_type": "code",
   "execution_count": null,
   "metadata": {},
   "outputs": [],
   "source": [
    "biorep1_noCre_file_path = data_folder + 'noCre_ZF37tit_biorep1.xlsx'\n",
    "data_noCre_1.to_excel(biorep1_noCre_file_path, index=False)\n",
    "\n",
    "biorep1_Cre_file_path = data_folder + 'Cre_ZF37tit_biorep1.xlsx'\n",
    "data_Cre_1.to_excel(biorep1_Cre_file_path, index=False)"
   ]
  },
  {
   "cell_type": "code",
   "execution_count": null,
   "metadata": {},
   "outputs": [],
   "source": [
    "biorep2_noCre_file_path = data_folder + 'noCre_ZF37tit_biorep2.xlsx'\n",
    "data_noCre_2.to_excel(biorep2_noCre_file_path, index=False)\n",
    "\n",
    "biorep2_Cre_file_path = data_folder + 'Cre_ZF37tit_biorep2.xlsx'\n",
    "data_Cre_2.to_excel(biorep2_Cre_file_path, index=False)"
   ]
  },
  {
   "cell_type": "code",
   "execution_count": null,
   "metadata": {},
   "outputs": [],
   "source": [
    "biorep3_noCre_file_path = data_folder + 'noCre_ZF37tit_biorep3.xlsx'\n",
    "data_noCre_3.to_excel(biorep3_noCre_file_path, index=False)\n",
    "\n",
    "biorep3_Cre_file_path = data_folder + 'Cre_ZF37tit_biorep3.xlsx'\n",
    "data_Cre_3.to_excel(biorep3_Cre_file_path, index=False)"
   ]
  },
  {
   "cell_type": "code",
   "execution_count": null,
   "metadata": {},
   "outputs": [],
   "source": [
    "biorep4_noCre_file_path = data_folder + 'noCre_ZF37tit_biorep4.xlsx'\n",
    "data_noCre_4.to_excel(biorep4_noCre_file_path, index=False)\n",
    "\n",
    "biorep4_Cre_file_path = data_folder + 'Cre_ZF37tit_biorep4.xlsx'\n",
    "data_Cre_4.to_excel(biorep4_Cre_file_path, index=False)"
   ]
  }
 ],
 "metadata": {
  "kernelspec": {
   "display_name": "env",
   "language": "python",
   "name": "python3"
  },
  "language_info": {
   "codemirror_mode": {
    "name": "ipython",
    "version": 3
   },
   "file_extension": ".py",
   "mimetype": "text/x-python",
   "name": "python",
   "nbconvert_exporter": "python",
   "pygments_lexer": "ipython3",
   "version": "3.12.3"
  },
  "orig_nbformat": 4
 },
 "nbformat": 4,
 "nbformat_minor": 2
}
