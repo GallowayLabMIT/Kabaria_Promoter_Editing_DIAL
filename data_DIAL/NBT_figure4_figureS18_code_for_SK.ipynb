{
 "cells": [
  {
   "cell_type": "markdown",
   "id": "e3bd0e82",
   "metadata": {},
   "source": [
    "# Figure 4 and S18 code"
   ]
  },
  {
   "cell_type": "markdown",
   "id": "a3933822",
   "metadata": {},
   "source": [
    "**Import packages**"
   ]
  },
  {
   "cell_type": "code",
   "execution_count": 1,
   "id": "f8fc89cc",
   "metadata": {},
   "outputs": [],
   "source": [
    "import importlib\n",
    "import itertools\n",
    "import matplotlib as plt\n",
    "import functions_paper_1_MEE\n",
    "from functions_paper_1_MEE import *\n",
    "import rushd as rd\n",
    "import seaborn as sns\n",
    "exec(open(\"functions_paper_1_MEE.py\").read())\n",
    "sns.set_context('paper')\n",
    "from statannot import add_stat_annotation"
   ]
  },
  {
   "cell_type": "markdown",
   "id": "3d7da4a4",
   "metadata": {},
   "source": [
    "**Set paths for experimental data and create dictionaries to load in plates**"
   ]
  },
  {
   "cell_type": "code",
   "execution_count": 2,
   "id": "3a2e05da",
   "metadata": {},
   "outputs": [
    {
     "data": {
      "text/html": [
       "<div>\n",
       "<style scoped>\n",
       "    .dataframe tbody tr th:only-of-type {\n",
       "        vertical-align: middle;\n",
       "    }\n",
       "\n",
       "    .dataframe tbody tr th {\n",
       "        vertical-align: top;\n",
       "    }\n",
       "\n",
       "    .dataframe thead th {\n",
       "        text-align: right;\n",
       "    }\n",
       "</style>\n",
       "<table border=\"1\" class=\"dataframe\">\n",
       "  <thead>\n",
       "    <tr style=\"text-align: right;\">\n",
       "      <th></th>\n",
       "      <th>data_path</th>\n",
       "      <th>yaml_path</th>\n",
       "    </tr>\n",
       "  </thead>\n",
       "  <tbody>\n",
       "    <tr>\n",
       "      <th>0</th>\n",
       "      <td>C:\\Users\\ChemeGrad2020\\OneDrive - Massachusett...</td>\n",
       "      <td>C:\\Users\\ChemeGrad2020\\OneDrive - Massachusett...</td>\n",
       "    </tr>\n",
       "    <tr>\n",
       "      <th>1</th>\n",
       "      <td>C:\\Users\\ChemeGrad2020\\OneDrive - Massachusett...</td>\n",
       "      <td>C:\\Users\\ChemeGrad2020\\OneDrive - Massachusett...</td>\n",
       "    </tr>\n",
       "    <tr>\n",
       "      <th>2</th>\n",
       "      <td>C:\\Users\\ChemeGrad2020\\OneDrive - Massachusett...</td>\n",
       "      <td>C:\\Users\\ChemeGrad2020\\OneDrive - Massachusett...</td>\n",
       "    </tr>\n",
       "    <tr>\n",
       "      <th>3</th>\n",
       "      <td>C:\\Users\\ChemeGrad2020\\OneDrive - Massachusett...</td>\n",
       "      <td>C:\\Users\\ChemeGrad2020\\OneDrive - Massachusett...</td>\n",
       "    </tr>\n",
       "    <tr>\n",
       "      <th>4</th>\n",
       "      <td>C:\\Users\\ChemeGrad2020\\OneDrive - Massachusett...</td>\n",
       "      <td>C:\\Users\\ChemeGrad2020\\OneDrive - Massachusett...</td>\n",
       "    </tr>\n",
       "    <tr>\n",
       "      <th>5</th>\n",
       "      <td>C:\\Users\\ChemeGrad2020\\OneDrive - Massachusett...</td>\n",
       "      <td>C:\\Users\\ChemeGrad2020\\OneDrive - Massachusett...</td>\n",
       "    </tr>\n",
       "    <tr>\n",
       "      <th>6</th>\n",
       "      <td>C:\\Users\\ChemeGrad2020\\OneDrive - Massachusett...</td>\n",
       "      <td>C:\\Users\\ChemeGrad2020\\OneDrive - Massachusett...</td>\n",
       "    </tr>\n",
       "    <tr>\n",
       "      <th>7</th>\n",
       "      <td>C:\\Users\\ChemeGrad2020\\OneDrive - Massachusett...</td>\n",
       "      <td>C:\\Users\\ChemeGrad2020\\OneDrive - Massachusett...</td>\n",
       "    </tr>\n",
       "    <tr>\n",
       "      <th>8</th>\n",
       "      <td>C:\\Users\\ChemeGrad2020\\OneDrive - Massachusett...</td>\n",
       "      <td>C:\\Users\\ChemeGrad2020\\OneDrive - Massachusett...</td>\n",
       "    </tr>\n",
       "    <tr>\n",
       "      <th>9</th>\n",
       "      <td>C:\\Users\\ChemeGrad2020\\OneDrive - Massachusett...</td>\n",
       "      <td>C:\\Users\\ChemeGrad2020\\OneDrive - Massachusett...</td>\n",
       "    </tr>\n",
       "    <tr>\n",
       "      <th>10</th>\n",
       "      <td>C:\\Users\\ChemeGrad2020\\OneDrive - Massachusett...</td>\n",
       "      <td>C:\\Users\\ChemeGrad2020\\OneDrive - Massachusett...</td>\n",
       "    </tr>\n",
       "    <tr>\n",
       "      <th>11</th>\n",
       "      <td>C:\\Users\\ChemeGrad2020\\OneDrive - Massachusett...</td>\n",
       "      <td>C:\\Users\\ChemeGrad2020\\OneDrive - Massachusett...</td>\n",
       "    </tr>\n",
       "    <tr>\n",
       "      <th>12</th>\n",
       "      <td>C:\\Users\\ChemeGrad2020\\OneDrive - Massachusett...</td>\n",
       "      <td>C:\\Users\\ChemeGrad2020\\OneDrive - Massachusett...</td>\n",
       "    </tr>\n",
       "    <tr>\n",
       "      <th>13</th>\n",
       "      <td>C:\\Users\\ChemeGrad2020\\OneDrive - Massachusett...</td>\n",
       "      <td>C:\\Users\\ChemeGrad2020\\OneDrive - Massachusett...</td>\n",
       "    </tr>\n",
       "    <tr>\n",
       "      <th>14</th>\n",
       "      <td>C:\\Users\\ChemeGrad2020\\OneDrive - Massachusett...</td>\n",
       "      <td>C:\\Users\\ChemeGrad2020\\OneDrive - Massachusett...</td>\n",
       "    </tr>\n",
       "    <tr>\n",
       "      <th>15</th>\n",
       "      <td>C:\\Users\\ChemeGrad2020\\OneDrive - Massachusett...</td>\n",
       "      <td>C:\\Users\\ChemeGrad2020\\OneDrive - Massachusett...</td>\n",
       "    </tr>\n",
       "    <tr>\n",
       "      <th>16</th>\n",
       "      <td>C:\\Users\\ChemeGrad2020\\OneDrive - Massachusett...</td>\n",
       "      <td>C:\\Users\\ChemeGrad2020\\OneDrive - Massachusett...</td>\n",
       "    </tr>\n",
       "    <tr>\n",
       "      <th>17</th>\n",
       "      <td>C:\\Users\\ChemeGrad2020\\OneDrive - Massachusett...</td>\n",
       "      <td>C:\\Users\\ChemeGrad2020\\OneDrive - Massachusett...</td>\n",
       "    </tr>\n",
       "    <tr>\n",
       "      <th>18</th>\n",
       "      <td>C:\\Users\\ChemeGrad2020\\OneDrive - Massachusett...</td>\n",
       "      <td>C:\\Users\\ChemeGrad2020\\OneDrive - Massachusett...</td>\n",
       "    </tr>\n",
       "    <tr>\n",
       "      <th>19</th>\n",
       "      <td>C:\\Users\\ChemeGrad2020\\OneDrive - Massachusett...</td>\n",
       "      <td>C:\\Users\\ChemeGrad2020\\OneDrive - Massachusett...</td>\n",
       "    </tr>\n",
       "    <tr>\n",
       "      <th>20</th>\n",
       "      <td>C:\\Users\\ChemeGrad2020\\OneDrive - Massachusett...</td>\n",
       "      <td>C:\\Users\\ChemeGrad2020\\OneDrive - Massachusett...</td>\n",
       "    </tr>\n",
       "    <tr>\n",
       "      <th>21</th>\n",
       "      <td>C:\\Users\\ChemeGrad2020\\OneDrive - Massachusett...</td>\n",
       "      <td>C:\\Users\\ChemeGrad2020\\OneDrive - Massachusett...</td>\n",
       "    </tr>\n",
       "  </tbody>\n",
       "</table>\n",
       "</div>"
      ],
      "text/plain": [
       "                                            data_path  \\\n",
       "0   C:\\Users\\ChemeGrad2020\\OneDrive - Massachusett...   \n",
       "1   C:\\Users\\ChemeGrad2020\\OneDrive - Massachusett...   \n",
       "2   C:\\Users\\ChemeGrad2020\\OneDrive - Massachusett...   \n",
       "3   C:\\Users\\ChemeGrad2020\\OneDrive - Massachusett...   \n",
       "4   C:\\Users\\ChemeGrad2020\\OneDrive - Massachusett...   \n",
       "5   C:\\Users\\ChemeGrad2020\\OneDrive - Massachusett...   \n",
       "6   C:\\Users\\ChemeGrad2020\\OneDrive - Massachusett...   \n",
       "7   C:\\Users\\ChemeGrad2020\\OneDrive - Massachusett...   \n",
       "8   C:\\Users\\ChemeGrad2020\\OneDrive - Massachusett...   \n",
       "9   C:\\Users\\ChemeGrad2020\\OneDrive - Massachusett...   \n",
       "10  C:\\Users\\ChemeGrad2020\\OneDrive - Massachusett...   \n",
       "11  C:\\Users\\ChemeGrad2020\\OneDrive - Massachusett...   \n",
       "12  C:\\Users\\ChemeGrad2020\\OneDrive - Massachusett...   \n",
       "13  C:\\Users\\ChemeGrad2020\\OneDrive - Massachusett...   \n",
       "14  C:\\Users\\ChemeGrad2020\\OneDrive - Massachusett...   \n",
       "15  C:\\Users\\ChemeGrad2020\\OneDrive - Massachusett...   \n",
       "16  C:\\Users\\ChemeGrad2020\\OneDrive - Massachusett...   \n",
       "17  C:\\Users\\ChemeGrad2020\\OneDrive - Massachusett...   \n",
       "18  C:\\Users\\ChemeGrad2020\\OneDrive - Massachusett...   \n",
       "19  C:\\Users\\ChemeGrad2020\\OneDrive - Massachusett...   \n",
       "20  C:\\Users\\ChemeGrad2020\\OneDrive - Massachusett...   \n",
       "21  C:\\Users\\ChemeGrad2020\\OneDrive - Massachusett...   \n",
       "\n",
       "                                            yaml_path  \n",
       "0   C:\\Users\\ChemeGrad2020\\OneDrive - Massachusett...  \n",
       "1   C:\\Users\\ChemeGrad2020\\OneDrive - Massachusett...  \n",
       "2   C:\\Users\\ChemeGrad2020\\OneDrive - Massachusett...  \n",
       "3   C:\\Users\\ChemeGrad2020\\OneDrive - Massachusett...  \n",
       "4   C:\\Users\\ChemeGrad2020\\OneDrive - Massachusett...  \n",
       "5   C:\\Users\\ChemeGrad2020\\OneDrive - Massachusett...  \n",
       "6   C:\\Users\\ChemeGrad2020\\OneDrive - Massachusett...  \n",
       "7   C:\\Users\\ChemeGrad2020\\OneDrive - Massachusett...  \n",
       "8   C:\\Users\\ChemeGrad2020\\OneDrive - Massachusett...  \n",
       "9   C:\\Users\\ChemeGrad2020\\OneDrive - Massachusett...  \n",
       "10  C:\\Users\\ChemeGrad2020\\OneDrive - Massachusett...  \n",
       "11  C:\\Users\\ChemeGrad2020\\OneDrive - Massachusett...  \n",
       "12  C:\\Users\\ChemeGrad2020\\OneDrive - Massachusett...  \n",
       "13  C:\\Users\\ChemeGrad2020\\OneDrive - Massachusett...  \n",
       "14  C:\\Users\\ChemeGrad2020\\OneDrive - Massachusett...  \n",
       "15  C:\\Users\\ChemeGrad2020\\OneDrive - Massachusett...  \n",
       "16  C:\\Users\\ChemeGrad2020\\OneDrive - Massachusett...  \n",
       "17  C:\\Users\\ChemeGrad2020\\OneDrive - Massachusett...  \n",
       "18  C:\\Users\\ChemeGrad2020\\OneDrive - Massachusett...  \n",
       "19  C:\\Users\\ChemeGrad2020\\OneDrive - Massachusett...  \n",
       "20  C:\\Users\\ChemeGrad2020\\OneDrive - Massachusett...  \n",
       "21  C:\\Users\\ChemeGrad2020\\OneDrive - Massachusett...  "
      ]
     },
     "metadata": {},
     "output_type": "display_data"
    }
   ],
   "source": [
    "# Set paths to the experiment folder and where to find the data\n",
    "datadir = Path(Path('../../datadir_mee.txt').read_text())\n",
    "datadir = Path(Path('../../datadir_srk.txt').read_text())\n",
    "base_path = datadir/'instruments'/'data'/'attune'/'Mary'\n",
    "\n",
    "Plates = {'2024.04.22_exp05_TRE3G': ['Plate1','Plate2','Plate3','Plate4'],\n",
    "'2024.04.30_exp09_TRE3G_ZF10': ['Plate1', 'Plate2'],\n",
    "'2024.05.17_exp09.03_Vlox90_178': ['Plate1', 'Plate2'],\n",
    "'2024.05.27_exp09.05_Vlox90_178': ['Plate1', 'Plate2'],\n",
    "'2024.05.30_exp09.06_300_500_CAGrTTA': ['Plate1_203', 'Plate2_300_500'],\n",
    "'2024.06.03_exp09.07_300_CAG_rtTA': ['Plate1_300bp'],\n",
    "'2024.06.06_exp09.08_500bp_2rep': ['Plate1'],\n",
    "'2024.06.10_exp09.09_500bp_300_CN': ['Plate1', 'Plate2_500'],\n",
    "'2024.06.14_exp09.10_203_300_500_CN': ['Plate1_500_203','Plate2_380_CN'],\n",
    "'2024.06.28_exp09.12_Nested_Cag_rtTA': ['Plate1_Nested'],\n",
    "'2024.07.05_exp09.14_Nested_rep2': ['Plate1_Nested']\n",
    "}\n",
    "\n",
    "exp_path = []\n",
    "yaml_path = []\n",
    "\n",
    "for i in Plates:\n",
    "    for j in Plates[i]:\n",
    "        exp_path.append(base_path/i/j/'export_singlets')\n",
    "        if i == '2024.06.06_exp09.08_500bp_2rep' or ( i == '2024.06.03_exp09.07_300_CAG_rtTA' and j == 'Plate1_300bp'):\n",
    "            yaml_path.append(base_path/i/j/'export_singlets'/'well_metadata.yaml')\n",
    "            yaml_path.append(base_path/i/j/'export_singlets'/'well_metadata2.yaml')\n",
    "            exp_path.append(base_path/i/j/'export_singlets')\n",
    "        else:\n",
    "            yaml_path.append(base_path/i/j/'export_singlets'/'well_metadata.yaml')\n",
    "\n",
    "output_path = './figs_2024_promoter_editing_paper/figure4_S18_TET_DIAL/'\n",
    "\n",
    "plates_dict = pd.DataFrame({\n",
    "    'data_path' : [exp for exp in exp_path],\n",
    "    'yaml_path' : [yaml for yaml in yaml_path]\n",
    "})\n",
    "\n",
    "display(plates_dict)"
   ]
  },
  {
   "cell_type": "markdown",
   "id": "3b14982b",
   "metadata": {},
   "source": [
    "**Load in dataframes**"
   ]
  },
  {
   "cell_type": "code",
   "execution_count": 3,
   "id": "f5e4bb94",
   "metadata": {},
   "outputs": [],
   "source": [
    "#Load data\n",
    "data = pd.DataFrame()\n",
    "channel_list = ['mRuby2-A', 'mGL-A', 'iRFP670-A', 'FSC-A', 'SSC-A', 'TagBFP-A']\n",
    "data = rd.flow.load_groups_with_metadata(plates_dict.iloc[0:4,:],columns=channel_list) #Could add in columns=channel_list here to get specific columns\n",
    "\n",
    "# Remove negative values from dataframe\n",
    "for c in channel_list: data = data[data[c] > 0]\n",
    "\n",
    "# Remove NaN values\n",
    "data.dropna(inplace=True)\n"
   ]
  },
  {
   "cell_type": "code",
   "execution_count": 10,
   "id": "0396a777",
   "metadata": {},
   "outputs": [],
   "source": [
    "\n",
    "data1 = pd.DataFrame()\n",
    "channel_list = ['mRuby2-A', 'mGL-A', 'iRFP670-A', 'FSC-A', 'SSC-A', 'TagBFP-A']\n",
    "data1 = rd.flow.load_groups_with_metadata(plates_dict.iloc[4:11,:], \n",
    "                                          columns=channel_list\n",
    "                                          )  #Could add in columns=channel_list here to get specific columns\n",
    "\n",
    "# Remove negative values from dataframe\n",
    "for c in channel_list: data1 = data1[data1[c] > 0]\n",
    "\n",
    "# Remove NaN values\n",
    "data1.dropna(inplace=True)\n",
    "\n"
   ]
  },
  {
   "cell_type": "code",
   "execution_count": null,
   "id": "372dde18",
   "metadata": {},
   "outputs": [
    {
     "name": "stderr",
     "output_type": "stream",
     "text": [
      "c:\\Users\\chemegrad202\\AppData\\Local\\Programs\\Python\\Python312\\Lib\\site-packages\\rushd\\flow.py:166: FutureWarning: The behavior of DataFrame concatenation with empty or all-NA entries is deprecated. In a future version, this will no longer exclude empty or all-NA columns when determining the result dtypes. To retain the old behavior, exclude the relevant entries before the concat operation.\n",
      "  data = pd.concat(data_list, ignore_index=True).replace(np.NaN, pd.NA)  # type: ignore\n",
      "c:\\Users\\chemegrad202\\AppData\\Local\\Programs\\Python\\Python312\\Lib\\site-packages\\rushd\\flow.py:166: FutureWarning: The behavior of DataFrame concatenation with empty or all-NA entries is deprecated. In a future version, this will no longer exclude empty or all-NA columns when determining the result dtypes. To retain the old behavior, exclude the relevant entries before the concat operation.\n",
      "  data = pd.concat(data_list, ignore_index=True).replace(np.NaN, pd.NA)  # type: ignore\n",
      "c:\\Users\\chemegrad202\\AppData\\Local\\Programs\\Python\\Python312\\Lib\\site-packages\\rushd\\flow.py:166: FutureWarning: The behavior of DataFrame concatenation with empty or all-NA entries is deprecated. In a future version, this will no longer exclude empty or all-NA columns when determining the result dtypes. To retain the old behavior, exclude the relevant entries before the concat operation.\n",
      "  data = pd.concat(data_list, ignore_index=True).replace(np.NaN, pd.NA)  # type: ignore\n",
      "c:\\Users\\chemegrad202\\AppData\\Local\\Programs\\Python\\Python312\\Lib\\site-packages\\rushd\\flow.py:166: FutureWarning: The behavior of DataFrame concatenation with empty or all-NA entries is deprecated. In a future version, this will no longer exclude empty or all-NA columns when determining the result dtypes. To retain the old behavior, exclude the relevant entries before the concat operation.\n",
      "  data = pd.concat(data_list, ignore_index=True).replace(np.NaN, pd.NA)  # type: ignore\n"
     ]
    }
   ],
   "source": [
    "\n",
    "data2 = pd.DataFrame()\n",
    "\n",
    "channel_list = ['mRuby2-A', 'mGL-A', 'iRFP670-A', 'FSC-A', 'SSC-A', 'TagBFP-A']\n",
    "data2 = rd.flow.load_groups_with_metadata(plates_dict.iloc[11:15,:],\n",
    "                                          #columns=channel_list #Could add in columns=channel_list here to get specific columns\n",
    "                                          ) \n",
    "\n",
    "# Remove negative values from dataframe\n",
    "for c in channel_list: data2 = data2[data2[c] > 0]\n",
    "\n",
    "# Remove NaN values\n",
    "data2.dropna(inplace=True)\n"
   ]
  },
  {
   "cell_type": "code",
   "execution_count": null,
   "id": "b85b3d42",
   "metadata": {},
   "outputs": [
    {
     "name": "stderr",
     "output_type": "stream",
     "text": [
      "c:\\Users\\chemegrad202\\AppData\\Local\\Programs\\Python\\Python312\\Lib\\site-packages\\rushd\\flow.py:166: FutureWarning: The behavior of DataFrame concatenation with empty or all-NA entries is deprecated. In a future version, this will no longer exclude empty or all-NA columns when determining the result dtypes. To retain the old behavior, exclude the relevant entries before the concat operation.\n",
      "  data = pd.concat(data_list, ignore_index=True).replace(np.NaN, pd.NA)  # type: ignore\n"
     ]
    }
   ],
   "source": [
    "\n",
    "data3 = pd.DataFrame()\n",
    "\n",
    "channel_list = ['mRuby2-A', 'mGL-A', 'iRFP670-A', 'FSC-A', 'SSC-A', 'TagBFP-A']\n",
    "data3 = rd.flow.load_groups_with_metadata(plates_dict.iloc[15:18,:],\n",
    "                                          columns=channel_list #Could add in columns=channel_list here to get specific columns\n",
    "                                          ) \n",
    "\n",
    "# Remove negative values from dataframe\n",
    "for c in channel_list: data3 = data3[data3[c] > 0]\n",
    "\n",
    "# Remove NaN values\n",
    "data3.dropna(inplace=True)\n",
    "\n"
   ]
  },
  {
   "cell_type": "code",
   "execution_count": null,
   "id": "a14418ac",
   "metadata": {},
   "outputs": [],
   "source": [
    "\n",
    "data5 = pd.DataFrame()\n",
    "\n",
    "channel_list = ['mRuby2-A', 'mGL-A', 'iRFP670-A', 'FSC-A', 'SSC-A', 'TagBFP-A']\n",
    "data5 = rd.flow.load_groups_with_metadata(plates_dict.iloc[18:22,:],\n",
    "                                          #columns=channel_list\n",
    "                                          ) #Could add in columns=channel_list here to get specific columns\n",
    "\n",
    "# Remove negative values from dataframe\n",
    "for c in channel_list: data5 = data5[data5[c] > 0]\n",
    "\n",
    "# Remove NaN values\n",
    "data5.dropna(inplace=True)"
   ]
  },
  {
   "cell_type": "markdown",
   "id": "8a6c60f1",
   "metadata": {},
   "source": [
    "**Combine all dataframes and set extra conditions**"
   ]
  },
  {
   "cell_type": "code",
   "execution_count": null,
   "id": "1e5df9e3",
   "metadata": {},
   "outputs": [],
   "source": [
    "data4 = pd.concat([data,data1, data2, data3, data5], ignore_index=True)\n",
    "data4['conds'] = data4['reporter'] + '-' +data4['rTTA']+ '.' + data4['DOX']  +'.' + data4['CRE']\n",
    "data4['cond4'] = data4['reporter'] +'.' + data4['CRE']"
   ]
  },
  {
   "cell_type": "markdown",
   "id": "ae7d4fb0",
   "metadata": {},
   "source": [
    "**Setting gates for co-transfection marker and mGL positive cells**"
   ]
  },
  {
   "cell_type": "code",
   "execution_count": null,
   "id": "6736fc07",
   "metadata": {},
   "outputs": [
    {
     "name": "stderr",
     "output_type": "stream",
     "text": [
      "C:\\Users\\chemegrad202\\AppData\\Local\\Temp\\ipykernel_19640\\375532241.py:10: SettingWithCopyWarning: \n",
      "A value is trying to be set on a copy of a slice from a DataFrame.\n",
      "Try using .loc[row_indexer,col_indexer] = value instead\n",
      "\n",
      "See the caveats in the documentation: https://pandas.pydata.org/pandas-docs/stable/user_guide/indexing.html#returning-a-view-versus-a-copy\n",
      "  data_gated['mGL_gate'] = np.where(data_gated['mGL-A'] > mGL_gate, '+', '-')\n"
     ]
    }
   ],
   "source": [
    "dox_conds = ['1x','0.3162x', '0.1000x','0.0316x', '0.0100x', '0.0032x', '0.0010x', '0x']\n",
    "# Set gates for data analysis\n",
    "iRFP670_gate = 10000\n",
    "mGL_gate = 200\n",
    "\n",
    "# Gating on co-transfection marker\n",
    "data_gated = data4[data4['iRFP670-A'] > iRFP670_gate]\n",
    "\n",
    "# Adding positive markers for mGL positive cells\n",
    "data_gated['mGL_gate'] = np.where(data_gated['mGL-A'] > mGL_gate, '+', '-') "
   ]
  },
  {
   "cell_type": "markdown",
   "id": "63c9c9d8",
   "metadata": {},
   "source": [
    "## Summary Statistics \n",
    "\n",
    "- Have 2 dataframes here\n",
    "- df includes all reps with loxCN (n=5), Vlox90 (n = 3), lox203 (n=4), lox380 (n = 5) and lox610 (n=4)\n",
    "    - df is only used for the summary plots S18D and 4E that have all spacer lengths and include stats\n",
    "- df2 only includes loxCN (n=3), Vlox90 (n = 2), lox203 (n=3), lox380 (n = 4) and lox610 (n=3)\n",
    "    - df2 is not used for any stats that require Vlox90 and only for scatters, fraction calculations, and histograms for the remaining spacer lengths"
   ]
  },
  {
   "cell_type": "code",
   "execution_count": null,
   "id": "e012a2b9",
   "metadata": {},
   "outputs": [
    {
     "name": "stderr",
     "output_type": "stream",
     "text": [
      "<string>:186: FutureWarning: The provided callable <function median at 0x000002A93B5228E0> is currently using SeriesGroupBy.median. In a future version of pandas, the provided callable will be used directly. To keep current behavior pass the string \"median\" instead.\n",
      "<string>:186: FutureWarning: The provided callable <function std at 0x000002A9252DF060> is currently using SeriesGroupBy.std. In a future version of pandas, the provided callable will be used directly. To keep current behavior pass the string \"std\" instead.\n",
      "<string>:186: FutureWarning: The provided callable <function mean at 0x000002A9252DEF20> is currently using SeriesGroupBy.mean. In a future version of pandas, the provided callable will be used directly. To keep current behavior pass the string \"mean\" instead.\n",
      "<string>:186: FutureWarning: The provided callable <function median at 0x000002A93B5228E0> is currently using SeriesGroupBy.median. In a future version of pandas, the provided callable will be used directly. To keep current behavior pass the string \"median\" instead.\n",
      "<string>:186: FutureWarning: The provided callable <function std at 0x000002A9252DF060> is currently using SeriesGroupBy.std. In a future version of pandas, the provided callable will be used directly. To keep current behavior pass the string \"std\" instead.\n",
      "<string>:186: FutureWarning: The provided callable <function mean at 0x000002A9252DEF20> is currently using SeriesGroupBy.mean. In a future version of pandas, the provided callable will be used directly. To keep current behavior pass the string \"mean\" instead.\n",
      "<string>:186: FutureWarning: The provided callable <function median at 0x000002A93B5228E0> is currently using SeriesGroupBy.median. In a future version of pandas, the provided callable will be used directly. To keep current behavior pass the string \"median\" instead.\n",
      "<string>:186: FutureWarning: The provided callable <function std at 0x000002A9252DF060> is currently using SeriesGroupBy.std. In a future version of pandas, the provided callable will be used directly. To keep current behavior pass the string \"std\" instead.\n",
      "<string>:186: FutureWarning: The provided callable <function mean at 0x000002A9252DEF20> is currently using SeriesGroupBy.mean. In a future version of pandas, the provided callable will be used directly. To keep current behavior pass the string \"mean\" instead.\n",
      "<string>:186: FutureWarning: The provided callable <function median at 0x000002A93B5228E0> is currently using SeriesGroupBy.median. In a future version of pandas, the provided callable will be used directly. To keep current behavior pass the string \"median\" instead.\n",
      "<string>:186: FutureWarning: The provided callable <function std at 0x000002A9252DF060> is currently using SeriesGroupBy.std. In a future version of pandas, the provided callable will be used directly. To keep current behavior pass the string \"std\" instead.\n",
      "<string>:186: FutureWarning: The provided callable <function mean at 0x000002A9252DEF20> is currently using SeriesGroupBy.mean. In a future version of pandas, the provided callable will be used directly. To keep current behavior pass the string \"mean\" instead.\n"
     ]
    }
   ],
   "source": [
    "df = data_gated #choose dataframe\n",
    "df2 = data_gated[(data_gated['Date'] != '2024.04.22.x') & (data_gated['Date'] != '2024.06.10.x') ]\n",
    "\n",
    "#Decide how to group. The last parameter will be the condition that it is group by by last ('well' or 'bioreplicate')\n",
    "by = ['reporter', 'rTTA', 'DOX','DOX#','CRE','conds', 'cond4', 'Date'] #how to filter results, columns \n",
    "\n",
    "x = ['mGL-A', 'iRFP670-A','mRuby2-A'] #which parameter to calculate results on\n",
    "stat = [sp.stats.gmean, np.median, np.std, np.mean] #statistics to calculate\n",
    "s_well_allreps = calc_stats(df,by,x,stat) #calculate statistics \n",
    "s_well_original = calc_stats(df2,by,x,stat)\n",
    "\n",
    "# Create a summary dataframe with gating on mGL positive cells\n",
    "by = ['reporter', 'rTTA', 'DOX','DOX#','CRE','conds', 'cond4', 'Date', 'mGL_gate']\n",
    "stat = [sp.stats.gmean, np.median, np.std, np.mean] #statistics to calculate\n",
    "s_well_pos_allreps = calc_stats(df,by,x,stat)\n",
    "s_well_pos_original = calc_stats(df2,by,x,stat)\n",
    "\n",
    "s_well_mGL_pos_allreps = s_well_pos_allreps[s_well_pos_allreps['mGL_gate'] == '+']\n",
    "s_well_mGL_pos_original = s_well_pos_original[s_well_pos_original['mGL_gate'] == '+']\n",
    "\n",
    "by = ['reporter', 'rTTA', 'DOX','DOX#','CRE','conds', 'cond4']\n",
    "x = ['mGL-A_gmean', 'iRFP670-A_gmean','mRuby2-A_gmean']\n",
    "stat = ['std', 'mean']\n",
    "\n",
    "s_well_errors_allreps = calc_stats(s_well_mGL_pos_allreps, by, x, stat)\n",
    "s_well_errors_original = calc_stats(s_well_mGL_pos_original, by, x, stat)\n"
   ]
  },
  {
   "cell_type": "markdown",
   "id": "0fb16ca7",
   "metadata": {},
   "source": [
    "**Figure S18D: Summary plot of mGL gmean of 5 spacers lengths**\n",
    "\n",
    "- loxCN n = 5\n",
    "- Vlox90 n = 3\n",
    "- lox203 n = 4\n",
    "- lox380 n = 5\n",
    "- lox610 n = 4"
   ]
  },
  {
   "cell_type": "code",
   "execution_count": null,
   "id": "542cb084",
   "metadata": {},
   "outputs": [
    {
     "name": "stderr",
     "output_type": "stream",
     "text": [
      "c:\\Users\\chemegrad202\\AppData\\Local\\Programs\\Python\\Python312\\Lib\\site-packages\\seaborn\\_oldcore.py:1119: FutureWarning: use_inf_as_na option is deprecated and will be removed in a future version. Convert inf values to NaN before operating instead.\n",
      "  with pd.option_context('mode.use_inf_as_na', True):\n",
      "c:\\Users\\chemegrad202\\AppData\\Local\\Programs\\Python\\Python312\\Lib\\site-packages\\seaborn\\_oldcore.py:1119: FutureWarning: use_inf_as_na option is deprecated and will be removed in a future version. Convert inf values to NaN before operating instead.\n",
      "  with pd.option_context('mode.use_inf_as_na', True):\n"
     ]
    },
    {
     "name": "stdout",
     "output_type": "stream",
     "text": [
      "p-value annotation legend:\n",
      "ns: 5.00e-02 < p <= 1.00e+00\n",
      "*: 1.00e-02 < p <= 5.00e-02\n",
      "**: 1.00e-03 < p <= 1.00e-02\n",
      "***: 1.00e-04 < p <= 1.00e-03\n",
      "****: p <= 1.00e-04\n",
      "\n",
      "lox203-3G_lox203-3G-EFS.1x.-CRE v.s. lox203-3G_lox203-3G-EFS.1x.+CRE: t-test independent samples, P_val=9.143e-04 stat=-6.061e+00\n",
      "loxCN-3G_loxCN-3G-EFS.1x.-CRE v.s. loxCN-3G_loxCN-3G-EFS.1x.+CRE: t-test independent samples, P_val=1.172e-01 stat=1.756e+00\n",
      "lox610-3G_lox610-3G-EFS.1x.-CRE v.s. lox610-3G_lox610-3G-EFS.1x.+CRE: t-test independent samples, P_val=1.001e-05 stat=-1.355e+01\n",
      "lox380-3G_lox380-3G-EFS.1x.-CRE v.s. lox380-3G_lox380-3G-EFS.1x.+CRE: t-test independent samples, P_val=6.731e-05 stat=-7.530e+00\n",
      "Vlox90-3G_Vlox90-3G-EFS.1x.-CRE v.s. Vlox90-3G_Vlox90-3G-EFS.1x.+CRE: t-test independent samples, P_val=3.527e-01 stat=-1.051e+00\n"
     ]
    },
    {
     "data": {
      "text/plain": [
       "<Figure size 250x200 with 0 Axes>"
      ]
     },
     "metadata": {},
     "output_type": "display_data"
    },
    {
     "data": {
      "image/png": "[encoded data removed]",
      "text/plain": [
       "<Figure size 250x200 with 1 Axes>"
      ]
     },
     "metadata": {},
     "output_type": "display_data"
    },
    {
     "data": {
      "text/plain": [
       "<Figure size 640x480 with 0 Axes>"
      ]
     },
     "metadata": {},
     "output_type": "display_data"
    }
   ],
   "source": [
    "#Make a list of the stats that I want to plot \n",
    "stat_list = ['mGL-A_gmean']\n",
    "repts = pd.array( [ 'loxCN-3G','Vlox90-3G','lox203-3G', 'lox380-3G', 'lox610-3G']) \n",
    "\n",
    "hue_order2 = pd.array([\n",
    "'loxCN-3G-EFS.1x.-CRE', 'loxCN-3G-EFS.1x.+CRE',\n",
    "'lox203-3G-EFS.1x.-CRE', 'lox203-3G-EFS.1x.+CRE',\n",
    "'Vlox90-3G-EFS.1x.-CRE', 'Vlox90-3G-EFS.1x.+CRE',\n",
    "'lox380-3G-EFS.1x.-CRE', 'lox380-3G-EFS.1x.+CRE',\n",
    "'lox610-3G-EFS.1x.-CRE', 'lox610-3G-EFS.1x.+CRE'])\n",
    "\n",
    "data_now = s_well_mGL_pos_allreps[s_well_mGL_pos_allreps['conds'].isin(hue_order2)]\n",
    "\n",
    "pairs = [\n",
    "[('loxCN-3G','loxCN-3G-EFS.1x.+CRE'), ('loxCN-3G','loxCN-3G-EFS.1x.-CRE')],\n",
    "[('lox203-3G','lox203-3G-EFS.1x.+CRE'),('lox203-3G','lox203-3G-EFS.1x.-CRE')],\n",
    "[('lox610-3G','lox610-3G-EFS.1x.+CRE'),('lox610-3G','lox610-3G-EFS.1x.-CRE')],\n",
    "[('lox380-3G','lox380-3G-EFS.1x.+CRE'), ('lox380-3G','lox380-3G-EFS.1x.-CRE')],\n",
    "[('Vlox90-3G','Vlox90-3G-EFS.1x.+CRE'), ('Vlox90-3G','Vlox90-3G-EFS.1x.-CRE')]]\n",
    "\n",
    "xsize = 2.5; ysize=2\n",
    "\n",
    "g = plt.figure(figsize=(xsize,ysize))\n",
    "\n",
    "palette = {\n",
    "'loxCN-3G-EFS.1x.+CRE': 'black',\n",
    "'loxCN-3G-EFS.1x.-CRE':'darkgray',\n",
    "'Vlox90-3G-EFS.1x.+CRE': 'black',\n",
    "'Vlox90-3G-EFS.1x.-CRE':'darkgray',\n",
    "'lox203-3G-EFS.1x.-CRE': 'darkgray',                                                \n",
    "'lox203-3G-EFS.1x.+CRE': 'black',\n",
    "'lox380-3G-EFS.1x.+CRE': 'black',\n",
    "'lox380-3G-EFS.1x.-CRE':'darkgray',\n",
    "'lox610-3G-EFS.1x.+CRE': 'black',\n",
    "'lox610-3G-EFS.1x.-CRE':'darkgray'}\n",
    "markers = pd.array(['o','o', 'o','o', 'o','o', 'o','o', 'o','o'])\n",
    "\n",
    "yscale = 'log'\n",
    "g = summary_plot( x='reporter', y='mGL-A_gmean', hue='conds', data=data_now, pairs=pairs, yscale='log', legend=False,\n",
    "                     #ylim=ylim,\n",
    "                    x_rot=45, palette = palette, order=repts, hue_order=hue_order2, plottitle='',figsize=(xsize,ysize),\n",
    "                    #type='pointplot', \n",
    "                    markers=markers\n",
    ")\n",
    "g = g.get_figure()\n",
    "plottitle = 'FigureS18D_summary_plot.svg'\n",
    "g.savefig((output_path + plottitle),bbox_inches='tight')\n"
   ]
  },
  {
   "cell_type": "markdown",
   "id": "30fc401b",
   "metadata": {},
   "source": [
    "**Calculating fold change for all spacer lengths**"
   ]
  },
  {
   "cell_type": "code",
   "execution_count": null,
   "id": "66d12f1f",
   "metadata": {},
   "outputs": [
    {
     "name": "stdout",
     "output_type": "stream",
     "text": [
      "lox203-3G-CRE value is 12254.551131063372\n",
      "lox203-3G-noCRE value is 3697.256509704665\n",
      "loxCN-3G-CRE value is 2395.2014837392917\n",
      "loxCN-3G-noCRE value is 3320.0695612133422\n",
      "Vlox90-3G-CRE value is 7500.32032516282\n",
      "Vlox90-3G-noCRE value is 6345.4554573195455\n",
      "lox203-3G-CRE value is 7031.94744869494\n",
      "lox203-3G-noCRE value is 3055.0904355620737\n",
      "loxCN-3G-CRE value is 3255.223144709166\n",
      "loxCN-3G-noCRE value is 5361.230697523981\n"
     ]
    },
    {
     "name": "stderr",
     "output_type": "stream",
     "text": [
      "C:\\Users\\chemegrad202\\AppData\\Local\\Temp\\ipykernel_19640\\3421779988.py:78: FutureWarning: The behavior of DataFrame concatenation with empty or all-NA entries is deprecated. In a future version, this will no longer exclude empty or all-NA columns when determining the result dtypes. To retain the old behavior, exclude the relevant entries before the concat operation.\n",
      "  s_normalized = pd.concat([s_normalized, s_biorep], ignore_index=True)\n"
     ]
    },
    {
     "name": "stdout",
     "output_type": "stream",
     "text": [
      "Vlox90-3G-CRE value is 2959.4884614648035\n",
      "Vlox90-3G-noCRE value is 2549.1244881523667\n",
      "Vlox90-3G-CRE value is 4676.584847097018\n",
      "Vlox90-3G-noCRE value is 3485.963400366426\n",
      "lox203-3G-CRE value is 7860.221762872763\n",
      "lox203-3G-noCRE value is 3235.4184990405274\n",
      "loxCN-3G-CRE value is 4769.011311099998\n",
      "loxCN-3G-noCRE value is 6582.141929766808\n",
      "lox380-3G-CRE value is 3733.6233041010414\n",
      "lox380-3G-noCRE value is 670.396416399911\n",
      "lox380-3G-CRE value is 1926.3355213933924\n",
      "lox380-3G-noCRE value is 437.51419497244467\n",
      "lox380-3G-CRE value is 2199.436350694248\n",
      "lox380-3G-noCRE value is 392.33811246670575\n",
      "lox610-3G-CRE value is 4136.80215573224\n",
      "lox610-3G-noCRE value is 906.0526222611471\n",
      "loxCN-3G-CRE value is 4552.319588642936\n",
      "loxCN-3G-noCRE value is 5920.184577215337\n",
      "lox380-3G-CRE value is 4010.1847336109827\n",
      "lox380-3G-noCRE value is 703.8500323879047\n",
      "lox610-3G-CRE value is 6218.786673579231\n",
      "lox610-3G-noCRE value is 1204.6261304959485\n",
      "lox610-3G-CRE value is 4409.547279145954\n",
      "lox610-3G-noCRE value is 980.8657478724841\n",
      "lox203-3G-CRE value is 7918.043607027524\n",
      "lox203-3G-noCRE value is 3825.510840766335\n",
      "loxCN-3G-CRE value is 5492.112201397505\n",
      "loxCN-3G-noCRE value is 8669.23153526522\n",
      "lox380-3G-CRE value is 4733.392370168886\n",
      "lox380-3G-noCRE value is 894.0354494158395\n",
      "lox610-3G-CRE value is 6587.843477469947\n",
      "lox610-3G-noCRE value is 1570.9090565190347\n"
     ]
    }
   ],
   "source": [
    "# Normalized summary plots with 3 bioreps to lox203, loxCN, lox380, lox610 and Vlox90 -/+ Cre\n",
    "\n",
    "bioreps_plot = pd.array(['2024.04.22.x','2024.04.30.x','2024.05.06.x','2024.05.17.x', '2024.05.27.x', '2024.05.30.x', '2024.06.03.x', '2024.06.03.xx', '2024.06.06.x','2024.06.10.x', '2024.06.06.xx', '2024.06.14.x'])\n",
    "\n",
    "s_normalized = pd.DataFrame()\n",
    "\n",
    "for biorep in bioreps_plot:\n",
    "    df_biorep = data_gated[(data_gated['Date'] == biorep) & (data_gated['rTTA'] == 'EFS')] #choose dataframe\n",
    "    by = ['reporter', 'rTTA', 'DOX','DOX#','CRE','conds', 'cond4', 'Date']  #how to filter results, columns \n",
    "    x = ['mGL-A', 'iRFP670-A','mRuby2-A'] #which parameter to calculate results on\n",
    "    stat = [sp.stats.gmean] #statistics to calculate\n",
    "    s_biorep = calc_stats(df_biorep,by,x,stat) #calculate statistics \n",
    "\n",
    "    if 'lox203-3G' in s_biorep['reporter'].values:\n",
    "        lox203_3G_Cre = s_biorep[(s_biorep['reporter'] == 'lox203-3G') & (s_biorep['CRE'] == '+CRE') & (s_biorep['rTTA'] == 'EFS') & (s_biorep['DOX'] == '1x')]['mGL-A_gmean'].iloc[0]\n",
    "        print('lox203-3G-CRE value is ' +str(lox203_3G_Cre)+ '')\n",
    "\n",
    "        lox203_3G_noCre = s_biorep[(s_biorep['reporter'] == 'lox203-3G') & (s_biorep['CRE'] == '-CRE') & (s_biorep['rTTA'] == 'EFS') & (s_biorep['DOX'] == '1x')]['mGL-A_gmean'].iloc[0]\n",
    "        print('lox203-3G-noCRE value is ' +str(lox203_3G_noCre)+ '')\n",
    "\n",
    "    if 'loxCN-3G' in s_biorep['reporter'].values:\n",
    "        loxCN_3G_Cre = s_biorep[(s_biorep['reporter'] == 'loxCN-3G') & (s_biorep['CRE'] == '+CRE') & (s_biorep['rTTA'] == 'EFS') & (s_biorep['DOX'] == '1x')]['mGL-A_gmean'].iloc[0]\n",
    "        print('loxCN-3G-CRE value is ' +str(loxCN_3G_Cre)+ '')\n",
    "\n",
    "        loxCN_3G_noCre = s_biorep[(s_biorep['reporter'] == 'loxCN-3G') & (s_biorep['CRE'] == '-CRE') & (s_biorep['rTTA'] == 'EFS') & (s_biorep['DOX'] == '1x')]['mGL-A_gmean'].iloc[0]\n",
    "        print('loxCN-3G-noCRE value is ' +str(loxCN_3G_noCre)+ '')\n",
    "\n",
    "    if 'lox380-3G' in s_biorep['reporter'].values:\n",
    "        lox380_3G_Cre = s_biorep[(s_biorep['reporter'] == 'lox380-3G') & (s_biorep['CRE'] == '+CRE') & (s_biorep['rTTA'] == 'EFS') & (s_biorep['DOX'] == '1x')]['mGL-A_gmean'].iloc[0]\n",
    "        print('lox380-3G-CRE value is ' +str(lox380_3G_Cre)+ '')\n",
    "\n",
    "        lox380_3G_noCre = s_biorep[(s_biorep['reporter'] == 'lox380-3G') & (s_biorep['CRE'] == '-CRE') & (s_biorep['rTTA'] == 'EFS') & (s_biorep['DOX'] == '1x')]['mGL-A_gmean'].iloc[0]\n",
    "        print('lox380-3G-noCRE value is ' +str(lox380_3G_noCre)+ '')\n",
    "\n",
    "    if 'Vlox90-3G' in s_biorep['reporter'].values:\n",
    "        Vlox90_3G_Cre = s_biorep[(s_biorep['reporter'] == 'Vlox90-3G') & (s_biorep['CRE'] == '+CRE') & (s_biorep['rTTA'] == 'EFS') & (s_biorep['DOX'] == '1x')]['mGL-A_gmean'].iloc[0]\n",
    "        print('Vlox90-3G-CRE value is ' +str(Vlox90_3G_Cre)+ '')\n",
    "\n",
    "        Vlox90_3G_noCre = s_biorep[(s_biorep['reporter'] == 'Vlox90-3G') & (s_biorep['CRE'] == '-CRE') & (s_biorep['rTTA'] == 'EFS') & (s_biorep['DOX'] == '1x')]['mGL-A_gmean'].iloc[0]\n",
    "        print('Vlox90-3G-noCRE value is ' +str(Vlox90_3G_noCre)+ '')\n",
    "\n",
    "    if 'lox610-3G' in s_biorep['reporter'].values:\n",
    "        lox610_3G_Cre = s_biorep[(s_biorep['reporter'] == 'lox610-3G') & (s_biorep['CRE'] == '+CRE') & (s_biorep['rTTA'] == 'EFS') & (s_biorep['DOX'] == '1x')]['mGL-A_gmean'].iloc[0]\n",
    "        print('lox610-3G-CRE value is ' +str(lox610_3G_Cre)+ '')\n",
    "\n",
    "        lox610_3G_noCre = s_biorep[(s_biorep['reporter'] == 'lox610-3G') & (s_biorep['CRE'] == '-CRE') & (s_biorep['rTTA'] == 'EFS') & (s_biorep['DOX'] == '1x')]['mGL-A_gmean'].iloc[0]\n",
    "        print('lox610-3G-noCRE value is ' +str(lox610_3G_noCre)+ '')\n",
    "\n",
    "    def normalize_mGL_gmean(data):\n",
    "        if data['reporter'] == 'lox203-3G':\n",
    "            if data['CRE'] == '-CRE':\n",
    "                return data['mGL-A_gmean'] / lox203_3G_noCre\n",
    "            else:\n",
    "                return data['mGL-A_gmean'] / lox203_3G_noCre\n",
    "        elif data['reporter'] == 'lox380-3G':\n",
    "            if data['CRE'] == '-CRE':\n",
    "                return data['mGL-A_gmean'] / lox380_3G_noCre\n",
    "            else:\n",
    "                return data['mGL-A_gmean'] / lox380_3G_noCre\n",
    "        elif data['reporter'] == 'loxCN-3G':\n",
    "            if data['CRE'] == '-CRE':\n",
    "                return data['mGL-A_gmean'] / loxCN_3G_noCre\n",
    "            else:\n",
    "                return data['mGL-A_gmean'] /  loxCN_3G_noCre\n",
    "        elif data['reporter'] == 'Vlox90-3G':\n",
    "            if data['CRE'] == '-CRE':\n",
    "                return data['mGL-A_gmean'] / Vlox90_3G_noCre\n",
    "            else:\n",
    "                return data['mGL-A_gmean'] / Vlox90_3G_noCre\n",
    "        elif data['reporter'] == 'lox610-3G':\n",
    "            if data['CRE'] == '-CRE':\n",
    "                return data['mGL-A_gmean'] / lox610_3G_noCre\n",
    "            else:\n",
    "                return data['mGL-A_gmean'] / lox610_3G_noCre\n",
    "            \n",
    "    s_biorep['Normalized_mGL-A_gmean'] = s_biorep.apply(normalize_mGL_gmean, axis=1)\n",
    "\n",
    "    s_normalized = pd.concat([s_normalized, s_biorep], ignore_index=True)\n",
    "\n",
    "# Only take those at 1x DOX concentration\n",
    "s_normalized = s_normalized[s_normalized['DOX'] == '1x']\n",
    "s_normalized = s_normalized.dropna()"
   ]
  },
  {
   "cell_type": "code",
   "execution_count": null,
   "id": "d27b235a",
   "metadata": {},
   "outputs": [],
   "source": [
    "s_normalized.to_excel('Figure4E_normalized_summary_stats.xlsx',index=False)"
   ]
  },
  {
   "cell_type": "markdown",
   "id": "81671861",
   "metadata": {},
   "source": [
    "**Figure 4E: Summary plot of mGL fold change for 5 spacers**\n",
    "\n",
    "- loxCN n = 5\n",
    "- Vlox90 n = 3\n",
    "- lox203 n = 4\n",
    "- lox380 n = 5\n",
    "- lox610 n = 4\n"
   ]
  },
  {
   "cell_type": "code",
   "execution_count": null,
   "id": "bc378923",
   "metadata": {},
   "outputs": [
    {
     "name": "stderr",
     "output_type": "stream",
     "text": [
      "c:\\Users\\chemegrad202\\AppData\\Local\\Programs\\Python\\Python312\\Lib\\site-packages\\seaborn\\_oldcore.py:1119: FutureWarning: use_inf_as_na option is deprecated and will be removed in a future version. Convert inf values to NaN before operating instead.\n",
      "  with pd.option_context('mode.use_inf_as_na', True):\n",
      "c:\\Users\\chemegrad202\\AppData\\Local\\Programs\\Python\\Python312\\Lib\\site-packages\\seaborn\\_oldcore.py:1119: FutureWarning: use_inf_as_na option is deprecated and will be removed in a future version. Convert inf values to NaN before operating instead.\n",
      "  with pd.option_context('mode.use_inf_as_na', True):\n"
     ]
    },
    {
     "data": {
      "image/png": "[encoded data removed]",
      "text/plain": [
       "<Figure size 250x200 with 1 Axes>"
      ]
     },
     "metadata": {},
     "output_type": "display_data"
    },
    {
     "data": {
      "text/plain": [
       "<Figure size 640x480 with 0 Axes>"
      ]
     },
     "metadata": {},
     "output_type": "display_data"
    }
   ],
   "source": [
    "xsize = 2.5; ysize=2\n",
    "g = plt.figure(figsize=(xsize,ysize))\n",
    "yscale = 'linear'\n",
    "order_repts = pd.array( ['loxCN-3G','Vlox90-3G', 'lox203-3G', 'lox380-3G', 'lox610-3G'])\n",
    "hue_order2 = pd.array([ 'loxCN-3G-EFS.1x.+CRE','loxCN-3G-EFS.1x.-CRE',\n",
    " 'lox203-3G-EFS.1x.+CRE', 'lox203-3G-EFS.1x.-CRE',\n",
    " 'Vlox90-3G-EFS.1x.+CRE',  'Vlox90-3G-EFS.1x.-CRE',\n",
    " 'lox380-3G-EFS.1x.+CRE',  'lox380-3G-EFS.1x.-CRE',\n",
    " 'lox610-3G-EFS.1x.+CRE', 'lox610-3G-EFS.1x.-CRE'])\n",
    "\n",
    "palette = {'loxCN-3G-EFS.1x.+CRE': 'black',\n",
    " 'lox203-3G-EFS.1x.+CRE': 'black',\n",
    " 'Vlox90-3G-EFS.1x.+CRE':'black',\n",
    " 'lox380-3G-EFS.1x.+CRE':'black',\n",
    " 'lox610-3G-EFS.1x.+CRE': 'black',\n",
    " 'loxCN-3G-EFS.1x.-CRE': 'gray',\n",
    " 'lox203-3G-EFS.1x.-CRE': 'gray',\n",
    " 'lox380-3G-EFS.1x.-CRE': 'gray',\n",
    " 'lox610-3G-EFS.1x.-CRE': 'gray',\n",
    " 'Vlox90-3G-EFS.1x.-CRE': 'gray'}\n",
    "data_now = s_normalized[s_normalized['conds'].isin(hue_order2)]\n",
    "plt.yticks(range(0,7))\n",
    "plt.axhline(y=1, ls='--',lw=1, color='gray')\n",
    "markers = pd.array(['o', 's','o', 's','o', 's','o', 's','o','s'])\n",
    "plottitle = 'Figure4E_fold-change_all_length.svg'\n",
    "g = summary_plot( x='reporter', y='Normalized_mGL-A_gmean', hue='conds', data=data_now, yscale=yscale, legend=False,\n",
    "                     #ylim=ylim,\n",
    "                    x_rot=45, palette = palette, order=order_repts, hue_order=hue_order2, plottitle='',xlabel='Spacer length (bp)',ylabel='Fold change',\n",
    "                    type='pointplot', markers=markers)\n",
    "g = g.get_figure()\n",
    "g.savefig((output_path + plottitle),bbox_inches='tight')\n"
   ]
  },
  {
   "cell_type": "markdown",
   "id": "8c5ebfab",
   "metadata": {},
   "source": [
    "**Calculate fold change for Figure S18E**"
   ]
  },
  {
   "cell_type": "code",
   "execution_count": null,
   "id": "79e2ce6c",
   "metadata": {},
   "outputs": [
    {
     "name": "stdout",
     "output_type": "stream",
     "text": [
      "lox610-1x-CRE value is 4136.80215573224\n",
      "lox610-1x-noCRE value is 906.0526222611471\n",
      "lox610-0.3162x-CRE value is 3436.030782382403\n",
      "lox610-0.3162x-noCRE value is 830.4220320805047\n",
      "lox610-0.1000x-CRE value is 2213.980704605416\n",
      "lox610-0.1000x-noCRE value is 666.7514752938677\n",
      "lox610-0.0316x-CRE value is 1302.9090330857268\n",
      "lox610-0.0316x-noCRE value is 469.2181541413712\n",
      "lox610-0.0100x-CRE value is 424.42188633877635\n",
      "lox610-0.0100x-noCRE value is 235.11581886707398\n",
      "lox610-0.0032x-CRE value is 137.36531327942004\n",
      "lox610-0.0032x-noCRE value is 96.51579019017503\n",
      "lox610-0.0010x-CRE value is 59.244177947601216\n",
      "lox610-0.0010x-noCRE value is 54.34390686699706\n",
      "lox610-0x-CRE value is 53.31672889325276\n",
      "lox610-0x-noCRE value is 50.16316862913966\n",
      "[4136.80215573224, 3436.030782382403, 2213.980704605416, 1302.9090330857268, 424.42188633877635, 137.36531327942004, 59.244177947601216, 53.31672889325276]\n",
      "[906.0526222611471, 830.4220320805047, 666.7514752938677, 469.2181541413712, 235.11581886707398, 96.51579019017503, 54.34390686699706, 50.16316862913966]\n",
      "lox610-1x-CRE value is 4409.547279145954\n",
      "lox610-1x-noCRE value is 980.8657478724841\n",
      "lox610-0.3162x-CRE value is 3677.696519396429\n",
      "lox610-0.3162x-noCRE value is 926.6881126622504\n",
      "lox610-0.1000x-CRE value is 2789.7053303328544\n",
      "lox610-0.1000x-noCRE value is 721.0089382099103\n",
      "lox610-0.0316x-CRE value is 1503.6569646526918\n",
      "lox610-0.0316x-noCRE value is 568.4960576053693\n",
      "lox610-0.0100x-CRE value is 426.56789878030133\n",
      "lox610-0.0100x-noCRE value is 266.25031956100554\n",
      "lox610-0.0032x-CRE value is 148.13205121794502\n",
      "lox610-0.0032x-noCRE value is 127.38606054740926\n",
      "lox610-0.0010x-CRE value is 63.427574194124176\n",
      "lox610-0.0010x-noCRE value is 61.459360432323315\n",
      "lox610-0x-CRE value is 53.52411361809115\n",
      "lox610-0x-noCRE value is 57.38426136401328\n",
      "[4409.547279145954, 3677.696519396429, 2789.7053303328544, 1503.6569646526918, 426.56789878030133, 148.13205121794502, 63.427574194124176, 53.52411361809115]\n",
      "[980.8657478724841, 926.6881126622504, 721.0089382099103, 568.4960576053693, 266.25031956100554, 127.38606054740926, 61.459360432323315, 57.38426136401328]\n",
      "lox610-1x-CRE value is 6587.843477469947\n",
      "lox610-1x-noCRE value is 1570.9090565190347\n",
      "lox610-0.3162x-CRE value is 6501.522551903997\n",
      "lox610-0.3162x-noCRE value is 1460.824387775509\n",
      "lox610-0.1000x-CRE value is 5196.676087449815\n",
      "lox610-0.1000x-noCRE value is 1322.442026485677\n",
      "lox610-0.0316x-CRE value is 2888.3283019182827\n",
      "lox610-0.0316x-noCRE value is 1013.4777197256134\n",
      "lox610-0.0100x-CRE value is 811.1631279901765\n",
      "lox610-0.0100x-noCRE value is 549.9584773410722\n",
      "lox610-0.0032x-CRE value is 175.8806815110904\n",
      "lox610-0.0032x-noCRE value is 155.21777893426892\n",
      "lox610-0.0010x-CRE value is 77.52574657900718\n",
      "lox610-0.0010x-noCRE value is 84.30693444390646\n",
      "lox610-0x-CRE value is 62.850815467346955\n",
      "lox610-0x-noCRE value is 70.57092481096662\n",
      "[6587.843477469947, 6501.522551903997, 5196.676087449815, 2888.3283019182827, 811.1631279901765, 175.8806815110904, 77.52574657900718, 62.850815467346955]\n",
      "[1570.9090565190347, 1460.824387775509, 1322.442026485677, 1013.4777197256134, 549.9584773410722, 155.21777893426892, 84.30693444390646, 70.57092481096662]\n"
     ]
    }
   ],
   "source": [
    "bioreps_plot = pd.array(['2024.06.06.x', '2024.06.06.xx', '2024.06.14.x'])\n",
    "dox = ['1x', '0.3162x','0.1000x', '0.0316x','0.0100x', '0.0032x', '0.0010x','0x']\n",
    "s_normalized_610 = pd.DataFrame()\n",
    "\n",
    "\n",
    "for biorep in bioreps_plot:\n",
    "    CRE = []\n",
    "    no_CRE = []\n",
    "    df_biorep = data_gated[(data_gated['Date'] == biorep) &(data_gated['reporter'] == 'lox610-3G')] #choose dataframe\n",
    "    by = ['reporter', 'rTTA', 'DOX','DOX#','CRE','conds', 'cond4', 'Date']  #how to filter results, columns \n",
    "    x = ['mGL-A', 'iRFP670-A','mRuby2-A'] #which parameter to calculate results on\n",
    "    stat = [sp.stats.gmean] #statistics to calculate\n",
    "    s_biorep = calc_stats(df_biorep,by,x,stat) #calculate statistics \n",
    "\n",
    "    for i in range(8):\n",
    "        if dox[i] in s_biorep['DOX'].values:\n",
    "            lox610_Cre = s_biorep[ (s_biorep['CRE'] == '+CRE') & (s_biorep['rTTA'] == 'EFS') & (s_biorep['DOX'] == dox[i])]['mGL-A_gmean'].iloc[0]\n",
    "            print('lox610'+'-' + str(dox[i]) + '-' + 'CRE value is ' +str(lox610_Cre)+ '')\n",
    "\n",
    "            lox610_noCre = s_biorep[ (s_biorep['CRE'] == '-CRE') & (s_biorep['rTTA'] == 'EFS') & (s_biorep['DOX'] == dox[i])]['mGL-A_gmean'].iloc[0]\n",
    "            print('lox610'+'-' + str(dox[i]) + '-' + 'noCRE value is ' +str(lox610_noCre)+ '')\n",
    "            CRE.append(lox610_Cre)\n",
    "            no_CRE.append(lox610_noCre)\n",
    "\n",
    "\n",
    "    print(CRE)\n",
    "    print(no_CRE)\n",
    "    def normalize_mGL_gmean(data):\n",
    "        dox = ['1x', '0.3162x','0.1000x', '0.0316x','0.0100x', '0.0032x', '0.0010x','0x']\n",
    "        for i in range(8):\n",
    "            if data['DOX'] == dox[i]:\n",
    "                if (data['CRE'] == '+CRE'):\n",
    "                    return data['mGL-A_gmean'] / no_CRE[i]\n",
    "                else:\n",
    "                    return data['mGL-A_gmean'] / no_CRE[i]\n",
    "\n",
    "            \n",
    "    s_biorep['Normalized_mGL-A_gmean'] = s_biorep.apply(normalize_mGL_gmean, axis=1)\n",
    "\n",
    "    s_normalized_610 = pd.concat([s_normalized_610, s_biorep], ignore_index=True)\n"
   ]
  },
  {
   "cell_type": "code",
   "execution_count": null,
   "id": "3fdc79db",
   "metadata": {},
   "outputs": [],
   "source": [
    "s_normalized_610.to_excel('FigureS18E_normalized_stats.xlsx', index=False)"
   ]
  },
  {
   "cell_type": "markdown",
   "id": "4481b270",
   "metadata": {},
   "source": [
    "**Figure S18E: Fold Change of 610 spacer**\n",
    "- n = 3"
   ]
  },
  {
   "cell_type": "code",
   "execution_count": null,
   "id": "a0b2708c",
   "metadata": {},
   "outputs": [
    {
     "name": "stderr",
     "output_type": "stream",
     "text": [
      "c:\\Users\\chemegrad202\\AppData\\Local\\Programs\\Python\\Python312\\Lib\\site-packages\\seaborn\\_oldcore.py:1119: FutureWarning: use_inf_as_na option is deprecated and will be removed in a future version. Convert inf values to NaN before operating instead.\n",
      "  with pd.option_context('mode.use_inf_as_na', True):\n",
      "c:\\Users\\chemegrad202\\AppData\\Local\\Programs\\Python\\Python312\\Lib\\site-packages\\seaborn\\_oldcore.py:1119: FutureWarning: use_inf_as_na option is deprecated and will be removed in a future version. Convert inf values to NaN before operating instead.\n",
      "  with pd.option_context('mode.use_inf_as_na', True):\n"
     ]
    },
    {
     "data": {
      "image/png": "[encoded data removed]",
      "text/plain": [
       "<Figure size 250x200 with 1 Axes>"
      ]
     },
     "metadata": {},
     "output_type": "display_data"
    },
    {
     "data": {
      "text/plain": [
       "<Figure size 640x480 with 0 Axes>"
      ]
     },
     "metadata": {},
     "output_type": "display_data"
    }
   ],
   "source": [
    "xsize = 2.5; ysize=2\n",
    "g = plt.figure(figsize=(xsize,ysize))\n",
    "dox = ['0x', '0.0010x', '0.0032x','0.0100x', '0.0316x','0.1000x', '0.3162x','1x']\n",
    "\n",
    "palette = { 'lox610-3G-EFS.0x.-CRE': 'gray',\n",
    "        'lox610-3G-EFS.0x.+CRE': 'black',\n",
    "        'lox610-3G-EFS.0.0010x.-CRE': 'gray',\n",
    "        'lox610-3G-EFS.0.0010x.+CRE': 'black',\n",
    "        'lox610-3G-EFS.0.0032x.-CRE': 'gray',\n",
    "        'lox610-3G-EFS.0.0032x.+CRE': 'black',\n",
    "        'lox610-3G-EFS.0.0100x.-CRE': 'gray',\n",
    "        'lox610-3G-EFS.0.0100x.+CRE': 'black',\n",
    "        'lox610-3G-EFS.0.0316x.-CRE': 'gray',\n",
    "        'lox610-3G-EFS.0.0316x.+CRE': 'black',\n",
    "        'lox610-3G-EFS.0.1000x.-CRE': 'gray',\n",
    "        'lox610-3G-EFS.0.1000x.+CRE': 'black',\n",
    "        'lox610-3G-EFS.0.3162x.-CRE': 'gray',\n",
    "        'lox610-3G-EFS.0.3162x.+CRE': 'black',\n",
    "        'lox610-3G-EFS.1x.-CRE': 'gray',\n",
    "        'lox610-3G-EFS.1x.+CRE': 'black'}\n",
    "\n",
    "sns.set_style('ticks')\n",
    "data_now = s_normalized_610\n",
    "markers = pd.array(['o', 's','o', 's','o', 's','o', 's','o','s','o','s','o','s','o','s'])\n",
    "yscale = 'linear'\n",
    "plt.axhline(y=1, ls='--',lw=1, color='gray')\n",
    "plottitle = 'FigureS18E_fold_change_610.svg'\n",
    "g = summary_plot( x='DOX', y='Normalized_mGL-A_gmean', hue='conds', data=data_now, yscale=yscale, legend=False,ylabel = 'Output gmean (mGL)', xlabel = 'DOX [ug/mL]',\n",
    "                     #ylim=ylim,\n",
    "                    x_rot=45, palette = palette, order=dox, plottitle='',\n",
    "                    type='pointplot', markers=markers)\n",
    "\n",
    "g = g.get_figure()\n",
    "g.savefig((output_path + plottitle), bbox_inches='tight')"
   ]
  },
  {
   "cell_type": "markdown",
   "id": "03bce083",
   "metadata": {},
   "source": [
    "**Figure 4H, S18C: Fraction mGL+ graphs**\n",
    "\n",
    "- lox203 n = 3\n",
    "- lox380 n = 4\n",
    "- lox610 n = 3"
   ]
  },
  {
   "cell_type": "code",
   "execution_count": null,
   "id": "5856a99e",
   "metadata": {},
   "outputs": [
    {
     "data": {
      "image/png": "[encoded data removed]",
      "text/plain": [
       "<Figure size 150x150 with 1 Axes>"
      ]
     },
     "metadata": {},
     "output_type": "display_data"
    },
    {
     "data": {
      "image/png": "[encoded data removed]",
      "text/plain": [
       "<Figure size 150x150 with 1 Axes>"
      ]
     },
     "metadata": {},
     "output_type": "display_data"
    },
    {
     "data": {
      "image/png": "[encoded data removed]",
      "text/plain": [
       "<Figure size 150x150 with 1 Axes>"
      ]
     },
     "metadata": {},
     "output_type": "display_data"
    }
   ],
   "source": [
    "xsize = 1.5; ysize = 1.5\n",
    "hue_order_dox = dox_conds ; hue = 'DOX'\n",
    "y= 'mGL-A_gmean'; x = 'Fraction'\n",
    "hue_order = dox_conds ; style = 'cond4'\n",
    "markers=['o','s']\n",
    "order_repts = pd.array( ['lox203-3G', 'lox380-3G', 'lox610-3G'])\n",
    "palette = 'plasma'\n",
    "order_names = pd.array( ['FigureS18C-1', 'FigureS18-2', 'Figure4H'])\n",
    "\n",
    "for i in range(3):\n",
    "    g = plt.figure(figsize=(xsize,ysize))\n",
    "    reporter = order_repts[i]\n",
    "    plot = order_names[i]\n",
    "    plottitle = plot + '_fraction_positive.svg'\n",
    "    if (reporter == 'lox203-3G'):\n",
    "        ylim = [2*10**3,1.2*10**4]\n",
    "        xlim = [0.5,1]\n",
    "    elif reporter == 'lox380-3G':\n",
    "        ylim = [8*10**2,7*10**3]\n",
    "        xlim = [0.25,1]\n",
    "    elif reporter == 'lox610-3G':\n",
    "        ylim = [6*10**2, 10**4]\n",
    "        xlim = [0.4,1]\n",
    "    data_now = s_well_mGL_pos_original[s_well_mGL_pos_original['reporter'] == (reporter)]\n",
    "    g = scatter_plot(data=data_now, x=x, y=y, hue=hue, palette = palette, \n",
    "                    style=style,xscale='linear', xlim=xlim, ylim=ylim,\n",
    "                    hue_order=hue_order_dox,legend=False,\n",
    "                    s= 35, plottitle=plottitle,markers=markers)\n",
    "    g = g.get_figure()\n",
    "    g.savefig((output_path + plottitle), bbox_inches = 'tight')"
   ]
  },
  {
   "cell_type": "code",
   "execution_count": null,
   "id": "04723f40",
   "metadata": {},
   "outputs": [],
   "source": [
    "df_new_1 = s_well_mGL_pos_original[(s_well_mGL_pos_original['reporter'] != 'loxnested-3G') & (s_well_mGL_pos_original['reporter'] != 'Vlox178-3G') & (s_well_mGL_pos_original['reporter'] != 'VloxCN-3G')]"
   ]
  },
  {
   "cell_type": "code",
   "execution_count": null,
   "id": "d0bd7a27",
   "metadata": {},
   "outputs": [],
   "source": [
    "df_new_1.to_excel('Figure4H_S18C_summary_stats.xlsx', index=False)"
   ]
  },
  {
   "cell_type": "markdown",
   "id": "3e72d5d0",
   "metadata": {},
   "source": [
    "**Figure 4D, S18A: Output mGL gmean vs DOX concentration**\n",
    "\n",
    "- lox203 n = 3\n",
    "- lox380 n = 4\n",
    "- lox610 n = 3"
   ]
  },
  {
   "cell_type": "code",
   "execution_count": null,
   "id": "3cbbfcce",
   "metadata": {},
   "outputs": [
    {
     "data": {
      "image/png": "[encoded data removed]",
      "text/plain": [
       "<Figure size 150x150 with 1 Axes>"
      ]
     },
     "metadata": {},
     "output_type": "display_data"
    },
    {
     "data": {
      "image/png": "[encoded data removed]",
      "text/plain": [
       "<Figure size 150x150 with 1 Axes>"
      ]
     },
     "metadata": {},
     "output_type": "display_data"
    },
    {
     "data": {
      "image/png": "[encoded data removed]",
      "text/plain": [
       "<Figure size 150x150 with 1 Axes>"
      ]
     },
     "metadata": {},
     "output_type": "display_data"
    }
   ],
   "source": [
    "xsize = 1.5; ysize = 1.5\n",
    "hue_order_dox = dox_conds ; hue = 'DOX'\n",
    "y = 'mGL-A_gmean_mean'\n",
    "y_std = 'mGL-A_gmean_std'\n",
    "x = 'DOX#'\n",
    "hue_order = dox_conds ; style = 'cond4'\n",
    "markers=['o','s']\n",
    "order_repts = pd.array( ['lox203-3G', 'lox380-3G', 'lox610-3G'])\n",
    "order_names2 = pd.array(['FigureS18A-1', 'FigureS18A-2', 'Figure4D'])\n",
    "palette = 'plasma'\n",
    "\n",
    "for i in range(3):\n",
    "    g = plt.figure(figsize=(xsize,ysize))\n",
    "    reporter = order_repts[i]\n",
    "    plot2 = order_names2[i]\n",
    "    data_now = s_well_errors_original[s_well_errors_original['reporter'] == reporter]\n",
    "    plt.xscale(\"symlog\", linthresh=1e-4)\n",
    "    plottitle = plot2 + '_scatter_errors.svg'\n",
    "    g = scatter_plot(data=data_now, x=x, y=y, hue=hue, palette = palette,plottitle=plottitle,\n",
    "                    style=style, hue_order=hue_order,yscale='log', markers=markers,ylabel= 'Output gmean (mGL)',xlabel='DOX [ug/mL]',\n",
    "                    s= 35, fontsize=9.600000000000001,\n",
    "                    std_y=y_std,legend=False)\n",
    "    g = g.get_figure()\n",
    "    g.savefig((output_path + plottitle), bbox_inches='tight')"
   ]
  },
  {
   "cell_type": "code",
   "execution_count": null,
   "id": "e252135d",
   "metadata": {},
   "outputs": [],
   "source": [
    "df_new = s_well_errors_original[(s_well_errors_original['reporter'] != 'loxnested-3G') & (s_well_errors_original['reporter'] != 'Vlox178-3G') & (s_well_errors_original['reporter'] != 'VloxCN-3G')]"
   ]
  },
  {
   "cell_type": "code",
   "execution_count": null,
   "id": "a2ba0119",
   "metadata": {},
   "outputs": [],
   "source": [
    "df_new.to_excel('Figure4D_S18A_summary_stats.xlsx', index=False)"
   ]
  },
  {
   "cell_type": "markdown",
   "id": "6a0dcc9a",
   "metadata": {},
   "source": [
    "**Figure 4C, S18B: Histograms of spacer lengths at dox concentrations**\n",
    "\n",
    "- lox203 n = 3\n",
    "- lox380 n = 4\n",
    "- lox610 n = 3"
   ]
  },
  {
   "cell_type": "code",
   "execution_count": null,
   "id": "e03c316e",
   "metadata": {},
   "outputs": [
    {
     "data": {
      "text/html": [
       "<div>\n",
       "<style scoped>\n",
       "    .dataframe tbody tr th:only-of-type {\n",
       "        vertical-align: middle;\n",
       "    }\n",
       "\n",
       "    .dataframe tbody tr th {\n",
       "        vertical-align: top;\n",
       "    }\n",
       "\n",
       "    .dataframe thead th {\n",
       "        text-align: right;\n",
       "    }\n",
       "</style>\n",
       "<table border=\"1\" class=\"dataframe\">\n",
       "  <thead>\n",
       "    <tr style=\"text-align: right;\">\n",
       "      <th></th>\n",
       "      <th>reporter</th>\n",
       "      <th>CRE</th>\n",
       "      <th>hue_order</th>\n",
       "    </tr>\n",
       "    <tr>\n",
       "      <th>condition</th>\n",
       "      <th></th>\n",
       "      <th></th>\n",
       "      <th></th>\n",
       "    </tr>\n",
       "  </thead>\n",
       "  <tbody>\n",
       "    <tr>\n",
       "      <th>lox203-3G.+CRE</th>\n",
       "      <td>lox203-3G</td>\n",
       "      <td>+CRE</td>\n",
       "      <td>[lox203-3G-EFS.1x.+CRE, lox203-3G-EFS.0.3162x....</td>\n",
       "    </tr>\n",
       "    <tr>\n",
       "      <th>lox203-3G.-CRE</th>\n",
       "      <td>lox203-3G</td>\n",
       "      <td>-CRE</td>\n",
       "      <td>[lox203-3G-EFS.1x.-CRE, lox203-3G-EFS.0.3162x....</td>\n",
       "    </tr>\n",
       "    <tr>\n",
       "      <th>lox380-3G.+CRE</th>\n",
       "      <td>lox380-3G</td>\n",
       "      <td>+CRE</td>\n",
       "      <td>[lox380-3G-EFS.1x.+CRE, lox380-3G-EFS.0.3162x....</td>\n",
       "    </tr>\n",
       "    <tr>\n",
       "      <th>lox380-3G.-CRE</th>\n",
       "      <td>lox380-3G</td>\n",
       "      <td>-CRE</td>\n",
       "      <td>[lox380-3G-EFS.1x.-CRE, lox380-3G-EFS.0.3162x....</td>\n",
       "    </tr>\n",
       "    <tr>\n",
       "      <th>lox610-3G.+CRE</th>\n",
       "      <td>lox610-3G</td>\n",
       "      <td>+CRE</td>\n",
       "      <td>[lox610-3G-EFS.1x.+CRE, lox610-3G-EFS.0.3162x....</td>\n",
       "    </tr>\n",
       "    <tr>\n",
       "      <th>lox610-3G.-CRE</th>\n",
       "      <td>lox610-3G</td>\n",
       "      <td>-CRE</td>\n",
       "      <td>[lox610-3G-EFS.1x.-CRE, lox610-3G-EFS.0.3162x....</td>\n",
       "    </tr>\n",
       "  </tbody>\n",
       "</table>\n",
       "</div>"
      ],
      "text/plain": [
       "                 reporter   CRE  \\\n",
       "condition                         \n",
       "lox203-3G.+CRE  lox203-3G  +CRE   \n",
       "lox203-3G.-CRE  lox203-3G  -CRE   \n",
       "lox380-3G.+CRE  lox380-3G  +CRE   \n",
       "lox380-3G.-CRE  lox380-3G  -CRE   \n",
       "lox610-3G.+CRE  lox610-3G  +CRE   \n",
       "lox610-3G.-CRE  lox610-3G  -CRE   \n",
       "\n",
       "                                                        hue_order  \n",
       "condition                                                          \n",
       "lox203-3G.+CRE  [lox203-3G-EFS.1x.+CRE, lox203-3G-EFS.0.3162x....  \n",
       "lox203-3G.-CRE  [lox203-3G-EFS.1x.-CRE, lox203-3G-EFS.0.3162x....  \n",
       "lox380-3G.+CRE  [lox380-3G-EFS.1x.+CRE, lox380-3G-EFS.0.3162x....  \n",
       "lox380-3G.-CRE  [lox380-3G-EFS.1x.-CRE, lox380-3G-EFS.0.3162x....  \n",
       "lox610-3G.+CRE  [lox610-3G-EFS.1x.+CRE, lox610-3G-EFS.0.3162x....  \n",
       "lox610-3G.-CRE  [lox610-3G-EFS.1x.-CRE, lox610-3G-EFS.0.3162x....  "
      ]
     },
     "metadata": {},
     "output_type": "display_data"
    }
   ],
   "source": [
    "reporter_list = pd.array( ['lox203-3G','lox203-3G', 'lox380-3G','lox380-3G', 'lox610-3G','lox610-3G'])\n",
    "CRE_list = ['+CRE','-CRE','+CRE','-CRE','+CRE','-CRE']\n",
    "hue_order = []\n",
    "\n",
    "for i in range(6):\n",
    "    data_now = data_gated[(data_gated['reporter'] == reporter_list[i]) & ( data_gated['CRE'] == CRE_list[i])].copy()\n",
    "    hue_order.append(pd.unique(data_now['conds']))\n",
    "\n",
    "\n",
    "hue_order = pd.DataFrame({\n",
    "    'reporter' : [rept for rept in reporter_list],\n",
    "    'CRE' : [CRE for CRE in CRE_list],\n",
    "    'hue_order' : [hue for hue in hue_order]\n",
    "})\n",
    "hue_order['condition'] = hue_order['reporter'] + '.' + hue_order['CRE']\n",
    "hue_order = hue_order.set_index('condition')\n",
    "display(hue_order)"
   ]
  },
  {
   "cell_type": "code",
   "execution_count": null,
   "id": "60c9a67b",
   "metadata": {},
   "outputs": [
    {
     "name": "stderr",
     "output_type": "stream",
     "text": [
      "c:\\Users\\chemegrad202\\AppData\\Local\\Programs\\Python\\Python312\\Lib\\site-packages\\seaborn\\_oldcore.py:1119: FutureWarning: use_inf_as_na option is deprecated and will be removed in a future version. Convert inf values to NaN before operating instead.\n",
      "  with pd.option_context('mode.use_inf_as_na', True):\n",
      "c:\\Users\\chemegrad202\\AppData\\Local\\Programs\\Python\\Python312\\Lib\\site-packages\\seaborn\\_oldcore.py:1075: FutureWarning: When grouping with a length-1 list-like, you will need to pass a length-1 tuple to get_group in a future version of pandas. Pass `(name,)` instead of `name` to silence this warning.\n",
      "  data_subset = grouped_data.get_group(pd_key)\n",
      "c:\\Users\\chemegrad202\\AppData\\Local\\Programs\\Python\\Python312\\Lib\\site-packages\\seaborn\\_oldcore.py:1075: FutureWarning: When grouping with a length-1 list-like, you will need to pass a length-1 tuple to get_group in a future version of pandas. Pass `(name,)` instead of `name` to silence this warning.\n",
      "  data_subset = grouped_data.get_group(pd_key)\n",
      "c:\\Users\\chemegrad202\\AppData\\Local\\Programs\\Python\\Python312\\Lib\\site-packages\\seaborn\\_oldcore.py:1075: FutureWarning: When grouping with a length-1 list-like, you will need to pass a length-1 tuple to get_group in a future version of pandas. Pass `(name,)` instead of `name` to silence this warning.\n",
      "  data_subset = grouped_data.get_group(pd_key)\n"
     ]
    },
    {
     "data": {
      "image/png": "[encoded data removed]",
      "text/plain": [
       "<Figure size 150x100 with 1 Axes>"
      ]
     },
     "metadata": {},
     "output_type": "display_data"
    },
    {
     "name": "stderr",
     "output_type": "stream",
     "text": [
      "c:\\Users\\chemegrad202\\AppData\\Local\\Programs\\Python\\Python312\\Lib\\site-packages\\seaborn\\_oldcore.py:1119: FutureWarning: use_inf_as_na option is deprecated and will be removed in a future version. Convert inf values to NaN before operating instead.\n",
      "  with pd.option_context('mode.use_inf_as_na', True):\n",
      "c:\\Users\\chemegrad202\\AppData\\Local\\Programs\\Python\\Python312\\Lib\\site-packages\\seaborn\\_oldcore.py:1075: FutureWarning: When grouping with a length-1 list-like, you will need to pass a length-1 tuple to get_group in a future version of pandas. Pass `(name,)` instead of `name` to silence this warning.\n",
      "  data_subset = grouped_data.get_group(pd_key)\n",
      "c:\\Users\\chemegrad202\\AppData\\Local\\Programs\\Python\\Python312\\Lib\\site-packages\\seaborn\\_oldcore.py:1075: FutureWarning: When grouping with a length-1 list-like, you will need to pass a length-1 tuple to get_group in a future version of pandas. Pass `(name,)` instead of `name` to silence this warning.\n",
      "  data_subset = grouped_data.get_group(pd_key)\n",
      "c:\\Users\\chemegrad202\\AppData\\Local\\Programs\\Python\\Python312\\Lib\\site-packages\\seaborn\\_oldcore.py:1075: FutureWarning: When grouping with a length-1 list-like, you will need to pass a length-1 tuple to get_group in a future version of pandas. Pass `(name,)` instead of `name` to silence this warning.\n",
      "  data_subset = grouped_data.get_group(pd_key)\n"
     ]
    },
    {
     "data": {
      "image/png": "[encoded data removed]",
      "text/plain": [
       "<Figure size 150x100 with 1 Axes>"
      ]
     },
     "metadata": {},
     "output_type": "display_data"
    },
    {
     "name": "stderr",
     "output_type": "stream",
     "text": [
      "c:\\Users\\chemegrad202\\AppData\\Local\\Programs\\Python\\Python312\\Lib\\site-packages\\seaborn\\_oldcore.py:1119: FutureWarning: use_inf_as_na option is deprecated and will be removed in a future version. Convert inf values to NaN before operating instead.\n",
      "  with pd.option_context('mode.use_inf_as_na', True):\n",
      "c:\\Users\\chemegrad202\\AppData\\Local\\Programs\\Python\\Python312\\Lib\\site-packages\\seaborn\\_oldcore.py:1075: FutureWarning: When grouping with a length-1 list-like, you will need to pass a length-1 tuple to get_group in a future version of pandas. Pass `(name,)` instead of `name` to silence this warning.\n",
      "  data_subset = grouped_data.get_group(pd_key)\n",
      "c:\\Users\\chemegrad202\\AppData\\Local\\Programs\\Python\\Python312\\Lib\\site-packages\\seaborn\\_oldcore.py:1075: FutureWarning: When grouping with a length-1 list-like, you will need to pass a length-1 tuple to get_group in a future version of pandas. Pass `(name,)` instead of `name` to silence this warning.\n",
      "  data_subset = grouped_data.get_group(pd_key)\n",
      "c:\\Users\\chemegrad202\\AppData\\Local\\Programs\\Python\\Python312\\Lib\\site-packages\\seaborn\\_oldcore.py:1075: FutureWarning: When grouping with a length-1 list-like, you will need to pass a length-1 tuple to get_group in a future version of pandas. Pass `(name,)` instead of `name` to silence this warning.\n",
      "  data_subset = grouped_data.get_group(pd_key)\n"
     ]
    },
    {
     "data": {
      "image/png": "[encoded data removed]",
      "text/plain": [
       "<Figure size 150x100 with 1 Axes>"
      ]
     },
     "metadata": {},
     "output_type": "display_data"
    },
    {
     "name": "stderr",
     "output_type": "stream",
     "text": [
      "c:\\Users\\chemegrad202\\AppData\\Local\\Programs\\Python\\Python312\\Lib\\site-packages\\seaborn\\_oldcore.py:1119: FutureWarning: use_inf_as_na option is deprecated and will be removed in a future version. Convert inf values to NaN before operating instead.\n",
      "  with pd.option_context('mode.use_inf_as_na', True):\n",
      "c:\\Users\\chemegrad202\\AppData\\Local\\Programs\\Python\\Python312\\Lib\\site-packages\\seaborn\\_oldcore.py:1075: FutureWarning: When grouping with a length-1 list-like, you will need to pass a length-1 tuple to get_group in a future version of pandas. Pass `(name,)` instead of `name` to silence this warning.\n",
      "  data_subset = grouped_data.get_group(pd_key)\n",
      "c:\\Users\\chemegrad202\\AppData\\Local\\Programs\\Python\\Python312\\Lib\\site-packages\\seaborn\\_oldcore.py:1075: FutureWarning: When grouping with a length-1 list-like, you will need to pass a length-1 tuple to get_group in a future version of pandas. Pass `(name,)` instead of `name` to silence this warning.\n",
      "  data_subset = grouped_data.get_group(pd_key)\n",
      "c:\\Users\\chemegrad202\\AppData\\Local\\Programs\\Python\\Python312\\Lib\\site-packages\\seaborn\\_oldcore.py:1075: FutureWarning: When grouping with a length-1 list-like, you will need to pass a length-1 tuple to get_group in a future version of pandas. Pass `(name,)` instead of `name` to silence this warning.\n",
      "  data_subset = grouped_data.get_group(pd_key)\n"
     ]
    },
    {
     "data": {
      "image/png": "[encoded data removed]",
      "text/plain": [
       "<Figure size 150x100 with 1 Axes>"
      ]
     },
     "metadata": {},
     "output_type": "display_data"
    },
    {
     "name": "stderr",
     "output_type": "stream",
     "text": [
      "c:\\Users\\chemegrad202\\AppData\\Local\\Programs\\Python\\Python312\\Lib\\site-packages\\seaborn\\_oldcore.py:1119: FutureWarning: use_inf_as_na option is deprecated and will be removed in a future version. Convert inf values to NaN before operating instead.\n",
      "  with pd.option_context('mode.use_inf_as_na', True):\n",
      "c:\\Users\\chemegrad202\\AppData\\Local\\Programs\\Python\\Python312\\Lib\\site-packages\\seaborn\\_oldcore.py:1075: FutureWarning: When grouping with a length-1 list-like, you will need to pass a length-1 tuple to get_group in a future version of pandas. Pass `(name,)` instead of `name` to silence this warning.\n",
      "  data_subset = grouped_data.get_group(pd_key)\n",
      "c:\\Users\\chemegrad202\\AppData\\Local\\Programs\\Python\\Python312\\Lib\\site-packages\\seaborn\\_oldcore.py:1075: FutureWarning: When grouping with a length-1 list-like, you will need to pass a length-1 tuple to get_group in a future version of pandas. Pass `(name,)` instead of `name` to silence this warning.\n",
      "  data_subset = grouped_data.get_group(pd_key)\n",
      "c:\\Users\\chemegrad202\\AppData\\Local\\Programs\\Python\\Python312\\Lib\\site-packages\\seaborn\\_oldcore.py:1075: FutureWarning: When grouping with a length-1 list-like, you will need to pass a length-1 tuple to get_group in a future version of pandas. Pass `(name,)` instead of `name` to silence this warning.\n",
      "  data_subset = grouped_data.get_group(pd_key)\n"
     ]
    },
    {
     "data": {
      "image/png": "[encoded data removed]",
      "text/plain": [
       "<Figure size 150x100 with 1 Axes>"
      ]
     },
     "metadata": {},
     "output_type": "display_data"
    },
    {
     "name": "stderr",
     "output_type": "stream",
     "text": [
      "c:\\Users\\chemegrad202\\AppData\\Local\\Programs\\Python\\Python312\\Lib\\site-packages\\seaborn\\_oldcore.py:1119: FutureWarning: use_inf_as_na option is deprecated and will be removed in a future version. Convert inf values to NaN before operating instead.\n",
      "  with pd.option_context('mode.use_inf_as_na', True):\n",
      "c:\\Users\\chemegrad202\\AppData\\Local\\Programs\\Python\\Python312\\Lib\\site-packages\\seaborn\\_oldcore.py:1075: FutureWarning: When grouping with a length-1 list-like, you will need to pass a length-1 tuple to get_group in a future version of pandas. Pass `(name,)` instead of `name` to silence this warning.\n",
      "  data_subset = grouped_data.get_group(pd_key)\n",
      "c:\\Users\\chemegrad202\\AppData\\Local\\Programs\\Python\\Python312\\Lib\\site-packages\\seaborn\\_oldcore.py:1075: FutureWarning: When grouping with a length-1 list-like, you will need to pass a length-1 tuple to get_group in a future version of pandas. Pass `(name,)` instead of `name` to silence this warning.\n",
      "  data_subset = grouped_data.get_group(pd_key)\n",
      "c:\\Users\\chemegrad202\\AppData\\Local\\Programs\\Python\\Python312\\Lib\\site-packages\\seaborn\\_oldcore.py:1075: FutureWarning: When grouping with a length-1 list-like, you will need to pass a length-1 tuple to get_group in a future version of pandas. Pass `(name,)` instead of `name` to silence this warning.\n",
      "  data_subset = grouped_data.get_group(pd_key)\n"
     ]
    },
    {
     "data": {
      "image/png": "[encoded data removed]",
      "text/plain": [
       "<Figure size 150x100 with 1 Axes>"
      ]
     },
     "metadata": {},
     "output_type": "display_data"
    }
   ],
   "source": [
    "xsize = 1.5\n",
    "ysize = 1\n",
    "fontsize=9.600000000000001\n",
    "xlim = [.1e1, 5e5]\n",
    "\n",
    "parameters = pd.array(['mGL-A'])\n",
    "plottitle = pd.array(['FigureS18B-1.svg','FigureS18B-2.svg','FigureS18B-3.svg','Figure 18B-4.svg', 'Figure4C-1.svg', 'Figure4C-2.svg'])\n",
    "palette = 'plasma'\n",
    "for i in range(6):\n",
    "    g = plt.figure(figsize=(xsize,ysize))\n",
    "    hue_order_new = hue_order['hue_order'].iloc[i]\n",
    "    data_now = data_gated[(data_gated['conds'].isin(hue_order_new)) & (data_gated['Date'] != '2024.04.22.x') & (data_gated['Date'] != '2024.06.10.x')]\n",
    "    g = custom_hist_plot(data_now, parameters,hue='conds', palette=palette, \n",
    "                        hueorder=hue_order_new, alpha=0,line=mGL_gate,\n",
    "                        fontsize=fontsize,xsize=xsize, ysize=ysize, legend=False,\n",
    "                        xlim=xlim)\n",
    "    g = g.get_figure()\n",
    "    g.savefig((output_path + plottitle[i]),bbox_inches='tight')\n"
   ]
  }
 ],
 "metadata": {
  "kernelspec": {
   "display_name": "newenv",
   "language": "python",
   "name": "python3"
  },
  "language_info": {
   "codemirror_mode": {
    "name": "ipython",
    "version": 3
   },
   "file_extension": ".py",
   "mimetype": "text/x-python",
   "name": "python",
   "nbconvert_exporter": "python",
   "pygments_lexer": "ipython3",
   "version": "3.9.1"
  }
 },
 "nbformat": 4,
 "nbformat_minor": 5
}
