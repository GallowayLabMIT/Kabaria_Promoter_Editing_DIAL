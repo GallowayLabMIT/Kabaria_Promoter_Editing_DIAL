{
 "cells": [
  {
   "cell_type": "markdown",
   "metadata": {},
   "source": [
    "# Figure S21 code"
   ]
  },
  {
   "cell_type": "markdown",
   "metadata": {},
   "source": [
    "**Load in functions**"
   ]
  },
  {
   "cell_type": "code",
   "execution_count": 2,
   "metadata": {},
   "outputs": [],
   "source": [
    "import importlib\n",
    "import itertools\n",
    "import matplotlib as plt\n",
    "import functions_paper_1_MEE\n",
    "from functions_paper_1_MEE import *\n",
    "import rushd as rd\n",
    "import seaborn as sns\n",
    "exec(open(\"functions_paper_1_MEE.py\").read())\n",
    "sns.set_context('paper')\n",
    "from statannot import add_stat_annotation\n",
    "import openpyxl"
   ]
  },
  {
   "cell_type": "markdown",
   "metadata": {},
   "source": [
    "**Set all data and yaml paths for plates**"
   ]
  },
  {
   "cell_type": "code",
   "execution_count": null,
   "metadata": {},
   "outputs": [],
   "source": [
    "# Set paths to the experiment folder and where to find the data\n",
    "datadir = Path(Path('../../datadir_mee.txt').read_text())\n",
    "base_path = datadir/'instruments'/'data'/'attune'/'Mary'\n",
    "\n",
    "Plates = {'2024.11.08_minP_EFS_CAG_retest': ['Plate1', 'Plate3'],\n",
    "          '2024.11.22_CAG_minP_repeat': ['Plate1'],\n",
    "          '2024.12.16_MLP_2reps': ['Plate1'],\n",
    "          '2024.11.18_minP_CAG_rep3': ['Plate1']\n",
    "          }\n",
    "\n",
    "channel_list = ['mRuby2-A', 'mGL-A', 'iRFP670-A', 'FSC-A', 'SSC-A', 'TagBFP-A']"
   ]
  },
  {
   "cell_type": "markdown",
   "metadata": {},
   "source": [
    "**Generate plate dictionary with well metadata**"
   ]
  },
  {
   "cell_type": "code",
   "execution_count": null,
   "metadata": {},
   "outputs": [
    {
     "data": {
      "text/html": [
       "<div>\n",
       "<style scoped>\n",
       "    .dataframe tbody tr th:only-of-type {\n",
       "        vertical-align: middle;\n",
       "    }\n",
       "\n",
       "    .dataframe tbody tr th {\n",
       "        vertical-align: top;\n",
       "    }\n",
       "\n",
       "    .dataframe thead th {\n",
       "        text-align: right;\n",
       "    }\n",
       "</style>\n",
       "<table border=\"1\" class=\"dataframe\">\n",
       "  <thead>\n",
       "    <tr style=\"text-align: right;\">\n",
       "      <th></th>\n",
       "      <th>data_path</th>\n",
       "      <th>yaml_path</th>\n",
       "    </tr>\n",
       "  </thead>\n",
       "  <tbody>\n",
       "    <tr>\n",
       "      <th>0</th>\n",
       "      <td>C:\\Users\\chemegrad202\\Massachusetts Institute ...</td>\n",
       "      <td>C:\\Users\\chemegrad202\\Massachusetts Institute ...</td>\n",
       "    </tr>\n",
       "    <tr>\n",
       "      <th>1</th>\n",
       "      <td>C:\\Users\\chemegrad202\\Massachusetts Institute ...</td>\n",
       "      <td>C:\\Users\\chemegrad202\\Massachusetts Institute ...</td>\n",
       "    </tr>\n",
       "    <tr>\n",
       "      <th>2</th>\n",
       "      <td>C:\\Users\\chemegrad202\\Massachusetts Institute ...</td>\n",
       "      <td>C:\\Users\\chemegrad202\\Massachusetts Institute ...</td>\n",
       "    </tr>\n",
       "    <tr>\n",
       "      <th>3</th>\n",
       "      <td>C:\\Users\\chemegrad202\\Massachusetts Institute ...</td>\n",
       "      <td>C:\\Users\\chemegrad202\\Massachusetts Institute ...</td>\n",
       "    </tr>\n",
       "    <tr>\n",
       "      <th>4</th>\n",
       "      <td>C:\\Users\\chemegrad202\\Massachusetts Institute ...</td>\n",
       "      <td>C:\\Users\\chemegrad202\\Massachusetts Institute ...</td>\n",
       "    </tr>\n",
       "  </tbody>\n",
       "</table>\n",
       "</div>"
      ],
      "text/plain": [
       "                                           data_path  \\\n",
       "0  C:\\Users\\chemegrad202\\Massachusetts Institute ...   \n",
       "1  C:\\Users\\chemegrad202\\Massachusetts Institute ...   \n",
       "2  C:\\Users\\chemegrad202\\Massachusetts Institute ...   \n",
       "3  C:\\Users\\chemegrad202\\Massachusetts Institute ...   \n",
       "4  C:\\Users\\chemegrad202\\Massachusetts Institute ...   \n",
       "\n",
       "                                           yaml_path  \n",
       "0  C:\\Users\\chemegrad202\\Massachusetts Institute ...  \n",
       "1  C:\\Users\\chemegrad202\\Massachusetts Institute ...  \n",
       "2  C:\\Users\\chemegrad202\\Massachusetts Institute ...  \n",
       "3  C:\\Users\\chemegrad202\\Massachusetts Institute ...  \n",
       "4  C:\\Users\\chemegrad202\\Massachusetts Institute ...  "
      ]
     },
     "metadata": {},
     "output_type": "display_data"
    }
   ],
   "source": [
    "exp_path = []\n",
    "yaml_path = []\n",
    "\n",
    "for i in Plates:\n",
    "    for j in Plates[i]:\n",
    "        exp_path.append(base_path/i/j/'export_singlets')\n",
    "        yaml_path.append(base_path/i/j/'export_singlets'/'well_metadata.yaml')\n",
    "\n",
    "output_path = './figs_2024_promoter_editing_paper/figureS21_TET_DIAL/'\n",
    "\n",
    "plates_dict = pd.DataFrame({\n",
    "    'data_path' : [exp for exp in exp_path],\n",
    "    'yaml_path' : [yaml for yaml in yaml_path]\n",
    "})\n",
    "\n",
    "display(plates_dict)"
   ]
  },
  {
   "cell_type": "markdown",
   "metadata": {},
   "source": [
    "**Load Data in and cache it**"
   ]
  },
  {
   "cell_type": "code",
   "execution_count": null,
   "metadata": {},
   "outputs": [],
   "source": [
    "data_new = pd.DataFrame()\n",
    "channel_list = ['mRuby2-A', 'mGL-A', 'iRFP670-A','TagBFP-A', 'FSC-A', 'SSC-A']\n",
    "data_new = rd.flow.load_groups_with_metadata(plates_dict, columns=channel_list) #Could add in columns=channel_list here to get specific columns\n",
    "\n",
    "# Remove negative values from dataframe\n",
    "for c in channel_list: data_new = data_new[data_new[c] > 0]\n",
    "\n",
    "# Remove NaN values\n",
    "data_new.dropna(inplace=True)\n",
    "\n",
    "data = data_new.copy()"
   ]
  },
  {
   "cell_type": "markdown",
   "metadata": {},
   "source": [
    "**Gating Data based on co-transfection marker**"
   ]
  },
  {
   "cell_type": "code",
   "execution_count": 6,
   "metadata": {},
   "outputs": [],
   "source": [
    "iRFP670_gate = 10000\n",
    "mRuby2_gate = 200 \n",
    "mGL_gate = data[data.CRE == '-CRE']['mGL-A'].quantile(0.9999)\n",
    "gated = data[data['iRFP670-A'] > iRFP670_gate].copy() #Make a copy of the dataframe that is gated"
   ]
  },
  {
   "cell_type": "markdown",
   "metadata": {},
   "source": [
    "**Set conditions**"
   ]
  },
  {
   "cell_type": "code",
   "execution_count": 7,
   "metadata": {},
   "outputs": [],
   "source": [
    "gated['conds'] = gated['reporter'] + '-' +gated['Activator']+ '.' + gated['DOX']  +'.' + gated['CRE']\n",
    "gated['cond4'] = gated['reporter'] + '.'+ gated['DOX']  +'.' + gated['CRE']\n",
    "gated.dropna(inplace=True)"
   ]
  },
  {
   "cell_type": "markdown",
   "metadata": {},
   "source": [
    "**Figure S21C: Minimal promoter histograms**"
   ]
  },
  {
   "cell_type": "code",
   "execution_count": null,
   "metadata": {},
   "outputs": [
    {
     "name": "stderr",
     "output_type": "stream",
     "text": [
      "c:\\Users\\chemegrad202\\AppData\\Local\\Programs\\Python\\Python312\\Lib\\site-packages\\seaborn\\_oldcore.py:1119: FutureWarning: use_inf_as_na option is deprecated and will be removed in a future version. Convert inf values to NaN before operating instead.\n",
      "  with pd.option_context('mode.use_inf_as_na', True):\n",
      "c:\\Users\\chemegrad202\\AppData\\Local\\Programs\\Python\\Python312\\Lib\\site-packages\\seaborn\\_oldcore.py:1075: FutureWarning: When grouping with a length-1 list-like, you will need to pass a length-1 tuple to get_group in a future version of pandas. Pass `(name,)` instead of `name` to silence this warning.\n",
      "  data_subset = grouped_data.get_group(pd_key)\n",
      "c:\\Users\\chemegrad202\\AppData\\Local\\Programs\\Python\\Python312\\Lib\\site-packages\\seaborn\\_oldcore.py:1075: FutureWarning: When grouping with a length-1 list-like, you will need to pass a length-1 tuple to get_group in a future version of pandas. Pass `(name,)` instead of `name` to silence this warning.\n",
      "  data_subset = grouped_data.get_group(pd_key)\n",
      "c:\\Users\\chemegrad202\\AppData\\Local\\Programs\\Python\\Python312\\Lib\\site-packages\\seaborn\\_oldcore.py:1075: FutureWarning: When grouping with a length-1 list-like, you will need to pass a length-1 tuple to get_group in a future version of pandas. Pass `(name,)` instead of `name` to silence this warning.\n",
      "  data_subset = grouped_data.get_group(pd_key)\n",
      "c:\\Users\\chemegrad202\\AppData\\Local\\Programs\\Python\\Python312\\Lib\\site-packages\\seaborn\\_oldcore.py:1119: FutureWarning: use_inf_as_na option is deprecated and will be removed in a future version. Convert inf values to NaN before operating instead.\n",
      "  with pd.option_context('mode.use_inf_as_na', True):\n",
      "c:\\Users\\chemegrad202\\AppData\\Local\\Programs\\Python\\Python312\\Lib\\site-packages\\seaborn\\_oldcore.py:1075: FutureWarning: When grouping with a length-1 list-like, you will need to pass a length-1 tuple to get_group in a future version of pandas. Pass `(name,)` instead of `name` to silence this warning.\n",
      "  data_subset = grouped_data.get_group(pd_key)\n",
      "c:\\Users\\chemegrad202\\AppData\\Local\\Programs\\Python\\Python312\\Lib\\site-packages\\seaborn\\_oldcore.py:1075: FutureWarning: When grouping with a length-1 list-like, you will need to pass a length-1 tuple to get_group in a future version of pandas. Pass `(name,)` instead of `name` to silence this warning.\n",
      "  data_subset = grouped_data.get_group(pd_key)\n",
      "c:\\Users\\chemegrad202\\AppData\\Local\\Programs\\Python\\Python312\\Lib\\site-packages\\seaborn\\_oldcore.py:1075: FutureWarning: When grouping with a length-1 list-like, you will need to pass a length-1 tuple to get_group in a future version of pandas. Pass `(name,)` instead of `name` to silence this warning.\n",
      "  data_subset = grouped_data.get_group(pd_key)\n",
      "c:\\Users\\chemegrad202\\AppData\\Local\\Programs\\Python\\Python312\\Lib\\site-packages\\seaborn\\_oldcore.py:1119: FutureWarning: use_inf_as_na option is deprecated and will be removed in a future version. Convert inf values to NaN before operating instead.\n",
      "  with pd.option_context('mode.use_inf_as_na', True):\n",
      "c:\\Users\\chemegrad202\\AppData\\Local\\Programs\\Python\\Python312\\Lib\\site-packages\\seaborn\\_oldcore.py:1075: FutureWarning: When grouping with a length-1 list-like, you will need to pass a length-1 tuple to get_group in a future version of pandas. Pass `(name,)` instead of `name` to silence this warning.\n",
      "  data_subset = grouped_data.get_group(pd_key)\n",
      "c:\\Users\\chemegrad202\\AppData\\Local\\Programs\\Python\\Python312\\Lib\\site-packages\\seaborn\\_oldcore.py:1075: FutureWarning: When grouping with a length-1 list-like, you will need to pass a length-1 tuple to get_group in a future version of pandas. Pass `(name,)` instead of `name` to silence this warning.\n",
      "  data_subset = grouped_data.get_group(pd_key)\n",
      "c:\\Users\\chemegrad202\\AppData\\Local\\Programs\\Python\\Python312\\Lib\\site-packages\\seaborn\\_oldcore.py:1075: FutureWarning: When grouping with a length-1 list-like, you will need to pass a length-1 tuple to get_group in a future version of pandas. Pass `(name,)` instead of `name` to silence this warning.\n",
      "  data_subset = grouped_data.get_group(pd_key)\n",
      "c:\\Users\\chemegrad202\\AppData\\Local\\Programs\\Python\\Python312\\Lib\\site-packages\\seaborn\\_oldcore.py:1119: FutureWarning: use_inf_as_na option is deprecated and will be removed in a future version. Convert inf values to NaN before operating instead.\n",
      "  with pd.option_context('mode.use_inf_as_na', True):\n",
      "c:\\Users\\chemegrad202\\AppData\\Local\\Programs\\Python\\Python312\\Lib\\site-packages\\seaborn\\_oldcore.py:1075: FutureWarning: When grouping with a length-1 list-like, you will need to pass a length-1 tuple to get_group in a future version of pandas. Pass `(name,)` instead of `name` to silence this warning.\n",
      "  data_subset = grouped_data.get_group(pd_key)\n",
      "c:\\Users\\chemegrad202\\AppData\\Local\\Programs\\Python\\Python312\\Lib\\site-packages\\seaborn\\_oldcore.py:1075: FutureWarning: When grouping with a length-1 list-like, you will need to pass a length-1 tuple to get_group in a future version of pandas. Pass `(name,)` instead of `name` to silence this warning.\n",
      "  data_subset = grouped_data.get_group(pd_key)\n",
      "c:\\Users\\chemegrad202\\AppData\\Local\\Programs\\Python\\Python312\\Lib\\site-packages\\seaborn\\_oldcore.py:1075: FutureWarning: When grouping with a length-1 list-like, you will need to pass a length-1 tuple to get_group in a future version of pandas. Pass `(name,)` instead of `name` to silence this warning.\n",
      "  data_subset = grouped_data.get_group(pd_key)\n",
      "c:\\Users\\chemegrad202\\AppData\\Local\\Programs\\Python\\Python312\\Lib\\site-packages\\seaborn\\_oldcore.py:1119: FutureWarning: use_inf_as_na option is deprecated and will be removed in a future version. Convert inf values to NaN before operating instead.\n",
      "  with pd.option_context('mode.use_inf_as_na', True):\n",
      "c:\\Users\\chemegrad202\\AppData\\Local\\Programs\\Python\\Python312\\Lib\\site-packages\\seaborn\\_oldcore.py:1075: FutureWarning: When grouping with a length-1 list-like, you will need to pass a length-1 tuple to get_group in a future version of pandas. Pass `(name,)` instead of `name` to silence this warning.\n",
      "  data_subset = grouped_data.get_group(pd_key)\n",
      "c:\\Users\\chemegrad202\\AppData\\Local\\Programs\\Python\\Python312\\Lib\\site-packages\\seaborn\\_oldcore.py:1075: FutureWarning: When grouping with a length-1 list-like, you will need to pass a length-1 tuple to get_group in a future version of pandas. Pass `(name,)` instead of `name` to silence this warning.\n",
      "  data_subset = grouped_data.get_group(pd_key)\n",
      "c:\\Users\\chemegrad202\\AppData\\Local\\Programs\\Python\\Python312\\Lib\\site-packages\\seaborn\\_oldcore.py:1075: FutureWarning: When grouping with a length-1 list-like, you will need to pass a length-1 tuple to get_group in a future version of pandas. Pass `(name,)` instead of `name` to silence this warning.\n",
      "  data_subset = grouped_data.get_group(pd_key)\n"
     ]
    },
    {
     "data": {
      "image/png": "[encoded data removed]",
      "text/plain": [
       "<Figure size 200x100 with 1 Axes>"
      ]
     },
     "metadata": {},
     "output_type": "display_data"
    },
    {
     "data": {
      "image/png": "[encoded data removed]",
      "text/plain": [
       "<Figure size 200x100 with 1 Axes>"
      ]
     },
     "metadata": {},
     "output_type": "display_data"
    },
    {
     "data": {
      "image/png": "[encoded data removed]",
      "text/plain": [
       "<Figure size 200x100 with 1 Axes>"
      ]
     },
     "metadata": {},
     "output_type": "display_data"
    },
    {
     "data": {
      "image/png": "[encoded data removed]",
      "text/plain": [
       "<Figure size 200x100 with 1 Axes>"
      ]
     },
     "metadata": {},
     "output_type": "display_data"
    },
    {
     "data": {
      "image/png": "[encoded data removed]",
      "text/plain": [
       "<Figure size 200x100 with 1 Axes>"
      ]
     },
     "metadata": {},
     "output_type": "display_data"
    }
   ],
   "source": [
    "reporters = ['pDA030','pDA028','pDA046','pDA047', 'lox203-3G']\n",
    "plottitle = pd.array(['FigureS21C-3.svg','FigureS21C-5.svg','FigureS21C-4.svg','FigureS21C-2.svg','FigureS21C-1.svg'])\n",
    "\n",
    "palette = {'lox203-3G-CAG.1x.+CRE': '#69B645',\n",
    "'lox203-3G-CAG.1x.-CRE': '#C3DB9A',\n",
    "'lox203-3G-CAG.0x.+CRE': 'gray',\n",
    "'lox203-3G-CAG.0x.-CRE': 'black', \n",
    "'pDA028-CAG.1x.+CRE': '#69B645',\n",
    "'pDA028-CAG.1x.-CRE': '#C3DB9A',\n",
    "'pDA028-CAG.0x.+CRE': 'gray',\n",
    "'pDA028-CAG.0x.-CRE': 'black', \n",
    "'pDA030-CAG.1x.+CRE': '#69B645',\n",
    "'pDA030-CAG.1x.-CRE': '#C3DB9A',\n",
    "'pDA030-CAG.0x.+CRE':  'gray',\n",
    "'pDA030-CAG.0x.-CRE': 'black', \n",
    "'pDA046-CAG.1x.+CRE': '#69B645',\n",
    "'pDA046-CAG.1x.-CRE': '#C3DB9A',\n",
    "'pDA046-CAG.0x.+CRE': 'gray',\n",
    "'pDA046-CAG.0x.-CRE': 'black',\n",
    "'pDA047-CAG.1x.+CRE': '#69B645',\n",
    "'pDA047-CAG.1x.-CRE': '#C3DB9A',\n",
    "'pDA047-CAG.0x.+CRE': 'gray',\n",
    "'pDA047-CAG.0x.-CRE': 'black'\n",
    "                       }\n",
    "\n",
    "xsize = 2; ysize = 1; figsize = (xsize, ysize)\n",
    "\n",
    "for i in range(5):\n",
    "    plt.figure(figsize=figsize)\n",
    "    data_now = gated[(gated['reporter'] == reporters[i]) & (gated['Activator']=='CAG')]\n",
    "    g = sns.kdeplot(data=data_now, x='mGL-A',y=None,hue='conds', legend=False,\n",
    "                    log_scale=True,fill=True, alpha = 0.5,common_norm=False,palette=palette)\n",
    "    g.spines['left'].set_visible(False)\n",
    "    plt.gca().get_yaxis().set_visible(False)\n",
    "    plt.gca().set_xlabel(\"\")\n",
    "    g.set_xlim(xmin=2, xmax=400000)\n",
    "    g.spines['top'].set_visible(False)\n",
    "    g.spines['right'].set_visible(False)\n",
    "    \n",
    "    g = g.get_figure()\n",
    "    g.savefig((output_path + plottitle[i]),bbox_inches='tight')"
   ]
  },
  {
   "cell_type": "markdown",
   "metadata": {},
   "source": [
    "## Summary Statistics"
   ]
  },
  {
   "cell_type": "code",
   "execution_count": null,
   "metadata": {},
   "outputs": [
    {
     "name": "stderr",
     "output_type": "stream",
     "text": [
      "<string>:186: FutureWarning: The provided callable <function median at 0x000001F4A7265EE0> is currently using SeriesGroupBy.median. In a future version of pandas, the provided callable will be used directly. To keep current behavior pass the string \"median\" instead.\n",
      "<string>:186: FutureWarning: The provided callable <function std at 0x000001F491022660> is currently using SeriesGroupBy.std. In a future version of pandas, the provided callable will be used directly. To keep current behavior pass the string \"std\" instead.\n",
      "<string>:186: FutureWarning: The provided callable <function mean at 0x000001F491022520> is currently using SeriesGroupBy.mean. In a future version of pandas, the provided callable will be used directly. To keep current behavior pass the string \"mean\" instead.\n"
     ]
    }
   ],
   "source": [
    "df = gated[(gated['reporter'] != 'Bad') & (gated['Activator'] != 'EFS')] #choose dataframe, remove conditions not used for stats\n",
    "\n",
    "#Decide how to group. The last parameter will be the condition that it is group by by last ('well' or 'bioreplicate')\n",
    "by = ['reporter', 'Activator', 'DOX','DOX#','CRE','conds', 'cond4', 'Date'] #how to filter results, columns \n",
    "\n",
    "x = ['mGL-A', 'iRFP670-A','TagBFP-A'] #which parameter to calculate results on\n",
    "stat = [sp.stats.gmean, np.median, np.std, np.mean] #statistics to calculate\n",
    "s_well = calc_stats(df,by,x,stat) #calculate statistics "
   ]
  },
  {
   "cell_type": "markdown",
   "metadata": {},
   "source": [
    "**Export summary df to excel file**"
   ]
  },
  {
   "cell_type": "code",
   "execution_count": null,
   "metadata": {},
   "outputs": [],
   "source": [
    "s_well.to_excel('FigS21_minimal_promoters.xlsx',index=False)"
   ]
  },
  {
   "cell_type": "markdown",
   "metadata": {},
   "source": [
    "**Fold Change function for minimal promoter**"
   ]
  },
  {
   "cell_type": "code",
   "execution_count": null,
   "metadata": {},
   "outputs": [
    {
     "name": "stdout",
     "output_type": "stream",
     "text": [
      "lox203-3G-CRE value is 155.59443787723848\n",
      "lox203-3G-noCRE value is 81.71999376847025\n",
      "pDA028-CRE value is 10036.464416769246\n",
      "pDA028-noCRE value is 3711.3880521014603\n",
      "pDA030-CRE value is 1344.031899365776\n",
      "pDA030-noCRE value is 520.9720940804041\n",
      "pDA046-CRE value is 4410.7002346771205\n",
      "pDA046-noCRE value is 1954.5732182605664\n",
      "lox203-3G-CRE value is 145.7528347688557\n",
      "lox203-3G-noCRE value is 84.89469889704249\n",
      "pDA028-CRE value is 9297.55181852181\n",
      "pDA028-noCRE value is 3590.0709618224805\n",
      "pDA030-CRE value is 1293.4303814576901\n",
      "pDA030-noCRE value is 567.1987019920849\n",
      "pDA046-CRE value is 5257.208262908405\n",
      "pDA046-noCRE value is 2128.336521570492\n",
      "lox203-3G-CRE value is 432.8860681366076\n",
      "lox203-3G-noCRE value is 162.1017668647627\n",
      "pDA028-CRE value is 4157.5563310052285\n",
      "pDA028-noCRE value is 1324.6369558587128\n",
      "pDA030-CRE value is 1373.5286343571406\n",
      "pDA030-noCRE value is 682.6474087365486\n",
      "pDA046-CRE value is 5211.002768576819\n",
      "pDA046-noCRE value is 2105.5094179277344\n",
      "pDA047-CRE value is 557.8112893774603\n",
      "pDA047-noCRE value is 221.51711356456943\n",
      "pDA047-CRE value is 387.95125000177796\n",
      "pDA047-noCRE value is 185.90660665637208\n",
      "pDA047-CRE value is 352.55579465412296\n",
      "pDA047-noCRE value is 190.83442638795196\n"
     ]
    }
   ],
   "source": [
    "bioreps_plot = pd.array(['2024.11.08.x','2024.11.08.xx', '2024.11.22.x', '2024.12.16.x', '2024.12.16.xx'])\n",
    "\n",
    "s_normalized = pd.DataFrame()\n",
    "df = gated[(gated['reporter'] != 'Bad') & (gated['Activator'] != 'EFS')] # Remove conditions not used for stats\n",
    "\n",
    "for biorep in bioreps_plot:\n",
    "    df_biorep = df[df['Date'] == biorep] #choose dataframe\n",
    "    by = ['reporter', 'DOX','DOX#','CRE','conds', 'cond4', 'Date']  #how to filter results, columns \n",
    "    x = ['mGL-A','TagBFP-A','mRuby2-A'] #which parameter to calculate results on\n",
    "    stat = [sp.stats.gmean] #statistics to calculate\n",
    "    s_biorep = calc_stats(df_biorep,by,x,stat) #calculate statistics \n",
    "\n",
    "    if 'lox203-3G' in s_biorep['reporter'].values:\n",
    "        lox203_3G_Cre = s_biorep[(s_biorep['reporter'] == 'lox203-3G') & (s_biorep['CRE'] == '+CRE') & (s_biorep['DOX'] == '1x')]['mGL-A_gmean'].iloc[0]\n",
    "        print('lox203-3G-CRE value is ' +str(lox203_3G_Cre)+ '')\n",
    "\n",
    "        lox203_3G_noCre = s_biorep[(s_biorep['reporter'] == 'lox203-3G') & (s_biorep['CRE'] == '-CRE') & (s_biorep['DOX'] == '1x')]['mGL-A_gmean'].iloc[0]\n",
    "        print('lox203-3G-noCRE value is ' +str(lox203_3G_noCre)+ '')\n",
    "\n",
    "    if 'pDA028' in s_biorep['reporter'].values:\n",
    "        pDA028_Cre = s_biorep[(s_biorep['reporter'] == 'pDA028') & (s_biorep['CRE'] == '+CRE') & (s_biorep['DOX'] == '1x')]['mGL-A_gmean'].iloc[0]\n",
    "        print('pDA028-CRE value is ' +str(pDA028_Cre)+ '')\n",
    "\n",
    "        pDA028_noCre = s_biorep[(s_biorep['reporter'] == 'pDA028') & (s_biorep['CRE'] == '-CRE') & (s_biorep['DOX'] == '1x')]['mGL-A_gmean'].iloc[0]\n",
    "        print('pDA028-noCRE value is ' +str(pDA028_noCre)+ '')\n",
    "\n",
    "    if 'pDA030' in s_biorep['reporter'].values:\n",
    "        pDA030_Cre = s_biorep[(s_biorep['reporter'] == 'pDA030') & (s_biorep['CRE'] == '+CRE') &  (s_biorep['DOX'] == '1x')]['mGL-A_gmean'].iloc[0]\n",
    "        print('pDA030-CRE value is ' +str(pDA030_Cre)+ '')\n",
    "\n",
    "        pDA030_noCre = s_biorep[(s_biorep['reporter'] == 'pDA030') & (s_biorep['CRE'] == '-CRE') & (s_biorep['DOX'] == '1x')]['mGL-A_gmean'].iloc[0]\n",
    "        print('pDA030-noCRE value is ' +str(pDA030_noCre)+ '')\n",
    "\n",
    "    if 'pDA046' in s_biorep['reporter'].values:\n",
    "        pDA046_Cre = s_biorep[(s_biorep['reporter'] == 'pDA046') & (s_biorep['CRE'] == '+CRE') &  (s_biorep['DOX'] == '1x')]['mGL-A_gmean'].iloc[0]\n",
    "        print('pDA046-CRE value is ' +str(pDA046_Cre)+ '')\n",
    "\n",
    "        pDA046_noCre = s_biorep[(s_biorep['reporter'] == 'pDA046') & (s_biorep['CRE'] == '-CRE') & (s_biorep['DOX'] == '1x')]['mGL-A_gmean'].iloc[0]\n",
    "        print('pDA046-noCRE value is ' +str(pDA046_noCre)+ '')\n",
    "\n",
    "    if 'pDA047' in s_biorep['reporter'].values:\n",
    "        pDA047_Cre = s_biorep[(s_biorep['reporter'] == 'pDA047') & (s_biorep['CRE'] == '+CRE') &  (s_biorep['DOX'] == '1x')]['mGL-A_gmean'].iloc[0]\n",
    "        print('pDA047-CRE value is ' +str(pDA047_Cre)+ '')\n",
    "\n",
    "        pDA047_noCre = s_biorep[(s_biorep['reporter'] == 'pDA047') & (s_biorep['CRE'] == '-CRE') & (s_biorep['DOX'] == '1x')]['mGL-A_gmean'].iloc[0]\n",
    "        print('pDA047-noCRE value is ' +str(pDA047_noCre)+ '')\n",
    "\n",
    "\n",
    "    def normalize_mGL_gmean(data):\n",
    "        if data['reporter'] == 'lox203-3G':\n",
    "            if data['CRE'] == '-CRE':\n",
    "                return data['mGL-A_gmean'] / lox203_3G_noCre\n",
    "            else:\n",
    "                return data['mGL-A_gmean'] / lox203_3G_noCre\n",
    "        elif data['reporter'] == 'pDA046':\n",
    "            if data['CRE'] == '-CRE':\n",
    "                return data['mGL-A_gmean'] / pDA046_noCre\n",
    "            else:\n",
    "                return data['mGL-A_gmean'] / pDA046_noCre\n",
    "        elif data['reporter'] == 'pDA028':\n",
    "            if data['CRE'] == '-CRE':\n",
    "                return data['mGL-A_gmean'] / pDA028_noCre\n",
    "            else:\n",
    "                return data['mGL-A_gmean'] / pDA028_noCre\n",
    "        elif data['reporter'] == 'pDA030':\n",
    "            if data['CRE'] == '-CRE':\n",
    "                return data['mGL-A_gmean'] / pDA030_noCre\n",
    "            else:\n",
    "                return data['mGL-A_gmean'] / pDA030_noCre\n",
    "        elif data['reporter'] == 'pDA047':\n",
    "            if data['CRE'] == '-CRE':\n",
    "                return data['mGL-A_gmean'] / pDA047_noCre\n",
    "            else:\n",
    "                return data['mGL-A_gmean'] / pDA047_noCre\n",
    "            \n",
    "    s_biorep['Normalized_mGL-A_gmean'] = s_biorep.apply(normalize_mGL_gmean, axis=1)\n",
    "\n",
    "    s_normalized = pd.concat([s_normalized, s_biorep], ignore_index=True)\n",
    "\n",
    "# Only take those at 1x DOX concentration\n",
    "s_normalized = s_normalized[s_normalized['DOX'] == '1x']\n",
    "s_normalized = s_normalized.dropna()"
   ]
  },
  {
   "cell_type": "markdown",
   "metadata": {},
   "source": [
    "**Figure S21A: Minimal promoter fold change**"
   ]
  },
  {
   "cell_type": "code",
   "execution_count": null,
   "metadata": {},
   "outputs": [
    {
     "name": "stderr",
     "output_type": "stream",
     "text": [
      "c:\\Users\\chemegrad202\\AppData\\Local\\Programs\\Python\\Python312\\Lib\\site-packages\\seaborn\\_oldcore.py:1119: FutureWarning: use_inf_as_na option is deprecated and will be removed in a future version. Convert inf values to NaN before operating instead.\n",
      "  with pd.option_context('mode.use_inf_as_na', True):\n",
      "c:\\Users\\chemegrad202\\AppData\\Local\\Programs\\Python\\Python312\\Lib\\site-packages\\seaborn\\_oldcore.py:1119: FutureWarning: use_inf_as_na option is deprecated and will be removed in a future version. Convert inf values to NaN before operating instead.\n",
      "  with pd.option_context('mode.use_inf_as_na', True):\n"
     ]
    },
    {
     "data": {
      "image/png": "[encoded data removed]",
      "text/plain": [
       "<Figure size 300x200 with 1 Axes>"
      ]
     },
     "metadata": {},
     "output_type": "display_data"
    },
    {
     "data": {
      "text/plain": [
       "<Figure size 640x480 with 0 Axes>"
      ]
     },
     "metadata": {},
     "output_type": "display_data"
    }
   ],
   "source": [
    "xsize = 3; ysize=2\n",
    "g = plt.figure(figsize=(xsize,ysize))\n",
    "yscale = 'linear'\n",
    "order_repts = pd.array( ['loxCN-3G','Vlox90-3G', 'lox203-3G', 'lox380-3G', 'lox610-3G'])\n",
    "\n",
    "hue_order2 = pd.array([ \n",
    " 'lox203-3G-CAG.1x.+CRE', 'lox203-3G-CAG.1x.-CRE',\n",
    " 'pDA028-CAG.1x.+CRE', 'pDA028-CAG.1x.-CRE',\n",
    " 'pDA030-CAG.1x.+CRE', 'pDA030-CAG.1x.-CRE',\n",
    " 'pDA046-CAG.1x.+CRE', 'pDA046-CAG.1x.-CRE',\n",
    "  'pDA047-CAG.1x.+CRE', 'pDA047-CAG.1x.-CRE'])\n",
    "\n",
    "order = np.array(['lox203-3G','pDA047', 'pDA030', 'pDA046', 'pDA028'])\n",
    "\n",
    "palette = {'lox203-3G-CAG.1x.+CRE': '#69B645',\n",
    "'lox203-3G-CAG.1x.-CRE': '#C3DB9A',\n",
    "'pDA028-CAG.1x.+CRE': '#69B645',\n",
    "'pDA028-CAG.1x.-CRE': '#C3DB9A',\n",
    "'pDA030-CAG.1x.+CRE': '#69B645',\n",
    "'pDA030-CAG.1x.-CRE': '#C3DB9A',\n",
    "'pDA046-CAG.1x.+CRE': '#69B645',\n",
    "'pDA046-CAG.1x.-CRE': '#C3DB9A',\n",
    "'pDA047-CAG.1x.+CRE': '#69B645',\n",
    "'pDA047-CAG.1x.-CRE': '#C3DB9A'\n",
    "                        }\n",
    "data_now = s_normalized[s_normalized['conds'].isin(hue_order2)]\n",
    "plt.yticks(range(0,7))\n",
    "plt.axhline(y=1, ls='--',lw=1, color='gray')\n",
    "markers = pd.array(['o', 's','o', 's','o', 's','o', 's','o','s','o','s'])\n",
    "\n",
    "plottitle = 'FigureS21A.svg'\n",
    "g = summary_plot( x='reporter', y='Normalized_mGL-A_gmean', hue='conds', data=data_now, yscale=yscale, legend=False,\n",
    "                     #ylim=ylim,\n",
    "                    x_rot=45, palette = palette,hue_order=hue_order2, order=order,xlabel='Minimal Promoter',ylabel='Fold change',\n",
    "                    type='pointplot', markers=markers)\n",
    "\n",
    "g = g.get_figure()\n",
    "g.savefig((output_path + plottitle),bbox_inches='tight')\n"
   ]
  },
  {
   "cell_type": "markdown",
   "metadata": {},
   "source": [
    "**Figure S21B: Minimal promoter mGL gmean**"
   ]
  },
  {
   "cell_type": "code",
   "execution_count": null,
   "metadata": {},
   "outputs": [
    {
     "name": "stderr",
     "output_type": "stream",
     "text": [
      "c:\\Users\\chemegrad202\\AppData\\Local\\Programs\\Python\\Python312\\Lib\\site-packages\\seaborn\\_oldcore.py:1119: FutureWarning: use_inf_as_na option is deprecated and will be removed in a future version. Convert inf values to NaN before operating instead.\n",
      "  with pd.option_context('mode.use_inf_as_na', True):\n",
      "c:\\Users\\chemegrad202\\AppData\\Local\\Programs\\Python\\Python312\\Lib\\site-packages\\seaborn\\_oldcore.py:1119: FutureWarning: use_inf_as_na option is deprecated and will be removed in a future version. Convert inf values to NaN before operating instead.\n",
      "  with pd.option_context('mode.use_inf_as_na', True):\n"
     ]
    },
    {
     "name": "stdout",
     "output_type": "stream",
     "text": [
      "p-value annotation legend:\n",
      "ns: 5.00e-02 < p <= 1.00e+00\n",
      "*: 1.00e-02 < p <= 5.00e-02\n",
      "**: 1.00e-03 < p <= 1.00e-02\n",
      "***: 1.00e-04 < p <= 1.00e-03\n",
      "****: p <= 1.00e-04\n",
      "\n",
      "lox203-3G_lox203-3G-CAG.1x.+CRE v.s. lox203-3G_lox203-3G-CAG.1x.-CRE: t-test independent samples, P_val=2.388e-01 stat=1.383e+00\n",
      "pDA047_pDA047-CAG.1x.+CRE v.s. pDA047_pDA047-CAG.1x.-CRE: t-test independent samples, P_val=2.220e-02 stat=3.628e+00\n",
      "pDA046_pDA046-CAG.1x.+CRE v.s. pDA046_pDA046-CAG.1x.-CRE: t-test independent samples, P_val=4.936e-04 stat=1.034e+01\n",
      "pDA030_pDA030-CAG.1x.+CRE v.s. pDA030_pDA030-CAG.1x.-CRE: t-test independent samples, P_val=1.524e-04 stat=1.397e+01\n",
      "pDA028_pDA028-CAG.1x.+CRE v.s. pDA028_pDA028-CAG.1x.-CRE: t-test independent samples, P_val=6.886e-02 stat=2.471e+00\n"
     ]
    },
    {
     "data": {
      "image/png": "[encoded data removed]",
      "text/plain": [
       "<Figure size 300x200 with 1 Axes>"
      ]
     },
     "metadata": {},
     "output_type": "display_data"
    },
    {
     "data": {
      "text/plain": [
       "<Figure size 640x480 with 0 Axes>"
      ]
     },
     "metadata": {},
     "output_type": "display_data"
    }
   ],
   "source": [
    "xsize = 3; ysize=2\n",
    "g = plt.figure(figsize=(xsize,ysize))\n",
    "yscale = 'log'\n",
    "hue_order2 = np.array([ \n",
    " 'lox203-3G-CAG.1x.+CRE', 'lox203-3G-CAG.1x.-CRE', 'lox203-3G-CAG.0x.+CRE', 'lox203-3G-CAG.0x.-CRE',\n",
    "  'pDA047-CAG.1x.+CRE', 'pDA047-CAG.1x.-CRE','pDA047-CAG.0x.+CRE', 'pDA047-CAG.0x.-CRE',\n",
    "   'pDA030-CAG.1x.+CRE', 'pDA030-CAG.1x.-CRE', 'pDA030-CAG.0x.+CRE', 'pDA030-CAG.0x.-CRE',\n",
    "    'pDA046-CAG.1x.+CRE', 'pDA046-CAG.1x.-CRE', 'pDA046-CAG.0x.+CRE', 'pDA046-CAG.0x.-CRE',\n",
    " 'pDA028-CAG.1x.+CRE', 'pDA028-CAG.1x.-CRE', 'pDA028-CAG.0x.+CRE', 'pDA028-CAG.0x.-CRE'])\n",
    "\n",
    "order = np.array(['lox203-3G','pDA047', 'pDA030', 'pDA046', 'pDA028'])\n",
    "\n",
    "palette = {'lox203-3G-CAG.1x.+CRE': '#69B645',\n",
    "'lox203-3G-CAG.1x.-CRE': '#C3DB9A',\n",
    "'lox203-3G-CAG.0x.+CRE': 'gray',\n",
    "'lox203-3G-CAG.0x.-CRE': 'black', \n",
    "'pDA028-CAG.1x.+CRE': '#69B645',\n",
    "'pDA028-CAG.1x.-CRE': '#C3DB9A',\n",
    "'pDA028-CAG.0x.+CRE': 'gray',\n",
    "'pDA028-CAG.0x.-CRE': 'black', \n",
    "'pDA030-CAG.1x.+CRE': '#69B645',\n",
    "'pDA030-CAG.1x.-CRE': '#C3DB9A',\n",
    "'pDA030-CAG.0x.+CRE':  'gray',\n",
    "'pDA030-CAG.0x.-CRE': 'black', \n",
    "'pDA046-CAG.1x.+CRE': '#69B645',\n",
    "'pDA046-CAG.1x.-CRE': '#C3DB9A',\n",
    "'pDA046-CAG.0x.+CRE': 'gray',\n",
    "'pDA046-CAG.0x.-CRE': 'black',\n",
    "'pDA047-CAG.1x.+CRE': '#69B645',\n",
    "'pDA047-CAG.1x.-CRE': '#C3DB9A',\n",
    "'pDA047-CAG.0x.+CRE': 'gray',\n",
    "'pDA047-CAG.0x.-CRE': 'black'\n",
    "                        }\n",
    "data_now = s_well[s_well['conds'].isin(hue_order2) & (s_well['Date'] != '2024.11.18.x')]\n",
    "plt.yticks(range(0,7))\n",
    "markers = pd.array(['o', 's','o', 's','o', 's','o', 's','o','s','o', 's','o', 's','o', 's','o', 's','o', 's'])\n",
    "pairs = [\n",
    "    [('pDA047', 'pDA047-CAG.1x.+CRE'), ('pDA047','pDA047-CAG.1x.-CRE')],\n",
    "    [('pDA046', 'pDA046-CAG.1x.+CRE'), ('pDA046','pDA046-CAG.1x.-CRE')],\n",
    "    [('pDA030', 'pDA030-CAG.1x.+CRE'), ('pDA030','pDA030-CAG.1x.-CRE')],\n",
    "    [('pDA028', 'pDA028-CAG.1x.+CRE'), ('pDA028','pDA028-CAG.1x.-CRE')],\n",
    "    [('lox203-3G', 'lox203-3G-CAG.1x.+CRE'), ('lox203-3G','lox203-3G-CAG.1x.-CRE')]\n",
    "]\n",
    "plottitle = 'FigureS21B.svg'\n",
    "g = summary_plot( x='reporter', y='mGL-A_gmean', hue='conds', data=data_now, yscale=yscale, legend=False,\n",
    "                     #ylim=ylim,\n",
    "                    x_rot=45, palette = palette,hue_order=hue_order2,xlabel='Minimal Promoter',ylabel='Output gmean',\n",
    "                    type='pointplot',order=order, markers=markers, pairs = pairs)\n",
    "\n",
    "g = g.get_figure()\n",
    "g.savefig((output_path + plottitle),bbox_inches='tight')\n"
   ]
  }
 ],
 "metadata": {
  "kernelspec": {
   "display_name": "Python 3",
   "language": "python",
   "name": "python3"
  },
  "language_info": {
   "codemirror_mode": {
    "name": "ipython",
    "version": 3
   },
   "file_extension": ".py",
   "mimetype": "text/x-python",
   "name": "python",
   "nbconvert_exporter": "python",
   "pygments_lexer": "ipython3",
   "version": "3.12.1"
  }
 },
 "nbformat": 4,
 "nbformat_minor": 2
}
