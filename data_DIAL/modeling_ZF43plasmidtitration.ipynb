{
 "cells": [
  {
   "attachments": {},
   "cell_type": "markdown",
   "metadata": {},
   "source": [
    "Adapting files for MATLAB modeling"
   ]
  },
  {
   "cell_type": "code",
   "execution_count": 1,
   "metadata": {},
   "outputs": [],
   "source": [
    "import functions_paper_1\n",
    "import importlib\n",
    "from functions_paper_1 import *\n",
    "exec(open(\"functions_paper_1.py\").read())\n",
    "# Local path to Sharepoint (on your computer, change if you are a different user)\n",
    "datadir = Path(Path('../datadir_yb.txt').read_text())\n",
    "data_folder = './datafiles/modeling_'"
   ]
  },
  {
   "cell_type": "code",
   "execution_count": 2,
   "metadata": {},
   "outputs": [],
   "source": [
    "#Bioreplicates \n",
    "# 20240114flow_exp20240111_p2\n",
    "# 20240120flow_exp20240117_p2\n",
    "# --\n",
    "# 20240229flow_exp20240226_p1_BioA\n",
    "# 20240229flow_exp20240226_p2_BioB\n",
    "# 20240229flow_exp20240226_p3_BioC"
   ]
  },
  {
   "cell_type": "code",
   "execution_count": 3,
   "metadata": {},
   "outputs": [],
   "source": [
    "# Import Data - bioreplicate 1 \n",
    "folder = '20240114flow_exp20240111_p2'\n",
    "file_path = datadir/'instruments'/'data'/'attune'/'Sneha'/folder/'export_singlets' #Assign file paths\n",
    "yaml_path = datadir/'instruments'/'data'/'attune'/'Sneha'/folder/'well_metadata.yaml' #Assign yaml paths \n",
    "data1 = rd.flow.load_csv_with_metadata(file_path, yaml_path) #Pull data\n",
    "data1['bioreplicate'] = folder "
   ]
  },
  {
   "cell_type": "code",
   "execution_count": 4,
   "metadata": {},
   "outputs": [],
   "source": [
    "# Import Data - bioreplicate 2 \n",
    "folder = '20240120flow_exp20240117_p2'\n",
    "file_path = datadir/'instruments'/'data'/'attune'/'Sneha'/folder/'export_singlets' #Assign file paths\n",
    "yaml_path = datadir/'instruments'/'data'/'attune'/'Sneha'/folder/'well_metadata.yaml' #Assign yaml paths \n",
    "data2 = rd.flow.load_csv_with_metadata(file_path, yaml_path) #Pull data\n",
    "data2['bioreplicate'] = folder "
   ]
  },
  {
   "cell_type": "code",
   "execution_count": 5,
   "metadata": {},
   "outputs": [],
   "source": [
    "# Import Data - bioreplicate 4 \n",
    "folder = '20240229flow_exp20240226_p1_BioA'\n",
    "file_path = datadir/'instruments'/'data'/'attune'/'Sneha'/folder/'export_singlets' #Assign file paths\n",
    "yaml_path = datadir/'instruments'/'data'/'attune'/'Sneha'/folder/'well_metadata.yaml' #Assign yaml paths \n",
    "data4 = rd.flow.load_csv_with_metadata(file_path, yaml_path) #Pull data\n",
    "data4['bioreplicate'] = folder "
   ]
  },
  {
   "cell_type": "code",
   "execution_count": 6,
   "metadata": {},
   "outputs": [],
   "source": [
    "# Import Data - bioreplicate 5 \n",
    "folder = '20240229flow_exp20240226_p2_BioB'\n",
    "file_path = datadir/'instruments'/'data'/'attune'/'Sneha'/folder/'export_singlets' #Assign file paths\n",
    "yaml_path = datadir/'instruments'/'data'/'attune'/'Sneha'/folder/'well_metadata.yaml' #Assign yaml paths \n",
    "data5 = rd.flow.load_csv_with_metadata(file_path, yaml_path) #Pull data\n",
    "data5['bioreplicate'] = folder "
   ]
  },
  {
   "cell_type": "code",
   "execution_count": 7,
   "metadata": {},
   "outputs": [],
   "source": [
    "# Import Data - bioreplicate 6 \n",
    "folder = '20240229flow_exp20240226_p3_BioC'\n",
    "file_path = datadir/'instruments'/'data'/'attune'/'Sneha'/folder/'export_singlets' #Assign file paths\n",
    "yaml_path = datadir/'instruments'/'data'/'attune'/'Sneha'/folder/'well_metadata.yaml' #Assign yaml paths \n",
    "data6 = rd.flow.load_csv_with_metadata(file_path, yaml_path) #Pull data\n",
    "data6['bioreplicate'] = folder "
   ]
  },
  {
   "cell_type": "code",
   "execution_count": 8,
   "metadata": {},
   "outputs": [],
   "source": [
    "# simplify df with only necessary stats\n",
    "col_keep = ['reporter', 'ZF43', 'well', 'mGL-A', 'TagBFP-A', 'iRFP670-A', 'bioreplicate']\n",
    "data1_subset = data1[col_keep]\n",
    "data2_subset = data2[col_keep]\n",
    "data4_subset = data4[col_keep]\n",
    "data5_subset = data5[col_keep]\n",
    "data6_subset = data6[col_keep]"
   ]
  },
  {
   "cell_type": "code",
   "execution_count": 9,
   "metadata": {},
   "outputs": [],
   "source": [
    "# combine all 5 bioreplicate for further trimming\n",
    "data_subset = pd.concat( [data1_subset, data2_subset, data4_subset, data5_subset, data6_subset], ignore_index=True,join='inner')"
   ]
  },
  {
   "cell_type": "code",
   "execution_count": 10,
   "metadata": {},
   "outputs": [
    {
     "data": {
      "text/plain": [
       "array([0.5    , 0.     , 0.03125, 0.01563, 0.0625 , 0.25   , 1.     ,\n",
       "       0.00781, 0.125  ])"
      ]
     },
     "execution_count": 10,
     "metadata": {},
     "output_type": "execute_result"
    }
   ],
   "source": [
    "data_subset['ZF43'].unique()\n"
   ]
  },
  {
   "cell_type": "code",
   "execution_count": 11,
   "metadata": {},
   "outputs": [],
   "source": [
    "data = data_subset.dropna()"
   ]
  },
  {
   "cell_type": "code",
   "execution_count": 12,
   "metadata": {},
   "outputs": [
    {
     "data": {
      "text/plain": [
       "array([0.5    , 0.     , 0.03125, 0.01563, 0.0625 , 0.25   , 1.     ,\n",
       "       0.00781, 0.125  ])"
      ]
     },
     "execution_count": 12,
     "metadata": {},
     "output_type": "execute_result"
    }
   ],
   "source": [
    "data['ZF43'].unique()"
   ]
  },
  {
   "cell_type": "code",
   "execution_count": 13,
   "metadata": {},
   "outputs": [
    {
     "data": {
      "text/plain": [
       "array(['pTET021_203bp 0.1xCre', 'iRFP670', 'pTET021_203bp 0xCre',\n",
       "       'loxPrept 0xCre', 'loxPrept 0.1xCre', 'unstained'], dtype=object)"
      ]
     },
     "execution_count": 13,
     "metadata": {},
     "output_type": "execute_result"
    }
   ],
   "source": [
    "data['reporter'].unique()"
   ]
  },
  {
   "cell_type": "code",
   "execution_count": 14,
   "metadata": {},
   "outputs": [],
   "source": [
    "data = data[data['reporter'].isin(['pTET021_203bp 0xCre', 'pTET021_203bp 0.1xCre'])]"
   ]
  },
  {
   "cell_type": "code",
   "execution_count": 15,
   "metadata": {},
   "outputs": [
    {
     "data": {
      "text/html": [
       "<div>\n",
       "<style scoped>\n",
       "    .dataframe tbody tr th:only-of-type {\n",
       "        vertical-align: middle;\n",
       "    }\n",
       "\n",
       "    .dataframe tbody tr th {\n",
       "        vertical-align: top;\n",
       "    }\n",
       "\n",
       "    .dataframe thead th {\n",
       "        text-align: right;\n",
       "    }\n",
       "</style>\n",
       "<table border=\"1\" class=\"dataframe\">\n",
       "  <thead>\n",
       "    <tr style=\"text-align: right;\">\n",
       "      <th></th>\n",
       "      <th>reporter</th>\n",
       "      <th>ZF43</th>\n",
       "      <th>well</th>\n",
       "      <th>mGL-A</th>\n",
       "      <th>TagBFP-A</th>\n",
       "      <th>iRFP670-A</th>\n",
       "      <th>bioreplicate</th>\n",
       "    </tr>\n",
       "  </thead>\n",
       "  <tbody>\n",
       "    <tr>\n",
       "      <th>0</th>\n",
       "      <td>pTET021_203bp 0.1xCre</td>\n",
       "      <td>0.5</td>\n",
       "      <td>B5</td>\n",
       "      <td>175</td>\n",
       "      <td>1863</td>\n",
       "      <td>37102</td>\n",
       "      <td>20240114flow_exp20240111_p2</td>\n",
       "    </tr>\n",
       "    <tr>\n",
       "      <th>1</th>\n",
       "      <td>pTET021_203bp 0.1xCre</td>\n",
       "      <td>0.5</td>\n",
       "      <td>B5</td>\n",
       "      <td>42</td>\n",
       "      <td>-99</td>\n",
       "      <td>105</td>\n",
       "      <td>20240114flow_exp20240111_p2</td>\n",
       "    </tr>\n",
       "    <tr>\n",
       "      <th>2</th>\n",
       "      <td>pTET021_203bp 0.1xCre</td>\n",
       "      <td>0.5</td>\n",
       "      <td>B5</td>\n",
       "      <td>227</td>\n",
       "      <td>2003</td>\n",
       "      <td>46942</td>\n",
       "      <td>20240114flow_exp20240111_p2</td>\n",
       "    </tr>\n",
       "    <tr>\n",
       "      <th>3</th>\n",
       "      <td>pTET021_203bp 0.1xCre</td>\n",
       "      <td>0.5</td>\n",
       "      <td>B5</td>\n",
       "      <td>1041</td>\n",
       "      <td>2763</td>\n",
       "      <td>72690</td>\n",
       "      <td>20240114flow_exp20240111_p2</td>\n",
       "    </tr>\n",
       "    <tr>\n",
       "      <th>4</th>\n",
       "      <td>pTET021_203bp 0.1xCre</td>\n",
       "      <td>0.5</td>\n",
       "      <td>B5</td>\n",
       "      <td>431</td>\n",
       "      <td>1632</td>\n",
       "      <td>30676</td>\n",
       "      <td>20240114flow_exp20240111_p2</td>\n",
       "    </tr>\n",
       "  </tbody>\n",
       "</table>\n",
       "</div>"
      ],
      "text/plain": [
       "                reporter  ZF43 well  mGL-A  TagBFP-A  iRFP670-A  \\\n",
       "0  pTET021_203bp 0.1xCre   0.5   B5    175      1863      37102   \n",
       "1  pTET021_203bp 0.1xCre   0.5   B5     42       -99        105   \n",
       "2  pTET021_203bp 0.1xCre   0.5   B5    227      2003      46942   \n",
       "3  pTET021_203bp 0.1xCre   0.5   B5   1041      2763      72690   \n",
       "4  pTET021_203bp 0.1xCre   0.5   B5    431      1632      30676   \n",
       "\n",
       "                  bioreplicate  \n",
       "0  20240114flow_exp20240111_p2  \n",
       "1  20240114flow_exp20240111_p2  \n",
       "2  20240114flow_exp20240111_p2  \n",
       "3  20240114flow_exp20240111_p2  \n",
       "4  20240114flow_exp20240111_p2  "
      ]
     },
     "execution_count": 15,
     "metadata": {},
     "output_type": "execute_result"
    }
   ],
   "source": [
    "data.head()"
   ]
  },
  {
   "cell_type": "code",
   "execution_count": 16,
   "metadata": {},
   "outputs": [],
   "source": [
    "# gate by positive values\n",
    "data = data[ data['TagBFP-A'] >0]\n",
    "data = data[ data['mGL-A'] >0]\n",
    "data = data[ data['iRFP670-A'] >0]\n",
    "data['log10 mGL-A'] = np.log10(data['mGL-A'])"
   ]
  },
  {
   "cell_type": "code",
   "execution_count": 17,
   "metadata": {},
   "outputs": [],
   "source": [
    "# gate by iRFP670 values\n",
    "iRFP670_gate = 10000 \n",
    "data_iRFP670gated = data[ data['iRFP670-A'] > iRFP670_gate]"
   ]
  },
  {
   "cell_type": "code",
   "execution_count": 18,
   "metadata": {},
   "outputs": [],
   "source": [
    "df = data_iRFP670gated #choose dataframe\n",
    "\n",
    "#Decide how to group. The last parameter will be the condition that it is group by by last ('well' or 'bioreplicate')\n",
    "by = ['reporter', 'ZF43','bioreplicate'] #how to filter results, columns \n",
    "\n",
    "x = ['mGL-A', 'TagBFP-A'] #which parameter to calculate results on\n",
    "stat = [sp.stats.gmean] #statistics to calculate\n",
    "s_bioreplicate = calc_stats(df,by,x,stat) #calculate statistics "
   ]
  },
  {
   "cell_type": "code",
   "execution_count": 19,
   "metadata": {},
   "outputs": [
    {
     "data": {
      "text/html": [
       "<div>\n",
       "<style scoped>\n",
       "    .dataframe tbody tr th:only-of-type {\n",
       "        vertical-align: middle;\n",
       "    }\n",
       "\n",
       "    .dataframe tbody tr th {\n",
       "        vertical-align: top;\n",
       "    }\n",
       "\n",
       "    .dataframe thead th {\n",
       "        text-align: right;\n",
       "    }\n",
       "</style>\n",
       "<table border=\"1\" class=\"dataframe\">\n",
       "  <thead>\n",
       "    <tr style=\"text-align: right;\">\n",
       "      <th></th>\n",
       "      <th>reporter</th>\n",
       "      <th>ZF43</th>\n",
       "      <th>bioreplicate</th>\n",
       "      <th>mGL-A_gmean</th>\n",
       "      <th>TagBFP-A_gmean</th>\n",
       "      <th>Fraction</th>\n",
       "      <th>Count</th>\n",
       "    </tr>\n",
       "  </thead>\n",
       "  <tbody>\n",
       "    <tr>\n",
       "      <th>0</th>\n",
       "      <td>pTET021_203bp 0.1xCre</td>\n",
       "      <td>0.0</td>\n",
       "      <td>20240114flow_exp20240111_p2</td>\n",
       "      <td>42.240878</td>\n",
       "      <td>34.793400</td>\n",
       "      <td>0.255331</td>\n",
       "      <td>15303</td>\n",
       "    </tr>\n",
       "    <tr>\n",
       "      <th>1</th>\n",
       "      <td>pTET021_203bp 0.1xCre</td>\n",
       "      <td>0.0</td>\n",
       "      <td>20240120flow_exp20240117_p2</td>\n",
       "      <td>67.092403</td>\n",
       "      <td>35.144582</td>\n",
       "      <td>0.028949</td>\n",
       "      <td>1735</td>\n",
       "    </tr>\n",
       "    <tr>\n",
       "      <th>2</th>\n",
       "      <td>pTET021_203bp 0.1xCre</td>\n",
       "      <td>0.0</td>\n",
       "      <td>20240229flow_exp20240226_p1_BioA</td>\n",
       "      <td>56.497923</td>\n",
       "      <td>37.358951</td>\n",
       "      <td>0.365185</td>\n",
       "      <td>21887</td>\n",
       "    </tr>\n",
       "    <tr>\n",
       "      <th>3</th>\n",
       "      <td>pTET021_203bp 0.1xCre</td>\n",
       "      <td>0.0</td>\n",
       "      <td>20240229flow_exp20240226_p2_BioB</td>\n",
       "      <td>48.552109</td>\n",
       "      <td>35.828663</td>\n",
       "      <td>0.230787</td>\n",
       "      <td>13832</td>\n",
       "    </tr>\n",
       "    <tr>\n",
       "      <th>4</th>\n",
       "      <td>pTET021_203bp 0.1xCre</td>\n",
       "      <td>0.0</td>\n",
       "      <td>20240229flow_exp20240226_p3_BioC</td>\n",
       "      <td>60.293531</td>\n",
       "      <td>34.340284</td>\n",
       "      <td>0.119748</td>\n",
       "      <td>7177</td>\n",
       "    </tr>\n",
       "    <tr>\n",
       "      <th>...</th>\n",
       "      <td>...</td>\n",
       "      <td>...</td>\n",
       "      <td>...</td>\n",
       "      <td>...</td>\n",
       "      <td>...</td>\n",
       "      <td>...</td>\n",
       "      <td>...</td>\n",
       "    </tr>\n",
       "    <tr>\n",
       "      <th>85</th>\n",
       "      <td>pTET021_203bp 0xCre</td>\n",
       "      <td>1.0</td>\n",
       "      <td>20240114flow_exp20240111_p2</td>\n",
       "      <td>554.934636</td>\n",
       "      <td>3465.650956</td>\n",
       "      <td>0.055134</td>\n",
       "      <td>10420</td>\n",
       "    </tr>\n",
       "    <tr>\n",
       "      <th>86</th>\n",
       "      <td>pTET021_203bp 0xCre</td>\n",
       "      <td>1.0</td>\n",
       "      <td>20240120flow_exp20240117_p2</td>\n",
       "      <td>434.995672</td>\n",
       "      <td>1575.025825</td>\n",
       "      <td>0.054504</td>\n",
       "      <td>10301</td>\n",
       "    </tr>\n",
       "    <tr>\n",
       "      <th>87</th>\n",
       "      <td>pTET021_203bp 0xCre</td>\n",
       "      <td>1.0</td>\n",
       "      <td>20240229flow_exp20240226_p1_BioA</td>\n",
       "      <td>352.480854</td>\n",
       "      <td>2476.457948</td>\n",
       "      <td>0.319765</td>\n",
       "      <td>60434</td>\n",
       "    </tr>\n",
       "    <tr>\n",
       "      <th>88</th>\n",
       "      <td>pTET021_203bp 0xCre</td>\n",
       "      <td>1.0</td>\n",
       "      <td>20240229flow_exp20240226_p2_BioB</td>\n",
       "      <td>430.749914</td>\n",
       "      <td>2745.918777</td>\n",
       "      <td>0.470764</td>\n",
       "      <td>88972</td>\n",
       "    </tr>\n",
       "    <tr>\n",
       "      <th>89</th>\n",
       "      <td>pTET021_203bp 0xCre</td>\n",
       "      <td>1.0</td>\n",
       "      <td>20240229flow_exp20240226_p3_BioC</td>\n",
       "      <td>377.326149</td>\n",
       "      <td>2286.040995</td>\n",
       "      <td>0.099833</td>\n",
       "      <td>18868</td>\n",
       "    </tr>\n",
       "  </tbody>\n",
       "</table>\n",
       "<p>90 rows × 7 columns</p>\n",
       "</div>"
      ],
      "text/plain": [
       "                 reporter  ZF43                      bioreplicate  \\\n",
       "0   pTET021_203bp 0.1xCre   0.0       20240114flow_exp20240111_p2   \n",
       "1   pTET021_203bp 0.1xCre   0.0       20240120flow_exp20240117_p2   \n",
       "2   pTET021_203bp 0.1xCre   0.0  20240229flow_exp20240226_p1_BioA   \n",
       "3   pTET021_203bp 0.1xCre   0.0  20240229flow_exp20240226_p2_BioB   \n",
       "4   pTET021_203bp 0.1xCre   0.0  20240229flow_exp20240226_p3_BioC   \n",
       "..                    ...   ...                               ...   \n",
       "85    pTET021_203bp 0xCre   1.0       20240114flow_exp20240111_p2   \n",
       "86    pTET021_203bp 0xCre   1.0       20240120flow_exp20240117_p2   \n",
       "87    pTET021_203bp 0xCre   1.0  20240229flow_exp20240226_p1_BioA   \n",
       "88    pTET021_203bp 0xCre   1.0  20240229flow_exp20240226_p2_BioB   \n",
       "89    pTET021_203bp 0xCre   1.0  20240229flow_exp20240226_p3_BioC   \n",
       "\n",
       "    mGL-A_gmean  TagBFP-A_gmean  Fraction  Count  \n",
       "0     42.240878       34.793400  0.255331  15303  \n",
       "1     67.092403       35.144582  0.028949   1735  \n",
       "2     56.497923       37.358951  0.365185  21887  \n",
       "3     48.552109       35.828663  0.230787  13832  \n",
       "4     60.293531       34.340284  0.119748   7177  \n",
       "..          ...             ...       ...    ...  \n",
       "85   554.934636     3465.650956  0.055134  10420  \n",
       "86   434.995672     1575.025825  0.054504  10301  \n",
       "87   352.480854     2476.457948  0.319765  60434  \n",
       "88   430.749914     2745.918777  0.470764  88972  \n",
       "89   377.326149     2286.040995  0.099833  18868  \n",
       "\n",
       "[90 rows x 7 columns]"
      ]
     },
     "metadata": {},
     "output_type": "display_data"
    }
   ],
   "source": [
    "display(s_bioreplicate)"
   ]
  },
  {
   "cell_type": "code",
   "execution_count": 20,
   "metadata": {},
   "outputs": [
    {
     "data": {
      "text/html": [
       "<div>\n",
       "<style scoped>\n",
       "    .dataframe tbody tr th:only-of-type {\n",
       "        vertical-align: middle;\n",
       "    }\n",
       "\n",
       "    .dataframe tbody tr th {\n",
       "        vertical-align: top;\n",
       "    }\n",
       "\n",
       "    .dataframe thead th {\n",
       "        text-align: right;\n",
       "    }\n",
       "</style>\n",
       "<table border=\"1\" class=\"dataframe\">\n",
       "  <thead>\n",
       "    <tr style=\"text-align: right;\">\n",
       "      <th></th>\n",
       "      <th>reporter</th>\n",
       "      <th>ZF43</th>\n",
       "      <th>bioreplicate</th>\n",
       "      <th>mGL-A_gmean</th>\n",
       "      <th>TagBFP-A_gmean</th>\n",
       "      <th>Fraction</th>\n",
       "      <th>Count</th>\n",
       "    </tr>\n",
       "  </thead>\n",
       "  <tbody>\n",
       "    <tr>\n",
       "      <th>70</th>\n",
       "      <td>pTET021_203bp 0xCre</td>\n",
       "      <td>0.125</td>\n",
       "      <td>20240114flow_exp20240111_p2</td>\n",
       "      <td>285.828655</td>\n",
       "      <td>455.527676</td>\n",
       "      <td>0.267518</td>\n",
       "      <td>50886</td>\n",
       "    </tr>\n",
       "    <tr>\n",
       "      <th>71</th>\n",
       "      <td>pTET021_203bp 0xCre</td>\n",
       "      <td>0.125</td>\n",
       "      <td>20240120flow_exp20240117_p2</td>\n",
       "      <td>275.133543</td>\n",
       "      <td>222.719350</td>\n",
       "      <td>0.032894</td>\n",
       "      <td>6257</td>\n",
       "    </tr>\n",
       "    <tr>\n",
       "      <th>72</th>\n",
       "      <td>pTET021_203bp 0xCre</td>\n",
       "      <td>0.125</td>\n",
       "      <td>20240229flow_exp20240226_p1_BioA</td>\n",
       "      <td>294.471166</td>\n",
       "      <td>292.149333</td>\n",
       "      <td>0.351434</td>\n",
       "      <td>66848</td>\n",
       "    </tr>\n",
       "    <tr>\n",
       "      <th>73</th>\n",
       "      <td>pTET021_203bp 0xCre</td>\n",
       "      <td>0.125</td>\n",
       "      <td>20240229flow_exp20240226_p2_BioB</td>\n",
       "      <td>354.705709</td>\n",
       "      <td>312.088396</td>\n",
       "      <td>0.239408</td>\n",
       "      <td>45539</td>\n",
       "    </tr>\n",
       "    <tr>\n",
       "      <th>74</th>\n",
       "      <td>pTET021_203bp 0xCre</td>\n",
       "      <td>0.125</td>\n",
       "      <td>20240229flow_exp20240226_p3_BioC</td>\n",
       "      <td>329.508258</td>\n",
       "      <td>295.358451</td>\n",
       "      <td>0.108745</td>\n",
       "      <td>20685</td>\n",
       "    </tr>\n",
       "  </tbody>\n",
       "</table>\n",
       "</div>"
      ],
      "text/plain": [
       "               reporter   ZF43                      bioreplicate  mGL-A_gmean  \\\n",
       "70  pTET021_203bp 0xCre  0.125       20240114flow_exp20240111_p2   285.828655   \n",
       "71  pTET021_203bp 0xCre  0.125       20240120flow_exp20240117_p2   275.133543   \n",
       "72  pTET021_203bp 0xCre  0.125  20240229flow_exp20240226_p1_BioA   294.471166   \n",
       "73  pTET021_203bp 0xCre  0.125  20240229flow_exp20240226_p2_BioB   354.705709   \n",
       "74  pTET021_203bp 0xCre  0.125  20240229flow_exp20240226_p3_BioC   329.508258   \n",
       "\n",
       "    TagBFP-A_gmean  Fraction  Count  \n",
       "70      455.527676  0.267518  50886  \n",
       "71      222.719350  0.032894   6257  \n",
       "72      292.149333  0.351434  66848  \n",
       "73      312.088396  0.239408  45539  \n",
       "74      295.358451  0.108745  20685  "
      ]
     },
     "metadata": {},
     "output_type": "display_data"
    }
   ],
   "source": [
    "s_125x_noCre = s_bioreplicate[(s_bioreplicate['ZF43']==0.125)&(s_bioreplicate['reporter']=='pTET021_203bp 0xCre')]\n",
    "display(s_125x_noCre)"
   ]
  },
  {
   "cell_type": "code",
   "execution_count": 21,
   "metadata": {},
   "outputs": [
    {
     "data": {
      "text/plain": [
       "285.82865464259334"
      ]
     },
     "metadata": {},
     "output_type": "display_data"
    },
    {
     "data": {
      "text/plain": [
       "455.52767643091323"
      ]
     },
     "metadata": {},
     "output_type": "display_data"
    },
    {
     "data": {
      "text/plain": [
       "275.1335427638179"
      ]
     },
     "metadata": {},
     "output_type": "display_data"
    },
    {
     "data": {
      "text/plain": [
       "222.71935024825757"
      ]
     },
     "metadata": {},
     "output_type": "display_data"
    },
    {
     "data": {
      "text/plain": [
       "294.47116592735165"
      ]
     },
     "metadata": {},
     "output_type": "display_data"
    },
    {
     "data": {
      "text/plain": [
       "292.1493326072595"
      ]
     },
     "metadata": {},
     "output_type": "display_data"
    },
    {
     "data": {
      "text/plain": [
       "354.70570943861713"
      ]
     },
     "metadata": {},
     "output_type": "display_data"
    },
    {
     "data": {
      "text/plain": [
       "312.08839570392763"
      ]
     },
     "metadata": {},
     "output_type": "display_data"
    },
    {
     "data": {
      "text/plain": [
       "329.50825813699487"
      ]
     },
     "metadata": {},
     "output_type": "display_data"
    },
    {
     "data": {
      "text/plain": [
       "295.3584510552382"
      ]
     },
     "metadata": {},
     "output_type": "display_data"
    }
   ],
   "source": [
    "bioreps_plot = pd.array(['20240114flow_exp20240111_p2',\n",
    "                         '20240120flow_exp20240117_p2',\n",
    "                         '20240229flow_exp20240226_p1_BioA', \n",
    "                         '20240229flow_exp20240226_p2_BioB',\n",
    "                         '20240229flow_exp20240226_p3_BioC'\n",
    "                         ])\n",
    "\n",
    "# initialization for all datapoints\n",
    "# data_iRFP670gated['Normalized_mGL-A_gmean'] = 0\n",
    "# data_iRFP670gated['Normalized_mCherry-A_gmean'] = 0\n",
    "\n",
    "for biorep in bioreps_plot:\n",
    "\n",
    "    mGL_125x = s_bioreplicate[(s_bioreplicate['bioreplicate']==biorep)&(s_bioreplicate['reporter'] == 'pTET021_203bp 0xCre') & (s_bioreplicate['ZF43'] == 0.125)]['mGL-A_gmean'].iloc[0]\n",
    "    display(mGL_125x)\n",
    "\n",
    "    TagBFP_125x = s_bioreplicate[(s_bioreplicate['bioreplicate']==biorep)&(s_bioreplicate['reporter'] == 'pTET021_203bp 0xCre') & (s_bioreplicate['ZF43'] == 0.125)]['TagBFP-A_gmean'].iloc[0]\n",
    "    display(TagBFP_125x)\n",
    "    \n",
    "    # for every data point\n",
    "    # condition = data_iRFP670gated['bioreplicate'] == biorep\n",
    "    # data_iRFP670gated.loc[condition, 'Normalized_mGL-A_gmean'] = data_iRFP670gated.loc[condition, 'mGL-A'] / mGL_125x\n",
    "    # data_iRFP670gated.loc[condition, 'Normalized_mCherry-A_gmean'] = data_iRFP670gated.loc[condition, 'mCherry-A'] / mCherry_125x\n",
    "\n",
    "    condition = s_bioreplicate['bioreplicate'] == biorep\n",
    "    s_bioreplicate.loc[condition, 'Normalized_mGL-A_gmean'] = s_bioreplicate.loc[condition, 'mGL-A_gmean'] / mGL_125x\n",
    "    s_bioreplicate.loc[condition, 'Normalized_TagBFP-A_gmean'] = s_bioreplicate.loc[condition, 'TagBFP-A_gmean'] / TagBFP_125x"
   ]
  },
  {
   "cell_type": "code",
   "execution_count": 22,
   "metadata": {},
   "outputs": [
    {
     "data": {
      "text/html": [
       "<div>\n",
       "<style scoped>\n",
       "    .dataframe tbody tr th:only-of-type {\n",
       "        vertical-align: middle;\n",
       "    }\n",
       "\n",
       "    .dataframe tbody tr th {\n",
       "        vertical-align: top;\n",
       "    }\n",
       "\n",
       "    .dataframe thead th {\n",
       "        text-align: right;\n",
       "    }\n",
       "</style>\n",
       "<table border=\"1\" class=\"dataframe\">\n",
       "  <thead>\n",
       "    <tr style=\"text-align: right;\">\n",
       "      <th></th>\n",
       "      <th>reporter</th>\n",
       "      <th>ZF43</th>\n",
       "      <th>bioreplicate</th>\n",
       "      <th>mGL-A_gmean</th>\n",
       "      <th>TagBFP-A_gmean</th>\n",
       "      <th>Fraction</th>\n",
       "      <th>Count</th>\n",
       "      <th>Normalized_mGL-A_gmean</th>\n",
       "      <th>Normalized_TagBFP-A_gmean</th>\n",
       "    </tr>\n",
       "  </thead>\n",
       "  <tbody>\n",
       "    <tr>\n",
       "      <th>0</th>\n",
       "      <td>pTET021_203bp 0.1xCre</td>\n",
       "      <td>0.0</td>\n",
       "      <td>20240114flow_exp20240111_p2</td>\n",
       "      <td>42.240878</td>\n",
       "      <td>34.793400</td>\n",
       "      <td>0.255331</td>\n",
       "      <td>15303</td>\n",
       "      <td>0.147784</td>\n",
       "      <td>0.076380</td>\n",
       "    </tr>\n",
       "    <tr>\n",
       "      <th>1</th>\n",
       "      <td>pTET021_203bp 0.1xCre</td>\n",
       "      <td>0.0</td>\n",
       "      <td>20240120flow_exp20240117_p2</td>\n",
       "      <td>67.092403</td>\n",
       "      <td>35.144582</td>\n",
       "      <td>0.028949</td>\n",
       "      <td>1735</td>\n",
       "      <td>0.243854</td>\n",
       "      <td>0.157798</td>\n",
       "    </tr>\n",
       "    <tr>\n",
       "      <th>2</th>\n",
       "      <td>pTET021_203bp 0.1xCre</td>\n",
       "      <td>0.0</td>\n",
       "      <td>20240229flow_exp20240226_p1_BioA</td>\n",
       "      <td>56.497923</td>\n",
       "      <td>37.358951</td>\n",
       "      <td>0.365185</td>\n",
       "      <td>21887</td>\n",
       "      <td>0.191862</td>\n",
       "      <td>0.127876</td>\n",
       "    </tr>\n",
       "    <tr>\n",
       "      <th>3</th>\n",
       "      <td>pTET021_203bp 0.1xCre</td>\n",
       "      <td>0.0</td>\n",
       "      <td>20240229flow_exp20240226_p2_BioB</td>\n",
       "      <td>48.552109</td>\n",
       "      <td>35.828663</td>\n",
       "      <td>0.230787</td>\n",
       "      <td>13832</td>\n",
       "      <td>0.136880</td>\n",
       "      <td>0.114803</td>\n",
       "    </tr>\n",
       "    <tr>\n",
       "      <th>4</th>\n",
       "      <td>pTET021_203bp 0.1xCre</td>\n",
       "      <td>0.0</td>\n",
       "      <td>20240229flow_exp20240226_p3_BioC</td>\n",
       "      <td>60.293531</td>\n",
       "      <td>34.340284</td>\n",
       "      <td>0.119748</td>\n",
       "      <td>7177</td>\n",
       "      <td>0.182980</td>\n",
       "      <td>0.116266</td>\n",
       "    </tr>\n",
       "    <tr>\n",
       "      <th>...</th>\n",
       "      <td>...</td>\n",
       "      <td>...</td>\n",
       "      <td>...</td>\n",
       "      <td>...</td>\n",
       "      <td>...</td>\n",
       "      <td>...</td>\n",
       "      <td>...</td>\n",
       "      <td>...</td>\n",
       "      <td>...</td>\n",
       "    </tr>\n",
       "    <tr>\n",
       "      <th>85</th>\n",
       "      <td>pTET021_203bp 0xCre</td>\n",
       "      <td>1.0</td>\n",
       "      <td>20240114flow_exp20240111_p2</td>\n",
       "      <td>554.934636</td>\n",
       "      <td>3465.650956</td>\n",
       "      <td>0.055134</td>\n",
       "      <td>10420</td>\n",
       "      <td>1.941494</td>\n",
       "      <td>7.607992</td>\n",
       "    </tr>\n",
       "    <tr>\n",
       "      <th>86</th>\n",
       "      <td>pTET021_203bp 0xCre</td>\n",
       "      <td>1.0</td>\n",
       "      <td>20240120flow_exp20240117_p2</td>\n",
       "      <td>434.995672</td>\n",
       "      <td>1575.025825</td>\n",
       "      <td>0.054504</td>\n",
       "      <td>10301</td>\n",
       "      <td>1.581035</td>\n",
       "      <td>7.071796</td>\n",
       "    </tr>\n",
       "    <tr>\n",
       "      <th>87</th>\n",
       "      <td>pTET021_203bp 0xCre</td>\n",
       "      <td>1.0</td>\n",
       "      <td>20240229flow_exp20240226_p1_BioA</td>\n",
       "      <td>352.480854</td>\n",
       "      <td>2476.457948</td>\n",
       "      <td>0.319765</td>\n",
       "      <td>60434</td>\n",
       "      <td>1.196996</td>\n",
       "      <td>8.476685</td>\n",
       "    </tr>\n",
       "    <tr>\n",
       "      <th>88</th>\n",
       "      <td>pTET021_203bp 0xCre</td>\n",
       "      <td>1.0</td>\n",
       "      <td>20240229flow_exp20240226_p2_BioB</td>\n",
       "      <td>430.749914</td>\n",
       "      <td>2745.918777</td>\n",
       "      <td>0.470764</td>\n",
       "      <td>88972</td>\n",
       "      <td>1.214387</td>\n",
       "      <td>8.798529</td>\n",
       "    </tr>\n",
       "    <tr>\n",
       "      <th>89</th>\n",
       "      <td>pTET021_203bp 0xCre</td>\n",
       "      <td>1.0</td>\n",
       "      <td>20240229flow_exp20240226_p3_BioC</td>\n",
       "      <td>377.326149</td>\n",
       "      <td>2286.040995</td>\n",
       "      <td>0.099833</td>\n",
       "      <td>18868</td>\n",
       "      <td>1.145119</td>\n",
       "      <td>7.739887</td>\n",
       "    </tr>\n",
       "  </tbody>\n",
       "</table>\n",
       "<p>90 rows × 9 columns</p>\n",
       "</div>"
      ],
      "text/plain": [
       "                 reporter  ZF43                      bioreplicate  \\\n",
       "0   pTET021_203bp 0.1xCre   0.0       20240114flow_exp20240111_p2   \n",
       "1   pTET021_203bp 0.1xCre   0.0       20240120flow_exp20240117_p2   \n",
       "2   pTET021_203bp 0.1xCre   0.0  20240229flow_exp20240226_p1_BioA   \n",
       "3   pTET021_203bp 0.1xCre   0.0  20240229flow_exp20240226_p2_BioB   \n",
       "4   pTET021_203bp 0.1xCre   0.0  20240229flow_exp20240226_p3_BioC   \n",
       "..                    ...   ...                               ...   \n",
       "85    pTET021_203bp 0xCre   1.0       20240114flow_exp20240111_p2   \n",
       "86    pTET021_203bp 0xCre   1.0       20240120flow_exp20240117_p2   \n",
       "87    pTET021_203bp 0xCre   1.0  20240229flow_exp20240226_p1_BioA   \n",
       "88    pTET021_203bp 0xCre   1.0  20240229flow_exp20240226_p2_BioB   \n",
       "89    pTET021_203bp 0xCre   1.0  20240229flow_exp20240226_p3_BioC   \n",
       "\n",
       "    mGL-A_gmean  TagBFP-A_gmean  Fraction  Count  Normalized_mGL-A_gmean  \\\n",
       "0     42.240878       34.793400  0.255331  15303                0.147784   \n",
       "1     67.092403       35.144582  0.028949   1735                0.243854   \n",
       "2     56.497923       37.358951  0.365185  21887                0.191862   \n",
       "3     48.552109       35.828663  0.230787  13832                0.136880   \n",
       "4     60.293531       34.340284  0.119748   7177                0.182980   \n",
       "..          ...             ...       ...    ...                     ...   \n",
       "85   554.934636     3465.650956  0.055134  10420                1.941494   \n",
       "86   434.995672     1575.025825  0.054504  10301                1.581035   \n",
       "87   352.480854     2476.457948  0.319765  60434                1.196996   \n",
       "88   430.749914     2745.918777  0.470764  88972                1.214387   \n",
       "89   377.326149     2286.040995  0.099833  18868                1.145119   \n",
       "\n",
       "    Normalized_TagBFP-A_gmean  \n",
       "0                    0.076380  \n",
       "1                    0.157798  \n",
       "2                    0.127876  \n",
       "3                    0.114803  \n",
       "4                    0.116266  \n",
       "..                        ...  \n",
       "85                   7.607992  \n",
       "86                   7.071796  \n",
       "87                   8.476685  \n",
       "88                   8.798529  \n",
       "89                   7.739887  \n",
       "\n",
       "[90 rows x 9 columns]"
      ]
     },
     "metadata": {},
     "output_type": "display_data"
    }
   ],
   "source": [
    "display(s_bioreplicate)"
   ]
  },
  {
   "cell_type": "code",
   "execution_count": 23,
   "metadata": {},
   "outputs": [],
   "source": [
    "data_subset_noCre = s_bioreplicate[s_bioreplicate['reporter']== 'pTET021_203bp 0xCre']\n",
    "data_subset_Cre = s_bioreplicate[s_bioreplicate['reporter']== 'pTET021_203bp 0.1xCre']"
   ]
  },
  {
   "cell_type": "code",
   "execution_count": 24,
   "metadata": {},
   "outputs": [
    {
     "data": {
      "text/plain": [
       "array([0.     , 0.00781, 0.01563, 0.03125, 0.0625 , 0.125  , 0.25   ,\n",
       "       0.5    , 1.     ])"
      ]
     },
     "execution_count": 24,
     "metadata": {},
     "output_type": "execute_result"
    }
   ],
   "source": [
    "data_subset_noCre['ZF43'].unique()"
   ]
  },
  {
   "cell_type": "code",
   "execution_count": 25,
   "metadata": {},
   "outputs": [
    {
     "name": "stderr",
     "output_type": "stream",
     "text": [
      "/var/folders/sg/b0f4ms6d7nx2q59_0mk_kgxm0000gn/T/ipykernel_30129/3671166382.py:1: SettingWithCopyWarning: \n",
      "A value is trying to be set on a copy of a slice from a DataFrame.\n",
      "Try using .loc[row_indexer,col_indexer] = value instead\n",
      "\n",
      "See the caveats in the documentation: https://pandas.pydata.org/pandas-docs/stable/user_guide/indexing.html#returning-a-view-versus-a-copy\n",
      "  data_subset_noCre['ZF43'] = data_subset_noCre['ZF43'].astype(str)\n",
      "/var/folders/sg/b0f4ms6d7nx2q59_0mk_kgxm0000gn/T/ipykernel_30129/3671166382.py:2: SettingWithCopyWarning: \n",
      "A value is trying to be set on a copy of a slice from a DataFrame.\n",
      "Try using .loc[row_indexer,col_indexer] = value instead\n",
      "\n",
      "See the caveats in the documentation: https://pandas.pydata.org/pandas-docs/stable/user_guide/indexing.html#returning-a-view-versus-a-copy\n",
      "  data_subset_Cre['ZF43'] = data_subset_Cre['ZF43'].astype(str)\n"
     ]
    }
   ],
   "source": [
    "data_subset_noCre['ZF43'] = data_subset_noCre['ZF43'].astype(str)\n",
    "data_subset_Cre['ZF43'] = data_subset_Cre['ZF43'].astype(str)"
   ]
  },
  {
   "cell_type": "code",
   "execution_count": 26,
   "metadata": {},
   "outputs": [],
   "source": [
    "zf_target_conc = pd.array(['0.0', '0.00781', '0.01563', '0.03125', '0.0625', '0.125', '0.25', '0.5', '1.0'])\n",
    "\n",
    "# initialization for mean of gmeans\n",
    "noCre_mean = pd.DataFrame(columns=['zf_conc', 'mean_mGL_noCre', 'mean_TagBFP_noCre'])\n",
    "Cre_mean = pd.DataFrame(columns=['zf_conc', 'mean_mGL_Cre', 'mean_TagBFP_Cre'])\n",
    "\n",
    "for zf_conc in zf_target_conc:\n",
    "\n",
    "    mean_mGL_noCre = data_subset_noCre[data_subset_noCre['ZF43']==zf_conc]['Normalized_mGL-A_gmean'].mean()\n",
    "    mean_TagBFP_noCre = data_subset_noCre[data_subset_noCre['ZF43']==zf_conc]['Normalized_TagBFP-A_gmean'].mean()\n",
    "\n",
    "    mean_mGL_Cre = data_subset_Cre[data_subset_Cre['ZF43']==zf_conc]['Normalized_mGL-A_gmean'].mean()\n",
    "    mean_TagBFP_Cre = data_subset_Cre[data_subset_Cre['ZF43']==zf_conc]['Normalized_TagBFP-A_gmean'].mean()\n",
    "\n",
    "    noCre_mean.loc[len(noCre_mean)] = [zf_conc, mean_mGL_noCre, mean_TagBFP_noCre]\n",
    "\n",
    "    Cre_mean.loc[len(Cre_mean)] = [zf_conc, mean_mGL_Cre, mean_TagBFP_Cre]"
   ]
  },
  {
   "cell_type": "code",
   "execution_count": 27,
   "metadata": {},
   "outputs": [
    {
     "data": {
      "text/html": [
       "<div>\n",
       "<style scoped>\n",
       "    .dataframe tbody tr th:only-of-type {\n",
       "        vertical-align: middle;\n",
       "    }\n",
       "\n",
       "    .dataframe tbody tr th {\n",
       "        vertical-align: top;\n",
       "    }\n",
       "\n",
       "    .dataframe thead th {\n",
       "        text-align: right;\n",
       "    }\n",
       "</style>\n",
       "<table border=\"1\" class=\"dataframe\">\n",
       "  <thead>\n",
       "    <tr style=\"text-align: right;\">\n",
       "      <th></th>\n",
       "      <th>zf_conc</th>\n",
       "      <th>mean_mGL_noCre</th>\n",
       "      <th>mean_TagBFP_noCre</th>\n",
       "    </tr>\n",
       "  </thead>\n",
       "  <tbody>\n",
       "    <tr>\n",
       "      <th>0</th>\n",
       "      <td>0.0</td>\n",
       "      <td>0.138633</td>\n",
       "      <td>0.115477</td>\n",
       "    </tr>\n",
       "    <tr>\n",
       "      <th>1</th>\n",
       "      <td>0.00781</td>\n",
       "      <td>0.603113</td>\n",
       "      <td>0.186542</td>\n",
       "    </tr>\n",
       "    <tr>\n",
       "      <th>2</th>\n",
       "      <td>0.01563</td>\n",
       "      <td>0.809063</td>\n",
       "      <td>0.259056</td>\n",
       "    </tr>\n",
       "    <tr>\n",
       "      <th>3</th>\n",
       "      <td>0.03125</td>\n",
       "      <td>0.861461</td>\n",
       "      <td>0.371134</td>\n",
       "    </tr>\n",
       "    <tr>\n",
       "      <th>4</th>\n",
       "      <td>0.0625</td>\n",
       "      <td>0.911086</td>\n",
       "      <td>0.567842</td>\n",
       "    </tr>\n",
       "    <tr>\n",
       "      <th>5</th>\n",
       "      <td>0.125</td>\n",
       "      <td>1.000000</td>\n",
       "      <td>1.000000</td>\n",
       "    </tr>\n",
       "    <tr>\n",
       "      <th>6</th>\n",
       "      <td>0.25</td>\n",
       "      <td>1.029368</td>\n",
       "      <td>1.808565</td>\n",
       "    </tr>\n",
       "    <tr>\n",
       "      <th>7</th>\n",
       "      <td>0.5</td>\n",
       "      <td>1.150555</td>\n",
       "      <td>3.621365</td>\n",
       "    </tr>\n",
       "    <tr>\n",
       "      <th>8</th>\n",
       "      <td>1.0</td>\n",
       "      <td>1.415806</td>\n",
       "      <td>7.938978</td>\n",
       "    </tr>\n",
       "  </tbody>\n",
       "</table>\n",
       "</div>"
      ],
      "text/plain": [
       "   zf_conc  mean_mGL_noCre  mean_TagBFP_noCre\n",
       "0      0.0        0.138633           0.115477\n",
       "1  0.00781        0.603113           0.186542\n",
       "2  0.01563        0.809063           0.259056\n",
       "3  0.03125        0.861461           0.371134\n",
       "4   0.0625        0.911086           0.567842\n",
       "5    0.125        1.000000           1.000000\n",
       "6     0.25        1.029368           1.808565\n",
       "7      0.5        1.150555           3.621365\n",
       "8      1.0        1.415806           7.938978"
      ]
     },
     "metadata": {},
     "output_type": "display_data"
    }
   ],
   "source": [
    "display(noCre_mean)"
   ]
  },
  {
   "cell_type": "code",
   "execution_count": 29,
   "metadata": {},
   "outputs": [],
   "source": [
    "noCre_file_path = data_folder + 'noCre_ZF43titration.xlsx'\n",
    "data_subset_noCre.to_excel(noCre_file_path, index=False)\n",
    "\n",
    "Cre_file_path = data_folder + 'Cre_ZF43titration.xlsx'\n",
    "data_subset_Cre.to_excel(Cre_file_path, index=False)"
   ]
  },
  {
   "cell_type": "code",
   "execution_count": 30,
   "metadata": {},
   "outputs": [],
   "source": [
    "mean_noCre_file_path = data_folder + 'MEAN_noCre_ZF43titration.xlsx'\n",
    "noCre_mean.to_excel(mean_noCre_file_path, index=False)\n",
    "\n",
    "mean_Cre_file_path = data_folder + 'MEAN_Cre_ZF43titration.xlsx'\n",
    "Cre_mean.to_excel(mean_Cre_file_path, index=False)"
   ]
  },
  {
   "cell_type": "markdown",
   "metadata": {},
   "source": [
    "Do calculations for each biorep"
   ]
  },
  {
   "cell_type": "code",
   "execution_count": null,
   "metadata": {},
   "outputs": [],
   "source": []
  },
  {
   "cell_type": "code",
   "execution_count": null,
   "metadata": {},
   "outputs": [],
   "source": []
  },
  {
   "cell_type": "code",
   "execution_count": null,
   "metadata": {},
   "outputs": [],
   "source": []
  },
  {
   "cell_type": "code",
   "execution_count": null,
   "metadata": {},
   "outputs": [],
   "source": []
  },
  {
   "cell_type": "code",
   "execution_count": null,
   "metadata": {},
   "outputs": [],
   "source": []
  },
  {
   "cell_type": "code",
   "execution_count": null,
   "metadata": {},
   "outputs": [],
   "source": []
  },
  {
   "cell_type": "code",
   "execution_count": null,
   "metadata": {},
   "outputs": [],
   "source": []
  },
  {
   "cell_type": "code",
   "execution_count": null,
   "metadata": {},
   "outputs": [],
   "source": []
  }
 ],
 "metadata": {
  "kernelspec": {
   "display_name": "env",
   "language": "python",
   "name": "python3"
  },
  "language_info": {
   "codemirror_mode": {
    "name": "ipython",
    "version": 3
   },
   "file_extension": ".py",
   "mimetype": "text/x-python",
   "name": "python",
   "nbconvert_exporter": "python",
   "pygments_lexer": "ipython3",
   "version": "3.12.3"
  },
  "orig_nbformat": 4
 },
 "nbformat": 4,
 "nbformat_minor": 2
}
