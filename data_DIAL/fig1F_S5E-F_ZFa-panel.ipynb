{
 "cells": [
  {
   "cell_type": "markdown",
   "metadata": {},
   "source": [
    "# Description"
   ]
  },
  {
   "cell_type": "code",
   "execution_count": null,
   "metadata": {},
   "outputs": [],
   "source": [
    "# Figure 1, 203 bp and loxPcon with different 1X ZF, and -/+ 0.1x Cre \n",
    "\n",
    "# This notebook contains extra replicates collected before final submission for comparison. Data supports conclusions in the paper.\n",
    "\n",
    "# See notebook Fig 1C_S1D-S2-S3 for more replicates with noZF, VP16-ZF43, and VP16-ZF37 \n",
    "# notebook 20250117_ZFtypes-test with additional replications of noZF, VP16-ZF43, VP16-ZF37, VPR-ZF37 (in more reps below)"
   ]
  },
  {
   "cell_type": "markdown",
   "metadata": {},
   "source": [
    "# Import Functions and set directories"
   ]
  },
  {
   "cell_type": "code",
   "execution_count": 2,
   "metadata": {},
   "outputs": [],
   "source": [
    "import functions_paper_1\n",
    "import importlib\n",
    "from functions_paper_1 import *\n",
    "exec(open(\"functions_paper_1.py\").read())\n",
    "# Local path to Sharepoint (on your computer, change if you are a different user)\n",
    "datadir = Path(Path('../../datadir_srk.txt').read_text())\n",
    "#datadir = Path(Path('../datadir_yb.txt').read_text())\n",
    "figure_folder = './figs_2024_promoter_editing_paper/f_ZFpanel/'"
   ]
  },
  {
   "cell_type": "markdown",
   "metadata": {},
   "source": [
    "## Import Data"
   ]
  },
  {
   "cell_type": "code",
   "execution_count": 3,
   "metadata": {},
   "outputs": [],
   "source": [
    "# Import Data - bioreplicate 1\n",
    "folder = '20240604flow_exp20240601_diffZFa_p1'\n",
    "file_path = datadir/'instruments'/'data'/'attune'/'Sneha'/folder/'export_singlets' #Assign file paths\n",
    "yaml_path = datadir/'instruments'/'data'/'attune'/'Sneha'/folder/'well_metadata_1.yaml' #Assign yaml paths \n",
    "data1 = rd.flow.load_csv_with_metadata(file_path, yaml_path) #Pull data\n",
    "data1['bioreplicate'] = folder \n",
    "\n",
    "# Import Data - bioreplicate 2\n",
    "folder = '20240604flow_exp20240601_diffZFa_p2'\n",
    "file_path = datadir/'instruments'/'data'/'attune'/'Sneha'/folder/'export_singlets' #Assign file paths\n",
    "#same yaml as before\n",
    "#yaml_path = datadir/'instruments'/'data'/'attune'/'Sneha'/folder/'well_metadata.yaml' #Assign yaml paths \n",
    "data2 = rd.flow.load_csv_with_metadata(file_path, yaml_path) #Pull data\n",
    "data2['bioreplicate'] = folder \n",
    "\n",
    "# Import Data - bioreplicate 3\n",
    "folder = '20240604flow_exp20240601_diffZFa_p3'\n",
    "file_path = datadir/'instruments'/'data'/'attune'/'Sneha'/folder/'export_singlets' #Assign file paths\n",
    "#same yaml as before\n",
    "#yaml_path = datadir/'instruments'/'data'/'attune'/'Sneha'/folder/'well_metadata.yaml' #Assign yaml paths \n",
    "data3 = rd.flow.load_csv_with_metadata(file_path, yaml_path) #Pull data\n",
    "data3['bioreplicate'] = folder \n",
    "\n",
    "# Import Data - bioreplicate 4\n",
    "folder = '20240126flow_exp20240123_p2'\n",
    "file_path = datadir/'instruments'/'data'/'attune'/'Sneha'/folder/'export_singlets' #Assign file paths\n",
    "yaml_path = datadir/'instruments'/'data'/'attune'/'Sneha'/folder/'well_metadata_20240126flowp2_fig1paper.yaml' #Assign yaml paths \n",
    "data4 = rd.flow.load_csv_with_metadata(file_path, yaml_path) #Pull data\n",
    "data4['bioreplicate'] = folder \n",
    "data4['reporter'] = data4['Rept']\n",
    "data4['mCherry-A'] = data4['mRuby2-A']\n",
    "data4 = data4[data4['experiment'] == 'ZFa_panel']\n",
    "\n",
    "# Import Data - bioreplicate 5\n",
    "folder = '20240129flow_exp20240126_p2'\n",
    "file_path = datadir/'instruments'/'data'/'attune'/'Sneha'/folder/'export_singlets_loxPcontrol' #Assign file paths\n",
    "yaml_path = datadir/'instruments'/'data'/'attune'/'Sneha'/folder/'well_metadata_20240129flowp2_fig1paper.yaml' #Assign yaml paths \n",
    "data5 = rd.flow.load_csv_with_metadata(file_path, yaml_path) #Pull data\n",
    "data5['bioreplicate'] = folder \n",
    "data5['reporter'] = data5['Rept']; data5['mCherry-A'] = data5['mRuby2-A']\n",
    "data5 = data5[data5['experiment'] == 'ZFa_panel'] # only get data for this experiment\n",
    "\n",
    "# Import Data - bioreplicate 6,  part of a different plate\n",
    "folder = '20240111flow_exp20240108_p1'\n",
    "file_path = datadir/'instruments'/'data'/'attune'/'Sneha'/folder/'export_singlets' #Assign file paths\n",
    "yaml_path = datadir/'instruments'/'data'/'attune'/'Sneha'/folder/'well_metadata_20240111flow_fig1paper.yaml' #Assign yaml paths \n",
    "data6 = rd.flow.load_csv_with_metadata(file_path, yaml_path) #Pull data\n",
    "data6['bioreplicate'] = folder \n",
    "data6['reporter'] = data6['Rept']; data6['mCherry-A'] = data6['mRuby2-A']\n",
    "data6 = data6[data6['experiment'] == 'ZFa_panel'] # only get data for this experiment\n",
    "\n",
    "# Import Data - bioreplicate 7,  part of a different plate\n",
    "folder = '20240120flow_exp20240117_p1'\n",
    "file_path = datadir/'instruments'/'data'/'attune'/'Sneha'/folder/'export_singlets' #Assign file paths\n",
    "yaml_path = datadir/'instruments'/'data'/'attune'/'Sneha'/folder/'well_metadata_20240120flow_fig1paper.yaml' #Assign yaml paths \n",
    "data7 = rd.flow.load_csv_with_metadata(file_path, yaml_path) #Pull data\n",
    "data7['bioreplicate'] = folder \n",
    "data7['reporter'] = data7['Rept']; data7['mCherry-A'] = data7['mRuby2-A']\n",
    "data7 = data7[data7['experiment'] == 'ZFa_panel']\n",
    "# only get data for this experiment\n",
    "\n",
    "# Import Data - bioreplicate 8 (just 203bp) part of a different plate\n",
    "folder = '20240118flow_exp20240115_p1'\n",
    "file_path = datadir/'instruments'/'data'/'attune'/'Sneha'/folder/'export_singlets' #Assign file paths\n",
    "yaml_path = datadir/'instruments'/'data'/'attune'/'Sneha'/folder/'well_metadata_20240118flow_fig1paper.yaml' #Assign yaml paths \n",
    "data8 = rd.flow.load_csv_with_metadata(file_path, yaml_path) #Pull data\n",
    "data8 = data8[ data8['Plasmids'] == '3.1 plasmids, 0.1x Cre'] #Data only for 3.1 plasmids, 0.1x Cre \n",
    "data8['reporter'] = data8['Rept']; data8['mCherry-A'] = data8['mRuby2-A']\n",
    "data8['bioreplicate'] = folder \n",
    "# only get data for this experiment\n",
    "data8 = data8[data8['experiment'] == 'ZFa_panel']"
   ]
  },
  {
   "cell_type": "code",
   "execution_count": 4,
   "metadata": {},
   "outputs": [],
   "source": [
    "# More reps collected during revision experiments (not included the the main figure / supplements)\n",
    "folder = '20250117_ZFtypes-test'\n",
    "file_path = datadir/'instruments'/'data'/'attune'/'Sneha'/folder/'export_singlets' #Assign file paths\n",
    "yaml_path = datadir/'instruments'/'data'/'attune'/'Sneha'/folder/'well_metadata_fig1F.yaml' #Assign yaml paths \n",
    "data_extra1 = rd.flow.load_csv_with_metadata(file_path, yaml_path) #Pull data\n",
    "data_extra1 = data_extra1[data_extra1['experiment'] == 'ZFa_panel']\n",
    "data_extra1['bioreplicate'] = folder\n",
    "#data_extra1['mCherry-A'] = data_extra1['mRuby2-A']\n",
    "\n",
    "folder = '20250127_ZFtypes_twoplates'\n",
    "file_path = datadir/'instruments'/'data'/'attune'/'Sneha'/folder/'p1_export_singlets' #Assign file paths\n",
    "yaml_path = datadir/'instruments'/'data'/'attune'/'Sneha'/folder/'well_metadata_fig1F.yaml' #Assign yaml paths \n",
    "data_extra2 = rd.flow.load_csv_with_metadata(file_path, yaml_path) #Pull data\n",
    "data_extra2 = data_extra2[data_extra2['experiment'] == 'ZFa_panel']\n",
    "data_extra2['bioreplicate'] = folder + '_p1'\n",
    "#data_extra2['mCherry-A'] = data_extra2['mRuby2-A']\n",
    "\n",
    "folder = '20250127_ZFtypes_twoplates'\n",
    "file_path = datadir/'instruments'/'data'/'attune'/'Sneha'/folder/'p2_export_singlets' #Assign file paths\n",
    "yaml_path = datadir/'instruments'/'data'/'attune'/'Sneha'/folder/'well_metadata_fig1F.yaml' #Assign yaml paths \n",
    "data_extra3 = rd.flow.load_csv_with_metadata(file_path, yaml_path) #Pull data\n",
    "data_extra3 = data_extra3[data_extra3['experiment'] == 'ZFa_panel']\n",
    "data_extra3['bioreplicate'] = folder + '_p2'\n",
    "#data_extra3['mCherry-A'] = data_extra1['mRuby2-A']\n"
   ]
  },
  {
   "cell_type": "code",
   "execution_count": 8,
   "metadata": {},
   "outputs": [],
   "source": [
    "# Even more reps collected during revision experiments (not included the the main figure / supplements)\n",
    "folder = '20250829_diffZFa_p1'\n",
    "file_path = datadir/'instruments'/'data'/'attune'/'Sneha'/folder/'export_singlets' #Assign file paths\n",
    "yaml_path = datadir/'instruments'/'data'/'attune'/'Sneha'/folder/'well_metadata_1.yaml' #Assign yaml paths \n",
    "data_extra4 = rd.flow.load_csv_with_metadata(file_path, yaml_path) #Pull data\n",
    "data_extra4['bioreplicate'] = folder"
   ]
  },
  {
   "cell_type": "code",
   "execution_count": 9,
   "metadata": {},
   "outputs": [],
   "source": [
    "# Even more reps collected during revision experiments (not included the the main figure / supplements)\n",
    "folder = '20250901_diffZFa_p1'\n",
    "file_path = datadir/'instruments'/'data'/'attune'/'Sneha'/folder/'export_singlets' #Assign file paths\n",
    "yaml_path = datadir/'instruments'/'data'/'attune'/'Sneha'/folder/'well_metadata_1.yaml' #Assign yaml paths \n",
    "data_extra5 = rd.flow.load_csv_with_metadata(file_path, yaml_path) #Pull data\n",
    "data_extra5['bioreplicate'] = folder\n",
    "\n",
    "# Even more reps collected during revision experiments (not included the the main figure / supplements)\n",
    "folder = '20250901_diffZFa_p2'\n",
    "file_path = datadir/'instruments'/'data'/'attune'/'Sneha'/folder/'export_singlets' #Assign file paths\n",
    "yaml_path = datadir/'instruments'/'data'/'attune'/'Sneha'/folder/'well_metadata_1.yaml' #Assign yaml paths \n",
    "data_extra6 = rd.flow.load_csv_with_metadata(file_path, yaml_path) #Pull data\n",
    "data_extra6['bioreplicate'] = folder"
   ]
  },
  {
   "cell_type": "markdown",
   "metadata": {},
   "source": [
    "## Concatenate Data, Gate-iRFP670, add conds"
   ]
  },
  {
   "cell_type": "code",
   "execution_count": 10,
   "metadata": {},
   "outputs": [],
   "source": [
    "\n",
    "\n",
    "\n",
    "data = pd.concat( [data1, data2, data3, data4, data5, data6, data7,data8, \n",
    "            data_extra1, data_extra2, data_extra3,      # More reps during testing of antibody staining, not included for the main figure \n",
    "            data_extra4, data_extra5, data_extra6]\n",
    "            , ignore_index=True)\n",
    "\n",
    "data = data[ (data['ZF']!='pipettewrong') & (data['experiment']=='ZFa_panel')]\n",
    "\n",
    "bioreplicates_original = pd.array([\n",
    "       '20240604flow_exp20240601_diffZFa_p1',\n",
    "       '20240604flow_exp20240601_diffZFa_p2',\n",
    "       '20240604flow_exp20240601_diffZFa_p3',\n",
    "       '20240126flow_exp20240123_p2', '20240129flow_exp20240126_p2',\n",
    "       '20240111flow_exp20240108_p1', '20240120flow_exp20240117_p1', '20240118flow_exp20240115_p1'])\n",
    "\n",
    "data = data[ data['mCherry-A'] >0]\n",
    "data = data[ data['mGL-A'] >0]\n",
    "data = data[ data['TagBFP-A'] >0]\n",
    "data = data[ data['Janelia Fluor 549-A'] >0]\n",
    "data = data[ data['iRFP670-A'] >0]\n",
    "\n",
    "\n",
    "# New Criteria, (Rept, ZF, Cre)\n",
    "# Combine ZF and Cre Conditions \n",
    "data['reporter.ZF.Cre'] = data['reporter'] + '.' +data['ZF'] + '.' + data['Cre']\n",
    "data['ZF.Cre'] = data['ZF'] + '.' + data['Cre']\n",
    "data['reporter.ZF'] = data['reporter'] + '.' +data['ZF'] \n",
    "data['reporter.ZF.bioreplicate'] = data['reporter'] + '.' +data['ZF'] + '.' +data['bioreplicate'] \n",
    "\n",
    "\n",
    "iRFP670_gate = 20000 \n",
    "data_iRFP670gated = data[ data['iRFP670-A'] > iRFP670_gate]\n",
    "\n",
    "# Divide data into the reporters and the unstained condition \n",
    "repts = pd.array( [ '203bp', 'loxP control'])\n",
    "data_iRFP670gated = data_iRFP670gated[ data_iRFP670gated['reporter'].isin(repts)]\n",
    "data_unstained = data[ data['reporter'] == 'none'] \n",
    "\n"
   ]
  },
  {
   "cell_type": "code",
   "execution_count": 18,
   "metadata": {},
   "outputs": [
    {
     "data": {
      "text/plain": [
       "array(['20240604flow_exp20240601_diffZFa_p1',\n",
       "       '20240604flow_exp20240601_diffZFa_p2',\n",
       "       '20240604flow_exp20240601_diffZFa_p3',\n",
       "       '20240126flow_exp20240123_p2', '20240129flow_exp20240126_p2',\n",
       "       '20240111flow_exp20240108_p1', '20240120flow_exp20240117_p1',\n",
       "       '20240118flow_exp20240115_p1', '20250117_ZFtypes-test',\n",
       "       '20250127_ZFtypes_twoplates_p1', '20250127_ZFtypes_twoplates_p2',\n",
       "       '20250829_diffZFa_p1', '20250901_diffZFa_p1',\n",
       "       '20250901_diffZFa_p2'], dtype=object)"
      ]
     },
     "metadata": {},
     "output_type": "display_data"
    },
    {
     "data": {
      "text/plain": [
       "array(['loxP control.ZF37-VP64.Cre', '203bp.ZF37-VP64.noCre',\n",
       "       '203bp.ZF37-VP64.Cre', 'loxP control.ZF37-VP64.noCre',\n",
       "       'loxP control.ZF37-VPR.Cre', '203bp.ZF37-VPR.noCre',\n",
       "       '203bp.ZF37-VPR.Cre', 'loxP control.ZF37-VPR.noCre',\n",
       "       'loxP control.ZF43-VP64.Cre', '203bp.ZF43-VP64.noCre',\n",
       "       '203bp.ZF43-VP64.Cre', 'loxP control.ZF43-VP64.noCre',\n",
       "       'loxP control.ZF37-VP16.Cre', '203bp.ZF37-VP16.noCre',\n",
       "       '203bp.ZF37-VP16.Cre', 'loxP control.ZF37-VP16.noCre',\n",
       "       'loxP control.ZF43-VP16.Cre', '203bp.ZF43-VP16.noCre',\n",
       "       '203bp.ZF43-VP16.Cre', 'loxP control.ZF43-VP16.noCre',\n",
       "       'loxP control.noZF.noCre', 'loxP control.noZF.Cre',\n",
       "       '203bp.noZF.noCre', '203bp.noZF.Cre'], dtype=object)"
      ]
     },
     "metadata": {},
     "output_type": "display_data"
    },
    {
     "data": {
      "text/plain": [
       "array(['ZF37-VP64.Cre', 'ZF37-VP64.noCre', 'ZF37-VPR.Cre',\n",
       "       'ZF37-VPR.noCre', 'ZF43-VP64.Cre', 'ZF43-VP64.noCre',\n",
       "       'ZF37-VP16.Cre', 'ZF37-VP16.noCre', 'ZF43-VP16.Cre',\n",
       "       'ZF43-VP16.noCre', 'noZF.noCre', 'noZF.Cre'], dtype=object)"
      ]
     },
     "metadata": {},
     "output_type": "display_data"
    },
    {
     "data": {
      "text/plain": [
       "array(['ZF37-VP64', 'ZF37-VPR', 'ZF43-VP64', 'ZF37-VP16', 'ZF43-VP16',\n",
       "       'noZF'], dtype=object)"
      ]
     },
     "metadata": {},
     "output_type": "display_data"
    },
    {
     "data": {
      "text/plain": [
       "array(['loxP control.ZF37-VP64', '203bp.ZF37-VP64',\n",
       "       'loxP control.ZF37-VPR', '203bp.ZF37-VPR',\n",
       "       'loxP control.ZF43-VP64', '203bp.ZF43-VP64',\n",
       "       'loxP control.ZF37-VP16', '203bp.ZF37-VP16',\n",
       "       'loxP control.ZF43-VP16', '203bp.ZF43-VP16', 'loxP control.noZF',\n",
       "       '203bp.noZF'], dtype=object)"
      ]
     },
     "metadata": {},
     "output_type": "display_data"
    },
    {
     "data": {
      "text/plain": [
       "array(['loxP control.ZF37-VP64.20240604flow_exp20240601_diffZFa_p1',\n",
       "       '203bp.ZF37-VP64.20240604flow_exp20240601_diffZFa_p1',\n",
       "       'loxP control.ZF37-VPR.20240604flow_exp20240601_diffZFa_p1',\n",
       "       '203bp.ZF37-VPR.20240604flow_exp20240601_diffZFa_p1',\n",
       "       'loxP control.ZF43-VP64.20240604flow_exp20240601_diffZFa_p1',\n",
       "       '203bp.ZF43-VP64.20240604flow_exp20240601_diffZFa_p1',\n",
       "       'loxP control.ZF37-VP16.20240604flow_exp20240601_diffZFa_p1',\n",
       "       '203bp.ZF37-VP16.20240604flow_exp20240601_diffZFa_p1',\n",
       "       'loxP control.ZF43-VP16.20240604flow_exp20240601_diffZFa_p1',\n",
       "       '203bp.ZF43-VP16.20240604flow_exp20240601_diffZFa_p1',\n",
       "       'loxP control.ZF37-VP64.20240604flow_exp20240601_diffZFa_p2',\n",
       "       '203bp.ZF37-VP64.20240604flow_exp20240601_diffZFa_p2',\n",
       "       'loxP control.ZF37-VPR.20240604flow_exp20240601_diffZFa_p2',\n",
       "       '203bp.ZF37-VPR.20240604flow_exp20240601_diffZFa_p2',\n",
       "       'loxP control.ZF43-VP64.20240604flow_exp20240601_diffZFa_p2',\n",
       "       '203bp.ZF43-VP64.20240604flow_exp20240601_diffZFa_p2',\n",
       "       'loxP control.ZF37-VP16.20240604flow_exp20240601_diffZFa_p2',\n",
       "       '203bp.ZF37-VP16.20240604flow_exp20240601_diffZFa_p2',\n",
       "       'loxP control.ZF43-VP16.20240604flow_exp20240601_diffZFa_p2',\n",
       "       '203bp.ZF43-VP16.20240604flow_exp20240601_diffZFa_p2',\n",
       "       'loxP control.ZF37-VP64.20240604flow_exp20240601_diffZFa_p3',\n",
       "       '203bp.ZF37-VP64.20240604flow_exp20240601_diffZFa_p3',\n",
       "       'loxP control.ZF37-VPR.20240604flow_exp20240601_diffZFa_p3',\n",
       "       '203bp.ZF37-VPR.20240604flow_exp20240601_diffZFa_p3',\n",
       "       'loxP control.ZF43-VP64.20240604flow_exp20240601_diffZFa_p3',\n",
       "       '203bp.ZF43-VP64.20240604flow_exp20240601_diffZFa_p3',\n",
       "       'loxP control.ZF37-VP16.20240604flow_exp20240601_diffZFa_p3',\n",
       "       '203bp.ZF37-VP16.20240604flow_exp20240601_diffZFa_p3',\n",
       "       'loxP control.ZF43-VP16.20240604flow_exp20240601_diffZFa_p3',\n",
       "       '203bp.ZF43-VP16.20240604flow_exp20240601_diffZFa_p3',\n",
       "       'loxP control.noZF.20240126flow_exp20240123_p2',\n",
       "       'loxP control.noZF.20240129flow_exp20240126_p2',\n",
       "       '203bp.noZF.20240111flow_exp20240108_p1',\n",
       "       '203bp.noZF.20240120flow_exp20240117_p1',\n",
       "       'loxP control.noZF.20240120flow_exp20240117_p1',\n",
       "       '203bp.noZF.20240118flow_exp20240115_p1',\n",
       "       '203bp.noZF.20250117_ZFtypes-test',\n",
       "       '203bp.ZF37-VP16.20250117_ZFtypes-test',\n",
       "       '203bp.ZF43-VP16.20250117_ZFtypes-test',\n",
       "       '203bp.ZF37-VPR.20250117_ZFtypes-test',\n",
       "       '203bp.noZF.20250127_ZFtypes_twoplates_p1',\n",
       "       '203bp.ZF37-VP16.20250127_ZFtypes_twoplates_p1',\n",
       "       '203bp.ZF43-VP16.20250127_ZFtypes_twoplates_p1',\n",
       "       '203bp.ZF37-VPR.20250127_ZFtypes_twoplates_p1',\n",
       "       '203bp.noZF.20250127_ZFtypes_twoplates_p2',\n",
       "       '203bp.ZF37-VP16.20250127_ZFtypes_twoplates_p2',\n",
       "       '203bp.ZF43-VP16.20250127_ZFtypes_twoplates_p2',\n",
       "       '203bp.ZF37-VPR.20250127_ZFtypes_twoplates_p2',\n",
       "       'loxP control.ZF43-VP16.20250829_diffZFa_p1',\n",
       "       '203bp.ZF43-VP16.20250829_diffZFa_p1',\n",
       "       'loxP control.ZF37-VP16.20250829_diffZFa_p1',\n",
       "       '203bp.ZF37-VP16.20250829_diffZFa_p1',\n",
       "       'loxP control.ZF43-VP64.20250829_diffZFa_p1',\n",
       "       '203bp.ZF43-VP64.20250829_diffZFa_p1',\n",
       "       'loxP control.ZF37-VP64.20250829_diffZFa_p1',\n",
       "       '203bp.ZF37-VP64.20250829_diffZFa_p1',\n",
       "       'loxP control.ZF37-VPR.20250829_diffZFa_p1',\n",
       "       '203bp.ZF37-VPR.20250829_diffZFa_p1',\n",
       "       'loxP control.noZF.20250829_diffZFa_p1',\n",
       "       '203bp.noZF.20250829_diffZFa_p1',\n",
       "       'loxP control.ZF43-VP16.20250901_diffZFa_p1',\n",
       "       '203bp.ZF43-VP16.20250901_diffZFa_p1',\n",
       "       'loxP control.ZF37-VP16.20250901_diffZFa_p1',\n",
       "       '203bp.ZF37-VP16.20250901_diffZFa_p1',\n",
       "       'loxP control.ZF43-VP64.20250901_diffZFa_p1',\n",
       "       '203bp.ZF43-VP64.20250901_diffZFa_p1',\n",
       "       'loxP control.ZF37-VP64.20250901_diffZFa_p1',\n",
       "       '203bp.ZF37-VP64.20250901_diffZFa_p1',\n",
       "       'loxP control.ZF37-VPR.20250901_diffZFa_p1',\n",
       "       '203bp.ZF37-VPR.20250901_diffZFa_p1',\n",
       "       'loxP control.noZF.20250901_diffZFa_p1',\n",
       "       '203bp.noZF.20250901_diffZFa_p1',\n",
       "       'loxP control.ZF43-VP16.20250901_diffZFa_p2',\n",
       "       '203bp.ZF43-VP16.20250901_diffZFa_p2',\n",
       "       'loxP control.ZF37-VP16.20250901_diffZFa_p2',\n",
       "       '203bp.ZF37-VP16.20250901_diffZFa_p2',\n",
       "       'loxP control.ZF43-VP64.20250901_diffZFa_p2',\n",
       "       '203bp.ZF43-VP64.20250901_diffZFa_p2',\n",
       "       'loxP control.ZF37-VP64.20250901_diffZFa_p2',\n",
       "       '203bp.ZF37-VP64.20250901_diffZFa_p2',\n",
       "       'loxP control.ZF37-VPR.20250901_diffZFa_p2',\n",
       "       '203bp.ZF37-VPR.20250901_diffZFa_p2',\n",
       "       'loxP control.noZF.20250901_diffZFa_p2',\n",
       "       '203bp.noZF.20250901_diffZFa_p2'], dtype=object)"
      ]
     },
     "metadata": {},
     "output_type": "display_data"
    }
   ],
   "source": [
    "# List all of the cond \n",
    "# Make a list of all the cond. This will be used for the order later on \n",
    "biorep_list = pd.unique(data_iRFP670gated['bioreplicate'] )\n",
    "display(biorep_list)\n",
    "\n",
    "cond_list = pd.unique( data_iRFP670gated['reporter.ZF.Cre'])\n",
    "display(cond_list)\n",
    "\n",
    "ZF_Cre_list= pd.unique( data_iRFP670gated['ZF.Cre'])\n",
    "display(ZF_Cre_list)\n",
    "\n",
    "ZF_list = pd.unique( data_iRFP670gated['ZF'])\n",
    "display(ZF_list)\n",
    "\n",
    "reporter_ZF_list = pd.unique( data_iRFP670gated['reporter.ZF'])\n",
    "display(reporter_ZF_list) \n",
    "\n",
    "reporter_ZF_bioreplicate_list = pd.unique( data_iRFP670gated['reporter.ZF.bioreplicate'])\n",
    "display(reporter_ZF_bioreplicate_list) \n",
    "\n"
   ]
  },
  {
   "cell_type": "markdown",
   "metadata": {},
   "source": [
    "# Palette "
   ]
  },
  {
   "cell_type": "code",
   "execution_count": 14,
   "metadata": {},
   "outputs": [],
   "source": [
    "palette_ZF_Cre = { \n",
    "       'noZF.noCre': 'darkgray', \n",
    "    'noZF.Cre': 'black', \n",
    "        \n",
    "        'ZF43-VP16.noCre': 'darkgray',\n",
    "       'ZF43-VP16.Cre': 'black', \n",
    "\n",
    "     'ZF43-VP64.noCre': 'darkgray',\n",
    "       'ZF43-VP64.Cre': 'black',\n",
    "       \n",
    "        'ZF37-VP16.noCre': 'darkgray',\n",
    "       'ZF37-VP16.Cre': 'black', \n",
    "\n",
    "     'ZF37-VP64.noCre':'darkgray',\n",
    "    'ZF37-VP64.Cre':'black', \n",
    "\n",
    "    'ZF37-VPR.noCre':'darkgray', \n",
    "    'ZF37-VPR.Cre': 'black', \n",
    "}"
   ]
  },
  {
   "cell_type": "markdown",
   "metadata": {},
   "source": [
    "# Calculate Summary Statistics"
   ]
  },
  {
   "cell_type": "code",
   "execution_count": 30,
   "metadata": {},
   "outputs": [
    {
     "data": {
      "text/html": [
       "<div>\n",
       "<style scoped>\n",
       "    .dataframe tbody tr th:only-of-type {\n",
       "        vertical-align: middle;\n",
       "    }\n",
       "\n",
       "    .dataframe tbody tr th {\n",
       "        vertical-align: top;\n",
       "    }\n",
       "\n",
       "    .dataframe thead th {\n",
       "        text-align: right;\n",
       "    }\n",
       "</style>\n",
       "<table border=\"1\" class=\"dataframe\">\n",
       "  <thead>\n",
       "    <tr style=\"text-align: right;\">\n",
       "      <th></th>\n",
       "      <th>reporter</th>\n",
       "      <th>ZF</th>\n",
       "      <th>Cre</th>\n",
       "      <th>reporter.ZF.Cre</th>\n",
       "      <th>ZF.Cre</th>\n",
       "      <th>reporter.ZF</th>\n",
       "      <th>reporter.ZF.bioreplicate</th>\n",
       "      <th>bioreplicate</th>\n",
       "      <th>mGL-A_gmean</th>\n",
       "      <th>mGL-A_median</th>\n",
       "      <th>...</th>\n",
       "      <th>TagBFP-A_std</th>\n",
       "      <th>TagBFP-A_mean</th>\n",
       "      <th>mCherry-A_gmean</th>\n",
       "      <th>mCherry-A_median</th>\n",
       "      <th>mCherry-A_std</th>\n",
       "      <th>mCherry-A_mean</th>\n",
       "      <th>Fraction</th>\n",
       "      <th>Count</th>\n",
       "      <th>ZF43map</th>\n",
       "      <th>ZF43norm</th>\n",
       "    </tr>\n",
       "  </thead>\n",
       "  <tbody>\n",
       "    <tr>\n",
       "      <th>0</th>\n",
       "      <td>203bp</td>\n",
       "      <td>ZF37-VP16</td>\n",
       "      <td>Cre</td>\n",
       "      <td>203bp.ZF37-VP16.Cre</td>\n",
       "      <td>ZF37-VP16.Cre</td>\n",
       "      <td>203bp.ZF37-VP16</td>\n",
       "      <td>203bp.ZF37-VP16.20240604flow_exp20240601_diffZ...</td>\n",
       "      <td>20240604flow_exp20240601_diffZFa_p1</td>\n",
       "      <td>1013.124934</td>\n",
       "      <td>1216.5</td>\n",
       "      <td>...</td>\n",
       "      <td>44.820447</td>\n",
       "      <td>55.341017</td>\n",
       "      <td>1762.995533</td>\n",
       "      <td>1511.0</td>\n",
       "      <td>7428.100218</td>\n",
       "      <td>3813.586645</td>\n",
       "      <td>1.0</td>\n",
       "      <td>1258</td>\n",
       "      <td>149.5584</td>\n",
       "      <td>6.774109</td>\n",
       "    </tr>\n",
       "    <tr>\n",
       "      <th>1</th>\n",
       "      <td>203bp</td>\n",
       "      <td>ZF37-VP16</td>\n",
       "      <td>Cre</td>\n",
       "      <td>203bp.ZF37-VP16.Cre</td>\n",
       "      <td>ZF37-VP16.Cre</td>\n",
       "      <td>203bp.ZF37-VP16</td>\n",
       "      <td>203bp.ZF37-VP16.20240604flow_exp20240601_diffZ...</td>\n",
       "      <td>20240604flow_exp20240601_diffZFa_p2</td>\n",
       "      <td>1029.124452</td>\n",
       "      <td>1348.0</td>\n",
       "      <td>...</td>\n",
       "      <td>40.787427</td>\n",
       "      <td>52.162072</td>\n",
       "      <td>1768.018330</td>\n",
       "      <td>1613.0</td>\n",
       "      <td>6207.593621</td>\n",
       "      <td>3522.806182</td>\n",
       "      <td>1.0</td>\n",
       "      <td>1197</td>\n",
       "      <td>149.5584</td>\n",
       "      <td>6.881088</td>\n",
       "    </tr>\n",
       "    <tr>\n",
       "      <th>2</th>\n",
       "      <td>203bp</td>\n",
       "      <td>ZF37-VP16</td>\n",
       "      <td>Cre</td>\n",
       "      <td>203bp.ZF37-VP16.Cre</td>\n",
       "      <td>ZF37-VP16.Cre</td>\n",
       "      <td>203bp.ZF37-VP16</td>\n",
       "      <td>203bp.ZF37-VP16.20240604flow_exp20240601_diffZ...</td>\n",
       "      <td>20240604flow_exp20240601_diffZFa_p3</td>\n",
       "      <td>1080.020117</td>\n",
       "      <td>1362.0</td>\n",
       "      <td>...</td>\n",
       "      <td>47.626201</td>\n",
       "      <td>57.057900</td>\n",
       "      <td>2139.169008</td>\n",
       "      <td>1814.0</td>\n",
       "      <td>8543.130448</td>\n",
       "      <td>4778.790972</td>\n",
       "      <td>1.0</td>\n",
       "      <td>1019</td>\n",
       "      <td>149.5584</td>\n",
       "      <td>7.221394</td>\n",
       "    </tr>\n",
       "    <tr>\n",
       "      <th>3</th>\n",
       "      <td>203bp</td>\n",
       "      <td>ZF37-VP16</td>\n",
       "      <td>noCre</td>\n",
       "      <td>203bp.ZF37-VP16.noCre</td>\n",
       "      <td>ZF37-VP16.noCre</td>\n",
       "      <td>203bp.ZF37-VP16</td>\n",
       "      <td>203bp.ZF37-VP16.20240604flow_exp20240601_diffZ...</td>\n",
       "      <td>20240604flow_exp20240601_diffZFa_p1</td>\n",
       "      <td>166.496605</td>\n",
       "      <td>176.0</td>\n",
       "      <td>...</td>\n",
       "      <td>44.590341</td>\n",
       "      <td>57.295831</td>\n",
       "      <td>1730.160583</td>\n",
       "      <td>1551.0</td>\n",
       "      <td>5677.283204</td>\n",
       "      <td>3454.199868</td>\n",
       "      <td>1.0</td>\n",
       "      <td>1511</td>\n",
       "      <td>149.5584</td>\n",
       "      <td>1.113255</td>\n",
       "    </tr>\n",
       "    <tr>\n",
       "      <th>4</th>\n",
       "      <td>203bp</td>\n",
       "      <td>ZF37-VP16</td>\n",
       "      <td>noCre</td>\n",
       "      <td>203bp.ZF37-VP16.noCre</td>\n",
       "      <td>ZF37-VP16.noCre</td>\n",
       "      <td>203bp.ZF37-VP16</td>\n",
       "      <td>203bp.ZF37-VP16.20240604flow_exp20240601_diffZ...</td>\n",
       "      <td>20240604flow_exp20240601_diffZFa_p2</td>\n",
       "      <td>183.346538</td>\n",
       "      <td>202.0</td>\n",
       "      <td>...</td>\n",
       "      <td>45.454125</td>\n",
       "      <td>54.672039</td>\n",
       "      <td>1541.079175</td>\n",
       "      <td>1396.0</td>\n",
       "      <td>6984.936388</td>\n",
       "      <td>3286.536090</td>\n",
       "      <td>1.0</td>\n",
       "      <td>1427</td>\n",
       "      <td>149.5584</td>\n",
       "      <td>1.225919</td>\n",
       "    </tr>\n",
       "    <tr>\n",
       "      <th>5</th>\n",
       "      <td>203bp</td>\n",
       "      <td>ZF37-VP16</td>\n",
       "      <td>noCre</td>\n",
       "      <td>203bp.ZF37-VP16.noCre</td>\n",
       "      <td>ZF37-VP16.noCre</td>\n",
       "      <td>203bp.ZF37-VP16</td>\n",
       "      <td>203bp.ZF37-VP16.20240604flow_exp20240601_diffZ...</td>\n",
       "      <td>20240604flow_exp20240601_diffZFa_p3</td>\n",
       "      <td>182.302493</td>\n",
       "      <td>192.0</td>\n",
       "      <td>...</td>\n",
       "      <td>41.723487</td>\n",
       "      <td>54.582609</td>\n",
       "      <td>2071.583974</td>\n",
       "      <td>1924.0</td>\n",
       "      <td>6934.241401</td>\n",
       "      <td>3994.539921</td>\n",
       "      <td>1.0</td>\n",
       "      <td>1265</td>\n",
       "      <td>149.5584</td>\n",
       "      <td>1.218939</td>\n",
       "    </tr>\n",
       "    <tr>\n",
       "      <th>6</th>\n",
       "      <td>203bp</td>\n",
       "      <td>ZF37-VP64</td>\n",
       "      <td>Cre</td>\n",
       "      <td>203bp.ZF37-VP64.Cre</td>\n",
       "      <td>ZF37-VP64.Cre</td>\n",
       "      <td>203bp.ZF37-VP64</td>\n",
       "      <td>203bp.ZF37-VP64.20240604flow_exp20240601_diffZ...</td>\n",
       "      <td>20240604flow_exp20240601_diffZFa_p1</td>\n",
       "      <td>1673.493909</td>\n",
       "      <td>1951.0</td>\n",
       "      <td>...</td>\n",
       "      <td>52.018002</td>\n",
       "      <td>60.856477</td>\n",
       "      <td>40.731068</td>\n",
       "      <td>51.0</td>\n",
       "      <td>37.508757</td>\n",
       "      <td>56.212589</td>\n",
       "      <td>1.0</td>\n",
       "      <td>6863</td>\n",
       "      <td>149.5584</td>\n",
       "      <td>11.189568</td>\n",
       "    </tr>\n",
       "    <tr>\n",
       "      <th>7</th>\n",
       "      <td>203bp</td>\n",
       "      <td>ZF37-VP64</td>\n",
       "      <td>Cre</td>\n",
       "      <td>203bp.ZF37-VP64.Cre</td>\n",
       "      <td>ZF37-VP64.Cre</td>\n",
       "      <td>203bp.ZF37-VP64</td>\n",
       "      <td>203bp.ZF37-VP64.20240604flow_exp20240601_diffZ...</td>\n",
       "      <td>20240604flow_exp20240601_diffZFa_p2</td>\n",
       "      <td>1846.403025</td>\n",
       "      <td>2193.0</td>\n",
       "      <td>...</td>\n",
       "      <td>50.115882</td>\n",
       "      <td>62.109567</td>\n",
       "      <td>41.799614</td>\n",
       "      <td>51.0</td>\n",
       "      <td>37.568343</td>\n",
       "      <td>56.729305</td>\n",
       "      <td>1.0</td>\n",
       "      <td>4965</td>\n",
       "      <td>149.5584</td>\n",
       "      <td>12.345699</td>\n",
       "    </tr>\n",
       "    <tr>\n",
       "      <th>8</th>\n",
       "      <td>203bp</td>\n",
       "      <td>ZF37-VP64</td>\n",
       "      <td>Cre</td>\n",
       "      <td>203bp.ZF37-VP64.Cre</td>\n",
       "      <td>ZF37-VP64.Cre</td>\n",
       "      <td>203bp.ZF37-VP64</td>\n",
       "      <td>203bp.ZF37-VP64.20240604flow_exp20240601_diffZ...</td>\n",
       "      <td>20240604flow_exp20240601_diffZFa_p3</td>\n",
       "      <td>1940.332176</td>\n",
       "      <td>2249.5</td>\n",
       "      <td>...</td>\n",
       "      <td>51.704716</td>\n",
       "      <td>65.185323</td>\n",
       "      <td>39.750795</td>\n",
       "      <td>49.0</td>\n",
       "      <td>36.982663</td>\n",
       "      <td>54.659950</td>\n",
       "      <td>1.0</td>\n",
       "      <td>4020</td>\n",
       "      <td>149.5584</td>\n",
       "      <td>12.973743</td>\n",
       "    </tr>\n",
       "    <tr>\n",
       "      <th>9</th>\n",
       "      <td>203bp</td>\n",
       "      <td>ZF37-VP64</td>\n",
       "      <td>noCre</td>\n",
       "      <td>203bp.ZF37-VP64.noCre</td>\n",
       "      <td>ZF37-VP64.noCre</td>\n",
       "      <td>203bp.ZF37-VP64</td>\n",
       "      <td>203bp.ZF37-VP64.20240604flow_exp20240601_diffZ...</td>\n",
       "      <td>20240604flow_exp20240601_diffZFa_p1</td>\n",
       "      <td>276.313260</td>\n",
       "      <td>278.0</td>\n",
       "      <td>...</td>\n",
       "      <td>49.961709</td>\n",
       "      <td>63.067304</td>\n",
       "      <td>40.733754</td>\n",
       "      <td>50.0</td>\n",
       "      <td>37.473222</td>\n",
       "      <td>56.071519</td>\n",
       "      <td>1.0</td>\n",
       "      <td>7117</td>\n",
       "      <td>149.5584</td>\n",
       "      <td>1.847528</td>\n",
       "    </tr>\n",
       "    <tr>\n",
       "      <th>10</th>\n",
       "      <td>203bp</td>\n",
       "      <td>ZF37-VP64</td>\n",
       "      <td>noCre</td>\n",
       "      <td>203bp.ZF37-VP64.noCre</td>\n",
       "      <td>ZF37-VP64.noCre</td>\n",
       "      <td>203bp.ZF37-VP64</td>\n",
       "      <td>203bp.ZF37-VP64.20240604flow_exp20240601_diffZ...</td>\n",
       "      <td>20240604flow_exp20240601_diffZFa_p2</td>\n",
       "      <td>305.491058</td>\n",
       "      <td>316.5</td>\n",
       "      <td>...</td>\n",
       "      <td>50.140444</td>\n",
       "      <td>63.817670</td>\n",
       "      <td>41.659156</td>\n",
       "      <td>52.0</td>\n",
       "      <td>36.973051</td>\n",
       "      <td>56.694429</td>\n",
       "      <td>1.0</td>\n",
       "      <td>3554</td>\n",
       "      <td>149.5584</td>\n",
       "      <td>2.042621</td>\n",
       "    </tr>\n",
       "    <tr>\n",
       "      <th>11</th>\n",
       "      <td>203bp</td>\n",
       "      <td>ZF37-VP64</td>\n",
       "      <td>noCre</td>\n",
       "      <td>203bp.ZF37-VP64.noCre</td>\n",
       "      <td>ZF37-VP64.noCre</td>\n",
       "      <td>203bp.ZF37-VP64</td>\n",
       "      <td>203bp.ZF37-VP64.20240604flow_exp20240601_diffZ...</td>\n",
       "      <td>20240604flow_exp20240601_diffZFa_p3</td>\n",
       "      <td>329.626317</td>\n",
       "      <td>328.0</td>\n",
       "      <td>...</td>\n",
       "      <td>49.559662</td>\n",
       "      <td>64.291978</td>\n",
       "      <td>38.661087</td>\n",
       "      <td>48.0</td>\n",
       "      <td>35.757516</td>\n",
       "      <td>53.102379</td>\n",
       "      <td>1.0</td>\n",
       "      <td>4288</td>\n",
       "      <td>149.5584</td>\n",
       "      <td>2.203997</td>\n",
       "    </tr>\n",
       "    <tr>\n",
       "      <th>12</th>\n",
       "      <td>203bp</td>\n",
       "      <td>ZF37-VPR</td>\n",
       "      <td>Cre</td>\n",
       "      <td>203bp.ZF37-VPR.Cre</td>\n",
       "      <td>ZF37-VPR.Cre</td>\n",
       "      <td>203bp.ZF37-VPR</td>\n",
       "      <td>203bp.ZF37-VPR.20240604flow_exp20240601_diffZF...</td>\n",
       "      <td>20240604flow_exp20240601_diffZFa_p1</td>\n",
       "      <td>9436.122076</td>\n",
       "      <td>8804.0</td>\n",
       "      <td>...</td>\n",
       "      <td>73.885095</td>\n",
       "      <td>63.783220</td>\n",
       "      <td>39.999398</td>\n",
       "      <td>52.0</td>\n",
       "      <td>37.018493</td>\n",
       "      <td>55.726420</td>\n",
       "      <td>1.0</td>\n",
       "      <td>1919</td>\n",
       "      <td>149.5584</td>\n",
       "      <td>63.093227</td>\n",
       "    </tr>\n",
       "    <tr>\n",
       "      <th>13</th>\n",
       "      <td>203bp</td>\n",
       "      <td>ZF37-VPR</td>\n",
       "      <td>Cre</td>\n",
       "      <td>203bp.ZF37-VPR.Cre</td>\n",
       "      <td>ZF37-VPR.Cre</td>\n",
       "      <td>203bp.ZF37-VPR</td>\n",
       "      <td>203bp.ZF37-VPR.20240604flow_exp20240601_diffZF...</td>\n",
       "      <td>20240604flow_exp20240601_diffZFa_p2</td>\n",
       "      <td>13052.074226</td>\n",
       "      <td>13310.0</td>\n",
       "      <td>...</td>\n",
       "      <td>66.901565</td>\n",
       "      <td>63.121903</td>\n",
       "      <td>42.407315</td>\n",
       "      <td>54.0</td>\n",
       "      <td>37.905592</td>\n",
       "      <td>58.138751</td>\n",
       "      <td>1.0</td>\n",
       "      <td>1009</td>\n",
       "      <td>149.5584</td>\n",
       "      <td>87.270753</td>\n",
       "    </tr>\n",
       "    <tr>\n",
       "      <th>14</th>\n",
       "      <td>203bp</td>\n",
       "      <td>ZF37-VPR</td>\n",
       "      <td>Cre</td>\n",
       "      <td>203bp.ZF37-VPR.Cre</td>\n",
       "      <td>ZF37-VPR.Cre</td>\n",
       "      <td>203bp.ZF37-VPR</td>\n",
       "      <td>203bp.ZF37-VPR.20240604flow_exp20240601_diffZF...</td>\n",
       "      <td>20240604flow_exp20240601_diffZFa_p3</td>\n",
       "      <td>13939.545060</td>\n",
       "      <td>15180.0</td>\n",
       "      <td>...</td>\n",
       "      <td>65.023126</td>\n",
       "      <td>64.410633</td>\n",
       "      <td>41.995661</td>\n",
       "      <td>51.0</td>\n",
       "      <td>37.751698</td>\n",
       "      <td>56.954180</td>\n",
       "      <td>1.0</td>\n",
       "      <td>2859</td>\n",
       "      <td>149.5584</td>\n",
       "      <td>93.204695</td>\n",
       "    </tr>\n",
       "    <tr>\n",
       "      <th>15</th>\n",
       "      <td>203bp</td>\n",
       "      <td>ZF37-VPR</td>\n",
       "      <td>noCre</td>\n",
       "      <td>203bp.ZF37-VPR.noCre</td>\n",
       "      <td>ZF37-VPR.noCre</td>\n",
       "      <td>203bp.ZF37-VPR</td>\n",
       "      <td>203bp.ZF37-VPR.20240604flow_exp20240601_diffZF...</td>\n",
       "      <td>20240604flow_exp20240601_diffZFa_p1</td>\n",
       "      <td>455.135014</td>\n",
       "      <td>425.0</td>\n",
       "      <td>...</td>\n",
       "      <td>44.663027</td>\n",
       "      <td>57.913738</td>\n",
       "      <td>38.807751</td>\n",
       "      <td>48.0</td>\n",
       "      <td>37.815702</td>\n",
       "      <td>54.601038</td>\n",
       "      <td>1.0</td>\n",
       "      <td>2504</td>\n",
       "      <td>149.5584</td>\n",
       "      <td>3.043193</td>\n",
       "    </tr>\n",
       "    <tr>\n",
       "      <th>16</th>\n",
       "      <td>203bp</td>\n",
       "      <td>ZF37-VPR</td>\n",
       "      <td>noCre</td>\n",
       "      <td>203bp.ZF37-VPR.noCre</td>\n",
       "      <td>ZF37-VPR.noCre</td>\n",
       "      <td>203bp.ZF37-VPR</td>\n",
       "      <td>203bp.ZF37-VPR.20240604flow_exp20240601_diffZF...</td>\n",
       "      <td>20240604flow_exp20240601_diffZFa_p2</td>\n",
       "      <td>572.586070</td>\n",
       "      <td>530.0</td>\n",
       "      <td>...</td>\n",
       "      <td>49.978186</td>\n",
       "      <td>59.799723</td>\n",
       "      <td>36.964850</td>\n",
       "      <td>46.0</td>\n",
       "      <td>34.247978</td>\n",
       "      <td>50.950104</td>\n",
       "      <td>1.0</td>\n",
       "      <td>1443</td>\n",
       "      <td>149.5584</td>\n",
       "      <td>3.828512</td>\n",
       "    </tr>\n",
       "    <tr>\n",
       "      <th>17</th>\n",
       "      <td>203bp</td>\n",
       "      <td>ZF37-VPR</td>\n",
       "      <td>noCre</td>\n",
       "      <td>203bp.ZF37-VPR.noCre</td>\n",
       "      <td>ZF37-VPR.noCre</td>\n",
       "      <td>203bp.ZF37-VPR</td>\n",
       "      <td>203bp.ZF37-VPR.20240604flow_exp20240601_diffZF...</td>\n",
       "      <td>20240604flow_exp20240601_diffZFa_p3</td>\n",
       "      <td>577.365920</td>\n",
       "      <td>555.0</td>\n",
       "      <td>...</td>\n",
       "      <td>45.438681</td>\n",
       "      <td>57.296230</td>\n",
       "      <td>37.819515</td>\n",
       "      <td>46.0</td>\n",
       "      <td>35.432012</td>\n",
       "      <td>52.298923</td>\n",
       "      <td>1.0</td>\n",
       "      <td>2228</td>\n",
       "      <td>149.5584</td>\n",
       "      <td>3.860471</td>\n",
       "    </tr>\n",
       "    <tr>\n",
       "      <th>18</th>\n",
       "      <td>203bp</td>\n",
       "      <td>ZF43-VP16</td>\n",
       "      <td>Cre</td>\n",
       "      <td>203bp.ZF43-VP16.Cre</td>\n",
       "      <td>ZF43-VP16.Cre</td>\n",
       "      <td>203bp.ZF43-VP16</td>\n",
       "      <td>203bp.ZF43-VP16.20240604flow_exp20240601_diffZ...</td>\n",
       "      <td>20240604flow_exp20240601_diffZFa_p1</td>\n",
       "      <td>780.700123</td>\n",
       "      <td>870.5</td>\n",
       "      <td>...</td>\n",
       "      <td>3172.586735</td>\n",
       "      <td>1743.890335</td>\n",
       "      <td>41.267826</td>\n",
       "      <td>50.0</td>\n",
       "      <td>53.956272</td>\n",
       "      <td>58.976390</td>\n",
       "      <td>1.0</td>\n",
       "      <td>4532</td>\n",
       "      <td>149.5584</td>\n",
       "      <td>5.220035</td>\n",
       "    </tr>\n",
       "    <tr>\n",
       "      <th>19</th>\n",
       "      <td>203bp</td>\n",
       "      <td>ZF43-VP16</td>\n",
       "      <td>Cre</td>\n",
       "      <td>203bp.ZF43-VP16.Cre</td>\n",
       "      <td>ZF43-VP16.Cre</td>\n",
       "      <td>203bp.ZF43-VP16</td>\n",
       "      <td>203bp.ZF43-VP16.20240604flow_exp20240601_diffZ...</td>\n",
       "      <td>20240604flow_exp20240601_diffZFa_p2</td>\n",
       "      <td>703.850326</td>\n",
       "      <td>826.0</td>\n",
       "      <td>...</td>\n",
       "      <td>4251.727698</td>\n",
       "      <td>2342.109091</td>\n",
       "      <td>37.593992</td>\n",
       "      <td>47.0</td>\n",
       "      <td>35.560699</td>\n",
       "      <td>52.245035</td>\n",
       "      <td>1.0</td>\n",
       "      <td>3575</td>\n",
       "      <td>149.5584</td>\n",
       "      <td>4.706191</td>\n",
       "    </tr>\n",
       "    <tr>\n",
       "      <th>20</th>\n",
       "      <td>203bp</td>\n",
       "      <td>ZF43-VP16</td>\n",
       "      <td>Cre</td>\n",
       "      <td>203bp.ZF43-VP16.Cre</td>\n",
       "      <td>ZF43-VP16.Cre</td>\n",
       "      <td>203bp.ZF43-VP16</td>\n",
       "      <td>203bp.ZF43-VP16.20240604flow_exp20240601_diffZ...</td>\n",
       "      <td>20240604flow_exp20240601_diffZFa_p3</td>\n",
       "      <td>700.085633</td>\n",
       "      <td>805.5</td>\n",
       "      <td>...</td>\n",
       "      <td>7338.413583</td>\n",
       "      <td>4063.081955</td>\n",
       "      <td>37.231016</td>\n",
       "      <td>46.0</td>\n",
       "      <td>36.458783</td>\n",
       "      <td>52.335589</td>\n",
       "      <td>1.0</td>\n",
       "      <td>3990</td>\n",
       "      <td>149.5584</td>\n",
       "      <td>4.681018</td>\n",
       "    </tr>\n",
       "    <tr>\n",
       "      <th>21</th>\n",
       "      <td>203bp</td>\n",
       "      <td>ZF43-VP16</td>\n",
       "      <td>noCre</td>\n",
       "      <td>203bp.ZF43-VP16.noCre</td>\n",
       "      <td>ZF43-VP16.noCre</td>\n",
       "      <td>203bp.ZF43-VP16</td>\n",
       "      <td>203bp.ZF43-VP16.20240604flow_exp20240601_diffZ...</td>\n",
       "      <td>20240604flow_exp20240601_diffZFa_p1</td>\n",
       "      <td>167.011539</td>\n",
       "      <td>164.0</td>\n",
       "      <td>...</td>\n",
       "      <td>8288.853232</td>\n",
       "      <td>5096.593741</td>\n",
       "      <td>38.960592</td>\n",
       "      <td>48.0</td>\n",
       "      <td>38.065066</td>\n",
       "      <td>53.994039</td>\n",
       "      <td>1.0</td>\n",
       "      <td>3355</td>\n",
       "      <td>149.5584</td>\n",
       "      <td>1.116698</td>\n",
       "    </tr>\n",
       "    <tr>\n",
       "      <th>22</th>\n",
       "      <td>203bp</td>\n",
       "      <td>ZF43-VP16</td>\n",
       "      <td>noCre</td>\n",
       "      <td>203bp.ZF43-VP16.noCre</td>\n",
       "      <td>ZF43-VP16.noCre</td>\n",
       "      <td>203bp.ZF43-VP16</td>\n",
       "      <td>203bp.ZF43-VP16.20240604flow_exp20240601_diffZ...</td>\n",
       "      <td>20240604flow_exp20240601_diffZFa_p2</td>\n",
       "      <td>137.477072</td>\n",
       "      <td>141.0</td>\n",
       "      <td>...</td>\n",
       "      <td>5555.837011</td>\n",
       "      <td>2988.873460</td>\n",
       "      <td>38.740953</td>\n",
       "      <td>48.0</td>\n",
       "      <td>178.454258</td>\n",
       "      <td>58.882419</td>\n",
       "      <td>1.0</td>\n",
       "      <td>893</td>\n",
       "      <td>149.5584</td>\n",
       "      <td>0.919220</td>\n",
       "    </tr>\n",
       "    <tr>\n",
       "      <th>23</th>\n",
       "      <td>203bp</td>\n",
       "      <td>ZF43-VP16</td>\n",
       "      <td>noCre</td>\n",
       "      <td>203bp.ZF43-VP16.noCre</td>\n",
       "      <td>ZF43-VP16.noCre</td>\n",
       "      <td>203bp.ZF43-VP16</td>\n",
       "      <td>203bp.ZF43-VP16.20240604flow_exp20240601_diffZ...</td>\n",
       "      <td>20240604flow_exp20240601_diffZFa_p3</td>\n",
       "      <td>144.186590</td>\n",
       "      <td>152.0</td>\n",
       "      <td>...</td>\n",
       "      <td>5707.290636</td>\n",
       "      <td>2979.281631</td>\n",
       "      <td>36.148099</td>\n",
       "      <td>45.0</td>\n",
       "      <td>500.141273</td>\n",
       "      <td>64.856662</td>\n",
       "      <td>1.0</td>\n",
       "      <td>2379</td>\n",
       "      <td>149.5584</td>\n",
       "      <td>0.964082</td>\n",
       "    </tr>\n",
       "    <tr>\n",
       "      <th>24</th>\n",
       "      <td>203bp</td>\n",
       "      <td>ZF43-VP64</td>\n",
       "      <td>Cre</td>\n",
       "      <td>203bp.ZF43-VP64.Cre</td>\n",
       "      <td>ZF43-VP64.Cre</td>\n",
       "      <td>203bp.ZF43-VP64</td>\n",
       "      <td>203bp.ZF43-VP64.20240604flow_exp20240601_diffZ...</td>\n",
       "      <td>20240604flow_exp20240601_diffZFa_p1</td>\n",
       "      <td>713.852520</td>\n",
       "      <td>816.0</td>\n",
       "      <td>...</td>\n",
       "      <td>54.138898</td>\n",
       "      <td>63.829511</td>\n",
       "      <td>39.413070</td>\n",
       "      <td>49.0</td>\n",
       "      <td>38.057830</td>\n",
       "      <td>54.923930</td>\n",
       "      <td>1.0</td>\n",
       "      <td>2616</td>\n",
       "      <td>149.5584</td>\n",
       "      <td>4.773069</td>\n",
       "    </tr>\n",
       "    <tr>\n",
       "      <th>25</th>\n",
       "      <td>203bp</td>\n",
       "      <td>ZF43-VP64</td>\n",
       "      <td>Cre</td>\n",
       "      <td>203bp.ZF43-VP64.Cre</td>\n",
       "      <td>ZF43-VP64.Cre</td>\n",
       "      <td>203bp.ZF43-VP64</td>\n",
       "      <td>203bp.ZF43-VP64.20240604flow_exp20240601_diffZ...</td>\n",
       "      <td>20240604flow_exp20240601_diffZFa_p2</td>\n",
       "      <td>1007.591217</td>\n",
       "      <td>1128.0</td>\n",
       "      <td>...</td>\n",
       "      <td>57.427617</td>\n",
       "      <td>66.855239</td>\n",
       "      <td>41.577107</td>\n",
       "      <td>50.0</td>\n",
       "      <td>38.503960</td>\n",
       "      <td>56.775288</td>\n",
       "      <td>1.0</td>\n",
       "      <td>1651</td>\n",
       "      <td>149.5584</td>\n",
       "      <td>6.737109</td>\n",
       "    </tr>\n",
       "    <tr>\n",
       "      <th>26</th>\n",
       "      <td>203bp</td>\n",
       "      <td>ZF43-VP64</td>\n",
       "      <td>Cre</td>\n",
       "      <td>203bp.ZF43-VP64.Cre</td>\n",
       "      <td>ZF43-VP64.Cre</td>\n",
       "      <td>203bp.ZF43-VP64</td>\n",
       "      <td>203bp.ZF43-VP64.20240604flow_exp20240601_diffZ...</td>\n",
       "      <td>20240604flow_exp20240601_diffZFa_p3</td>\n",
       "      <td>970.707059</td>\n",
       "      <td>1119.5</td>\n",
       "      <td>...</td>\n",
       "      <td>56.519794</td>\n",
       "      <td>67.056459</td>\n",
       "      <td>42.514956</td>\n",
       "      <td>52.0</td>\n",
       "      <td>38.370892</td>\n",
       "      <td>57.943541</td>\n",
       "      <td>1.0</td>\n",
       "      <td>2214</td>\n",
       "      <td>149.5584</td>\n",
       "      <td>6.490488</td>\n",
       "    </tr>\n",
       "    <tr>\n",
       "      <th>27</th>\n",
       "      <td>203bp</td>\n",
       "      <td>ZF43-VP64</td>\n",
       "      <td>noCre</td>\n",
       "      <td>203bp.ZF43-VP64.noCre</td>\n",
       "      <td>ZF43-VP64.noCre</td>\n",
       "      <td>203bp.ZF43-VP64</td>\n",
       "      <td>203bp.ZF43-VP64.20240604flow_exp20240601_diffZ...</td>\n",
       "      <td>20240604flow_exp20240601_diffZFa_p1</td>\n",
       "      <td>187.219447</td>\n",
       "      <td>179.0</td>\n",
       "      <td>...</td>\n",
       "      <td>49.319627</td>\n",
       "      <td>62.031385</td>\n",
       "      <td>40.108203</td>\n",
       "      <td>50.0</td>\n",
       "      <td>39.305633</td>\n",
       "      <td>56.446970</td>\n",
       "      <td>1.0</td>\n",
       "      <td>1848</td>\n",
       "      <td>149.5584</td>\n",
       "      <td>1.251815</td>\n",
       "    </tr>\n",
       "    <tr>\n",
       "      <th>28</th>\n",
       "      <td>203bp</td>\n",
       "      <td>ZF43-VP64</td>\n",
       "      <td>noCre</td>\n",
       "      <td>203bp.ZF43-VP64.noCre</td>\n",
       "      <td>ZF43-VP64.noCre</td>\n",
       "      <td>203bp.ZF43-VP64</td>\n",
       "      <td>203bp.ZF43-VP64.20240604flow_exp20240601_diffZ...</td>\n",
       "      <td>20240604flow_exp20240601_diffZFa_p2</td>\n",
       "      <td>211.983157</td>\n",
       "      <td>202.0</td>\n",
       "      <td>...</td>\n",
       "      <td>49.981795</td>\n",
       "      <td>63.709589</td>\n",
       "      <td>41.273284</td>\n",
       "      <td>51.0</td>\n",
       "      <td>37.816890</td>\n",
       "      <td>56.633425</td>\n",
       "      <td>1.0</td>\n",
       "      <td>1825</td>\n",
       "      <td>149.5584</td>\n",
       "      <td>1.417394</td>\n",
       "    </tr>\n",
       "    <tr>\n",
       "      <th>29</th>\n",
       "      <td>203bp</td>\n",
       "      <td>ZF43-VP64</td>\n",
       "      <td>noCre</td>\n",
       "      <td>203bp.ZF43-VP64.noCre</td>\n",
       "      <td>ZF43-VP64.noCre</td>\n",
       "      <td>203bp.ZF43-VP64</td>\n",
       "      <td>203bp.ZF43-VP64.20240604flow_exp20240601_diffZ...</td>\n",
       "      <td>20240604flow_exp20240601_diffZFa_p3</td>\n",
       "      <td>190.792201</td>\n",
       "      <td>186.0</td>\n",
       "      <td>...</td>\n",
       "      <td>47.283639</td>\n",
       "      <td>61.161895</td>\n",
       "      <td>40.098573</td>\n",
       "      <td>49.0</td>\n",
       "      <td>36.871384</td>\n",
       "      <td>54.684107</td>\n",
       "      <td>1.0</td>\n",
       "      <td>1013</td>\n",
       "      <td>149.5584</td>\n",
       "      <td>1.275704</td>\n",
       "    </tr>\n",
       "    <tr>\n",
       "      <th>30</th>\n",
       "      <td>203bp</td>\n",
       "      <td>noZF</td>\n",
       "      <td>Cre</td>\n",
       "      <td>203bp.noZF.Cre</td>\n",
       "      <td>noZF.Cre</td>\n",
       "      <td>203bp.noZF</td>\n",
       "      <td>203bp.noZF.20240111flow_exp20240108_p1</td>\n",
       "      <td>20240111flow_exp20240108_p1</td>\n",
       "      <td>49.174015</td>\n",
       "      <td>59.0</td>\n",
       "      <td>...</td>\n",
       "      <td>42.112770</td>\n",
       "      <td>51.803605</td>\n",
       "      <td>48.724590</td>\n",
       "      <td>59.0</td>\n",
       "      <td>176.314561</td>\n",
       "      <td>76.422541</td>\n",
       "      <td>1.0</td>\n",
       "      <td>21747</td>\n",
       "      <td>149.5584</td>\n",
       "      <td>0.328795</td>\n",
       "    </tr>\n",
       "    <tr>\n",
       "      <th>31</th>\n",
       "      <td>203bp</td>\n",
       "      <td>noZF</td>\n",
       "      <td>Cre</td>\n",
       "      <td>203bp.noZF.Cre</td>\n",
       "      <td>noZF.Cre</td>\n",
       "      <td>203bp.noZF</td>\n",
       "      <td>203bp.noZF.20240118flow_exp20240115_p1</td>\n",
       "      <td>20240118flow_exp20240115_p1</td>\n",
       "      <td>72.978030</td>\n",
       "      <td>75.0</td>\n",
       "      <td>...</td>\n",
       "      <td>40.291275</td>\n",
       "      <td>53.874045</td>\n",
       "      <td>46.448987</td>\n",
       "      <td>57.0</td>\n",
       "      <td>42.758116</td>\n",
       "      <td>63.612967</td>\n",
       "      <td>1.0</td>\n",
       "      <td>9162</td>\n",
       "      <td>149.5584</td>\n",
       "      <td>0.487957</td>\n",
       "    </tr>\n",
       "    <tr>\n",
       "      <th>32</th>\n",
       "      <td>203bp</td>\n",
       "      <td>noZF</td>\n",
       "      <td>Cre</td>\n",
       "      <td>203bp.noZF.Cre</td>\n",
       "      <td>noZF.Cre</td>\n",
       "      <td>203bp.noZF</td>\n",
       "      <td>203bp.noZF.20240120flow_exp20240117_p1</td>\n",
       "      <td>20240120flow_exp20240117_p1</td>\n",
       "      <td>80.390087</td>\n",
       "      <td>85.0</td>\n",
       "      <td>...</td>\n",
       "      <td>59.219751</td>\n",
       "      <td>51.673808</td>\n",
       "      <td>41.742624</td>\n",
       "      <td>52.0</td>\n",
       "      <td>38.417916</td>\n",
       "      <td>57.467027</td>\n",
       "      <td>1.0</td>\n",
       "      <td>5368</td>\n",
       "      <td>149.5584</td>\n",
       "      <td>0.537516</td>\n",
       "    </tr>\n",
       "    <tr>\n",
       "      <th>33</th>\n",
       "      <td>203bp</td>\n",
       "      <td>noZF</td>\n",
       "      <td>noCre</td>\n",
       "      <td>203bp.noZF.noCre</td>\n",
       "      <td>noZF.noCre</td>\n",
       "      <td>203bp.noZF</td>\n",
       "      <td>203bp.noZF.20240111flow_exp20240108_p1</td>\n",
       "      <td>20240111flow_exp20240108_p1</td>\n",
       "      <td>43.513540</td>\n",
       "      <td>53.0</td>\n",
       "      <td>...</td>\n",
       "      <td>124.804331</td>\n",
       "      <td>53.013111</td>\n",
       "      <td>46.764310</td>\n",
       "      <td>58.0</td>\n",
       "      <td>41.201465</td>\n",
       "      <td>63.362338</td>\n",
       "      <td>1.0</td>\n",
       "      <td>26467</td>\n",
       "      <td>149.5584</td>\n",
       "      <td>0.290947</td>\n",
       "    </tr>\n",
       "    <tr>\n",
       "      <th>34</th>\n",
       "      <td>203bp</td>\n",
       "      <td>noZF</td>\n",
       "      <td>noCre</td>\n",
       "      <td>203bp.noZF.noCre</td>\n",
       "      <td>noZF.noCre</td>\n",
       "      <td>203bp.noZF</td>\n",
       "      <td>203bp.noZF.20240118flow_exp20240115_p1</td>\n",
       "      <td>20240118flow_exp20240115_p1</td>\n",
       "      <td>54.612852</td>\n",
       "      <td>64.0</td>\n",
       "      <td>...</td>\n",
       "      <td>44.301913</td>\n",
       "      <td>54.175684</td>\n",
       "      <td>46.738743</td>\n",
       "      <td>58.0</td>\n",
       "      <td>42.579136</td>\n",
       "      <td>63.918848</td>\n",
       "      <td>1.0</td>\n",
       "      <td>6876</td>\n",
       "      <td>149.5584</td>\n",
       "      <td>0.365161</td>\n",
       "    </tr>\n",
       "    <tr>\n",
       "      <th>35</th>\n",
       "      <td>203bp</td>\n",
       "      <td>noZF</td>\n",
       "      <td>noCre</td>\n",
       "      <td>203bp.noZF.noCre</td>\n",
       "      <td>noZF.noCre</td>\n",
       "      <td>203bp.noZF</td>\n",
       "      <td>203bp.noZF.20240120flow_exp20240117_p1</td>\n",
       "      <td>20240120flow_exp20240117_p1</td>\n",
       "      <td>54.619031</td>\n",
       "      <td>62.0</td>\n",
       "      <td>...</td>\n",
       "      <td>64.820460</td>\n",
       "      <td>51.529801</td>\n",
       "      <td>42.550913</td>\n",
       "      <td>52.0</td>\n",
       "      <td>38.788301</td>\n",
       "      <td>58.018146</td>\n",
       "      <td>1.0</td>\n",
       "      <td>7550</td>\n",
       "      <td>149.5584</td>\n",
       "      <td>0.365202</td>\n",
       "    </tr>\n",
       "  </tbody>\n",
       "</table>\n",
       "<p>36 rows × 24 columns</p>\n",
       "</div>"
      ],
      "text/plain": [
       "   reporter         ZF    Cre        reporter.ZF.Cre           ZF.Cre  \\\n",
       "0     203bp  ZF37-VP16    Cre    203bp.ZF37-VP16.Cre    ZF37-VP16.Cre   \n",
       "1     203bp  ZF37-VP16    Cre    203bp.ZF37-VP16.Cre    ZF37-VP16.Cre   \n",
       "2     203bp  ZF37-VP16    Cre    203bp.ZF37-VP16.Cre    ZF37-VP16.Cre   \n",
       "3     203bp  ZF37-VP16  noCre  203bp.ZF37-VP16.noCre  ZF37-VP16.noCre   \n",
       "4     203bp  ZF37-VP16  noCre  203bp.ZF37-VP16.noCre  ZF37-VP16.noCre   \n",
       "5     203bp  ZF37-VP16  noCre  203bp.ZF37-VP16.noCre  ZF37-VP16.noCre   \n",
       "6     203bp  ZF37-VP64    Cre    203bp.ZF37-VP64.Cre    ZF37-VP64.Cre   \n",
       "7     203bp  ZF37-VP64    Cre    203bp.ZF37-VP64.Cre    ZF37-VP64.Cre   \n",
       "8     203bp  ZF37-VP64    Cre    203bp.ZF37-VP64.Cre    ZF37-VP64.Cre   \n",
       "9     203bp  ZF37-VP64  noCre  203bp.ZF37-VP64.noCre  ZF37-VP64.noCre   \n",
       "10    203bp  ZF37-VP64  noCre  203bp.ZF37-VP64.noCre  ZF37-VP64.noCre   \n",
       "11    203bp  ZF37-VP64  noCre  203bp.ZF37-VP64.noCre  ZF37-VP64.noCre   \n",
       "12    203bp   ZF37-VPR    Cre     203bp.ZF37-VPR.Cre     ZF37-VPR.Cre   \n",
       "13    203bp   ZF37-VPR    Cre     203bp.ZF37-VPR.Cre     ZF37-VPR.Cre   \n",
       "14    203bp   ZF37-VPR    Cre     203bp.ZF37-VPR.Cre     ZF37-VPR.Cre   \n",
       "15    203bp   ZF37-VPR  noCre   203bp.ZF37-VPR.noCre   ZF37-VPR.noCre   \n",
       "16    203bp   ZF37-VPR  noCre   203bp.ZF37-VPR.noCre   ZF37-VPR.noCre   \n",
       "17    203bp   ZF37-VPR  noCre   203bp.ZF37-VPR.noCre   ZF37-VPR.noCre   \n",
       "18    203bp  ZF43-VP16    Cre    203bp.ZF43-VP16.Cre    ZF43-VP16.Cre   \n",
       "19    203bp  ZF43-VP16    Cre    203bp.ZF43-VP16.Cre    ZF43-VP16.Cre   \n",
       "20    203bp  ZF43-VP16    Cre    203bp.ZF43-VP16.Cre    ZF43-VP16.Cre   \n",
       "21    203bp  ZF43-VP16  noCre  203bp.ZF43-VP16.noCre  ZF43-VP16.noCre   \n",
       "22    203bp  ZF43-VP16  noCre  203bp.ZF43-VP16.noCre  ZF43-VP16.noCre   \n",
       "23    203bp  ZF43-VP16  noCre  203bp.ZF43-VP16.noCre  ZF43-VP16.noCre   \n",
       "24    203bp  ZF43-VP64    Cre    203bp.ZF43-VP64.Cre    ZF43-VP64.Cre   \n",
       "25    203bp  ZF43-VP64    Cre    203bp.ZF43-VP64.Cre    ZF43-VP64.Cre   \n",
       "26    203bp  ZF43-VP64    Cre    203bp.ZF43-VP64.Cre    ZF43-VP64.Cre   \n",
       "27    203bp  ZF43-VP64  noCre  203bp.ZF43-VP64.noCre  ZF43-VP64.noCre   \n",
       "28    203bp  ZF43-VP64  noCre  203bp.ZF43-VP64.noCre  ZF43-VP64.noCre   \n",
       "29    203bp  ZF43-VP64  noCre  203bp.ZF43-VP64.noCre  ZF43-VP64.noCre   \n",
       "30    203bp       noZF    Cre         203bp.noZF.Cre         noZF.Cre   \n",
       "31    203bp       noZF    Cre         203bp.noZF.Cre         noZF.Cre   \n",
       "32    203bp       noZF    Cre         203bp.noZF.Cre         noZF.Cre   \n",
       "33    203bp       noZF  noCre       203bp.noZF.noCre       noZF.noCre   \n",
       "34    203bp       noZF  noCre       203bp.noZF.noCre       noZF.noCre   \n",
       "35    203bp       noZF  noCre       203bp.noZF.noCre       noZF.noCre   \n",
       "\n",
       "        reporter.ZF                           reporter.ZF.bioreplicate  \\\n",
       "0   203bp.ZF37-VP16  203bp.ZF37-VP16.20240604flow_exp20240601_diffZ...   \n",
       "1   203bp.ZF37-VP16  203bp.ZF37-VP16.20240604flow_exp20240601_diffZ...   \n",
       "2   203bp.ZF37-VP16  203bp.ZF37-VP16.20240604flow_exp20240601_diffZ...   \n",
       "3   203bp.ZF37-VP16  203bp.ZF37-VP16.20240604flow_exp20240601_diffZ...   \n",
       "4   203bp.ZF37-VP16  203bp.ZF37-VP16.20240604flow_exp20240601_diffZ...   \n",
       "5   203bp.ZF37-VP16  203bp.ZF37-VP16.20240604flow_exp20240601_diffZ...   \n",
       "6   203bp.ZF37-VP64  203bp.ZF37-VP64.20240604flow_exp20240601_diffZ...   \n",
       "7   203bp.ZF37-VP64  203bp.ZF37-VP64.20240604flow_exp20240601_diffZ...   \n",
       "8   203bp.ZF37-VP64  203bp.ZF37-VP64.20240604flow_exp20240601_diffZ...   \n",
       "9   203bp.ZF37-VP64  203bp.ZF37-VP64.20240604flow_exp20240601_diffZ...   \n",
       "10  203bp.ZF37-VP64  203bp.ZF37-VP64.20240604flow_exp20240601_diffZ...   \n",
       "11  203bp.ZF37-VP64  203bp.ZF37-VP64.20240604flow_exp20240601_diffZ...   \n",
       "12   203bp.ZF37-VPR  203bp.ZF37-VPR.20240604flow_exp20240601_diffZF...   \n",
       "13   203bp.ZF37-VPR  203bp.ZF37-VPR.20240604flow_exp20240601_diffZF...   \n",
       "14   203bp.ZF37-VPR  203bp.ZF37-VPR.20240604flow_exp20240601_diffZF...   \n",
       "15   203bp.ZF37-VPR  203bp.ZF37-VPR.20240604flow_exp20240601_diffZF...   \n",
       "16   203bp.ZF37-VPR  203bp.ZF37-VPR.20240604flow_exp20240601_diffZF...   \n",
       "17   203bp.ZF37-VPR  203bp.ZF37-VPR.20240604flow_exp20240601_diffZF...   \n",
       "18  203bp.ZF43-VP16  203bp.ZF43-VP16.20240604flow_exp20240601_diffZ...   \n",
       "19  203bp.ZF43-VP16  203bp.ZF43-VP16.20240604flow_exp20240601_diffZ...   \n",
       "20  203bp.ZF43-VP16  203bp.ZF43-VP16.20240604flow_exp20240601_diffZ...   \n",
       "21  203bp.ZF43-VP16  203bp.ZF43-VP16.20240604flow_exp20240601_diffZ...   \n",
       "22  203bp.ZF43-VP16  203bp.ZF43-VP16.20240604flow_exp20240601_diffZ...   \n",
       "23  203bp.ZF43-VP16  203bp.ZF43-VP16.20240604flow_exp20240601_diffZ...   \n",
       "24  203bp.ZF43-VP64  203bp.ZF43-VP64.20240604flow_exp20240601_diffZ...   \n",
       "25  203bp.ZF43-VP64  203bp.ZF43-VP64.20240604flow_exp20240601_diffZ...   \n",
       "26  203bp.ZF43-VP64  203bp.ZF43-VP64.20240604flow_exp20240601_diffZ...   \n",
       "27  203bp.ZF43-VP64  203bp.ZF43-VP64.20240604flow_exp20240601_diffZ...   \n",
       "28  203bp.ZF43-VP64  203bp.ZF43-VP64.20240604flow_exp20240601_diffZ...   \n",
       "29  203bp.ZF43-VP64  203bp.ZF43-VP64.20240604flow_exp20240601_diffZ...   \n",
       "30       203bp.noZF             203bp.noZF.20240111flow_exp20240108_p1   \n",
       "31       203bp.noZF             203bp.noZF.20240118flow_exp20240115_p1   \n",
       "32       203bp.noZF             203bp.noZF.20240120flow_exp20240117_p1   \n",
       "33       203bp.noZF             203bp.noZF.20240111flow_exp20240108_p1   \n",
       "34       203bp.noZF             203bp.noZF.20240118flow_exp20240115_p1   \n",
       "35       203bp.noZF             203bp.noZF.20240120flow_exp20240117_p1   \n",
       "\n",
       "                           bioreplicate   mGL-A_gmean  mGL-A_median  ...  \\\n",
       "0   20240604flow_exp20240601_diffZFa_p1   1013.124934        1216.5  ...   \n",
       "1   20240604flow_exp20240601_diffZFa_p2   1029.124452        1348.0  ...   \n",
       "2   20240604flow_exp20240601_diffZFa_p3   1080.020117        1362.0  ...   \n",
       "3   20240604flow_exp20240601_diffZFa_p1    166.496605         176.0  ...   \n",
       "4   20240604flow_exp20240601_diffZFa_p2    183.346538         202.0  ...   \n",
       "5   20240604flow_exp20240601_diffZFa_p3    182.302493         192.0  ...   \n",
       "6   20240604flow_exp20240601_diffZFa_p1   1673.493909        1951.0  ...   \n",
       "7   20240604flow_exp20240601_diffZFa_p2   1846.403025        2193.0  ...   \n",
       "8   20240604flow_exp20240601_diffZFa_p3   1940.332176        2249.5  ...   \n",
       "9   20240604flow_exp20240601_diffZFa_p1    276.313260         278.0  ...   \n",
       "10  20240604flow_exp20240601_diffZFa_p2    305.491058         316.5  ...   \n",
       "11  20240604flow_exp20240601_diffZFa_p3    329.626317         328.0  ...   \n",
       "12  20240604flow_exp20240601_diffZFa_p1   9436.122076        8804.0  ...   \n",
       "13  20240604flow_exp20240601_diffZFa_p2  13052.074226       13310.0  ...   \n",
       "14  20240604flow_exp20240601_diffZFa_p3  13939.545060       15180.0  ...   \n",
       "15  20240604flow_exp20240601_diffZFa_p1    455.135014         425.0  ...   \n",
       "16  20240604flow_exp20240601_diffZFa_p2    572.586070         530.0  ...   \n",
       "17  20240604flow_exp20240601_diffZFa_p3    577.365920         555.0  ...   \n",
       "18  20240604flow_exp20240601_diffZFa_p1    780.700123         870.5  ...   \n",
       "19  20240604flow_exp20240601_diffZFa_p2    703.850326         826.0  ...   \n",
       "20  20240604flow_exp20240601_diffZFa_p3    700.085633         805.5  ...   \n",
       "21  20240604flow_exp20240601_diffZFa_p1    167.011539         164.0  ...   \n",
       "22  20240604flow_exp20240601_diffZFa_p2    137.477072         141.0  ...   \n",
       "23  20240604flow_exp20240601_diffZFa_p3    144.186590         152.0  ...   \n",
       "24  20240604flow_exp20240601_diffZFa_p1    713.852520         816.0  ...   \n",
       "25  20240604flow_exp20240601_diffZFa_p2   1007.591217        1128.0  ...   \n",
       "26  20240604flow_exp20240601_diffZFa_p3    970.707059        1119.5  ...   \n",
       "27  20240604flow_exp20240601_diffZFa_p1    187.219447         179.0  ...   \n",
       "28  20240604flow_exp20240601_diffZFa_p2    211.983157         202.0  ...   \n",
       "29  20240604flow_exp20240601_diffZFa_p3    190.792201         186.0  ...   \n",
       "30          20240111flow_exp20240108_p1     49.174015          59.0  ...   \n",
       "31          20240118flow_exp20240115_p1     72.978030          75.0  ...   \n",
       "32          20240120flow_exp20240117_p1     80.390087          85.0  ...   \n",
       "33          20240111flow_exp20240108_p1     43.513540          53.0  ...   \n",
       "34          20240118flow_exp20240115_p1     54.612852          64.0  ...   \n",
       "35          20240120flow_exp20240117_p1     54.619031          62.0  ...   \n",
       "\n",
       "    TagBFP-A_std  TagBFP-A_mean  mCherry-A_gmean  mCherry-A_median  \\\n",
       "0      44.820447      55.341017      1762.995533            1511.0   \n",
       "1      40.787427      52.162072      1768.018330            1613.0   \n",
       "2      47.626201      57.057900      2139.169008            1814.0   \n",
       "3      44.590341      57.295831      1730.160583            1551.0   \n",
       "4      45.454125      54.672039      1541.079175            1396.0   \n",
       "5      41.723487      54.582609      2071.583974            1924.0   \n",
       "6      52.018002      60.856477        40.731068              51.0   \n",
       "7      50.115882      62.109567        41.799614              51.0   \n",
       "8      51.704716      65.185323        39.750795              49.0   \n",
       "9      49.961709      63.067304        40.733754              50.0   \n",
       "10     50.140444      63.817670        41.659156              52.0   \n",
       "11     49.559662      64.291978        38.661087              48.0   \n",
       "12     73.885095      63.783220        39.999398              52.0   \n",
       "13     66.901565      63.121903        42.407315              54.0   \n",
       "14     65.023126      64.410633        41.995661              51.0   \n",
       "15     44.663027      57.913738        38.807751              48.0   \n",
       "16     49.978186      59.799723        36.964850              46.0   \n",
       "17     45.438681      57.296230        37.819515              46.0   \n",
       "18   3172.586735    1743.890335        41.267826              50.0   \n",
       "19   4251.727698    2342.109091        37.593992              47.0   \n",
       "20   7338.413583    4063.081955        37.231016              46.0   \n",
       "21   8288.853232    5096.593741        38.960592              48.0   \n",
       "22   5555.837011    2988.873460        38.740953              48.0   \n",
       "23   5707.290636    2979.281631        36.148099              45.0   \n",
       "24     54.138898      63.829511        39.413070              49.0   \n",
       "25     57.427617      66.855239        41.577107              50.0   \n",
       "26     56.519794      67.056459        42.514956              52.0   \n",
       "27     49.319627      62.031385        40.108203              50.0   \n",
       "28     49.981795      63.709589        41.273284              51.0   \n",
       "29     47.283639      61.161895        40.098573              49.0   \n",
       "30     42.112770      51.803605        48.724590              59.0   \n",
       "31     40.291275      53.874045        46.448987              57.0   \n",
       "32     59.219751      51.673808        41.742624              52.0   \n",
       "33    124.804331      53.013111        46.764310              58.0   \n",
       "34     44.301913      54.175684        46.738743              58.0   \n",
       "35     64.820460      51.529801        42.550913              52.0   \n",
       "\n",
       "    mCherry-A_std  mCherry-A_mean  Fraction  Count   ZF43map   ZF43norm  \n",
       "0     7428.100218     3813.586645       1.0   1258  149.5584   6.774109  \n",
       "1     6207.593621     3522.806182       1.0   1197  149.5584   6.881088  \n",
       "2     8543.130448     4778.790972       1.0   1019  149.5584   7.221394  \n",
       "3     5677.283204     3454.199868       1.0   1511  149.5584   1.113255  \n",
       "4     6984.936388     3286.536090       1.0   1427  149.5584   1.225919  \n",
       "5     6934.241401     3994.539921       1.0   1265  149.5584   1.218939  \n",
       "6       37.508757       56.212589       1.0   6863  149.5584  11.189568  \n",
       "7       37.568343       56.729305       1.0   4965  149.5584  12.345699  \n",
       "8       36.982663       54.659950       1.0   4020  149.5584  12.973743  \n",
       "9       37.473222       56.071519       1.0   7117  149.5584   1.847528  \n",
       "10      36.973051       56.694429       1.0   3554  149.5584   2.042621  \n",
       "11      35.757516       53.102379       1.0   4288  149.5584   2.203997  \n",
       "12      37.018493       55.726420       1.0   1919  149.5584  63.093227  \n",
       "13      37.905592       58.138751       1.0   1009  149.5584  87.270753  \n",
       "14      37.751698       56.954180       1.0   2859  149.5584  93.204695  \n",
       "15      37.815702       54.601038       1.0   2504  149.5584   3.043193  \n",
       "16      34.247978       50.950104       1.0   1443  149.5584   3.828512  \n",
       "17      35.432012       52.298923       1.0   2228  149.5584   3.860471  \n",
       "18      53.956272       58.976390       1.0   4532  149.5584   5.220035  \n",
       "19      35.560699       52.245035       1.0   3575  149.5584   4.706191  \n",
       "20      36.458783       52.335589       1.0   3990  149.5584   4.681018  \n",
       "21      38.065066       53.994039       1.0   3355  149.5584   1.116698  \n",
       "22     178.454258       58.882419       1.0    893  149.5584   0.919220  \n",
       "23     500.141273       64.856662       1.0   2379  149.5584   0.964082  \n",
       "24      38.057830       54.923930       1.0   2616  149.5584   4.773069  \n",
       "25      38.503960       56.775288       1.0   1651  149.5584   6.737109  \n",
       "26      38.370892       57.943541       1.0   2214  149.5584   6.490488  \n",
       "27      39.305633       56.446970       1.0   1848  149.5584   1.251815  \n",
       "28      37.816890       56.633425       1.0   1825  149.5584   1.417394  \n",
       "29      36.871384       54.684107       1.0   1013  149.5584   1.275704  \n",
       "30     176.314561       76.422541       1.0  21747  149.5584   0.328795  \n",
       "31      42.758116       63.612967       1.0   9162  149.5584   0.487957  \n",
       "32      38.417916       57.467027       1.0   5368  149.5584   0.537516  \n",
       "33      41.201465       63.362338       1.0  26467  149.5584   0.290947  \n",
       "34      42.579136       63.918848       1.0   6876  149.5584   0.365161  \n",
       "35      38.788301       58.018146       1.0   7550  149.5584   0.365202  \n",
       "\n",
       "[36 rows x 24 columns]"
      ]
     },
     "metadata": {},
     "output_type": "display_data"
    },
    {
     "data": {
      "text/html": [
       "<div>\n",
       "<style scoped>\n",
       "    .dataframe tbody tr th:only-of-type {\n",
       "        vertical-align: middle;\n",
       "    }\n",
       "\n",
       "    .dataframe tbody tr th {\n",
       "        vertical-align: top;\n",
       "    }\n",
       "\n",
       "    .dataframe thead th {\n",
       "        text-align: right;\n",
       "    }\n",
       "</style>\n",
       "<table border=\"1\" class=\"dataframe\">\n",
       "  <thead>\n",
       "    <tr style=\"text-align: right;\">\n",
       "      <th></th>\n",
       "      <th>reporter.ZF.Cre</th>\n",
       "      <th>mGL-A_gmean_mean</th>\n",
       "      <th>ZF43norm_mean</th>\n",
       "      <th>Count</th>\n",
       "    </tr>\n",
       "  </thead>\n",
       "  <tbody>\n",
       "    <tr>\n",
       "      <th>0</th>\n",
       "      <td>203bp.ZF37-VP16.Cre</td>\n",
       "      <td>1040.756501</td>\n",
       "      <td>6.958864</td>\n",
       "      <td>3</td>\n",
       "    </tr>\n",
       "    <tr>\n",
       "      <th>1</th>\n",
       "      <td>203bp.ZF37-VP16.noCre</td>\n",
       "      <td>177.381878</td>\n",
       "      <td>1.186038</td>\n",
       "      <td>3</td>\n",
       "    </tr>\n",
       "    <tr>\n",
       "      <th>2</th>\n",
       "      <td>203bp.ZF37-VP64.Cre</td>\n",
       "      <td>1820.076370</td>\n",
       "      <td>12.169670</td>\n",
       "      <td>3</td>\n",
       "    </tr>\n",
       "    <tr>\n",
       "      <th>3</th>\n",
       "      <td>203bp.ZF37-VP64.noCre</td>\n",
       "      <td>303.810212</td>\n",
       "      <td>2.031382</td>\n",
       "      <td>3</td>\n",
       "    </tr>\n",
       "    <tr>\n",
       "      <th>4</th>\n",
       "      <td>203bp.ZF37-VPR.Cre</td>\n",
       "      <td>12142.580454</td>\n",
       "      <td>81.189558</td>\n",
       "      <td>3</td>\n",
       "    </tr>\n",
       "    <tr>\n",
       "      <th>5</th>\n",
       "      <td>203bp.ZF37-VPR.noCre</td>\n",
       "      <td>535.029002</td>\n",
       "      <td>3.577392</td>\n",
       "      <td>3</td>\n",
       "    </tr>\n",
       "    <tr>\n",
       "      <th>6</th>\n",
       "      <td>203bp.ZF43-VP16.Cre</td>\n",
       "      <td>728.212027</td>\n",
       "      <td>4.869081</td>\n",
       "      <td>3</td>\n",
       "    </tr>\n",
       "    <tr>\n",
       "      <th>7</th>\n",
       "      <td>203bp.ZF43-VP16.noCre</td>\n",
       "      <td>149.558400</td>\n",
       "      <td>1.000000</td>\n",
       "      <td>3</td>\n",
       "    </tr>\n",
       "    <tr>\n",
       "      <th>8</th>\n",
       "      <td>203bp.ZF43-VP64.Cre</td>\n",
       "      <td>897.383599</td>\n",
       "      <td>6.000222</td>\n",
       "      <td>3</td>\n",
       "    </tr>\n",
       "    <tr>\n",
       "      <th>9</th>\n",
       "      <td>203bp.ZF43-VP64.noCre</td>\n",
       "      <td>196.664935</td>\n",
       "      <td>1.314971</td>\n",
       "      <td>3</td>\n",
       "    </tr>\n",
       "    <tr>\n",
       "      <th>10</th>\n",
       "      <td>203bp.noZF.Cre</td>\n",
       "      <td>67.514044</td>\n",
       "      <td>0.451423</td>\n",
       "      <td>3</td>\n",
       "    </tr>\n",
       "    <tr>\n",
       "      <th>11</th>\n",
       "      <td>203bp.noZF.noCre</td>\n",
       "      <td>50.915141</td>\n",
       "      <td>0.340437</td>\n",
       "      <td>3</td>\n",
       "    </tr>\n",
       "    <tr>\n",
       "      <th>12</th>\n",
       "      <td>loxP control.ZF37-VP16.Cre</td>\n",
       "      <td>1832.443621</td>\n",
       "      <td>0.865790</td>\n",
       "      <td>3</td>\n",
       "    </tr>\n",
       "    <tr>\n",
       "      <th>13</th>\n",
       "      <td>loxP control.ZF37-VP16.noCre</td>\n",
       "      <td>3386.984999</td>\n",
       "      <td>1.600278</td>\n",
       "      <td>3</td>\n",
       "    </tr>\n",
       "    <tr>\n",
       "      <th>14</th>\n",
       "      <td>loxP control.ZF37-VP64.Cre</td>\n",
       "      <td>2922.748727</td>\n",
       "      <td>1.380936</td>\n",
       "      <td>3</td>\n",
       "    </tr>\n",
       "    <tr>\n",
       "      <th>15</th>\n",
       "      <td>loxP control.ZF37-VP64.noCre</td>\n",
       "      <td>4466.852903</td>\n",
       "      <td>2.110492</td>\n",
       "      <td>3</td>\n",
       "    </tr>\n",
       "    <tr>\n",
       "      <th>16</th>\n",
       "      <td>loxP control.ZF37-VPR.Cre</td>\n",
       "      <td>18835.715244</td>\n",
       "      <td>8.899471</td>\n",
       "      <td>3</td>\n",
       "    </tr>\n",
       "    <tr>\n",
       "      <th>17</th>\n",
       "      <td>loxP control.ZF37-VPR.noCre</td>\n",
       "      <td>37570.402274</td>\n",
       "      <td>17.751208</td>\n",
       "      <td>3</td>\n",
       "    </tr>\n",
       "    <tr>\n",
       "      <th>18</th>\n",
       "      <td>loxP control.ZF43-VP16.Cre</td>\n",
       "      <td>975.140144</td>\n",
       "      <td>0.460733</td>\n",
       "      <td>3</td>\n",
       "    </tr>\n",
       "    <tr>\n",
       "      <th>19</th>\n",
       "      <td>loxP control.ZF43-VP16.noCre</td>\n",
       "      <td>2116.498303</td>\n",
       "      <td>1.000000</td>\n",
       "      <td>3</td>\n",
       "    </tr>\n",
       "    <tr>\n",
       "      <th>20</th>\n",
       "      <td>loxP control.ZF43-VP64.Cre</td>\n",
       "      <td>1247.318506</td>\n",
       "      <td>0.589331</td>\n",
       "      <td>3</td>\n",
       "    </tr>\n",
       "    <tr>\n",
       "      <th>21</th>\n",
       "      <td>loxP control.ZF43-VP64.noCre</td>\n",
       "      <td>2736.594348</td>\n",
       "      <td>1.292982</td>\n",
       "      <td>3</td>\n",
       "    </tr>\n",
       "    <tr>\n",
       "      <th>22</th>\n",
       "      <td>loxP control.noZF.Cre</td>\n",
       "      <td>72.484572</td>\n",
       "      <td>0.034247</td>\n",
       "      <td>3</td>\n",
       "    </tr>\n",
       "    <tr>\n",
       "      <th>23</th>\n",
       "      <td>loxP control.noZF.noCre</td>\n",
       "      <td>56.857187</td>\n",
       "      <td>0.026864</td>\n",
       "      <td>3</td>\n",
       "    </tr>\n",
       "  </tbody>\n",
       "</table>\n",
       "</div>"
      ],
      "text/plain": [
       "                 reporter.ZF.Cre  mGL-A_gmean_mean  ZF43norm_mean  Count\n",
       "0            203bp.ZF37-VP16.Cre       1040.756501       6.958864      3\n",
       "1          203bp.ZF37-VP16.noCre        177.381878       1.186038      3\n",
       "2            203bp.ZF37-VP64.Cre       1820.076370      12.169670      3\n",
       "3          203bp.ZF37-VP64.noCre        303.810212       2.031382      3\n",
       "4             203bp.ZF37-VPR.Cre      12142.580454      81.189558      3\n",
       "5           203bp.ZF37-VPR.noCre        535.029002       3.577392      3\n",
       "6            203bp.ZF43-VP16.Cre        728.212027       4.869081      3\n",
       "7          203bp.ZF43-VP16.noCre        149.558400       1.000000      3\n",
       "8            203bp.ZF43-VP64.Cre        897.383599       6.000222      3\n",
       "9          203bp.ZF43-VP64.noCre        196.664935       1.314971      3\n",
       "10                203bp.noZF.Cre         67.514044       0.451423      3\n",
       "11              203bp.noZF.noCre         50.915141       0.340437      3\n",
       "12    loxP control.ZF37-VP16.Cre       1832.443621       0.865790      3\n",
       "13  loxP control.ZF37-VP16.noCre       3386.984999       1.600278      3\n",
       "14    loxP control.ZF37-VP64.Cre       2922.748727       1.380936      3\n",
       "15  loxP control.ZF37-VP64.noCre       4466.852903       2.110492      3\n",
       "16     loxP control.ZF37-VPR.Cre      18835.715244       8.899471      3\n",
       "17   loxP control.ZF37-VPR.noCre      37570.402274      17.751208      3\n",
       "18    loxP control.ZF43-VP16.Cre        975.140144       0.460733      3\n",
       "19  loxP control.ZF43-VP16.noCre       2116.498303       1.000000      3\n",
       "20    loxP control.ZF43-VP64.Cre       1247.318506       0.589331      3\n",
       "21  loxP control.ZF43-VP64.noCre       2736.594348       1.292982      3\n",
       "22         loxP control.noZF.Cre         72.484572       0.034247      3\n",
       "23       loxP control.noZF.noCre         56.857187       0.026864      3"
      ]
     },
     "metadata": {},
     "output_type": "display_data"
    }
   ],
   "source": [
    "df = data_iRFP670gated[data_iRFP670gated['bioreplicate'].isin(bioreplicates_original)] #choose dataframe\n",
    "by = ['reporter', 'ZF', 'Cre','reporter.ZF.Cre', 'ZF.Cre', 'reporter.ZF', 'reporter.ZF.bioreplicate','bioreplicate'] #how to filter results, columns \n",
    "x = ['mGL-A', 'TagBFP-A','mCherry-A'] #which parameter to calculate results on\n",
    "stat = [sp.stats.gmean, np.median, np.std, np.mean] #statistics to calculate\n",
    "s_bioreplicate = calc_stats(df,by,x,stat) #calculate statistics \n",
    "ZF43map = {'203bp':s_bioreplicate[s_bioreplicate['reporter.ZF.Cre']=='203bp.ZF43-VP16.noCre']['mGL-A_gmean'].mean(),\n",
    "           'loxP control':s_bioreplicate[s_bioreplicate['reporter.ZF.Cre']=='loxP control.ZF43-VP16.noCre']['mGL-A_gmean'].mean(),}\n",
    "s_bioreplicate['ZF43map'] = s_bioreplicate['reporter'].map(ZF43map)\n",
    "s_bioreplicate['ZF43norm'] = s_bioreplicate['mGL-A_gmean'] /s_bioreplicate['ZF43map'] \n",
    "display(s_bioreplicate[s_bioreplicate['reporter']=='203bp']) #display results, use for troublshooting\n",
    "s_bioreplicate[['reporter.ZF.Cre','mGL-A_gmean','mCherry-A_gmean','TagBFP-A_gmean','ZF43norm']].to_excel('Fig1F_S5E_S5F_ZFa-panel.xlsx',index=False)\n",
    "\n",
    "\n",
    "df = s_bioreplicate #choose dataframe\n",
    "by = ['reporter.ZF.Cre'] #how to filter results, columns \n",
    "x = ['mGL-A_gmean','ZF43norm'] #which parameter to calculate results on\n",
    "stat = [np.mean] #statistics to calculate\n",
    "s_bioreplicate_means = calc_stats(df,by,x,stat) #calculate statistics \n",
    "display(s_bioreplicate_means) #display results, use for troublshooting"
   ]
  },
  {
   "cell_type": "code",
   "execution_count": 21,
   "metadata": {},
   "outputs": [
    {
     "data": {
      "text/html": [
       "<div>\n",
       "<style scoped>\n",
       "    .dataframe tbody tr th:only-of-type {\n",
       "        vertical-align: middle;\n",
       "    }\n",
       "\n",
       "    .dataframe tbody tr th {\n",
       "        vertical-align: top;\n",
       "    }\n",
       "\n",
       "    .dataframe thead th {\n",
       "        text-align: right;\n",
       "    }\n",
       "</style>\n",
       "<table border=\"1\" class=\"dataframe\">\n",
       "  <thead>\n",
       "    <tr style=\"text-align: right;\">\n",
       "      <th></th>\n",
       "      <th>reporter</th>\n",
       "      <th>ZF</th>\n",
       "      <th>Cre</th>\n",
       "      <th>reporter.ZF.Cre</th>\n",
       "      <th>ZF.Cre</th>\n",
       "      <th>reporter.ZF</th>\n",
       "      <th>reporter.ZF.bioreplicate</th>\n",
       "      <th>bioreplicate</th>\n",
       "      <th>mGL-A_gmean</th>\n",
       "      <th>mGL-A_median</th>\n",
       "      <th>...</th>\n",
       "      <th>TagBFP-A_std</th>\n",
       "      <th>TagBFP-A_mean</th>\n",
       "      <th>mCherry-A_gmean</th>\n",
       "      <th>mCherry-A_median</th>\n",
       "      <th>mCherry-A_std</th>\n",
       "      <th>mCherry-A_mean</th>\n",
       "      <th>Fraction</th>\n",
       "      <th>Count</th>\n",
       "      <th>ZF43map</th>\n",
       "      <th>ZF43norm</th>\n",
       "    </tr>\n",
       "  </thead>\n",
       "  <tbody>\n",
       "    <tr>\n",
       "      <th>0</th>\n",
       "      <td>203bp</td>\n",
       "      <td>ZF37-VP16</td>\n",
       "      <td>Cre</td>\n",
       "      <td>203bp.ZF37-VP16.Cre</td>\n",
       "      <td>ZF37-VP16.Cre</td>\n",
       "      <td>203bp.ZF37-VP16</td>\n",
       "      <td>203bp.ZF37-VP16.20240604flow_exp20240601_diffZ...</td>\n",
       "      <td>20240604flow_exp20240601_diffZFa_p1</td>\n",
       "      <td>1013.124934</td>\n",
       "      <td>1216.5</td>\n",
       "      <td>...</td>\n",
       "      <td>44.820447</td>\n",
       "      <td>55.341017</td>\n",
       "      <td>1762.995533</td>\n",
       "      <td>1511.0</td>\n",
       "      <td>7428.100218</td>\n",
       "      <td>3813.586645</td>\n",
       "      <td>1.0</td>\n",
       "      <td>1258</td>\n",
       "      <td>386.729436</td>\n",
       "      <td>2.619725</td>\n",
       "    </tr>\n",
       "    <tr>\n",
       "      <th>1</th>\n",
       "      <td>203bp</td>\n",
       "      <td>ZF37-VP16</td>\n",
       "      <td>Cre</td>\n",
       "      <td>203bp.ZF37-VP16.Cre</td>\n",
       "      <td>ZF37-VP16.Cre</td>\n",
       "      <td>203bp.ZF37-VP16</td>\n",
       "      <td>203bp.ZF37-VP16.20240604flow_exp20240601_diffZ...</td>\n",
       "      <td>20240604flow_exp20240601_diffZFa_p2</td>\n",
       "      <td>1029.124452</td>\n",
       "      <td>1348.0</td>\n",
       "      <td>...</td>\n",
       "      <td>40.787427</td>\n",
       "      <td>52.162072</td>\n",
       "      <td>1768.018330</td>\n",
       "      <td>1613.0</td>\n",
       "      <td>6207.593621</td>\n",
       "      <td>3522.806182</td>\n",
       "      <td>1.0</td>\n",
       "      <td>1197</td>\n",
       "      <td>386.729436</td>\n",
       "      <td>2.661097</td>\n",
       "    </tr>\n",
       "    <tr>\n",
       "      <th>2</th>\n",
       "      <td>203bp</td>\n",
       "      <td>ZF37-VP16</td>\n",
       "      <td>Cre</td>\n",
       "      <td>203bp.ZF37-VP16.Cre</td>\n",
       "      <td>ZF37-VP16.Cre</td>\n",
       "      <td>203bp.ZF37-VP16</td>\n",
       "      <td>203bp.ZF37-VP16.20240604flow_exp20240601_diffZ...</td>\n",
       "      <td>20240604flow_exp20240601_diffZFa_p3</td>\n",
       "      <td>1080.020117</td>\n",
       "      <td>1362.0</td>\n",
       "      <td>...</td>\n",
       "      <td>47.626201</td>\n",
       "      <td>57.057900</td>\n",
       "      <td>2139.169008</td>\n",
       "      <td>1814.0</td>\n",
       "      <td>8543.130448</td>\n",
       "      <td>4778.790972</td>\n",
       "      <td>1.0</td>\n",
       "      <td>1019</td>\n",
       "      <td>386.729436</td>\n",
       "      <td>2.792702</td>\n",
       "    </tr>\n",
       "    <tr>\n",
       "      <th>3</th>\n",
       "      <td>203bp</td>\n",
       "      <td>ZF37-VP16</td>\n",
       "      <td>Cre</td>\n",
       "      <td>203bp.ZF37-VP16.Cre</td>\n",
       "      <td>ZF37-VP16.Cre</td>\n",
       "      <td>203bp.ZF37-VP16</td>\n",
       "      <td>203bp.ZF37-VP16.20250117_ZFtypes-test</td>\n",
       "      <td>20250117_ZFtypes-test</td>\n",
       "      <td>7964.234071</td>\n",
       "      <td>7876.0</td>\n",
       "      <td>...</td>\n",
       "      <td>57.938126</td>\n",
       "      <td>65.157280</td>\n",
       "      <td>1508.710407</td>\n",
       "      <td>1374.0</td>\n",
       "      <td>5181.027483</td>\n",
       "      <td>3200.536362</td>\n",
       "      <td>1.0</td>\n",
       "      <td>6339</td>\n",
       "      <td>386.729436</td>\n",
       "      <td>20.593814</td>\n",
       "    </tr>\n",
       "    <tr>\n",
       "      <th>4</th>\n",
       "      <td>203bp</td>\n",
       "      <td>ZF37-VP16</td>\n",
       "      <td>Cre</td>\n",
       "      <td>203bp.ZF37-VP16.Cre</td>\n",
       "      <td>ZF37-VP16.Cre</td>\n",
       "      <td>203bp.ZF37-VP16</td>\n",
       "      <td>203bp.ZF37-VP16.20250127_ZFtypes_twoplates_p1</td>\n",
       "      <td>20250127_ZFtypes_twoplates_p1</td>\n",
       "      <td>8227.773978</td>\n",
       "      <td>8329.5</td>\n",
       "      <td>...</td>\n",
       "      <td>46.027364</td>\n",
       "      <td>58.137774</td>\n",
       "      <td>2098.957292</td>\n",
       "      <td>1958.5</td>\n",
       "      <td>7088.770294</td>\n",
       "      <td>4253.142222</td>\n",
       "      <td>1.0</td>\n",
       "      <td>8318</td>\n",
       "      <td>386.729436</td>\n",
       "      <td>21.275272</td>\n",
       "    </tr>\n",
       "    <tr>\n",
       "      <th>...</th>\n",
       "      <td>...</td>\n",
       "      <td>...</td>\n",
       "      <td>...</td>\n",
       "      <td>...</td>\n",
       "      <td>...</td>\n",
       "      <td>...</td>\n",
       "      <td>...</td>\n",
       "      <td>...</td>\n",
       "      <td>...</td>\n",
       "      <td>...</td>\n",
       "      <td>...</td>\n",
       "      <td>...</td>\n",
       "      <td>...</td>\n",
       "      <td>...</td>\n",
       "      <td>...</td>\n",
       "      <td>...</td>\n",
       "      <td>...</td>\n",
       "      <td>...</td>\n",
       "      <td>...</td>\n",
       "      <td>...</td>\n",
       "      <td>...</td>\n",
       "    </tr>\n",
       "    <tr>\n",
       "      <th>91</th>\n",
       "      <td>203bp</td>\n",
       "      <td>noZF</td>\n",
       "      <td>noCre</td>\n",
       "      <td>203bp.noZF.noCre</td>\n",
       "      <td>noZF.noCre</td>\n",
       "      <td>203bp.noZF</td>\n",
       "      <td>203bp.noZF.20250127_ZFtypes_twoplates_p1</td>\n",
       "      <td>20250127_ZFtypes_twoplates_p1</td>\n",
       "      <td>56.248752</td>\n",
       "      <td>69.0</td>\n",
       "      <td>...</td>\n",
       "      <td>51.001782</td>\n",
       "      <td>65.005826</td>\n",
       "      <td>52.389714</td>\n",
       "      <td>64.0</td>\n",
       "      <td>55.996200</td>\n",
       "      <td>73.411069</td>\n",
       "      <td>1.0</td>\n",
       "      <td>5836</td>\n",
       "      <td>386.729436</td>\n",
       "      <td>0.145447</td>\n",
       "    </tr>\n",
       "    <tr>\n",
       "      <th>92</th>\n",
       "      <td>203bp</td>\n",
       "      <td>noZF</td>\n",
       "      <td>noCre</td>\n",
       "      <td>203bp.noZF.noCre</td>\n",
       "      <td>noZF.noCre</td>\n",
       "      <td>203bp.noZF</td>\n",
       "      <td>203bp.noZF.20250127_ZFtypes_twoplates_p2</td>\n",
       "      <td>20250127_ZFtypes_twoplates_p2</td>\n",
       "      <td>56.159601</td>\n",
       "      <td>68.0</td>\n",
       "      <td>...</td>\n",
       "      <td>51.588506</td>\n",
       "      <td>68.498243</td>\n",
       "      <td>54.102267</td>\n",
       "      <td>67.0</td>\n",
       "      <td>50.861094</td>\n",
       "      <td>75.152495</td>\n",
       "      <td>1.0</td>\n",
       "      <td>1423</td>\n",
       "      <td>386.729436</td>\n",
       "      <td>0.145217</td>\n",
       "    </tr>\n",
       "    <tr>\n",
       "      <th>93</th>\n",
       "      <td>203bp</td>\n",
       "      <td>noZF</td>\n",
       "      <td>noCre</td>\n",
       "      <td>203bp.noZF.noCre</td>\n",
       "      <td>noZF.noCre</td>\n",
       "      <td>203bp.noZF</td>\n",
       "      <td>203bp.noZF.20250829_diffZFa_p1</td>\n",
       "      <td>20250829_diffZFa_p1</td>\n",
       "      <td>37.955507</td>\n",
       "      <td>46.0</td>\n",
       "      <td>...</td>\n",
       "      <td>38.847701</td>\n",
       "      <td>53.184943</td>\n",
       "      <td>37.245574</td>\n",
       "      <td>47.0</td>\n",
       "      <td>36.661832</td>\n",
       "      <td>52.785597</td>\n",
       "      <td>1.0</td>\n",
       "      <td>2444</td>\n",
       "      <td>386.729436</td>\n",
       "      <td>0.098145</td>\n",
       "    </tr>\n",
       "    <tr>\n",
       "      <th>94</th>\n",
       "      <td>203bp</td>\n",
       "      <td>noZF</td>\n",
       "      <td>noCre</td>\n",
       "      <td>203bp.noZF.noCre</td>\n",
       "      <td>noZF.noCre</td>\n",
       "      <td>203bp.noZF</td>\n",
       "      <td>203bp.noZF.20250901_diffZFa_p1</td>\n",
       "      <td>20250901_diffZFa_p1</td>\n",
       "      <td>39.461734</td>\n",
       "      <td>47.0</td>\n",
       "      <td>...</td>\n",
       "      <td>36.281718</td>\n",
       "      <td>50.375184</td>\n",
       "      <td>30.947120</td>\n",
       "      <td>38.0</td>\n",
       "      <td>31.428845</td>\n",
       "      <td>43.994126</td>\n",
       "      <td>1.0</td>\n",
       "      <td>2724</td>\n",
       "      <td>386.729436</td>\n",
       "      <td>0.102040</td>\n",
       "    </tr>\n",
       "    <tr>\n",
       "      <th>95</th>\n",
       "      <td>203bp</td>\n",
       "      <td>noZF</td>\n",
       "      <td>noCre</td>\n",
       "      <td>203bp.noZF.noCre</td>\n",
       "      <td>noZF.noCre</td>\n",
       "      <td>203bp.noZF</td>\n",
       "      <td>203bp.noZF.20250901_diffZFa_p2</td>\n",
       "      <td>20250901_diffZFa_p2</td>\n",
       "      <td>37.428377</td>\n",
       "      <td>46.0</td>\n",
       "      <td>...</td>\n",
       "      <td>37.217247</td>\n",
       "      <td>49.841170</td>\n",
       "      <td>30.855882</td>\n",
       "      <td>39.0</td>\n",
       "      <td>30.914797</td>\n",
       "      <td>43.693051</td>\n",
       "      <td>1.0</td>\n",
       "      <td>3828</td>\n",
       "      <td>386.729436</td>\n",
       "      <td>0.096782</td>\n",
       "    </tr>\n",
       "  </tbody>\n",
       "</table>\n",
       "<p>96 rows × 24 columns</p>\n",
       "</div>"
      ],
      "text/plain": [
       "   reporter         ZF    Cre      reporter.ZF.Cre         ZF.Cre  \\\n",
       "0     203bp  ZF37-VP16    Cre  203bp.ZF37-VP16.Cre  ZF37-VP16.Cre   \n",
       "1     203bp  ZF37-VP16    Cre  203bp.ZF37-VP16.Cre  ZF37-VP16.Cre   \n",
       "2     203bp  ZF37-VP16    Cre  203bp.ZF37-VP16.Cre  ZF37-VP16.Cre   \n",
       "3     203bp  ZF37-VP16    Cre  203bp.ZF37-VP16.Cre  ZF37-VP16.Cre   \n",
       "4     203bp  ZF37-VP16    Cre  203bp.ZF37-VP16.Cre  ZF37-VP16.Cre   \n",
       "..      ...        ...    ...                  ...            ...   \n",
       "91    203bp       noZF  noCre     203bp.noZF.noCre     noZF.noCre   \n",
       "92    203bp       noZF  noCre     203bp.noZF.noCre     noZF.noCre   \n",
       "93    203bp       noZF  noCre     203bp.noZF.noCre     noZF.noCre   \n",
       "94    203bp       noZF  noCre     203bp.noZF.noCre     noZF.noCre   \n",
       "95    203bp       noZF  noCre     203bp.noZF.noCre     noZF.noCre   \n",
       "\n",
       "        reporter.ZF                           reporter.ZF.bioreplicate  \\\n",
       "0   203bp.ZF37-VP16  203bp.ZF37-VP16.20240604flow_exp20240601_diffZ...   \n",
       "1   203bp.ZF37-VP16  203bp.ZF37-VP16.20240604flow_exp20240601_diffZ...   \n",
       "2   203bp.ZF37-VP16  203bp.ZF37-VP16.20240604flow_exp20240601_diffZ...   \n",
       "3   203bp.ZF37-VP16              203bp.ZF37-VP16.20250117_ZFtypes-test   \n",
       "4   203bp.ZF37-VP16      203bp.ZF37-VP16.20250127_ZFtypes_twoplates_p1   \n",
       "..              ...                                                ...   \n",
       "91       203bp.noZF           203bp.noZF.20250127_ZFtypes_twoplates_p1   \n",
       "92       203bp.noZF           203bp.noZF.20250127_ZFtypes_twoplates_p2   \n",
       "93       203bp.noZF                     203bp.noZF.20250829_diffZFa_p1   \n",
       "94       203bp.noZF                     203bp.noZF.20250901_diffZFa_p1   \n",
       "95       203bp.noZF                     203bp.noZF.20250901_diffZFa_p2   \n",
       "\n",
       "                           bioreplicate  mGL-A_gmean  mGL-A_median  ...  \\\n",
       "0   20240604flow_exp20240601_diffZFa_p1  1013.124934        1216.5  ...   \n",
       "1   20240604flow_exp20240601_diffZFa_p2  1029.124452        1348.0  ...   \n",
       "2   20240604flow_exp20240601_diffZFa_p3  1080.020117        1362.0  ...   \n",
       "3                 20250117_ZFtypes-test  7964.234071        7876.0  ...   \n",
       "4         20250127_ZFtypes_twoplates_p1  8227.773978        8329.5  ...   \n",
       "..                                  ...          ...           ...  ...   \n",
       "91        20250127_ZFtypes_twoplates_p1    56.248752          69.0  ...   \n",
       "92        20250127_ZFtypes_twoplates_p2    56.159601          68.0  ...   \n",
       "93                  20250829_diffZFa_p1    37.955507          46.0  ...   \n",
       "94                  20250901_diffZFa_p1    39.461734          47.0  ...   \n",
       "95                  20250901_diffZFa_p2    37.428377          46.0  ...   \n",
       "\n",
       "    TagBFP-A_std  TagBFP-A_mean  mCherry-A_gmean  mCherry-A_median  \\\n",
       "0      44.820447      55.341017      1762.995533            1511.0   \n",
       "1      40.787427      52.162072      1768.018330            1613.0   \n",
       "2      47.626201      57.057900      2139.169008            1814.0   \n",
       "3      57.938126      65.157280      1508.710407            1374.0   \n",
       "4      46.027364      58.137774      2098.957292            1958.5   \n",
       "..           ...            ...              ...               ...   \n",
       "91     51.001782      65.005826        52.389714              64.0   \n",
       "92     51.588506      68.498243        54.102267              67.0   \n",
       "93     38.847701      53.184943        37.245574              47.0   \n",
       "94     36.281718      50.375184        30.947120              38.0   \n",
       "95     37.217247      49.841170        30.855882              39.0   \n",
       "\n",
       "    mCherry-A_std  mCherry-A_mean  Fraction  Count     ZF43map   ZF43norm  \n",
       "0     7428.100218     3813.586645       1.0   1258  386.729436   2.619725  \n",
       "1     6207.593621     3522.806182       1.0   1197  386.729436   2.661097  \n",
       "2     8543.130448     4778.790972       1.0   1019  386.729436   2.792702  \n",
       "3     5181.027483     3200.536362       1.0   6339  386.729436  20.593814  \n",
       "4     7088.770294     4253.142222       1.0   8318  386.729436  21.275272  \n",
       "..            ...             ...       ...    ...         ...        ...  \n",
       "91      55.996200       73.411069       1.0   5836  386.729436   0.145447  \n",
       "92      50.861094       75.152495       1.0   1423  386.729436   0.145217  \n",
       "93      36.661832       52.785597       1.0   2444  386.729436   0.098145  \n",
       "94      31.428845       43.994126       1.0   2724  386.729436   0.102040  \n",
       "95      30.914797       43.693051       1.0   3828  386.729436   0.096782  \n",
       "\n",
       "[96 rows x 24 columns]"
      ]
     },
     "metadata": {},
     "output_type": "display_data"
    },
    {
     "data": {
      "text/html": [
       "<div>\n",
       "<style scoped>\n",
       "    .dataframe tbody tr th:only-of-type {\n",
       "        vertical-align: middle;\n",
       "    }\n",
       "\n",
       "    .dataframe tbody tr th {\n",
       "        vertical-align: top;\n",
       "    }\n",
       "\n",
       "    .dataframe thead th {\n",
       "        text-align: right;\n",
       "    }\n",
       "</style>\n",
       "<table border=\"1\" class=\"dataframe\">\n",
       "  <thead>\n",
       "    <tr style=\"text-align: right;\">\n",
       "      <th></th>\n",
       "      <th>reporter.ZF.Cre</th>\n",
       "      <th>mGL-A_gmean_mean</th>\n",
       "      <th>ZF43norm_mean</th>\n",
       "      <th>Count</th>\n",
       "    </tr>\n",
       "  </thead>\n",
       "  <tbody>\n",
       "    <tr>\n",
       "      <th>0</th>\n",
       "      <td>203bp.ZF37-VP16.Cre</td>\n",
       "      <td>3485.362962</td>\n",
       "      <td>9.012407</td>\n",
       "      <td>9</td>\n",
       "    </tr>\n",
       "    <tr>\n",
       "      <th>1</th>\n",
       "      <td>203bp.ZF37-VP16.noCre</td>\n",
       "      <td>450.171354</td>\n",
       "      <td>1.164047</td>\n",
       "      <td>9</td>\n",
       "    </tr>\n",
       "    <tr>\n",
       "      <th>2</th>\n",
       "      <td>203bp.ZF37-VP64.Cre</td>\n",
       "      <td>3002.845366</td>\n",
       "      <td>7.764719</td>\n",
       "      <td>6</td>\n",
       "    </tr>\n",
       "    <tr>\n",
       "      <th>3</th>\n",
       "      <td>203bp.ZF37-VP64.noCre</td>\n",
       "      <td>593.630125</td>\n",
       "      <td>1.535001</td>\n",
       "      <td>6</td>\n",
       "    </tr>\n",
       "    <tr>\n",
       "      <th>4</th>\n",
       "      <td>203bp.ZF37-VPR.Cre</td>\n",
       "      <td>22082.831506</td>\n",
       "      <td>57.101502</td>\n",
       "      <td>9</td>\n",
       "    </tr>\n",
       "    <tr>\n",
       "      <th>5</th>\n",
       "      <td>203bp.ZF37-VPR.noCre</td>\n",
       "      <td>1454.966169</td>\n",
       "      <td>3.762233</td>\n",
       "      <td>9</td>\n",
       "    </tr>\n",
       "    <tr>\n",
       "      <th>6</th>\n",
       "      <td>203bp.ZF43-VP16.Cre</td>\n",
       "      <td>1514.510789</td>\n",
       "      <td>3.916203</td>\n",
       "      <td>9</td>\n",
       "    </tr>\n",
       "    <tr>\n",
       "      <th>7</th>\n",
       "      <td>203bp.ZF43-VP16.noCre</td>\n",
       "      <td>386.729436</td>\n",
       "      <td>1.000000</td>\n",
       "      <td>9</td>\n",
       "    </tr>\n",
       "    <tr>\n",
       "      <th>8</th>\n",
       "      <td>203bp.ZF43-VP64.Cre</td>\n",
       "      <td>1200.555817</td>\n",
       "      <td>3.104382</td>\n",
       "      <td>6</td>\n",
       "    </tr>\n",
       "    <tr>\n",
       "      <th>9</th>\n",
       "      <td>203bp.ZF43-VP64.noCre</td>\n",
       "      <td>473.719574</td>\n",
       "      <td>1.224938</td>\n",
       "      <td>6</td>\n",
       "    </tr>\n",
       "    <tr>\n",
       "      <th>10</th>\n",
       "      <td>203bp.noZF.Cre</td>\n",
       "      <td>64.182876</td>\n",
       "      <td>0.165963</td>\n",
       "      <td>9</td>\n",
       "    </tr>\n",
       "    <tr>\n",
       "      <th>11</th>\n",
       "      <td>203bp.noZF.noCre</td>\n",
       "      <td>47.744723</td>\n",
       "      <td>0.123458</td>\n",
       "      <td>9</td>\n",
       "    </tr>\n",
       "    <tr>\n",
       "      <th>12</th>\n",
       "      <td>loxP control.ZF37-VP16.Cre</td>\n",
       "      <td>1857.874477</td>\n",
       "      <td>0.802317</td>\n",
       "      <td>6</td>\n",
       "    </tr>\n",
       "    <tr>\n",
       "      <th>13</th>\n",
       "      <td>loxP control.ZF37-VP16.noCre</td>\n",
       "      <td>3762.887004</td>\n",
       "      <td>1.624990</td>\n",
       "      <td>6</td>\n",
       "    </tr>\n",
       "    <tr>\n",
       "      <th>14</th>\n",
       "      <td>loxP control.ZF37-VP64.Cre</td>\n",
       "      <td>3997.521831</td>\n",
       "      <td>1.726316</td>\n",
       "      <td>6</td>\n",
       "    </tr>\n",
       "    <tr>\n",
       "      <th>15</th>\n",
       "      <td>loxP control.ZF37-VP64.noCre</td>\n",
       "      <td>7008.280680</td>\n",
       "      <td>3.026502</td>\n",
       "      <td>6</td>\n",
       "    </tr>\n",
       "    <tr>\n",
       "      <th>16</th>\n",
       "      <td>loxP control.ZF37-VPR.Cre</td>\n",
       "      <td>25671.097089</td>\n",
       "      <td>11.085974</td>\n",
       "      <td>6</td>\n",
       "    </tr>\n",
       "    <tr>\n",
       "      <th>17</th>\n",
       "      <td>loxP control.ZF37-VPR.noCre</td>\n",
       "      <td>44110.943251</td>\n",
       "      <td>19.049157</td>\n",
       "      <td>6</td>\n",
       "    </tr>\n",
       "    <tr>\n",
       "      <th>18</th>\n",
       "      <td>loxP control.ZF43-VP16.Cre</td>\n",
       "      <td>1079.319915</td>\n",
       "      <td>0.466101</td>\n",
       "      <td>6</td>\n",
       "    </tr>\n",
       "    <tr>\n",
       "      <th>19</th>\n",
       "      <td>loxP control.ZF43-VP16.noCre</td>\n",
       "      <td>2315.637578</td>\n",
       "      <td>1.000000</td>\n",
       "      <td>6</td>\n",
       "    </tr>\n",
       "    <tr>\n",
       "      <th>20</th>\n",
       "      <td>loxP control.ZF43-VP64.Cre</td>\n",
       "      <td>1587.520732</td>\n",
       "      <td>0.685565</td>\n",
       "      <td>6</td>\n",
       "    </tr>\n",
       "    <tr>\n",
       "      <th>21</th>\n",
       "      <td>loxP control.ZF43-VP64.noCre</td>\n",
       "      <td>3488.706731</td>\n",
       "      <td>1.506586</td>\n",
       "      <td>6</td>\n",
       "    </tr>\n",
       "    <tr>\n",
       "      <th>22</th>\n",
       "      <td>loxP control.noZF.Cre</td>\n",
       "      <td>59.240009</td>\n",
       "      <td>0.025583</td>\n",
       "      <td>6</td>\n",
       "    </tr>\n",
       "    <tr>\n",
       "      <th>23</th>\n",
       "      <td>loxP control.noZF.noCre</td>\n",
       "      <td>50.403486</td>\n",
       "      <td>0.021767</td>\n",
       "      <td>6</td>\n",
       "    </tr>\n",
       "  </tbody>\n",
       "</table>\n",
       "</div>"
      ],
      "text/plain": [
       "                 reporter.ZF.Cre  mGL-A_gmean_mean  ZF43norm_mean  Count\n",
       "0            203bp.ZF37-VP16.Cre       3485.362962       9.012407      9\n",
       "1          203bp.ZF37-VP16.noCre        450.171354       1.164047      9\n",
       "2            203bp.ZF37-VP64.Cre       3002.845366       7.764719      6\n",
       "3          203bp.ZF37-VP64.noCre        593.630125       1.535001      6\n",
       "4             203bp.ZF37-VPR.Cre      22082.831506      57.101502      9\n",
       "5           203bp.ZF37-VPR.noCre       1454.966169       3.762233      9\n",
       "6            203bp.ZF43-VP16.Cre       1514.510789       3.916203      9\n",
       "7          203bp.ZF43-VP16.noCre        386.729436       1.000000      9\n",
       "8            203bp.ZF43-VP64.Cre       1200.555817       3.104382      6\n",
       "9          203bp.ZF43-VP64.noCre        473.719574       1.224938      6\n",
       "10                203bp.noZF.Cre         64.182876       0.165963      9\n",
       "11              203bp.noZF.noCre         47.744723       0.123458      9\n",
       "12    loxP control.ZF37-VP16.Cre       1857.874477       0.802317      6\n",
       "13  loxP control.ZF37-VP16.noCre       3762.887004       1.624990      6\n",
       "14    loxP control.ZF37-VP64.Cre       3997.521831       1.726316      6\n",
       "15  loxP control.ZF37-VP64.noCre       7008.280680       3.026502      6\n",
       "16     loxP control.ZF37-VPR.Cre      25671.097089      11.085974      6\n",
       "17   loxP control.ZF37-VPR.noCre      44110.943251      19.049157      6\n",
       "18    loxP control.ZF43-VP16.Cre       1079.319915       0.466101      6\n",
       "19  loxP control.ZF43-VP16.noCre       2315.637578       1.000000      6\n",
       "20    loxP control.ZF43-VP64.Cre       1587.520732       0.685565      6\n",
       "21  loxP control.ZF43-VP64.noCre       3488.706731       1.506586      6\n",
       "22         loxP control.noZF.Cre         59.240009       0.025583      6\n",
       "23       loxP control.noZF.noCre         50.403486       0.021767      6"
      ]
     },
     "metadata": {},
     "output_type": "display_data"
    }
   ],
   "source": [
    "# Summary stats with all the new bioreps\n",
    "\n",
    "df = data_iRFP670gated\n",
    "by = ['reporter', 'ZF', 'Cre','reporter.ZF.Cre', 'ZF.Cre', 'reporter.ZF', 'reporter.ZF.bioreplicate','bioreplicate'] #how to filter results, columns \n",
    "x = ['mGL-A', 'TagBFP-A','mCherry-A'] #which parameter to calculate results on\n",
    "stat = [sp.stats.gmean, np.median, np.std, np.mean] #statistics to calculate\n",
    "s_bioreplicate2 = calc_stats(df,by,x,stat) #calculate statistics \n",
    "ZF43map = {'203bp':s_bioreplicate2[s_bioreplicate2['reporter.ZF.Cre']=='203bp.ZF43-VP16.noCre']['mGL-A_gmean'].mean(),\n",
    "           'loxP control':s_bioreplicate2[s_bioreplicate2['reporter.ZF.Cre']=='loxP control.ZF43-VP16.noCre']['mGL-A_gmean'].mean(),}\n",
    "s_bioreplicate2['ZF43map'] = s_bioreplicate2['reporter'].map(ZF43map)\n",
    "s_bioreplicate2['ZF43norm'] = s_bioreplicate2['mGL-A_gmean'] /s_bioreplicate2['ZF43map'] \n",
    "display(s_bioreplicate2[s_bioreplicate2['reporter']=='203bp']) #display results, use for troublshooting\n",
    "\n",
    "df = s_bioreplicate2 #choose dataframe\n",
    "by = ['reporter.ZF.Cre'] #how to filter results, columns \n",
    "x = ['mGL-A_gmean','ZF43norm'] #which parameter to calculate results on\n",
    "stat = [np.mean] #statistics to calculate\n",
    "s_bioreplicate2_means = calc_stats(df,by,x,stat) #calculate statistics \n",
    "display(s_bioreplicate2_means) #display results, use for troublshooting"
   ]
  },
  {
   "cell_type": "markdown",
   "metadata": {},
   "source": [
    "# Plots"
   ]
  },
  {
   "cell_type": "markdown",
   "metadata": {},
   "source": [
    "## Summary Plot per Reporter - Fig 1 and relevant supplements"
   ]
  },
  {
   "cell_type": "markdown",
   "metadata": {},
   "source": [
    "#### main original "
   ]
  },
  {
   "cell_type": "code",
   "execution_count": 15,
   "metadata": {},
   "outputs": [
    {
     "data": {
      "text/plain": [
       "'203bp mGL-A_gmeanby biorep'"
      ]
     },
     "metadata": {},
     "output_type": "display_data"
    },
    {
     "name": "stdout",
     "output_type": "stream",
     "text": [
      "p-value annotation legend:\n",
      "ns: 5.00e-02 < p <= 1.00e+00\n",
      "*: 1.00e-02 < p <= 5.00e-02\n",
      "**: 1.00e-03 < p <= 1.00e-02\n",
      "***: 1.00e-04 < p <= 1.00e-03\n",
      "****: p <= 1.00e-04\n",
      "\n",
      "noZF.noCre v.s. noZF.Cre: t-test independent samples, P_val=1.762e-01 stat=-1.641e+00\n",
      "ZF43-VP16.noCre v.s. ZF43-VP16.Cre: t-test independent samples, P_val=3.124e-05 stat=-2.086e+01\n",
      "ZF43-VP64.noCre v.s. ZF43-VP64.Cre: t-test independent samples, P_val=1.642e-03 stat=-7.559e+00\n",
      "ZF37-VP16.noCre v.s. ZF37-VP16.Cre: t-test independent samples, P_val=2.049e-06 stat=-4.133e+01\n",
      "ZF37-VP64.noCre v.s. ZF37-VP64.Cre: t-test independent samples, P_val=4.486e-05 stat=-1.904e+01\n",
      "ZF37-VPR.noCre v.s. ZF37-VPR.Cre: t-test independent samples, P_val=1.087e-03 stat=-8.424e+00\n"
     ]
    },
    {
     "data": {
      "image/png": "[encoded data removed]",
      "text/plain": [
       "<Figure size 360x180 with 1 Axes>"
      ]
     },
     "metadata": {
      "needs_background": "light"
     },
     "output_type": "display_data"
    },
    {
     "data": {
      "text/plain": [
       "'203bp ZF43normby biorep'"
      ]
     },
     "metadata": {},
     "output_type": "display_data"
    },
    {
     "name": "stderr",
     "output_type": "stream",
     "text": [
      "<string>:539: UserWarning: Attempted to set non-positive bottom ylim on a log-scaled axis.\n",
      "Invalid limit will be ignored.\n"
     ]
    },
    {
     "data": {
      "text/plain": [
       "<Figure size 432x288 with 0 Axes>"
      ]
     },
     "metadata": {},
     "output_type": "display_data"
    },
    {
     "data": {
      "image/png": "[encoded data removed]",
      "text/plain": [
       "<Figure size 360x180 with 1 Axes>"
      ]
     },
     "metadata": {
      "needs_background": "light"
     },
     "output_type": "display_data"
    },
    {
     "data": {
      "text/plain": [
       "'loxP control mGL-A_gmeanby biorep'"
      ]
     },
     "metadata": {},
     "output_type": "display_data"
    },
    {
     "name": "stdout",
     "output_type": "stream",
     "text": [
      "p-value annotation legend:\n",
      "ns: 5.00e-02 < p <= 1.00e+00\n",
      "*: 1.00e-02 < p <= 5.00e-02\n",
      "**: 1.00e-03 < p <= 1.00e-02\n",
      "***: 1.00e-04 < p <= 1.00e-03\n",
      "****: p <= 1.00e-04\n",
      "\n",
      "noZF.noCre v.s. noZF.Cre: t-test independent samples, P_val=3.932e-01 stat=-9.560e-01\n",
      "ZF43-VP16.noCre v.s. ZF43-VP16.Cre: t-test independent samples, P_val=1.648e-03 stat=7.551e+00\n",
      "ZF43-VP64.noCre v.s. ZF43-VP64.Cre: t-test independent samples, P_val=2.456e-04 stat=1.237e+01\n",
      "ZF37-VP16.noCre v.s. ZF37-VP16.Cre: t-test independent samples, P_val=4.937e-04 stat=1.034e+01\n",
      "ZF37-VP64.noCre v.s. ZF37-VP64.Cre: t-test independent samples, P_val=3.636e-02 stat=3.096e+00\n",
      "ZF37-VPR.noCre v.s. ZF37-VPR.Cre: t-test independent samples, P_val=5.277e-04 stat=1.016e+01\n"
     ]
    },
    {
     "data": {
      "text/plain": [
       "<Figure size 432x288 with 0 Axes>"
      ]
     },
     "metadata": {},
     "output_type": "display_data"
    },
    {
     "data": {
      "image/png": "[encoded data removed]",
      "text/plain": [
       "<Figure size 360x180 with 1 Axes>"
      ]
     },
     "metadata": {
      "needs_background": "light"
     },
     "output_type": "display_data"
    },
    {
     "data": {
      "text/plain": [
       "'loxP control ZF43normby biorep'"
      ]
     },
     "metadata": {},
     "output_type": "display_data"
    },
    {
     "name": "stderr",
     "output_type": "stream",
     "text": [
      "<string>:539: UserWarning: Attempted to set non-positive bottom ylim on a log-scaled axis.\n",
      "Invalid limit will be ignored.\n"
     ]
    },
    {
     "data": {
      "text/plain": [
       "<Figure size 432x288 with 0 Axes>"
      ]
     },
     "metadata": {},
     "output_type": "display_data"
    },
    {
     "data": {
      "image/png": "[encoded data removed]",
      "text/plain": [
       "<Figure size 360x180 with 1 Axes>"
      ]
     },
     "metadata": {
      "needs_background": "light"
     },
     "output_type": "display_data"
    },
    {
     "data": {
      "text/plain": [
       "<Figure size 432x288 with 0 Axes>"
      ]
     },
     "metadata": {},
     "output_type": "display_data"
    }
   ],
   "source": [
    "#Plot summary plot for the desired statistics\n",
    "\n",
    "#List of stats to plot \n",
    "stats_plot = pd.array( ['mGL-A_gmean','ZF43norm'])\n",
    "\n",
    "order = palette_ZF_Cre ; palette = palette_ZF_Cre; hue_order = None; x = 'ZF.Cre'; hue=None; yscale= 'log'\n",
    "ylims = {'mGL-A_gmean':[4e1, 1e5],\n",
    "         'ZF43norm':[0,180]}\n",
    "\n",
    "#Only plot some reporters\n",
    "\n",
    "#Set p-value significance comparisons \n",
    "\n",
    "fontsize = 15; xsize =5; ysize=2.5\n",
    "\n",
    "repts = pd.array( [ '203bp', 'loxP control'])\n",
    "for rept in repts:\n",
    "        for stat in stats_plot: \n",
    "                y = stat # set the stat to plot\n",
    "                ylim = ylims[stat]\n",
    "                plottitle = rept + ' ' + stat +  'by biorep'\n",
    "                display(plottitle)\n",
    "                data_now = s_bioreplicate[ s_bioreplicate['reporter']==rept]\n",
    "                plt.figure(figsize=(xsize,ysize))\n",
    "                if stat =='ZF43norm':\n",
    "                        plt.axhline(y=1, ls='--', color='grey')\n",
    "                        pairs = []\n",
    "                else:\n",
    "                        pairs  = [\n",
    "                                ['noZF.noCre', 'noZF.Cre'],\n",
    "                                ['ZF43-VP16.noCre', 'ZF43-VP16.Cre'],\n",
    "                                ['ZF43-VP64.noCre', 'ZF43-VP64.Cre'],\n",
    "                                ['ZF37-VP16.noCre', 'ZF37-VP16.Cre'],\n",
    "                                ['ZF37-VP64.noCre', 'ZF37-VP64.Cre'],\n",
    "                                ['ZF37-VPR.noCre', 'ZF37-VPR.Cre']\n",
    "                        ]\n",
    "                g = summary_plot( x=x, y=y, hue=hue, data=data_now, pairs=pairs, yscale=yscale, ylim=ylim, dodge=False,\n",
    "                                x_rot=45, palette = palette, order=order, hue_order=hue_order, plottitle='', \n",
    "                                fontsize=fontsize, xticklabels=False,xlabel='',ylabel=''\n",
    "                                )\n",
    "\n",
    "                g.figure.savefig(figure_folder + plottitle + '.svg',dpi=300,bbox_inches='tight')\n",
    "\n"
   ]
  },
  {
   "cell_type": "markdown",
   "metadata": {},
   "source": [
    "#### extra"
   ]
  },
  {
   "cell_type": "code",
   "execution_count": 16,
   "metadata": {},
   "outputs": [
    {
     "data": {
      "text/plain": [
       "'203bp mGL-A_gmeanby biorep __ extra'"
      ]
     },
     "metadata": {},
     "output_type": "display_data"
    },
    {
     "name": "stdout",
     "output_type": "stream",
     "text": [
      "p-value annotation legend:\n",
      "ns: 5.00e-02 < p <= 1.00e+00\n",
      "*: 1.00e-02 < p <= 5.00e-02\n",
      "**: 1.00e-03 < p <= 1.00e-02\n",
      "***: 1.00e-04 < p <= 1.00e-03\n",
      "****: p <= 1.00e-04\n",
      "\n",
      "noZF.noCre v.s. noZF.Cre: t-test independent samples, P_val=9.914e-02 stat=-1.818e+00\n",
      "ZF43-VP16.noCre v.s. ZF43-VP16.Cre: t-test independent samples, P_val=8.545e-03 stat=-3.262e+00\n",
      "ZF43-VP64.noCre v.s. ZF43-VP64.Cre: t-test independent samples, P_val=3.247e-04 stat=-1.152e+01\n",
      "ZF37-VP16.noCre v.s. ZF37-VP16.Cre: t-test independent samples, P_val=1.739e-02 stat=-2.845e+00\n",
      "ZF37-VP64.noCre v.s. ZF37-VP64.Cre: t-test independent samples, P_val=4.768e-04 stat=-1.043e+01\n",
      "ZF37-VPR.noCre v.s. ZF37-VPR.Cre: t-test independent samples, P_val=7.923e-04 stat=-4.740e+00\n"
     ]
    },
    {
     "data": {
      "image/png": "[encoded data removed]",
      "text/plain": [
       "<Figure size 360x180 with 1 Axes>"
      ]
     },
     "metadata": {
      "needs_background": "light"
     },
     "output_type": "display_data"
    },
    {
     "data": {
      "text/plain": [
       "'loxP control mGL-A_gmeanby biorep __ extra'"
      ]
     },
     "metadata": {},
     "output_type": "display_data"
    },
    {
     "name": "stdout",
     "output_type": "stream",
     "text": [
      "p-value annotation legend:\n",
      "ns: 5.00e-02 < p <= 1.00e+00\n",
      "*: 1.00e-02 < p <= 5.00e-02\n",
      "**: 1.00e-03 < p <= 1.00e-02\n",
      "***: 1.00e-04 < p <= 1.00e-03\n",
      "****: p <= 1.00e-04\n",
      "\n",
      "noZF.noCre v.s. noZF.Cre: t-test independent samples, P_val=5.675e-01 stat=-6.222e-01\n",
      "ZF43-VP16.noCre v.s. ZF43-VP16.Cre: t-test independent samples, P_val=3.445e-04 stat=1.134e+01\n",
      "ZF37-VP16.noCre v.s. ZF37-VP16.Cre: t-test independent samples, P_val=3.013e-04 stat=1.174e+01\n"
     ]
    },
    {
     "data": {
      "text/plain": [
       "<Figure size 432x288 with 0 Axes>"
      ]
     },
     "metadata": {},
     "output_type": "display_data"
    },
    {
     "data": {
      "image/png": "[encoded data removed]",
      "text/plain": [
       "<Figure size 360x180 with 1 Axes>"
      ]
     },
     "metadata": {
      "needs_background": "light"
     },
     "output_type": "display_data"
    },
    {
     "data": {
      "text/plain": [
       "<Figure size 432x288 with 0 Axes>"
      ]
     },
     "metadata": {},
     "output_type": "display_data"
    }
   ],
   "source": [
    "#Plot summary plot for the desired statistics\n",
    "\n",
    "#List of stats to plot \n",
    "stats_plot = pd.array( ['mGL-A_gmean'])\n",
    "\n",
    "order = palette_ZF_Cre ; palette = palette_ZF_Cre; hue_order = None; x = 'ZF.Cre'; hue=None; yscale= 'log'\n",
    "ylims = {'mGL-A_gmean':[4e1, 1e5],\n",
    "         'ZF43norm':[0,180]}\n",
    "\n",
    "#Only plot some ZF because not whole set was tested in the conditions \n",
    "ZF_now = pd.array( ['noZF', 'ZF43-VP16', 'ZF37-VP16','ZF43-VP64', 'ZF37-VP64','ZF37-VPR'])\n",
    "\n",
    "#Set p-value significance comparisons \n",
    "\n",
    "fontsize = 15; xsize =5; ysize=2.5\n",
    "\n",
    "repts = pd.array( [ '203bp','loxP control'])\n",
    "for rept in repts:\n",
    "        for stat in stats_plot: \n",
    "                y = stat # set the stat to plot\n",
    "                ylim = ylims[stat]\n",
    "                plottitle = rept + ' ' + stat +  'by biorep __ extra'\n",
    "                display(plottitle)\n",
    "                data_now = s_bioreplicate2[ (s_bioreplicate2['reporter']==rept) & ~(s_bioreplicate2['bioreplicate'].isin(bioreplicates_original)) ]\n",
    "                data_now = data_now[ data_now['ZF'].isin(ZF_now)]\n",
    "                plt.figure(figsize=(xsize,ysize))\n",
    "                if stat =='ZF43norm':\n",
    "                        plt.axhline(y=1, ls='--', color='grey')\n",
    "                        pairs = []\n",
    "                elif rept == '203bp':\n",
    "                        pairs  = [\n",
    "                                ['noZF.noCre', 'noZF.Cre'],\n",
    "                                ['ZF43-VP16.noCre', 'ZF43-VP16.Cre'],\n",
    "                                ['ZF43-VP64.noCre', 'ZF43-VP64.Cre'],\n",
    "                                ['ZF37-VP16.noCre', 'ZF37-VP16.Cre'],\n",
    "                                ['ZF37-VP64.noCre', 'ZF37-VP64.Cre'],\n",
    "                                ['ZF37-VPR.noCre', 'ZF37-VPR.Cre']\n",
    "                        ]\n",
    "                else:\n",
    "                        pairs  = [\n",
    "                                ['noZF.noCre', 'noZF.Cre'],\n",
    "                                ['ZF43-VP16.noCre', 'ZF43-VP16.Cre'],\n",
    "                                # ['ZF43-VP64.noCre', 'ZF43-VP64.Cre'],\n",
    "                                ['ZF37-VP16.noCre', 'ZF37-VP16.Cre'],\n",
    "                                # ['ZF37-VP64.noCre', 'ZF37-VP64.Cre'],\n",
    "                                #['ZF37-VPR.noCre', 'ZF37-VPR.Cre']\n",
    "                        ]\n",
    "                g = summary_plot( x=x, y=y, hue=hue, data=data_now, pairs=pairs, yscale=yscale, ylim=ylim, dodge=False,\n",
    "                                x_rot=45, palette = palette, order=order, hue_order=hue_order, plottitle='', \n",
    "                                fontsize=fontsize, xticklabels=False,xlabel='',ylabel=''\n",
    "                                )\n",
    "\n",
    "               # g.figure.savefig(figure_folder + plottitle + '.svg',dpi=300,bbox_inches='tight')\n",
    "\n"
   ]
  },
  {
   "cell_type": "markdown",
   "metadata": {},
   "source": [
    "## Representative Flow Plot mGL per condition"
   ]
  },
  {
   "cell_type": "code",
   "execution_count": 17,
   "metadata": {},
   "outputs": [],
   "source": [
    "#display(data_unstained==False)\n",
    "\n",
    "if len([])>0:\n",
    "    display('test')"
   ]
  },
  {
   "cell_type": "markdown",
   "metadata": {},
   "source": [
    "### 1D Histogram all bioreps"
   ]
  },
  {
   "cell_type": "code",
   "execution_count": null,
   "metadata": {},
   "outputs": [
    {
     "data": {
      "text/plain": [
       "'203bpZF37-VP64 mGLhist 1D'"
      ]
     },
     "metadata": {},
     "output_type": "display_data"
    },
    {
     "data": {
      "image/png": "[encoded data removed]",
      "text/plain": [
       "<Figure size 120x72 with 1 Axes>"
      ]
     },
     "metadata": {
      "needs_background": "light"
     },
     "output_type": "display_data"
    },
    {
     "data": {
      "text/plain": [
       "'loxP controlZF37-VP64 mGLhist 1D'"
      ]
     },
     "metadata": {},
     "output_type": "display_data"
    },
    {
     "data": {
      "image/png": "[encoded data removed]",
      "text/plain": [
       "<Figure size 120x72 with 1 Axes>"
      ]
     },
     "metadata": {
      "needs_background": "light"
     },
     "output_type": "display_data"
    },
    {
     "data": {
      "text/plain": [
       "'203bpZF37-VPR mGLhist 1D'"
      ]
     },
     "metadata": {},
     "output_type": "display_data"
    },
    {
     "data": {
      "image/png": "[encoded data removed]",
      "text/plain": [
       "<Figure size 120x72 with 1 Axes>"
      ]
     },
     "metadata": {
      "needs_background": "light"
     },
     "output_type": "display_data"
    },
    {
     "data": {
      "text/plain": [
       "'loxP controlZF37-VPR mGLhist 1D'"
      ]
     },
     "metadata": {},
     "output_type": "display_data"
    },
    {
     "data": {
      "image/png": "[encoded data removed]",
      "text/plain": [
       "<Figure size 120x72 with 1 Axes>"
      ]
     },
     "metadata": {
      "needs_background": "light"
     },
     "output_type": "display_data"
    },
    {
     "data": {
      "text/plain": [
       "'203bpZF43-VP64 mGLhist 1D'"
      ]
     },
     "metadata": {},
     "output_type": "display_data"
    },
    {
     "data": {
      "image/png": "[encoded data removed]",
      "text/plain": [
       "<Figure size 120x72 with 1 Axes>"
      ]
     },
     "metadata": {
      "needs_background": "light"
     },
     "output_type": "display_data"
    },
    {
     "data": {
      "text/plain": [
       "'loxP controlZF43-VP64 mGLhist 1D'"
      ]
     },
     "metadata": {},
     "output_type": "display_data"
    },
    {
     "data": {
      "image/png": "[encoded data removed]",
      "text/plain": [
       "<Figure size 120x72 with 1 Axes>"
      ]
     },
     "metadata": {
      "needs_background": "light"
     },
     "output_type": "display_data"
    },
    {
     "data": {
      "text/plain": [
       "'203bpZF37-VP16 mGLhist 1D'"
      ]
     },
     "metadata": {},
     "output_type": "display_data"
    },
    {
     "data": {
      "image/png": "[encoded data removed]",
      "text/plain": [
       "<Figure size 120x72 with 1 Axes>"
      ]
     },
     "metadata": {
      "needs_background": "light"
     },
     "output_type": "display_data"
    },
    {
     "data": {
      "text/plain": [
       "'loxP controlZF37-VP16 mGLhist 1D'"
      ]
     },
     "metadata": {},
     "output_type": "display_data"
    },
    {
     "data": {
      "image/png": "[encoded data removed]",
      "text/plain": [
       "<Figure size 120x72 with 1 Axes>"
      ]
     },
     "metadata": {
      "needs_background": "light"
     },
     "output_type": "display_data"
    },
    {
     "data": {
      "text/plain": [
       "'203bpZF43-VP16 mGLhist 1D'"
      ]
     },
     "metadata": {},
     "output_type": "display_data"
    },
    {
     "data": {
      "image/png": "[encoded data removed]",
      "text/plain": [
       "<Figure size 120x72 with 1 Axes>"
      ]
     },
     "metadata": {
      "needs_background": "light"
     },
     "output_type": "display_data"
    },
    {
     "data": {
      "text/plain": [
       "'loxP controlZF43-VP16 mGLhist 1D'"
      ]
     },
     "metadata": {},
     "output_type": "display_data"
    },
    {
     "data": {
      "image/png": "[encoded data removed]",
      "text/plain": [
       "<Figure size 120x72 with 1 Axes>"
      ]
     },
     "metadata": {
      "needs_background": "light"
     },
     "output_type": "display_data"
    },
    {
     "data": {
      "text/plain": [
       "'203bpnoZF mGLhist 1D'"
      ]
     },
     "metadata": {},
     "output_type": "display_data"
    },
    {
     "name": "stdout",
     "output_type": "stream",
     "text": [
      "unstained should show\n"
     ]
    },
    {
     "data": {
      "image/png": "[encoded data removed]",
      "text/plain": [
       "<Figure size 120x72 with 1 Axes>"
      ]
     },
     "metadata": {
      "needs_background": "light"
     },
     "output_type": "display_data"
    },
    {
     "data": {
      "text/plain": [
       "'loxP controlnoZF mGLhist 1D'"
      ]
     },
     "metadata": {},
     "output_type": "display_data"
    },
    {
     "name": "stdout",
     "output_type": "stream",
     "text": [
      "unstained should show\n"
     ]
    },
    {
     "data": {
      "image/png": "[encoded data removed]",
      "text/plain": [
       "<Figure size 120x72 with 1 Axes>"
      ]
     },
     "metadata": {
      "needs_background": "light"
     },
     "output_type": "display_data"
    }
   ],
   "source": [
    "#Set common conditions\n",
    "parameters = pd.array(['mGL-A']) ; palette=palette_ZF_Cre; xlim = [1e0,1e6]; hue='ZF.Cre'; hueorder=None\n",
    "xsize = 2.5/1.5\n",
    "ysize = 1.5/1.5\n",
    "xlim=[1e0, 2e6]\n",
    "\n",
    "\n",
    "#Iterate through repts\n",
    "for ZF in ZF_list:\n",
    "    for rept in repts:\n",
    "        data_now = data_iRFP670gated[ data_iRFP670gated['ZF'] == ZF] # get condition\n",
    "        data_now = data_now[data_now['bioreplicate'].isin(bioreplicates_original)]\n",
    "        data_now = data_now[ data_now['reporter'] == rept] # get condition\n",
    "        plottitle = rept + ZF + ' mGLhist 1D'\n",
    "        display(plottitle)\n",
    "        if ZF == 'noZF':\n",
    "            plottitle = plottitle + ' old data'\n",
    "            data_neg = data_unstained \n",
    "        else: \n",
    "            data_neg = []\n",
    "        #Plot histogram \n",
    "        g = plt.figure(figsize=(xsize,ysize))\n",
    "        g = custom_hist_plot( data_now, parameters, hue=hue, palette=palette, hueorder=hueorder, xsize=xsize, ysize=ysize, title='', \n",
    "                            alpha=0.4, legend=False, fontsize=15,\n",
    "                            xlim=xlim, data_neg= data_neg, \n",
    "                            axis_lines={'top': False, 'bottom': True, 'left': False, 'right': False})\n",
    "        g = g.get_figure()\n",
    "        g.savefig(figure_folder+ plottitle + '.svg',dpi=300,bbox_inches='tight')        \n"
   ]
  },
  {
   "cell_type": "markdown",
   "metadata": {},
   "source": [
    "### 1D Histogram data 1 '20240604flow_exp20240601_diffZFa_p1'"
   ]
  },
  {
   "cell_type": "code",
   "execution_count": 19,
   "metadata": {},
   "outputs": [
    {
     "data": {
      "text/plain": [
       "'203bpZF37-VP64 mGLhist 1D'"
      ]
     },
     "metadata": {},
     "output_type": "display_data"
    },
    {
     "data": {
      "image/png": "[encoded data removed]",
      "text/plain": [
       "<Figure size 120x72 with 1 Axes>"
      ]
     },
     "metadata": {
      "needs_background": "light"
     },
     "output_type": "display_data"
    },
    {
     "data": {
      "text/plain": [
       "'loxP controlZF37-VP64 mGLhist 1D'"
      ]
     },
     "metadata": {},
     "output_type": "display_data"
    },
    {
     "data": {
      "image/png": "[encoded data removed]",
      "text/plain": [
       "<Figure size 120x72 with 1 Axes>"
      ]
     },
     "metadata": {
      "needs_background": "light"
     },
     "output_type": "display_data"
    },
    {
     "data": {
      "text/plain": [
       "'203bpZF37-VPR mGLhist 1D'"
      ]
     },
     "metadata": {},
     "output_type": "display_data"
    },
    {
     "data": {
      "image/png": "[encoded data removed]",
      "text/plain": [
       "<Figure size 120x72 with 1 Axes>"
      ]
     },
     "metadata": {
      "needs_background": "light"
     },
     "output_type": "display_data"
    },
    {
     "data": {
      "text/plain": [
       "'loxP controlZF37-VPR mGLhist 1D'"
      ]
     },
     "metadata": {},
     "output_type": "display_data"
    },
    {
     "data": {
      "image/png": "[encoded data removed]",
      "text/plain": [
       "<Figure size 120x72 with 1 Axes>"
      ]
     },
     "metadata": {
      "needs_background": "light"
     },
     "output_type": "display_data"
    },
    {
     "data": {
      "text/plain": [
       "'203bpZF43-VP64 mGLhist 1D'"
      ]
     },
     "metadata": {},
     "output_type": "display_data"
    },
    {
     "data": {
      "image/png": "[encoded data removed]",
      "text/plain": [
       "<Figure size 120x72 with 1 Axes>"
      ]
     },
     "metadata": {
      "needs_background": "light"
     },
     "output_type": "display_data"
    },
    {
     "data": {
      "text/plain": [
       "'loxP controlZF43-VP64 mGLhist 1D'"
      ]
     },
     "metadata": {},
     "output_type": "display_data"
    },
    {
     "data": {
      "image/png": "[encoded data removed]",
      "text/plain": [
       "<Figure size 120x72 with 1 Axes>"
      ]
     },
     "metadata": {
      "needs_background": "light"
     },
     "output_type": "display_data"
    },
    {
     "data": {
      "text/plain": [
       "'203bpZF37-VP16 mGLhist 1D'"
      ]
     },
     "metadata": {},
     "output_type": "display_data"
    },
    {
     "data": {
      "image/png": "[encoded data removed]",
      "text/plain": [
       "<Figure size 120x72 with 1 Axes>"
      ]
     },
     "metadata": {
      "needs_background": "light"
     },
     "output_type": "display_data"
    },
    {
     "data": {
      "text/plain": [
       "'loxP controlZF37-VP16 mGLhist 1D'"
      ]
     },
     "metadata": {},
     "output_type": "display_data"
    },
    {
     "data": {
      "image/png": "[encoded data removed]",
      "text/plain": [
       "<Figure size 120x72 with 1 Axes>"
      ]
     },
     "metadata": {
      "needs_background": "light"
     },
     "output_type": "display_data"
    },
    {
     "data": {
      "text/plain": [
       "'203bpZF43-VP16 mGLhist 1D'"
      ]
     },
     "metadata": {},
     "output_type": "display_data"
    },
    {
     "data": {
      "image/png": "[encoded data removed]",
      "text/plain": [
       "<Figure size 120x72 with 1 Axes>"
      ]
     },
     "metadata": {
      "needs_background": "light"
     },
     "output_type": "display_data"
    },
    {
     "data": {
      "text/plain": [
       "'loxP controlZF43-VP16 mGLhist 1D'"
      ]
     },
     "metadata": {},
     "output_type": "display_data"
    },
    {
     "data": {
      "image/png": "[encoded data removed]",
      "text/plain": [
       "<Figure size 120x72 with 1 Axes>"
      ]
     },
     "metadata": {
      "needs_background": "light"
     },
     "output_type": "display_data"
    },
    {
     "data": {
      "text/plain": [
       "'203bpnoZF mGLhist 1D'"
      ]
     },
     "metadata": {},
     "output_type": "display_data"
    },
    {
     "name": "stdout",
     "output_type": "stream",
     "text": [
      "unstained should show\n"
     ]
    },
    {
     "data": {
      "image/png": "[encoded data removed]",
      "text/plain": [
       "<Figure size 120x72 with 1 Axes>"
      ]
     },
     "metadata": {
      "needs_background": "light"
     },
     "output_type": "display_data"
    },
    {
     "data": {
      "text/plain": [
       "'loxP controlnoZF mGLhist 1D'"
      ]
     },
     "metadata": {},
     "output_type": "display_data"
    },
    {
     "name": "stdout",
     "output_type": "stream",
     "text": [
      "unstained should show\n"
     ]
    },
    {
     "data": {
      "image/png": "[encoded data removed]",
      "text/plain": [
       "<Figure size 120x72 with 1 Axes>"
      ]
     },
     "metadata": {
      "needs_background": "light"
     },
     "output_type": "display_data"
    }
   ],
   "source": [
    "#Set common conditions\n",
    "parameters = pd.array(['mGL-A']) ; palette=palette_ZF_Cre; xlim = [1e0,1e6]; hue='ZF.Cre'; hueorder=None\n",
    "xsize = 2.5/1.5\n",
    "ysize = 1.5/1.5\n",
    "xlim=[1e0, 2e6]\n",
    "\n",
    "\n",
    "#Iterate through repts\n",
    "for ZF in ZF_list:\n",
    "    for rept in repts:\n",
    "        data_now = data_iRFP670gated[ data_iRFP670gated['ZF'] == ZF] # get condition\n",
    "        data_now = data_now[ data_now['reporter'] == rept] # get condition\n",
    "        data_now = data_now[ data_now['bioreplicate']=='20240604flow_exp20240601_diffZFa_p1'] #biorep 1\n",
    "        plottitle = rept + ZF + ' mGLhist 1D'\n",
    "        display(plottitle)\n",
    "        if ZF == 'noZF':\n",
    "            plottitle = plottitle + ' old data'\n",
    "            data_neg = data_unstained \n",
    "        else: \n",
    "            data_neg = []\n",
    "        #Plot histogram \n",
    "        g = plt.figure(figsize=(xsize,ysize))\n",
    "        g = custom_hist_plot( data_now, parameters, hue=hue, palette=palette, hueorder=hueorder, xsize=xsize, ysize=ysize, title='', \n",
    "                            alpha=0.4, legend=False, fontsize=15,\n",
    "                            xlim=xlim, data_neg= data_neg, \n",
    "                            axis_lines={'top': False, 'bottom': True, 'left': False, 'right': False})\n",
    "        g = g.get_figure()\n",
    "        g.savefig(figure_folder+ plottitle + '.svg',dpi=300,bbox_inches='tight')        \n"
   ]
  },
  {
   "cell_type": "markdown",
   "metadata": {},
   "source": [
    "## Flow plot all -Cre and all +Cre"
   ]
  },
  {
   "cell_type": "code",
   "execution_count": 20,
   "metadata": {},
   "outputs": [
    {
     "data": {
      "text/plain": [
       "'203bp+Cre mGLhist 1D'"
      ]
     },
     "metadata": {},
     "output_type": "display_data"
    },
    {
     "name": "stdout",
     "output_type": "stream",
     "text": [
      "unstained should show\n"
     ]
    },
    {
     "data": {
      "image/png": "[encoded data removed]",
      "text/plain": [
       "<Figure size 120x72 with 1 Axes>"
      ]
     },
     "metadata": {
      "needs_background": "light"
     },
     "output_type": "display_data"
    },
    {
     "data": {
      "text/plain": [
       "'203bpnoCre mGLhist 1D'"
      ]
     },
     "metadata": {},
     "output_type": "display_data"
    },
    {
     "name": "stdout",
     "output_type": "stream",
     "text": [
      "unstained should show\n"
     ]
    },
    {
     "data": {
      "image/png": "[encoded data removed]",
      "text/plain": [
       "<Figure size 120x72 with 1 Axes>"
      ]
     },
     "metadata": {
      "needs_background": "light"
     },
     "output_type": "display_data"
    },
    {
     "data": {
      "text/plain": [
       "'loxP control+Cre mGLhist 1D'"
      ]
     },
     "metadata": {},
     "output_type": "display_data"
    },
    {
     "name": "stdout",
     "output_type": "stream",
     "text": [
      "unstained should show\n"
     ]
    },
    {
     "data": {
      "image/png": "[encoded data removed]",
      "text/plain": [
       "<Figure size 120x72 with 1 Axes>"
      ]
     },
     "metadata": {
      "needs_background": "light"
     },
     "output_type": "display_data"
    },
    {
     "data": {
      "text/plain": [
       "'loxP controlnoCre mGLhist 1D'"
      ]
     },
     "metadata": {},
     "output_type": "display_data"
    },
    {
     "name": "stdout",
     "output_type": "stream",
     "text": [
      "unstained should show\n"
     ]
    },
    {
     "data": {
      "image/png": "[encoded data removed]",
      "text/plain": [
       "<Figure size 120x72 with 1 Axes>"
      ]
     },
     "metadata": {
      "needs_background": "light"
     },
     "output_type": "display_data"
    }
   ],
   "source": [
    "#Set common conditions\n",
    "parameters = pd.array(['mGL-A']) ; palette=palette_ZF_Cre; xlim = [1e0,1e6]; hue='ZF.Cre'; hueorder=None\n",
    "xsize = 2.5/1.5\n",
    "ysize = 1.5/1.5\n",
    "xlim=[1e0, 2e6]\n",
    "\n",
    "for rept in repts:\n",
    "    data_now = data_iRFP670gated[ data_iRFP670gated['Cre'] == 'Cre'] \n",
    "    data_now = data_now[ data_now['reporter']==rept]\n",
    "    plottitle = rept + '+Cre mGLhist 1D'\n",
    "    display(plottitle)\n",
    "    #Plot histogram \n",
    "    g = plt.figure(figsize=(xsize,ysize))\n",
    "    g = custom_hist_plot( data_now, parameters, hue=hue, palette=palette, hueorder=hueorder, xsize=xsize, ysize=ysize, title='', \n",
    "                        alpha=0.05, legend=False, fontsize=15,\n",
    "                        xlim=xlim, data_neg= data_unstained)\n",
    "    g = g.get_figure()\n",
    "    g.savefig(figure_folder+ plottitle + '.svg',dpi=300,bbox_inches='tight')\n",
    "\n",
    "    data_now = data_iRFP670gated[ data_iRFP670gated['Cre'] == 'noCre'] \n",
    "    data_now = data_now[ data_now['reporter']==rept]\n",
    "    plottitle = rept +'noCre mGLhist 1D'\n",
    "    display(plottitle)\n",
    "    #Plot histogram \n",
    "    g = plt.figure(figsize=(xsize,ysize))\n",
    "    g = custom_hist_plot( data_now, parameters, hue=hue, palette=palette, hueorder=hueorder, xsize=xsize, ysize=ysize, title='', \n",
    "                        alpha=0.05, legend=False, fontsize=15,\n",
    "                        xlim=xlim, data_neg= data_unstained)\n",
    "    g = g.get_figure()\n",
    "    g.savefig(figure_folder+ plottitle + '.svg',dpi=300,bbox_inches='tight')"
   ]
  },
  {
   "cell_type": "markdown",
   "metadata": {},
   "source": [
    "## Calculate Fold Change "
   ]
  },
  {
   "cell_type": "code",
   "execution_count": 34,
   "metadata": {},
   "outputs": [
    {
     "data": {
      "text/plain": [
       "array(['203bp.ZF37-VP16.20240604flow_exp20240601_diffZFa_p1',\n",
       "       '203bp.ZF37-VP16.20240604flow_exp20240601_diffZFa_p2',\n",
       "       '203bp.ZF37-VP16.20240604flow_exp20240601_diffZFa_p3',\n",
       "       '203bp.ZF37-VP64.20240604flow_exp20240601_diffZFa_p1',\n",
       "       '203bp.ZF37-VP64.20240604flow_exp20240601_diffZFa_p2',\n",
       "       '203bp.ZF37-VP64.20240604flow_exp20240601_diffZFa_p3',\n",
       "       '203bp.ZF37-VPR.20240604flow_exp20240601_diffZFa_p1',\n",
       "       '203bp.ZF37-VPR.20240604flow_exp20240601_diffZFa_p2',\n",
       "       '203bp.ZF37-VPR.20240604flow_exp20240601_diffZFa_p3',\n",
       "       '203bp.ZF43-VP16.20240604flow_exp20240601_diffZFa_p1',\n",
       "       '203bp.ZF43-VP16.20240604flow_exp20240601_diffZFa_p2',\n",
       "       '203bp.ZF43-VP16.20240604flow_exp20240601_diffZFa_p3',\n",
       "       '203bp.ZF43-VP64.20240604flow_exp20240601_diffZFa_p1',\n",
       "       '203bp.ZF43-VP64.20240604flow_exp20240601_diffZFa_p2',\n",
       "       '203bp.ZF43-VP64.20240604flow_exp20240601_diffZFa_p3',\n",
       "       '203bp.noZF.20240111flow_exp20240108_p1',\n",
       "       '203bp.noZF.20240118flow_exp20240115_p1',\n",
       "       '203bp.noZF.20240120flow_exp20240117_p1',\n",
       "       'loxP control.ZF37-VP16.20240604flow_exp20240601_diffZFa_p1',\n",
       "       'loxP control.ZF37-VP16.20240604flow_exp20240601_diffZFa_p2',\n",
       "       'loxP control.ZF37-VP16.20240604flow_exp20240601_diffZFa_p3',\n",
       "       'loxP control.ZF37-VP64.20240604flow_exp20240601_diffZFa_p1',\n",
       "       'loxP control.ZF37-VP64.20240604flow_exp20240601_diffZFa_p2',\n",
       "       'loxP control.ZF37-VP64.20240604flow_exp20240601_diffZFa_p3',\n",
       "       'loxP control.ZF37-VPR.20240604flow_exp20240601_diffZFa_p1',\n",
       "       'loxP control.ZF37-VPR.20240604flow_exp20240601_diffZFa_p2',\n",
       "       'loxP control.ZF37-VPR.20240604flow_exp20240601_diffZFa_p3',\n",
       "       'loxP control.ZF43-VP16.20240604flow_exp20240601_diffZFa_p1',\n",
       "       'loxP control.ZF43-VP16.20240604flow_exp20240601_diffZFa_p2',\n",
       "       'loxP control.ZF43-VP16.20240604flow_exp20240601_diffZFa_p3',\n",
       "       'loxP control.ZF43-VP64.20240604flow_exp20240601_diffZFa_p1',\n",
       "       'loxP control.ZF43-VP64.20240604flow_exp20240601_diffZFa_p2',\n",
       "       'loxP control.ZF43-VP64.20240604flow_exp20240601_diffZFa_p3',\n",
       "       'loxP control.noZF.20240120flow_exp20240117_p1',\n",
       "       'loxP control.noZF.20240126flow_exp20240123_p2',\n",
       "       'loxP control.noZF.20240129flow_exp20240126_p2'], dtype=object)"
      ]
     },
     "metadata": {},
     "output_type": "display_data"
    }
   ],
   "source": [
    "display(pd.unique(s_bioreplicate['reporter.ZF.bioreplicate']) )"
   ]
  },
  {
   "cell_type": "code",
   "execution_count": 35,
   "metadata": {},
   "outputs": [
    {
     "data": {
      "text/plain": [
       "'203bp.ZF37-VP16.20240604flow_exp20240601_diffZFa_p1'"
      ]
     },
     "metadata": {},
     "output_type": "display_data"
    },
    {
     "data": {
      "text/plain": [
       "'203bp.ZF37-VP16.20240604flow_exp20240601_diffZFa_p2'"
      ]
     },
     "metadata": {},
     "output_type": "display_data"
    },
    {
     "data": {
      "text/plain": [
       "'203bp.ZF37-VP16.20240604flow_exp20240601_diffZFa_p3'"
      ]
     },
     "metadata": {},
     "output_type": "display_data"
    },
    {
     "data": {
      "text/plain": [
       "'203bp.ZF37-VP64.20240604flow_exp20240601_diffZFa_p1'"
      ]
     },
     "metadata": {},
     "output_type": "display_data"
    },
    {
     "data": {
      "text/plain": [
       "'203bp.ZF37-VP64.20240604flow_exp20240601_diffZFa_p2'"
      ]
     },
     "metadata": {},
     "output_type": "display_data"
    },
    {
     "data": {
      "text/plain": [
       "'203bp.ZF37-VP64.20240604flow_exp20240601_diffZFa_p3'"
      ]
     },
     "metadata": {},
     "output_type": "display_data"
    },
    {
     "data": {
      "text/plain": [
       "'203bp.ZF37-VPR.20240604flow_exp20240601_diffZFa_p1'"
      ]
     },
     "metadata": {},
     "output_type": "display_data"
    },
    {
     "data": {
      "text/plain": [
       "'203bp.ZF37-VPR.20240604flow_exp20240601_diffZFa_p2'"
      ]
     },
     "metadata": {},
     "output_type": "display_data"
    },
    {
     "data": {
      "text/plain": [
       "'203bp.ZF37-VPR.20240604flow_exp20240601_diffZFa_p3'"
      ]
     },
     "metadata": {},
     "output_type": "display_data"
    },
    {
     "data": {
      "text/plain": [
       "'203bp.ZF43-VP16.20240604flow_exp20240601_diffZFa_p1'"
      ]
     },
     "metadata": {},
     "output_type": "display_data"
    },
    {
     "data": {
      "text/plain": [
       "'203bp.ZF43-VP16.20240604flow_exp20240601_diffZFa_p2'"
      ]
     },
     "metadata": {},
     "output_type": "display_data"
    },
    {
     "data": {
      "text/plain": [
       "'203bp.ZF43-VP16.20240604flow_exp20240601_diffZFa_p3'"
      ]
     },
     "metadata": {},
     "output_type": "display_data"
    },
    {
     "data": {
      "text/plain": [
       "'203bp.ZF43-VP64.20240604flow_exp20240601_diffZFa_p1'"
      ]
     },
     "metadata": {},
     "output_type": "display_data"
    },
    {
     "data": {
      "text/plain": [
       "'203bp.ZF43-VP64.20240604flow_exp20240601_diffZFa_p2'"
      ]
     },
     "metadata": {},
     "output_type": "display_data"
    },
    {
     "data": {
      "text/plain": [
       "'203bp.ZF43-VP64.20240604flow_exp20240601_diffZFa_p3'"
      ]
     },
     "metadata": {},
     "output_type": "display_data"
    },
    {
     "data": {
      "text/plain": [
       "'203bp.noZF.20240111flow_exp20240108_p1'"
      ]
     },
     "metadata": {},
     "output_type": "display_data"
    },
    {
     "data": {
      "text/plain": [
       "'203bp.noZF.20240118flow_exp20240115_p1'"
      ]
     },
     "metadata": {},
     "output_type": "display_data"
    },
    {
     "data": {
      "text/plain": [
       "'203bp.noZF.20240120flow_exp20240117_p1'"
      ]
     },
     "metadata": {},
     "output_type": "display_data"
    },
    {
     "data": {
      "text/plain": [
       "'loxP control.ZF37-VP16.20240604flow_exp20240601_diffZFa_p1'"
      ]
     },
     "metadata": {},
     "output_type": "display_data"
    },
    {
     "data": {
      "text/plain": [
       "'loxP control.ZF37-VP16.20240604flow_exp20240601_diffZFa_p2'"
      ]
     },
     "metadata": {},
     "output_type": "display_data"
    },
    {
     "data": {
      "text/plain": [
       "'loxP control.ZF37-VP16.20240604flow_exp20240601_diffZFa_p3'"
      ]
     },
     "metadata": {},
     "output_type": "display_data"
    },
    {
     "data": {
      "text/plain": [
       "'loxP control.ZF37-VP64.20240604flow_exp20240601_diffZFa_p1'"
      ]
     },
     "metadata": {},
     "output_type": "display_data"
    },
    {
     "data": {
      "text/plain": [
       "'loxP control.ZF37-VP64.20240604flow_exp20240601_diffZFa_p2'"
      ]
     },
     "metadata": {},
     "output_type": "display_data"
    },
    {
     "data": {
      "text/plain": [
       "'loxP control.ZF37-VP64.20240604flow_exp20240601_diffZFa_p3'"
      ]
     },
     "metadata": {},
     "output_type": "display_data"
    },
    {
     "data": {
      "text/plain": [
       "'loxP control.ZF37-VPR.20240604flow_exp20240601_diffZFa_p1'"
      ]
     },
     "metadata": {},
     "output_type": "display_data"
    },
    {
     "data": {
      "text/plain": [
       "'loxP control.ZF37-VPR.20240604flow_exp20240601_diffZFa_p2'"
      ]
     },
     "metadata": {},
     "output_type": "display_data"
    },
    {
     "data": {
      "text/plain": [
       "'loxP control.ZF37-VPR.20240604flow_exp20240601_diffZFa_p3'"
      ]
     },
     "metadata": {},
     "output_type": "display_data"
    },
    {
     "data": {
      "text/plain": [
       "'loxP control.ZF43-VP16.20240604flow_exp20240601_diffZFa_p1'"
      ]
     },
     "metadata": {},
     "output_type": "display_data"
    },
    {
     "data": {
      "text/plain": [
       "'loxP control.ZF43-VP16.20240604flow_exp20240601_diffZFa_p2'"
      ]
     },
     "metadata": {},
     "output_type": "display_data"
    },
    {
     "data": {
      "text/plain": [
       "'loxP control.ZF43-VP16.20240604flow_exp20240601_diffZFa_p3'"
      ]
     },
     "metadata": {},
     "output_type": "display_data"
    },
    {
     "data": {
      "text/plain": [
       "'loxP control.ZF43-VP64.20240604flow_exp20240601_diffZFa_p1'"
      ]
     },
     "metadata": {},
     "output_type": "display_data"
    },
    {
     "data": {
      "text/plain": [
       "'loxP control.ZF43-VP64.20240604flow_exp20240601_diffZFa_p2'"
      ]
     },
     "metadata": {},
     "output_type": "display_data"
    },
    {
     "data": {
      "text/plain": [
       "'loxP control.ZF43-VP64.20240604flow_exp20240601_diffZFa_p3'"
      ]
     },
     "metadata": {},
     "output_type": "display_data"
    },
    {
     "data": {
      "text/plain": [
       "'loxP control.noZF.20240120flow_exp20240117_p1'"
      ]
     },
     "metadata": {},
     "output_type": "display_data"
    },
    {
     "data": {
      "text/plain": [
       "'loxP control.noZF.20240126flow_exp20240123_p2'"
      ]
     },
     "metadata": {},
     "output_type": "display_data"
    },
    {
     "data": {
      "text/plain": [
       "'loxP control.noZF.20240129flow_exp20240126_p2'"
      ]
     },
     "metadata": {},
     "output_type": "display_data"
    },
    {
     "data": {
      "text/html": [
       "<div>\n",
       "<style scoped>\n",
       "    .dataframe tbody tr th:only-of-type {\n",
       "        vertical-align: middle;\n",
       "    }\n",
       "\n",
       "    .dataframe tbody tr th {\n",
       "        vertical-align: top;\n",
       "    }\n",
       "\n",
       "    .dataframe thead th {\n",
       "        text-align: right;\n",
       "    }\n",
       "</style>\n",
       "<table border=\"1\" class=\"dataframe\">\n",
       "  <thead>\n",
       "    <tr style=\"text-align: right;\">\n",
       "      <th></th>\n",
       "      <th>reporter</th>\n",
       "      <th>ZF</th>\n",
       "      <th>Cre</th>\n",
       "      <th>reporter.ZF.Cre</th>\n",
       "      <th>ZF.Cre</th>\n",
       "      <th>reporter.ZF</th>\n",
       "      <th>reporter.ZF.bioreplicate</th>\n",
       "      <th>bioreplicate</th>\n",
       "      <th>mGL-A_gmean</th>\n",
       "      <th>mGL-A_median</th>\n",
       "      <th>...</th>\n",
       "      <th>mCherry-A_median</th>\n",
       "      <th>mCherry-A_std</th>\n",
       "      <th>mCherry-A_mean</th>\n",
       "      <th>Fraction</th>\n",
       "      <th>Count</th>\n",
       "      <th>ZF43map</th>\n",
       "      <th>ZF43norm</th>\n",
       "      <th>Fold Change Same Both</th>\n",
       "      <th>noCre</th>\n",
       "      <th>Fold Change</th>\n",
       "    </tr>\n",
       "  </thead>\n",
       "  <tbody>\n",
       "    <tr>\n",
       "      <th>0</th>\n",
       "      <td>203bp</td>\n",
       "      <td>ZF37-VP16</td>\n",
       "      <td>Cre</td>\n",
       "      <td>203bp.ZF37-VP16.Cre</td>\n",
       "      <td>ZF37-VP16.Cre</td>\n",
       "      <td>203bp.ZF37-VP16</td>\n",
       "      <td>203bp.ZF37-VP16.20240604flow_exp20240601_diffZ...</td>\n",
       "      <td>20240604flow_exp20240601_diffZFa_p1</td>\n",
       "      <td>1013.124934</td>\n",
       "      <td>1216.5</td>\n",
       "      <td>...</td>\n",
       "      <td>1511.0</td>\n",
       "      <td>7428.100218</td>\n",
       "      <td>3813.586645</td>\n",
       "      <td>1.0</td>\n",
       "      <td>1258</td>\n",
       "      <td>149.5584</td>\n",
       "      <td>6.774109</td>\n",
       "      <td>6.084959</td>\n",
       "      <td>166.496605</td>\n",
       "      <td>6.084959</td>\n",
       "    </tr>\n",
       "    <tr>\n",
       "      <th>1</th>\n",
       "      <td>203bp</td>\n",
       "      <td>ZF37-VP16</td>\n",
       "      <td>Cre</td>\n",
       "      <td>203bp.ZF37-VP16.Cre</td>\n",
       "      <td>ZF37-VP16.Cre</td>\n",
       "      <td>203bp.ZF37-VP16</td>\n",
       "      <td>203bp.ZF37-VP16.20240604flow_exp20240601_diffZ...</td>\n",
       "      <td>20240604flow_exp20240601_diffZFa_p2</td>\n",
       "      <td>1029.124452</td>\n",
       "      <td>1348.0</td>\n",
       "      <td>...</td>\n",
       "      <td>1613.0</td>\n",
       "      <td>6207.593621</td>\n",
       "      <td>3522.806182</td>\n",
       "      <td>1.0</td>\n",
       "      <td>1197</td>\n",
       "      <td>149.5584</td>\n",
       "      <td>6.881088</td>\n",
       "      <td>5.613002</td>\n",
       "      <td>183.346538</td>\n",
       "      <td>5.613002</td>\n",
       "    </tr>\n",
       "    <tr>\n",
       "      <th>2</th>\n",
       "      <td>203bp</td>\n",
       "      <td>ZF37-VP16</td>\n",
       "      <td>Cre</td>\n",
       "      <td>203bp.ZF37-VP16.Cre</td>\n",
       "      <td>ZF37-VP16.Cre</td>\n",
       "      <td>203bp.ZF37-VP16</td>\n",
       "      <td>203bp.ZF37-VP16.20240604flow_exp20240601_diffZ...</td>\n",
       "      <td>20240604flow_exp20240601_diffZFa_p3</td>\n",
       "      <td>1080.020117</td>\n",
       "      <td>1362.0</td>\n",
       "      <td>...</td>\n",
       "      <td>1814.0</td>\n",
       "      <td>8543.130448</td>\n",
       "      <td>4778.790972</td>\n",
       "      <td>1.0</td>\n",
       "      <td>1019</td>\n",
       "      <td>149.5584</td>\n",
       "      <td>7.221394</td>\n",
       "      <td>5.92433</td>\n",
       "      <td>182.302493</td>\n",
       "      <td>5.92433</td>\n",
       "    </tr>\n",
       "    <tr>\n",
       "      <th>3</th>\n",
       "      <td>203bp</td>\n",
       "      <td>ZF37-VP16</td>\n",
       "      <td>noCre</td>\n",
       "      <td>203bp.ZF37-VP16.noCre</td>\n",
       "      <td>ZF37-VP16.noCre</td>\n",
       "      <td>203bp.ZF37-VP16</td>\n",
       "      <td>203bp.ZF37-VP16.20240604flow_exp20240601_diffZ...</td>\n",
       "      <td>20240604flow_exp20240601_diffZFa_p1</td>\n",
       "      <td>166.496605</td>\n",
       "      <td>176.0</td>\n",
       "      <td>...</td>\n",
       "      <td>1551.0</td>\n",
       "      <td>5677.283204</td>\n",
       "      <td>3454.199868</td>\n",
       "      <td>1.0</td>\n",
       "      <td>1511</td>\n",
       "      <td>149.5584</td>\n",
       "      <td>1.113255</td>\n",
       "      <td>6.084959</td>\n",
       "      <td>166.496605</td>\n",
       "      <td>1.0</td>\n",
       "    </tr>\n",
       "    <tr>\n",
       "      <th>4</th>\n",
       "      <td>203bp</td>\n",
       "      <td>ZF37-VP16</td>\n",
       "      <td>noCre</td>\n",
       "      <td>203bp.ZF37-VP16.noCre</td>\n",
       "      <td>ZF37-VP16.noCre</td>\n",
       "      <td>203bp.ZF37-VP16</td>\n",
       "      <td>203bp.ZF37-VP16.20240604flow_exp20240601_diffZ...</td>\n",
       "      <td>20240604flow_exp20240601_diffZFa_p2</td>\n",
       "      <td>183.346538</td>\n",
       "      <td>202.0</td>\n",
       "      <td>...</td>\n",
       "      <td>1396.0</td>\n",
       "      <td>6984.936388</td>\n",
       "      <td>3286.536090</td>\n",
       "      <td>1.0</td>\n",
       "      <td>1427</td>\n",
       "      <td>149.5584</td>\n",
       "      <td>1.225919</td>\n",
       "      <td>5.613002</td>\n",
       "      <td>183.346538</td>\n",
       "      <td>1.0</td>\n",
       "    </tr>\n",
       "  </tbody>\n",
       "</table>\n",
       "<p>5 rows × 27 columns</p>\n",
       "</div>"
      ],
      "text/plain": [
       "  reporter         ZF    Cre        reporter.ZF.Cre           ZF.Cre  \\\n",
       "0    203bp  ZF37-VP16    Cre    203bp.ZF37-VP16.Cre    ZF37-VP16.Cre   \n",
       "1    203bp  ZF37-VP16    Cre    203bp.ZF37-VP16.Cre    ZF37-VP16.Cre   \n",
       "2    203bp  ZF37-VP16    Cre    203bp.ZF37-VP16.Cre    ZF37-VP16.Cre   \n",
       "3    203bp  ZF37-VP16  noCre  203bp.ZF37-VP16.noCre  ZF37-VP16.noCre   \n",
       "4    203bp  ZF37-VP16  noCre  203bp.ZF37-VP16.noCre  ZF37-VP16.noCre   \n",
       "\n",
       "       reporter.ZF                           reporter.ZF.bioreplicate  \\\n",
       "0  203bp.ZF37-VP16  203bp.ZF37-VP16.20240604flow_exp20240601_diffZ...   \n",
       "1  203bp.ZF37-VP16  203bp.ZF37-VP16.20240604flow_exp20240601_diffZ...   \n",
       "2  203bp.ZF37-VP16  203bp.ZF37-VP16.20240604flow_exp20240601_diffZ...   \n",
       "3  203bp.ZF37-VP16  203bp.ZF37-VP16.20240604flow_exp20240601_diffZ...   \n",
       "4  203bp.ZF37-VP16  203bp.ZF37-VP16.20240604flow_exp20240601_diffZ...   \n",
       "\n",
       "                          bioreplicate  mGL-A_gmean  mGL-A_median  ...  \\\n",
       "0  20240604flow_exp20240601_diffZFa_p1  1013.124934        1216.5  ...   \n",
       "1  20240604flow_exp20240601_diffZFa_p2  1029.124452        1348.0  ...   \n",
       "2  20240604flow_exp20240601_diffZFa_p3  1080.020117        1362.0  ...   \n",
       "3  20240604flow_exp20240601_diffZFa_p1   166.496605         176.0  ...   \n",
       "4  20240604flow_exp20240601_diffZFa_p2   183.346538         202.0  ...   \n",
       "\n",
       "   mCherry-A_median  mCherry-A_std  mCherry-A_mean  Fraction  Count   ZF43map  \\\n",
       "0            1511.0    7428.100218     3813.586645       1.0   1258  149.5584   \n",
       "1            1613.0    6207.593621     3522.806182       1.0   1197  149.5584   \n",
       "2            1814.0    8543.130448     4778.790972       1.0   1019  149.5584   \n",
       "3            1551.0    5677.283204     3454.199868       1.0   1511  149.5584   \n",
       "4            1396.0    6984.936388     3286.536090       1.0   1427  149.5584   \n",
       "\n",
       "   ZF43norm  Fold Change Same Both       noCre  Fold Change  \n",
       "0  6.774109               6.084959  166.496605     6.084959  \n",
       "1  6.881088               5.613002  183.346538     5.613002  \n",
       "2  7.221394                5.92433  182.302493      5.92433  \n",
       "3  1.113255               6.084959  166.496605          1.0  \n",
       "4  1.225919               5.613002  183.346538          1.0  \n",
       "\n",
       "[5 rows x 27 columns]"
      ]
     },
     "metadata": {},
     "output_type": "display_data"
    }
   ],
   "source": [
    "s_foldchange_map = {'test':'test'}\n",
    "s_noCre_map  = {'test':'test'}\n",
    "\n",
    "for rept_ZF_biorep in pd.unique(s_bioreplicate['reporter.ZF.bioreplicate']): \n",
    "    display(rept_ZF_biorep)\n",
    "    data_now = s_bioreplicate[ s_bioreplicate['reporter.ZF.bioreplicate'] == rept_ZF_biorep] \n",
    "    mGL_Cre = data_now[ data_now['Cre'] == 'Cre']['mGL-A_gmean'].iloc[0]\n",
    "    mGL_noCre = data_now[ data_now['Cre'] == 'noCre']['mGL-A_gmean'].iloc[0]\n",
    "    mGL_foldchange = mGL_Cre / mGL_noCre\n",
    "    s_foldchange_map[rept_ZF_biorep] = mGL_foldchange\n",
    "    s_noCre_map[rept_ZF_biorep] = mGL_noCre\n",
    "\n",
    "s_bioreplicate['Fold Change Same Both'] = s_bioreplicate['reporter.ZF.bioreplicate'].map(s_foldchange_map)\n",
    "s_bioreplicate['noCre'] = s_bioreplicate['reporter.ZF.bioreplicate'].map(s_noCre_map)\n",
    "s_bioreplicate['Fold Change'] = s_bioreplicate['mGL-A_gmean'] / s_bioreplicate['noCre']\n",
    "\n",
    "display(s_bioreplicate.head())\n",
    "#s_bioreplicate[['reporter.ZF.Cre','mGL-A_gmean','mCherry-A_gmean','TagBFP-A_gmean']].to_excel('Fig1F_S5E_S5F_ZFa-panel.xlsx',index=False)"
   ]
  },
  {
   "cell_type": "code",
   "execution_count": 36,
   "metadata": {},
   "outputs": [
    {
     "name": "stdout",
     "output_type": "stream",
     "text": [
      "<FloatingArray>\n",
      "[1.312732562760911, 4.883235852424572, 4.551285403831998, 5.874096766153737,\n",
      " 5.995673022441831, 22.55695982301235]\n",
      "Length: 6, dtype: Float64\n"
     ]
    }
   ],
   "source": [
    "noZF_rows = s_bioreplicate.loc[s_bioreplicate['reporter.ZF.Cre'] == '203bp.noZF.Cre']\n",
    "ZF37_vp16_rows = s_bioreplicate.loc[s_bioreplicate['reporter.ZF.Cre'] == '203bp.ZF37-VP16.Cre']\n",
    "ZF37_vp64_rows = s_bioreplicate.loc[s_bioreplicate['reporter.ZF.Cre'] == '203bp.ZF37-VP64.Cre']\n",
    "ZF37_vpr_rows = s_bioreplicate.loc[s_bioreplicate['reporter.ZF.Cre'] == '203bp.ZF37-VPR.Cre']\n",
    "ZF43_vp16_rows = s_bioreplicate.loc[s_bioreplicate['reporter.ZF.Cre'] == '203bp.ZF43-VP16.Cre']\n",
    "ZF43_vp64_rows = s_bioreplicate.loc[s_bioreplicate['reporter.ZF.Cre'] == '203bp.ZF43-VP64.Cre']\n",
    "\n",
    "noZF_fold = noZF_rows['Fold Change']\n",
    "ZF37_vp16_fold = ZF37_vp16_rows['Fold Change']\n",
    "ZF37_vp64_fold = ZF37_vp64_rows['Fold Change']\n",
    "ZF37_vpr_fold = ZF37_vpr_rows['Fold Change']\n",
    "ZF43_vp16_fold = ZF43_vp16_rows['Fold Change']\n",
    "ZF43_vp64_fold = ZF43_vp64_rows['Fold Change']\n",
    "\n",
    "mean_noZF_fold = noZF_fold.mean()\n",
    "mean_ZF37_vp16_fold = ZF37_vp16_fold.mean()\n",
    "mean_ZF37_vp64_fold = ZF37_vp64_fold.mean()\n",
    "mean_ZF37_vpr_fold = ZF37_vpr_fold.mean()\n",
    "mean_ZF43_vp16_fold = ZF43_vp16_fold.mean()\n",
    "mean_ZF43_vp64_fold = ZF43_vp64_fold.mean()\n",
    "\n",
    "all_mean_foldchanges = pd.array([mean_noZF_fold,\n",
    "                                 mean_ZF43_vp16_fold,\n",
    "                                 mean_ZF43_vp64_fold,\n",
    "                                 mean_ZF37_vp16_fold,\n",
    "                                 mean_ZF37_vp64_fold,\n",
    "                                 mean_ZF37_vpr_fold])\n",
    "\n",
    "print(all_mean_foldchanges)"
   ]
  },
  {
   "cell_type": "code",
   "execution_count": 37,
   "metadata": {},
   "outputs": [
    {
     "data": {
      "text/html": [
       "<div>\n",
       "<style scoped>\n",
       "    .dataframe tbody tr th:only-of-type {\n",
       "        vertical-align: middle;\n",
       "    }\n",
       "\n",
       "    .dataframe tbody tr th {\n",
       "        vertical-align: top;\n",
       "    }\n",
       "\n",
       "    .dataframe thead th {\n",
       "        text-align: right;\n",
       "    }\n",
       "</style>\n",
       "<table border=\"1\" class=\"dataframe\">\n",
       "  <thead>\n",
       "    <tr style=\"text-align: right;\">\n",
       "      <th></th>\n",
       "      <th>reporter</th>\n",
       "      <th>ZF</th>\n",
       "      <th>Cre</th>\n",
       "      <th>reporter.ZF.Cre</th>\n",
       "      <th>ZF.Cre</th>\n",
       "      <th>reporter.ZF</th>\n",
       "      <th>reporter.ZF.bioreplicate</th>\n",
       "      <th>bioreplicate</th>\n",
       "      <th>mGL-A_gmean</th>\n",
       "      <th>mGL-A_median</th>\n",
       "      <th>...</th>\n",
       "      <th>mCherry-A_median</th>\n",
       "      <th>mCherry-A_std</th>\n",
       "      <th>mCherry-A_mean</th>\n",
       "      <th>Fraction</th>\n",
       "      <th>Count</th>\n",
       "      <th>ZF43map</th>\n",
       "      <th>ZF43norm</th>\n",
       "      <th>Fold Change Same Both</th>\n",
       "      <th>noCre</th>\n",
       "      <th>Fold Change</th>\n",
       "    </tr>\n",
       "  </thead>\n",
       "  <tbody>\n",
       "    <tr>\n",
       "      <th>0</th>\n",
       "      <td>203bp</td>\n",
       "      <td>ZF37-VP16</td>\n",
       "      <td>Cre</td>\n",
       "      <td>203bp.ZF37-VP16.Cre</td>\n",
       "      <td>ZF37-VP16.Cre</td>\n",
       "      <td>203bp.ZF37-VP16</td>\n",
       "      <td>203bp.ZF37-VP16.20240604flow_exp20240601_diffZ...</td>\n",
       "      <td>20240604flow_exp20240601_diffZFa_p1</td>\n",
       "      <td>1013.124934</td>\n",
       "      <td>1216.5</td>\n",
       "      <td>...</td>\n",
       "      <td>1511.0</td>\n",
       "      <td>7428.100218</td>\n",
       "      <td>3813.586645</td>\n",
       "      <td>1.0</td>\n",
       "      <td>1258</td>\n",
       "      <td>386.729436</td>\n",
       "      <td>2.619725</td>\n",
       "      <td>6.084959</td>\n",
       "      <td>166.496605</td>\n",
       "      <td>6.084959</td>\n",
       "    </tr>\n",
       "    <tr>\n",
       "      <th>1</th>\n",
       "      <td>203bp</td>\n",
       "      <td>ZF37-VP16</td>\n",
       "      <td>Cre</td>\n",
       "      <td>203bp.ZF37-VP16.Cre</td>\n",
       "      <td>ZF37-VP16.Cre</td>\n",
       "      <td>203bp.ZF37-VP16</td>\n",
       "      <td>203bp.ZF37-VP16.20240604flow_exp20240601_diffZ...</td>\n",
       "      <td>20240604flow_exp20240601_diffZFa_p2</td>\n",
       "      <td>1029.124452</td>\n",
       "      <td>1348.0</td>\n",
       "      <td>...</td>\n",
       "      <td>1613.0</td>\n",
       "      <td>6207.593621</td>\n",
       "      <td>3522.806182</td>\n",
       "      <td>1.0</td>\n",
       "      <td>1197</td>\n",
       "      <td>386.729436</td>\n",
       "      <td>2.661097</td>\n",
       "      <td>5.613002</td>\n",
       "      <td>183.346538</td>\n",
       "      <td>5.613002</td>\n",
       "    </tr>\n",
       "    <tr>\n",
       "      <th>2</th>\n",
       "      <td>203bp</td>\n",
       "      <td>ZF37-VP16</td>\n",
       "      <td>Cre</td>\n",
       "      <td>203bp.ZF37-VP16.Cre</td>\n",
       "      <td>ZF37-VP16.Cre</td>\n",
       "      <td>203bp.ZF37-VP16</td>\n",
       "      <td>203bp.ZF37-VP16.20240604flow_exp20240601_diffZ...</td>\n",
       "      <td>20240604flow_exp20240601_diffZFa_p3</td>\n",
       "      <td>1080.020117</td>\n",
       "      <td>1362.0</td>\n",
       "      <td>...</td>\n",
       "      <td>1814.0</td>\n",
       "      <td>8543.130448</td>\n",
       "      <td>4778.790972</td>\n",
       "      <td>1.0</td>\n",
       "      <td>1019</td>\n",
       "      <td>386.729436</td>\n",
       "      <td>2.792702</td>\n",
       "      <td>5.92433</td>\n",
       "      <td>182.302493</td>\n",
       "      <td>5.92433</td>\n",
       "    </tr>\n",
       "    <tr>\n",
       "      <th>3</th>\n",
       "      <td>203bp</td>\n",
       "      <td>ZF37-VP16</td>\n",
       "      <td>Cre</td>\n",
       "      <td>203bp.ZF37-VP16.Cre</td>\n",
       "      <td>ZF37-VP16.Cre</td>\n",
       "      <td>203bp.ZF37-VP16</td>\n",
       "      <td>203bp.ZF37-VP16.20250117_ZFtypes-test</td>\n",
       "      <td>20250117_ZFtypes-test</td>\n",
       "      <td>7964.234071</td>\n",
       "      <td>7876.0</td>\n",
       "      <td>...</td>\n",
       "      <td>1374.0</td>\n",
       "      <td>5181.027483</td>\n",
       "      <td>3200.536362</td>\n",
       "      <td>1.0</td>\n",
       "      <td>6339</td>\n",
       "      <td>386.729436</td>\n",
       "      <td>20.593814</td>\n",
       "      <td>11.542963</td>\n",
       "      <td>689.964417</td>\n",
       "      <td>11.542963</td>\n",
       "    </tr>\n",
       "    <tr>\n",
       "      <th>4</th>\n",
       "      <td>203bp</td>\n",
       "      <td>ZF37-VP16</td>\n",
       "      <td>Cre</td>\n",
       "      <td>203bp.ZF37-VP16.Cre</td>\n",
       "      <td>ZF37-VP16.Cre</td>\n",
       "      <td>203bp.ZF37-VP16</td>\n",
       "      <td>203bp.ZF37-VP16.20250127_ZFtypes_twoplates_p1</td>\n",
       "      <td>20250127_ZFtypes_twoplates_p1</td>\n",
       "      <td>8227.773978</td>\n",
       "      <td>8329.5</td>\n",
       "      <td>...</td>\n",
       "      <td>1958.5</td>\n",
       "      <td>7088.770294</td>\n",
       "      <td>4253.142222</td>\n",
       "      <td>1.0</td>\n",
       "      <td>8318</td>\n",
       "      <td>386.729436</td>\n",
       "      <td>21.275272</td>\n",
       "      <td>9.599826</td>\n",
       "      <td>857.075366</td>\n",
       "      <td>9.599826</td>\n",
       "    </tr>\n",
       "  </tbody>\n",
       "</table>\n",
       "<p>5 rows × 27 columns</p>\n",
       "</div>"
      ],
      "text/plain": [
       "  reporter         ZF  Cre      reporter.ZF.Cre         ZF.Cre  \\\n",
       "0    203bp  ZF37-VP16  Cre  203bp.ZF37-VP16.Cre  ZF37-VP16.Cre   \n",
       "1    203bp  ZF37-VP16  Cre  203bp.ZF37-VP16.Cre  ZF37-VP16.Cre   \n",
       "2    203bp  ZF37-VP16  Cre  203bp.ZF37-VP16.Cre  ZF37-VP16.Cre   \n",
       "3    203bp  ZF37-VP16  Cre  203bp.ZF37-VP16.Cre  ZF37-VP16.Cre   \n",
       "4    203bp  ZF37-VP16  Cre  203bp.ZF37-VP16.Cre  ZF37-VP16.Cre   \n",
       "\n",
       "       reporter.ZF                           reporter.ZF.bioreplicate  \\\n",
       "0  203bp.ZF37-VP16  203bp.ZF37-VP16.20240604flow_exp20240601_diffZ...   \n",
       "1  203bp.ZF37-VP16  203bp.ZF37-VP16.20240604flow_exp20240601_diffZ...   \n",
       "2  203bp.ZF37-VP16  203bp.ZF37-VP16.20240604flow_exp20240601_diffZ...   \n",
       "3  203bp.ZF37-VP16              203bp.ZF37-VP16.20250117_ZFtypes-test   \n",
       "4  203bp.ZF37-VP16      203bp.ZF37-VP16.20250127_ZFtypes_twoplates_p1   \n",
       "\n",
       "                          bioreplicate  mGL-A_gmean  mGL-A_median  ...  \\\n",
       "0  20240604flow_exp20240601_diffZFa_p1  1013.124934        1216.5  ...   \n",
       "1  20240604flow_exp20240601_diffZFa_p2  1029.124452        1348.0  ...   \n",
       "2  20240604flow_exp20240601_diffZFa_p3  1080.020117        1362.0  ...   \n",
       "3                20250117_ZFtypes-test  7964.234071        7876.0  ...   \n",
       "4        20250127_ZFtypes_twoplates_p1  8227.773978        8329.5  ...   \n",
       "\n",
       "   mCherry-A_median  mCherry-A_std  mCherry-A_mean  Fraction  Count  \\\n",
       "0            1511.0    7428.100218     3813.586645       1.0   1258   \n",
       "1            1613.0    6207.593621     3522.806182       1.0   1197   \n",
       "2            1814.0    8543.130448     4778.790972       1.0   1019   \n",
       "3            1374.0    5181.027483     3200.536362       1.0   6339   \n",
       "4            1958.5    7088.770294     4253.142222       1.0   8318   \n",
       "\n",
       "      ZF43map   ZF43norm  Fold Change Same Both       noCre  Fold Change  \n",
       "0  386.729436   2.619725               6.084959  166.496605     6.084959  \n",
       "1  386.729436   2.661097               5.613002  183.346538     5.613002  \n",
       "2  386.729436   2.792702                5.92433  182.302493      5.92433  \n",
       "3  386.729436  20.593814              11.542963  689.964417    11.542963  \n",
       "4  386.729436  21.275272               9.599826  857.075366     9.599826  \n",
       "\n",
       "[5 rows x 27 columns]"
      ]
     },
     "metadata": {},
     "output_type": "display_data"
    },
    {
     "name": "stdout",
     "output_type": "stream",
     "text": [
      "<FloatingArray>\n",
      "[1.3238867632110423,  4.008816435630356,  3.292041228839077,\n",
      "  6.634943193727626,   5.36702967108182, 16.951582361623082]\n",
      "Length: 6, dtype: Float64\n"
     ]
    }
   ],
   "source": [
    "# Fold changes with all the extra reps \n",
    "s_foldchange_map = {'test':'test'}\n",
    "s_noCre_map  = {'test':'test'}\n",
    "\n",
    "for rept_ZF_biorep in pd.unique(s_bioreplicate2['reporter.ZF.bioreplicate']): \n",
    "    data_now = s_bioreplicate2[ s_bioreplicate2['reporter.ZF.bioreplicate'] == rept_ZF_biorep] \n",
    "    mGL_Cre = data_now[ data_now['Cre'] == 'Cre']['mGL-A_gmean'].iloc[0]\n",
    "    mGL_noCre = data_now[ data_now['Cre'] == 'noCre']['mGL-A_gmean'].iloc[0]\n",
    "    mGL_foldchange = mGL_Cre / mGL_noCre\n",
    "    s_foldchange_map[rept_ZF_biorep] = mGL_foldchange\n",
    "    s_noCre_map[rept_ZF_biorep] = mGL_noCre\n",
    "\n",
    "s_bioreplicate2['Fold Change Same Both'] = s_bioreplicate2['reporter.ZF.bioreplicate'].map(s_foldchange_map)\n",
    "s_bioreplicate2['noCre'] = s_bioreplicate2['reporter.ZF.bioreplicate'].map(s_noCre_map)\n",
    "s_bioreplicate2['Fold Change'] = s_bioreplicate2['mGL-A_gmean'] / s_bioreplicate2['noCre']\n",
    "\n",
    "display(s_bioreplicate2.head())\n",
    "#s_bioreplicate[['reporter.ZF.Cre','mGL-A_gmean','mCherry-A_gmean','TagBFP-A_gmean']].to_excel('Fig1F_S5E_S5F_ZFa-panel.xlsx',index=False)\n",
    "noZF_rows = s_bioreplicate2.loc[s_bioreplicate2['reporter.ZF.Cre'] == '203bp.noZF.Cre']\n",
    "ZF37_vp16_rows = s_bioreplicate2.loc[s_bioreplicate2['reporter.ZF.Cre'] == '203bp.ZF37-VP16.Cre']\n",
    "ZF37_vp64_rows = s_bioreplicate2.loc[s_bioreplicate2['reporter.ZF.Cre'] == '203bp.ZF37-VP64.Cre']\n",
    "ZF37_vpr_rows = s_bioreplicate2.loc[s_bioreplicate2['reporter.ZF.Cre'] == '203bp.ZF37-VPR.Cre']\n",
    "ZF43_vp16_rows = s_bioreplicate2.loc[s_bioreplicate2['reporter.ZF.Cre'] == '203bp.ZF43-VP16.Cre']\n",
    "ZF43_vp64_rows = s_bioreplicate2.loc[s_bioreplicate2['reporter.ZF.Cre'] == '203bp.ZF43-VP64.Cre']\n",
    "\n",
    "noZF_fold = noZF_rows['Fold Change']\n",
    "ZF37_vp16_fold = ZF37_vp16_rows['Fold Change']\n",
    "ZF37_vp64_fold = ZF37_vp64_rows['Fold Change']\n",
    "ZF37_vpr_fold = ZF37_vpr_rows['Fold Change']\n",
    "ZF43_vp16_fold = ZF43_vp16_rows['Fold Change']\n",
    "ZF43_vp64_fold = ZF43_vp64_rows['Fold Change']\n",
    "\n",
    "mean_noZF_fold = noZF_fold.mean()\n",
    "mean_ZF37_vp16_fold = ZF37_vp16_fold.mean()\n",
    "mean_ZF37_vp64_fold = ZF37_vp64_fold.mean()\n",
    "mean_ZF37_vpr_fold = ZF37_vpr_fold.mean()\n",
    "mean_ZF43_vp16_fold = ZF43_vp16_fold.mean()\n",
    "mean_ZF43_vp64_fold = ZF43_vp64_fold.mean()\n",
    "\n",
    "all_mean_foldchanges = pd.array([mean_noZF_fold,\n",
    "                                 mean_ZF43_vp16_fold,\n",
    "                                 mean_ZF43_vp64_fold,\n",
    "                                 mean_ZF37_vp16_fold,\n",
    "                                 mean_ZF37_vp64_fold,\n",
    "                                 mean_ZF37_vpr_fold])\n",
    "\n",
    "print(all_mean_foldchanges)"
   ]
  },
  {
   "cell_type": "markdown",
   "metadata": {},
   "source": [
    "## Plot Fold Change Per Reporter"
   ]
  },
  {
   "cell_type": "code",
   "execution_count": 56,
   "metadata": {},
   "outputs": [
    {
     "data": {
      "image/png": "[encoded data removed]",
      "text/plain": [
       "<Figure size 360x180 with 1 Axes>"
      ]
     },
     "metadata": {
      "needs_background": "light"
     },
     "output_type": "display_data"
    },
    {
     "data": {
      "text/plain": [
       "<Figure size 432x288 with 0 Axes>"
      ]
     },
     "metadata": {},
     "output_type": "display_data"
    },
    {
     "data": {
      "image/png": "[encoded data removed]",
      "text/plain": [
       "<Figure size 360x180 with 1 Axes>"
      ]
     },
     "metadata": {
      "needs_background": "light"
     },
     "output_type": "display_data"
    },
    {
     "data": {
      "text/plain": [
       "<Figure size 432x288 with 0 Axes>"
      ]
     },
     "metadata": {},
     "output_type": "display_data"
    },
    {
     "data": {
      "image/png": "[encoded data removed]",
      "text/plain": [
       "<Figure size 360x180 with 1 Axes>"
      ]
     },
     "metadata": {
      "needs_background": "light"
     },
     "output_type": "display_data"
    },
    {
     "data": {
      "text/plain": [
       "<Figure size 432x288 with 0 Axes>"
      ]
     },
     "metadata": {},
     "output_type": "display_data"
    },
    {
     "data": {
      "image/png": "[encoded data removed]",
      "text/plain": [
       "<Figure size 360x180 with 1 Axes>"
      ]
     },
     "metadata": {
      "needs_background": "light"
     },
     "output_type": "display_data"
    },
    {
     "data": {
      "text/plain": [
       "<Figure size 432x288 with 0 Axes>"
      ]
     },
     "metadata": {},
     "output_type": "display_data"
    }
   ],
   "source": [
    "#Plot summary plot for the desired statistics\n",
    "\n",
    "#List of stats to plot \n",
    "stats_plot = pd.array( ['Fold Change'])\n",
    "\n",
    "order = palette_ZF_Cre ; palette = palette_ZF_Cre; hue_order = None; x = 'ZF.Cre'; hue=None; yscale= 'linear'\n",
    "ylim = [0,10]\n",
    "\n",
    "#Only plot some reporters\n",
    "\n",
    "#Set p-value significance comparisons \n",
    "pairs  = []\n",
    "fontsize = 15; xsize =5; ysize=2.5\n",
    "\n",
    "for rept in repts:\n",
    "        for stat in stats_plot: \n",
    "                y = stat # set the stat to plot\n",
    "                plottitle = rept + ' ' + stat +  'by biorep'\n",
    "                data_now = s_bioreplicate[ s_bioreplicate['reporter']==rept]\n",
    "                plt.figure(figsize=(xsize,ysize))\n",
    "                plt.axhline(y=1, ls='--', color='lightgray')\n",
    "                g = summary_plot( x=x, y=y, hue=hue, data=data_now, pairs=pairs, yscale=yscale, ylim=ylim,\n",
    "                                x_rot=45, palette = palette, order=order, hue_order=hue_order, plottitle=plottitle, \n",
    "                                fontsize=fontsize, scientific=False\n",
    "                                )\n",
    "                g.figure.savefig(figure_folder + plottitle + '.svg',dpi=300,bbox_inches='tight')\n",
    "\n",
    "ylim = [15,25]\n",
    "for rept in repts:\n",
    "        for stat in stats_plot: \n",
    "                y = stat # set the stat to plot\n",
    "                plottitle = rept + ' ' + stat +  'by biorep larger range'\n",
    "                data_now = s_bioreplicate[ s_bioreplicate['reporter']==rept]\n",
    "                plt.figure(figsize=(xsize,ysize))\n",
    "                plt.axhline(y=1, ls='--', color='lightgray')\n",
    "                g = summary_plot( x=x, y=y, hue=hue, data=data_now, pairs=pairs, yscale=yscale, ylim=ylim,\n",
    "                                x_rot=45, palette = palette, order=order, hue_order=hue_order, plottitle=plottitle, \n",
    "                                fontsize=fontsize, scientific=False\n",
    "                                )\n",
    "                g.figure.savefig(figure_folder + plottitle + '.svg',dpi=300,bbox_inches='tight')\n",
    "\n",
    "\n"
   ]
  },
  {
   "cell_type": "markdown",
   "metadata": {},
   "source": [
    "# Calculate fold change from -Cre ZF43\n",
    "\n",
    "per biorep analysis, not used in figure -- all extra data not analyzed, but could be done as shown below "
   ]
  },
  {
   "cell_type": "code",
   "execution_count": 38,
   "metadata": {},
   "outputs": [
    {
     "data": {
      "text/plain": [
       "array(['20240604flow_exp20240601_diffZFa_p1',\n",
       "       '20240604flow_exp20240601_diffZFa_p2',\n",
       "       '20240604flow_exp20240601_diffZFa_p3',\n",
       "       '20240126flow_exp20240123_p2', '20240129flow_exp20240126_p2',\n",
       "       '20240111flow_exp20240108_p1', '20240120flow_exp20240117_p1',\n",
       "       '20240118flow_exp20240115_p1', '20250117_ZFtypes-test',\n",
       "       '20250127_ZFtypes_twoplates_p1', '20250127_ZFtypes_twoplates_p2',\n",
       "       '20250829_diffZFa_p1', '20250901_diffZFa_p1',\n",
       "       '20250901_diffZFa_p2'], dtype=object)"
      ]
     },
     "execution_count": 38,
     "metadata": {},
     "output_type": "execute_result"
    }
   ],
   "source": [
    "data_iRFP670gated['bioreplicate'].unique()"
   ]
  },
  {
   "cell_type": "code",
   "execution_count": 39,
   "metadata": {},
   "outputs": [],
   "source": [
    "bioreps_keep = pd.array(['20240604flow_exp20240601_diffZFa_p1',\n",
    "       '20240604flow_exp20240601_diffZFa_p2',\n",
    "       '20240604flow_exp20240601_diffZFa_p3', ])\n",
    "\n",
    "bioreps_keep_extra = pd.array(['20240604flow_exp20240601_diffZFa_p1',\n",
    "       '20240604flow_exp20240601_diffZFa_p2',\n",
    "       '20240604flow_exp20240601_diffZFa_p3', '20250117_ZFtypes-test',\n",
    "       '20250127_ZFtypes_twoplates_p1', '20250127_ZFtypes_twoplates_p2', '20250829_diffZFa_p1', '20250901_diffZFa_p1',\n",
    "       '20250901_diffZFa_p2'\n",
    "       ])\n",
    "\n",
    "bioreps_keep2 = pd.array(['20240111flow_exp20240108_p1', '20240120flow_exp20240117_p1',\n",
    "       '20240126flow_exp20240123_p2', '20240129flow_exp20240126_p2'])\n",
    "\n",
    "s_activators_only = s_bioreplicate[s_bioreplicate['bioreplicate'].isin(bioreps_keep)]\n",
    "s_all_new = s_bioreplicate2[s_bioreplicate2['bioreplicate'].isin(bioreps_keep_extra)]\n",
    "\n",
    "s_noZF = s_bioreplicate[s_bioreplicate['bioreplicate'].isin(bioreps_keep2)]"
   ]
  },
  {
   "cell_type": "markdown",
   "metadata": {},
   "source": [
    "original "
   ]
  },
  {
   "cell_type": "code",
   "execution_count": 91,
   "metadata": {},
   "outputs": [
    {
     "data": {
      "text/plain": [
       "167.01153904062488"
      ]
     },
     "metadata": {},
     "output_type": "display_data"
    },
    {
     "name": "stderr",
     "output_type": "stream",
     "text": [
      "<ipython-input-91-ab9b9cd0e540>:18: SettingWithCopyWarning: \n",
      "A value is trying to be set on a copy of a slice from a DataFrame.\n",
      "Try using .loc[row_indexer,col_indexer] = value instead\n",
      "\n",
      "See the caveats in the documentation: https://pandas.pydata.org/pandas-docs/stable/user_guide/indexing.html#returning-a-view-versus-a-copy\n",
      "  s_biorep['Normalized_mGL-A_gmean'] = s_biorep.apply(normalize_mGL_gmean, axis=1)\n"
     ]
    },
    {
     "data": {
      "text/plain": [
       "137.4770715171388"
      ]
     },
     "metadata": {},
     "output_type": "display_data"
    },
    {
     "data": {
      "text/plain": [
       "144.1865899370947"
      ]
     },
     "metadata": {},
     "output_type": "display_data"
    },
    {
     "name": "stdout",
     "output_type": "stream",
     "text": [
      "149.5584001649528\n"
     ]
    }
   ],
   "source": [
    "# Normalized summary plots with 3 bioreps to +ZF -Cre of VP16-ZF43\n",
    "\n",
    "s_normalized_ZFa = pd.DataFrame()\n",
    "\n",
    "for biorep in bioreps_keep:\n",
    "    s_biorep = s_activators_only[s_activators_only['bioreplicate'] == biorep] #choose dataframe\n",
    "    \n",
    "    if not s_biorep[(s_biorep['reporter.ZF.Cre']=='203bp.ZF43-VP16.noCre')].empty:\n",
    "            ZF43_noRec = s_biorep[(s_biorep['reporter.ZF.Cre']=='203bp.ZF43-VP16.noCre')]['mGL-A_gmean'].iloc[0]\n",
    "            display(ZF43_noRec)\n",
    "\n",
    "    def normalize_mGL_gmean(row):\n",
    "        if row['reporter'] == '203bp':\n",
    "            return row['mGL-A_gmean'] / ZF43_noRec\n",
    "        if row['reporter'] == 'loxP control':\n",
    "            return row['mGL-A_gmean'] / ZF43_noRec\n",
    "            \n",
    "    s_biorep['Normalized_mGL-A_gmean'] = s_biorep.apply(normalize_mGL_gmean, axis=1)\n",
    "\n",
    "    s_normalized_ZFa = pd.concat([s_normalized_ZFa, s_biorep], ignore_index=True)\n",
    "\n",
    "#display(s_normalized_ZFa)\n",
    "\n",
    "noZF_ZF43 = s_activators_only.loc[s_activators_only['reporter.ZF.Cre'] == '203bp.ZF43-VP16.noCre']\n",
    "\n",
    "noZF_ZF43_mGL = noZF_ZF43['mGL-A_gmean']\n",
    "\n",
    "mean_mGL = noZF_ZF43_mGL.mean()\n",
    "s_noZF['Normalized_mGL-A_gmean'] = s_noZF['mGL-A_gmean'] / mean_mGL\n",
    "#display(s_noZF)\n",
    "\n",
    "print(mean_mGL)\n",
    "\n",
    "s_normalized_combined = pd.concat([s_normalized_ZFa, s_noZF], axis=0)\n",
    "#s_normalized_combined[['reporter.ZF.Cre','mGL-A_gmean','mCherry-A_gmean','TagBFP-A_gmean','Normalized_mGL-A_gmean']].to_excel('Fig1F_ZFa-panel_normalized.xlsx',index=False)"
   ]
  },
  {
   "cell_type": "code",
   "execution_count": 112,
   "metadata": {},
   "outputs": [
    {
     "name": "stderr",
     "output_type": "stream",
     "text": [
      "<string>:538: UserWarning: Attempted to set non-positive bottom ylim on a log-scaled axis.\n",
      "Invalid limit will be ignored.\n"
     ]
    },
    {
     "data": {
      "image/png": "[encoded data removed]",
      "text/plain": [
       "<Figure size 360x180 with 1 Axes>"
      ]
     },
     "metadata": {
      "needs_background": "light"
     },
     "output_type": "display_data"
    },
    {
     "name": "stderr",
     "output_type": "stream",
     "text": [
      "<string>:538: UserWarning: Attempted to set non-positive bottom ylim on a log-scaled axis.\n",
      "Invalid limit will be ignored.\n"
     ]
    },
    {
     "data": {
      "text/plain": [
       "<Figure size 432x288 with 0 Axes>"
      ]
     },
     "metadata": {},
     "output_type": "display_data"
    },
    {
     "data": {
      "image/png": "[encoded data removed]",
      "text/plain": [
       "<Figure size 360x180 with 1 Axes>"
      ]
     },
     "metadata": {
      "needs_background": "light"
     },
     "output_type": "display_data"
    },
    {
     "data": {
      "text/plain": [
       "<Figure size 432x288 with 0 Axes>"
      ]
     },
     "metadata": {},
     "output_type": "display_data"
    }
   ],
   "source": [
    "#Plot summary plot for the desired statistics\n",
    "\n",
    "#List of stats to plot \n",
    "stats_plot = pd.array( ['Normalized_mGL-A_gmean'])\n",
    "\n",
    "order = palette_ZF_Cre ; palette = palette_ZF_Cre; hue_order = None; x = 'ZF.Cre'; hue=None; yscale= 'log'\n",
    "ylim = [0,180]\n",
    "\n",
    "#Only plot some reporters\n",
    "\n",
    "#Set p-value significance comparisons \n",
    "pairs  = []\n",
    "fontsize = 15; xsize =5; ysize=2.5\n",
    "\n",
    "for rept in repts:\n",
    "        for stat in stats_plot: \n",
    "                y = stat # set the stat to plot\n",
    "                plottitle = rept + ' ' + stat +  'new normalization'\n",
    "                data_now = s_normalized_combined[ s_normalized_combined['reporter']==rept]\n",
    "                plt.figure(figsize=(xsize,ysize))\n",
    "                plt.axhline(y=1, ls='--', color='grey')\n",
    "                g = summary_plot( x=x, y=y, hue=hue, data=data_now, pairs=pairs, yscale=yscale, ylim=ylim,dodge=False,\n",
    "                                x_rot=45, palette = palette, order=order, hue_order=hue_order, plottitle='', \n",
    "                                fontsize=fontsize, scientific=False\n",
    "                                )\n",
    "                g.figure.savefig(figure_folder + plottitle + '.svg',dpi=300,bbox_inches='tight')\n"
   ]
  },
  {
   "cell_type": "markdown",
   "metadata": {},
   "source": [
    "with extra"
   ]
  },
  {
   "cell_type": "code",
   "execution_count": 40,
   "metadata": {},
   "outputs": [
    {
     "data": {
      "text/plain": [
       "array(['203bp.ZF37-VP16.Cre', '203bp.ZF37-VP16.noCre',\n",
       "       '203bp.ZF37-VP64.Cre', '203bp.ZF37-VP64.noCre',\n",
       "       '203bp.ZF37-VPR.Cre', '203bp.ZF37-VPR.noCre',\n",
       "       '203bp.ZF43-VP16.Cre', '203bp.ZF43-VP16.noCre',\n",
       "       '203bp.ZF43-VP64.Cre', '203bp.ZF43-VP64.noCre', '203bp.noZF.Cre',\n",
       "       '203bp.noZF.noCre', 'loxP control.ZF37-VP16.Cre',\n",
       "       'loxP control.ZF37-VP16.noCre', 'loxP control.ZF37-VP64.Cre',\n",
       "       'loxP control.ZF37-VP64.noCre', 'loxP control.ZF37-VPR.Cre',\n",
       "       'loxP control.ZF37-VPR.noCre', 'loxP control.ZF43-VP16.Cre',\n",
       "       'loxP control.ZF43-VP16.noCre', 'loxP control.ZF43-VP64.Cre',\n",
       "       'loxP control.ZF43-VP64.noCre', 'loxP control.noZF.Cre',\n",
       "       'loxP control.noZF.noCre'], dtype=object)"
      ]
     },
     "metadata": {},
     "output_type": "display_data"
    }
   ],
   "source": [
    "display(pd.unique(s_bioreplicate2['reporter.ZF.Cre']))"
   ]
  },
  {
   "cell_type": "code",
   "execution_count": 41,
   "metadata": {},
   "outputs": [
    {
     "data": {
      "text/plain": [
       "167.01153904062488"
      ]
     },
     "metadata": {},
     "output_type": "display_data"
    },
    {
     "name": "stderr",
     "output_type": "stream",
     "text": [
      "<ipython-input-41-fee5d5cc50a1>:18: SettingWithCopyWarning: \n",
      "A value is trying to be set on a copy of a slice from a DataFrame.\n",
      "Try using .loc[row_indexer,col_indexer] = value instead\n",
      "\n",
      "See the caveats in the documentation: https://pandas.pydata.org/pandas-docs/stable/user_guide/indexing.html#returning-a-view-versus-a-copy\n",
      "  s_biorep['Normalized_mGL-A_gmean'] = s_biorep.apply(normalize_mGL_gmean, axis=1)\n"
     ]
    },
    {
     "data": {
      "text/plain": [
       "137.4770715171388"
      ]
     },
     "metadata": {},
     "output_type": "display_data"
    },
    {
     "data": {
      "text/plain": [
       "144.1865899370947"
      ]
     },
     "metadata": {},
     "output_type": "display_data"
    },
    {
     "data": {
      "text/plain": [
       "513.7281487582367"
      ]
     },
     "metadata": {},
     "output_type": "display_data"
    },
    {
     "data": {
      "text/plain": [
       "690.9226211393985"
      ]
     },
     "metadata": {},
     "output_type": "display_data"
    },
    {
     "data": {
      "text/plain": [
       "753.0563758342577"
      ]
     },
     "metadata": {},
     "output_type": "display_data"
    },
    {
     "data": {
      "text/plain": [
       "326.203089138043"
      ]
     },
     "metadata": {},
     "output_type": "display_data"
    },
    {
     "data": {
      "text/plain": [
       "361.6349969349048"
      ]
     },
     "metadata": {},
     "output_type": "display_data"
    },
    {
     "data": {
      "text/plain": [
       "386.34449519274744"
      ]
     },
     "metadata": {},
     "output_type": "display_data"
    },
    {
     "data": {
      "text/html": [
       "<div>\n",
       "<style scoped>\n",
       "    .dataframe tbody tr th:only-of-type {\n",
       "        vertical-align: middle;\n",
       "    }\n",
       "\n",
       "    .dataframe tbody tr th {\n",
       "        vertical-align: top;\n",
       "    }\n",
       "\n",
       "    .dataframe thead th {\n",
       "        text-align: right;\n",
       "    }\n",
       "</style>\n",
       "<table border=\"1\" class=\"dataframe\">\n",
       "  <thead>\n",
       "    <tr style=\"text-align: right;\">\n",
       "      <th></th>\n",
       "      <th>reporter</th>\n",
       "      <th>ZF</th>\n",
       "      <th>Cre</th>\n",
       "      <th>reporter.ZF.Cre</th>\n",
       "      <th>ZF.Cre</th>\n",
       "      <th>reporter.ZF</th>\n",
       "      <th>reporter.ZF.bioreplicate</th>\n",
       "      <th>bioreplicate</th>\n",
       "      <th>mGL-A_gmean</th>\n",
       "      <th>mGL-A_median</th>\n",
       "      <th>...</th>\n",
       "      <th>mCherry-A_std</th>\n",
       "      <th>mCherry-A_mean</th>\n",
       "      <th>Fraction</th>\n",
       "      <th>Count</th>\n",
       "      <th>ZF43map</th>\n",
       "      <th>ZF43norm</th>\n",
       "      <th>Fold Change Same Both</th>\n",
       "      <th>noCre</th>\n",
       "      <th>Fold Change</th>\n",
       "      <th>Normalized_mGL-A_gmean</th>\n",
       "    </tr>\n",
       "  </thead>\n",
       "  <tbody>\n",
       "    <tr>\n",
       "      <th>0</th>\n",
       "      <td>203bp</td>\n",
       "      <td>ZF37-VP16</td>\n",
       "      <td>Cre</td>\n",
       "      <td>203bp.ZF37-VP16.Cre</td>\n",
       "      <td>ZF37-VP16.Cre</td>\n",
       "      <td>203bp.ZF37-VP16</td>\n",
       "      <td>203bp.ZF37-VP16.20240604flow_exp20240601_diffZ...</td>\n",
       "      <td>20240604flow_exp20240601_diffZFa_p1</td>\n",
       "      <td>1013.124934</td>\n",
       "      <td>1216.5</td>\n",
       "      <td>...</td>\n",
       "      <td>7428.100218</td>\n",
       "      <td>3813.586645</td>\n",
       "      <td>1.0</td>\n",
       "      <td>1258</td>\n",
       "      <td>386.729436</td>\n",
       "      <td>2.619725</td>\n",
       "      <td>6.084959</td>\n",
       "      <td>166.496605</td>\n",
       "      <td>6.084959</td>\n",
       "      <td>6.066197</td>\n",
       "    </tr>\n",
       "    <tr>\n",
       "      <th>1</th>\n",
       "      <td>203bp</td>\n",
       "      <td>ZF37-VP16</td>\n",
       "      <td>noCre</td>\n",
       "      <td>203bp.ZF37-VP16.noCre</td>\n",
       "      <td>ZF37-VP16.noCre</td>\n",
       "      <td>203bp.ZF37-VP16</td>\n",
       "      <td>203bp.ZF37-VP16.20240604flow_exp20240601_diffZ...</td>\n",
       "      <td>20240604flow_exp20240601_diffZFa_p1</td>\n",
       "      <td>166.496605</td>\n",
       "      <td>176.0</td>\n",
       "      <td>...</td>\n",
       "      <td>5677.283204</td>\n",
       "      <td>3454.199868</td>\n",
       "      <td>1.0</td>\n",
       "      <td>1511</td>\n",
       "      <td>386.729436</td>\n",
       "      <td>0.430525</td>\n",
       "      <td>6.084959</td>\n",
       "      <td>166.496605</td>\n",
       "      <td>1.0</td>\n",
       "      <td>0.996917</td>\n",
       "    </tr>\n",
       "    <tr>\n",
       "      <th>2</th>\n",
       "      <td>203bp</td>\n",
       "      <td>ZF37-VP64</td>\n",
       "      <td>Cre</td>\n",
       "      <td>203bp.ZF37-VP64.Cre</td>\n",
       "      <td>ZF37-VP64.Cre</td>\n",
       "      <td>203bp.ZF37-VP64</td>\n",
       "      <td>203bp.ZF37-VP64.20240604flow_exp20240601_diffZ...</td>\n",
       "      <td>20240604flow_exp20240601_diffZFa_p1</td>\n",
       "      <td>1673.493909</td>\n",
       "      <td>1951.0</td>\n",
       "      <td>...</td>\n",
       "      <td>37.508757</td>\n",
       "      <td>56.212589</td>\n",
       "      <td>1.0</td>\n",
       "      <td>6863</td>\n",
       "      <td>386.729436</td>\n",
       "      <td>4.327299</td>\n",
       "      <td>6.05651</td>\n",
       "      <td>276.31326</td>\n",
       "      <td>6.05651</td>\n",
       "      <td>10.020229</td>\n",
       "    </tr>\n",
       "    <tr>\n",
       "      <th>3</th>\n",
       "      <td>203bp</td>\n",
       "      <td>ZF37-VP64</td>\n",
       "      <td>noCre</td>\n",
       "      <td>203bp.ZF37-VP64.noCre</td>\n",
       "      <td>ZF37-VP64.noCre</td>\n",
       "      <td>203bp.ZF37-VP64</td>\n",
       "      <td>203bp.ZF37-VP64.20240604flow_exp20240601_diffZ...</td>\n",
       "      <td>20240604flow_exp20240601_diffZFa_p1</td>\n",
       "      <td>276.313260</td>\n",
       "      <td>278.0</td>\n",
       "      <td>...</td>\n",
       "      <td>37.473222</td>\n",
       "      <td>56.071519</td>\n",
       "      <td>1.0</td>\n",
       "      <td>7117</td>\n",
       "      <td>386.729436</td>\n",
       "      <td>0.714487</td>\n",
       "      <td>6.05651</td>\n",
       "      <td>276.31326</td>\n",
       "      <td>1.0</td>\n",
       "      <td>1.654456</td>\n",
       "    </tr>\n",
       "    <tr>\n",
       "      <th>4</th>\n",
       "      <td>203bp</td>\n",
       "      <td>ZF37-VPR</td>\n",
       "      <td>Cre</td>\n",
       "      <td>203bp.ZF37-VPR.Cre</td>\n",
       "      <td>ZF37-VPR.Cre</td>\n",
       "      <td>203bp.ZF37-VPR</td>\n",
       "      <td>203bp.ZF37-VPR.20240604flow_exp20240601_diffZF...</td>\n",
       "      <td>20240604flow_exp20240601_diffZFa_p1</td>\n",
       "      <td>9436.122076</td>\n",
       "      <td>8804.0</td>\n",
       "      <td>...</td>\n",
       "      <td>37.018493</td>\n",
       "      <td>55.726420</td>\n",
       "      <td>1.0</td>\n",
       "      <td>1919</td>\n",
       "      <td>386.729436</td>\n",
       "      <td>24.399803</td>\n",
       "      <td>20.732578</td>\n",
       "      <td>455.135014</td>\n",
       "      <td>20.732578</td>\n",
       "      <td>56.499821</td>\n",
       "    </tr>\n",
       "    <tr>\n",
       "      <th>...</th>\n",
       "      <td>...</td>\n",
       "      <td>...</td>\n",
       "      <td>...</td>\n",
       "      <td>...</td>\n",
       "      <td>...</td>\n",
       "      <td>...</td>\n",
       "      <td>...</td>\n",
       "      <td>...</td>\n",
       "      <td>...</td>\n",
       "      <td>...</td>\n",
       "      <td>...</td>\n",
       "      <td>...</td>\n",
       "      <td>...</td>\n",
       "      <td>...</td>\n",
       "      <td>...</td>\n",
       "      <td>...</td>\n",
       "      <td>...</td>\n",
       "      <td>...</td>\n",
       "      <td>...</td>\n",
       "      <td>...</td>\n",
       "      <td>...</td>\n",
       "    </tr>\n",
       "    <tr>\n",
       "      <th>151</th>\n",
       "      <td>loxP control</td>\n",
       "      <td>ZF43-VP16</td>\n",
       "      <td>noCre</td>\n",
       "      <td>loxP control.ZF43-VP16.noCre</td>\n",
       "      <td>ZF43-VP16.noCre</td>\n",
       "      <td>loxP control.ZF43-VP16</td>\n",
       "      <td>loxP control.ZF43-VP16.20250901_diffZFa_p2</td>\n",
       "      <td>20250901_diffZFa_p2</td>\n",
       "      <td>2504.682243</td>\n",
       "      <td>2464.0</td>\n",
       "      <td>...</td>\n",
       "      <td>37.204857</td>\n",
       "      <td>56.799339</td>\n",
       "      <td>1.0</td>\n",
       "      <td>4839</td>\n",
       "      <td>2315.637578</td>\n",
       "      <td>1.081638</td>\n",
       "      <td>0.461706</td>\n",
       "      <td>2504.682243</td>\n",
       "      <td>1.0</td>\n",
       "      <td>6.483028</td>\n",
       "    </tr>\n",
       "    <tr>\n",
       "      <th>152</th>\n",
       "      <td>loxP control</td>\n",
       "      <td>ZF43-VP64</td>\n",
       "      <td>Cre</td>\n",
       "      <td>loxP control.ZF43-VP64.Cre</td>\n",
       "      <td>ZF43-VP64.Cre</td>\n",
       "      <td>loxP control.ZF43-VP64</td>\n",
       "      <td>loxP control.ZF43-VP64.20250901_diffZFa_p2</td>\n",
       "      <td>20250901_diffZFa_p2</td>\n",
       "      <td>1844.553581</td>\n",
       "      <td>1792.0</td>\n",
       "      <td>...</td>\n",
       "      <td>31.061647</td>\n",
       "      <td>43.166480</td>\n",
       "      <td>1.0</td>\n",
       "      <td>2673</td>\n",
       "      <td>2315.637578</td>\n",
       "      <td>0.796564</td>\n",
       "      <td>0.423697</td>\n",
       "      <td>4353.47148</td>\n",
       "      <td>0.423697</td>\n",
       "      <td>4.774375</td>\n",
       "    </tr>\n",
       "    <tr>\n",
       "      <th>153</th>\n",
       "      <td>loxP control</td>\n",
       "      <td>ZF43-VP64</td>\n",
       "      <td>noCre</td>\n",
       "      <td>loxP control.ZF43-VP64.noCre</td>\n",
       "      <td>ZF43-VP64.noCre</td>\n",
       "      <td>loxP control.ZF43-VP64</td>\n",
       "      <td>loxP control.ZF43-VP64.20250901_diffZFa_p2</td>\n",
       "      <td>20250901_diffZFa_p2</td>\n",
       "      <td>4353.471480</td>\n",
       "      <td>4143.0</td>\n",
       "      <td>...</td>\n",
       "      <td>31.590388</td>\n",
       "      <td>43.778185</td>\n",
       "      <td>1.0</td>\n",
       "      <td>1091</td>\n",
       "      <td>2315.637578</td>\n",
       "      <td>1.880031</td>\n",
       "      <td>0.423697</td>\n",
       "      <td>4353.47148</td>\n",
       "      <td>1.0</td>\n",
       "      <td>11.268367</td>\n",
       "    </tr>\n",
       "    <tr>\n",
       "      <th>154</th>\n",
       "      <td>loxP control</td>\n",
       "      <td>noZF</td>\n",
       "      <td>Cre</td>\n",
       "      <td>loxP control.noZF.Cre</td>\n",
       "      <td>noZF.Cre</td>\n",
       "      <td>loxP control.noZF</td>\n",
       "      <td>loxP control.noZF.20250901_diffZFa_p2</td>\n",
       "      <td>20250901_diffZFa_p2</td>\n",
       "      <td>45.025215</td>\n",
       "      <td>54.0</td>\n",
       "      <td>...</td>\n",
       "      <td>32.026085</td>\n",
       "      <td>44.716740</td>\n",
       "      <td>1.0</td>\n",
       "      <td>3202</td>\n",
       "      <td>2315.637578</td>\n",
       "      <td>0.019444</td>\n",
       "      <td>0.985689</td>\n",
       "      <td>45.678933</td>\n",
       "      <td>0.985689</td>\n",
       "      <td>0.116542</td>\n",
       "    </tr>\n",
       "    <tr>\n",
       "      <th>155</th>\n",
       "      <td>loxP control</td>\n",
       "      <td>noZF</td>\n",
       "      <td>noCre</td>\n",
       "      <td>loxP control.noZF.noCre</td>\n",
       "      <td>noZF.noCre</td>\n",
       "      <td>loxP control.noZF</td>\n",
       "      <td>loxP control.noZF.20250901_diffZFa_p2</td>\n",
       "      <td>20250901_diffZFa_p2</td>\n",
       "      <td>45.678933</td>\n",
       "      <td>53.0</td>\n",
       "      <td>...</td>\n",
       "      <td>31.780087</td>\n",
       "      <td>44.399289</td>\n",
       "      <td>1.0</td>\n",
       "      <td>2249</td>\n",
       "      <td>2315.637578</td>\n",
       "      <td>0.019726</td>\n",
       "      <td>0.985689</td>\n",
       "      <td>45.678933</td>\n",
       "      <td>1.0</td>\n",
       "      <td>0.118234</td>\n",
       "    </tr>\n",
       "  </tbody>\n",
       "</table>\n",
       "<p>156 rows × 28 columns</p>\n",
       "</div>"
      ],
      "text/plain": [
       "         reporter         ZF    Cre               reporter.ZF.Cre  \\\n",
       "0           203bp  ZF37-VP16    Cre           203bp.ZF37-VP16.Cre   \n",
       "1           203bp  ZF37-VP16  noCre         203bp.ZF37-VP16.noCre   \n",
       "2           203bp  ZF37-VP64    Cre           203bp.ZF37-VP64.Cre   \n",
       "3           203bp  ZF37-VP64  noCre         203bp.ZF37-VP64.noCre   \n",
       "4           203bp   ZF37-VPR    Cre            203bp.ZF37-VPR.Cre   \n",
       "..            ...        ...    ...                           ...   \n",
       "151  loxP control  ZF43-VP16  noCre  loxP control.ZF43-VP16.noCre   \n",
       "152  loxP control  ZF43-VP64    Cre    loxP control.ZF43-VP64.Cre   \n",
       "153  loxP control  ZF43-VP64  noCre  loxP control.ZF43-VP64.noCre   \n",
       "154  loxP control       noZF    Cre         loxP control.noZF.Cre   \n",
       "155  loxP control       noZF  noCre       loxP control.noZF.noCre   \n",
       "\n",
       "              ZF.Cre             reporter.ZF  \\\n",
       "0      ZF37-VP16.Cre         203bp.ZF37-VP16   \n",
       "1    ZF37-VP16.noCre         203bp.ZF37-VP16   \n",
       "2      ZF37-VP64.Cre         203bp.ZF37-VP64   \n",
       "3    ZF37-VP64.noCre         203bp.ZF37-VP64   \n",
       "4       ZF37-VPR.Cre          203bp.ZF37-VPR   \n",
       "..               ...                     ...   \n",
       "151  ZF43-VP16.noCre  loxP control.ZF43-VP16   \n",
       "152    ZF43-VP64.Cre  loxP control.ZF43-VP64   \n",
       "153  ZF43-VP64.noCre  loxP control.ZF43-VP64   \n",
       "154         noZF.Cre       loxP control.noZF   \n",
       "155       noZF.noCre       loxP control.noZF   \n",
       "\n",
       "                              reporter.ZF.bioreplicate  \\\n",
       "0    203bp.ZF37-VP16.20240604flow_exp20240601_diffZ...   \n",
       "1    203bp.ZF37-VP16.20240604flow_exp20240601_diffZ...   \n",
       "2    203bp.ZF37-VP64.20240604flow_exp20240601_diffZ...   \n",
       "3    203bp.ZF37-VP64.20240604flow_exp20240601_diffZ...   \n",
       "4    203bp.ZF37-VPR.20240604flow_exp20240601_diffZF...   \n",
       "..                                                 ...   \n",
       "151         loxP control.ZF43-VP16.20250901_diffZFa_p2   \n",
       "152         loxP control.ZF43-VP64.20250901_diffZFa_p2   \n",
       "153         loxP control.ZF43-VP64.20250901_diffZFa_p2   \n",
       "154              loxP control.noZF.20250901_diffZFa_p2   \n",
       "155              loxP control.noZF.20250901_diffZFa_p2   \n",
       "\n",
       "                            bioreplicate  mGL-A_gmean  mGL-A_median  ...  \\\n",
       "0    20240604flow_exp20240601_diffZFa_p1  1013.124934        1216.5  ...   \n",
       "1    20240604flow_exp20240601_diffZFa_p1   166.496605         176.0  ...   \n",
       "2    20240604flow_exp20240601_diffZFa_p1  1673.493909        1951.0  ...   \n",
       "3    20240604flow_exp20240601_diffZFa_p1   276.313260         278.0  ...   \n",
       "4    20240604flow_exp20240601_diffZFa_p1  9436.122076        8804.0  ...   \n",
       "..                                   ...          ...           ...  ...   \n",
       "151                  20250901_diffZFa_p2  2504.682243        2464.0  ...   \n",
       "152                  20250901_diffZFa_p2  1844.553581        1792.0  ...   \n",
       "153                  20250901_diffZFa_p2  4353.471480        4143.0  ...   \n",
       "154                  20250901_diffZFa_p2    45.025215          54.0  ...   \n",
       "155                  20250901_diffZFa_p2    45.678933          53.0  ...   \n",
       "\n",
       "     mCherry-A_std  mCherry-A_mean  Fraction  Count      ZF43map   ZF43norm  \\\n",
       "0      7428.100218     3813.586645       1.0   1258   386.729436   2.619725   \n",
       "1      5677.283204     3454.199868       1.0   1511   386.729436   0.430525   \n",
       "2        37.508757       56.212589       1.0   6863   386.729436   4.327299   \n",
       "3        37.473222       56.071519       1.0   7117   386.729436   0.714487   \n",
       "4        37.018493       55.726420       1.0   1919   386.729436  24.399803   \n",
       "..             ...             ...       ...    ...          ...        ...   \n",
       "151      37.204857       56.799339       1.0   4839  2315.637578   1.081638   \n",
       "152      31.061647       43.166480       1.0   2673  2315.637578   0.796564   \n",
       "153      31.590388       43.778185       1.0   1091  2315.637578   1.880031   \n",
       "154      32.026085       44.716740       1.0   3202  2315.637578   0.019444   \n",
       "155      31.780087       44.399289       1.0   2249  2315.637578   0.019726   \n",
       "\n",
       "     Fold Change Same Both        noCre  Fold Change  Normalized_mGL-A_gmean  \n",
       "0                 6.084959   166.496605     6.084959                6.066197  \n",
       "1                 6.084959   166.496605          1.0                0.996917  \n",
       "2                  6.05651    276.31326      6.05651               10.020229  \n",
       "3                  6.05651    276.31326          1.0                1.654456  \n",
       "4                20.732578   455.135014    20.732578               56.499821  \n",
       "..                     ...          ...          ...                     ...  \n",
       "151               0.461706  2504.682243          1.0                6.483028  \n",
       "152               0.423697   4353.47148     0.423697                4.774375  \n",
       "153               0.423697   4353.47148          1.0               11.268367  \n",
       "154               0.985689    45.678933     0.985689                0.116542  \n",
       "155               0.985689    45.678933          1.0                0.118234  \n",
       "\n",
       "[156 rows x 28 columns]"
      ]
     },
     "metadata": {},
     "output_type": "display_data"
    },
    {
     "data": {
      "text/html": [
       "<div>\n",
       "<style scoped>\n",
       "    .dataframe tbody tr th:only-of-type {\n",
       "        vertical-align: middle;\n",
       "    }\n",
       "\n",
       "    .dataframe tbody tr th {\n",
       "        vertical-align: top;\n",
       "    }\n",
       "\n",
       "    .dataframe thead th {\n",
       "        text-align: right;\n",
       "    }\n",
       "</style>\n",
       "<table border=\"1\" class=\"dataframe\">\n",
       "  <thead>\n",
       "    <tr style=\"text-align: right;\">\n",
       "      <th></th>\n",
       "      <th>reporter.ZF.Cre</th>\n",
       "      <th>Normalized_mGL-A_gmean_mean</th>\n",
       "      <th>Count</th>\n",
       "    </tr>\n",
       "  </thead>\n",
       "  <tbody>\n",
       "    <tr>\n",
       "      <th>0</th>\n",
       "      <td>203bp.ZF37-VP16.Cre</td>\n",
       "      <td>7.888246</td>\n",
       "      <td>9</td>\n",
       "    </tr>\n",
       "    <tr>\n",
       "      <th>1</th>\n",
       "      <td>203bp.ZF37-VP16.noCre</td>\n",
       "      <td>1.150452</td>\n",
       "      <td>9</td>\n",
       "    </tr>\n",
       "    <tr>\n",
       "      <th>2</th>\n",
       "      <td>203bp.ZF37-VP64.Cre</td>\n",
       "      <td>11.987167</td>\n",
       "      <td>6</td>\n",
       "    </tr>\n",
       "    <tr>\n",
       "      <th>3</th>\n",
       "      <td>203bp.ZF37-VP64.noCre</td>\n",
       "      <td>2.267382</td>\n",
       "      <td>6</td>\n",
       "    </tr>\n",
       "    <tr>\n",
       "      <th>4</th>\n",
       "      <td>203bp.ZF37-VPR.Cre</td>\n",
       "      <td>64.450547</td>\n",
       "      <td>9</td>\n",
       "    </tr>\n",
       "    <tr>\n",
       "      <th>5</th>\n",
       "      <td>203bp.ZF37-VPR.noCre</td>\n",
       "      <td>3.769825</td>\n",
       "      <td>9</td>\n",
       "    </tr>\n",
       "    <tr>\n",
       "      <th>6</th>\n",
       "      <td>203bp.ZF43-VP16.Cre</td>\n",
       "      <td>4.008816</td>\n",
       "      <td>9</td>\n",
       "    </tr>\n",
       "    <tr>\n",
       "      <th>7</th>\n",
       "      <td>203bp.ZF43-VP16.noCre</td>\n",
       "      <td>1.000000</td>\n",
       "      <td>9</td>\n",
       "    </tr>\n",
       "    <tr>\n",
       "      <th>8</th>\n",
       "      <td>203bp.ZF43-VP64.Cre</td>\n",
       "      <td>5.168551</td>\n",
       "      <td>6</td>\n",
       "    </tr>\n",
       "    <tr>\n",
       "      <th>9</th>\n",
       "      <td>203bp.ZF43-VP64.noCre</td>\n",
       "      <td>1.709684</td>\n",
       "      <td>6</td>\n",
       "    </tr>\n",
       "    <tr>\n",
       "      <th>10</th>\n",
       "      <td>203bp.noZF.Cre</td>\n",
       "      <td>0.125239</td>\n",
       "      <td>6</td>\n",
       "    </tr>\n",
       "    <tr>\n",
       "      <th>11</th>\n",
       "      <td>203bp.noZF.noCre</td>\n",
       "      <td>0.095848</td>\n",
       "      <td>6</td>\n",
       "    </tr>\n",
       "    <tr>\n",
       "      <th>12</th>\n",
       "      <td>loxP control.ZF37-VP16.Cre</td>\n",
       "      <td>8.806000</td>\n",
       "      <td>6</td>\n",
       "    </tr>\n",
       "    <tr>\n",
       "      <th>13</th>\n",
       "      <td>loxP control.ZF37-VP16.noCre</td>\n",
       "      <td>17.237421</td>\n",
       "      <td>6</td>\n",
       "    </tr>\n",
       "    <tr>\n",
       "      <th>14</th>\n",
       "      <td>loxP control.ZF37-VP64.Cre</td>\n",
       "      <td>16.948271</td>\n",
       "      <td>6</td>\n",
       "    </tr>\n",
       "    <tr>\n",
       "      <th>15</th>\n",
       "      <td>loxP control.ZF37-VP64.noCre</td>\n",
       "      <td>28.364581</td>\n",
       "      <td>6</td>\n",
       "    </tr>\n",
       "    <tr>\n",
       "      <th>16</th>\n",
       "      <td>loxP control.ZF37-VPR.Cre</td>\n",
       "      <td>109.039956</td>\n",
       "      <td>6</td>\n",
       "    </tr>\n",
       "    <tr>\n",
       "      <th>17</th>\n",
       "      <td>loxP control.ZF37-VPR.noCre</td>\n",
       "      <td>196.713340</td>\n",
       "      <td>6</td>\n",
       "    </tr>\n",
       "    <tr>\n",
       "      <th>18</th>\n",
       "      <td>loxP control.ZF43-VP16.Cre</td>\n",
       "      <td>4.959131</td>\n",
       "      <td>6</td>\n",
       "    </tr>\n",
       "    <tr>\n",
       "      <th>19</th>\n",
       "      <td>loxP control.ZF43-VP16.noCre</td>\n",
       "      <td>10.694465</td>\n",
       "      <td>6</td>\n",
       "    </tr>\n",
       "    <tr>\n",
       "      <th>20</th>\n",
       "      <td>loxP control.ZF43-VP64.Cre</td>\n",
       "      <td>6.930252</td>\n",
       "      <td>6</td>\n",
       "    </tr>\n",
       "    <tr>\n",
       "      <th>21</th>\n",
       "      <td>loxP control.ZF43-VP64.noCre</td>\n",
       "      <td>15.202350</td>\n",
       "      <td>6</td>\n",
       "    </tr>\n",
       "    <tr>\n",
       "      <th>22</th>\n",
       "      <td>loxP control.noZF.Cre</td>\n",
       "      <td>0.128840</td>\n",
       "      <td>3</td>\n",
       "    </tr>\n",
       "    <tr>\n",
       "      <th>23</th>\n",
       "      <td>loxP control.noZF.noCre</td>\n",
       "      <td>0.122733</td>\n",
       "      <td>3</td>\n",
       "    </tr>\n",
       "  </tbody>\n",
       "</table>\n",
       "</div>"
      ],
      "text/plain": [
       "                 reporter.ZF.Cre  Normalized_mGL-A_gmean_mean  Count\n",
       "0            203bp.ZF37-VP16.Cre                     7.888246      9\n",
       "1          203bp.ZF37-VP16.noCre                     1.150452      9\n",
       "2            203bp.ZF37-VP64.Cre                    11.987167      6\n",
       "3          203bp.ZF37-VP64.noCre                     2.267382      6\n",
       "4             203bp.ZF37-VPR.Cre                    64.450547      9\n",
       "5           203bp.ZF37-VPR.noCre                     3.769825      9\n",
       "6            203bp.ZF43-VP16.Cre                     4.008816      9\n",
       "7          203bp.ZF43-VP16.noCre                     1.000000      9\n",
       "8            203bp.ZF43-VP64.Cre                     5.168551      6\n",
       "9          203bp.ZF43-VP64.noCre                     1.709684      6\n",
       "10                203bp.noZF.Cre                     0.125239      6\n",
       "11              203bp.noZF.noCre                     0.095848      6\n",
       "12    loxP control.ZF37-VP16.Cre                     8.806000      6\n",
       "13  loxP control.ZF37-VP16.noCre                    17.237421      6\n",
       "14    loxP control.ZF37-VP64.Cre                    16.948271      6\n",
       "15  loxP control.ZF37-VP64.noCre                    28.364581      6\n",
       "16     loxP control.ZF37-VPR.Cre                   109.039956      6\n",
       "17   loxP control.ZF37-VPR.noCre                   196.713340      6\n",
       "18    loxP control.ZF43-VP16.Cre                     4.959131      6\n",
       "19  loxP control.ZF43-VP16.noCre                    10.694465      6\n",
       "20    loxP control.ZF43-VP64.Cre                     6.930252      6\n",
       "21  loxP control.ZF43-VP64.noCre                    15.202350      6\n",
       "22         loxP control.noZF.Cre                     0.128840      3\n",
       "23       loxP control.noZF.noCre                     0.122733      3"
      ]
     },
     "metadata": {},
     "output_type": "display_data"
    }
   ],
   "source": [
    "# Normalized summary plots with 3 bioreps to +ZF -Cre of VP16-ZF43\n",
    "\n",
    "s_normalized_ZFa_new = pd.DataFrame()\n",
    "\n",
    "for biorep in bioreps_keep_extra:\n",
    "    s_biorep = s_all_new[s_all_new['bioreplicate'] == biorep] #choose dataframe\n",
    "    \n",
    "    if not s_biorep[(s_biorep['reporter.ZF.Cre']=='203bp.ZF43-VP16.noCre')].empty:\n",
    "            ZF43_noRec = s_biorep[(s_biorep['reporter.ZF.Cre']=='203bp.ZF43-VP16.noCre')]['mGL-A_gmean'].iloc[0]\n",
    "            display(ZF43_noRec)\n",
    "\n",
    "    def normalize_mGL_gmean(row):\n",
    "        if row['reporter'] == '203bp':\n",
    "            return row['mGL-A_gmean'] / ZF43_noRec\n",
    "        if row['reporter'] == 'loxP control':\n",
    "            return row['mGL-A_gmean'] / ZF43_noRec\n",
    "            \n",
    "    s_biorep['Normalized_mGL-A_gmean'] = s_biorep.apply(normalize_mGL_gmean, axis=1)\n",
    "\n",
    "    s_normalized_ZFa_new = pd.concat([s_normalized_ZFa_new, s_biorep], ignore_index=True)\n",
    "\n",
    "s_normalized_combined_new = pd.concat([s_normalized_ZFa_new,], axis=0)\n",
    "display(s_normalized_combined_new)\n",
    "# show number of reps\n",
    "df = s_normalized_combined_new #choose dataframe\n",
    "by = ['reporter.ZF.Cre'] #how to filter results, columns \n",
    "x = ['Normalized_mGL-A_gmean'] #which parameter to calculate results on\n",
    "stat = [np.mean] #statistics to calculate\n",
    "s_normalized_combined_new_means = calc_stats(df,by,x,stat) #calculate statistics \n",
    "display(s_normalized_combined_new_means) #display results, use for troublshooting"
   ]
  },
  {
   "cell_type": "code",
   "execution_count": 42,
   "metadata": {},
   "outputs": [
    {
     "name": "stderr",
     "output_type": "stream",
     "text": [
      "<string>:539: UserWarning: Attempted to set non-positive bottom ylim on a log-scaled axis.\n",
      "Invalid limit will be ignored.\n"
     ]
    },
    {
     "data": {
      "image/png": "[encoded data removed]",
      "text/plain": [
       "<Figure size 360x180 with 1 Axes>"
      ]
     },
     "metadata": {
      "needs_background": "light"
     },
     "output_type": "display_data"
    },
    {
     "name": "stderr",
     "output_type": "stream",
     "text": [
      "<string>:539: UserWarning: Attempted to set non-positive bottom ylim on a log-scaled axis.\n",
      "Invalid limit will be ignored.\n"
     ]
    },
    {
     "data": {
      "text/plain": [
       "<Figure size 432x288 with 0 Axes>"
      ]
     },
     "metadata": {},
     "output_type": "display_data"
    },
    {
     "data": {
      "image/png": "[encoded data removed]",
      "text/plain": [
       "<Figure size 360x180 with 1 Axes>"
      ]
     },
     "metadata": {
      "needs_background": "light"
     },
     "output_type": "display_data"
    },
    {
     "data": {
      "text/plain": [
       "<Figure size 432x288 with 0 Axes>"
      ]
     },
     "metadata": {},
     "output_type": "display_data"
    }
   ],
   "source": [
    "#Plot summary plot for the desired statistics\n",
    "\n",
    "#List of stats to plot \n",
    "stats_plot = pd.array( ['Normalized_mGL-A_gmean'])\n",
    "\n",
    "order = palette_ZF_Cre ; palette = palette_ZF_Cre; hue_order = None; x = 'ZF.Cre'; hue=None; yscale= 'log'\n",
    "ylim = [0,180]\n",
    "\n",
    "#Only plot some reporters\n",
    "\n",
    "#Set p-value significance comparisons \n",
    "pairs  = []\n",
    "fontsize = 15; xsize =5; ysize=2.5\n",
    "\n",
    "for rept in repts:\n",
    "        for stat in stats_plot: \n",
    "                y = stat # set the stat to plot\n",
    "                plottitle = rept + ' ' + stat +  'new normalization'\n",
    "                data_now = s_normalized_combined_new[ s_normalized_combined_new['reporter']==rept]\n",
    "                plt.figure(figsize=(xsize,ysize))\n",
    "                plt.axhline(y=1, ls='--', color='grey')\n",
    "                g = summary_plot( x=x, y=y, hue=hue, data=data_now, pairs=pairs, yscale=yscale, ylim=ylim,dodge=False,\n",
    "                                x_rot=45, palette = palette, order=order, hue_order=hue_order, plottitle=plottitle, \n",
    "                                fontsize=fontsize, scientific=False\n",
    "                                )\n",
    "                g.figure.savefig(figure_folder + plottitle + '.svg',dpi=300,bbox_inches='tight')\n",
    "\n",
    "\n"
   ]
  },
  {
   "cell_type": "code",
   "execution_count": 194,
   "metadata": {},
   "outputs": [
    {
     "data": {
      "text/plain": [
       "'203bp mGL-A_gmean alt'"
      ]
     },
     "metadata": {},
     "output_type": "display_data"
    },
    {
     "data": {
      "image/png": "[encoded data removed]",
      "text/plain": [
       "<Figure size 360x180 with 1 Axes>"
      ]
     },
     "metadata": {
      "needs_background": "light"
     },
     "output_type": "display_data"
    },
    {
     "data": {
      "text/plain": [
       "<Figure size 432x288 with 0 Axes>"
      ]
     },
     "metadata": {},
     "output_type": "display_data"
    },
    {
     "data": {
      "text/plain": [
       "'203bp Normalized_mGL-A_gmean alt'"
      ]
     },
     "metadata": {},
     "output_type": "display_data"
    },
    {
     "data": {
      "image/png": "[encoded data removed]",
      "text/plain": [
       "<Figure size 360x180 with 1 Axes>"
      ]
     },
     "metadata": {
      "needs_background": "light"
     },
     "output_type": "display_data"
    },
    {
     "data": {
      "text/plain": [
       "<Figure size 432x288 with 0 Axes>"
      ]
     },
     "metadata": {},
     "output_type": "display_data"
    },
    {
     "data": {
      "text/html": [
       "<div>\n",
       "<style scoped>\n",
       "    .dataframe tbody tr th:only-of-type {\n",
       "        vertical-align: middle;\n",
       "    }\n",
       "\n",
       "    .dataframe tbody tr th {\n",
       "        vertical-align: top;\n",
       "    }\n",
       "\n",
       "    .dataframe thead th {\n",
       "        text-align: right;\n",
       "    }\n",
       "</style>\n",
       "<table border=\"1\" class=\"dataframe\">\n",
       "  <thead>\n",
       "    <tr style=\"text-align: right;\">\n",
       "      <th></th>\n",
       "      <th>reporter.ZF.Cre</th>\n",
       "      <th>Normalized_mGL-A_gmean_mean</th>\n",
       "      <th>Count</th>\n",
       "    </tr>\n",
       "  </thead>\n",
       "  <tbody>\n",
       "    <tr>\n",
       "      <th>0</th>\n",
       "      <td>203bp.ZF37-VP16.Cre</td>\n",
       "      <td>7.014140</td>\n",
       "      <td>3</td>\n",
       "    </tr>\n",
       "    <tr>\n",
       "      <th>1</th>\n",
       "      <td>203bp.ZF37-VP16.noCre</td>\n",
       "      <td>1.198307</td>\n",
       "      <td>3</td>\n",
       "    </tr>\n",
       "    <tr>\n",
       "      <th>2</th>\n",
       "      <td>203bp.ZF37-VP64.Cre</td>\n",
       "      <td>12.302649</td>\n",
       "      <td>3</td>\n",
       "    </tr>\n",
       "    <tr>\n",
       "      <th>3</th>\n",
       "      <td>203bp.ZF37-VP64.noCre</td>\n",
       "      <td>2.054230</td>\n",
       "      <td>3</td>\n",
       "    </tr>\n",
       "    <tr>\n",
       "      <th>4</th>\n",
       "      <td>203bp.ZF37-VPR.Cre</td>\n",
       "      <td>82.705651</td>\n",
       "      <td>3</td>\n",
       "    </tr>\n",
       "    <tr>\n",
       "      <th>5</th>\n",
       "      <td>203bp.ZF37-VPR.noCre</td>\n",
       "      <td>3.631475</td>\n",
       "      <td>3</td>\n",
       "    </tr>\n",
       "    <tr>\n",
       "      <th>6</th>\n",
       "      <td>203bp.ZF43-VP16.Cre</td>\n",
       "      <td>4.883236</td>\n",
       "      <td>3</td>\n",
       "    </tr>\n",
       "    <tr>\n",
       "      <th>7</th>\n",
       "      <td>203bp.ZF43-VP16.noCre</td>\n",
       "      <td>1.000000</td>\n",
       "      <td>3</td>\n",
       "    </tr>\n",
       "    <tr>\n",
       "      <th>8</th>\n",
       "      <td>203bp.ZF43-VP64.Cre</td>\n",
       "      <td>6.111909</td>\n",
       "      <td>3</td>\n",
       "    </tr>\n",
       "    <tr>\n",
       "      <th>9</th>\n",
       "      <td>203bp.ZF43-VP64.noCre</td>\n",
       "      <td>1.328727</td>\n",
       "      <td>3</td>\n",
       "    </tr>\n",
       "    <tr>\n",
       "      <th>10</th>\n",
       "      <td>203bp.noZF.Cre</td>\n",
       "      <td>0.120233</td>\n",
       "      <td>3</td>\n",
       "    </tr>\n",
       "    <tr>\n",
       "      <th>11</th>\n",
       "      <td>203bp.noZF.noCre</td>\n",
       "      <td>0.084245</td>\n",
       "      <td>3</td>\n",
       "    </tr>\n",
       "    <tr>\n",
       "      <th>12</th>\n",
       "      <td>loxP control.ZF37-VP16.Cre</td>\n",
       "      <td>12.360347</td>\n",
       "      <td>3</td>\n",
       "    </tr>\n",
       "    <tr>\n",
       "      <th>13</th>\n",
       "      <td>loxP control.ZF37-VP16.noCre</td>\n",
       "      <td>22.900688</td>\n",
       "      <td>3</td>\n",
       "    </tr>\n",
       "    <tr>\n",
       "      <th>14</th>\n",
       "      <td>loxP control.ZF37-VP64.Cre</td>\n",
       "      <td>19.698917</td>\n",
       "      <td>3</td>\n",
       "    </tr>\n",
       "    <tr>\n",
       "      <th>15</th>\n",
       "      <td>loxP control.ZF37-VP64.noCre</td>\n",
       "      <td>30.104154</td>\n",
       "      <td>3</td>\n",
       "    </tr>\n",
       "    <tr>\n",
       "      <th>16</th>\n",
       "      <td>loxP control.ZF37-VPR.Cre</td>\n",
       "      <td>127.549583</td>\n",
       "      <td>3</td>\n",
       "    </tr>\n",
       "    <tr>\n",
       "      <th>17</th>\n",
       "      <td>loxP control.ZF37-VPR.noCre</td>\n",
       "      <td>252.512324</td>\n",
       "      <td>3</td>\n",
       "    </tr>\n",
       "    <tr>\n",
       "      <th>18</th>\n",
       "      <td>loxP control.ZF43-VP16.Cre</td>\n",
       "      <td>6.604202</td>\n",
       "      <td>3</td>\n",
       "    </tr>\n",
       "    <tr>\n",
       "      <th>19</th>\n",
       "      <td>loxP control.ZF43-VP16.noCre</td>\n",
       "      <td>14.312990</td>\n",
       "      <td>3</td>\n",
       "    </tr>\n",
       "    <tr>\n",
       "      <th>20</th>\n",
       "      <td>loxP control.ZF43-VP64.Cre</td>\n",
       "      <td>8.428518</td>\n",
       "      <td>3</td>\n",
       "    </tr>\n",
       "    <tr>\n",
       "      <th>21</th>\n",
       "      <td>loxP control.ZF43-VP64.noCre</td>\n",
       "      <td>18.502616</td>\n",
       "      <td>3</td>\n",
       "    </tr>\n",
       "  </tbody>\n",
       "</table>\n",
       "</div>"
      ],
      "text/plain": [
       "                 reporter.ZF.Cre  Normalized_mGL-A_gmean_mean  Count\n",
       "0            203bp.ZF37-VP16.Cre                     7.014140      3\n",
       "1          203bp.ZF37-VP16.noCre                     1.198307      3\n",
       "2            203bp.ZF37-VP64.Cre                    12.302649      3\n",
       "3          203bp.ZF37-VP64.noCre                     2.054230      3\n",
       "4             203bp.ZF37-VPR.Cre                    82.705651      3\n",
       "5           203bp.ZF37-VPR.noCre                     3.631475      3\n",
       "6            203bp.ZF43-VP16.Cre                     4.883236      3\n",
       "7          203bp.ZF43-VP16.noCre                     1.000000      3\n",
       "8            203bp.ZF43-VP64.Cre                     6.111909      3\n",
       "9          203bp.ZF43-VP64.noCre                     1.328727      3\n",
       "10                203bp.noZF.Cre                     0.120233      3\n",
       "11              203bp.noZF.noCre                     0.084245      3\n",
       "12    loxP control.ZF37-VP16.Cre                    12.360347      3\n",
       "13  loxP control.ZF37-VP16.noCre                    22.900688      3\n",
       "14    loxP control.ZF37-VP64.Cre                    19.698917      3\n",
       "15  loxP control.ZF37-VP64.noCre                    30.104154      3\n",
       "16     loxP control.ZF37-VPR.Cre                   127.549583      3\n",
       "17   loxP control.ZF37-VPR.noCre                   252.512324      3\n",
       "18    loxP control.ZF43-VP16.Cre                     6.604202      3\n",
       "19  loxP control.ZF43-VP16.noCre                    14.312990      3\n",
       "20    loxP control.ZF43-VP64.Cre                     8.428518      3\n",
       "21  loxP control.ZF43-VP64.noCre                    18.502616      3"
      ]
     },
     "metadata": {},
     "output_type": "display_data"
    }
   ],
   "source": [
    "# plot where the no ZF condition is normalized by the ZF43, and the others are from the original bioreps \n",
    "\n",
    "bioreps_keep_extra = pd.array([ '20250117_ZFtypes-test',\n",
    "       '20250127_ZFtypes_twoplates_p1', '20250127_ZFtypes_twoplates_p2'])\n",
    "\n",
    "s_noZF = s_normalized_combined_new[ (s_normalized_combined_new['ZF']=='noZF') & (s_normalized_combined_new['bioreplicate'].isin(bioreps_keep_extra))]\n",
    "s_ZFa = s_normalized_ZFa\n",
    "\n",
    "\n",
    "s_now = pd.concat([s_noZF,s_ZFa], axis=0)\n",
    "\n",
    "#List of stats to plot \n",
    "stats_plot = pd.array( ['mGL-A_gmean','Normalized_mGL-A_gmean'])\n",
    "#stats_plot = pd.array( ['Normalized_mGL-A_gmean'])\n",
    "order = palette_ZF_Cre ; palette = palette_ZF_Cre; hue_order = None; x = 'ZF.Cre'; hue=None; yscale= 'log'\n",
    "ylims = {'mGL-A_gmean': False,'Normalized_mGL-A_gmean':[0.06,180]}\n",
    "#Only plot some reporters\n",
    "repts = pd.array(['203bp'])\n",
    "#Set p-value significance comparisons \n",
    "pairs  = []\n",
    "fontsize = 15; xsize =5; ysize=2.5\n",
    "for rept in repts:\n",
    "        for stat in stats_plot: \n",
    "                y = stat # set the stat to plot\n",
    "                ylim = ylims[stat]\n",
    "                plottitle = rept + ' ' + stat +  ' alt'\n",
    "                display(plottitle)\n",
    "                data_now = s_now[ s_now['reporter']==rept]\n",
    "                plt.figure(figsize=(xsize,ysize))\n",
    "                if stat == 'Normalized_mGL-A_gmean':\n",
    "                        plt.axhline(y=1, ls='--', color='grey')\n",
    "                        hi = 'hi'\n",
    "                g = summary_plot( x=x, y=y, hue=hue, data=data_now, pairs=pairs, yscale=yscale, ylim=ylim,dodge=False,\n",
    "                                x_rot=45, palette = palette, order=order, hue_order=hue_order, plottitle='', \n",
    "                                fontsize=fontsize, scientific=False, \n",
    "                                )\n",
    "                # Style them so they’re visible\n",
    "                g.tick_params(which='minor', length=4, color='red')\n",
    "                plt.show(g)\n",
    "                g.figure.savefig(figure_folder + plottitle + '.svg',dpi=300,bbox_inches='tight')\n",
    "\n",
    "# show number of reps\n",
    "df = s_now #choose dataframe\n",
    "by = ['reporter.ZF.Cre'] #how to filter results, columns \n",
    "x = ['Normalized_mGL-A_gmean'] #which parameter to calculate results on\n",
    "stat = [np.mean] #statistics to calculate\n",
    "s_normalized_combined_new_means = calc_stats(df,by,x,stat) #calculate statistics \n",
    "display(s_normalized_combined_new_means) #display results, use for troublshooting"
   ]
  }
 ],
 "metadata": {
  "kernelspec": {
   "display_name": "newenv",
   "language": "python",
   "name": "python3"
  },
  "language_info": {
   "codemirror_mode": {
    "name": "ipython",
    "version": 3
   },
   "file_extension": ".py",
   "mimetype": "text/x-python",
   "name": "python",
   "nbconvert_exporter": "python",
   "pygments_lexer": "ipython3",
   "version": "3.9.1"
  }
 },
 "nbformat": 4,
 "nbformat_minor": 2
}
