{
 "cells": [
  {
   "cell_type": "markdown",
   "metadata": {},
   "source": [
    "# Description"
   ]
  },
  {
   "cell_type": "code",
   "execution_count": 26,
   "metadata": {},
   "outputs": [],
   "source": [
    "# Figure 1, 203 bp and 0 bp (control) with -/+ ZF43 or ZF37, and -/+ 0.1x Cre \n",
    "# extra bioreps included \n",
    "# Check out the following notebooks for other experiments with the same conclusions: \n",
    "# fig1E_S5B-D_spacerlength_.125xZF (converges to loxPcontrol, aka S1D)\n",
    "# fig1F_S5E-F_ZFa-panel (-/+ ZF, and -/+ Cre leads to OFF, Low, High setpoints, unimodal shift in expression)"
   ]
  },
  {
   "cell_type": "markdown",
   "metadata": {},
   "source": [
    "# Import Functions and set directories"
   ]
  },
  {
   "cell_type": "code",
   "execution_count": 27,
   "metadata": {},
   "outputs": [],
   "source": [
    "import functions_paper_1\n",
    "import importlib\n",
    "from functions_paper_1 import *\n",
    "exec(open(\"functions_paper_1.py\").read())\n",
    "# Local path to Sharepoint (on your computer, change if you are a different user)\n",
    "datadir = Path(Path('../../datadir_srk.txt').read_text())\n",
    "# datadir = Path(Path('../datadir_yb.txt').read_text())\n",
    "figure_folder = './figs_2024_promoter_editing_paper/fig1/fig1_'"
   ]
  },
  {
   "cell_type": "markdown",
   "metadata": {},
   "source": [
    "# Import Data"
   ]
  },
  {
   "cell_type": "code",
   "execution_count": 28,
   "metadata": {},
   "outputs": [],
   "source": [
    "#Check to make sure that datadir in \"Set Directories\" corresponds to the local path on your computer "
   ]
  },
  {
   "cell_type": "code",
   "execution_count": 29,
   "metadata": {},
   "outputs": [],
   "source": [
    "# Import Data - bioreplicate 3 ZF43\n",
    "folder = '20240205flow_exp20240202_p1'\n",
    "file_path = datadir/'instruments'/'data'/'attune'/'Sneha'/folder/'export_singlets' #Assign file paths\n",
    "yaml_path = datadir/'instruments'/'data'/'attune'/'Sneha'/folder/'well_metadata_fig1.yaml' #Assign yaml paths \n",
    "data_ZF43 = rd.flow.load_csv_with_metadata(file_path, yaml_path) #Pull data\n",
    "data_ZF43['bioreplicate'] = '20240205flow_exp20240202_combined' "
   ]
  },
  {
   "cell_type": "code",
   "execution_count": 30,
   "metadata": {},
   "outputs": [],
   "source": [
    "# Import Data - noZF and ZF37= various spacer lengths \n",
    "folder = '20240205flow_exp20240202_p3'\n",
    "file_path = datadir/'instruments'/'data'/'attune'/'Sneha'/folder/'export_singlets' #Assign file paths\n",
    "yaml_path = datadir/'instruments'/'data'/'attune'/'Sneha'/folder/'well_metadata_fig1_loxP control.yaml' #Assign yaml paths \n",
    "data37_loxPcon = rd.flow.load_csv_with_metadata(file_path, yaml_path) #Pull data\n",
    "data37_loxPcon['bioreplicate'] = 'data37_loxPcon'"
   ]
  },
  {
   "cell_type": "code",
   "execution_count": 31,
   "metadata": {},
   "outputs": [],
   "source": [
    "# Import Data - 20240304flow_exp20240301_p2_BioB - ZF37 and ZF43 with various spacer lengths \n",
    "folder = '20240304flow_exp20240301_p2_BioB'\n",
    "file_path = datadir/'instruments'/'data'/'attune'/'Sneha'/folder/'export_singlets_use' #Assign file paths\n",
    "yaml_path = datadir/'instruments'/'data'/'attune'/'Sneha'/folder/'well_metadata_1xZF_allspacers_fig1.yaml' #Assign yaml paths \n",
    "data_bioB = rd.flow.load_csv_with_metadata(file_path, yaml_path) #Pull data\n",
    "data_bioB['bioreplicate'] = folder"
   ]
  },
  {
   "cell_type": "code",
   "execution_count": 32,
   "metadata": {},
   "outputs": [],
   "source": [
    "# Import Data - bioreplicate 1 \n",
    "folder = '20240111flow_exp20240108_p1'\n",
    "file_path = datadir/'instruments'/'data'/'attune'/'Sneha'/folder/'export_singlets' #Assign file paths\n",
    "yaml_path = datadir/'instruments'/'data'/'attune'/'Sneha'/folder/'well_metadata_20240111flow_fig1paper.yaml' #Assign yaml paths \n",
    "data1 = rd.flow.load_csv_with_metadata(file_path, yaml_path) #Pull data\n",
    "data1['bioreplicate'] = folder \n",
    "# take out part of different experiment, not plotted with these conditions\n",
    "data1 = data1[data1['experiment'] != 'ZFa_panel'] "
   ]
  },
  {
   "cell_type": "code",
   "execution_count": 33,
   "metadata": {},
   "outputs": [],
   "source": [
    "# Import Data - bioreplicate 2\n",
    "folder = '20240118flow_exp20240115_p1'\n",
    "file_path = datadir/'instruments'/'data'/'attune'/'Sneha'/folder/'export_singlets' #Assign file paths\n",
    "yaml_path = datadir/'instruments'/'data'/'attune'/'Sneha'/folder/'well_metadata_20240118flow_fig1paper.yaml' #Assign yaml paths \n",
    "data2 = rd.flow.load_csv_with_metadata(file_path, yaml_path) #Pull data\n",
    "data2 = data2[ data2['Plasmids'] == '3.1 plasmids, 0.1x Cre'] #Data only for 3.1 plasmids, 0.1x Cre \n",
    "data2['bioreplicate'] = folder \n",
    "# take out part of different experiment, not plotted with these conditions\n",
    "data2 = data2[data2['experiment'] != 'ZFa_panel'] "
   ]
  },
  {
   "cell_type": "code",
   "execution_count": 34,
   "metadata": {},
   "outputs": [],
   "source": [
    "# Import Data - bioreplicate 3 \n",
    "folder = '20240120flow_exp20240117_p1'\n",
    "file_path = datadir/'instruments'/'data'/'attune'/'Sneha'/folder/'export_singlets' #Assign file paths\n",
    "yaml_path = datadir/'instruments'/'data'/'attune'/'Sneha'/folder/'well_metadata_20240120flow_fig1paper.yaml' #Assign yaml paths \n",
    "data3 = rd.flow.load_csv_with_metadata(file_path, yaml_path) #Pull data\n",
    "data3['bioreplicate'] = folder \n",
    "# take out part of different experiment, not plotted with these conditions\n",
    "data3 = data3[data3['experiment'] != 'ZFa_panel'] "
   ]
  },
  {
   "cell_type": "code",
   "execution_count": 35,
   "metadata": {},
   "outputs": [],
   "source": [
    "# Import Data - bioreplicate 4\n",
    "folder = '20240126flow_exp20240123_p2'\n",
    "file_path = datadir/'instruments'/'data'/'attune'/'Sneha'/folder/'export_singlets' #Assign file paths\n",
    "yaml_path = datadir/'instruments'/'data'/'attune'/'Sneha'/folder/'well_metadata_20240126flowp2_fig1paper.yaml' #Assign yaml paths \n",
    "data4 = rd.flow.load_csv_with_metadata(file_path, yaml_path) #Pull data\n",
    "data4['bioreplicate'] = folder \n",
    "# take out part of different experiment, not plotted with these conditions\n",
    "data4 = data4[data4['experiment'] != 'ZFa_panel']"
   ]
  },
  {
   "cell_type": "code",
   "execution_count": 36,
   "metadata": {},
   "outputs": [],
   "source": [
    "# Import Data - bioreplicate 5\n",
    "folder = '20240129flow_exp20240126_p2'\n",
    "file_path = datadir/'instruments'/'data'/'attune'/'Sneha'/folder/'export_singlets_loxPcontrol' #Assign file paths\n",
    "yaml_path = datadir/'instruments'/'data'/'attune'/'Sneha'/folder/'well_metadata_20240129flowp2_fig1paper.yaml' #Assign yaml paths \n",
    "data5 = rd.flow.load_csv_with_metadata(file_path, yaml_path) #Pull data\n",
    "data5['bioreplicate'] = folder \n",
    "# take out part of different experiment, not plotted with these conditions\n",
    "data5 = data5[data5['experiment'] != 'ZFa_panel']"
   ]
  },
  {
   "cell_type": "code",
   "execution_count": 37,
   "metadata": {},
   "outputs": [],
   "source": [
    "# Import Data - ZF37 and ZF43 with various spacer lengths \n",
    "folder = '20240304flow_exp20240301_p1_BioA'\n",
    "file_path = datadir/'instruments'/'data'/'attune'/'Sneha'/folder/'export_singlets' #Assign file paths\n",
    "yaml_path = datadir/'instruments'/'data'/'attune'/'Sneha'/folder/'well_metadata_fig 1 and S1.yaml' #Assign yaml paths \n",
    "data3743_loxPcon = rd.flow.load_csv_with_metadata(file_path, yaml_path) #Pull data\n",
    "data3743_loxPcon['bioreplicate'] = 'data3743_loxPcon'"
   ]
  },
  {
   "cell_type": "code",
   "execution_count": 38,
   "metadata": {},
   "outputs": [],
   "source": [
    "# Import Data \n",
    "folder = '20240111flow_exp20240108_p4'\n",
    "file_path = datadir/'instruments'/'data'/'attune'/'Sneha'/folder/'export_singlets' #Assign file paths\n",
    "yaml_path = datadir/'instruments'/'data'/'attune'/'Sneha'/folder/'well_metadata_fig2_27_79_203bp.yaml' #Assign yaml paths \n",
    "#rd.plot.plot_well_metadata(yaml_path)\n",
    "data_ZF2 = rd.flow.load_csv_with_metadata(file_path, yaml_path) #Pull data\n",
    "data_ZF2['bioreplicate'] = 'data_ZF2' "
   ]
  },
  {
   "cell_type": "code",
   "execution_count": 39,
   "metadata": {},
   "outputs": [],
   "source": [
    "# Import Data \n",
    "folder = '20240126flow_exp20240123_p1'\n",
    "file_path = datadir/'instruments'/'data'/'attune'/'Sneha'/folder/'export_singlets_mGL' #Assign file paths\n",
    "yaml_path = datadir/'instruments'/'data'/'attune'/'Sneha'/folder/'well_metadata_fig2_27_79_203bp_0bp.yaml' #Assign yaml paths \n",
    "data_ZF3 = rd.flow.load_csv_with_metadata(file_path, yaml_path) #Pull data\n",
    "data_ZF3['bioreplicate'] = 'data_ZF3' "
   ]
  },
  {
   "cell_type": "markdown",
   "metadata": {},
   "source": [
    "## Concatenate Data and Gate on iRFP670"
   ]
  },
  {
   "cell_type": "code",
   "execution_count": 40,
   "metadata": {},
   "outputs": [],
   "source": [
    "data = pd.concat( [ \n",
    "    data_ZF2, data_ZF3,\n",
    "    data1, data2, data3,data4, data5, data37_loxPcon, data3743_loxPcon,\n",
    "    data_bioB, data_ZF43 # even more reps! (beyond some figures, conclusions the same) pd.array(['20240304flow_exp20240301_p2_BioB','20240205flow_exp20240202_combined'])\n",
    "    ], ignore_index=True)"
   ]
  },
  {
   "cell_type": "code",
   "execution_count": 41,
   "metadata": {},
   "outputs": [],
   "source": [
    "data = data[ data['mRuby2-A'] >0]\n",
    "data = data[ data['mGL-A'] >0]\n",
    "data = data[ data['TagBFP-A'] >0]\n",
    "data = data[ data['Janelia Fluor 549-A'] >0]\n",
    "data = data[ data['iRFP670-A'] >0]\n",
    "data['log10 mGL-A'] = np.log10(data['mGL-A'])"
   ]
  },
  {
   "cell_type": "code",
   "execution_count": 42,
   "metadata": {},
   "outputs": [],
   "source": [
    "iRFP670_gate = 10000 \n",
    "data_iRFP670gated = data[ data['iRFP670-A'] > iRFP670_gate]\n",
    "\n",
    "#Get the data that will be added back in only for the supplement (no ZF condition for 203bp)\n",
    "#data_iRFP670gated_supp = \n",
    "\n",
    "#Get the data for all of the other plots \n",
    "#data_iRFP670gated ="
   ]
  },
  {
   "cell_type": "markdown",
   "metadata": {},
   "source": [
    "New Criteria, (REpt, ZF, Cre)"
   ]
  },
  {
   "cell_type": "code",
   "execution_count": 43,
   "metadata": {},
   "outputs": [
    {
     "name": "stderr",
     "output_type": "stream",
     "text": [
      "<ipython-input-43-2a9d96619102>:2: SettingWithCopyWarning: \n",
      "A value is trying to be set on a copy of a slice from a DataFrame.\n",
      "Try using .loc[row_indexer,col_indexer] = value instead\n",
      "\n",
      "See the caveats in the documentation: https://pandas.pydata.org/pandas-docs/stable/user_guide/indexing.html#returning-a-view-versus-a-copy\n",
      "  data_iRFP670gated['Rept.ZF.Cre'] = data_iRFP670gated['Rept'] + '.' +data_iRFP670gated['ZF'] + '.' + data_iRFP670gated['Cre']\n"
     ]
    }
   ],
   "source": [
    "#Combine ZF and Cre Conditions \n",
    "data_iRFP670gated['Rept.ZF.Cre'] = data_iRFP670gated['Rept'] + '.' +data_iRFP670gated['ZF'] + '.' + data_iRFP670gated['Cre']\n",
    "data['Rept.ZF.Cre'] = data['Rept'] + '.' +data['ZF'] + '.' + data['Cre']"
   ]
  },
  {
   "cell_type": "markdown",
   "metadata": {},
   "source": [
    "New Criteria,  (ZF and Cre), cond_list"
   ]
  },
  {
   "cell_type": "code",
   "execution_count": 44,
   "metadata": {},
   "outputs": [
    {
     "name": "stderr",
     "output_type": "stream",
     "text": [
      "<ipython-input-44-2d076e67cfc6>:2: SettingWithCopyWarning: \n",
      "A value is trying to be set on a copy of a slice from a DataFrame.\n",
      "Try using .loc[row_indexer,col_indexer] = value instead\n",
      "\n",
      "See the caveats in the documentation: https://pandas.pydata.org/pandas-docs/stable/user_guide/indexing.html#returning-a-view-versus-a-copy\n",
      "  data_iRFP670gated['cond'] = data_iRFP670gated['ZF'] + '. ' + data_iRFP670gated['Cre']\n"
     ]
    }
   ],
   "source": [
    "#Combine ZF and Cre Conditions \n",
    "data_iRFP670gated['cond'] = data_iRFP670gated['ZF'] + '. ' + data_iRFP670gated['Cre']\n",
    "data['cond'] = data['ZF'] + '. ' + data['Cre']"
   ]
  },
  {
   "cell_type": "code",
   "execution_count": 45,
   "metadata": {},
   "outputs": [
    {
     "data": {
      "text/plain": [
       "array(['ZF43. Cre', 'noZF. noCre', 'noZF. Cre', 'ZF43. noCre',\n",
       "       'ZF37. Cre', 'ZF37. noCre', 'noZF.none. noCre.none', 'none. none',\n",
       "       <NA>], dtype=object)"
      ]
     },
     "metadata": {},
     "output_type": "display_data"
    }
   ],
   "source": [
    "# Make a list of all the cond. This will be used for the order later on \n",
    "cond_list = pd.unique( data_iRFP670gated['cond'])\n",
    "display(cond_list)\n",
    "\n",
    "#cond_list = pd.array([ 'none. none','noZF. noCre', 'noZF. Cre', 'ZF43. noCre', 'ZF43. Cre',\n",
    " #      'ZF37. noCre','ZF37. Cre' ] )\n",
    "cond_list_nounstained = pd.array([ 'noZF. noCre', 'noZF. Cre', 'ZF43. noCre', 'ZF43. Cre',\n",
    "       'ZF37. noCre','ZF37. Cre' ] )\n"
   ]
  },
  {
   "cell_type": "markdown",
   "metadata": {},
   "source": [
    "New Criteria Bioreplicate + reporter"
   ]
  },
  {
   "cell_type": "code",
   "execution_count": 46,
   "metadata": {},
   "outputs": [
    {
     "name": "stderr",
     "output_type": "stream",
     "text": [
      "<ipython-input-46-127658146392>:1: SettingWithCopyWarning: \n",
      "A value is trying to be set on a copy of a slice from a DataFrame.\n",
      "Try using .loc[row_indexer,col_indexer] = value instead\n",
      "\n",
      "See the caveats in the documentation: https://pandas.pydata.org/pandas-docs/stable/user_guide/indexing.html#returning-a-view-versus-a-copy\n",
      "  data_iRFP670gated['bioreplicate_cond_rept'] = data_iRFP670gated['bioreplicate'] + ' . ' + +data_iRFP670gated['Rept'] + ' . ' + data_iRFP670gated['cond']\n"
     ]
    }
   ],
   "source": [
    "data_iRFP670gated['bioreplicate_cond_rept'] = data_iRFP670gated['bioreplicate'] + ' . ' + +data_iRFP670gated['Rept'] + ' . ' + data_iRFP670gated['cond']\n",
    "data['bioreplicate_cond_rept'] = data['bioreplicate'] + ' . ' + +data['Rept'] + ' . ' + data['cond']"
   ]
  },
  {
   "cell_type": "markdown",
   "metadata": {},
   "source": [
    "# Histograms and Joint Histograms for S2 \n",
    "Reps 'bioreplicate' shown in S2 are '20240111flow_exp20240108_p1', \n",
    "                '20240118flow_exp20240115_p1',\n",
    "                '0240120flow_exp20240117_p1' ,\n",
    "                '20240126flow_exp20240123_p2' ,\n",
    "                '20240129flow_exp20240126_p2'\n",
    "Uncomment relevant conditions in order_repts and to generate the plots desired "
   ]
  },
  {
   "cell_type": "markdown",
   "metadata": {},
   "source": [
    "## Overlay reps in Histograms tagBFP v mGL"
   ]
  },
  {
   "cell_type": "code",
   "execution_count": null,
   "metadata": {},
   "outputs": [],
   "source": [
    "data_now = data_iRFP670gated[ data_iRFP670gated['well'] == 'B1']\n",
    "data_now = data_now[data_now['bioreplicate'] == '20240126flow_exp20240123_p2']\n",
    "display(data_now)"
   ]
  },
  {
   "cell_type": "code",
   "execution_count": null,
   "metadata": {},
   "outputs": [],
   "source": [
    "# tagBFP vs. mGL\n",
    "plot_name = ' tagBFP v mGL'\n",
    "\n",
    "#set the hue, hue_order, palette \n",
    "hue = 'bioreplicate_cond_rept'; palette = 'bright'; hue_order = None\n",
    "\n",
    "cond_list_now = cond_list_nounstained\n",
    "#cond_list_now = pd.array( ['ZF37. Cre']) #used for troubleshooting trying to get all replicates \n",
    "\n",
    "#Interate through the different conditions \n",
    "for cond in cond_list_now: \n",
    "    data_now = data_iRFP670gated[ data_iRFP670gated['cond']== cond]\n",
    "    #data_now = data_now[data_now['bioreplicate'] == '20240120flow_exp20240117_p1'] #used for troubleshooting trying to get all replicates \n",
    "    #display(data_now)\n",
    "    plottitle = cond + plot_name\n",
    "    g = custom_density_plot(xcat='mGL-A',ycat='TagBFP-A', hue=hue, data=data_now, points = 10000, hue_order =hue_order, \n",
    "                            plottitle=plottitle, \n",
    "                            palette=palette, alpha=0, type = ['contour'])\n",
    "    g.savefig(figure_folder+ plottitle + '.svg',dpi=300,bbox_inches='tight')\n",
    "\n"
   ]
  },
  {
   "cell_type": "markdown",
   "metadata": {},
   "source": [
    "## Overlay reps Histograms mRuby2 v mGL"
   ]
  },
  {
   "cell_type": "code",
   "execution_count": null,
   "metadata": {},
   "outputs": [],
   "source": [
    "# mRuby2 vs. mGL \n",
    "plot_name = ' mRuby2 v mGL'\n",
    "\n",
    "#set the hue, hue_order, palette \n",
    "hue = 'bioreplicate_cond_rept'; palette = 'bright'; hue_order = None\n",
    "\n",
    "cond_list_now = cond_list_nounstained\n",
    "\n",
    "#Interate through the different conditions \n",
    "for cond in cond_list_now: \n",
    "    data_now = data_iRFP670gated[ data_iRFP670gated['cond']== cond]\n",
    "    #display(data_now) #used for troubleshooting\n",
    "    plottitle = cond + plot_name\n",
    "    g = custom_density_plot(xcat='mGL-A',ycat='mRuby2-A', hue=hue, data=data_now, points = 10000, hue_order =hue_order, \n",
    "                            plottitle=plottitle, \n",
    "                            palette=palette, alpha=0, type = ['contour'])\n",
    "    g.savefig(figure_folder+ plottitle + '.svg',dpi=300,bbox_inches='tight')\n",
    "\n"
   ]
  },
  {
   "cell_type": "markdown",
   "metadata": {},
   "source": [
    "## Hist ZF43 -/+ Cre, gated"
   ]
  },
  {
   "cell_type": "code",
   "execution_count": null,
   "metadata": {},
   "outputs": [],
   "source": [
    "# figure S1-2 figures\n",
    "\n",
    "#set the hue, hue_order, palette \n",
    "hue = 'Rept.ZF.Cre'; palette = 'bright'\n",
    "\n",
    "order_repts = {\n",
    "    # '203bp.noZF.noCre': 'grey', \n",
    "    # '203bp.noZF.Cre': 'black', \n",
    "    #'203bp.ZF37.noCre': '#C3DB9A',                                                \n",
    "    # '203bp.ZF37.Cre': '#69B645',\n",
    "    # 'loxP control.ZF37.noCre': '#C3DB9A',\n",
    "    # 'loxP control.ZF37.Cre': '#69B645',\n",
    "    '203bp.ZF43.noCre': 'grey', \n",
    "    '203bp.ZF43.Cre': 'black',\n",
    "    # 'loxP control.ZF43.noCre': '#C3DB9A',\n",
    "    # 'loxP control.ZF43.Cre': '#69B645',\n",
    "    #'none.none.none': 'grey'\n",
    "                         }\n",
    "\n",
    "hue_order = order_repts; palette=order_repts\n",
    "\n",
    "data_now = data_iRFP670gated\n",
    "\n",
    "plottitle = '203bp iRFP670 v mGL ZF43'\n",
    "g = custom_density_plot(xcat='mGL-A',ycat='iRFP670-A', hue=hue, data=data_now, points = 10000, hue_order =hue_order, \n",
    "                        plottitle=plottitle, legend=False,\n",
    "                        palette=palette, alpha=0, type = ['contour'])\n",
    "g.savefig(figure_folder+ plottitle + '.svg',dpi=300,bbox_inches='tight')\n",
    "\n",
    "\n",
    "# order_repts = {\n",
    "#      '203bp.noZF.noCre': 'grey', \n",
    "#     '203bp.noZF.Cre': 'black', \n",
    "#     #'203bp.ZF37.noCre': '#C3DB9A',                                                \n",
    "#     # '203bp.ZF37.Cre': '#69B645',\n",
    "#     # 'loxP control.ZF37.noCre': '#C3DB9A',\n",
    "#     # 'loxP control.ZF37.Cre': '#69B645',\n",
    "#     #'203bp.ZF43.noCre': '#C3DB9A', \n",
    "#     # '203bp.ZF43.Cre': '#69B645',\n",
    "#     # 'loxP control.ZF43.noCre': '#C3DB9A',\n",
    "#     # 'loxP control.ZF43.Cre': '#69B645',\n",
    "#     #'none.none.none': 'black'\n",
    "#                          }\n",
    "\n",
    "# hue_order = order_repts; palette=order_repts\n",
    "\n",
    "# plottitle = '203bp tagbfp v mGL noZF'\n",
    "# g = custom_density_plot(xcat='mGL-A',ycat='TagBFP-A', hue=hue, data=data_now, points = 10000, hue_order =hue_order, \n",
    "#                         plottitle=plottitle, legend=False,\n",
    "#                         palette=palette, alpha=0, type = ['contour'])\n",
    "# g.savefig(figure_folder+ plottitle + '.svg',dpi=300,bbox_inches='tight')"
   ]
  },
  {
   "cell_type": "markdown",
   "metadata": {},
   "source": [
    "## Hist ZF37 -/+ Cre, gated"
   ]
  },
  {
   "cell_type": "code",
   "execution_count": null,
   "metadata": {},
   "outputs": [],
   "source": [
    "# figure S1-2 figures\n",
    "\n",
    "#set the hue, hue_order, palette \n",
    "hue = 'Rept.ZF.Cre'; palette = 'bright'\n",
    "\n",
    "order_repts = {\n",
    "    # '203bp.noZF.noCre': 'grey', \n",
    "    # '203bp.noZF.Cre': 'black', \n",
    "    '203bp.ZF37.noCre': 'grey',                                                \n",
    "    '203bp.ZF37.Cre': 'black',\n",
    "    # 'loxP control.ZF37.noCre': '#C3DB9A',\n",
    "    # 'loxP control.ZF37.Cre': '#69B645',\n",
    "    #'203bp.ZF43.noCre': '#C3DB9A', \n",
    "    #'203bp.ZF43.Cre': '#69B645',\n",
    "    # 'loxP control.ZF43.noCre': '#C3DB9A',\n",
    "    # 'loxP control.ZF43.Cre': '#69B645',\n",
    "    #'none.none.none': 'grey'\n",
    "                         }\n",
    "\n",
    "hue_order = order_repts; palette=order_repts\n",
    "\n",
    "data_now = data_iRFP670gated\n",
    "\n",
    "plottitle = '203bp iRFP670 v mGL ZF37'\n",
    "g = custom_density_plot(xcat='mGL-A',ycat='iRFP670-A', hue=hue, data=data_now, points = 10000, hue_order =hue_order, \n",
    "                        plottitle=plottitle, legend=False,\n",
    "                        palette=palette, alpha=0, type = ['contour'])\n",
    "g.savefig(figure_folder+ plottitle + '.svg',dpi=300,bbox_inches='tight')\n",
    "\n",
    "\n",
    "# order_repts = {\n",
    "#      '203bp.noZF.noCre': 'grey', \n",
    "#     '203bp.noZF.Cre': 'black', \n",
    "#     #'203bp.ZF37.noCre': '#C3DB9A',                                                \n",
    "#     # '203bp.ZF37.Cre': '#69B645',\n",
    "#     # 'loxP control.ZF37.noCre': '#C3DB9A',\n",
    "#     # 'loxP control.ZF37.Cre': '#69B645',\n",
    "#     #'203bp.ZF43.noCre': '#C3DB9A', \n",
    "#     # '203bp.ZF43.Cre': '#69B645',\n",
    "#     # 'loxP control.ZF43.noCre': '#C3DB9A',\n",
    "#     # 'loxP control.ZF43.Cre': '#69B645',\n",
    "#     #'none.none.none': 'black'\n",
    "#                          }\n",
    "\n",
    "# hue_order = order_repts; palette=order_repts\n",
    "\n",
    "# plottitle = '203bp mRuby2 v mGL noZF'\n",
    "# g = custom_density_plot(xcat='mGL-A',ycat='mRuby2-A', hue=hue, data=data_now, points = 10000, hue_order =hue_order, \n",
    "#                         plottitle=plottitle, legend=False,\n",
    "#                         palette=palette, alpha=0, type = ['contour'])\n",
    "# g.savefig(figure_folder+ plottitle + '.svg',dpi=300,bbox_inches='tight')"
   ]
  },
  {
   "cell_type": "markdown",
   "metadata": {},
   "source": [
    "## iRFP670 and TagBFP - ungated"
   ]
  },
  {
   "cell_type": "code",
   "execution_count": null,
   "metadata": {},
   "outputs": [],
   "source": [
    "# mRuby2 vs. mGL \n",
    "plot_name = ' iRFP670 v TagBFP'\n",
    "\n",
    "#set the hue, hue_order, palette \n",
    "hue = 'Rept.ZF.Cre'; palette = 'bright'\n",
    "\n",
    "order_repts = {\n",
    "     #'203bp.noZF.noCre': 'grey', \n",
    "    # '203bp.noZF.Cre': 'black', \n",
    "    #'203bp.ZF37.noCre': '#C3DB9A',                                                \n",
    "    # '203bp.ZF37.Cre': '#69B645',\n",
    "    # 'loxP control.ZF37.noCre': '#C3DB9A',\n",
    "    # 'loxP control.ZF37.Cre': '#69B645',\n",
    "    '203bp.ZF43.noCre': '#C3DB9A', \n",
    "    # '203bp.ZF43.Cre': '#69B645',\n",
    "    # 'loxP control.ZF43.noCre': '#C3DB9A',\n",
    "    # 'loxP control.ZF43.Cre': '#69B645',\n",
    "    'none.none.none': 'black'\n",
    "                         }\n",
    "\n",
    "hue_order = order_repts; palette=order_repts\n",
    "\n",
    "data_now = data\n",
    "#display(data_now) #used for troubleshooting\n",
    "# plottitle = 'iRFP gating'\n",
    "# plt.figure()\n",
    "# plt.axhline(y=1e4, color='r', linestyle='-')\n",
    "# g = custom_density_plot(xcat='mGL-A',ycat='iRFP670-A', hue=hue, data=data_now, points = 10000, hue_order =hue_order, \n",
    "#                         plottitle=plottitle, legend=False,\n",
    "#                         palette=palette, alpha=0, type = ['contour'])\n",
    "\n",
    "# plt.show\n",
    "# g.savefig(figure_folder+ plottitle + '.svg',dpi=300,bbox_inches='tight')\n",
    "\n",
    "plottitle = 'iRFP vs tagbfp'\n",
    "g = custom_density_plot(xcat='TagBFP-A',ycat='iRFP670-A', hue=hue, data=data_now, points = 10000, hue_order =hue_order, \n",
    "                        plottitle=plottitle, legend=False,\n",
    "                        palette=palette, alpha=0, type = ['contour'])\n",
    "g.savefig(figure_folder+ plottitle + '.svg',dpi=300,bbox_inches='tight')\n",
    "\n",
    "\n",
    "order_repts = {\n",
    "     #'203bp.noZF.noCre': 'grey', \n",
    "    # '203bp.noZF.Cre': 'black', \n",
    "    '203bp.ZF37.noCre': '#C3DB9A',                                                \n",
    "    # '203bp.ZF37.Cre': '#69B645',\n",
    "    # 'loxP control.ZF37.noCre': '#C3DB9A',\n",
    "    # 'loxP control.ZF37.Cre': '#69B645',\n",
    "    #'203bp.ZF43.noCre': '#C3DB9A', \n",
    "    # '203bp.ZF43.Cre': '#69B645',\n",
    "    # 'loxP control.ZF43.noCre': '#C3DB9A',\n",
    "    # 'loxP control.ZF43.Cre': '#69B645',\n",
    "    'none.none.none': 'black'\n",
    "                         }\n",
    "\n",
    "hue_order = order_repts; palette=order_repts\n",
    "\n",
    "plottitle = 'iRFP vs mRuby2'\n",
    "g = custom_density_plot(xcat='mRuby2-A',ycat='iRFP670-A', hue=hue, data=data_now, points = 10000, hue_order =hue_order, \n",
    "                        plottitle=plottitle, legend=False,\n",
    "                        palette=palette, alpha=0, type = ['contour'])\n",
    "g.savefig(figure_folder+ plottitle + '.svg',dpi=300,bbox_inches='tight')"
   ]
  },
  {
   "cell_type": "markdown",
   "metadata": {},
   "source": [
    "# iRFP670 and mGL,mRuby2,TagBFP - ungated"
   ]
  },
  {
   "cell_type": "code",
   "execution_count": null,
   "metadata": {},
   "outputs": [],
   "source": [
    "# post gated joint plots\n",
    "plot_name = ' iRFP670 v mGL'\n",
    "\n",
    "#set the hue, hue_order, palette \n",
    "hue = 'Rept.ZF.Cre'; palette = 'bright'\n",
    "\n",
    "order_repts = {\n",
    "     '203bp.noZF.noCre': 'grey', \n",
    "    # '203bp.noZF.Cre': 'black', \n",
    "    #'203bp.ZF37.noCre': '#C3DB9A',                                                \n",
    "    # '203bp.ZF37.Cre': '#69B645',\n",
    "    # 'loxP control.ZF37.noCre': '#C3DB9A',\n",
    "    # 'loxP control.ZF37.Cre': '#69B645',\n",
    "    '203bp.ZF43.noCre': '#C3DB9A', \n",
    "    # '203bp.ZF43.Cre': '#69B645',\n",
    "    # 'loxP control.ZF43.noCre': '#C3DB9A',\n",
    "    # 'loxP control.ZF43.Cre': '#69B645',\n",
    "    'none.none.none': 'black'\n",
    "                         }\n",
    "\n",
    "hue_order = order_repts; palette=order_repts\n",
    "\n",
    "data_now = data\n",
    "#display(data_now) #used for troubleshooting\n",
    "plottitle = 'iRFP gating'\n",
    "plt.figure()\n",
    "plt.axhline(y=1e4, color='r', linestyle='-')\n",
    "g = custom_density_plot(xcat='mGL-A',ycat='iRFP670-A', hue=hue, data=data_now, points = 10000, hue_order =hue_order, \n",
    "                        plottitle=plottitle, legend=False,\n",
    "                        palette=palette, alpha=0, type = ['contour'])\n",
    "\n",
    "plt.show\n",
    "g.savefig(figure_folder+ plottitle + '.svg',dpi=300,bbox_inches='tight')\n",
    "\n",
    "plottitle = 'iRFP ungated tagbfp'\n",
    "plt.axhline(y=1e4, color='r', linestyle='-')\n",
    "g = custom_density_plot(xcat='mGL-A',ycat='TagBFP-A', hue=hue, data=data_now, points = 10000, hue_order =hue_order, \n",
    "                        plottitle=plottitle, legend=False,\n",
    "                        palette=palette, alpha=0, type = ['contour'])\n",
    "g.savefig(figure_folder+ plottitle + '.svg',dpi=300,bbox_inches='tight')\n",
    "\n",
    "\n",
    "order_repts = {\n",
    "     '203bp.noZF.noCre': 'grey', \n",
    "    # '203bp.noZF.Cre': 'black', \n",
    "    '203bp.ZF37.noCre': '#C3DB9A',                                                \n",
    "    # '203bp.ZF37.Cre': '#69B645',\n",
    "    # 'loxP control.ZF37.noCre': '#C3DB9A',\n",
    "    # 'loxP control.ZF37.Cre': '#69B645',\n",
    "    #'203bp.ZF43.noCre': '#C3DB9A', \n",
    "    # '203bp.ZF43.Cre': '#69B645',\n",
    "    # 'loxP control.ZF43.noCre': '#C3DB9A',\n",
    "    # 'loxP control.ZF43.Cre': '#69B645',\n",
    "    'none.none.none': 'black'\n",
    "                         }\n",
    "\n",
    "hue_order = order_repts; palette=order_repts\n",
    "\n",
    "plottitle = 'iRFP ungated mRuby2'\n",
    "g = custom_density_plot(xcat='mGL-A',ycat='mRuby2-A', hue=hue, data=data_now, points = 10000, hue_order =hue_order, \n",
    "                        plottitle=plottitle, legend=False,\n",
    "                        palette=palette, alpha=0, type = ['contour'])\n",
    "g.savefig(figure_folder+ plottitle + '.svg',dpi=300,bbox_inches='tight')"
   ]
  },
  {
   "cell_type": "markdown",
   "metadata": {},
   "source": [
    "# Palette and hue_order for Summary Plots"
   ]
  },
  {
   "cell_type": "code",
   "execution_count": 61,
   "metadata": {},
   "outputs": [
    {
     "data": {
      "text/plain": [
       "array(['ZF43. Cre', 'ZF43. noCre', 'ZF37. Cre', 'ZF37. noCre',\n",
       "       'none. none', 'noZF. noCre', 'noZF. Cre', <NA>,\n",
       "       'noZF.none. noCre.none'], dtype=object)"
      ]
     },
     "metadata": {},
     "output_type": "display_data"
    }
   ],
   "source": [
    "display(cond_list)"
   ]
  },
  {
   "cell_type": "code",
   "execution_count": 62,
   "metadata": {},
   "outputs": [],
   "source": [
    "#from fig 2 \n",
    "palette = {'noZF. noCre': 'black',\n",
    "            'noZF. Cre': 'goldenrod',\n",
    "              'ZF43. noCre': 'deepskyblue',\n",
    "           'ZF43. Cre': 'blue', \n",
    "          'ZF37. noCre': 'darksalmon',\n",
    "            'ZF37. Cre': 'red'\n",
    "}\n",
    "\n",
    "\n",
    "\n",
    "hue_order = pd.array(['noZF. noCre',\n",
    "            'noZF. Cre',\n",
    "            'ZF43. noCre',\n",
    "             'ZF43. Cre',\n",
    "            'ZF37. noCre',\n",
    "           'ZF37. Cre'\n",
    "])\n"
   ]
  },
  {
   "cell_type": "markdown",
   "metadata": {},
   "source": [
    "# Summary Plots, points = Bioreplicate "
   ]
  },
  {
   "cell_type": "markdown",
   "metadata": {},
   "source": [
    "## Calculate summary stats"
   ]
  },
  {
   "cell_type": "code",
   "execution_count": 56,
   "metadata": {},
   "outputs": [
    {
     "data": {
      "text/html": [
       "<div>\n",
       "<style scoped>\n",
       "    .dataframe tbody tr th:only-of-type {\n",
       "        vertical-align: middle;\n",
       "    }\n",
       "\n",
       "    .dataframe tbody tr th {\n",
       "        vertical-align: top;\n",
       "    }\n",
       "\n",
       "    .dataframe thead th {\n",
       "        text-align: right;\n",
       "    }\n",
       "</style>\n",
       "<table border=\"1\" class=\"dataframe\">\n",
       "  <thead>\n",
       "    <tr style=\"text-align: right;\">\n",
       "      <th></th>\n",
       "      <th>Rept</th>\n",
       "      <th>Rept.ZF.Cre</th>\n",
       "      <th>mGL-A_gmean_std</th>\n",
       "      <th>mGL-A_gmean_mean</th>\n",
       "      <th>TagBFP-A_gmean_std</th>\n",
       "      <th>TagBFP-A_gmean_mean</th>\n",
       "      <th>mCherry-A_gmean_std</th>\n",
       "      <th>mCherry-A_gmean_mean</th>\n",
       "      <th>Fraction</th>\n",
       "      <th>Count</th>\n",
       "    </tr>\n",
       "  </thead>\n",
       "  <tbody>\n",
       "    <tr>\n",
       "      <th>0</th>\n",
       "      <td>203bp</td>\n",
       "      <td>203bp.ZF37.Cre</td>\n",
       "      <td>166.184605</td>\n",
       "      <td>414.113765</td>\n",
       "      <td>0.801842</td>\n",
       "      <td>33.702769</td>\n",
       "      <td>357.799180</td>\n",
       "      <td>496.741920</td>\n",
       "      <td>0.285714</td>\n",
       "      <td>4</td>\n",
       "    </tr>\n",
       "    <tr>\n",
       "      <th>1</th>\n",
       "      <td>203bp</td>\n",
       "      <td>203bp.ZF37.noCre</td>\n",
       "      <td>40.064676</td>\n",
       "      <td>127.551256</td>\n",
       "      <td>1.076003</td>\n",
       "      <td>34.697403</td>\n",
       "      <td>302.916367</td>\n",
       "      <td>413.403264</td>\n",
       "      <td>0.285714</td>\n",
       "      <td>4</td>\n",
       "    </tr>\n",
       "    <tr>\n",
       "      <th>2</th>\n",
       "      <td>203bp</td>\n",
       "      <td>203bp.ZF43.Cre</td>\n",
       "      <td>26.542214</td>\n",
       "      <td>221.980439</td>\n",
       "      <td>663.102158</td>\n",
       "      <td>829.041545</td>\n",
       "      <td>0.508343</td>\n",
       "      <td>35.751644</td>\n",
       "      <td>0.214286</td>\n",
       "      <td>3</td>\n",
       "    </tr>\n",
       "    <tr>\n",
       "      <th>3</th>\n",
       "      <td>203bp</td>\n",
       "      <td>203bp.ZF43.noCre</td>\n",
       "      <td>16.362429</td>\n",
       "      <td>81.686193</td>\n",
       "      <td>505.982042</td>\n",
       "      <td>571.754060</td>\n",
       "      <td>0.700825</td>\n",
       "      <td>34.878678</td>\n",
       "      <td>0.214286</td>\n",
       "      <td>3</td>\n",
       "    </tr>\n",
       "    <tr>\n",
       "      <th>4</th>\n",
       "      <td>loxP control</td>\n",
       "      <td>loxP control.ZF37.Cre</td>\n",
       "      <td>538.688635</td>\n",
       "      <td>655.212554</td>\n",
       "      <td>1.912548</td>\n",
       "      <td>34.137476</td>\n",
       "      <td>433.551612</td>\n",
       "      <td>515.587327</td>\n",
       "      <td>0.285714</td>\n",
       "      <td>4</td>\n",
       "    </tr>\n",
       "    <tr>\n",
       "      <th>5</th>\n",
       "      <td>loxP control</td>\n",
       "      <td>loxP control.ZF37.noCre</td>\n",
       "      <td>898.108313</td>\n",
       "      <td>1082.855537</td>\n",
       "      <td>1.093540</td>\n",
       "      <td>33.485636</td>\n",
       "      <td>217.010178</td>\n",
       "      <td>384.134352</td>\n",
       "      <td>0.285714</td>\n",
       "      <td>4</td>\n",
       "    </tr>\n",
       "    <tr>\n",
       "      <th>6</th>\n",
       "      <td>loxP control</td>\n",
       "      <td>loxP control.ZF43.Cre</td>\n",
       "      <td>199.214016</td>\n",
       "      <td>273.270782</td>\n",
       "      <td>892.322529</td>\n",
       "      <td>858.439081</td>\n",
       "      <td>1.015670</td>\n",
       "      <td>35.990599</td>\n",
       "      <td>0.214286</td>\n",
       "      <td>3</td>\n",
       "    </tr>\n",
       "    <tr>\n",
       "      <th>7</th>\n",
       "      <td>loxP control</td>\n",
       "      <td>loxP control.ZF43.noCre</td>\n",
       "      <td>305.357173</td>\n",
       "      <td>381.082306</td>\n",
       "      <td>365.010859</td>\n",
       "      <td>490.537366</td>\n",
       "      <td>0.925166</td>\n",
       "      <td>35.128245</td>\n",
       "      <td>0.214286</td>\n",
       "      <td>3</td>\n",
       "    </tr>\n",
       "  </tbody>\n",
       "</table>\n",
       "</div>"
      ],
      "text/plain": [
       "           Rept              Rept.ZF.Cre  mGL-A_gmean_std  mGL-A_gmean_mean  \\\n",
       "0         203bp           203bp.ZF37.Cre       166.184605        414.113765   \n",
       "1         203bp         203bp.ZF37.noCre        40.064676        127.551256   \n",
       "2         203bp           203bp.ZF43.Cre        26.542214        221.980439   \n",
       "3         203bp         203bp.ZF43.noCre        16.362429         81.686193   \n",
       "4  loxP control    loxP control.ZF37.Cre       538.688635        655.212554   \n",
       "5  loxP control  loxP control.ZF37.noCre       898.108313       1082.855537   \n",
       "6  loxP control    loxP control.ZF43.Cre       199.214016        273.270782   \n",
       "7  loxP control  loxP control.ZF43.noCre       305.357173        381.082306   \n",
       "\n",
       "   TagBFP-A_gmean_std  TagBFP-A_gmean_mean  mCherry-A_gmean_std  \\\n",
       "0            0.801842            33.702769           357.799180   \n",
       "1            1.076003            34.697403           302.916367   \n",
       "2          663.102158           829.041545             0.508343   \n",
       "3          505.982042           571.754060             0.700825   \n",
       "4            1.912548            34.137476           433.551612   \n",
       "5            1.093540            33.485636           217.010178   \n",
       "6          892.322529           858.439081             1.015670   \n",
       "7          365.010859           490.537366             0.925166   \n",
       "\n",
       "   mCherry-A_gmean_mean  Fraction  Count  \n",
       "0            496.741920  0.285714      4  \n",
       "1            413.403264  0.285714      4  \n",
       "2             35.751644  0.214286      3  \n",
       "3             34.878678  0.214286      3  \n",
       "4            515.587327  0.285714      4  \n",
       "5            384.134352  0.285714      4  \n",
       "6             35.990599  0.214286      3  \n",
       "7             35.128245  0.214286      3  "
      ]
     },
     "metadata": {},
     "output_type": "display_data"
    }
   ],
   "source": [
    "df = data #choose dataframe\n",
    "\n",
    "#Decide how to group. The last parameter will be the condition that it is group by by last ('well' or 'bioreplicate')\n",
    "by = ['Rept', 'ZF', 'Cre','cond','Rept.ZF.Cre', 'bioreplicate'] #how to filter results, columns \n",
    "\n",
    "\n",
    "x = ['mGL-A', 'TagBFP-A','mRuby2-A'] #which parameter to calculate results on\n",
    "stat = [sp.stats.gmean, np.median, np.std, np.mean] #statistics to calculate\n",
    "s_bioreplicate = calc_stats(df,by,x,stat) #calculate statistics \n",
    "s_bioreplicate['mCherry-A_gmean'] = s_bioreplicate['mRuby2-A_gmean']\n",
    "s_bioreplicate = s_bioreplicate[ s_bioreplicate['Rept'].isin(['203bp','loxP control'])]\n",
    "\n",
    "\n",
    "# Conditions where within ZF37 and ZF43, 203bp and loxPcontrol have matching bioreplicates\n",
    "bioreps_ZF37 = pd.array( ['data37_loxPcon','data3743_loxPcon','20240304flow_exp20240301_p2_BioB','20240120flow_exp20240117_p1'])\n",
    "s_ZF37 = s_bioreplicate[ (s_bioreplicate['ZF']=='ZF37')& (s_bioreplicate['bioreplicate'].isin(bioreps_ZF37))]\n",
    "bioreps_ZF43 = pd.array( ['data3743_loxPcon','20240304flow_exp20240301_p2_BioB','20240205flow_exp20240202_combined'])\n",
    "s_ZF43 = s_bioreplicate[ (s_bioreplicate['ZF']=='ZF43')& (s_bioreplicate['bioreplicate'].isin(bioreps_ZF43))]\n",
    "\n",
    "s_now = pd.concat([s_ZF37,s_ZF43],ignore_index=True)\n",
    "s_matching_bioreps = s_now\n",
    "data_now = s_now\n",
    "#display(data_now)\n",
    "\n",
    "by = ['Rept','Rept.ZF.Cre'] #how to filter results, columns \n",
    "x = ['mGL-A_gmean', 'TagBFP-A_gmean','mCherry-A_gmean'] #which parameter to calculate results on\n",
    "stat = [np.std, np.mean] #statistics to calculate\n",
    "s_bioreplicate_means = calc_stats(data_now,by,x,stat)\n",
    "display(s_bioreplicate_means[s_bioreplicate_means['Rept'].isin(['203bp','loxP control'])])\n",
    "\n",
    "#s_figure_S3 = s_bioreplicate[ ~(s_bioreplicate['bioreplicate'].isin(pd.array(['20240304flow_exp20240301_p2_BioB','20240205flow_exp20240202_combined'])))]\n",
    "s_bioreplicate[['Rept.ZF.Cre','mGL-A_gmean','TagBFP-A_gmean','mCherry-A_gmean']].to_excel('Fig1C_S1D_203bp_loxPcon_morerepsextradata.xlsx',index=False)\n",
    "s_matching_bioreps[['Rept.ZF.Cre','mGL-A_gmean','TagBFP-A_gmean','mCherry-A_gmean']].to_excel('FigS1_FigS2_S3_203bp_reps_paper.xlsx',index=False)"
   ]
  },
  {
   "cell_type": "code",
   "execution_count": 53,
   "metadata": {},
   "outputs": [],
   "source": [
    "s_matching_bioreps[['Rept.ZF.Cre','mGL-A_gmean','TagBFP-A_gmean','mCherry-A_gmean']].to_excel('FigS1_FigS2_203bp_reps_paper.xlsx',index=False)"
   ]
  },
  {
   "cell_type": "code",
   "execution_count": 48,
   "metadata": {},
   "outputs": [],
   "source": [
    "# Conditions where within ZF37 and ZF43 matching bioreplicates\n",
    "bioreps_ZF37 = pd.array( ['data37_loxPcon','data3743_loxPcon','20240304flow_exp20240301_p2_BioB','20240120flow_exp20240117_p1'])\n",
    "bioreps_ZF37 = pd.array( ['data37_loxPcon','20240304flow_exp20240301_p2_BioB','20240205flow_exp20240202_combined'])"
   ]
  },
  {
   "cell_type": "code",
   "execution_count": 49,
   "metadata": {},
   "outputs": [
    {
     "ename": "NameError",
     "evalue": "name 's_figure_S3' is not defined",
     "output_type": "error",
     "traceback": [
      "\u001b[1;31m---------------------------------------------------------------------------\u001b[0m",
      "\u001b[1;31mNameError\u001b[0m                                 Traceback (most recent call last)",
      "\u001b[1;32m<ipython-input-49-d48721ebbd3e>\u001b[0m in \u001b[0;36m<module>\u001b[1;34m\u001b[0m\n\u001b[0;32m      1\u001b[0m \u001b[1;31m# Means of bioreplicates\u001b[0m\u001b[1;33m\u001b[0m\u001b[1;33m\u001b[0m\u001b[1;33m\u001b[0m\u001b[0m\n\u001b[1;32m----> 2\u001b[1;33m \u001b[0mdf\u001b[0m \u001b[1;33m=\u001b[0m \u001b[0ms_figure_S3\u001b[0m\u001b[1;33m\u001b[0m\u001b[1;33m\u001b[0m\u001b[0m\n\u001b[0m\u001b[0;32m      3\u001b[0m \u001b[0mdf\u001b[0m \u001b[1;33m=\u001b[0m \u001b[0ms_bioreplicate\u001b[0m\u001b[1;33m\u001b[0m\u001b[1;33m\u001b[0m\u001b[0m\n\u001b[0;32m      4\u001b[0m \u001b[1;33m\u001b[0m\u001b[0m\n\u001b[0;32m      5\u001b[0m \u001b[1;31m#Decide how to group. The last parameter will be the condition that it is group by by last ('well' or 'bioreplicate')\u001b[0m\u001b[1;33m\u001b[0m\u001b[1;33m\u001b[0m\u001b[1;33m\u001b[0m\u001b[0m\n",
      "\u001b[1;31mNameError\u001b[0m: name 's_figure_S3' is not defined"
     ]
    }
   ],
   "source": [
    "# Means of bioreplicates \n",
    "df = s_figure_S3\n",
    "df = s_bioreplicate\n",
    "\n",
    "#Decide how to group. The last parameter will be the condition that it is group by by last ('well' or 'bioreplicate')\n",
    "by = ['Rept','Rept.ZF.Cre'] #how to filter results, columns \n",
    "x = ['mGL-A_gmean', 'TagBFP-A_gmean','mCherry-A_gmean'] #which parameter to calculate results on\n",
    "stat = [np.std, np.mean] #statistics to calculate\n",
    "s_bioreplicate_means = calc_stats(df,by,x,stat)\n",
    "display(s_bioreplicate_means[s_bioreplicate_means['Rept'].isin(['203bp','loxP control','none'])])\n",
    "\n",
    "# Note, no statistics or plots were used in this code with the data of loxPcontrol, noZF \n",
    "# All other conditions with statistics included in the paper have n>3\n"
   ]
  },
  {
   "cell_type": "markdown",
   "metadata": {},
   "source": [
    "## All points together"
   ]
  },
  {
   "cell_type": "code",
   "execution_count": 65,
   "metadata": {},
   "outputs": [
    {
     "name": "stdout",
     "output_type": "stream",
     "text": [
      "p-value annotation legend:\n",
      "ns: 5.00e-02 < p <= 1.00e+00\n",
      "*: 1.00e-02 < p <= 5.00e-02\n",
      "**: 1.00e-03 < p <= 1.00e-02\n",
      "***: 1.00e-04 < p <= 1.00e-03\n",
      "****: p <= 1.00e-04\n",
      "\n",
      "203bp_ZF37. noCre v.s. 203bp_ZF37. Cre: t-test independent samples, P_val=1.124e-03 stat=-4.252e+00\n",
      "loxP control_ZF37. noCre v.s. loxP control_ZF37. Cre: t-test independent samples, P_val=2.540e-01 stat=1.261e+00\n",
      "203bp_noZF. noCre v.s. 203bp_noZF. Cre: t-test independent samples, P_val=2.011e-02 stat=-3.741e+00\n",
      "203bp_ZF43. noCre v.s. 203bp_ZF43. Cre: t-test independent samples, P_val=1.084e-02 stat=-3.122e+00\n",
      "loxP control_ZF43. noCre v.s. loxP control_ZF43. Cre: t-test independent samples, P_val=5.824e-01 stat=5.974e-01\n"
     ]
    },
    {
     "name": "stderr",
     "output_type": "stream",
     "text": [
      "c:\\Users\\ChemeGrad2020\\Dropbox (MIT)\\MIT Graduate School\\Galloway Lab\\DIAL_git\\newenv\\lib\\site-packages\\numpy\\core\\fromnumeric.py:3723: RuntimeWarning: Degrees of freedom <= 0 for slice\n",
      "  return _methods._var(a, axis=axis, dtype=dtype, out=out, ddof=ddof,\n",
      "c:\\Users\\ChemeGrad2020\\Dropbox (MIT)\\MIT Graduate School\\Galloway Lab\\DIAL_git\\newenv\\lib\\site-packages\\numpy\\core\\_methods.py:254: RuntimeWarning: invalid value encountered in double_scalars\n",
      "  ret = ret.dtype.type(ret / rcount)\n"
     ]
    },
    {
     "name": "stdout",
     "output_type": "stream",
     "text": [
      "loxP control_noZF. noCre v.s. loxP control_ZF43. noCre: t-test independent samples, P_val=nan stat=nan\n",
      "loxP control_ZF43. Cre v.s. loxP control_ZF37. Cre: t-test independent samples, P_val=7.435e-01 stat=-3.459e-01\n",
      "203bp_ZF43. Cre v.s. 203bp_ZF37. Cre: t-test independent samples, P_val=1.050e-01 stat=-1.766e+00\n",
      "203bp_noZF. noCre v.s. 203bp_ZF43. noCre: t-test independent samples, P_val=3.146e-03 stat=-4.403e+00\n",
      "203bp_ZF43. noCre v.s. 203bp_ZF37. noCre: t-test independent samples, P_val=4.747e-01 stat=-7.402e-01\n",
      "loxP control_ZF43. noCre v.s. loxP control_ZF37. noCre: t-test independent samples, P_val=6.217e-01 stat=-5.255e-01\n",
      "203bp_noZF. noCre v.s. 203bp_ZF37. noCre: t-test independent samples, P_val=1.488e-03 stat=-4.727e+00\n",
      "loxP control_noZF. noCre v.s. loxP control_ZF37. noCre: t-test independent samples, P_val=nan stat=nan\n",
      "203bp_noZF. Cre v.s. loxP control_noZF. noCre: t-test independent samples, P_val=nan stat=nan\n",
      "203bp_ZF43. Cre v.s. loxP control_ZF43. Cre: t-test independent samples, P_val=3.103e-01 stat=-1.094e+00\n",
      "203bp_ZF37. Cre v.s. loxP control_ZF37. Cre: t-test independent samples, P_val=7.090e-01 stat=-3.852e-01\n"
     ]
    },
    {
     "data": {
      "image/png": "[encoded data removed]",
      "text/plain": [
       "<Figure size 432x288 with 1 Axes>"
      ]
     },
     "metadata": {
      "needs_background": "light"
     },
     "output_type": "display_data"
    },
    {
     "name": "stdout",
     "output_type": "stream",
     "text": [
      "p-value annotation legend:\n",
      "ns: 5.00e-02 < p <= 1.00e+00\n",
      "*: 1.00e-02 < p <= 5.00e-02\n",
      "**: 1.00e-03 < p <= 1.00e-02\n",
      "***: 1.00e-04 < p <= 1.00e-03\n",
      "****: p <= 1.00e-04\n",
      "\n",
      "203bp_ZF43. noCre v.s. 203bp_ZF43. Cre: t-test independent samples, P_val=8.011e-01 stat=2.587e-01\n",
      "loxP control_ZF43. noCre v.s. loxP control_ZF43. Cre: t-test independent samples, P_val=2.337e-01 stat=-1.401e+00\n"
     ]
    },
    {
     "data": {
      "image/png": "[encoded data removed]",
      "text/plain": [
       "<Figure size 432x288 with 1 Axes>"
      ]
     },
     "metadata": {
      "needs_background": "light"
     },
     "output_type": "display_data"
    },
    {
     "name": "stdout",
     "output_type": "stream",
     "text": [
      "p-value annotation legend:\n",
      "ns: 5.00e-02 < p <= 1.00e+00\n",
      "*: 1.00e-02 < p <= 5.00e-02\n",
      "**: 1.00e-03 < p <= 1.00e-02\n",
      "***: 1.00e-04 < p <= 1.00e-03\n",
      "****: p <= 1.00e-04\n",
      "\n",
      "203bp_ZF37. noCre v.s. 203bp_ZF37. Cre: t-test independent samples, P_val=8.794e-01 stat=1.550e-01\n",
      "loxP control_ZF37. noCre v.s. loxP control_ZF37. Cre: t-test independent samples, P_val=7.821e-01 stat=-2.893e-01\n"
     ]
    },
    {
     "data": {
      "image/png": "[encoded data removed]",
      "text/plain": [
       "<Figure size 432x288 with 1 Axes>"
      ]
     },
     "metadata": {
      "needs_background": "light"
     },
     "output_type": "display_data"
    },
    {
     "data": {
      "text/plain": [
       "<Figure size 432x288 with 0 Axes>"
      ]
     },
     "metadata": {},
     "output_type": "display_data"
    }
   ],
   "source": [
    "#Plot summary plot for the desired statistics\n",
    "\n",
    "#List of stats to plot \n",
    "stats_plot = pd.array( ['mGL-A_gmean', 'TagBFP-A_gmean', 'mCherry-A_gmean'])\n",
    "#set plotting parameters \n",
    "order_repts = pd.array( ['203bp', 'loxP control'])\n",
    "order = order_repts; palette = palette; hue_order = hue_order; x = 'Rept'; hue='cond'; yscale= 'log'\n",
    "ylim = [1e1, 1e6]\n",
    "\n",
    "#Only plot some reporters\n",
    "data_now = s_bioreplicate[s_bioreplicate['Rept'].isin(order_repts)]\n",
    "data_now = data_now[data_now['cond'].isin(hue_order)]\n",
    "#display(data_now)\n",
    "\n",
    "#Set p-value significance comparisons \n",
    "pairs_list  = {'mGL-A_gmean': [\n",
    "        [('203bp',  'noZF. noCre'), ('203bp', 'noZF. Cre')],  #compare no ZF -/+ Cre\n",
    "       [('203bp',  'noZF. noCre'), ('203bp', 'ZF43. noCre')], #compare ZF43 to noZF, +Cre\n",
    "       [('203bp',  'noZF. noCre'), ('203bp', 'ZF37. noCre')], #compare ZF37 to noZF, +Cre\n",
    "       [('203bp',  'ZF43. noCre'), ('203bp', 'ZF43. Cre')], # +ZF43, -/+ Cre\n",
    "       [('203bp',  'ZF37. noCre'), ('203bp', 'ZF37. Cre')], # +ZF37, -/+ Cre\n",
    "       [('203bp',  'ZF43. noCre'), ('203bp', 'ZF37. noCre')], #compare both ZF noCre\n",
    "       [('203bp',  'ZF43. Cre'), ('203bp', 'ZF37. Cre')], #compare both ZF Cre\n",
    "        [('loxP control',  'noZF. noCre'), ('203bp', 'noZF. Cre')],  #compare no ZF -/+ Cre\n",
    "       [('loxP control',  'noZF. noCre'), ('loxP control', 'ZF43. noCre')], #compare ZF43 to noZF, +Cre\n",
    "       [('loxP control',  'noZF. noCre'), ('loxP control', 'ZF37. noCre')], #compare ZF37 to noZF, +Cre\n",
    "       [('loxP control',  'ZF43. noCre'), ('loxP control', 'ZF43. Cre')], # +ZF43, -/+ Cre\n",
    "       [('loxP control',  'ZF37. noCre'), ('loxP control', 'ZF37. Cre')], # +ZF37, -/+ Cre\n",
    "       [('loxP control',  'ZF43. noCre'), ('loxP control', 'ZF37. noCre')], #compare both ZF noCre\n",
    "       [('loxP control',  'ZF43. Cre'), ('loxP control', 'ZF37. Cre')], #compare both ZF Cre\n",
    "\n",
    "        [('loxP control',  'ZF43. Cre'), ('203bp', 'ZF43. Cre')], # +ZF43, -/+ Cre\n",
    "       [('loxP control',  'ZF37. Cre'), ('203bp', 'ZF37. Cre')], # +ZF37, -/+ Cre\n",
    "                ],\n",
    "        'mCherry-A_gmean': [[('203bp',  'ZF37. noCre'), ('203bp', 'ZF37. Cre')],[('loxP control',  'ZF37. noCre'), ('loxP control', 'ZF37. Cre')] ], \n",
    "        'TagBFP-A_gmean': [[('203bp',  'ZF43. noCre'), ('203bp', 'ZF43. Cre')],[('loxP control',  'ZF43. noCre'), ('loxP control', 'ZF43. Cre')] ] \n",
    "}\n",
    "\n",
    "fontsize = 14\n",
    "for stat in stats_plot:\n",
    "    y = stat # set the stat to plot\n",
    "    pairs = pairs_list[stat]\n",
    "    plottitle = y + ' grouped bioreplicate'\n",
    "    g = summary_plot( x=x, y=y, hue=hue, data=data_now, pairs=pairs, yscale=yscale, ylim=ylim,\n",
    "                    x_rot=45, palette = palette, order=order, hue_order=hue_order, plottitle=plottitle, \n",
    "                    fontsize=fontsize, legend=False\n",
    "                    )\n",
    "    #g.figure.savefig(figure_folder + plottitle + '.svg',dpi=300,bbox_inches='tight')\n",
    "\n"
   ]
  },
  {
   "cell_type": "markdown",
   "metadata": {},
   "source": [
    "Summary Plot rearranged, points=Bioreplicates"
   ]
  },
  {
   "cell_type": "markdown",
   "metadata": {},
   "source": [
    "## Calculate summary stats again"
   ]
  },
  {
   "cell_type": "code",
   "execution_count": 66,
   "metadata": {},
   "outputs": [],
   "source": [
    "df = data_iRFP670gated #choose dataframe\n",
    "\n",
    "#Decide how to group. The last parameter will be the condition that it is group by by last ('well' or 'bioreplicate')\n",
    "by = ['Rept', 'ZF', 'Cre','cond','Rept.ZF.Cre','bioreplicate'] #how to filter results, columns \n",
    "\n",
    "\n",
    "x = ['mGL-A', 'TagBFP-A','mRuby2-A'] #which parameter to calculate results on\n",
    "stat = [sp.stats.gmean, np.median, np.std, np.mean] #statistics to calculate\n",
    "s_bioreplicate = calc_stats(df,by,x,stat) #calculate statistics \n",
    "#display(s_bioreplicate) #display results, use for troublshooting"
   ]
  },
  {
   "cell_type": "code",
   "execution_count": 67,
   "metadata": {},
   "outputs": [
    {
     "data": {
      "text/plain": [
       "array(['203bp.ZF43.Cre', '203bp.ZF43.noCre', '203bp.ZF37.Cre',\n",
       "       '203bp.ZF37.noCre', 'none.none.none', 'loxPrept.noZF.noCre',\n",
       "       'iRFPcontrol.noZF.noCre', 'loxPrept.noZF.Cre',\n",
       "       'loxP control.ZF43.Cre', 'loxP control.ZF43.noCre',\n",
       "       'loxP control.ZF37.Cre', 'loxP control.ZF37.noCre',\n",
       "       '79bp.ZF37.Cre', '79bp.noZF.noCre', '79bp.noZF.Cre',\n",
       "       '79bp.ZF37.noCre', '27bp.ZF37.Cre', '27bp.noZF.noCre',\n",
       "       '27bp.noZF.Cre', '27bp.ZF37.noCre', '203bp.noZF.noCre',\n",
       "       '203bp.noZF.Cre', 'loxP control.noZF.noCre',\n",
       "       'loxP control.noZF.Cre', '155bp.ZF37.Cre', '155bp.noZF.noCre',\n",
       "       '155bp.noZF.Cre', '155bp.ZF37.noCre', '263bp.ZF37.Cre',\n",
       "       '263bp.noZF.noCre', '263bp.noZF.Cre', '263bp.ZF37.noCre',\n",
       "       '27bp.ZF43.noCre', '27bp.ZF43.Cre', '79bp.ZF43.noCre',\n",
       "       '79bp.ZF43.Cre', '155bp.ZF43.noCre', '155bp.ZF43.Cre',\n",
       "       '263bp.ZF43.noCre', '263bp.ZF43.Cre', <NA>,\n",
       "       'iRFPcontrol.none.noZF.none.noCre.none', 'loxPcontrol.ZF43.Cre',\n",
       "       'loxPcontrol.noZF.noCre', 'loxPcontrol.noZF.Cre',\n",
       "       'loxPcontrol.ZF43.noCre'], dtype=object)"
      ]
     },
     "metadata": {},
     "output_type": "display_data"
    }
   ],
   "source": [
    "#Get the conds possible\n",
    "display( pd.unique( data_iRFP670gated['Rept.ZF.Cre']))"
   ]
  },
  {
   "cell_type": "markdown",
   "metadata": {},
   "source": [
    "## ZF37 and ZF43 203bp and loxP control together"
   ]
  },
  {
   "cell_type": "code",
   "execution_count": 72,
   "metadata": {},
   "outputs": [
    {
     "name": "stdout",
     "output_type": "stream",
     "text": [
      "p-value annotation legend:\n",
      "ns: 5.00e-02 < p <= 1.00e+00\n",
      "*: 1.00e-02 < p <= 5.00e-02\n",
      "**: 1.00e-03 < p <= 1.00e-02\n",
      "***: 1.00e-04 < p <= 1.00e-03\n",
      "****: p <= 1.00e-04\n",
      "\n",
      "203bp.noZF.Cre v.s. 203bp.ZF37.noCre: t-test independent samples, P_val=1.240e-03 stat=-4.447e+00\n",
      "203bp.ZF43.noCre v.s. 203bp.ZF43.Cre: t-test independent samples, P_val=5.125e-03 stat=-3.313e+00\n",
      "203bp.ZF37.noCre v.s. 203bp.ZF37.Cre: t-test independent samples, P_val=8.401e-04 stat=-4.230e+00\n",
      "203bp.noZF.noCre v.s. 203bp.ZF37.noCre: t-test independent samples, P_val=9.577e-04 stat=-4.615e+00\n",
      "203bp.noZF.Cre v.s. 203bp.ZF37.Cre: t-test independent samples, P_val=3.720e-03 stat=-3.760e+00\n",
      "203bp.ZF43.Cre v.s. loxP control.ZF43.Cre: t-test independent samples, P_val=3.817e-01 stat=-9.113e-01\n",
      "203bp.ZF37.Cre v.s. loxP control.ZF37.Cre: t-test independent samples, P_val=9.106e-01 stat=-1.148e-01\n",
      "203bp.noZF.Cre v.s. 203bp.ZF43.noCre: t-test independent samples, P_val=7.096e-03 stat=-3.372e+00\n",
      "203bp.noZF.noCre v.s. 203bp.ZF43.noCre: t-test independent samples, P_val=5.359e-03 stat=-3.540e+00\n",
      "203bp.noZF.Cre v.s. 203bp.ZF43.Cre: t-test independent samples, P_val=7.341e-03 stat=-3.352e+00\n"
     ]
    },
    {
     "data": {
      "image/png": "[encoded data removed]",
      "text/plain": [
       "<Figure size 360x180 with 1 Axes>"
      ]
     },
     "metadata": {
      "needs_background": "light"
     },
     "output_type": "display_data"
    },
    {
     "data": {
      "text/plain": [
       "<Figure size 432x288 with 0 Axes>"
      ]
     },
     "metadata": {},
     "output_type": "display_data"
    },
    {
     "data": {
      "image/png": "[encoded data removed]",
      "text/plain": [
       "<Figure size 360x180 with 1 Axes>"
      ]
     },
     "metadata": {
      "needs_background": "light"
     },
     "output_type": "display_data"
    },
    {
     "data": {
      "text/plain": [
       "<Figure size 432x288 with 0 Axes>"
      ]
     },
     "metadata": {},
     "output_type": "display_data"
    },
    {
     "data": {
      "image/png": "[encoded data removed]",
      "text/plain": [
       "<Figure size 360x180 with 1 Axes>"
      ]
     },
     "metadata": {
      "needs_background": "light"
     },
     "output_type": "display_data"
    },
    {
     "data": {
      "text/plain": [
       "<Figure size 432x288 with 0 Axes>"
      ]
     },
     "metadata": {},
     "output_type": "display_data"
    }
   ],
   "source": [
    "#Plot summary plot for the desired statistics\n",
    "\n",
    "#List of stats to plot \n",
    "stats_plot = pd.array( ['mGL-A_gmean', 'TagBFP-A_gmean', 'mRuby2-A_gmean'])\n",
    "#set plotting parameters and order -- make the order only the relevant parameters \n",
    "x = 'Rept.ZF.Cre'\n",
    "order_repts = {'203bp.noZF.noCre': 'grey', \n",
    "                         '203bp.noZF.Cre': 'black', \n",
    "                         '203bp.ZF37.noCre': 'darksalmon',                                                \n",
    "                         '203bp.ZF37.Cre': 'red',\n",
    "                        'loxP control.ZF37.noCre': 'darkred',\n",
    "                         'loxP control.ZF37.Cre': 'darkred',\n",
    "                         '203bp.ZF43.noCre': 'deepskyblue', \n",
    "                         '203bp.ZF43.Cre': 'blue',\n",
    "                        'loxP control.ZF43.noCre': 'navy',\n",
    "                         'loxP control.ZF43.Cre': 'navy'\n",
    "                         }\n",
    "palette = order_repts\n",
    "order = order_repts; \n",
    "hue_order = None;  hue=None; yscale= 'log'\n",
    "ylim = [1e1, 1e4]\n",
    "\n",
    "#Only plot some reporters\n",
    "data_now = s_bioreplicate[s_bioreplicate['Rept.ZF.Cre'].isin(order_repts)]\n",
    "#display(data_now)\n",
    "\n",
    "#Set p-value significance comparisons \n",
    "pairs = [\n",
    "       ['203bp.noZF.noCre', '203bp.ZF43.noCre'], #compare ZF43 to noZF, +Cre\n",
    "       ['203bp.noZF.noCre', '203bp.ZF37.noCre'], #compare ZF37 to noZF, +Cre\n",
    "        ['203bp.noZF.Cre', '203bp.ZF43.noCre'], #compare ZF43 to noZF, +Cre\n",
    "       ['203bp.noZF.Cre', '203bp.ZF37.noCre'], #compare ZF37 to noZF, +Cre\n",
    "        ['203bp.noZF.Cre', '203bp.ZF43.Cre'], #compare ZF43 to noZF, +Cre\n",
    "       ['203bp.noZF.Cre', '203bp.ZF37.Cre'], #compare ZF37 to noZF, +Cre\n",
    "       ['203bp.ZF43.noCre', '203bp.ZF43.Cre'], # +ZF43, -/+ Cre\n",
    "       ['loxP control.ZF43.Cre', '203bp.ZF43.Cre'], # +ZF43 + Cre, control+Cre\n",
    "       ['203bp.ZF37.noCre', '203bp.ZF37.Cre'], # +ZF37, -/+ Cre\n",
    "       ['loxP control.ZF37.Cre', '203bp.ZF37.Cre'] # +ZF37 + Cre, control+Cre\n",
    "       #[('203bp',  'ZF43. noCre'), ('203bp', 'ZF37. noCre')], #compare both ZF noCre\n",
    "       #[('203bp',  'ZF43. Cre'), ('203bp', 'ZF37. Cre')], #compare both ZF Cre\n",
    "]\n",
    "\n",
    "fontsize=15; xsize =5  ; ysize = 2.5\n",
    "\n",
    "for stat in stats_plot:\n",
    "   y = stat # set the stat to plot\n",
    "   plottitle = y + ' grouped biorep arrange2'\n",
    "   if stat == 'mGL-A_gmean': \n",
    "       pairs_now = pairs\n",
    "   elif stat :    \n",
    "       pairs_now = []\n",
    "   g = plt.figure(figsize=(xsize,ysize))\n",
    "   g = summary_plot( x=x, y=y, hue=hue, data=data_now, pairs=pairs_now, yscale=yscale, ylim=ylim,\n",
    "                    x_rot=45, palette = palette, order=order, hue_order=hue_order, plottitle=plottitle, fontsize=fontsize)\n",
    "   #g.figure.savefig(figure_folder + plottitle + '.svg',dpi=300,bbox_inches='tight')"
   ]
  },
  {
   "cell_type": "markdown",
   "metadata": {},
   "source": [
    "## plot noZF, ZF37, and ZF43 separately, 203 bp only"
   ]
  },
  {
   "cell_type": "code",
   "execution_count": 60,
   "metadata": {},
   "outputs": [
    {
     "data": {
      "text/html": [
       "<div>\n",
       "<style scoped>\n",
       "    .dataframe tbody tr th:only-of-type {\n",
       "        vertical-align: middle;\n",
       "    }\n",
       "\n",
       "    .dataframe tbody tr th {\n",
       "        vertical-align: top;\n",
       "    }\n",
       "\n",
       "    .dataframe thead th {\n",
       "        text-align: right;\n",
       "    }\n",
       "</style>\n",
       "<table border=\"1\" class=\"dataframe\">\n",
       "  <thead>\n",
       "    <tr style=\"text-align: right;\">\n",
       "      <th></th>\n",
       "      <th>Rept.ZF.Cre</th>\n",
       "      <th>mGL-A_gmean</th>\n",
       "      <th>TagBFP-A_gmean</th>\n",
       "      <th>mRuby2-A_gmean</th>\n",
       "    </tr>\n",
       "  </thead>\n",
       "  <tbody>\n",
       "    <tr>\n",
       "      <th>48</th>\n",
       "      <td>203bp.noZF.Cre</td>\n",
       "      <td>40.898705</td>\n",
       "      <td>34.670098</td>\n",
       "      <td>33.721047</td>\n",
       "    </tr>\n",
       "    <tr>\n",
       "      <th>49</th>\n",
       "      <td>203bp.noZF.Cre</td>\n",
       "      <td>40.403948</td>\n",
       "      <td>34.956638</td>\n",
       "      <td>34.138073</td>\n",
       "    </tr>\n",
       "    <tr>\n",
       "      <th>50</th>\n",
       "      <td>203bp.noZF.Cre</td>\n",
       "      <td>40.941210</td>\n",
       "      <td>34.898123</td>\n",
       "      <td>42.094760</td>\n",
       "    </tr>\n",
       "    <tr>\n",
       "      <th>51</th>\n",
       "      <td>203bp.noZF.Cre</td>\n",
       "      <td>43.648724</td>\n",
       "      <td>34.217064</td>\n",
       "      <td>40.692328</td>\n",
       "    </tr>\n",
       "    <tr>\n",
       "      <th>52</th>\n",
       "      <td>203bp.noZF.noCre</td>\n",
       "      <td>34.756488</td>\n",
       "      <td>34.582762</td>\n",
       "      <td>34.307352</td>\n",
       "    </tr>\n",
       "    <tr>\n",
       "      <th>53</th>\n",
       "      <td>203bp.noZF.noCre</td>\n",
       "      <td>36.683487</td>\n",
       "      <td>34.564540</td>\n",
       "      <td>35.674175</td>\n",
       "    </tr>\n",
       "    <tr>\n",
       "      <th>54</th>\n",
       "      <td>203bp.noZF.noCre</td>\n",
       "      <td>37.928524</td>\n",
       "      <td>33.474743</td>\n",
       "      <td>42.203764</td>\n",
       "    </tr>\n",
       "    <tr>\n",
       "      <th>55</th>\n",
       "      <td>203bp.noZF.noCre</td>\n",
       "      <td>38.073614</td>\n",
       "      <td>34.536169</td>\n",
       "      <td>39.670620</td>\n",
       "    </tr>\n",
       "  </tbody>\n",
       "</table>\n",
       "</div>"
      ],
      "text/plain": [
       "         Rept.ZF.Cre  mGL-A_gmean  TagBFP-A_gmean  mRuby2-A_gmean\n",
       "48    203bp.noZF.Cre    40.898705       34.670098       33.721047\n",
       "49    203bp.noZF.Cre    40.403948       34.956638       34.138073\n",
       "50    203bp.noZF.Cre    40.941210       34.898123       42.094760\n",
       "51    203bp.noZF.Cre    43.648724       34.217064       40.692328\n",
       "52  203bp.noZF.noCre    34.756488       34.582762       34.307352\n",
       "53  203bp.noZF.noCre    36.683487       34.564540       35.674175\n",
       "54  203bp.noZF.noCre    37.928524       33.474743       42.203764\n",
       "55  203bp.noZF.noCre    38.073614       34.536169       39.670620"
      ]
     },
     "metadata": {},
     "output_type": "display_data"
    },
    {
     "name": "stdout",
     "output_type": "stream",
     "text": [
      "p-value annotation legend:\n",
      "ns: 5.00e-02 < p <= 1.00e+00\n",
      "*: 1.00e-02 < p <= 5.00e-02\n",
      "**: 1.00e-03 < p <= 1.00e-02\n",
      "***: 1.00e-04 < p <= 1.00e-03\n",
      "****: p <= 1.00e-04\n",
      "\n",
      "203bp.noZF.noCre v.s. 203bp.noZF.Cre: t-test independent samples, P_val=4.879e-03 stat=-4.339e+00\n"
     ]
    },
    {
     "data": {
      "image/png": "[encoded data removed]",
      "text/plain": [
       "<Figure size 144x180 with 1 Axes>"
      ]
     },
     "metadata": {
      "needs_background": "light"
     },
     "output_type": "display_data"
    },
    {
     "name": "stdout",
     "output_type": "stream",
     "text": [
      "p-value annotation legend:\n",
      "ns: 5.00e-02 < p <= 1.00e+00\n",
      "*: 1.00e-02 < p <= 5.00e-02\n",
      "**: 1.00e-03 < p <= 1.00e-02\n",
      "***: 1.00e-04 < p <= 1.00e-03\n",
      "****: p <= 1.00e-04\n",
      "\n",
      "203bp.noZF.noCre v.s. 203bp.noZF.Cre: t-test independent samples, P_val=2.615e-01 stat=-1.239e+00\n"
     ]
    },
    {
     "data": {
      "text/plain": [
       "<Figure size 432x288 with 0 Axes>"
      ]
     },
     "metadata": {},
     "output_type": "display_data"
    },
    {
     "data": {
      "image/png": "[encoded data removed]",
      "text/plain": [
       "<Figure size 144x180 with 1 Axes>"
      ]
     },
     "metadata": {
      "needs_background": "light"
     },
     "output_type": "display_data"
    },
    {
     "name": "stdout",
     "output_type": "stream",
     "text": [
      "p-value annotation legend:\n",
      "ns: 5.00e-02 < p <= 1.00e+00\n",
      "*: 1.00e-02 < p <= 5.00e-02\n",
      "**: 1.00e-03 < p <= 1.00e-02\n",
      "***: 1.00e-04 < p <= 1.00e-03\n",
      "****: p <= 1.00e-04\n",
      "\n",
      "203bp.noZF.noCre v.s. 203bp.noZF.Cre: t-test independent samples, P_val=9.185e-01 stat=1.068e-01\n"
     ]
    },
    {
     "data": {
      "text/plain": [
       "<Figure size 432x288 with 0 Axes>"
      ]
     },
     "metadata": {},
     "output_type": "display_data"
    },
    {
     "data": {
      "image/png": "[encoded data removed]",
      "text/plain": [
       "<Figure size 144x180 with 1 Axes>"
      ]
     },
     "metadata": {
      "needs_background": "light"
     },
     "output_type": "display_data"
    },
    {
     "data": {
      "text/html": [
       "<div>\n",
       "<style scoped>\n",
       "    .dataframe tbody tr th:only-of-type {\n",
       "        vertical-align: middle;\n",
       "    }\n",
       "\n",
       "    .dataframe tbody tr th {\n",
       "        vertical-align: top;\n",
       "    }\n",
       "\n",
       "    .dataframe thead th {\n",
       "        text-align: right;\n",
       "    }\n",
       "</style>\n",
       "<table border=\"1\" class=\"dataframe\">\n",
       "  <thead>\n",
       "    <tr style=\"text-align: right;\">\n",
       "      <th></th>\n",
       "      <th>Rept.ZF.Cre</th>\n",
       "      <th>mGL-A_gmean</th>\n",
       "      <th>TagBFP-A_gmean</th>\n",
       "      <th>mRuby2-A_gmean</th>\n",
       "    </tr>\n",
       "  </thead>\n",
       "  <tbody>\n",
       "    <tr>\n",
       "      <th>16</th>\n",
       "      <td>203bp.ZF37.Cre</td>\n",
       "      <td>1124.515540</td>\n",
       "      <td>34.403846</td>\n",
       "      <td>303.830912</td>\n",
       "    </tr>\n",
       "    <tr>\n",
       "      <th>17</th>\n",
       "      <td>203bp.ZF37.Cre</td>\n",
       "      <td>638.342269</td>\n",
       "      <td>33.330665</td>\n",
       "      <td>228.727175</td>\n",
       "    </tr>\n",
       "    <tr>\n",
       "      <th>18</th>\n",
       "      <td>203bp.ZF37.Cre</td>\n",
       "      <td>661.381461</td>\n",
       "      <td>34.407441</td>\n",
       "      <td>199.042177</td>\n",
       "    </tr>\n",
       "    <tr>\n",
       "      <th>19</th>\n",
       "      <td>203bp.ZF37.Cre</td>\n",
       "      <td>570.033640</td>\n",
       "      <td>33.529177</td>\n",
       "      <td>485.822788</td>\n",
       "    </tr>\n",
       "    <tr>\n",
       "      <th>20</th>\n",
       "      <td>203bp.ZF37.Cre</td>\n",
       "      <td>332.085680</td>\n",
       "      <td>32.837646</td>\n",
       "      <td>626.365713</td>\n",
       "    </tr>\n",
       "    <tr>\n",
       "      <th>21</th>\n",
       "      <td>203bp.ZF37.Cre</td>\n",
       "      <td>357.281398</td>\n",
       "      <td>33.203780</td>\n",
       "      <td>944.447692</td>\n",
       "    </tr>\n",
       "    <tr>\n",
       "      <th>22</th>\n",
       "      <td>203bp.ZF37.Cre</td>\n",
       "      <td>305.706522</td>\n",
       "      <td>34.362209</td>\n",
       "      <td>217.112097</td>\n",
       "    </tr>\n",
       "    <tr>\n",
       "      <th>23</th>\n",
       "      <td>203bp.ZF37.Cre</td>\n",
       "      <td>967.040213</td>\n",
       "      <td>31.504155</td>\n",
       "      <td>278.143828</td>\n",
       "    </tr>\n",
       "    <tr>\n",
       "      <th>24</th>\n",
       "      <td>203bp.ZF37.noCre</td>\n",
       "      <td>250.054821</td>\n",
       "      <td>40.193843</td>\n",
       "      <td>322.971745</td>\n",
       "    </tr>\n",
       "    <tr>\n",
       "      <th>25</th>\n",
       "      <td>203bp.ZF37.noCre</td>\n",
       "      <td>161.805593</td>\n",
       "      <td>33.588095</td>\n",
       "      <td>227.174236</td>\n",
       "    </tr>\n",
       "    <tr>\n",
       "      <th>26</th>\n",
       "      <td>203bp.ZF37.noCre</td>\n",
       "      <td>184.320827</td>\n",
       "      <td>35.989144</td>\n",
       "      <td>168.520308</td>\n",
       "    </tr>\n",
       "    <tr>\n",
       "      <th>27</th>\n",
       "      <td>203bp.ZF37.noCre</td>\n",
       "      <td>173.468313</td>\n",
       "      <td>33.371783</td>\n",
       "      <td>674.917490</td>\n",
       "    </tr>\n",
       "    <tr>\n",
       "      <th>28</th>\n",
       "      <td>203bp.ZF37.noCre</td>\n",
       "      <td>90.567085</td>\n",
       "      <td>33.426589</td>\n",
       "      <td>403.528533</td>\n",
       "    </tr>\n",
       "    <tr>\n",
       "      <th>29</th>\n",
       "      <td>203bp.ZF37.noCre</td>\n",
       "      <td>121.478937</td>\n",
       "      <td>34.379071</td>\n",
       "      <td>843.072584</td>\n",
       "    </tr>\n",
       "    <tr>\n",
       "      <th>30</th>\n",
       "      <td>203bp.ZF37.noCre</td>\n",
       "      <td>113.838176</td>\n",
       "      <td>34.994806</td>\n",
       "      <td>238.491631</td>\n",
       "    </tr>\n",
       "    <tr>\n",
       "      <th>31</th>\n",
       "      <td>203bp.ZF37.noCre</td>\n",
       "      <td>214.062611</td>\n",
       "      <td>33.527755</td>\n",
       "      <td>333.591112</td>\n",
       "    </tr>\n",
       "  </tbody>\n",
       "</table>\n",
       "</div>"
      ],
      "text/plain": [
       "         Rept.ZF.Cre  mGL-A_gmean  TagBFP-A_gmean  mRuby2-A_gmean\n",
       "16    203bp.ZF37.Cre  1124.515540       34.403846      303.830912\n",
       "17    203bp.ZF37.Cre   638.342269       33.330665      228.727175\n",
       "18    203bp.ZF37.Cre   661.381461       34.407441      199.042177\n",
       "19    203bp.ZF37.Cre   570.033640       33.529177      485.822788\n",
       "20    203bp.ZF37.Cre   332.085680       32.837646      626.365713\n",
       "21    203bp.ZF37.Cre   357.281398       33.203780      944.447692\n",
       "22    203bp.ZF37.Cre   305.706522       34.362209      217.112097\n",
       "23    203bp.ZF37.Cre   967.040213       31.504155      278.143828\n",
       "24  203bp.ZF37.noCre   250.054821       40.193843      322.971745\n",
       "25  203bp.ZF37.noCre   161.805593       33.588095      227.174236\n",
       "26  203bp.ZF37.noCre   184.320827       35.989144      168.520308\n",
       "27  203bp.ZF37.noCre   173.468313       33.371783      674.917490\n",
       "28  203bp.ZF37.noCre    90.567085       33.426589      403.528533\n",
       "29  203bp.ZF37.noCre   121.478937       34.379071      843.072584\n",
       "30  203bp.ZF37.noCre   113.838176       34.994806      238.491631\n",
       "31  203bp.ZF37.noCre   214.062611       33.527755      333.591112"
      ]
     },
     "metadata": {},
     "output_type": "display_data"
    },
    {
     "name": "stdout",
     "output_type": "stream",
     "text": [
      "p-value annotation legend:\n",
      "ns: 5.00e-02 < p <= 1.00e+00\n",
      "*: 1.00e-02 < p <= 5.00e-02\n",
      "**: 1.00e-03 < p <= 1.00e-02\n",
      "***: 1.00e-04 < p <= 1.00e-03\n",
      "****: p <= 1.00e-04\n",
      "\n",
      "203bp.ZF37.noCre v.s. 203bp.ZF37.Cre: t-test independent samples, P_val=8.401e-04 stat=-4.230e+00\n"
     ]
    },
    {
     "data": {
      "text/plain": [
       "<Figure size 432x288 with 0 Axes>"
      ]
     },
     "metadata": {},
     "output_type": "display_data"
    },
    {
     "data": {
      "image/png": "[encoded data removed]",
      "text/plain": [
       "<Figure size 144x180 with 1 Axes>"
      ]
     },
     "metadata": {
      "needs_background": "light"
     },
     "output_type": "display_data"
    },
    {
     "name": "stdout",
     "output_type": "stream",
     "text": [
      "p-value annotation legend:\n",
      "ns: 5.00e-02 < p <= 1.00e+00\n",
      "*: 1.00e-02 < p <= 5.00e-02\n",
      "**: 1.00e-03 < p <= 1.00e-02\n",
      "***: 1.00e-04 < p <= 1.00e-03\n",
      "****: p <= 1.00e-04\n",
      "\n",
      "203bp.ZF37.noCre v.s. 203bp.ZF37.Cre: t-test independent samples, P_val=1.176e-01 stat=1.668e+00\n"
     ]
    },
    {
     "data": {
      "text/plain": [
       "<Figure size 432x288 with 0 Axes>"
      ]
     },
     "metadata": {},
     "output_type": "display_data"
    },
    {
     "data": {
      "image/png": "[encoded data removed]",
      "text/plain": [
       "<Figure size 144x180 with 1 Axes>"
      ]
     },
     "metadata": {
      "needs_background": "light"
     },
     "output_type": "display_data"
    },
    {
     "name": "stdout",
     "output_type": "stream",
     "text": [
      "p-value annotation legend:\n",
      "ns: 5.00e-02 < p <= 1.00e+00\n",
      "*: 1.00e-02 < p <= 5.00e-02\n",
      "**: 1.00e-03 < p <= 1.00e-02\n",
      "***: 1.00e-04 < p <= 1.00e-03\n",
      "****: p <= 1.00e-04\n",
      "\n",
      "203bp.ZF37.noCre v.s. 203bp.ZF37.Cre: t-test independent samples, P_val=9.442e-01 stat=-7.130e-02\n"
     ]
    },
    {
     "data": {
      "text/plain": [
       "<Figure size 432x288 with 0 Axes>"
      ]
     },
     "metadata": {},
     "output_type": "display_data"
    },
    {
     "data": {
      "image/png": "[encoded data removed]",
      "text/plain": [
       "<Figure size 144x180 with 1 Axes>"
      ]
     },
     "metadata": {
      "needs_background": "light"
     },
     "output_type": "display_data"
    },
    {
     "data": {
      "text/html": [
       "<div>\n",
       "<style scoped>\n",
       "    .dataframe tbody tr th:only-of-type {\n",
       "        vertical-align: middle;\n",
       "    }\n",
       "\n",
       "    .dataframe tbody tr th {\n",
       "        vertical-align: top;\n",
       "    }\n",
       "\n",
       "    .dataframe thead th {\n",
       "        text-align: right;\n",
       "    }\n",
       "</style>\n",
       "<table border=\"1\" class=\"dataframe\">\n",
       "  <thead>\n",
       "    <tr style=\"text-align: right;\">\n",
       "      <th></th>\n",
       "      <th>Rept.ZF.Cre</th>\n",
       "      <th>mGL-A_gmean</th>\n",
       "      <th>TagBFP-A_gmean</th>\n",
       "      <th>mRuby2-A_gmean</th>\n",
       "    </tr>\n",
       "  </thead>\n",
       "  <tbody>\n",
       "    <tr>\n",
       "      <th>32</th>\n",
       "      <td>203bp.ZF43.Cre</td>\n",
       "      <td>762.585680</td>\n",
       "      <td>517.937264</td>\n",
       "      <td>40.578349</td>\n",
       "    </tr>\n",
       "    <tr>\n",
       "      <th>33</th>\n",
       "      <td>203bp.ZF43.Cre</td>\n",
       "      <td>414.066911</td>\n",
       "      <td>462.780391</td>\n",
       "      <td>38.085788</td>\n",
       "    </tr>\n",
       "    <tr>\n",
       "      <th>34</th>\n",
       "      <td>203bp.ZF43.Cre</td>\n",
       "      <td>311.979072</td>\n",
       "      <td>298.268112</td>\n",
       "      <td>34.253983</td>\n",
       "    </tr>\n",
       "    <tr>\n",
       "      <th>35</th>\n",
       "      <td>203bp.ZF43.Cre</td>\n",
       "      <td>246.085217</td>\n",
       "      <td>171.203013</td>\n",
       "      <td>35.175603</td>\n",
       "    </tr>\n",
       "    <tr>\n",
       "      <th>36</th>\n",
       "      <td>203bp.ZF43.Cre</td>\n",
       "      <td>193.535709</td>\n",
       "      <td>818.636747</td>\n",
       "      <td>35.941965</td>\n",
       "    </tr>\n",
       "    <tr>\n",
       "      <th>37</th>\n",
       "      <td>203bp.ZF43.Cre</td>\n",
       "      <td>226.320390</td>\n",
       "      <td>1497.284877</td>\n",
       "      <td>36.137364</td>\n",
       "    </tr>\n",
       "    <tr>\n",
       "      <th>38</th>\n",
       "      <td>203bp.ZF43.Cre</td>\n",
       "      <td>460.009233</td>\n",
       "      <td>291.581679</td>\n",
       "      <td>39.058024</td>\n",
       "    </tr>\n",
       "    <tr>\n",
       "      <th>39</th>\n",
       "      <td>203bp.ZF43.Cre</td>\n",
       "      <td>276.281780</td>\n",
       "      <td>883.916254</td>\n",
       "      <td>39.067389</td>\n",
       "    </tr>\n",
       "    <tr>\n",
       "      <th>40</th>\n",
       "      <td>203bp.ZF43.noCre</td>\n",
       "      <td>224.669494</td>\n",
       "      <td>591.725648</td>\n",
       "      <td>40.620912</td>\n",
       "    </tr>\n",
       "    <tr>\n",
       "      <th>41</th>\n",
       "      <td>203bp.ZF43.noCre</td>\n",
       "      <td>152.605774</td>\n",
       "      <td>525.172639</td>\n",
       "      <td>38.255089</td>\n",
       "    </tr>\n",
       "    <tr>\n",
       "      <th>42</th>\n",
       "      <td>203bp.ZF43.noCre</td>\n",
       "      <td>127.577336</td>\n",
       "      <td>303.969745</td>\n",
       "      <td>34.053096</td>\n",
       "    </tr>\n",
       "    <tr>\n",
       "      <th>43</th>\n",
       "      <td>203bp.ZF43.noCre</td>\n",
       "      <td>74.581292</td>\n",
       "      <td>128.351481</td>\n",
       "      <td>34.782026</td>\n",
       "    </tr>\n",
       "    <tr>\n",
       "      <th>44</th>\n",
       "      <td>203bp.ZF43.noCre</td>\n",
       "      <td>70.077200</td>\n",
       "      <td>463.965680</td>\n",
       "      <td>34.231197</td>\n",
       "    </tr>\n",
       "    <tr>\n",
       "      <th>45</th>\n",
       "      <td>203bp.ZF43.noCre</td>\n",
       "      <td>100.400087</td>\n",
       "      <td>1122.945018</td>\n",
       "      <td>35.622813</td>\n",
       "    </tr>\n",
       "    <tr>\n",
       "      <th>46</th>\n",
       "      <td>203bp.ZF43.noCre</td>\n",
       "      <td>187.164983</td>\n",
       "      <td>440.831938</td>\n",
       "      <td>39.177900</td>\n",
       "    </tr>\n",
       "    <tr>\n",
       "      <th>47</th>\n",
       "      <td>203bp.ZF43.noCre</td>\n",
       "      <td>137.125332</td>\n",
       "      <td>1363.828806</td>\n",
       "      <td>39.302805</td>\n",
       "    </tr>\n",
       "  </tbody>\n",
       "</table>\n",
       "</div>"
      ],
      "text/plain": [
       "         Rept.ZF.Cre  mGL-A_gmean  TagBFP-A_gmean  mRuby2-A_gmean\n",
       "32    203bp.ZF43.Cre   762.585680      517.937264       40.578349\n",
       "33    203bp.ZF43.Cre   414.066911      462.780391       38.085788\n",
       "34    203bp.ZF43.Cre   311.979072      298.268112       34.253983\n",
       "35    203bp.ZF43.Cre   246.085217      171.203013       35.175603\n",
       "36    203bp.ZF43.Cre   193.535709      818.636747       35.941965\n",
       "37    203bp.ZF43.Cre   226.320390     1497.284877       36.137364\n",
       "38    203bp.ZF43.Cre   460.009233      291.581679       39.058024\n",
       "39    203bp.ZF43.Cre   276.281780      883.916254       39.067389\n",
       "40  203bp.ZF43.noCre   224.669494      591.725648       40.620912\n",
       "41  203bp.ZF43.noCre   152.605774      525.172639       38.255089\n",
       "42  203bp.ZF43.noCre   127.577336      303.969745       34.053096\n",
       "43  203bp.ZF43.noCre    74.581292      128.351481       34.782026\n",
       "44  203bp.ZF43.noCre    70.077200      463.965680       34.231197\n",
       "45  203bp.ZF43.noCre   100.400087     1122.945018       35.622813\n",
       "46  203bp.ZF43.noCre   187.164983      440.831938       39.177900\n",
       "47  203bp.ZF43.noCre   137.125332     1363.828806       39.302805"
      ]
     },
     "metadata": {},
     "output_type": "display_data"
    },
    {
     "name": "stdout",
     "output_type": "stream",
     "text": [
      "p-value annotation legend:\n",
      "ns: 5.00e-02 < p <= 1.00e+00\n",
      "*: 1.00e-02 < p <= 5.00e-02\n",
      "**: 1.00e-03 < p <= 1.00e-02\n",
      "***: 1.00e-04 < p <= 1.00e-03\n",
      "****: p <= 1.00e-04\n",
      "\n",
      "203bp.ZF43.noCre v.s. 203bp.ZF43.Cre: t-test independent samples, P_val=5.125e-03 stat=-3.313e+00\n"
     ]
    },
    {
     "data": {
      "text/plain": [
       "<Figure size 432x288 with 0 Axes>"
      ]
     },
     "metadata": {},
     "output_type": "display_data"
    },
    {
     "data": {
      "image/png": "[encoded data removed]",
      "text/plain": [
       "<Figure size 144x180 with 1 Axes>"
      ]
     },
     "metadata": {
      "needs_background": "light"
     },
     "output_type": "display_data"
    },
    {
     "name": "stdout",
     "output_type": "stream",
     "text": [
      "p-value annotation legend:\n",
      "ns: 5.00e-02 < p <= 1.00e+00\n",
      "*: 1.00e-02 < p <= 5.00e-02\n",
      "**: 1.00e-03 < p <= 1.00e-02\n",
      "***: 1.00e-04 < p <= 1.00e-03\n",
      "****: p <= 1.00e-04\n",
      "\n",
      "203bp.ZF43.noCre v.s. 203bp.ZF43.Cre: t-test independent samples, P_val=9.996e-01 stat=-4.797e-04\n"
     ]
    },
    {
     "data": {
      "text/plain": [
       "<Figure size 432x288 with 0 Axes>"
      ]
     },
     "metadata": {},
     "output_type": "display_data"
    },
    {
     "data": {
      "image/png": "[encoded data removed]",
      "text/plain": [
       "<Figure size 144x180 with 1 Axes>"
      ]
     },
     "metadata": {
      "needs_background": "light"
     },
     "output_type": "display_data"
    },
    {
     "name": "stdout",
     "output_type": "stream",
     "text": [
      "p-value annotation legend:\n",
      "ns: 5.00e-02 < p <= 1.00e+00\n",
      "*: 1.00e-02 < p <= 5.00e-02\n",
      "**: 1.00e-03 < p <= 1.00e-02\n",
      "***: 1.00e-04 < p <= 1.00e-03\n",
      "****: p <= 1.00e-04\n",
      "\n",
      "203bp.ZF43.noCre v.s. 203bp.ZF43.Cre: t-test independent samples, P_val=8.199e-01 stat=-2.320e-01\n"
     ]
    },
    {
     "data": {
      "text/plain": [
       "<Figure size 432x288 with 0 Axes>"
      ]
     },
     "metadata": {},
     "output_type": "display_data"
    },
    {
     "data": {
      "image/png": "[encoded data removed]",
      "text/plain": [
       "<Figure size 144x180 with 1 Axes>"
      ]
     },
     "metadata": {
      "needs_background": "light"
     },
     "output_type": "display_data"
    },
    {
     "data": {
      "text/plain": [
       "<Figure size 432x288 with 0 Axes>"
      ]
     },
     "metadata": {},
     "output_type": "display_data"
    }
   ],
   "source": [
    "#Plot summary plot for the desired statistics\n",
    "pairs =[]\n",
    "\n",
    "\n",
    "#List of stats to plot \n",
    "stats_plot = pd.array( ['mGL-A_gmean','TagBFP-A_gmean', 'mRuby2-A_gmean'])\n",
    "#set plotting parameters and order -- make the order only the relevant parameters \n",
    "x = 'Rept.ZF.Cre'\n",
    "order_repts = {'203bp.noZF.noCre': 'grey', \n",
    "                         '203bp.noZF.Cre': 'black'\n",
    "                         }\n",
    "palette = order_repts\n",
    "order = order_repts; \n",
    "hue_order = None;  hue=None; yscale= 'log'\n",
    "ylim = [1e1, 1e5]\n",
    "\n",
    "#Only plot some reporters\n",
    "data_now = s_bioreplicate[s_bioreplicate['Rept.ZF.Cre'].isin(order_repts)]\n",
    "#display(data_now)\n",
    "display(data_now[['Rept.ZF.Cre','mGL-A_gmean','TagBFP-A_gmean', 'mRuby2-A_gmean']])\n",
    "#Set p-value significance comparisons \n",
    "pairs = [\n",
    "       ['203bp.noZF.noCre', '203bp.noZF.Cre']\n",
    "]\n",
    "\n",
    "fontsize=15; xsize =2  ; ysize = 2.5\n",
    "markers=pd.array(['o','o'])\n",
    "for stat in stats_plot:\n",
    "       y = stat # set the stat to plot\n",
    "       plottitle = y + ' noZF Cre'\n",
    "       g = plt.figure(figsize=(xsize,ysize))\n",
    "       g = summary_plot( x=x, y=y, hue=hue, data=data_now, pairs=pairs, yscale=yscale, ylim=[1e1, 1e3], markers=markers, \n",
    "                     x_rot=45, palette = palette, order=order, hue_order=hue_order, plottitle='', fontsize=fontsize)\n",
    "       g.figure.savefig(figure_folder + plottitle + '.svg',dpi=300,bbox_inches='tight')\n",
    "\n",
    "order_repts = {'203bp.ZF37.noCre': 'grey', \n",
    "                         '203bp.ZF37.Cre': 'black'\n",
    "                         }\n",
    "palette = order_repts\n",
    "order = order_repts; \n",
    "hue_order = None;  hue=None; yscale= 'log'\n",
    "ylim = [1e1, 1e5]\n",
    "\n",
    "#Only plot some reporters\n",
    "data_now = s_bioreplicate[s_bioreplicate['Rept.ZF.Cre'].isin(order_repts)]\n",
    "display(data_now[['Rept.ZF.Cre','mGL-A_gmean','TagBFP-A_gmean', 'mRuby2-A_gmean']])\n",
    "\n",
    "#Set p-value significance comparisons \n",
    "pairs = [\n",
    "       ['203bp.ZF37.noCre', '203bp.ZF37.Cre']\n",
    "]\n",
    "\n",
    "for stat in stats_plot:\n",
    "       y = stat # set the stat to plot\n",
    "       plottitle = y + ' ZF37 Cre'\n",
    "       g = plt.figure(figsize=(xsize,ysize))\n",
    "       g = summary_plot( x=x, y=y, hue=hue, data=data_now, pairs=pairs, yscale=yscale, ylim=ylim, markers=markers, \n",
    "                     x_rot=45, palette = palette, order=order, hue_order=hue_order, plottitle='', fontsize=fontsize)\n",
    "       g.figure.savefig(figure_folder + plottitle + '.svg',dpi=300,bbox_inches='tight')\n",
    "\n",
    "order_repts = {'203bp.ZF43.noCre': 'grey', \n",
    "                         '203bp.ZF43.Cre': 'black'\n",
    "                         }\n",
    "palette = order_repts\n",
    "order = order_repts; \n",
    "hue_order = None;  hue=None; yscale= 'log'\n",
    "ylim = [1e1, 1e5]\n",
    "\n",
    "#Only plot some reporters\n",
    "data_now = s_bioreplicate[s_bioreplicate['Rept.ZF.Cre'].isin(order_repts)]\n",
    "display(data_now[['Rept.ZF.Cre','mGL-A_gmean','TagBFP-A_gmean', 'mRuby2-A_gmean']])\n",
    "\n",
    "#Set p-value significance comparisons \n",
    "pairs = [\n",
    "       ['203bp.ZF43.noCre', '203bp.ZF43.Cre']\n",
    "]\n",
    "\n",
    "for stat in stats_plot:\n",
    "       y = stat # set the stat to plot\n",
    "       plottitle = y + ' ZF43 Cre'\n",
    "       g = plt.figure(figsize=(xsize,ysize))\n",
    "       g = summary_plot( x=x, y=y, hue=hue, data=data_now, pairs=pairs, yscale=yscale, ylim=ylim, markers=markers, \n",
    "                     x_rot=45, palette = palette, order=order, hue_order=hue_order, plottitle='', fontsize=fontsize)\n",
    "       g.figure.savefig(figure_folder + plottitle + '.svg',dpi=300,bbox_inches='tight')\n"
   ]
  },
  {
   "cell_type": "code",
   "execution_count": null,
   "metadata": {},
   "outputs": [],
   "source": []
  },
  {
   "cell_type": "markdown",
   "metadata": {},
   "source": [
    "## S3, S1 Only with matching bioreps\n",
    "n=4 ZF37\n",
    "n=3 ZF43"
   ]
  },
  {
   "cell_type": "code",
   "execution_count": null,
   "metadata": {},
   "outputs": [],
   "source": [
    "#already calculated above \n",
    "\n",
    "# # Conditions where within ZF37 and ZF43, 203bp and loxPcontrol have matching bioreplicates\n",
    "# bioreps_ZF37 = pd.array( ['data37_loxPcon','data3743_loxPcon','20240304flow_exp20240301_p2_BioB','20240120flow_exp20240117_p1'])\n",
    "# s_ZF37 = s_bioreplicate[ (s_bioreplicate['ZF']=='ZF37')& (s_bioreplicate['bioreplicate'].isin(bioreps_ZF37))]\n",
    "# bioreps_ZF43 = pd.array( ['data3743_loxPcon','20240304flow_exp20240301_p2_BioB','20240205flow_exp20240202_combined'])\n",
    "# s_ZF43 = s_bioreplicate[ (s_bioreplicate['ZF']=='ZF43')& (s_bioreplicate['bioreplicate'].isin(bioreps_ZF43))]\n",
    "\n",
    "# s_now = pd.concat([s_ZF37,s_ZF43],ignore_index=True)\n",
    "# s_matching_bioreps = s_now\n",
    "# data_now = s_now[s_now['Rept.ZF.Cre'].isin(order_repts)]\n",
    "# #display(data_now)\n",
    "\n",
    "# by = ['Rept','Rept.ZF.Cre'] #how to filter results, columns \n",
    "# x = ['mGL-A_gmean', 'TagBFP-A_gmean','mCherry-A_gmean'] #which parameter to calculate results on\n",
    "# stat = [np.std, np.mean] #statistics to calculate\n",
    "# s_bioreplicate_means = calc_stats(data_now,by,x,stat)\n",
    "# display(s_bioreplicate_means[s_bioreplicate_means['Rept'].isin(['203bp','loxP control'])])"
   ]
  },
  {
   "cell_type": "markdown",
   "metadata": {},
   "source": [
    "## S1 Plot 203 bp and loxP control with ZF37 and ZF43 (plot for S1 S3)"
   ]
  },
  {
   "cell_type": "code",
   "execution_count": 61,
   "metadata": {},
   "outputs": [
    {
     "name": "stdout",
     "output_type": "stream",
     "text": [
      "p-value annotation legend:\n",
      "ns: 5.00e-02 < p <= 1.00e+00\n",
      "*: 1.00e-02 < p <= 5.00e-02\n",
      "**: 1.00e-03 < p <= 1.00e-02\n",
      "***: 1.00e-04 < p <= 1.00e-03\n",
      "****: p <= 1.00e-04\n",
      "\n",
      "203bp.ZF37.noCre v.s. 203bp.ZF37.Cre: t-test independent samples, P_val=8.401e-04 stat=-4.230e+00\n",
      "203bp.ZF43.noCre v.s. 203bp.ZF43.Cre: t-test independent samples, P_val=5.125e-03 stat=-3.313e+00\n",
      "loxP control.ZF37.noCre v.s. loxP control.ZF37.Cre: t-test independent samples, P_val=3.107e-01 stat=1.082e+00\n",
      "loxP control.ZF43.noCre v.s. loxP control.ZF43.Cre: t-test independent samples, P_val=4.966e-01 stat=7.122e-01\n",
      "203bp.ZF37.Cre v.s. loxP control.ZF37.Cre: t-test independent samples, P_val=9.106e-01 stat=-1.148e-01\n",
      "203bp.ZF43.Cre v.s. loxP control.ZF43.Cre: t-test independent samples, P_val=3.817e-01 stat=-9.113e-01\n"
     ]
    },
    {
     "data": {
      "image/png": "[encoded data removed]",
      "text/plain": [
       "<Figure size 360x180 with 1 Axes>"
      ]
     },
     "metadata": {
      "needs_background": "light"
     },
     "output_type": "display_data"
    },
    {
     "name": "stdout",
     "output_type": "stream",
     "text": [
      "p-value annotation legend:\n",
      "ns: 5.00e-02 < p <= 1.00e+00\n",
      "*: 1.00e-02 < p <= 5.00e-02\n",
      "**: 1.00e-03 < p <= 1.00e-02\n",
      "***: 1.00e-04 < p <= 1.00e-03\n",
      "****: p <= 1.00e-04\n",
      "\n",
      "203bp.ZF37.noCre v.s. 203bp.ZF37.Cre: t-test independent samples, P_val=1.537e-02 stat=-3.353e+00\n",
      "203bp.ZF43.noCre v.s. 203bp.ZF43.Cre: t-test independent samples, P_val=1.462e-03 stat=-7.793e+00\n",
      "loxP control.ZF37.noCre v.s. loxP control.ZF37.Cre: t-test independent samples, P_val=4.453e-01 stat=8.167e-01\n",
      "loxP control.ZF43.noCre v.s. loxP control.ZF43.Cre: t-test independent samples, P_val=6.355e-01 stat=5.122e-01\n",
      "203bp.ZF37.Cre v.s. loxP control.ZF37.Cre: t-test independent samples, P_val=4.252e-01 stat=-8.554e-01\n",
      "203bp.ZF43.Cre v.s. loxP control.ZF43.Cre: t-test independent samples, P_val=6.813e-01 stat=-4.420e-01\n"
     ]
    },
    {
     "data": {
      "text/plain": [
       "<Figure size 432x288 with 0 Axes>"
      ]
     },
     "metadata": {},
     "output_type": "display_data"
    },
    {
     "data": {
      "image/png": "[encoded data removed]",
      "text/plain": [
       "<Figure size 360x180 with 1 Axes>"
      ]
     },
     "metadata": {
      "needs_background": "light"
     },
     "output_type": "display_data"
    },
    {
     "data": {
      "text/plain": [
       "<Figure size 432x288 with 0 Axes>"
      ]
     },
     "metadata": {},
     "output_type": "display_data"
    }
   ],
   "source": [
    "#Plot summary plot for the desired statistics\n",
    "\n",
    "#List of stats to plot \n",
    "stats_plot = pd.array( ['mGL-A_gmean'])\n",
    "#set plotting parameters and order -- make the order only the relevant parameters \n",
    "x = 'Rept.ZF.Cre'\n",
    "order_repts = {\n",
    "                '203bp.ZF37.noCre': '#87C027',                                    \n",
    "                '203bp.ZF37.Cre': '#206002',\n",
    "                'loxP control.ZF37.noCre': '#87C027',  \n",
    "                'loxP control.ZF37.Cre': '#206002',    \n",
    "                '203bp.ZF43.noCre': '#87C027',                                    \n",
    "                '203bp.ZF43.Cre': '#206002',\n",
    "                'loxP control.ZF43.noCre': '#87C027',  \n",
    "                'loxP control.ZF43.Cre': '#206002',    \n",
    "                         }\n",
    "palette = order_repts\n",
    "order = order_repts; \n",
    "hue_order = None;  hue=None; yscale= 'log'\n",
    "ylim = [4e1,8e3]\n",
    "\n",
    "markers = pd.array(['o','o','o','o'])\n",
    "\n",
    "#Only plot some reporters\n",
    "data_now = s_bioreplicate[s_bioreplicate['Rept.ZF.Cre'].isin(order_repts)]\n",
    "#data_now = s_figure_S3[s_figure_S3['Rept.ZF.Cre'].isin(order_repts)]\n",
    "#display(data_now)\n",
    "\n",
    "#Set p-value significance comparisons \n",
    "pairs = [\n",
    "        ['203bp.ZF37.noCre', '203bp.ZF37.Cre'],\n",
    "        ['203bp.ZF43.noCre', '203bp.ZF43.Cre'],\n",
    "        ['203bp.ZF37.Cre', 'loxP control.ZF37.Cre'],\n",
    "        ['203bp.ZF43.Cre', 'loxP control.ZF43.Cre'],\n",
    "        ['loxP control.ZF37.noCre', 'loxP control.ZF37.Cre'],\n",
    "        ['loxP control.ZF43.noCre', 'loxP control.ZF43.Cre'],\n",
    "]\n",
    "\n",
    "fontsize=15; xsize =5 ; ysize = 2.5\n",
    "\n",
    "for stat in stats_plot:\n",
    "   y = stat # set the stat to plot\n",
    "   plottitle = y + ' 203 bp vs loxP control all reps'\n",
    "   if stat == 'mGL-A_gmean': \n",
    "       pairs_now = pairs\n",
    "   elif stat :    \n",
    "       pairs_now = []\n",
    "   g = plt.figure(figsize=(xsize,ysize))\n",
    "   g = summary_plot( x=x, y=y, hue=hue, data=data_now, pairs=pairs, yscale=yscale, ylim=ylim, dodge=False,\n",
    "                    x_rot=45, palette = palette, order=order, hue_order=hue_order, plottitle=plottitle, markers=markers,\n",
    "                    scientific=False, fontsize=fontsize)\n",
    "   g.figure.savefig(figure_folder + plottitle + '.svg',dpi=300,bbox_inches='tight')\n",
    "\n",
    "s_now = s_matching_bioreps\n",
    "for stat in stats_plot:\n",
    "   y = stat # set the stat to plot\n",
    "   plottitle = y + ' 203 bp vs loxP control matching reps'\n",
    "   if stat == 'mGL-A_gmean': \n",
    "       pairs_now = pairs\n",
    "   elif stat :    \n",
    "       pairs_now = []\n",
    "   g = plt.figure(figsize=(xsize,ysize))\n",
    "   g = summary_plot( x=x, y=y, hue=hue, data=s_now, pairs=pairs, yscale=yscale, ylim=ylim, dodge=False,\n",
    "                    x_rot=45, palette = palette, order=order, hue_order=hue_order, plottitle=plottitle, markers=markers,\n",
    "                    scientific=False, fontsize=fontsize)\n",
    "   g.figure.savefig(figure_folder + plottitle + '.svg',dpi=300,bbox_inches='tight')"
   ]
  },
  {
   "cell_type": "code",
   "execution_count": 62,
   "metadata": {},
   "outputs": [
    {
     "data": {
      "text/html": [
       "<div>\n",
       "<style scoped>\n",
       "    .dataframe tbody tr th:only-of-type {\n",
       "        vertical-align: middle;\n",
       "    }\n",
       "\n",
       "    .dataframe tbody tr th {\n",
       "        vertical-align: top;\n",
       "    }\n",
       "\n",
       "    .dataframe thead th {\n",
       "        text-align: right;\n",
       "    }\n",
       "</style>\n",
       "<table border=\"1\" class=\"dataframe\">\n",
       "  <thead>\n",
       "    <tr style=\"text-align: right;\">\n",
       "      <th></th>\n",
       "      <th>Rept.ZF.Cre</th>\n",
       "      <th>mGL-A_gmean</th>\n",
       "      <th>TagBFP-A_gmean</th>\n",
       "      <th>mRuby2-A_gmean</th>\n",
       "    </tr>\n",
       "  </thead>\n",
       "  <tbody>\n",
       "    <tr>\n",
       "      <th>49</th>\n",
       "      <td>203bp.noZF.Cre</td>\n",
       "      <td>40.403948</td>\n",
       "      <td>34.956638</td>\n",
       "      <td>34.138073</td>\n",
       "    </tr>\n",
       "    <tr>\n",
       "      <th>50</th>\n",
       "      <td>203bp.noZF.Cre</td>\n",
       "      <td>40.941210</td>\n",
       "      <td>34.898123</td>\n",
       "      <td>42.094760</td>\n",
       "    </tr>\n",
       "    <tr>\n",
       "      <th>51</th>\n",
       "      <td>203bp.noZF.Cre</td>\n",
       "      <td>43.648724</td>\n",
       "      <td>34.217064</td>\n",
       "      <td>40.692328</td>\n",
       "    </tr>\n",
       "    <tr>\n",
       "      <th>53</th>\n",
       "      <td>203bp.noZF.noCre</td>\n",
       "      <td>36.683487</td>\n",
       "      <td>34.564540</td>\n",
       "      <td>35.674175</td>\n",
       "    </tr>\n",
       "    <tr>\n",
       "      <th>54</th>\n",
       "      <td>203bp.noZF.noCre</td>\n",
       "      <td>37.928524</td>\n",
       "      <td>33.474743</td>\n",
       "      <td>42.203764</td>\n",
       "    </tr>\n",
       "    <tr>\n",
       "      <th>55</th>\n",
       "      <td>203bp.noZF.noCre</td>\n",
       "      <td>38.073614</td>\n",
       "      <td>34.536169</td>\n",
       "      <td>39.670620</td>\n",
       "    </tr>\n",
       "  </tbody>\n",
       "</table>\n",
       "</div>"
      ],
      "text/plain": [
       "         Rept.ZF.Cre  mGL-A_gmean  TagBFP-A_gmean  mRuby2-A_gmean\n",
       "49    203bp.noZF.Cre    40.403948       34.956638       34.138073\n",
       "50    203bp.noZF.Cre    40.941210       34.898123       42.094760\n",
       "51    203bp.noZF.Cre    43.648724       34.217064       40.692328\n",
       "53  203bp.noZF.noCre    36.683487       34.564540       35.674175\n",
       "54  203bp.noZF.noCre    37.928524       33.474743       42.203764\n",
       "55  203bp.noZF.noCre    38.073614       34.536169       39.670620"
      ]
     },
     "metadata": {},
     "output_type": "display_data"
    },
    {
     "name": "stdout",
     "output_type": "stream",
     "text": [
      "p-value annotation legend:\n",
      "ns: 5.00e-02 < p <= 1.00e+00\n",
      "*: 1.00e-02 < p <= 5.00e-02\n",
      "**: 1.00e-03 < p <= 1.00e-02\n",
      "***: 1.00e-04 < p <= 1.00e-03\n",
      "****: p <= 1.00e-04\n",
      "\n",
      "203bp.noZF.noCre v.s. 203bp.noZF.Cre: t-test independent samples, P_val=2.011e-02 stat=-3.741e+00\n"
     ]
    },
    {
     "data": {
      "image/png": "[encoded data removed]",
      "text/plain": [
       "<Figure size 144x180 with 1 Axes>"
      ]
     },
     "metadata": {
      "needs_background": "light"
     },
     "output_type": "display_data"
    },
    {
     "name": "stdout",
     "output_type": "stream",
     "text": [
      "p-value annotation legend:\n",
      "ns: 5.00e-02 < p <= 1.00e+00\n",
      "*: 1.00e-02 < p <= 5.00e-02\n",
      "**: 1.00e-03 < p <= 1.00e-02\n",
      "***: 1.00e-04 < p <= 1.00e-03\n",
      "****: p <= 1.00e-04\n",
      "\n",
      "203bp.noZF.noCre v.s. 203bp.noZF.Cre: t-test independent samples, P_val=3.106e-01 stat=-1.160e+00\n"
     ]
    },
    {
     "data": {
      "text/plain": [
       "<Figure size 432x288 with 0 Axes>"
      ]
     },
     "metadata": {},
     "output_type": "display_data"
    },
    {
     "data": {
      "image/png": "[encoded data removed]",
      "text/plain": [
       "<Figure size 144x180 with 1 Axes>"
      ]
     },
     "metadata": {
      "needs_background": "light"
     },
     "output_type": "display_data"
    },
    {
     "name": "stdout",
     "output_type": "stream",
     "text": [
      "p-value annotation legend:\n",
      "ns: 5.00e-02 < p <= 1.00e+00\n",
      "*: 1.00e-02 < p <= 5.00e-02\n",
      "**: 1.00e-03 < p <= 1.00e-02\n",
      "***: 1.00e-04 < p <= 1.00e-03\n",
      "****: p <= 1.00e-04\n",
      "\n",
      "203bp.noZF.noCre v.s. 203bp.noZF.Cre: t-test independent samples, P_val=9.498e-01 stat=6.698e-02\n"
     ]
    },
    {
     "data": {
      "text/plain": [
       "<Figure size 432x288 with 0 Axes>"
      ]
     },
     "metadata": {},
     "output_type": "display_data"
    },
    {
     "data": {
      "image/png": "[encoded data removed]",
      "text/plain": [
       "<Figure size 144x180 with 1 Axes>"
      ]
     },
     "metadata": {
      "needs_background": "light"
     },
     "output_type": "display_data"
    },
    {
     "data": {
      "text/html": [
       "<div>\n",
       "<style scoped>\n",
       "    .dataframe tbody tr th:only-of-type {\n",
       "        vertical-align: middle;\n",
       "    }\n",
       "\n",
       "    .dataframe tbody tr th {\n",
       "        vertical-align: top;\n",
       "    }\n",
       "\n",
       "    .dataframe thead th {\n",
       "        text-align: right;\n",
       "    }\n",
       "</style>\n",
       "<table border=\"1\" class=\"dataframe\">\n",
       "  <thead>\n",
       "    <tr style=\"text-align: right;\">\n",
       "      <th></th>\n",
       "      <th>Rept.ZF.Cre</th>\n",
       "      <th>mGL-A_gmean</th>\n",
       "      <th>TagBFP-A_gmean</th>\n",
       "      <th>mRuby2-A_gmean</th>\n",
       "    </tr>\n",
       "  </thead>\n",
       "  <tbody>\n",
       "    <tr>\n",
       "      <th>0</th>\n",
       "      <td>203bp.ZF37.Cre</td>\n",
       "      <td>661.381461</td>\n",
       "      <td>34.407441</td>\n",
       "      <td>199.042177</td>\n",
       "    </tr>\n",
       "    <tr>\n",
       "      <th>1</th>\n",
       "      <td>203bp.ZF37.Cre</td>\n",
       "      <td>332.085680</td>\n",
       "      <td>32.837646</td>\n",
       "      <td>626.365713</td>\n",
       "    </tr>\n",
       "    <tr>\n",
       "      <th>2</th>\n",
       "      <td>203bp.ZF37.Cre</td>\n",
       "      <td>357.281398</td>\n",
       "      <td>33.203780</td>\n",
       "      <td>944.447692</td>\n",
       "    </tr>\n",
       "    <tr>\n",
       "      <th>3</th>\n",
       "      <td>203bp.ZF37.Cre</td>\n",
       "      <td>305.706522</td>\n",
       "      <td>34.362209</td>\n",
       "      <td>217.112097</td>\n",
       "    </tr>\n",
       "    <tr>\n",
       "      <th>4</th>\n",
       "      <td>203bp.ZF37.noCre</td>\n",
       "      <td>184.320827</td>\n",
       "      <td>35.989144</td>\n",
       "      <td>168.520308</td>\n",
       "    </tr>\n",
       "    <tr>\n",
       "      <th>5</th>\n",
       "      <td>203bp.ZF37.noCre</td>\n",
       "      <td>90.567085</td>\n",
       "      <td>33.426589</td>\n",
       "      <td>403.528533</td>\n",
       "    </tr>\n",
       "    <tr>\n",
       "      <th>6</th>\n",
       "      <td>203bp.ZF37.noCre</td>\n",
       "      <td>121.478937</td>\n",
       "      <td>34.379071</td>\n",
       "      <td>843.072584</td>\n",
       "    </tr>\n",
       "    <tr>\n",
       "      <th>7</th>\n",
       "      <td>203bp.ZF37.noCre</td>\n",
       "      <td>113.838176</td>\n",
       "      <td>34.994806</td>\n",
       "      <td>238.491631</td>\n",
       "    </tr>\n",
       "  </tbody>\n",
       "</table>\n",
       "</div>"
      ],
      "text/plain": [
       "        Rept.ZF.Cre  mGL-A_gmean  TagBFP-A_gmean  mRuby2-A_gmean\n",
       "0    203bp.ZF37.Cre   661.381461       34.407441      199.042177\n",
       "1    203bp.ZF37.Cre   332.085680       32.837646      626.365713\n",
       "2    203bp.ZF37.Cre   357.281398       33.203780      944.447692\n",
       "3    203bp.ZF37.Cre   305.706522       34.362209      217.112097\n",
       "4  203bp.ZF37.noCre   184.320827       35.989144      168.520308\n",
       "5  203bp.ZF37.noCre    90.567085       33.426589      403.528533\n",
       "6  203bp.ZF37.noCre   121.478937       34.379071      843.072584\n",
       "7  203bp.ZF37.noCre   113.838176       34.994806      238.491631"
      ]
     },
     "metadata": {},
     "output_type": "display_data"
    },
    {
     "name": "stdout",
     "output_type": "stream",
     "text": [
      "p-value annotation legend:\n",
      "ns: 5.00e-02 < p <= 1.00e+00\n",
      "*: 1.00e-02 < p <= 5.00e-02\n",
      "**: 1.00e-03 < p <= 1.00e-02\n",
      "***: 1.00e-04 < p <= 1.00e-03\n",
      "****: p <= 1.00e-04\n",
      "\n",
      "203bp.ZF37.noCre v.s. 203bp.ZF37.Cre: t-test independent samples, P_val=1.537e-02 stat=-3.353e+00\n"
     ]
    },
    {
     "data": {
      "text/plain": [
       "<Figure size 432x288 with 0 Axes>"
      ]
     },
     "metadata": {},
     "output_type": "display_data"
    },
    {
     "data": {
      "image/png": "[encoded data removed]",
      "text/plain": [
       "<Figure size 144x180 with 1 Axes>"
      ]
     },
     "metadata": {
      "needs_background": "light"
     },
     "output_type": "display_data"
    },
    {
     "name": "stdout",
     "output_type": "stream",
     "text": [
      "p-value annotation legend:\n",
      "ns: 5.00e-02 < p <= 1.00e+00\n",
      "*: 1.00e-02 < p <= 5.00e-02\n",
      "**: 1.00e-03 < p <= 1.00e-02\n",
      "***: 1.00e-04 < p <= 1.00e-03\n",
      "****: p <= 1.00e-04\n",
      "\n",
      "203bp.ZF37.noCre v.s. 203bp.ZF37.Cre: t-test independent samples, P_val=1.887e-01 stat=1.482e+00\n"
     ]
    },
    {
     "data": {
      "text/plain": [
       "<Figure size 432x288 with 0 Axes>"
      ]
     },
     "metadata": {},
     "output_type": "display_data"
    },
    {
     "data": {
      "image/png": "[encoded data removed]",
      "text/plain": [
       "<Figure size 144x180 with 1 Axes>"
      ]
     },
     "metadata": {
      "needs_background": "light"
     },
     "output_type": "display_data"
    },
    {
     "name": "stdout",
     "output_type": "stream",
     "text": [
      "p-value annotation legend:\n",
      "ns: 5.00e-02 < p <= 1.00e+00\n",
      "*: 1.00e-02 < p <= 5.00e-02\n",
      "**: 1.00e-03 < p <= 1.00e-02\n",
      "***: 1.00e-04 < p <= 1.00e-03\n",
      "****: p <= 1.00e-04\n",
      "\n",
      "203bp.ZF37.noCre v.s. 203bp.ZF37.Cre: t-test independent samples, P_val=7.344e-01 stat=-3.555e-01\n"
     ]
    },
    {
     "data": {
      "text/plain": [
       "<Figure size 432x288 with 0 Axes>"
      ]
     },
     "metadata": {},
     "output_type": "display_data"
    },
    {
     "data": {
      "image/png": "[encoded data removed]",
      "text/plain": [
       "<Figure size 144x180 with 1 Axes>"
      ]
     },
     "metadata": {
      "needs_background": "light"
     },
     "output_type": "display_data"
    },
    {
     "data": {
      "text/html": [
       "<div>\n",
       "<style scoped>\n",
       "    .dataframe tbody tr th:only-of-type {\n",
       "        vertical-align: middle;\n",
       "    }\n",
       "\n",
       "    .dataframe tbody tr th {\n",
       "        vertical-align: top;\n",
       "    }\n",
       "\n",
       "    .dataframe thead th {\n",
       "        text-align: right;\n",
       "    }\n",
       "</style>\n",
       "<table border=\"1\" class=\"dataframe\">\n",
       "  <thead>\n",
       "    <tr style=\"text-align: right;\">\n",
       "      <th></th>\n",
       "      <th>Rept.ZF.Cre</th>\n",
       "      <th>mGL-A_gmean</th>\n",
       "      <th>TagBFP-A_gmean</th>\n",
       "      <th>mRuby2-A_gmean</th>\n",
       "    </tr>\n",
       "  </thead>\n",
       "  <tbody>\n",
       "    <tr>\n",
       "      <th>16</th>\n",
       "      <td>203bp.ZF43.Cre</td>\n",
       "      <td>246.085217</td>\n",
       "      <td>171.203013</td>\n",
       "      <td>35.175603</td>\n",
       "    </tr>\n",
       "    <tr>\n",
       "      <th>17</th>\n",
       "      <td>203bp.ZF43.Cre</td>\n",
       "      <td>193.535709</td>\n",
       "      <td>818.636747</td>\n",
       "      <td>35.941965</td>\n",
       "    </tr>\n",
       "    <tr>\n",
       "      <th>18</th>\n",
       "      <td>203bp.ZF43.Cre</td>\n",
       "      <td>226.320390</td>\n",
       "      <td>1497.284877</td>\n",
       "      <td>36.137364</td>\n",
       "    </tr>\n",
       "    <tr>\n",
       "      <th>19</th>\n",
       "      <td>203bp.ZF43.noCre</td>\n",
       "      <td>74.581292</td>\n",
       "      <td>128.351481</td>\n",
       "      <td>34.782026</td>\n",
       "    </tr>\n",
       "    <tr>\n",
       "      <th>20</th>\n",
       "      <td>203bp.ZF43.noCre</td>\n",
       "      <td>70.077200</td>\n",
       "      <td>463.965680</td>\n",
       "      <td>34.231197</td>\n",
       "    </tr>\n",
       "    <tr>\n",
       "      <th>21</th>\n",
       "      <td>203bp.ZF43.noCre</td>\n",
       "      <td>100.400087</td>\n",
       "      <td>1122.945018</td>\n",
       "      <td>35.622813</td>\n",
       "    </tr>\n",
       "  </tbody>\n",
       "</table>\n",
       "</div>"
      ],
      "text/plain": [
       "         Rept.ZF.Cre  mGL-A_gmean  TagBFP-A_gmean  mRuby2-A_gmean\n",
       "16    203bp.ZF43.Cre   246.085217      171.203013       35.175603\n",
       "17    203bp.ZF43.Cre   193.535709      818.636747       35.941965\n",
       "18    203bp.ZF43.Cre   226.320390     1497.284877       36.137364\n",
       "19  203bp.ZF43.noCre    74.581292      128.351481       34.782026\n",
       "20  203bp.ZF43.noCre    70.077200      463.965680       34.231197\n",
       "21  203bp.ZF43.noCre   100.400087     1122.945018       35.622813"
      ]
     },
     "metadata": {},
     "output_type": "display_data"
    },
    {
     "name": "stdout",
     "output_type": "stream",
     "text": [
      "p-value annotation legend:\n",
      "ns: 5.00e-02 < p <= 1.00e+00\n",
      "*: 1.00e-02 < p <= 5.00e-02\n",
      "**: 1.00e-03 < p <= 1.00e-02\n",
      "***: 1.00e-04 < p <= 1.00e-03\n",
      "****: p <= 1.00e-04\n",
      "\n",
      "203bp.ZF43.noCre v.s. 203bp.ZF43.Cre: t-test independent samples, P_val=1.462e-03 stat=-7.793e+00\n"
     ]
    },
    {
     "data": {
      "text/plain": [
       "<Figure size 432x288 with 0 Axes>"
      ]
     },
     "metadata": {},
     "output_type": "display_data"
    },
    {
     "data": {
      "image/png": "[encoded data removed]",
      "text/plain": [
       "<Figure size 144x180 with 1 Axes>"
      ]
     },
     "metadata": {
      "needs_background": "light"
     },
     "output_type": "display_data"
    },
    {
     "name": "stdout",
     "output_type": "stream",
     "text": [
      "p-value annotation legend:\n",
      "ns: 5.00e-02 < p <= 1.00e+00\n",
      "*: 1.00e-02 < p <= 5.00e-02\n",
      "**: 1.00e-03 < p <= 1.00e-02\n",
      "***: 1.00e-04 < p <= 1.00e-03\n",
      "****: p <= 1.00e-04\n",
      "\n",
      "203bp.ZF43.noCre v.s. 203bp.ZF43.Cre: t-test independent samples, P_val=6.215e-01 stat=-5.343e-01\n"
     ]
    },
    {
     "data": {
      "text/plain": [
       "<Figure size 432x288 with 0 Axes>"
      ]
     },
     "metadata": {},
     "output_type": "display_data"
    },
    {
     "data": {
      "image/png": "[encoded data removed]",
      "text/plain": [
       "<Figure size 144x180 with 1 Axes>"
      ]
     },
     "metadata": {
      "needs_background": "light"
     },
     "output_type": "display_data"
    },
    {
     "name": "stdout",
     "output_type": "stream",
     "text": [
      "p-value annotation legend:\n",
      "ns: 5.00e-02 < p <= 1.00e+00\n",
      "*: 1.00e-02 < p <= 5.00e-02\n",
      "**: 1.00e-03 < p <= 1.00e-02\n",
      "***: 1.00e-04 < p <= 1.00e-03\n",
      "****: p <= 1.00e-04\n",
      "\n",
      "203bp.ZF43.noCre v.s. 203bp.ZF43.Cre: t-test independent samples, P_val=1.557e-01 stat=-1.746e+00\n"
     ]
    },
    {
     "data": {
      "text/plain": [
       "<Figure size 432x288 with 0 Axes>"
      ]
     },
     "metadata": {},
     "output_type": "display_data"
    },
    {
     "data": {
      "image/png": "[encoded data removed]",
      "text/plain": [
       "<Figure size 144x180 with 1 Axes>"
      ]
     },
     "metadata": {
      "needs_background": "light"
     },
     "output_type": "display_data"
    },
    {
     "data": {
      "text/plain": [
       "<Figure size 432x288 with 0 Axes>"
      ]
     },
     "metadata": {},
     "output_type": "display_data"
    }
   ],
   "source": [
    "#Plot summary plot for the desired statistics\n",
    "pairs =[]\n",
    "\n",
    "\n",
    "#List of stats to plot \n",
    "stats_plot = pd.array( ['mGL-A_gmean','TagBFP-A_gmean', 'mRuby2-A_gmean'])\n",
    "#set plotting parameters and order -- make the order only the relevant parameters \n",
    "x = 'Rept.ZF.Cre'\n",
    "order_repts = {'203bp.noZF.noCre': 'grey', \n",
    "                         '203bp.noZF.Cre': 'black'\n",
    "                         }\n",
    "palette = order_repts\n",
    "order = order_repts; \n",
    "hue_order = None;  hue=None; yscale= 'log'\n",
    "ylim = [1e1, 1e5]\n",
    "\n",
    "#Only plot some reporters\n",
    "data_now = s_bioreplicate[s_bioreplicate['Rept.ZF.Cre'].isin(order_repts)]\n",
    "#display(data_now)\n",
    "#For figure S3A only use the following bioreps (uncomment section below)\n",
    "data_now= data_now[~(data_now['bioreplicate'].isin(pd.array(['20240304flow_exp20240301_p2_BioB','20240205flow_exp20240202_combined'])))]\n",
    "display(data_now[['Rept.ZF.Cre','mGL-A_gmean','TagBFP-A_gmean', 'mRuby2-A_gmean']])\n",
    "data_now[['Rept.ZF.Cre','mGL-A_gmean','TagBFP-A_gmean','mCherry-A_gmean']].to_excel('FigS3_203bp_reps_paper.xlsx',index=False)\n",
    "#Set p-value significance comparisons \n",
    "pairs = [\n",
    "       ['203bp.noZF.noCre', '203bp.noZF.Cre']\n",
    "]\n",
    "\n",
    "fontsize=15; xsize =2  ; ysize = 2.5\n",
    "markers=pd.array(['o','o'])\n",
    "for stat in stats_plot:\n",
    "       y = stat # set the stat to plot\n",
    "       plottitle = y + ' noZF Cre allreps'\n",
    "       g = plt.figure(figsize=(xsize,ysize))\n",
    "       g = summary_plot( x=x, y=y, hue=hue, data=data_now, pairs=pairs, yscale=yscale, ylim=[1e1, 1e3], markers=markers, \n",
    "                     x_rot=45, palette = palette, order=order, hue_order=hue_order, plottitle='', fontsize=fontsize)\n",
    "       g.figure.savefig(figure_folder + plottitle + '.svg',dpi=300,bbox_inches='tight')\n",
    "\n",
    "order_repts = {'203bp.ZF37.noCre': 'grey', \n",
    "                         '203bp.ZF37.Cre': 'black'\n",
    "                         }\n",
    "palette = order_repts\n",
    "order = order_repts; \n",
    "hue_order = None;  hue=None; yscale= 'log'\n",
    "ylim = [1e1, 1e5]\n",
    "\n",
    "#Only plot some reporters\n",
    "data_now = s_matching_bioreps[s_matching_bioreps['Rept.ZF.Cre'].isin(order_repts)]\n",
    "display(data_now[['Rept.ZF.Cre','mGL-A_gmean','TagBFP-A_gmean', 'mRuby2-A_gmean']])\n",
    "\n",
    "#Set p-value significance comparisons \n",
    "pairs = [\n",
    "       ['203bp.ZF37.noCre', '203bp.ZF37.Cre']\n",
    "]\n",
    "\n",
    "for stat in stats_plot:\n",
    "       y = stat # set the stat to plot\n",
    "       plottitle = y + ' ZF37 Cre matchbios'\n",
    "       g = plt.figure(figsize=(xsize,ysize))\n",
    "       g = summary_plot( x=x, y=y, hue=hue, data=data_now, pairs=pairs, yscale=yscale, ylim=ylim, markers=markers, \n",
    "                     x_rot=45, palette = palette, order=order, hue_order=hue_order, plottitle='', fontsize=fontsize)\n",
    "       g.figure.savefig(figure_folder + plottitle + '.svg',dpi=300,bbox_inches='tight')\n",
    "\n",
    "order_repts = {'203bp.ZF43.noCre': 'grey', \n",
    "                         '203bp.ZF43.Cre': 'black'\n",
    "                         }\n",
    "palette = order_repts\n",
    "order = order_repts; \n",
    "hue_order = None;  hue=None; yscale= 'log'\n",
    "ylim = [1e1, 1e5]\n",
    "\n",
    "#Only plot some reporters\n",
    "data_now = s_matching_bioreps[s_matching_bioreps['Rept.ZF.Cre'].isin(order_repts)]\n",
    "display(data_now[['Rept.ZF.Cre','mGL-A_gmean','TagBFP-A_gmean', 'mRuby2-A_gmean']])\n",
    "\n",
    "#Set p-value significance comparisons \n",
    "pairs = [\n",
    "       ['203bp.ZF43.noCre', '203bp.ZF43.Cre']\n",
    "]\n",
    "\n",
    "for stat in stats_plot:\n",
    "       y = stat # set the stat to plot\n",
    "       plottitle = y + ' ZF43 Cre matchbios'\n",
    "       g = plt.figure(figsize=(xsize,ysize))\n",
    "       g = summary_plot( x=x, y=y, hue=hue, data=data_now, pairs=pairs, yscale=yscale, ylim=ylim, markers=markers, \n",
    "                     x_rot=45, palette = palette, order=order, hue_order=hue_order, plottitle='', fontsize=fontsize)\n",
    "       g.figure.savefig(figure_folder + plottitle + '.svg',dpi=300,bbox_inches='tight')\n"
   ]
  },
  {
   "cell_type": "markdown",
   "metadata": {},
   "source": [
    "# Summary Plots, points = wells"
   ]
  },
  {
   "cell_type": "code",
   "execution_count": null,
   "metadata": {},
   "outputs": [],
   "source": [
    "df = data_iRFP670gated #choose dataframe\n",
    "\n",
    "#Decide how to group. The last parameter will be the condition that it is group by by last ('well' or 'bioreplicate')\n",
    "by = ['Rept', 'ZF', 'Cre','cond','bioreplicate_cond_rept','bioreplicate','well'] #how to filter results, columns \n",
    "\n",
    "\n",
    "x = ['mGL-A', 'TagBFP-A','mRuby2-A'] #which parameter to calculate results on\n",
    "stat = [sp.stats.gmean, np.median, np.std, np.mean] #statistics to calculate\n",
    "s_well = calc_stats(df,by,x,stat) #calculate statistics \n",
    "#display(s_bioreplicate) #display results, use for troublshooting"
   ]
  },
  {
   "cell_type": "code",
   "execution_count": null,
   "metadata": {},
   "outputs": [],
   "source": [
    "#Plot summary plot for the desired statistics\n",
    "\n",
    "#List of stats to plot \n",
    "stats_plot = pd.array( ['mGL-A_gmean', 'TagBFP-A_gmean', 'mRuby2-A_gmean'])\n",
    "#set plotting parameters \n",
    "order_repts = pd.array( ['203bp', 'loxP control'])\n",
    "order = order_repts; palette = palette; hue_order = hue_order; x = 'Rept'; hue='cond'; yscale= 'log'\n",
    "ylim = [1e0, 1e6]\n",
    "\n",
    "#Only plot some reporters\n",
    "data_now = s_well[s_well['Rept'].isin(order_repts)]\n",
    "data_now = data_now[data_now['cond'].isin(hue_order)]\n",
    "#display(data_now)\n",
    "\n",
    "hue_order = pd.array(['noZF. noCre',\n",
    "            'noZF. Cre',\n",
    "            'ZF43. noCre',\n",
    "            'ZF43. Cre', \n",
    "            'ZF37. noCre',\n",
    "           'ZF37. Cre'\n",
    "])\n",
    "\n",
    "#Set p-value significance comparisons \n",
    "pairs = [\n",
    "        #[('203bp',  'noZF. noCre'), ('203bp', 'noZF. Cre')],  #compare no ZF -/+ Cre\n",
    "       [('203bp',  'noZF. noCre'), ('203bp', 'ZF43. noCre')], #compare ZF43 to noZF, +Cre\n",
    "       [('203bp',  'noZF. noCre'), ('203bp', 'ZF37. noCre')], #compare ZF37 to noZF, +Cre\n",
    "       [('203bp',  'ZF43. noCre'), ('203bp', 'ZF43. Cre')], # +ZF43, -/+ Cre\n",
    "       [('203bp',  'ZF37. noCre'), ('203bp', 'ZF37. Cre')], # +ZF37, -/+ Cre\n",
    "      # [('203bp',  'ZF43. noCre'), ('203bp', 'ZF37. noCre')], #compare both ZF noCre\n",
    "       #[('203bp',  'ZF43. Cre'), ('203bp', 'ZF37. Cre')], #compare both ZF Cre\n",
    "]\n",
    "\n",
    "for stat in stats_plot:\n",
    "    y = stat # set the stat to plot\n",
    "    plottitle = y + ' grouped well'\n",
    "    g = summary_plot( x=x, y=y, hue=hue, data=data_now, pairs=pairs, yscale=yscale, ylim=ylim,\n",
    "                    x_rot=45, palette = palette, order=order, hue_order=hue_order, plottitle=plottitle, \n",
    "                    plot_reps=True)\n",
    "    g.figure.savefig(figure_folder + plottitle + '.svg',dpi=300,bbox_inches='tight')"
   ]
  },
  {
   "cell_type": "markdown",
   "metadata": {},
   "source": [
    "# Reprsentative Flow Plot mGL per condition"
   ]
  },
  {
   "cell_type": "code",
   "execution_count": 25,
   "metadata": {},
   "outputs": [],
   "source": [
    "palette = {'203bp.noZF.noCre': 'gray', \n",
    "                         '203bp.noZF.Cre': 'black',\n",
    "                         '203bp.ZF43.noCre': '#C3DB9A', \n",
    "                         '203bp.ZF43.Cre': '#69B645',\n",
    "                         'loxP control.ZF43.Cre': 'navy', \n",
    "                        '203bp.ZF37.noCre': '#C3DB9A', \n",
    "                         '203bp.ZF37.Cre': '#69B645',\n",
    "                         'loxP control.ZF37.Cre': 'darkred'\n",
    "                         }"
   ]
  },
  {
   "cell_type": "code",
   "execution_count": null,
   "metadata": {},
   "outputs": [
    {
     "data": {
      "text/plain": [
       "'203bp.noZF.noCre'"
      ]
     },
     "metadata": {},
     "output_type": "display_data"
    },
    {
     "data": {
      "image/png": "[encoded data removed]",
      "text/plain": [
       "<Figure size 120x72 with 1 Axes>"
      ]
     },
     "metadata": {
      "needs_background": "light"
     },
     "output_type": "display_data"
    },
    {
     "data": {
      "text/plain": [
       "'203bp.noZF.Cre'"
      ]
     },
     "metadata": {},
     "output_type": "display_data"
    },
    {
     "data": {
      "image/png": "[encoded data removed]",
      "text/plain": [
       "<Figure size 120x72 with 1 Axes>"
      ]
     },
     "metadata": {
      "needs_background": "light"
     },
     "output_type": "display_data"
    },
    {
     "data": {
      "text/plain": [
       "'203bp.ZF43.noCre'"
      ]
     },
     "metadata": {},
     "output_type": "display_data"
    },
    {
     "data": {
      "image/png": "[encoded data removed]",
      "text/plain": [
       "<Figure size 120x72 with 1 Axes>"
      ]
     },
     "metadata": {
      "needs_background": "light"
     },
     "output_type": "display_data"
    },
    {
     "data": {
      "text/plain": [
       "'203bp.ZF43.Cre'"
      ]
     },
     "metadata": {},
     "output_type": "display_data"
    },
    {
     "data": {
      "image/png": "[encoded data removed]",
      "text/plain": [
       "<Figure size 120x72 with 1 Axes>"
      ]
     },
     "metadata": {
      "needs_background": "light"
     },
     "output_type": "display_data"
    },
    {
     "data": {
      "text/plain": [
       "'loxP control.ZF43.Cre'"
      ]
     },
     "metadata": {},
     "output_type": "display_data"
    },
    {
     "data": {
      "image/png": "[encoded data removed]",
      "text/plain": [
       "<Figure size 120x72 with 1 Axes>"
      ]
     },
     "metadata": {
      "needs_background": "light"
     },
     "output_type": "display_data"
    },
    {
     "data": {
      "text/plain": [
       "'203bp.ZF37.noCre'"
      ]
     },
     "metadata": {},
     "output_type": "display_data"
    },
    {
     "data": {
      "image/png": "[encoded data removed]",
      "text/plain": [
       "<Figure size 120x72 with 1 Axes>"
      ]
     },
     "metadata": {
      "needs_background": "light"
     },
     "output_type": "display_data"
    },
    {
     "data": {
      "text/plain": [
       "' 203bp.ZF37.noCre Hist mGL original reps'"
      ]
     },
     "metadata": {},
     "output_type": "display_data"
    },
    {
     "data": {
      "image/png": "[encoded data removed]",
      "text/plain": [
       "<Figure size 120x72 with 1 Axes>"
      ]
     },
     "metadata": {
      "needs_background": "light"
     },
     "output_type": "display_data"
    },
    {
     "data": {
      "text/plain": [
       "'203bp.ZF37.Cre'"
      ]
     },
     "metadata": {},
     "output_type": "display_data"
    },
    {
     "data": {
      "image/png": "[encoded data removed]",
      "text/plain": [
       "<Figure size 120x72 with 1 Axes>"
      ]
     },
     "metadata": {
      "needs_background": "light"
     },
     "output_type": "display_data"
    },
    {
     "data": {
      "text/plain": [
       "' 203bp.ZF37.Cre Hist mGL original reps'"
      ]
     },
     "metadata": {},
     "output_type": "display_data"
    },
    {
     "data": {
      "image/png": "[encoded data removed]",
      "text/plain": [
       "<Figure size 120x72 with 1 Axes>"
      ]
     },
     "metadata": {
      "needs_background": "light"
     },
     "output_type": "display_data"
    },
    {
     "data": {
      "text/plain": [
       "'loxP control.ZF37.Cre'"
      ]
     },
     "metadata": {},
     "output_type": "display_data"
    },
    {
     "data": {
      "image/png": "[encoded data removed]",
      "text/plain": [
       "<Figure size 120x72 with 1 Axes>"
      ]
     },
     "metadata": {
      "needs_background": "light"
     },
     "output_type": "display_data"
    }
   ],
   "source": [
    "conds_now = palette\n",
    "\n",
    "#Set common conditions\n",
    "parameters = pd.array(['mGL-A']) ; palette=palette; xlim = [1e0,1e6]; hue='Rept.ZF.Cre'; hueorder=None\n",
    "xsize = 2.5/1.5\n",
    "ysize = 1.5/1.5\n",
    "xlim=[1e0, 1e5]\n",
    "\n",
    "\n",
    "\n",
    "#Iterate through repts\n",
    "for cond in conds_now:\n",
    "    data_now = data_iRFP670gated[ data_iRFP670gated['Rept.ZF.Cre'] == cond] # get condition\n",
    "    display(cond)\n",
    "    plottitle = ' ' + cond + ' Hist mGL'\n",
    "    #Plot histogram \n",
    "    g = plt.figure(figsize=(xsize,ysize))\n",
    "    g = custom_hist_plot( data_now, parameters, hue=hue, palette=palette, hueorder=hueorder, xsize=xsize, ysize=ysize, title='', \n",
    "                         alpha=0.4, legend=False, fontsize=15,\n",
    "                          xlim=xlim, axis_lines={'top': False, 'bottom': True, 'left': False, 'right': False})\n",
    "    g = g.get_figure()\n",
    "    g.savefig(figure_folder+ plottitle + '.svg',dpi=300,bbox_inches='tight')        \n",
    "\n",
    "    # for figure 1C, 203bp.ZF37.Cre and 203bp.ZF37.noCre use n=4 ( data 1 to data 5, n=4 for 203bp -/+ VP16-ZF37, Cre )\n",
    "    if (cond=='203bp.ZF37.noCre') | (cond=='203bp.ZF37.Cre'):\n",
    "        data_now = data_now[ data_now['bioreplicate'].isin([\n",
    "                '20240111flow_exp20240108_p1', \n",
    "                '20240118flow_exp20240115_p1',\n",
    "                '0240120flow_exp20240117_p1' ,\n",
    "                '20240126flow_exp20240123_p2' ,\n",
    "                '20240129flow_exp20240126_p2' ])]\n",
    "        #Plot histogram \n",
    "        plottitle = ' ' + cond + ' Hist mGL original reps'\n",
    "        display(plottitle)\n",
    "        k = plt.figure(figsize=(xsize,ysize))\n",
    "        k = custom_hist_plot( data_now, parameters, hue=hue, palette=palette, hueorder=hueorder, xsize=xsize, ysize=ysize, title='', \n",
    "                            alpha=0.4, legend=False, fontsize=15,\n",
    "                            xlim=xlim, axis_lines={'top': False, 'bottom': True, 'left': False, 'right': False})\n",
    "        k = k.get_figure()\n",
    "        k.savefig(figure_folder+ plottitle + '.svg',dpi=300,bbox_inches='tight')   \n"
   ]
  },
  {
   "cell_type": "markdown",
   "metadata": {},
   "source": [
    "# Representative Flow Plot, Combine ZF37 and ZF43"
   ]
  },
  {
   "cell_type": "code",
   "execution_count": null,
   "metadata": {},
   "outputs": [],
   "source": [
    "repts_now = pd.array( ['203bp', 'loxP control'])\n",
    "Cre_now =  pd.array( [ 'Cre', 'noCre' ])\n",
    "ZF_now = pd.array( ['ZF43','ZF37'])\n",
    "\n",
    "#Set common conditions\n",
    "parameters = pd.array(['mGL-A']) ; palette=palette; xlim = [1e0,1e6]; hue='cond'; hueorder=None\n",
    "xsize = 3\n",
    "ysize = 1\n",
    "\n",
    "#Select reporters\n",
    "for rept in repts_now:\n",
    "    for Cre in Cre_now:\n",
    "        data_now = data_iRFP670gated[ data_iRFP670gated['Rept'] == rept]\n",
    "        data_now = data_now[ data_now['ZF'].isin(ZF_now) ]\n",
    "        data_now = data_now[ data_now['Cre'] == Cre] # get condition \n",
    "        plottitle = rept + ' ZF43.37 ' + Cre + ' Hist mGL'\n",
    "        #Plot histogram \n",
    "        g = plt.figure(figsize=(xsize,ysize))\n",
    "        g = custom_hist_plot( data_now, parameters, hue=hue, palette=palette, hueorder=hueorder, xsize=xsize, ysize=ysize, title=plottitle, alpha=0.1,\n",
    "                            legendtitle='Condition', xlim=xlim, axis_lines={'top': False, 'bottom': True, 'left': False, 'right': False})\n",
    "        g = g.get_figure()\n",
    "        g.savefig(figure_folder+ plottitle + '.svg',dpi=300,bbox_inches='tight')\n"
   ]
  },
  {
   "cell_type": "markdown",
   "metadata": {},
   "source": [
    "# Histograms for supplement - Gated vs. Ungated"
   ]
  },
  {
   "cell_type": "code",
   "execution_count": null,
   "metadata": {},
   "outputs": [],
   "source": [
    "order_repts = {'203bp.noZF.noCre': 'gray', \n",
    "                         '203bp.noZF.Cre': 'goldenrod',\n",
    "                         '203bp.ZF43.noCre': 'deepskyblue', \n",
    "                         '203bp.ZF43.Cre': 'blue',\n",
    "                         'loxP control.ZF43.Cre': 'navy', \n",
    "                        '203bp.ZF37.noCre': 'darksalmon', \n",
    "                         '203bp.ZF37.Cre': 'red',\n",
    "                         'loxP control.ZF37.Cre': 'darkred'\n",
    "                         }\n",
    "order_repts = {'noZF. noCre': 'gray',\n",
    "            'noZF. Cre': 'goldenrod',\n",
    "            'ZF43. noCre': 'deepskyblue',\n",
    "           'ZF43. Cre': 'blue', \n",
    "          'ZF37. noCre': 'darksalmon',\n",
    "            'ZF37. Cre': 'red'\n",
    "}\n",
    "\n",
    "palette = order_repts"
   ]
  },
  {
   "cell_type": "code",
   "execution_count": null,
   "metadata": {},
   "outputs": [],
   "source": [
    "#Make the histograms for the Ungated and Gated with mGL as the xcat\n",
    "\n",
    "#set the hue, hue_order, palette \n",
    "hue = 'cond'; palette = order_repts; hue_order = order_repts\n",
    "rept_now = pd.array( ['203bp', 'loxP control'])\n",
    "data_now_list = pd.array( [data, data_iRFP670gated])\n",
    "ycat_list = pd.array( ['TagBFP-A', 'mRuby2-A'])\n",
    "\n",
    "\n",
    "#counter\n",
    "i = 0\n",
    "\n",
    "#Iterate through the different datasets and conditions \n",
    "for data_now_set in data_now_list: \n",
    "    for rept in rept_now:\n",
    "        for ycat in ycat_list:\n",
    "            i = i+1 \n",
    "            plottitle = rept + ' ' + ycat + ' v mGL-A Ungated small'\n",
    "            if i>4:\n",
    "                plottitle = rept + ' ' + ycat + ' v mGL-A Gated small' \n",
    "            data_now = data_now_set\n",
    "            data_now = data_now[data_now['Rept'] == rept] \n",
    "            g = plt.figure(figsize=(xsize,ysize))\n",
    "            g = custom_density_plot(xcat='mGL-A',ycat=ycat, hue=hue, data=data_now, points = 10000, hue_order =hue_order, \n",
    "                                    plottitle=plottitle, \n",
    "                                    palette=palette, alpha=0, type = ['contour'])\n",
    "            g.savefig(figure_folder+ plottitle + '.svg',dpi=300,bbox_inches='tight')\n",
    "\n"
   ]
  },
  {
   "cell_type": "markdown",
   "metadata": {},
   "source": [
    "# Analysis on iRFPGating - ZF43"
   ]
  },
  {
   "cell_type": "code",
   "execution_count": null,
   "metadata": {},
   "outputs": [],
   "source": [
    "#Select the ungated data that is for +ZF43\n",
    "\n",
    "repts_now = pd.array( ['203bp', 'loxP control'])\n",
    "Cre_now =  pd.array( [ 'Cre', 'noCre' ])\n",
    "ZF_now = pd.array( ['ZF43'])\n",
    "\n",
    "data_now = data[ data['Rept'].isin(repts_now) ]\n",
    "data_now = data_now[ data_now['ZF'].isin(ZF_now) ]\n"
   ]
  },
  {
   "cell_type": "code",
   "execution_count": null,
   "metadata": {},
   "outputs": [],
   "source": [
    "# tagBFP vs. mGL\n",
    "plot_name = ' tagBFP v iRFP670'\n",
    "\n",
    "#set the hue, hue_order, palette \n",
    "hue = 'bioreplicate_cond_rept'; palette = 'bright'; hue_order = None\n",
    "\n",
    "cond_list_now = cond_list_nounstained\n",
    "#cond_list_now = pd.array( ['ZF37. Cre']) #used for troubleshooting trying to get all replicates \n",
    "iRFP670_gates_list = [1, 200, 500, 1000, 5000, 10000] \n",
    "\n",
    "for gate in iRFP670_gates_list:\n",
    "    data_now_now = data_now[ data_now['iRFP670-A'] > gate]\n",
    "    plottitle = 'ZF43 conditions tagBFP vs iRFP670 Gate' + str(gate) \n",
    "    g = custom_density_plot(xcat='iRFP670-A',ycat='TagBFP-A', hue=hue, data=data_now_now, points = 10000, hue_order =hue_order, \n",
    "                                plottitle=plottitle, \n",
    "                                palette=palette, alpha=0, type = ['scatter'], \n",
    "                                vline = iRFP670_gates_list, hline=200)\n",
    "    g.savefig(figure_folder+ plottitle + '.png',dpi=300,bbox_inches='tight')\n",
    "\n",
    "    plottitle = 'ZF43 conditions tagBFP vs mGL Gate' + str(gate) \n",
    "    h = custom_density_plot(xcat='mGL-A',ycat='TagBFP-A', hue=hue, data=data_now_now, points = 10000, hue_order =hue_order, \n",
    "                                plottitle=plottitle, \n",
    "                                palette=palette, alpha=0, type = ['scatter'], \n",
    "                                vline = [200], hline=200)\n",
    "    h.savefig(figure_folder+ plottitle + '.png',dpi=300,bbox_inches='tight')"
   ]
  },
  {
   "cell_type": "code",
   "execution_count": null,
   "metadata": {},
   "outputs": [],
   "source": [
    "iRFP670_gates_list = [200, 500, 1000, 5000, 10000] \n",
    "TagBFP_gate = 200\n",
    "conds = pd.unique( data_now['bioreplicate_cond_rept'])\n",
    "\n",
    "# Calculated values\n",
    "gate_column = []\n",
    "cond_column = []\n",
    "condID_column = []\n",
    "calculated_iRFP670fraction_column = []\n",
    "calculated_tagBFPfraction_column = []\n",
    "mGLgmean_column = []\n",
    "TagBFPgmean_column = []\n",
    "\n",
    "# Iterate through your list and calculate values\n",
    "for cond in conds:\n",
    "    for gate_now in iRFP670_gates_list:\n",
    "        #Get conditon \n",
    "        data_now_now = data_now[ data_now['bioreplicate_cond_rept'] == cond]\n",
    "        #Add to gate_column and cond_column\n",
    "        gate_column.append(gate_now); cond_column.append(cond)\n",
    "\n",
    "        #Cond now \n",
    "        condID =  data_now_now.loc[data_now_now['bioreplicate_cond_rept'] == cond, 'Rept.ZF.Cre'].values[0]\n",
    "        condID_column.append(condID)\n",
    "\n",
    "        #count before gating\n",
    "        data_count_all = data_now_now['FSC-A'].count() #Ungated iRFP670 now on the data_now\n",
    "        #display(data_count1)\n",
    "        #New dataframe with gated data\n",
    "        data_gated = data_now_now[ data_now_now['iRFP670-A'] > gate_now ]\n",
    "        #count after gating iRFP670 \n",
    "        data_count_gated = data_gated['FSC-A'].count() #GATED iRFP670 now on the data_now\n",
    "        #Calculate the gmean of mGL and tagBFP in this population \n",
    "        mGL_gmean = sp.stats.gmean(data_gated['mGL-A'])\n",
    "        mGLgmean_column.append(mGL_gmean)\n",
    "        TagBFP_gmean = sp.stats.gmean(data_gated['TagBFP-A'])\n",
    "        TagBFPgmean_column.append(TagBFP_gmean)\n",
    "\n",
    "        #calculate iRFP670 that was above the gate and add it to the column\n",
    "        iRFP670_fraction = data_count_gated/data_count_all\n",
    "        calculated_iRFP670fraction_column.append(iRFP670_fraction)\n",
    "        \n",
    "        #count amount tagBFP+ in the iRFP670gated population\n",
    "        data_count_tagBFPgate_iRFP670gate = data_gated[data_gated['TagBFP-A'] > TagBFP_gate]['FSC-A'].count()\n",
    "        TagBFP_fraction = data_count_tagBFPgate_iRFP670gate/data_count_gated\n",
    "        calculated_tagBFPfraction_column.append(TagBFP_fraction)\n",
    "\n",
    "\n",
    "# Create a dictionary with your data\n",
    "df = {'biorep_cond': cond_column, 'iRFP670 Gate': gate_column, \n",
    "        'fraction iRFP670':calculated_iRFP670fraction_column, \n",
    "         'fraction TagBFP': calculated_tagBFPfraction_column,\n",
    "          'condID': condID_column,\n",
    "           'mGL-A_gmean':mGLgmean_column, 'TagBFP-A_gmean': TagBFPgmean_column }\n",
    "\n",
    "# Create a DataFrame from the dictionary\n",
    "iRFP670analysis = pd.DataFrame(df)\n",
    "display(iRFP670analysis)"
   ]
  },
  {
   "cell_type": "code",
   "execution_count": null,
   "metadata": {},
   "outputs": [],
   "source": [
    "#Make summary plots based on the analysis \n",
    "\n",
    "#Plot summary plot for the desired statistics\n",
    "#List of stats to plot \n",
    "stats_plot = pd.array( ['fraction iRFP670', 'fraction TagBFP'])\n",
    "#set plotting parameters \n",
    "order = iRFP670_gates_list; palette = 'bright'; hue_order = conds; x = 'iRFP670 Gate'; hue='biorep_cond'; yscale= 'linear'\n",
    "ylim = [0.4, 1]\n",
    "\n",
    "#Select Data\n",
    "data_now1 = iRFP670analysis\n",
    "\n",
    "#Set p-value significance comparisons \n",
    "pairs = []\n",
    "\n",
    "for stat in stats_plot:\n",
    "    y = stat # set the stat to plot\n",
    "    plottitle = y + ' iRFP670gate analysis'\n",
    "    g = summary_plot( x=x, y=y, hue=hue, data=data_now1, pairs=pairs, yscale=yscale, ylim=ylim,\n",
    "                    x_rot=45, palette = palette, order=order, hue_order=hue_order, plottitle=plottitle)\n",
    "    g.figure.savefig(figure_folder + plottitle + '.svg',dpi=300,bbox_inches='tight')\n",
    "\n",
    "order = None; palette = 'bright'; hue_order = None; x = 'condID'; hue='iRFP670 Gate'; \n",
    "for stat in stats_plot:\n",
    "    y = stat # set the stat to plot\n",
    "    plottitle = y + ' iRFP670gate analysis no hue'\n",
    "    g = summary_plot( x=x, y=y, hue=hue, data=data_now1, pairs=pairs, yscale=yscale, ylim=ylim,\n",
    "                    x_rot=45, palette = palette, order=order, hue_order=hue_order, plottitle=plottitle)\n",
    "    g.figure.savefig(figure_folder + plottitle + '.svg',dpi=300,bbox_inches='tight')   "
   ]
  },
  {
   "cell_type": "code",
   "execution_count": null,
   "metadata": {},
   "outputs": [],
   "source": [
    "#Make summary plots based on the analysis \n",
    "\n",
    "#Plot summary plot for the desired statistics\n",
    "#List of stats to plot \n",
    "stats_plot = pd.array( ['mGL-A_gmean','TagBFP-A_gmean'])\n",
    "#set plotting parameters \n",
    "order = None; palette = 'bright'; hue_order = None; x = 'condID'; hue='iRFP670 Gate'; yscale= 'log'\n",
    "ylim = [1e1,1e6]\n",
    "\n",
    "#Select Data\n",
    "data_now = iRFP670analysis\n",
    "\n",
    "#Set p-value significance comparisons \n",
    "pairs = []\n",
    "\n",
    "for stat in stats_plot:\n",
    "    y = stat # set the stat to plot\n",
    "    plottitle = y + ' iRFP670gate analysis'\n",
    "    g = summary_plot( x=x, y=y, hue=hue, data=data_now, pairs=pairs, yscale=yscale, ylim=ylim,\n",
    "                    x_rot=45, palette = palette, order=order, hue_order=hue_order, plottitle=plottitle)\n",
    "    g.figure.savefig(figure_folder + plottitle + '.svg',dpi=300,bbox_inches='tight')"
   ]
  },
  {
   "cell_type": "markdown",
   "metadata": {},
   "source": [
    "# Analysis on iRFPGating - ZF37 "
   ]
  },
  {
   "cell_type": "code",
   "execution_count": null,
   "metadata": {},
   "outputs": [],
   "source": [
    "#Select the ungated data that is for +ZF37\n",
    "\n",
    "repts_now = pd.array( ['203bp', 'loxP control'])\n",
    "Cre_now =  pd.array( [ 'Cre', 'noCre' ])\n",
    "ZF_now = pd.array( ['ZF37'])\n",
    "\n",
    "data_now = data[ data['Rept'].isin(repts_now) ]\n",
    "data_now = data_now[ data_now['ZF'].isin(ZF_now) ]\n"
   ]
  },
  {
   "cell_type": "code",
   "execution_count": null,
   "metadata": {},
   "outputs": [],
   "source": [
    "# mRuby2 vs. mGL\n",
    "plot_name = ' mRuby2-A v iRFP670'\n",
    "\n",
    "#set the hue, hue_order, palette \n",
    "hue = 'bioreplicate_cond_rept'; palette = 'bright'; hue_order = None\n",
    "\n",
    "cond_list_now = cond_list_nounstained\n",
    "#cond_list_now = pd.array( ['ZF37. Cre']) #used for troubleshooting trying to get all replicates \n",
    "iRFP670_gates_list = [1, 200, 500, 1000, 5000, 10000] \n",
    "\n",
    "for gate in iRFP670_gates_list:\n",
    "    data_now_now = data_now[ data_now['iRFP670-A'] > gate]\n",
    "    plottitle = 'ZF37 conditions mRuby2 vs iRFP670 Gate' + str(gate) \n",
    "    g = custom_density_plot(xcat='iRFP670-A',ycat='mRuby2-A', hue=hue, data=data_now_now, points = 10000, hue_order =hue_order, \n",
    "                                plottitle=plottitle, \n",
    "                                palette=palette, alpha=0, type = ['scatter'], \n",
    "                                vline = iRFP670_gates_list, hline=200)\n",
    "    g.savefig(figure_folder+ plottitle + '.png',dpi=300,bbox_inches='tight')\n",
    "\n",
    "    plottitle = 'ZF37 conditions mRuby2 vs mGL Gate' + str(gate) \n",
    "    h = custom_density_plot(xcat='mGL-A',ycat='mRuby2-A', hue=hue, data=data_now_now, points = 10000, hue_order =hue_order, \n",
    "                                plottitle=plottitle, \n",
    "                                palette=palette, alpha=0, type = ['scatter'], \n",
    "                                vline = [200], hline=200)\n",
    "    h.savefig(figure_folder+ plottitle + '.png',dpi=300,bbox_inches='tight')"
   ]
  },
  {
   "cell_type": "code",
   "execution_count": null,
   "metadata": {},
   "outputs": [],
   "source": [
    "iRFP670_gates_list = [200, 500, 1000, 5000, 10000] \n",
    "TagBFP_gate = 200\n",
    "conds = pd.unique( data_now['bioreplicate_cond_rept'])\n",
    "\n",
    "# Calculated values\n",
    "gate_column = []\n",
    "cond_column = []\n",
    "condID_column = []\n",
    "calculated_iRFP670fraction_column = []\n",
    "calculated_mRuby2fraction_column = []\n",
    "mGLgmean_column = []\n",
    "mRuby2gmean_column = []\n",
    "\n",
    "# Iterate through your list and calculate values\n",
    "for cond in conds:\n",
    "    for gate_now in iRFP670_gates_list:\n",
    "        #Get conditon \n",
    "        data_now_now = data_now[ data_now['bioreplicate_cond_rept'] == cond]\n",
    "        #Add to gate_column and cond_column\n",
    "        gate_column.append(gate_now); cond_column.append(cond)\n",
    "\n",
    "        #Cond now \n",
    "        condID =  data_now_now.loc[data_now_now['bioreplicate_cond_rept'] == cond, 'Rept.ZF.Cre'].values[0]\n",
    "        condID_column.append(condID)\n",
    "\n",
    "        #count before gating\n",
    "        data_count_all = data_now_now['FSC-A'].count() #Ungated iRFP670 now on the data_now\n",
    "        #display(data_count1)\n",
    "        #New dataframe with gated data\n",
    "        data_gated = data_now_now[ data_now_now['iRFP670-A'] > gate_now ]\n",
    "        #count after gating iRFP670 \n",
    "        data_count_gated = data_gated['FSC-A'].count() #GATED iRFP670 now on the data_now\n",
    "        #Calculate the gmean of mGL and mRuby2 in this population \n",
    "        mGL_gmean = sp.stats.gmean(data_gated['mGL-A'])\n",
    "        mGLgmean_column.append(mGL_gmean)\n",
    "        mRuby2_gmean = sp.stats.gmean(data_gated['mRuby2-A'])\n",
    "        mRuby2gmean_column.append(mRuby2_gmean)\n",
    "\n",
    "        #calculate iRFP670 that was above the gate and add it to the column\n",
    "        iRFP670_fraction = data_count_gated/data_count_all\n",
    "        calculated_iRFP670fraction_column.append(iRFP670_fraction)\n",
    "        \n",
    "        #count amount tagBFP+ in the iRFP670gated population\n",
    "        data_count_mRuby2gate_iRFP670gate = data_gated[data_gated['mRuby2-A'] > 200]['FSC-A'].count()\n",
    "        mRuby2_fraction = data_count_mRuby2gate_iRFP670gate/data_count_gated\n",
    "        calculated_mRuby2fraction_column.append(mRuby2_fraction)\n",
    "\n",
    "\n",
    "# Create a dictionary with your data\n",
    "df = {'biorep_cond': cond_column, 'iRFP670 Gate': gate_column, \n",
    "        'fraction iRFP670':calculated_iRFP670fraction_column, \n",
    "         'fraction mRuby2': calculated_mRuby2fraction_column,\n",
    "          'condID': condID_column,\n",
    "           'mGL-A_gmean':mGLgmean_column, 'mRuby2-A_gmean': mRuby2gmean_column }\n",
    "\n",
    "# Create a DataFrame from the dictionary\n",
    "iRFP670analysis = pd.DataFrame(df)\n",
    "#display(iRFP670analysis)"
   ]
  },
  {
   "cell_type": "code",
   "execution_count": null,
   "metadata": {},
   "outputs": [],
   "source": [
    "#Make summary plots based on the analysis \n",
    "\n",
    "#Plot summary plot for the desired statistics\n",
    "#List of stats to plot \n",
    "stats_plot = pd.array( ['fraction iRFP670', 'fraction mRuby2'])\n",
    "#set plotting parameters \n",
    "order = iRFP670_gates_list; palette = 'bright'; hue_order = conds; x = 'iRFP670 Gate'; hue='biorep_cond'; yscale= 'linear'\n",
    "ylim = [0.4, 1]\n",
    "\n",
    "#Select Data\n",
    "data_now1 = iRFP670analysis\n",
    "\n",
    "#Set p-value significance comparisons \n",
    "pairs = []\n",
    "\n",
    "for stat in stats_plot:\n",
    "    y = stat # set the stat to plot\n",
    "    plottitle = y + ' iRFP670gate analysis ZF37'\n",
    "    g = summary_plot( x=x, y=y, hue=hue, data=data_now1, pairs=pairs, yscale=yscale, ylim=ylim,\n",
    "                    x_rot=45, palette = palette, order=order, hue_order=hue_order, plottitle=plottitle)\n",
    "    g.figure.savefig(figure_folder + plottitle + '.svg',dpi=300,bbox_inches='tight')\n",
    "\n",
    "order = None; palette = 'bright'; hue_order = None; x = 'condID'; hue='iRFP670 Gate'; \n",
    "for stat in stats_plot:\n",
    "    y = stat # set the stat to plot\n",
    "    plottitle = y + ' iRFP670gate no hue ZF37' \n",
    "    g = summary_plot( x=x, y=y, hue=hue, data=data_now1, pairs=pairs, yscale=yscale, ylim=ylim,\n",
    "                    x_rot=45, palette = palette, order=order, hue_order=hue_order, plottitle=plottitle)\n",
    "    g.figure.savefig(figure_folder + plottitle + '.svg',dpi=300,bbox_inches='tight')   "
   ]
  },
  {
   "cell_type": "code",
   "execution_count": null,
   "metadata": {},
   "outputs": [],
   "source": [
    "#Make summary plots based on the analysis \n",
    "\n",
    "#Plot summary plot for the desired statistics\n",
    "#List of stats to plot \n",
    "stats_plot = pd.array( ['mGL-A_gmean','mRuby2-A_gmean'])\n",
    "#set plotting parameters \n",
    "order = None; palette = 'bright'; hue_order = None; x = 'condID'; hue='iRFP670 Gate'; yscale= 'log'\n",
    "ylim = [1e1,1e6]\n",
    "\n",
    "#Select Data\n",
    "data_now = iRFP670analysis\n",
    "\n",
    "#Set p-value significance comparisons \n",
    "pairs = []\n",
    "\n",
    "for stat in stats_plot:\n",
    "    y = stat # set the stat to plot\n",
    "    plottitle = y + ' iRFP670gate analysis ZF37'\n",
    "    g = summary_plot( x=x, y=y, hue=hue, data=data_now, pairs=pairs, yscale=yscale, ylim=ylim,\n",
    "                    x_rot=45, palette = palette, order=order, hue_order=hue_order, plottitle=plottitle)\n",
    "    g.figure.savefig(figure_folder + plottitle + '.svg',dpi=300,bbox_inches='tight')"
   ]
  },
  {
   "cell_type": "markdown",
   "metadata": {},
   "source": []
  },
  {
   "cell_type": "markdown",
   "metadata": {},
   "source": []
  },
  {
   "cell_type": "markdown",
   "metadata": {},
   "source": []
  }
 ],
 "metadata": {
  "kernelspec": {
   "display_name": "newenv",
   "language": "python",
   "name": "python3"
  },
  "language_info": {
   "codemirror_mode": {
    "name": "ipython",
    "version": 3
   },
   "file_extension": ".py",
   "mimetype": "text/x-python",
   "name": "python",
   "nbconvert_exporter": "python",
   "pygments_lexer": "ipython3",
   "version": "3.9.1"
  }
 },
 "nbformat": 4,
 "nbformat_minor": 2
}
