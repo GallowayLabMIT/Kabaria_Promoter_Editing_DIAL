{
 "cells": [
  {
   "attachments": {},
   "cell_type": "markdown",
   "metadata": {},
   "source": [
    "Description"
   ]
  },
  {
   "cell_type": "code",
   "execution_count": 1,
   "metadata": {},
   "outputs": [],
   "source": [
    "# different genes"
   ]
  },
  {
   "attachments": {},
   "cell_type": "markdown",
   "metadata": {},
   "source": [
    "# Import Functions and Data"
   ]
  },
  {
   "cell_type": "code",
   "execution_count": 2,
   "metadata": {},
   "outputs": [],
   "source": [
    "import functions_paper_1\n",
    "import importlib\n",
    "from functions_paper_1 import *\n",
    "exec(open(\"functions_paper_1.py\").read())\n",
    "# Local path to Sharepoint (on your computer, change if you are a different user)\n",
    "#datadir = Path(Path('../datadir_yb.txt').read_text())\n",
    "datadir = Path(Path('../../datadir_srk.txt').read_text())\n",
    "figure_folder = './figs_2024_promoter_editing_paper/fig_diffGenes/'"
   ]
  },
  {
   "cell_type": "code",
   "execution_count": 3,
   "metadata": {},
   "outputs": [],
   "source": [
    "# Bioreplicates\n",
    "# 20240404flow_exp20240401_BioAp1_difgen\n",
    "# 20240404flow_exp20240401_BioAp2_difgen\n",
    "# 20240404flow_exp20240401_BioBp1_difgen\n",
    "# 20240404flow_exp20240401_BioBp2_difgen\n",
    "# 20240404flow_exp20240401_BioCp1_difgen\n",
    "# 20240404flow_exp20240401_BioCp2_difgen"
   ]
  },
  {
   "cell_type": "code",
   "execution_count": 4,
   "metadata": {},
   "outputs": [],
   "source": [
    "# Import Data - bioreplicate 1 \n",
    "folder = '20240404flow_exp20240401_BioAp1_difgen'\n",
    "file_path = datadir/'instruments'/'data'/'attune'/'Sneha'/folder/'export_singlets' #Assign file paths\n",
    "yaml_path = datadir/'instruments'/'data'/'attune'/'Sneha'/folder/'well_metadata.yaml' #Assign yaml paths \n",
    "data1 = rd.flow.load_csv_with_metadata(file_path, yaml_path) #Pull data\n",
    "data1['bioreplicate'] = '20240404flow_exp20240401_BioA' "
   ]
  },
  {
   "cell_type": "code",
   "execution_count": 5,
   "metadata": {},
   "outputs": [],
   "source": [
    "# Import Data - bioreplicate 1 \n",
    "folder = '20240404flow_exp20240401_BioAp2_difgen'\n",
    "file_path = datadir/'instruments'/'data'/'attune'/'Sneha'/folder/'export_singlets' #Assign file paths\n",
    "yaml_path = datadir/'instruments'/'data'/'attune'/'Sneha'/folder/'well_metadata.yaml' #Assign yaml paths \n",
    "data1_2 = rd.flow.load_csv_with_metadata(file_path, yaml_path) #Pull data\n",
    "data1_2['bioreplicate'] = '20240404flow_exp20240401_BioA' "
   ]
  },
  {
   "cell_type": "code",
   "execution_count": 6,
   "metadata": {},
   "outputs": [],
   "source": [
    "# Import Data - bioreplicate 2\n",
    "folder = '20240404flow_exp20240401_BioBp1_difgen'\n",
    "file_path = datadir/'instruments'/'data'/'attune'/'Sneha'/folder/'export_singlets' #Assign file paths\n",
    "yaml_path = datadir/'instruments'/'data'/'attune'/'Sneha'/folder/'well_metadata.yaml' #Assign yaml paths \n",
    "data2 = rd.flow.load_csv_with_metadata(file_path, yaml_path) #Pull data\n",
    "data2['bioreplicate'] = '20240404flow_exp20240401_BioB' "
   ]
  },
  {
   "cell_type": "code",
   "execution_count": 7,
   "metadata": {},
   "outputs": [],
   "source": [
    "# Import Data - bioreplicate 2\n",
    "folder = '20240404flow_exp20240401_BioBp2_difgen'\n",
    "file_path = datadir/'instruments'/'data'/'attune'/'Sneha'/folder/'export_singlets' #Assign file paths\n",
    "yaml_path = datadir/'instruments'/'data'/'attune'/'Sneha'/folder/'well_metadata.yaml' #Assign yaml paths \n",
    "data2_2 = rd.flow.load_csv_with_metadata(file_path, yaml_path) #Pull data\n",
    "data2_2['bioreplicate'] = '20240404flow_exp20240401_BioB' "
   ]
  },
  {
   "cell_type": "code",
   "execution_count": 8,
   "metadata": {},
   "outputs": [],
   "source": [
    "# Import Data - bioreplicate 3\n",
    "folder = '20240404flow_exp20240401_BioCp1_difgen'\n",
    "file_path = datadir/'instruments'/'data'/'attune'/'Sneha'/folder/'export_singlets' #Assign file paths\n",
    "yaml_path = datadir/'instruments'/'data'/'attune'/'Sneha'/folder/'well_metadata.yaml' #Assign yaml paths \n",
    "data3 = rd.flow.load_csv_with_metadata(file_path, yaml_path) #Pull data\n",
    "data3['bioreplicate'] = '20240404flow_exp20240401_BioC' "
   ]
  },
  {
   "cell_type": "code",
   "execution_count": 9,
   "metadata": {},
   "outputs": [],
   "source": [
    "# Import Data - bioreplicate 3\n",
    "folder = '20240404flow_exp20240401_BioCp2_difgen'\n",
    "file_path = datadir/'instruments'/'data'/'attune'/'Sneha'/folder/'export_singlets' #Assign file paths\n",
    "yaml_path = datadir/'instruments'/'data'/'attune'/'Sneha'/folder/'well_metadata.yaml' #Assign yaml paths \n",
    "data3_2 = rd.flow.load_csv_with_metadata(file_path, yaml_path) #Pull data\n",
    "data3_2['bioreplicate'] = '20240404flow_exp20240401_BioC' "
   ]
  },
  {
   "cell_type": "code",
   "execution_count": 10,
   "metadata": {},
   "outputs": [],
   "source": [
    "#merge data\n",
    "\n",
    "data = pd.concat([data1, data1_2, data2, data2_2, data3, data3_2], ignore_index=True)"
   ]
  },
  {
   "cell_type": "code",
   "execution_count": 11,
   "metadata": {},
   "outputs": [
    {
     "data": {
      "text/plain": [
       "Index(['reporter', 'Cre', 'ZF', 'well', 'population', 'FSC-A', 'FSC-H',\n",
       "       'FSC-W', 'SSC-A', 'SSC-H', 'SSC-W', 'mGL-A', 'mGL-H', 'mGL-W',\n",
       "       'iRFP670-A', 'iRFP670-H', 'iRFP670-W', 'TagBFP-A', 'TagBFP-H',\n",
       "       'TagBFP-W', 'Janelia Fluor 549-A', 'Janelia Fluor 549-H',\n",
       "       'Janelia Fluor 549-W', 'mCherry-A', 'mCherry-H', 'mCherry-W', 'Time',\n",
       "       'bioreplicate'],\n",
       "      dtype='object')"
      ]
     },
     "execution_count": 11,
     "metadata": {},
     "output_type": "execute_result"
    }
   ],
   "source": [
    "data.columns.unique()"
   ]
  },
  {
   "cell_type": "code",
   "execution_count": 12,
   "metadata": {},
   "outputs": [],
   "source": [
    "#No negatives \n",
    "data = data[data['mGL-A']>0] #no neg. eGFP\n",
    "data = data[data['TagBFP-A']>0] #no neg tagBFP\n",
    "data = data[data['mCherry-A']>0] #no neg mRuby\n",
    "data = data[data['Janelia Fluor 549-A']>0] #no neg mCherry\n",
    "data = data[data['iRFP670-A']>0] #no neg iRFP670\n",
    "data['log10 mGL-A'] = np.log10(data['mGL-A'])"
   ]
  },
  {
   "cell_type": "code",
   "execution_count": 13,
   "metadata": {},
   "outputs": [
    {
     "data": {
      "text/plain": [
       "array(['20240404flow_exp20240401_BioA', '20240404flow_exp20240401_BioB',\n",
       "       '20240404flow_exp20240401_BioC'], dtype=object)"
      ]
     },
     "execution_count": 13,
     "metadata": {},
     "output_type": "execute_result"
    }
   ],
   "source": [
    "data['bioreplicate'].unique()"
   ]
  },
  {
   "cell_type": "code",
   "execution_count": 14,
   "metadata": {},
   "outputs": [],
   "source": [
    "iRFP670_gate = 10000 \n",
    "data_iRFP670gated = data[ data['iRFP670-A'] > iRFP670_gate]"
   ]
  },
  {
   "cell_type": "code",
   "execution_count": 15,
   "metadata": {},
   "outputs": [
    {
     "name": "stderr",
     "output_type": "stream",
     "text": [
      "<ipython-input-15-b879651396b8>:2: SettingWithCopyWarning: \n",
      "A value is trying to be set on a copy of a slice from a DataFrame.\n",
      "Try using .loc[row_indexer,col_indexer] = value instead\n",
      "\n",
      "See the caveats in the documentation: https://pandas.pydata.org/pandas-docs/stable/user_guide/indexing.html#returning-a-view-versus-a-copy\n",
      "  data_iRFP670gated['Rept.Cre'] = data_iRFP670gated['reporter'] + '.' + data_iRFP670gated['Cre']\n",
      "<ipython-input-15-b879651396b8>:3: SettingWithCopyWarning: \n",
      "A value is trying to be set on a copy of a slice from a DataFrame.\n",
      "Try using .loc[row_indexer,col_indexer] = value instead\n",
      "\n",
      "See the caveats in the documentation: https://pandas.pydata.org/pandas-docs/stable/user_guide/indexing.html#returning-a-view-versus-a-copy\n",
      "  data_iRFP670gated['Rept.ZF.Cre'] = data_iRFP670gated['reporter'] + '.' +data_iRFP670gated['ZF'] + '.' + data_iRFP670gated['Cre']\n"
     ]
    }
   ],
   "source": [
    "#Combine ZF and Cre Conditions \n",
    "data_iRFP670gated['Rept.Cre'] = data_iRFP670gated['reporter'] + '.' + data_iRFP670gated['Cre']\n",
    "data_iRFP670gated['Rept.ZF.Cre'] = data_iRFP670gated['reporter'] + '.' +data_iRFP670gated['ZF'] + '.' + data_iRFP670gated['Cre']\n",
    "data['Rept.ZF.Cre'] = data['reporter'] + '.' +data['ZF'] + '.' + data['Cre']"
   ]
  },
  {
   "cell_type": "code",
   "execution_count": 16,
   "metadata": {},
   "outputs": [
    {
     "name": "stderr",
     "output_type": "stream",
     "text": [
      "<ipython-input-16-2d076e67cfc6>:2: SettingWithCopyWarning: \n",
      "A value is trying to be set on a copy of a slice from a DataFrame.\n",
      "Try using .loc[row_indexer,col_indexer] = value instead\n",
      "\n",
      "See the caveats in the documentation: https://pandas.pydata.org/pandas-docs/stable/user_guide/indexing.html#returning-a-view-versus-a-copy\n",
      "  data_iRFP670gated['cond'] = data_iRFP670gated['ZF'] + '. ' + data_iRFP670gated['Cre']\n"
     ]
    }
   ],
   "source": [
    "#Combine ZF and Cre Conditions \n",
    "data_iRFP670gated['cond'] = data_iRFP670gated['ZF'] + '. ' + data_iRFP670gated['Cre']\n",
    "data['cond'] = data['ZF'] + '. ' + data['Cre']"
   ]
  },
  {
   "cell_type": "code",
   "execution_count": 17,
   "metadata": {},
   "outputs": [
    {
     "data": {
      "text/plain": [
       "array(['ZF37. Cre', 'ZF43. noCre', 'ZF43. Cre', 'ZF37. noCre',\n",
       "       'none. none', 'noZF. noCre', 'noZF. Cre'], dtype=object)"
      ]
     },
     "metadata": {},
     "output_type": "display_data"
    }
   ],
   "source": [
    "# Make a list of all the cond. This will be used for the order later on \n",
    "cond_list = pd.unique( data_iRFP670gated['cond'])\n",
    "display(cond_list)\n",
    "\n",
    "cond_list_nounstained = pd.array([ 'noZF. noCre', 'noZF. Cre', 'ZF43. noCre', 'ZF43. Cre',\n",
    "       'ZF37. noCre','ZF37. Cre' ] )\n",
    "\n",
    "cond_list_ZF43 = pd.array([ 'ZF43. noCre', 'ZF43. Cre'] )\n",
    "cond_list_ZF37 = pd.array([ 'ZF37. noCre', 'ZF37. Cre'] )"
   ]
  },
  {
   "cell_type": "code",
   "execution_count": 18,
   "metadata": {},
   "outputs": [
    {
     "name": "stderr",
     "output_type": "stream",
     "text": [
      "<ipython-input-18-0163c46f2255>:2: SettingWithCopyWarning: \n",
      "A value is trying to be set on a copy of a slice from a DataFrame.\n",
      "Try using .loc[row_indexer,col_indexer] = value instead\n",
      "\n",
      "See the caveats in the documentation: https://pandas.pydata.org/pandas-docs/stable/user_guide/indexing.html#returning-a-view-versus-a-copy\n",
      "  data_iRFP670gated['bioreplicate_cond_rept'] = data_iRFP670gated['bioreplicate'] + '. ' + data_iRFP670gated['reporter'] + '. ' + data_iRFP670gated['ZF'] + '. ' + data_iRFP670gated['Cre']\n"
     ]
    }
   ],
   "source": [
    "#Combine bioreplicate, ZF and Cre Conditions \n",
    "data_iRFP670gated['bioreplicate_cond_rept'] = data_iRFP670gated['bioreplicate'] + '. ' + data_iRFP670gated['reporter'] + '. ' + data_iRFP670gated['ZF'] + '. ' + data_iRFP670gated['Cre']\n",
    "data['bioreplicate_cond_rept'] = data['bioreplicate'] + '. ' + data['reporter'] + '. ' + data['ZF'] + '. ' + data['Cre']"
   ]
  },
  {
   "cell_type": "code",
   "execution_count": 19,
   "metadata": {},
   "outputs": [
    {
     "data": {
      "text/plain": [
       "array(['20240404flow_exp20240401_BioA. 203bp_mRuby. ZF37. Cre',\n",
       "       '20240404flow_exp20240401_BioA. 203bp_mRuby. ZF43. noCre',\n",
       "       '20240404flow_exp20240401_BioA. 203bp_mRuby. ZF43. Cre',\n",
       "       '20240404flow_exp20240401_BioA. 203bp_mRuby. ZF37. noCre',\n",
       "       '20240404flow_exp20240401_BioA. 79bp_mRuby. ZF37. Cre',\n",
       "       '20240404flow_exp20240401_BioA. 79bp_mRuby. ZF43. noCre',\n",
       "       '20240404flow_exp20240401_BioA. 79bp_mRuby. ZF43. Cre',\n",
       "       '20240404flow_exp20240401_BioA. 79bp_mRuby. ZF37. noCre',\n",
       "       '20240404flow_exp20240401_BioA. 27bp_mRuby. ZF37. Cre',\n",
       "       '20240404flow_exp20240401_BioA. 27bp_mRuby. ZF43. noCre',\n",
       "       '20240404flow_exp20240401_BioA. 27bp_mRuby. ZF43. Cre',\n",
       "       '20240404flow_exp20240401_BioA. 27bp_mRuby. ZF37. noCre',\n",
       "       '20240404flow_exp20240401_BioA. 203bp_p53-Halo. ZF37. Cre',\n",
       "       '20240404flow_exp20240401_BioA. 203bp_p53-Halo. ZF43. noCre',\n",
       "       '20240404flow_exp20240401_BioA. 203bp_p53-Halo. ZF43. Cre',\n",
       "       '20240404flow_exp20240401_BioA. 203bp_p53-Halo. ZF37. noCre',\n",
       "       '20240404flow_exp20240401_BioA. 203bp_HRAS-mCherry. ZF37. Cre',\n",
       "       '20240404flow_exp20240401_BioA. 203bp_HRAS-mCherry. ZF43. noCre',\n",
       "       '20240404flow_exp20240401_BioA. 203bp_HRAS-mCherry. ZF43. Cre',\n",
       "       '20240404flow_exp20240401_BioA. 203bp_HRAS-mCherry. ZF37. noCre',\n",
       "       '20240404flow_exp20240401_BioA. 203bp_mGL-mCherry. ZF37. Cre',\n",
       "       '20240404flow_exp20240401_BioA. 203bp_mGL-mCherry. ZF43. noCre',\n",
       "       '20240404flow_exp20240401_BioA. 203bp_mGL-mCherry. ZF43. Cre',\n",
       "       '20240404flow_exp20240401_BioA. 203bp_mGL-mCherry. ZF37. noCre',\n",
       "       '20240404flow_exp20240401_BioA. none. none. none',\n",
       "       '20240404flow_exp20240401_BioA. 203bp_mRuby. noZF. noCre',\n",
       "       '20240404flow_exp20240401_BioA. 203bp_mRuby. noZF. Cre',\n",
       "       '20240404flow_exp20240401_BioA. 79bp_mRuby. noZF. noCre',\n",
       "       '20240404flow_exp20240401_BioA. 79bp_mRuby. noZF. Cre',\n",
       "       '20240404flow_exp20240401_BioA. 27bp_mRuby. noZF. noCre',\n",
       "       '20240404flow_exp20240401_BioA. 27bp_mRuby. noZF. Cre',\n",
       "       '20240404flow_exp20240401_BioA. 203bp_p53-Halo. noZF. noCre',\n",
       "       '20240404flow_exp20240401_BioA. 203bp_p53-Halo. noZF. Cre',\n",
       "       '20240404flow_exp20240401_BioA. 203bp_HRAS-mCherry. noZF. noCre',\n",
       "       '20240404flow_exp20240401_BioA. 203bp_HRAS-mCherry. noZF. Cre',\n",
       "       '20240404flow_exp20240401_BioA. 203bp_mGL-mCherry. noZF. noCre',\n",
       "       '20240404flow_exp20240401_BioA. 203bp_mGL-mCherry. noZF. Cre',\n",
       "       '20240404flow_exp20240401_BioB. 203bp_mRuby. ZF37. Cre',\n",
       "       '20240404flow_exp20240401_BioB. 203bp_mRuby. ZF43. noCre',\n",
       "       '20240404flow_exp20240401_BioB. 203bp_mRuby. ZF43. Cre',\n",
       "       '20240404flow_exp20240401_BioB. 203bp_mRuby. ZF37. noCre',\n",
       "       '20240404flow_exp20240401_BioB. 79bp_mRuby. ZF37. Cre',\n",
       "       '20240404flow_exp20240401_BioB. 79bp_mRuby. ZF43. noCre',\n",
       "       '20240404flow_exp20240401_BioB. 79bp_mRuby. ZF43. Cre',\n",
       "       '20240404flow_exp20240401_BioB. 79bp_mRuby. ZF37. noCre',\n",
       "       '20240404flow_exp20240401_BioB. 27bp_mRuby. ZF37. Cre',\n",
       "       '20240404flow_exp20240401_BioB. 27bp_mRuby. ZF43. noCre',\n",
       "       '20240404flow_exp20240401_BioB. 27bp_mRuby. ZF43. Cre',\n",
       "       '20240404flow_exp20240401_BioB. 27bp_mRuby. ZF37. noCre',\n",
       "       '20240404flow_exp20240401_BioB. 203bp_p53-Halo. ZF37. Cre',\n",
       "       '20240404flow_exp20240401_BioB. 203bp_p53-Halo. ZF43. noCre',\n",
       "       '20240404flow_exp20240401_BioB. 203bp_p53-Halo. ZF43. Cre',\n",
       "       '20240404flow_exp20240401_BioB. 203bp_p53-Halo. ZF37. noCre',\n",
       "       '20240404flow_exp20240401_BioB. 203bp_HRAS-mCherry. ZF37. Cre',\n",
       "       '20240404flow_exp20240401_BioB. 203bp_HRAS-mCherry. ZF43. noCre',\n",
       "       '20240404flow_exp20240401_BioB. 203bp_HRAS-mCherry. ZF43. Cre',\n",
       "       '20240404flow_exp20240401_BioB. 203bp_HRAS-mCherry. ZF37. noCre',\n",
       "       '20240404flow_exp20240401_BioB. 203bp_mGL-mCherry. ZF37. Cre',\n",
       "       '20240404flow_exp20240401_BioB. 203bp_mGL-mCherry. ZF43. noCre',\n",
       "       '20240404flow_exp20240401_BioB. 203bp_mGL-mCherry. ZF43. Cre',\n",
       "       '20240404flow_exp20240401_BioB. 203bp_mGL-mCherry. ZF37. noCre',\n",
       "       '20240404flow_exp20240401_BioB. none. none. none',\n",
       "       '20240404flow_exp20240401_BioB. 203bp_mRuby. noZF. noCre',\n",
       "       '20240404flow_exp20240401_BioB. 203bp_mRuby. noZF. Cre',\n",
       "       '20240404flow_exp20240401_BioB. 79bp_mRuby. noZF. noCre',\n",
       "       '20240404flow_exp20240401_BioB. 79bp_mRuby. noZF. Cre',\n",
       "       '20240404flow_exp20240401_BioB. 27bp_mRuby. noZF. noCre',\n",
       "       '20240404flow_exp20240401_BioB. 27bp_mRuby. noZF. Cre',\n",
       "       '20240404flow_exp20240401_BioB. 203bp_p53-Halo. noZF. noCre',\n",
       "       '20240404flow_exp20240401_BioB. 203bp_p53-Halo. noZF. Cre',\n",
       "       '20240404flow_exp20240401_BioB. 203bp_HRAS-mCherry. noZF. noCre',\n",
       "       '20240404flow_exp20240401_BioB. 203bp_HRAS-mCherry. noZF. Cre',\n",
       "       '20240404flow_exp20240401_BioB. 203bp_mGL-mCherry. noZF. noCre',\n",
       "       '20240404flow_exp20240401_BioB. 203bp_mGL-mCherry. noZF. Cre',\n",
       "       '20240404flow_exp20240401_BioC. 203bp_mRuby. ZF37. Cre',\n",
       "       '20240404flow_exp20240401_BioC. 203bp_mRuby. ZF43. noCre',\n",
       "       '20240404flow_exp20240401_BioC. 203bp_mRuby. ZF43. Cre',\n",
       "       '20240404flow_exp20240401_BioC. 203bp_mRuby. ZF37. noCre',\n",
       "       '20240404flow_exp20240401_BioC. 79bp_mRuby. ZF37. Cre',\n",
       "       '20240404flow_exp20240401_BioC. 79bp_mRuby. ZF43. noCre',\n",
       "       '20240404flow_exp20240401_BioC. 79bp_mRuby. ZF43. Cre',\n",
       "       '20240404flow_exp20240401_BioC. 79bp_mRuby. ZF37. noCre',\n",
       "       '20240404flow_exp20240401_BioC. 27bp_mRuby. ZF37. Cre',\n",
       "       '20240404flow_exp20240401_BioC. 27bp_mRuby. ZF43. noCre',\n",
       "       '20240404flow_exp20240401_BioC. 27bp_mRuby. ZF43. Cre',\n",
       "       '20240404flow_exp20240401_BioC. 27bp_mRuby. ZF37. noCre',\n",
       "       '20240404flow_exp20240401_BioC. 203bp_p53-Halo. ZF37. Cre',\n",
       "       '20240404flow_exp20240401_BioC. 203bp_p53-Halo. ZF43. noCre',\n",
       "       '20240404flow_exp20240401_BioC. 203bp_p53-Halo. ZF43. Cre',\n",
       "       '20240404flow_exp20240401_BioC. 203bp_p53-Halo. ZF37. noCre',\n",
       "       '20240404flow_exp20240401_BioC. 203bp_HRAS-mCherry. ZF37. Cre',\n",
       "       '20240404flow_exp20240401_BioC. 203bp_HRAS-mCherry. ZF43. noCre',\n",
       "       '20240404flow_exp20240401_BioC. 203bp_HRAS-mCherry. ZF43. Cre',\n",
       "       '20240404flow_exp20240401_BioC. 203bp_HRAS-mCherry. ZF37. noCre',\n",
       "       '20240404flow_exp20240401_BioC. 203bp_mGL-mCherry. ZF37. Cre',\n",
       "       '20240404flow_exp20240401_BioC. 203bp_mGL-mCherry. ZF43. noCre',\n",
       "       '20240404flow_exp20240401_BioC. 203bp_mGL-mCherry. ZF43. Cre',\n",
       "       '20240404flow_exp20240401_BioC. 203bp_mGL-mCherry. ZF37. noCre',\n",
       "       '20240404flow_exp20240401_BioC. none. none. none',\n",
       "       '20240404flow_exp20240401_BioC. 203bp_mRuby. noZF. noCre',\n",
       "       '20240404flow_exp20240401_BioC. 203bp_mRuby. noZF. Cre',\n",
       "       '20240404flow_exp20240401_BioC. 79bp_mRuby. noZF. noCre',\n",
       "       '20240404flow_exp20240401_BioC. 79bp_mRuby. noZF. Cre',\n",
       "       '20240404flow_exp20240401_BioC. 27bp_mRuby. noZF. noCre',\n",
       "       '20240404flow_exp20240401_BioC. 27bp_mRuby. noZF. Cre',\n",
       "       '20240404flow_exp20240401_BioC. 203bp_p53-Halo. noZF. noCre',\n",
       "       '20240404flow_exp20240401_BioC. 203bp_p53-Halo. noZF. Cre',\n",
       "       '20240404flow_exp20240401_BioC. 203bp_HRAS-mCherry. noZF. noCre',\n",
       "       '20240404flow_exp20240401_BioC. 203bp_HRAS-mCherry. noZF. Cre',\n",
       "       '20240404flow_exp20240401_BioC. 203bp_mGL-mCherry. noZF. noCre',\n",
       "       '20240404flow_exp20240401_BioC. 203bp_mGL-mCherry. noZF. Cre'],\n",
       "      dtype=object)"
      ]
     },
     "metadata": {},
     "output_type": "display_data"
    }
   ],
   "source": [
    "conditions = pd.unique(data_iRFP670gated.bioreplicate_cond_rept)\n",
    "display(conditions)"
   ]
  },
  {
   "attachments": {},
   "cell_type": "markdown",
   "metadata": {},
   "source": [
    "# Analysis starts here"
   ]
  },
  {
   "attachments": {},
   "cell_type": "markdown",
   "metadata": {},
   "source": [
    "# Joint Plot"
   ]
  },
  {
   "cell_type": "code",
   "execution_count": null,
   "metadata": {},
   "outputs": [],
   "source": [
    "# tagBFP vs. mGL\n",
    "plot_name = ' tagBFP v mGL'\n",
    "\n",
    "#set the hue, hue_order, palette \n",
    "hue = 'bioreplicate_cond_rept' #########biorep, cre\n",
    "palette = 'bright'; hue_order = None\n",
    "\n",
    "cond_list_now = cond_list_ZF43\n",
    "#cond_list_now = pd.array( ['ZF37. Cre']) #used for troubleshooting trying to get all replicates \n",
    "\n",
    "#Interate through the different conditions \n",
    "for cond in cond_list_now: \n",
    "    data_now = data_iRFP670gated[ data_iRFP670gated['cond']== cond]\n",
    "    #data_now = data_now[data_now['bioreplicate'] == '20240120flow_exp20240117_p1'] #used for troubleshooting trying to get all replicates \n",
    "    #display(data_now)\n",
    "    plottitle = cond + plot_name\n",
    "    g = custom_density_plot(xcat='mGL-A',ycat='TagBFP-A', hue=hue, data=data_now, points = 10000, hue_order =hue_order, \n",
    "                            plottitle=plottitle, \n",
    "                            palette=palette, alpha=0, type = ['contour'])\n",
    "    g.savefig(figure_folder+ plottitle + '.svg',dpi=300,bbox_inches='tight')"
   ]
  },
  {
   "cell_type": "code",
   "execution_count": null,
   "metadata": {},
   "outputs": [],
   "source": [
    "# tagBFP vs. mGL\n",
    "plot_name = ' tagBFP v mGL'\n",
    "\n",
    "#set the hue, hue_order, palette \n",
    "hue = 'bioreplicate_cond_rept' #########biorep, cre\n",
    "palette = 'bright'; hue_order = None\n",
    "\n",
    "cond_list_now = cond_list_ZF37\n",
    "#cond_list_now = pd.array( ['ZF37. Cre']) #used for troubleshooting trying to get all replicates \n",
    "\n",
    "#Interate through the different conditions \n",
    "for cond in cond_list_now: \n",
    "    data_now = data_iRFP670gated[ data_iRFP670gated['cond']== cond]\n",
    "    #data_now = data_now[data_now['bioreplicate'] == '20240120flow_exp20240117_p1'] #used for troubleshooting trying to get all replicates \n",
    "    #display(data_now)\n",
    "    plottitle = cond + plot_name\n",
    "    g = custom_density_plot(xcat='mGL-A',ycat='TagBFP-A', hue=hue, data=data_now, points = 10000, hue_order =hue_order, \n",
    "                            plottitle=plottitle, \n",
    "                            palette=palette, alpha=0, type = ['contour'])\n",
    "    #g.savefig(figure_folder+ plottitle + '.svg',dpi=300,bbox_inches='tight')"
   ]
  },
  {
   "cell_type": "code",
   "execution_count": null,
   "metadata": {},
   "outputs": [],
   "source": [
    "# tagBFP vs. mCherry\n",
    "plot_name = ' tagBFP v mCherry'\n",
    "\n",
    "#set the hue, hue_order, palette \n",
    "hue = 'bioreplicate_cond_rept' #########biorep, cre\n",
    "palette = 'bright'; hue_order = None\n",
    "\n",
    "cond_list_now = cond_list_ZF43\n",
    "#cond_list_now = pd.array( ['ZF37. Cre']) #used for troubleshooting trying to get all replicates \n",
    "\n",
    "#Interate through the different conditions \n",
    "for cond in cond_list_now: \n",
    "    data_now = data_iRFP670gated[ data_iRFP670gated['cond']== cond]\n",
    "    #data_now = data_now[data_now['bioreplicate'] == '20240120flow_exp20240117_p1'] #used for troubleshooting trying to get all replicates \n",
    "    #display(data_now)\n",
    "    plottitle = cond + plot_name\n",
    "    g = custom_density_plot(xcat='mCherry-A',ycat='TagBFP-A', hue=hue, data=data_now, points = 10000, hue_order =hue_order, \n",
    "                            plottitle=plottitle, \n",
    "                            palette=palette, alpha=0, type = ['contour'])\n",
    "    #g.savefig(figure_folder+ plottitle + '.svg',dpi=300,bbox_inches='tight')"
   ]
  },
  {
   "cell_type": "code",
   "execution_count": null,
   "metadata": {},
   "outputs": [],
   "source": [
    "# tagBFP vs. mCherry\n",
    "plot_name = ' tagBFP v mCherry'\n",
    "\n",
    "#set the hue, hue_order, palette \n",
    "hue = 'bioreplicate_cond_rept' #########biorep, cre\n",
    "palette = 'bright'; hue_order = None\n",
    "\n",
    "cond_list_now = cond_list_ZF37\n",
    "#cond_list_now = pd.array( ['ZF37. Cre']) #used for troubleshooting trying to get all replicates \n",
    "\n",
    "#Interate through the different conditions \n",
    "for cond in cond_list_now: \n",
    "    data_now = data_iRFP670gated[ data_iRFP670gated['cond']== cond]\n",
    "    #data_now = data_now[data_now['bioreplicate'] == '20240120flow_exp20240117_p1'] #used for troubleshooting trying to get all replicates \n",
    "    #display(data_now)\n",
    "    plottitle = cond + plot_name\n",
    "    g = custom_density_plot(xcat='mCherry-A',ycat='TagBFP-A', hue=hue, data=data_now, points = 10000, hue_order =hue_order, \n",
    "                            plottitle=plottitle, \n",
    "                            palette=palette, alpha=0, type = ['contour'])\n",
    "    #g.savefig(figure_folder+ plottitle + '.svg',dpi=300,bbox_inches='tight')"
   ]
  },
  {
   "cell_type": "code",
   "execution_count": null,
   "metadata": {},
   "outputs": [],
   "source": [
    "# tagBFP vs. Janelia\n",
    "plot_name = ' tagBFP v Janelia'\n",
    "\n",
    "#set the hue, hue_order, palette \n",
    "hue = 'bioreplicate_cond_rept' #########biorep, cre\n",
    "palette = 'bright'; hue_order = None\n",
    "\n",
    "cond_list_now = cond_list_ZF43\n",
    "#cond_list_now = pd.array( ['ZF37. Cre']) #used for troubleshooting trying to get all replicates \n",
    "\n",
    "#Interate through the different conditions \n",
    "for cond in cond_list_now: \n",
    "    data_now = data_iRFP670gated[ data_iRFP670gated['cond']== cond]\n",
    "    #data_now = data_now[data_now['bioreplicate'] == '20240120flow_exp20240117_p1'] #used for troubleshooting trying to get all replicates \n",
    "    #display(data_now)\n",
    "    plottitle = cond + plot_name\n",
    "    g = custom_density_plot(xcat='Janelia Fluor 549-A',ycat='TagBFP-A', hue=hue, data=data_now, points = 10000, hue_order =hue_order, \n",
    "                            plottitle=plottitle, \n",
    "                            palette=palette, alpha=0, type = ['contour'])\n",
    "    #g.savefig(figure_folder+ plottitle + '.svg',dpi=300,bbox_inches='tight')"
   ]
  },
  {
   "cell_type": "code",
   "execution_count": null,
   "metadata": {},
   "outputs": [],
   "source": [
    "# tagBFP vs. Janelia\n",
    "plot_name = ' tagBFP v Janelia'\n",
    "\n",
    "#set the hue, hue_order, palette \n",
    "hue = 'bioreplicate_cond_rept' #########biorep, cre\n",
    "palette = 'bright'; hue_order = None\n",
    "\n",
    "cond_list_now = cond_list_ZF37\n",
    "#cond_list_now = pd.array( ['ZF37. Cre']) #used for troubleshooting trying to get all replicates \n",
    "\n",
    "#Interate through the different conditions \n",
    "for cond in cond_list_now: \n",
    "    data_now = data_iRFP670gated[ data_iRFP670gated['cond']== cond]\n",
    "    #data_now = data_now[data_now['bioreplicate'] == '20240120flow_exp20240117_p1'] #used for troubleshooting trying to get all replicates \n",
    "    #display(data_now)\n",
    "    plottitle = cond + plot_name\n",
    "    g = custom_density_plot(xcat='Janelia Fluor 549-A',ycat='TagBFP-A', hue=hue, data=data_now, points = 10000, hue_order =hue_order, \n",
    "                            plottitle=plottitle, \n",
    "                            palette=palette, alpha=0, type = ['contour'])\n",
    "    #g.savefig(figure_folder+ plottitle + '.svg',dpi=300,bbox_inches='tight')"
   ]
  },
  {
   "attachments": {},
   "cell_type": "markdown",
   "metadata": {},
   "source": [
    "# Summary stats calculation and plots start here"
   ]
  },
  {
   "attachments": {},
   "cell_type": "markdown",
   "metadata": {},
   "source": [
    "Summary plots"
   ]
  },
  {
   "cell_type": "code",
   "execution_count": null,
   "metadata": {},
   "outputs": [],
   "source": [
    "display(cond_list)"
   ]
  },
  {
   "cell_type": "markdown",
   "metadata": {},
   "source": [
    "## Summary stats calculation"
   ]
  },
  {
   "cell_type": "code",
   "execution_count": 33,
   "metadata": {},
   "outputs": [
    {
     "data": {
      "text/html": [
       "<div>\n",
       "<style scoped>\n",
       "    .dataframe tbody tr th:only-of-type {\n",
       "        vertical-align: middle;\n",
       "    }\n",
       "\n",
       "    .dataframe tbody tr th {\n",
       "        vertical-align: top;\n",
       "    }\n",
       "\n",
       "    .dataframe thead th {\n",
       "        text-align: right;\n",
       "    }\n",
       "</style>\n",
       "<table border=\"1\" class=\"dataframe\">\n",
       "  <thead>\n",
       "    <tr style=\"text-align: right;\">\n",
       "      <th></th>\n",
       "      <th>reporter</th>\n",
       "      <th>ZF</th>\n",
       "      <th>Cre</th>\n",
       "      <th>mGL-A_gmean</th>\n",
       "      <th>TagBFP-A_gmean</th>\n",
       "      <th>mCherry-A_gmean</th>\n",
       "      <th>Janelia Fluor 549-A_gmean</th>\n",
       "    </tr>\n",
       "  </thead>\n",
       "  <tbody>\n",
       "    <tr>\n",
       "      <th>0</th>\n",
       "      <td>203bp_HRAS-mCherry</td>\n",
       "      <td>ZF37</td>\n",
       "      <td>Cre</td>\n",
       "      <td>36.038852</td>\n",
       "      <td>842.896609</td>\n",
       "      <td>436.561898</td>\n",
       "      <td>1765.439224</td>\n",
       "    </tr>\n",
       "    <tr>\n",
       "      <th>1</th>\n",
       "      <td>203bp_HRAS-mCherry</td>\n",
       "      <td>ZF37</td>\n",
       "      <td>Cre</td>\n",
       "      <td>40.314388</td>\n",
       "      <td>760.231895</td>\n",
       "      <td>911.561705</td>\n",
       "      <td>3568.552439</td>\n",
       "    </tr>\n",
       "    <tr>\n",
       "      <th>2</th>\n",
       "      <td>203bp_HRAS-mCherry</td>\n",
       "      <td>ZF37</td>\n",
       "      <td>Cre</td>\n",
       "      <td>35.685553</td>\n",
       "      <td>562.430100</td>\n",
       "      <td>554.758408</td>\n",
       "      <td>2176.025174</td>\n",
       "    </tr>\n",
       "    <tr>\n",
       "      <th>3</th>\n",
       "      <td>203bp_HRAS-mCherry</td>\n",
       "      <td>ZF37</td>\n",
       "      <td>noCre</td>\n",
       "      <td>36.295719</td>\n",
       "      <td>749.769157</td>\n",
       "      <td>93.030124</td>\n",
       "      <td>470.020284</td>\n",
       "    </tr>\n",
       "    <tr>\n",
       "      <th>4</th>\n",
       "      <td>203bp_HRAS-mCherry</td>\n",
       "      <td>ZF37</td>\n",
       "      <td>noCre</td>\n",
       "      <td>35.127290</td>\n",
       "      <td>768.085268</td>\n",
       "      <td>141.820393</td>\n",
       "      <td>702.643792</td>\n",
       "    </tr>\n",
       "    <tr>\n",
       "      <th>...</th>\n",
       "      <td>...</td>\n",
       "      <td>...</td>\n",
       "      <td>...</td>\n",
       "      <td>...</td>\n",
       "      <td>...</td>\n",
       "      <td>...</td>\n",
       "      <td>...</td>\n",
       "    </tr>\n",
       "    <tr>\n",
       "      <th>106</th>\n",
       "      <td>79bp_mRuby</td>\n",
       "      <td>noZF</td>\n",
       "      <td>noCre</td>\n",
       "      <td>48.048763</td>\n",
       "      <td>42.269900</td>\n",
       "      <td>47.661016</td>\n",
       "      <td>225.095627</td>\n",
       "    </tr>\n",
       "    <tr>\n",
       "      <th>107</th>\n",
       "      <td>79bp_mRuby</td>\n",
       "      <td>noZF</td>\n",
       "      <td>noCre</td>\n",
       "      <td>46.304005</td>\n",
       "      <td>48.397912</td>\n",
       "      <td>145.264203</td>\n",
       "      <td>1101.135391</td>\n",
       "    </tr>\n",
       "    <tr>\n",
       "      <th>108</th>\n",
       "      <td>none</td>\n",
       "      <td>none</td>\n",
       "      <td>none</td>\n",
       "      <td>3262.000000</td>\n",
       "      <td>1271.000000</td>\n",
       "      <td>1080.000000</td>\n",
       "      <td>4514.000000</td>\n",
       "    </tr>\n",
       "    <tr>\n",
       "      <th>109</th>\n",
       "      <td>none</td>\n",
       "      <td>none</td>\n",
       "      <td>none</td>\n",
       "      <td>51.572932</td>\n",
       "      <td>402.636883</td>\n",
       "      <td>45.917780</td>\n",
       "      <td>384.373030</td>\n",
       "    </tr>\n",
       "    <tr>\n",
       "      <th>110</th>\n",
       "      <td>none</td>\n",
       "      <td>none</td>\n",
       "      <td>none</td>\n",
       "      <td>2368.282633</td>\n",
       "      <td>594.403765</td>\n",
       "      <td>1442.520363</td>\n",
       "      <td>5814.225609</td>\n",
       "    </tr>\n",
       "  </tbody>\n",
       "</table>\n",
       "<p>111 rows × 7 columns</p>\n",
       "</div>"
      ],
      "text/plain": [
       "               reporter    ZF    Cre  mGL-A_gmean  TagBFP-A_gmean  \\\n",
       "0    203bp_HRAS-mCherry  ZF37    Cre    36.038852      842.896609   \n",
       "1    203bp_HRAS-mCherry  ZF37    Cre    40.314388      760.231895   \n",
       "2    203bp_HRAS-mCherry  ZF37    Cre    35.685553      562.430100   \n",
       "3    203bp_HRAS-mCherry  ZF37  noCre    36.295719      749.769157   \n",
       "4    203bp_HRAS-mCherry  ZF37  noCre    35.127290      768.085268   \n",
       "..                  ...   ...    ...          ...             ...   \n",
       "106          79bp_mRuby  noZF  noCre    48.048763       42.269900   \n",
       "107          79bp_mRuby  noZF  noCre    46.304005       48.397912   \n",
       "108                none  none   none  3262.000000     1271.000000   \n",
       "109                none  none   none    51.572932      402.636883   \n",
       "110                none  none   none  2368.282633      594.403765   \n",
       "\n",
       "     mCherry-A_gmean  Janelia Fluor 549-A_gmean  \n",
       "0         436.561898                1765.439224  \n",
       "1         911.561705                3568.552439  \n",
       "2         554.758408                2176.025174  \n",
       "3          93.030124                 470.020284  \n",
       "4         141.820393                 702.643792  \n",
       "..               ...                        ...  \n",
       "106        47.661016                 225.095627  \n",
       "107       145.264203                1101.135391  \n",
       "108      1080.000000                4514.000000  \n",
       "109        45.917780                 384.373030  \n",
       "110      1442.520363                5814.225609  \n",
       "\n",
       "[111 rows x 7 columns]"
      ]
     },
     "metadata": {},
     "output_type": "display_data"
    }
   ],
   "source": [
    "df = data_iRFP670gated\n",
    "\n",
    "# only 3 reps on same day\n",
    "#df = data_iRFP670gated[data_iRFP670gated['bioreplicate'] != '20240309flow_exp20240306_p3'] #choose dataframe\n",
    "\n",
    "#Decide how to group. The last parameter will be the condition that it is group by by last ('well' or 'bioreplicate')\n",
    "by = ['reporter', 'ZF', 'Cre','cond','bioreplicate_cond_rept','Rept.ZF.Cre','Rept.Cre','bioreplicate'] #how to filter results, columns \n",
    "x = ['mGL-A', 'TagBFP-A', 'mCherry-A', 'Janelia Fluor 549-A'] #which parameter to calculate results on\n",
    "stat = [sp.stats.gmean, np.median, np.std, np.mean] #statistics to calculate\n",
    "s_bioreplicate = calc_stats(df,by,x,stat) #calculate statistics \n",
    "#display(s_bioreplicate) #display results, use for troublshooting\n",
    "\n",
    "s_bioreplicate[['reporter', 'ZF', 'Cre',\n",
    "        'mGL-A_gmean', 'TagBFP-A_gmean', 'mCherry-A_gmean','Janelia Fluor 549-A_gmean']].to_excel('Fig5I-K_S24_diffGenes.xlsx',index=False)\n",
    "\n",
    "display(s_bioreplicate[['reporter', 'ZF', 'Cre',\n",
    "        'mGL-A_gmean', 'TagBFP-A_gmean', 'mCherry-A_gmean','Janelia Fluor 549-A_gmean']])"
   ]
  },
  {
   "cell_type": "markdown",
   "metadata": {},
   "source": [
    "## Fold Change Calculation"
   ]
  },
  {
   "cell_type": "code",
   "execution_count": 21,
   "metadata": {},
   "outputs": [],
   "source": [
    "s_bioreplicate['bioreplicate.reporter.ZF'] = s_bioreplicate['bioreplicate'] + '.' + s_bioreplicate['reporter'] + '.' + s_bioreplicate['ZF'] \n"
   ]
  },
  {
   "cell_type": "code",
   "execution_count": 22,
   "metadata": {},
   "outputs": [
    {
     "data": {
      "text/html": [
       "<div>\n",
       "<style scoped>\n",
       "    .dataframe tbody tr th:only-of-type {\n",
       "        vertical-align: middle;\n",
       "    }\n",
       "\n",
       "    .dataframe tbody tr th {\n",
       "        vertical-align: top;\n",
       "    }\n",
       "\n",
       "    .dataframe thead th {\n",
       "        text-align: right;\n",
       "    }\n",
       "</style>\n",
       "<table border=\"1\" class=\"dataframe\">\n",
       "  <thead>\n",
       "    <tr style=\"text-align: right;\">\n",
       "      <th></th>\n",
       "      <th>reporter</th>\n",
       "      <th>ZF</th>\n",
       "      <th>Cre</th>\n",
       "      <th>Fold Change_mean</th>\n",
       "      <th>Fraction</th>\n",
       "      <th>Count</th>\n",
       "    </tr>\n",
       "  </thead>\n",
       "  <tbody>\n",
       "    <tr>\n",
       "      <th>0</th>\n",
       "      <td>203bp_HRAS-mCherry</td>\n",
       "      <td>ZF37</td>\n",
       "      <td>Cre</td>\n",
       "      <td>5.379886</td>\n",
       "      <td>0.5</td>\n",
       "      <td>3</td>\n",
       "    </tr>\n",
       "    <tr>\n",
       "      <th>1</th>\n",
       "      <td>203bp_HRAS-mCherry</td>\n",
       "      <td>ZF37</td>\n",
       "      <td>noCre</td>\n",
       "      <td>5.379886</td>\n",
       "      <td>0.5</td>\n",
       "      <td>3</td>\n",
       "    </tr>\n",
       "    <tr>\n",
       "      <th>2</th>\n",
       "      <td>203bp_HRAS-mCherry</td>\n",
       "      <td>ZF43</td>\n",
       "      <td>Cre</td>\n",
       "      <td>2.270437</td>\n",
       "      <td>0.5</td>\n",
       "      <td>3</td>\n",
       "    </tr>\n",
       "    <tr>\n",
       "      <th>3</th>\n",
       "      <td>203bp_HRAS-mCherry</td>\n",
       "      <td>ZF43</td>\n",
       "      <td>noCre</td>\n",
       "      <td>2.270437</td>\n",
       "      <td>0.5</td>\n",
       "      <td>3</td>\n",
       "    </tr>\n",
       "    <tr>\n",
       "      <th>4</th>\n",
       "      <td>203bp_HRAS-mCherry</td>\n",
       "      <td>noZF</td>\n",
       "      <td>Cre</td>\n",
       "      <td>1.116944</td>\n",
       "      <td>0.5</td>\n",
       "      <td>3</td>\n",
       "    </tr>\n",
       "    <tr>\n",
       "      <th>5</th>\n",
       "      <td>203bp_HRAS-mCherry</td>\n",
       "      <td>noZF</td>\n",
       "      <td>noCre</td>\n",
       "      <td>1.116944</td>\n",
       "      <td>0.5</td>\n",
       "      <td>3</td>\n",
       "    </tr>\n",
       "    <tr>\n",
       "      <th>6</th>\n",
       "      <td>203bp_mGL-mCherry</td>\n",
       "      <td>ZF37</td>\n",
       "      <td>Cre</td>\n",
       "      <td>4.227240</td>\n",
       "      <td>0.5</td>\n",
       "      <td>3</td>\n",
       "    </tr>\n",
       "    <tr>\n",
       "      <th>7</th>\n",
       "      <td>203bp_mGL-mCherry</td>\n",
       "      <td>ZF37</td>\n",
       "      <td>noCre</td>\n",
       "      <td>4.227240</td>\n",
       "      <td>0.5</td>\n",
       "      <td>3</td>\n",
       "    </tr>\n",
       "    <tr>\n",
       "      <th>8</th>\n",
       "      <td>203bp_mGL-mCherry</td>\n",
       "      <td>ZF43</td>\n",
       "      <td>Cre</td>\n",
       "      <td>1.811894</td>\n",
       "      <td>0.5</td>\n",
       "      <td>3</td>\n",
       "    </tr>\n",
       "    <tr>\n",
       "      <th>9</th>\n",
       "      <td>203bp_mGL-mCherry</td>\n",
       "      <td>ZF43</td>\n",
       "      <td>noCre</td>\n",
       "      <td>1.811894</td>\n",
       "      <td>0.5</td>\n",
       "      <td>3</td>\n",
       "    </tr>\n",
       "    <tr>\n",
       "      <th>10</th>\n",
       "      <td>203bp_mGL-mCherry</td>\n",
       "      <td>noZF</td>\n",
       "      <td>Cre</td>\n",
       "      <td>1.252469</td>\n",
       "      <td>0.5</td>\n",
       "      <td>3</td>\n",
       "    </tr>\n",
       "    <tr>\n",
       "      <th>11</th>\n",
       "      <td>203bp_mGL-mCherry</td>\n",
       "      <td>noZF</td>\n",
       "      <td>noCre</td>\n",
       "      <td>1.252469</td>\n",
       "      <td>0.5</td>\n",
       "      <td>3</td>\n",
       "    </tr>\n",
       "    <tr>\n",
       "      <th>12</th>\n",
       "      <td>203bp_mRuby</td>\n",
       "      <td>ZF37</td>\n",
       "      <td>Cre</td>\n",
       "      <td>2.071008</td>\n",
       "      <td>0.5</td>\n",
       "      <td>3</td>\n",
       "    </tr>\n",
       "    <tr>\n",
       "      <th>13</th>\n",
       "      <td>203bp_mRuby</td>\n",
       "      <td>ZF37</td>\n",
       "      <td>noCre</td>\n",
       "      <td>2.071008</td>\n",
       "      <td>0.5</td>\n",
       "      <td>3</td>\n",
       "    </tr>\n",
       "    <tr>\n",
       "      <th>14</th>\n",
       "      <td>203bp_mRuby</td>\n",
       "      <td>ZF43</td>\n",
       "      <td>Cre</td>\n",
       "      <td>1.256317</td>\n",
       "      <td>0.5</td>\n",
       "      <td>3</td>\n",
       "    </tr>\n",
       "    <tr>\n",
       "      <th>15</th>\n",
       "      <td>203bp_mRuby</td>\n",
       "      <td>ZF43</td>\n",
       "      <td>noCre</td>\n",
       "      <td>1.256317</td>\n",
       "      <td>0.5</td>\n",
       "      <td>3</td>\n",
       "    </tr>\n",
       "    <tr>\n",
       "      <th>16</th>\n",
       "      <td>203bp_mRuby</td>\n",
       "      <td>noZF</td>\n",
       "      <td>Cre</td>\n",
       "      <td>0.980576</td>\n",
       "      <td>0.5</td>\n",
       "      <td>3</td>\n",
       "    </tr>\n",
       "    <tr>\n",
       "      <th>17</th>\n",
       "      <td>203bp_mRuby</td>\n",
       "      <td>noZF</td>\n",
       "      <td>noCre</td>\n",
       "      <td>0.980576</td>\n",
       "      <td>0.5</td>\n",
       "      <td>3</td>\n",
       "    </tr>\n",
       "    <tr>\n",
       "      <th>18</th>\n",
       "      <td>203bp_p53-Halo</td>\n",
       "      <td>ZF37</td>\n",
       "      <td>Cre</td>\n",
       "      <td>6.791693</td>\n",
       "      <td>0.5</td>\n",
       "      <td>3</td>\n",
       "    </tr>\n",
       "    <tr>\n",
       "      <th>19</th>\n",
       "      <td>203bp_p53-Halo</td>\n",
       "      <td>ZF37</td>\n",
       "      <td>noCre</td>\n",
       "      <td>6.791693</td>\n",
       "      <td>0.5</td>\n",
       "      <td>3</td>\n",
       "    </tr>\n",
       "    <tr>\n",
       "      <th>20</th>\n",
       "      <td>203bp_p53-Halo</td>\n",
       "      <td>ZF43</td>\n",
       "      <td>Cre</td>\n",
       "      <td>3.612683</td>\n",
       "      <td>0.5</td>\n",
       "      <td>3</td>\n",
       "    </tr>\n",
       "    <tr>\n",
       "      <th>21</th>\n",
       "      <td>203bp_p53-Halo</td>\n",
       "      <td>ZF43</td>\n",
       "      <td>noCre</td>\n",
       "      <td>3.612683</td>\n",
       "      <td>0.5</td>\n",
       "      <td>3</td>\n",
       "    </tr>\n",
       "    <tr>\n",
       "      <th>22</th>\n",
       "      <td>203bp_p53-Halo</td>\n",
       "      <td>noZF</td>\n",
       "      <td>Cre</td>\n",
       "      <td>1.309490</td>\n",
       "      <td>0.5</td>\n",
       "      <td>3</td>\n",
       "    </tr>\n",
       "    <tr>\n",
       "      <th>23</th>\n",
       "      <td>203bp_p53-Halo</td>\n",
       "      <td>noZF</td>\n",
       "      <td>noCre</td>\n",
       "      <td>1.309490</td>\n",
       "      <td>0.5</td>\n",
       "      <td>3</td>\n",
       "    </tr>\n",
       "    <tr>\n",
       "      <th>24</th>\n",
       "      <td>27bp_mRuby</td>\n",
       "      <td>ZF37</td>\n",
       "      <td>Cre</td>\n",
       "      <td>1.848798</td>\n",
       "      <td>0.5</td>\n",
       "      <td>3</td>\n",
       "    </tr>\n",
       "    <tr>\n",
       "      <th>25</th>\n",
       "      <td>27bp_mRuby</td>\n",
       "      <td>ZF37</td>\n",
       "      <td>noCre</td>\n",
       "      <td>1.848798</td>\n",
       "      <td>0.5</td>\n",
       "      <td>3</td>\n",
       "    </tr>\n",
       "    <tr>\n",
       "      <th>26</th>\n",
       "      <td>27bp_mRuby</td>\n",
       "      <td>ZF43</td>\n",
       "      <td>Cre</td>\n",
       "      <td>1.146178</td>\n",
       "      <td>0.5</td>\n",
       "      <td>3</td>\n",
       "    </tr>\n",
       "    <tr>\n",
       "      <th>27</th>\n",
       "      <td>27bp_mRuby</td>\n",
       "      <td>ZF43</td>\n",
       "      <td>noCre</td>\n",
       "      <td>1.146178</td>\n",
       "      <td>0.5</td>\n",
       "      <td>3</td>\n",
       "    </tr>\n",
       "    <tr>\n",
       "      <th>28</th>\n",
       "      <td>27bp_mRuby</td>\n",
       "      <td>noZF</td>\n",
       "      <td>Cre</td>\n",
       "      <td>1.202326</td>\n",
       "      <td>0.5</td>\n",
       "      <td>3</td>\n",
       "    </tr>\n",
       "    <tr>\n",
       "      <th>29</th>\n",
       "      <td>27bp_mRuby</td>\n",
       "      <td>noZF</td>\n",
       "      <td>noCre</td>\n",
       "      <td>1.202326</td>\n",
       "      <td>0.5</td>\n",
       "      <td>3</td>\n",
       "    </tr>\n",
       "    <tr>\n",
       "      <th>30</th>\n",
       "      <td>79bp_mRuby</td>\n",
       "      <td>ZF37</td>\n",
       "      <td>Cre</td>\n",
       "      <td>2.473628</td>\n",
       "      <td>0.5</td>\n",
       "      <td>3</td>\n",
       "    </tr>\n",
       "    <tr>\n",
       "      <th>31</th>\n",
       "      <td>79bp_mRuby</td>\n",
       "      <td>ZF37</td>\n",
       "      <td>noCre</td>\n",
       "      <td>2.473628</td>\n",
       "      <td>0.5</td>\n",
       "      <td>3</td>\n",
       "    </tr>\n",
       "    <tr>\n",
       "      <th>32</th>\n",
       "      <td>79bp_mRuby</td>\n",
       "      <td>ZF43</td>\n",
       "      <td>Cre</td>\n",
       "      <td>1.578064</td>\n",
       "      <td>0.5</td>\n",
       "      <td>3</td>\n",
       "    </tr>\n",
       "    <tr>\n",
       "      <th>33</th>\n",
       "      <td>79bp_mRuby</td>\n",
       "      <td>ZF43</td>\n",
       "      <td>noCre</td>\n",
       "      <td>1.578064</td>\n",
       "      <td>0.5</td>\n",
       "      <td>3</td>\n",
       "    </tr>\n",
       "    <tr>\n",
       "      <th>34</th>\n",
       "      <td>79bp_mRuby</td>\n",
       "      <td>noZF</td>\n",
       "      <td>Cre</td>\n",
       "      <td>0.843679</td>\n",
       "      <td>0.5</td>\n",
       "      <td>3</td>\n",
       "    </tr>\n",
       "    <tr>\n",
       "      <th>35</th>\n",
       "      <td>79bp_mRuby</td>\n",
       "      <td>noZF</td>\n",
       "      <td>noCre</td>\n",
       "      <td>0.843679</td>\n",
       "      <td>0.5</td>\n",
       "      <td>3</td>\n",
       "    </tr>\n",
       "  </tbody>\n",
       "</table>\n",
       "</div>"
      ],
      "text/plain": [
       "              reporter    ZF    Cre  Fold Change_mean  Fraction  Count\n",
       "0   203bp_HRAS-mCherry  ZF37    Cre          5.379886       0.5      3\n",
       "1   203bp_HRAS-mCherry  ZF37  noCre          5.379886       0.5      3\n",
       "2   203bp_HRAS-mCherry  ZF43    Cre          2.270437       0.5      3\n",
       "3   203bp_HRAS-mCherry  ZF43  noCre          2.270437       0.5      3\n",
       "4   203bp_HRAS-mCherry  noZF    Cre          1.116944       0.5      3\n",
       "5   203bp_HRAS-mCherry  noZF  noCre          1.116944       0.5      3\n",
       "6    203bp_mGL-mCherry  ZF37    Cre          4.227240       0.5      3\n",
       "7    203bp_mGL-mCherry  ZF37  noCre          4.227240       0.5      3\n",
       "8    203bp_mGL-mCherry  ZF43    Cre          1.811894       0.5      3\n",
       "9    203bp_mGL-mCherry  ZF43  noCre          1.811894       0.5      3\n",
       "10   203bp_mGL-mCherry  noZF    Cre          1.252469       0.5      3\n",
       "11   203bp_mGL-mCherry  noZF  noCre          1.252469       0.5      3\n",
       "12         203bp_mRuby  ZF37    Cre          2.071008       0.5      3\n",
       "13         203bp_mRuby  ZF37  noCre          2.071008       0.5      3\n",
       "14         203bp_mRuby  ZF43    Cre          1.256317       0.5      3\n",
       "15         203bp_mRuby  ZF43  noCre          1.256317       0.5      3\n",
       "16         203bp_mRuby  noZF    Cre          0.980576       0.5      3\n",
       "17         203bp_mRuby  noZF  noCre          0.980576       0.5      3\n",
       "18      203bp_p53-Halo  ZF37    Cre          6.791693       0.5      3\n",
       "19      203bp_p53-Halo  ZF37  noCre          6.791693       0.5      3\n",
       "20      203bp_p53-Halo  ZF43    Cre          3.612683       0.5      3\n",
       "21      203bp_p53-Halo  ZF43  noCre          3.612683       0.5      3\n",
       "22      203bp_p53-Halo  noZF    Cre          1.309490       0.5      3\n",
       "23      203bp_p53-Halo  noZF  noCre          1.309490       0.5      3\n",
       "24          27bp_mRuby  ZF37    Cre          1.848798       0.5      3\n",
       "25          27bp_mRuby  ZF37  noCre          1.848798       0.5      3\n",
       "26          27bp_mRuby  ZF43    Cre          1.146178       0.5      3\n",
       "27          27bp_mRuby  ZF43  noCre          1.146178       0.5      3\n",
       "28          27bp_mRuby  noZF    Cre          1.202326       0.5      3\n",
       "29          27bp_mRuby  noZF  noCre          1.202326       0.5      3\n",
       "30          79bp_mRuby  ZF37    Cre          2.473628       0.5      3\n",
       "31          79bp_mRuby  ZF37  noCre          2.473628       0.5      3\n",
       "32          79bp_mRuby  ZF43    Cre          1.578064       0.5      3\n",
       "33          79bp_mRuby  ZF43  noCre          1.578064       0.5      3\n",
       "34          79bp_mRuby  noZF    Cre          0.843679       0.5      3\n",
       "35          79bp_mRuby  noZF  noCre          0.843679       0.5      3"
      ]
     },
     "metadata": {},
     "output_type": "display_data"
    }
   ],
   "source": [
    "# Data set for the \n",
    "data_now = s_bioreplicate\n",
    "fold_change_map = {'bio':'Fold Change to no Cre', \n",
    "                     'none': 'NA'}\n",
    "for bio in pd.unique( data_now['bioreplicate.reporter.ZF']):\n",
    "       data_rep = data_now[ data_now['bioreplicate.reporter.ZF']==bio]\n",
    "       #display(data_rep)\n",
    "       reporter = data_rep['reporter'].iloc[0]\n",
    "       if reporter != 'none':\n",
    "              stats_plot_list = { #different stat for each reporter\n",
    "                     '203bp_mRuby': pd.array(['mCherry-A_gmean']), \n",
    "                     '79bp_mRuby': pd.array(['mCherry-A_gmean']), \n",
    "                     '27bp_mRuby':pd.array(['mCherry-A_gmean']), \n",
    "                     '203bp_p53-Halo': pd.array(['Janelia Fluor 549-A_gmean']), \n",
    "                     '203bp_HRAS-mCherry': pd.array(['mCherry-A_gmean']), \n",
    "                     '203bp_mGL-mCherry': pd.array([ 'mCherry-A_gmean' ,'mGL-A_gmean'])\n",
    "                     }\n",
    "              channel = stats_plot_list[reporter][0]\n",
    "              data_rep_Cre = data_rep[ data_rep['Cre'] =='Cre' ][channel].iloc[0]\n",
    "              data_rep_noCre = data_rep[ data_rep['Cre'] =='noCre' ][channel].iloc[0]\n",
    "              fold_change_map[bio] = data_rep_Cre/data_rep_noCre\n",
    "data_now['Fold Change'] = data_now['bioreplicate.reporter.ZF'].map(fold_change_map)\n",
    "#display(data_now)\n",
    "\n",
    "#Calculate average fold change\n",
    "df = data_now\n",
    "x = ['Fold Change']\n",
    "stat = [np.mean]\n",
    "by = ['reporter', 'ZF', 'Cre']\n",
    "data_foldchange = calc_stats(df,by,x,stat)\n",
    "display(data_foldchange)"
   ]
  },
  {
   "cell_type": "markdown",
   "metadata": {},
   "source": [
    "## Summary Plot Plotting all together"
   ]
  },
  {
   "cell_type": "code",
   "execution_count": null,
   "metadata": {},
   "outputs": [
    {
     "data": {
      "image/png": "[encoded data removed]",
      "text/plain": [
       "<Figure size 432x288 with 1 Axes>"
      ]
     },
     "metadata": {
      "needs_background": "light"
     },
     "output_type": "display_data"
    },
    {
     "data": {
      "image/png": "[encoded data removed]",
      "text/plain": [
       "<Figure size 432x288 with 1 Axes>"
      ]
     },
     "metadata": {
      "needs_background": "light"
     },
     "output_type": "display_data"
    },
    {
     "data": {
      "image/png": "[encoded data removed]",
      "text/plain": [
       "<Figure size 432x288 with 1 Axes>"
      ]
     },
     "metadata": {
      "needs_background": "light"
     },
     "output_type": "display_data"
    },
    {
     "data": {
      "image/png": "[encoded data removed]",
      "text/plain": [
       "<Figure size 432x288 with 1 Axes>"
      ]
     },
     "metadata": {
      "needs_background": "light"
     },
     "output_type": "display_data"
    },
    {
     "data": {
      "text/plain": [
       "<Figure size 432x288 with 0 Axes>"
      ]
     },
     "metadata": {},
     "output_type": "display_data"
    }
   ],
   "source": [
    "#Plot summary plot for the desired statistics\n",
    "\n",
    "palette = {\n",
    "           'noZF. noCre': 'grey',\n",
    "           'noZF. Cre': 'black',\n",
    "           'ZF43. noCre': 'deepskyblue',\n",
    "           'ZF43. Cre': 'blue',\n",
    "           'ZF37. noCre': 'darksalmon',\n",
    "           'ZF37. Cre': 'red'\n",
    "}\n",
    "\n",
    "hue_order = pd.array([\n",
    "                      'noZF. noCre',\n",
    "                      'noZF. Cre',\n",
    "                      'ZF43. noCre',\n",
    "                      'ZF37. noCre',\n",
    "                      'ZF43. Cre',\n",
    "                      'ZF37. Cre'\n",
    "])\n",
    "\n",
    "\n",
    "#List of stats to plot \n",
    "stats_plot = pd.array( ['mGL-A_gmean', 'TagBFP-A_gmean', 'mCherry-A_gmean', 'Janelia Fluor 549-A_gmean'])\n",
    "#set plotting parameters \n",
    "order_repts = pd.array( ['203bp_p53-Halo', '203bp_HRAS-mCherry', '203bp_mGL-mCherry'])\n",
    "\n",
    "order = order_repts; palette = palette; hue_order = hue_order; x = 'reporter'; hue='cond'; yscale= 'log'\n",
    "# ylim = [1, 1e4]\n",
    "\n",
    "#Only plot some reporters\n",
    "data_now = s_bioreplicate[s_bioreplicate['reporter'].isin(order_repts)]\n",
    "data_now = data_now[data_now['cond'].isin(hue_order)]\n",
    "#display(data_now)\n",
    "\n",
    "#Set p-value significance comparisons \n",
    "pairs = [\n",
    "]\n",
    "\n",
    "for stat in stats_plot:\n",
    "    y = stat # set the stat to plot\n",
    "    plottitle = y + ' grouped bioreplicate'\n",
    "    plt.yscale(yscale)\n",
    "    g = summary_plot( x=x, y=y, hue=hue, data=data_now, pairs=pairs, yscale =yscale,\n",
    "                    x_rot=45, palette = palette, order=order, hue_order=hue_order, plottitle=plottitle)\n",
    "    #g.figure.savefig(figure_folder + plottitle + '.svg',dpi=300,bbox_inches='tight')"
   ]
  },
  {
   "attachments": {},
   "cell_type": "markdown",
   "metadata": {},
   "source": [
    "## Summary Plots / 1D Hist target gene for each rept separately "
   ]
  },
  {
   "cell_type": "code",
   "execution_count": null,
   "metadata": {},
   "outputs": [],
   "source": [
    "display(hue_order)"
   ]
  },
  {
   "cell_type": "code",
   "execution_count": null,
   "metadata": {},
   "outputs": [
    {
     "name": "stdout",
     "output_type": "stream",
     "text": [
      "p-value annotation legend:\n",
      "ns: 5.00e-02 < p <= 1.00e+00\n",
      "*: 1.00e-02 < p <= 5.00e-02\n",
      "**: 1.00e-03 < p <= 1.00e-02\n",
      "***: 1.00e-04 < p <= 1.00e-03\n",
      "****: p <= 1.00e-04\n",
      "\n",
      "noZF. noCre v.s. noZF. Cre: t-test independent samples, P_val=3.083e-02 stat=-3.269e+00\n",
      "ZF43. noCre v.s. ZF43. Cre: t-test independent samples, P_val=2.891e-04 stat=-1.186e+01\n",
      "ZF37. noCre v.s. ZF37. Cre: t-test independent samples, P_val=1.861e-02 stat=-3.830e+00\n",
      "noZF. Cre v.s. ZF43. noCre: t-test independent samples, P_val=3.279e-04 stat=-1.149e+01\n"
     ]
    },
    {
     "data": {
      "image/png": "[encoded data removed]",
      "text/plain": [
       "<Figure size 144x216 with 1 Axes>"
      ]
     },
     "metadata": {
      "needs_background": "light"
     },
     "output_type": "display_data"
    },
    {
     "data": {
      "text/plain": [
       "<Figure size 432x288 with 0 Axes>"
      ]
     },
     "metadata": {},
     "output_type": "display_data"
    },
    {
     "data": {
      "image/png": "[encoded data removed]",
      "text/plain": [
       "<Figure size 120x72 with 1 Axes>"
      ]
     },
     "metadata": {
      "needs_background": "light"
     },
     "output_type": "display_data"
    },
    {
     "name": "stdout",
     "output_type": "stream",
     "text": [
      "p-value annotation legend:\n",
      "ns: 5.00e-02 < p <= 1.00e+00\n",
      "*: 1.00e-02 < p <= 5.00e-02\n",
      "**: 1.00e-03 < p <= 1.00e-02\n",
      "***: 1.00e-04 < p <= 1.00e-03\n",
      "****: p <= 1.00e-04\n",
      "\n",
      "noZF. noCre v.s. noZF. Cre: t-test independent samples, P_val=9.417e-02 stat=-2.185e+00\n",
      "ZF43. noCre v.s. ZF43. Cre: t-test independent samples, P_val=4.650e-03 stat=-5.711e+00\n",
      "ZF37. noCre v.s. ZF37. Cre: t-test independent samples, P_val=2.239e-02 stat=-3.618e+00\n",
      "noZF. Cre v.s. ZF43. noCre: t-test independent samples, P_val=2.787e-03 stat=-6.564e+00\n"
     ]
    },
    {
     "data": {
      "image/png": "[encoded data removed]",
      "text/plain": [
       "<Figure size 144x216 with 1 Axes>"
      ]
     },
     "metadata": {
      "needs_background": "light"
     },
     "output_type": "display_data"
    },
    {
     "data": {
      "text/plain": [
       "<Figure size 432x288 with 0 Axes>"
      ]
     },
     "metadata": {},
     "output_type": "display_data"
    },
    {
     "data": {
      "image/png": "[encoded data removed]",
      "text/plain": [
       "<Figure size 120x72 with 1 Axes>"
      ]
     },
     "metadata": {
      "needs_background": "light"
     },
     "output_type": "display_data"
    },
    {
     "name": "stdout",
     "output_type": "stream",
     "text": [
      "p-value annotation legend:\n",
      "ns: 5.00e-02 < p <= 1.00e+00\n",
      "*: 1.00e-02 < p <= 5.00e-02\n",
      "**: 1.00e-03 < p <= 1.00e-02\n",
      "***: 1.00e-04 < p <= 1.00e-03\n",
      "****: p <= 1.00e-04\n",
      "\n",
      "noZF. noCre v.s. noZF. Cre: t-test independent samples, P_val=4.728e-02 stat=-2.831e+00\n",
      "ZF43. noCre v.s. ZF43. Cre: t-test independent samples, P_val=4.528e-03 stat=-5.753e+00\n",
      "ZF37. noCre v.s. ZF37. Cre: t-test independent samples, P_val=6.932e-04 stat=-9.472e+00\n",
      "noZF. Cre v.s. ZF43. noCre: t-test independent samples, P_val=1.262e-03 stat=-8.102e+00\n"
     ]
    },
    {
     "data": {
      "image/png": "[encoded data removed]",
      "text/plain": [
       "<Figure size 144x216 with 1 Axes>"
      ]
     },
     "metadata": {
      "needs_background": "light"
     },
     "output_type": "display_data"
    },
    {
     "name": "stdout",
     "output_type": "stream",
     "text": [
      "p-value annotation legend:\n",
      "ns: 5.00e-02 < p <= 1.00e+00\n",
      "*: 1.00e-02 < p <= 5.00e-02\n",
      "**: 1.00e-03 < p <= 1.00e-02\n",
      "***: 1.00e-04 < p <= 1.00e-03\n",
      "****: p <= 1.00e-04\n",
      "\n",
      "noZF. noCre v.s. noZF. Cre: t-test independent samples, P_val=6.142e-02 stat=-2.579e+00\n",
      "ZF43. noCre v.s. ZF43. Cre: t-test independent samples, P_val=3.637e-02 stat=-3.096e+00\n",
      "ZF37. noCre v.s. ZF37. Cre: t-test independent samples, P_val=5.746e-04 stat=-9.943e+00\n",
      "noZF. Cre v.s. ZF43. noCre: t-test independent samples, P_val=2.143e-03 stat=-7.043e+00\n"
     ]
    },
    {
     "data": {
      "text/plain": [
       "<Figure size 432x288 with 0 Axes>"
      ]
     },
     "metadata": {},
     "output_type": "display_data"
    },
    {
     "data": {
      "image/png": "[encoded data removed]",
      "text/plain": [
       "<Figure size 144x216 with 1 Axes>"
      ]
     },
     "metadata": {
      "needs_background": "light"
     },
     "output_type": "display_data"
    },
    {
     "data": {
      "text/plain": [
       "<Figure size 432x288 with 0 Axes>"
      ]
     },
     "metadata": {},
     "output_type": "display_data"
    },
    {
     "data": {
      "image/png": "[encoded data removed]",
      "text/plain": [
       "<Figure size 120x72 with 1 Axes>"
      ]
     },
     "metadata": {
      "needs_background": "light"
     },
     "output_type": "display_data"
    },
    {
     "data": {
      "image/png": "[encoded data removed]",
      "text/plain": [
       "<Figure size 120x72 with 1 Axes>"
      ]
     },
     "metadata": {
      "needs_background": "light"
     },
     "output_type": "display_data"
    }
   ],
   "source": [
    "#Plot summary plot for the desired statistics\n",
    "palette = {\n",
    "           'noZF. noCre': 'grey',\n",
    "           'noZF. Cre': 'black',\n",
    "           'ZF43. noCre': 'deepskyblue',\n",
    "           'ZF43. Cre': 'blue',\n",
    "           'ZF37. noCre': 'darksalmon',\n",
    "           'ZF37. Cre': 'red'\n",
    "}\n",
    "\n",
    "order = pd.array([\n",
    "    'noZF. noCre',\n",
    "    'noZF. Cre',\n",
    "    'ZF43. noCre',\n",
    "    'ZF43. Cre',\n",
    "    'ZF37. noCre',\n",
    "    'ZF37. Cre'\n",
    "])\n",
    "\n",
    "#List of stats to plot \n",
    "stats_plot_list = { #different stat for each reporter\n",
    "    '203bp_p53-Halo': pd.array(['Janelia Fluor 549-A_gmean']), \n",
    "    '203bp_HRAS-mCherry': pd.array(['mCherry-A_gmean']), \n",
    "    '203bp_mGL-mCherry': pd.array(['mGL-A_gmean', 'mCherry-A_gmean' ])\n",
    "}\n",
    "\n",
    "stats_plot_list_hist = { #different stat for each reporter\n",
    "    '203bp_p53-Halo': pd.array(['Janelia Fluor 549-A']), \n",
    "    '203bp_HRAS-mCherry': pd.array(['mCherry-A']), \n",
    "    '203bp_mGL-mCherry': pd.array(['mGL-A', 'mCherry-A' ])\n",
    "}\n",
    "\n",
    "hist_xlim = { #different stat for each reporter\n",
    "    '203bp_p53-Halo': [1e1, 1e6], \n",
    "    '203bp_HRAS-mCherry': [1e0, 0.5e5], \n",
    "    '203bp_mGL-mCherry':[1e0, 2e5]\n",
    "}\n",
    "\n",
    "#set plotting parameters \n",
    "repts = pd.array( [ '203bp_p53-Halo', '203bp_HRAS-mCherry', '203bp_mGL-mCherry'])\n",
    "\n",
    "palette = palette; hue_order = None; x = 'cond'; hue=None; yscale= 'log'\n",
    "# ylim = [1, 1e4]\n",
    "\n",
    "#Set p-value significance comparisons \n",
    "pairs = [ ['noZF. noCre', 'noZF. Cre'], \n",
    "         ['ZF43. noCre', 'ZF43. Cre'], \n",
    "         ['ZF37. noCre', 'ZF37. Cre'], \n",
    "         ['noZF. Cre', 'ZF43. noCre'], \n",
    "         #['ZF37. Cre', 'ZF43. Cre'], \n",
    "         #['ZF37. noCre', 'ZF43. noCre'], \n",
    "         #['ZF37. noCre', 'ZF43. Cre']\n",
    "]\n",
    "\n",
    "ylims = { #different stat for each reporter\n",
    "    '203bp_p53-Halo': [2e2, 1e5] , \n",
    "    '203bp_HRAS-mCherry': [3e1, 2e3] , \n",
    "    '203bp_mGL-mCherry': [3e1, 1e4] \n",
    "}\n",
    "\n",
    "\n",
    "for rept in repts: \n",
    "    stats_plot = stats_plot_list[rept]\n",
    "    stats_plot_hist = stats_plot_list_hist[rept]\n",
    "    ylim = ylims[rept]\n",
    "    for stat in stats_plot:\n",
    "        y = stat # set the stat to plot\n",
    "\n",
    "        #Summary Plots \n",
    "        data_now = s_bioreplicate[s_bioreplicate['reporter']==rept]\n",
    "        data_now = data_now[data_now['cond'].isin(order)]\n",
    "        xsize =2; ysize = 3\n",
    "        plottitle = rept + ' ' + stat\n",
    "        g = plt.figure(figsize=(xsize,ysize))\n",
    "        g = summary_plot( x=x, y=y, hue=hue, data=data_now, pairs=pairs, yscale =yscale,\n",
    "                         ylim = ylim,  axis_lines={'top': False, 'bottom': True, 'left': True, 'right': False},\n",
    "                        x_rot=45, palette = palette, order=order, hue_order=hue_order, plottitle=plottitle)\n",
    "        g.figure.savefig(figure_folder + plottitle + '.svg',dpi=300,bbox_inches='tight')\n",
    "\n",
    "    for stat in stats_plot_hist: \n",
    "        #Histogram \n",
    "        data_now = data_iRFP670gated[data_iRFP670gated['reporter']==rept]\n",
    "        data_now = data_now[data_now['cond'].isin(order)]\n",
    "        xsize =3; ysize = 3\n",
    "        parameters = pd.array([stat]) ; xlim = [1e0,1e6]; hue_hist='cond'; hueorder_hist=None\n",
    "        xsize_hist =  2.5/1.5\n",
    "        ysize_hist = 1.5/1.5\n",
    "        plottitle = rept + ' ' + stat + '_h'\n",
    "        g = plt.figure(figsize=(xsize_hist,ysize_hist))\n",
    "        g = custom_hist_plot( data_now, parameters, hue=hue_hist, palette=palette, hueorder=hueorder_hist, xsize=xsize_hist, ysize=ysize_hist, \n",
    "                             title='', alpha=0.05, legend=False,\n",
    "                            legendtitle='Condition', xlim=hist_xlim[rept])\n",
    "        g = g.get_figure()\n",
    "        g.savefig(figure_folder+ plottitle + '.svg',dpi=300,bbox_inches='tight')\n",
    "\n"
   ]
  },
  {
   "attachments": {},
   "cell_type": "markdown",
   "metadata": {},
   "source": [
    "## Summary plots TagBFP"
   ]
  },
  {
   "cell_type": "code",
   "execution_count": 27,
   "metadata": {},
   "outputs": [
    {
     "data": {
      "text/plain": [
       "array(['203bp_HRAS-mCherry.Cre', '203bp_HRAS-mCherry.noCre',\n",
       "       '203bp_mGL-mCherry.Cre', '203bp_mGL-mCherry.noCre',\n",
       "       '203bp_p53-Halo.Cre', '203bp_p53-Halo.noCre'], dtype=object)"
      ]
     },
     "metadata": {},
     "output_type": "display_data"
    }
   ],
   "source": [
    "repts = pd.array( [ '203bp_mGL-mCherry', '203bp_p53-Halo', '203bp_HRAS-mCherry'])\n",
    "data_now = s_bioreplicate[ s_bioreplicate['reporter'].isin(repts)]\n",
    "display( pd.unique(data_now['Rept.Cre']))"
   ]
  },
  {
   "cell_type": "code",
   "execution_count": 28,
   "metadata": {},
   "outputs": [
    {
     "name": "stdout",
     "output_type": "stream",
     "text": [
      "p-value annotation legend:\n",
      "ns: 5.00e-02 < p <= 1.00e+00\n",
      "*: 1.00e-02 < p <= 5.00e-02\n",
      "**: 1.00e-03 < p <= 1.00e-02\n",
      "***: 1.00e-04 < p <= 1.00e-03\n",
      "****: p <= 1.00e-04\n",
      "\n",
      "noZF_203bp_HRAS-mCherry.noCre v.s. noZF_203bp_HRAS-mCherry.Cre: t-test independent samples, P_val=5.346e-01 stat=6.787e-01\n",
      "ZF43_203bp_mGL-mCherry.noCre v.s. ZF43_203bp_mGL-mCherry.Cre: t-test independent samples, P_val=2.424e-02 stat=-3.530e+00\n",
      "ZF43_203bp_HRAS-mCherry.noCre v.s. ZF43_203bp_HRAS-mCherry.Cre: t-test independent samples, P_val=9.023e-01 stat=-1.308e-01\n",
      "ZF37_203bp_mGL-mCherry.noCre v.s. ZF37_203bp_mGL-mCherry.Cre: t-test independent samples, P_val=5.388e-01 stat=-6.712e-01\n",
      "ZF37_203bp_HRAS-mCherry.noCre v.s. ZF37_203bp_HRAS-mCherry.Cre: t-test independent samples, P_val=8.865e-01 stat=-1.520e-01\n",
      "noZF_203bp_mGL-mCherry.noCre v.s. noZF_203bp_mGL-mCherry.Cre: t-test independent samples, P_val=6.630e-01 stat=4.697e-01\n",
      "noZF_203bp_p53-Halo.noCre v.s. noZF_203bp_p53-Halo.Cre: t-test independent samples, P_val=5.930e-01 stat=-5.800e-01\n",
      "ZF43_203bp_p53-Halo.noCre v.s. ZF43_203bp_p53-Halo.Cre: t-test independent samples, P_val=9.170e-02 stat=-2.209e+00\n",
      "ZF37_203bp_p53-Halo.noCre v.s. ZF37_203bp_p53-Halo.Cre: t-test independent samples, P_val=1.205e-01 stat=1.968e+00\n"
     ]
    },
    {
     "data": {
      "image/png": "[encoded data removed]",
      "text/plain": [
       "<Figure size 288x144 with 1 Axes>"
      ]
     },
     "metadata": {
      "needs_background": "light"
     },
     "output_type": "display_data"
    },
    {
     "data": {
      "text/plain": [
       "<Figure size 432x288 with 0 Axes>"
      ]
     },
     "metadata": {},
     "output_type": "display_data"
    }
   ],
   "source": [
    "### Summary Plot for just TagBFP for all the reporters \n",
    "repts = pd.array( [ '203bp_mGL-mCherry', '203bp_p53-Halo', '203bp_HRAS-mCherry'])\n",
    "data_now = s_bioreplicate[ s_bioreplicate['reporter'].isin(repts)]\n",
    "\n",
    "x = 'ZF'\n",
    "order = pd.array( [ 'noZF', 'ZF43', 'ZF37'])\n",
    "y = 'TagBFP-A_gmean'\n",
    "hue = 'Rept.Cre'\n",
    "palette = 'tab20'\n",
    "hue_order = ['203bp_mGL-mCherry.noCre','203bp_mGL-mCherry.Cre', \n",
    "    '203bp_p53-Halo.noCre','203bp_p53-Halo.Cre',\n",
    "    '203bp_HRAS-mCherry.noCre','203bp_HRAS-mCherry.Cre' \n",
    "     ]\n",
    "yscale = 'log'\n",
    "ylim = [1e1, 1e5]\n",
    "xsize =4; ysize = 2\n",
    "pairs = [\n",
    "    [ ('noZF', '203bp_mGL-mCherry.noCre'),('noZF','203bp_mGL-mCherry.Cre')], \n",
    "    [ ('noZF', '203bp_HRAS-mCherry.noCre'),('noZF','203bp_HRAS-mCherry.Cre')], \n",
    "    [ ('noZF', '203bp_p53-Halo.noCre'),('noZF','203bp_p53-Halo.Cre')], \n",
    "        [ ('ZF43', '203bp_mGL-mCherry.noCre'),('ZF43','203bp_mGL-mCherry.Cre')], \n",
    "    [ ('ZF43', '203bp_HRAS-mCherry.noCre'),('ZF43','203bp_HRAS-mCherry.Cre')], \n",
    "    [ ('ZF43', '203bp_p53-Halo.noCre'),('ZF43','203bp_p53-Halo.Cre')], \n",
    "        [ ('ZF37', '203bp_mGL-mCherry.noCre'),('ZF37','203bp_mGL-mCherry.Cre')], \n",
    "    [ ('ZF37', '203bp_HRAS-mCherry.noCre'),('ZF37','203bp_HRAS-mCherry.Cre')], \n",
    "    [ ('ZF37', '203bp_p53-Halo.noCre'),('ZF37','203bp_p53-Halo.Cre')]\n",
    "]\n",
    "\n",
    "plottitle = 'TagBFP-A_gmean'\n",
    "g = plt.figure(figsize=(xsize,ysize))\n",
    "g = summary_plot( x=x, y=y, hue=hue, data=data_now, pairs=pairs, yscale =yscale,\n",
    "                    ylim = ylim, \n",
    "                x_rot=0, palette = palette, order=order, hue_order=hue_order, plottitle=plottitle)\n",
    "g.figure.savefig(figure_folder + plottitle + '.svg',dpi=300,bbox_inches='tight')"
   ]
  }
 ],
 "metadata": {
  "kernelspec": {
   "display_name": "newenv",
   "language": "python",
   "name": "python3"
  },
  "language_info": {
   "codemirror_mode": {
    "name": "ipython",
    "version": 3
   },
   "file_extension": ".py",
   "mimetype": "text/x-python",
   "name": "python",
   "nbconvert_exporter": "python",
   "pygments_lexer": "ipython3",
   "version": "3.9.1"
  }
 },
 "nbformat": 4,
 "nbformat_minor": 2
}
